{
  "nbformat": 4,
  "nbformat_minor": 0,
  "metadata": {
    "colab": {
      "name": "01_neural_network_regression_with_tensorflow_video.ipynb",
      "provenance": [],
      "collapsed_sections": [],
      "mount_file_id": "1x4C7uSVrFnK8ITDQz_IVJdafWX_MZl_e",
      "authorship_tag": "ABX9TyN7mrdEfblT9dwH2fY3NJ+q"
    },
    "kernelspec": {
      "name": "python3",
      "display_name": "Python 3"
    },
    "language_info": {
      "name": "python"
    }
  },
  "cells": [
    {
      "cell_type": "markdown",
      "source": [
        "# Introduction to regression with neautral networks in tensorflow\n",
        "\n",
        "There are many definitions for a regression problem but in our case we are going to simplify it.\n",
        "predicting a numerical variables base on other combination of variables, even shorter... predicting numbers"
      ],
      "metadata": {
        "id": "T54bQkqnOrqa"
      }
    },
    {
      "cell_type": "code",
      "source": [
        "# import tensorflow \n",
        "import tensorflow as tf\n",
        "print(tf.__version__)"
      ],
      "metadata": {
        "colab": {
          "base_uri": "https://localhost:8080/"
        },
        "id": "fBemJBeBQSgE",
        "outputId": "9c04c6be-2e4b-4877-9bea-141e13fa4747"
      },
      "execution_count": 1,
      "outputs": [
        {
          "output_type": "stream",
          "name": "stdout",
          "text": [
            "2.8.2\n"
          ]
        }
      ]
    },
    {
      "cell_type": "code",
      "source": [
        "import numpy as np\n",
        "import matplotlib.pyplot as plt\n",
        "\n"
      ],
      "metadata": {
        "id": "oQKOEvb6QqDV"
      },
      "execution_count": 2,
      "outputs": []
    },
    {
      "cell_type": "code",
      "source": [
        "# Create features\n",
        "x = np.array([-7.0, -4.0, -1.0, 2.0, 5.0, 8.0, 11.0, 14.0])\n",
        "\n",
        "#create labels for y\n",
        "y = np.array([3.0, 6.0, 9.0, 12.0, 15.0, 18.0, 21.0, 24.0])\n",
        "             \n",
        "# Visualize x and y\n",
        "plt.scatter(x,y)"
      ],
      "metadata": {
        "colab": {
          "base_uri": "https://localhost:8080/",
          "height": 286
        },
        "id": "WA9enyuDQz8j",
        "outputId": "06461dfc-642f-4bbe-807d-0c576519949d"
      },
      "execution_count": 3,
      "outputs": [
        {
          "output_type": "execute_result",
          "data": {
            "text/plain": [
              "<matplotlib.collections.PathCollection at 0x7f3e5328dd50>"
            ]
          },
          "metadata": {},
          "execution_count": 3
        },
        {
          "output_type": "display_data",
          "data": {
            "text/plain": [
              "<Figure size 432x288 with 1 Axes>"
            ],
            "image/png": "[encoded data removed]"
          },
          "metadata": {
            "needs_background": "light"
          }
        }
      ]
    },
    {
      "cell_type": "code",
      "source": [
        "y == x + 10"
      ],
      "metadata": {
        "colab": {
          "base_uri": "https://localhost:8080/"
        },
        "id": "32nceN7vRUX3",
        "outputId": "74e809f9-90ec-4338-e2aa-69fca0530e12"
      },
      "execution_count": 4,
      "outputs": [
        {
          "output_type": "execute_result",
          "data": {
            "text/plain": [
              "array([ True,  True,  True,  True,  True,  True,  True,  True])"
            ]
          },
          "metadata": {},
          "execution_count": 4
        }
      ]
    },
    {
      "cell_type": "markdown",
      "source": [
        "## input and output shapes\n",
        "\n"
      ],
      "metadata": {
        "id": "N1xTY1QkXxUj"
      }
    },
    {
      "cell_type": "code",
      "source": [
        "# create a demo tensor for our housing price prediction problem\n",
        "house_info = tf.constant(['bedroom', 'bathroom,', 'garage'])\n",
        "house_price = tf.constant([939700])\n",
        "\n",
        "house_info, house_price"
      ],
      "metadata": {
        "colab": {
          "base_uri": "https://localhost:8080/"
        },
        "id": "me658wRlX-yO",
        "outputId": "d5e216a4-7a74-4100-d147-880178e085d0"
      },
      "execution_count": 5,
      "outputs": [
        {
          "output_type": "execute_result",
          "data": {
            "text/plain": [
              "(<tf.Tensor: shape=(3,), dtype=string, numpy=array([b'bedroom', b'bathroom,', b'garage'], dtype=object)>,\n",
              " <tf.Tensor: shape=(1,), dtype=int32, numpy=array([939700], dtype=int32)>)"
            ]
          },
          "metadata": {},
          "execution_count": 5
        }
      ]
    },
    {
      "cell_type": "code",
      "source": [
        "x[0], y[0]"
      ],
      "metadata": {
        "colab": {
          "base_uri": "https://localhost:8080/"
        },
        "id": "0bM9YiBHY2a8",
        "outputId": "94350a44-8778-419d-ca12-38c22543c36e"
      },
      "execution_count": 6,
      "outputs": [
        {
          "output_type": "execute_result",
          "data": {
            "text/plain": [
              "(-7.0, 3.0)"
            ]
          },
          "metadata": {},
          "execution_count": 6
        }
      ]
    },
    {
      "cell_type": "code",
      "source": [
        "input_shape = x[0].shape\n",
        "output_shape = y[0].shape\n",
        "\n",
        "input_shape, output_shape"
      ],
      "metadata": {
        "colab": {
          "base_uri": "https://localhost:8080/"
        },
        "id": "bsWE1SqnYVQF",
        "outputId": "9b62f9a4-3d2f-44e0-a6e0-dd58ad240590"
      },
      "execution_count": 7,
      "outputs": [
        {
          "output_type": "execute_result",
          "data": {
            "text/plain": [
              "((), ())"
            ]
          },
          "metadata": {},
          "execution_count": 7
        }
      ]
    },
    {
      "cell_type": "code",
      "source": [
        "x[0].ndim"
      ],
      "metadata": {
        "colab": {
          "base_uri": "https://localhost:8080/"
        },
        "id": "vrQOYpl4Yy8X",
        "outputId": "81b8a71a-12f0-414e-f131-513763798344"
      },
      "execution_count": 8,
      "outputs": [
        {
          "output_type": "execute_result",
          "data": {
            "text/plain": [
              "0"
            ]
          },
          "metadata": {},
          "execution_count": 8
        }
      ]
    },
    {
      "cell_type": "code",
      "source": [
        "x[0], y[0]"
      ],
      "metadata": {
        "colab": {
          "base_uri": "https://localhost:8080/"
        },
        "id": "sTG8CH-hZD-k",
        "outputId": "c11932c8-8401-42b7-8a5b-46924797eec9"
      },
      "execution_count": 9,
      "outputs": [
        {
          "output_type": "execute_result",
          "data": {
            "text/plain": [
              "(-7.0, 3.0)"
            ]
          },
          "metadata": {},
          "execution_count": 9
        }
      ]
    },
    {
      "cell_type": "code",
      "source": [
        "# turn our numpy arrays to tensors\n",
        "x = tf.constant(x)\n",
        "y = tf.constant(y)\n",
        "x, y"
      ],
      "metadata": {
        "colab": {
          "base_uri": "https://localhost:8080/"
        },
        "id": "WQODuNx1ZIPb",
        "outputId": "0b071554-261c-43f6-d22b-a93de3ac04e6"
      },
      "execution_count": 10,
      "outputs": [
        {
          "output_type": "execute_result",
          "data": {
            "text/plain": [
              "(<tf.Tensor: shape=(8,), dtype=float64, numpy=array([-7., -4., -1.,  2.,  5.,  8., 11., 14.])>,\n",
              " <tf.Tensor: shape=(8,), dtype=float64, numpy=array([ 3.,  6.,  9., 12., 15., 18., 21., 24.])>)"
            ]
          },
          "metadata": {},
          "execution_count": 10
        }
      ]
    },
    {
      "cell_type": "code",
      "source": [
        "input_shape =x[0].shape\n",
        "output_shape = y[0].shape\n",
        "input_shape, output_shape"
      ],
      "metadata": {
        "colab": {
          "base_uri": "https://localhost:8080/"
        },
        "id": "F3MegA5cZpmk",
        "outputId": "7a4b794a-8f96-4a00-c753-466fdf36691b"
      },
      "execution_count": 11,
      "outputs": [
        {
          "output_type": "execute_result",
          "data": {
            "text/plain": [
              "(TensorShape([]), TensorShape([]))"
            ]
          },
          "metadata": {},
          "execution_count": 11
        }
      ]
    },
    {
      "cell_type": "markdown",
      "source": [
        "## steps in modelling with tensorflow\n",
        "\n",
        "1. create a model = define the input and output layers, as well as hidden layers of a deep learning model.\n",
        "2. compiling a model -  define the loss function(in other words, the function which tells our model how wrong it is) and the optimizer (tell our model how to improve the patterns its learning) and evaluation metrics (what we can use to interpret the performance of our model).\n",
        "3. fitting a model - letting the model try to find patterns between x and y (features and labels)"
      ],
      "metadata": {
        "id": "enasr6uOZ0lr"
      }
    },
    {
      "cell_type": "code",
      "source": [
        "# set random seed \n",
        "tf.random.set_seed(42)\n",
        "\n",
        "# 1. Create a model using the sequential API\n",
        "model = tf.keras.Sequential([tf.keras.layers.Dense(1)])\n",
        "\n",
        "# 2.  compile the model\n",
        "model.compile(loss= tf.keras.losses.mae, #mea is short for mean absolute error\n",
        "              optimizer = tf.keras.optimizers.SGD(), # sgd is short for stochastic gradient descent\n",
        "              metrics=['mae'])\n",
        "\n",
        "# 3. fit the model\n",
        "#model.fit(x,y, epochs = 5)\n",
        "model.fit(tf.expand_dims(x, axis=-1), y, epochs=5)\n",
        "\n"
      ],
      "metadata": {
        "colab": {
          "base_uri": "https://localhost:8080/"
        },
        "id": "VOUO13N4bH_m",
        "outputId": "3c1f888c-4a1c-4076-d8f7-e545398832e9"
      },
      "execution_count": 12,
      "outputs": [
        {
          "output_type": "stream",
          "name": "stdout",
          "text": [
            "Epoch 1/5\n",
            "1/1 [==============================] - 0s 456ms/step - loss: 11.5048 - mae: 11.5048\n",
            "Epoch 2/5\n",
            "1/1 [==============================] - 0s 7ms/step - loss: 11.3723 - mae: 11.3723\n",
            "Epoch 3/5\n",
            "1/1 [==============================] - 0s 6ms/step - loss: 11.2398 - mae: 11.2398\n",
            "Epoch 4/5\n",
            "1/1 [==============================] - 0s 6ms/step - loss: 11.1073 - mae: 11.1073\n",
            "Epoch 5/5\n",
            "1/1 [==============================] - 0s 6ms/step - loss: 10.9748 - mae: 10.9748\n"
          ]
        },
        {
          "output_type": "execute_result",
          "data": {
            "text/plain": [
              "<keras.callbacks.History at 0x7f3e4f013290>"
            ]
          },
          "metadata": {},
          "execution_count": 12
        }
      ]
    },
    {
      "cell_type": "code",
      "source": [
        "# check outx and y\n",
        "x, y"
      ],
      "metadata": {
        "colab": {
          "base_uri": "https://localhost:8080/"
        },
        "id": "rRvLnovKlUBN",
        "outputId": "753ce167-beef-48bd-f9e8-e56bbda33ca8"
      },
      "execution_count": 13,
      "outputs": [
        {
          "output_type": "execute_result",
          "data": {
            "text/plain": [
              "(<tf.Tensor: shape=(8,), dtype=float64, numpy=array([-7., -4., -1.,  2.,  5.,  8., 11., 14.])>,\n",
              " <tf.Tensor: shape=(8,), dtype=float64, numpy=array([ 3.,  6.,  9., 12., 15., 18., 21., 24.])>)"
            ]
          },
          "metadata": {},
          "execution_count": 13
        }
      ]
    },
    {
      "cell_type": "code",
      "source": [
        "# try and make prdictions using our model\n",
        "y_preds= model.predict([17.0])\n",
        "y_preds"
      ],
      "metadata": {
        "colab": {
          "base_uri": "https://localhost:8080/"
        },
        "id": "dWg1W51AmH7s",
        "outputId": "56e0a32d-2fb5-4512-a23e-e035ac2565df"
      },
      "execution_count": 14,
      "outputs": [
        {
          "output_type": "execute_result",
          "data": {
            "text/plain": [
              "array([[12.716021]], dtype=float32)"
            ]
          },
          "metadata": {},
          "execution_count": 14
        }
      ]
    },
    {
      "cell_type": "markdown",
      "source": [
        "# Improving our model\n",
        "\n",
        "we can improve our model, by altering the steps we took to create a model.\n",
        "\n",
        "1. creating a model - here we might add more layers, increase the number of hidden layers, change the activation function of each layer\n",
        "\n",
        "2. compiling a model - here we might change the optimization function or perhaps the **learning rate** of the optimization function\n",
        "\n",
        "3. fitting a model = here we might fit a model for more **epochs** (leave it training for longer) or no more data (give the model more examples to learn from)."
      ],
      "metadata": {
        "id": "xouM7Hnfmcnq"
      }
    },
    {
      "cell_type": "code",
      "source": [
        "# lets rebuild our model\n",
        "\n",
        "# 1. create the model\n",
        "model= tf.keras.Sequential([tf.keras.layers.Dense(1)])\n",
        "\n",
        "# 2. compile the model\n",
        "model.compile(loss=tf.keras.losses.mae,\n",
        "              optimizer = tf.keras.optimizers.SGD(),\n",
        "              metrics= ['mae'])\n",
        "\n",
        "# 3. fit the model\n",
        "#model.fit(x, y, epochs=100)\n",
        "model.fit(tf.expand_dims(x, axis=-1), y, epochs=100)"
      ],
      "metadata": {
        "colab": {
          "base_uri": "https://localhost:8080/"
        },
        "id": "Eh1OA9fpmzzR",
        "outputId": "06af0a7e-0f16-42bb-da2d-0443a50651f6"
      },
      "execution_count": 15,
      "outputs": [
        {
          "output_type": "stream",
          "name": "stdout",
          "text": [
            "Epoch 1/100\n",
            "1/1 [==============================] - 0s 276ms/step - loss: 11.2219 - mae: 11.2219\n",
            "Epoch 2/100\n",
            "1/1 [==============================] - 0s 7ms/step - loss: 11.0894 - mae: 11.0894\n",
            "Epoch 3/100\n",
            "1/1 [==============================] - 0s 6ms/step - loss: 10.9569 - mae: 10.9569\n",
            "Epoch 4/100\n",
            "1/1 [==============================] - 0s 6ms/step - loss: 10.8244 - mae: 10.8244\n",
            "Epoch 5/100\n",
            "1/1 [==============================] - 0s 6ms/step - loss: 10.6919 - mae: 10.6919\n",
            "Epoch 6/100\n",
            "1/1 [==============================] - 0s 6ms/step - loss: 10.5594 - mae: 10.5594\n",
            "Epoch 7/100\n",
            "1/1 [==============================] - 0s 5ms/step - loss: 10.4269 - mae: 10.4269\n",
            "Epoch 8/100\n",
            "1/1 [==============================] - 0s 6ms/step - loss: 10.2944 - mae: 10.2944\n",
            "Epoch 9/100\n",
            "1/1 [==============================] - 0s 7ms/step - loss: 10.1619 - mae: 10.1619\n",
            "Epoch 10/100\n",
            "1/1 [==============================] - 0s 5ms/step - loss: 10.0294 - mae: 10.0294\n",
            "Epoch 11/100\n",
            "1/1 [==============================] - 0s 5ms/step - loss: 9.8969 - mae: 9.8969\n",
            "Epoch 12/100\n",
            "1/1 [==============================] - 0s 5ms/step - loss: 9.7644 - mae: 9.7644\n",
            "Epoch 13/100\n",
            "1/1 [==============================] - 0s 5ms/step - loss: 9.6319 - mae: 9.6319\n",
            "Epoch 14/100\n",
            "1/1 [==============================] - 0s 5ms/step - loss: 9.4994 - mae: 9.4994\n",
            "Epoch 15/100\n",
            "1/1 [==============================] - 0s 5ms/step - loss: 9.3669 - mae: 9.3669\n",
            "Epoch 16/100\n",
            "1/1 [==============================] - 0s 5ms/step - loss: 9.2344 - mae: 9.2344\n",
            "Epoch 17/100\n",
            "1/1 [==============================] - 0s 5ms/step - loss: 9.1019 - mae: 9.1019\n",
            "Epoch 18/100\n",
            "1/1 [==============================] - 0s 5ms/step - loss: 8.9694 - mae: 8.9694\n",
            "Epoch 19/100\n",
            "1/1 [==============================] - 0s 5ms/step - loss: 8.8369 - mae: 8.8369\n",
            "Epoch 20/100\n",
            "1/1 [==============================] - 0s 5ms/step - loss: 8.7044 - mae: 8.7044\n",
            "Epoch 21/100\n",
            "1/1 [==============================] - 0s 5ms/step - loss: 8.5719 - mae: 8.5719\n",
            "Epoch 22/100\n",
            "1/1 [==============================] - 0s 5ms/step - loss: 8.4394 - mae: 8.4394\n",
            "Epoch 23/100\n",
            "1/1 [==============================] - 0s 5ms/step - loss: 8.3069 - mae: 8.3069\n",
            "Epoch 24/100\n",
            "1/1 [==============================] - 0s 5ms/step - loss: 8.1744 - mae: 8.1744\n",
            "Epoch 25/100\n",
            "1/1 [==============================] - 0s 5ms/step - loss: 8.0419 - mae: 8.0419\n",
            "Epoch 26/100\n",
            "1/1 [==============================] - 0s 5ms/step - loss: 7.9094 - mae: 7.9094\n",
            "Epoch 27/100\n",
            "1/1 [==============================] - 0s 5ms/step - loss: 7.7769 - mae: 7.7769\n",
            "Epoch 28/100\n",
            "1/1 [==============================] - 0s 5ms/step - loss: 7.6444 - mae: 7.6444\n",
            "Epoch 29/100\n",
            "1/1 [==============================] - 0s 5ms/step - loss: 7.5119 - mae: 7.5119\n",
            "Epoch 30/100\n",
            "1/1 [==============================] - 0s 5ms/step - loss: 7.3794 - mae: 7.3794\n",
            "Epoch 31/100\n",
            "1/1 [==============================] - 0s 5ms/step - loss: 7.2750 - mae: 7.2750\n",
            "Epoch 32/100\n",
            "1/1 [==============================] - 0s 5ms/step - loss: 7.2694 - mae: 7.2694\n",
            "Epoch 33/100\n",
            "1/1 [==============================] - 0s 5ms/step - loss: 7.2638 - mae: 7.2638\n",
            "Epoch 34/100\n",
            "1/1 [==============================] - 0s 5ms/step - loss: 7.2581 - mae: 7.2581\n",
            "Epoch 35/100\n",
            "1/1 [==============================] - 0s 5ms/step - loss: 7.2525 - mae: 7.2525\n",
            "Epoch 36/100\n",
            "1/1 [==============================] - 0s 5ms/step - loss: 7.2469 - mae: 7.2469\n",
            "Epoch 37/100\n",
            "1/1 [==============================] - 0s 6ms/step - loss: 7.2412 - mae: 7.2412\n",
            "Epoch 38/100\n",
            "1/1 [==============================] - 0s 5ms/step - loss: 7.2356 - mae: 7.2356\n",
            "Epoch 39/100\n",
            "1/1 [==============================] - 0s 5ms/step - loss: 7.2300 - mae: 7.2300\n",
            "Epoch 40/100\n",
            "1/1 [==============================] - 0s 5ms/step - loss: 7.2244 - mae: 7.2244\n",
            "Epoch 41/100\n",
            "1/1 [==============================] - 0s 5ms/step - loss: 7.2188 - mae: 7.2188\n",
            "Epoch 42/100\n",
            "1/1 [==============================] - 0s 5ms/step - loss: 7.2131 - mae: 7.2131\n",
            "Epoch 43/100\n",
            "1/1 [==============================] - 0s 5ms/step - loss: 7.2075 - mae: 7.2075\n",
            "Epoch 44/100\n",
            "1/1 [==============================] - 0s 6ms/step - loss: 7.2019 - mae: 7.2019\n",
            "Epoch 45/100\n",
            "1/1 [==============================] - 0s 5ms/step - loss: 7.1962 - mae: 7.1962\n",
            "Epoch 46/100\n",
            "1/1 [==============================] - 0s 5ms/step - loss: 7.1906 - mae: 7.1906\n",
            "Epoch 47/100\n",
            "1/1 [==============================] - 0s 5ms/step - loss: 7.1850 - mae: 7.1850\n",
            "Epoch 48/100\n",
            "1/1 [==============================] - 0s 5ms/step - loss: 7.1794 - mae: 7.1794\n",
            "Epoch 49/100\n",
            "1/1 [==============================] - 0s 5ms/step - loss: 7.1737 - mae: 7.1737\n",
            "Epoch 50/100\n",
            "1/1 [==============================] - 0s 5ms/step - loss: 7.1681 - mae: 7.1681\n",
            "Epoch 51/100\n",
            "1/1 [==============================] - 0s 5ms/step - loss: 7.1625 - mae: 7.1625\n",
            "Epoch 52/100\n",
            "1/1 [==============================] - 0s 5ms/step - loss: 7.1569 - mae: 7.1569\n",
            "Epoch 53/100\n",
            "1/1 [==============================] - 0s 5ms/step - loss: 7.1512 - mae: 7.1512\n",
            "Epoch 54/100\n",
            "1/1 [==============================] - 0s 5ms/step - loss: 7.1456 - mae: 7.1456\n",
            "Epoch 55/100\n",
            "1/1 [==============================] - 0s 5ms/step - loss: 7.1400 - mae: 7.1400\n",
            "Epoch 56/100\n",
            "1/1 [==============================] - 0s 5ms/step - loss: 7.1344 - mae: 7.1344\n",
            "Epoch 57/100\n",
            "1/1 [==============================] - 0s 5ms/step - loss: 7.1287 - mae: 7.1287\n",
            "Epoch 58/100\n",
            "1/1 [==============================] - 0s 5ms/step - loss: 7.1231 - mae: 7.1231\n",
            "Epoch 59/100\n",
            "1/1 [==============================] - 0s 5ms/step - loss: 7.1175 - mae: 7.1175\n",
            "Epoch 60/100\n",
            "1/1 [==============================] - 0s 5ms/step - loss: 7.1119 - mae: 7.1119\n",
            "Epoch 61/100\n",
            "1/1 [==============================] - 0s 7ms/step - loss: 7.1062 - mae: 7.1062\n",
            "Epoch 62/100\n",
            "1/1 [==============================] - 0s 5ms/step - loss: 7.1006 - mae: 7.1006\n",
            "Epoch 63/100\n",
            "1/1 [==============================] - 0s 5ms/step - loss: 7.0950 - mae: 7.0950\n",
            "Epoch 64/100\n",
            "1/1 [==============================] - 0s 25ms/step - loss: 7.0894 - mae: 7.0894\n",
            "Epoch 65/100\n",
            "1/1 [==============================] - 0s 5ms/step - loss: 7.0838 - mae: 7.0838\n",
            "Epoch 66/100\n",
            "1/1 [==============================] - 0s 17ms/step - loss: 7.0781 - mae: 7.0781\n",
            "Epoch 67/100\n",
            "1/1 [==============================] - 0s 11ms/step - loss: 7.0725 - mae: 7.0725\n",
            "Epoch 68/100\n",
            "1/1 [==============================] - 0s 10ms/step - loss: 7.0669 - mae: 7.0669\n",
            "Epoch 69/100\n",
            "1/1 [==============================] - 0s 7ms/step - loss: 7.0613 - mae: 7.0613\n",
            "Epoch 70/100\n",
            "1/1 [==============================] - 0s 5ms/step - loss: 7.0556 - mae: 7.0556\n",
            "Epoch 71/100\n",
            "1/1 [==============================] - 0s 5ms/step - loss: 7.0500 - mae: 7.0500\n",
            "Epoch 72/100\n",
            "1/1 [==============================] - 0s 5ms/step - loss: 7.0444 - mae: 7.0444\n",
            "Epoch 73/100\n",
            "1/1 [==============================] - 0s 6ms/step - loss: 7.0388 - mae: 7.0388\n",
            "Epoch 74/100\n",
            "1/1 [==============================] - 0s 14ms/step - loss: 7.0331 - mae: 7.0331\n",
            "Epoch 75/100\n",
            "1/1 [==============================] - 0s 11ms/step - loss: 7.0275 - mae: 7.0275\n",
            "Epoch 76/100\n",
            "1/1 [==============================] - 0s 8ms/step - loss: 7.0219 - mae: 7.0219\n",
            "Epoch 77/100\n",
            "1/1 [==============================] - 0s 9ms/step - loss: 7.0163 - mae: 7.0163\n",
            "Epoch 78/100\n",
            "1/1 [==============================] - 0s 20ms/step - loss: 7.0106 - mae: 7.0106\n",
            "Epoch 79/100\n",
            "1/1 [==============================] - 0s 11ms/step - loss: 7.0050 - mae: 7.0050\n",
            "Epoch 80/100\n",
            "1/1 [==============================] - 0s 12ms/step - loss: 6.9994 - mae: 6.9994\n",
            "Epoch 81/100\n",
            "1/1 [==============================] - 0s 12ms/step - loss: 6.9938 - mae: 6.9938\n",
            "Epoch 82/100\n",
            "1/1 [==============================] - 0s 11ms/step - loss: 6.9881 - mae: 6.9881\n",
            "Epoch 83/100\n",
            "1/1 [==============================] - 0s 13ms/step - loss: 6.9825 - mae: 6.9825\n",
            "Epoch 84/100\n",
            "1/1 [==============================] - 0s 11ms/step - loss: 6.9769 - mae: 6.9769\n",
            "Epoch 85/100\n",
            "1/1 [==============================] - 0s 12ms/step - loss: 6.9713 - mae: 6.9713\n",
            "Epoch 86/100\n",
            "1/1 [==============================] - 0s 15ms/step - loss: 6.9656 - mae: 6.9656\n",
            "Epoch 87/100\n",
            "1/1 [==============================] - 0s 13ms/step - loss: 6.9600 - mae: 6.9600\n",
            "Epoch 88/100\n",
            "1/1 [==============================] - 0s 7ms/step - loss: 6.9544 - mae: 6.9544\n",
            "Epoch 89/100\n",
            "1/1 [==============================] - 0s 11ms/step - loss: 6.9488 - mae: 6.9488\n",
            "Epoch 90/100\n",
            "1/1 [==============================] - 0s 5ms/step - loss: 6.9431 - mae: 6.9431\n",
            "Epoch 91/100\n",
            "1/1 [==============================] - 0s 6ms/step - loss: 6.9375 - mae: 6.9375\n",
            "Epoch 92/100\n",
            "1/1 [==============================] - 0s 5ms/step - loss: 6.9319 - mae: 6.9319\n",
            "Epoch 93/100\n",
            "1/1 [==============================] - 0s 11ms/step - loss: 6.9263 - mae: 6.9263\n",
            "Epoch 94/100\n",
            "1/1 [==============================] - 0s 11ms/step - loss: 6.9206 - mae: 6.9206\n",
            "Epoch 95/100\n",
            "1/1 [==============================] - 0s 11ms/step - loss: 6.9150 - mae: 6.9150\n",
            "Epoch 96/100\n",
            "1/1 [==============================] - 0s 11ms/step - loss: 6.9094 - mae: 6.9094\n",
            "Epoch 97/100\n",
            "1/1 [==============================] - 0s 8ms/step - loss: 6.9038 - mae: 6.9038\n",
            "Epoch 98/100\n",
            "1/1 [==============================] - 0s 9ms/step - loss: 6.8981 - mae: 6.8981\n",
            "Epoch 99/100\n",
            "1/1 [==============================] - 0s 8ms/step - loss: 6.8925 - mae: 6.8925\n",
            "Epoch 100/100\n",
            "1/1 [==============================] - 0s 8ms/step - loss: 6.8869 - mae: 6.8869\n"
          ]
        },
        {
          "output_type": "execute_result",
          "data": {
            "text/plain": [
              "<keras.callbacks.History at 0x7f3e4d744b50>"
            ]
          },
          "metadata": {},
          "execution_count": 15
        }
      ]
    },
    {
      "cell_type": "code",
      "source": [
        "# lets see if our model has prediction has improved\n",
        "model.predict([17.0])"
      ],
      "metadata": {
        "colab": {
          "base_uri": "https://localhost:8080/"
        },
        "id": "KZ-vRqtDpd3F",
        "outputId": "9fc9b516-4172-438c-fe26-4b29fd740c39"
      },
      "execution_count": 16,
      "outputs": [
        {
          "output_type": "execute_result",
          "data": {
            "text/plain": [
              "array([[29.739855]], dtype=float32)"
            ]
          },
          "metadata": {},
          "execution_count": 16
        }
      ]
    },
    {
      "cell_type": "code",
      "source": [
        "## lets see if we can add more adjustment with extra hidden layer with 100 hidden units\n",
        "\n",
        "# 1. create the model\n",
        "model= tf.keras.Sequential([tf.keras.layers.Dense(50, activation =None),\n",
        "                            tf.keras.layers.Dense(1)])\n",
        "\n",
        "# 2. compile the model\n",
        "model.compile(loss='mae',\n",
        "              optimizer = tf.keras.optimizers.Adam(lr= 0.01),\n",
        "              metrics= ['mae'])\n",
        "\n",
        "# 3. fit the model\n",
        "#model.fit(x, y, epochs=100)\n",
        "model.fit(tf.expand_dims(x, axis=-1), y, epochs=100)"
      ],
      "metadata": {
        "colab": {
          "base_uri": "https://localhost:8080/"
        },
        "id": "CKPR6bkRp4qm",
        "outputId": "575f1045-2da2-4634-8d48-4a196fb531ed"
      },
      "execution_count": 17,
      "outputs": [
        {
          "output_type": "stream",
          "name": "stdout",
          "text": [
            "Epoch 1/100\n"
          ]
        },
        {
          "output_type": "stream",
          "name": "stderr",
          "text": [
            "/usr/local/lib/python3.7/dist-packages/keras/optimizer_v2/adam.py:105: UserWarning: The `lr` argument is deprecated, use `learning_rate` instead.\n",
            "  super(Adam, self).__init__(name, **kwargs)\n"
          ]
        },
        {
          "output_type": "stream",
          "name": "stdout",
          "text": [
            "1/1 [==============================] - 0s 432ms/step - loss: 11.7682 - mae: 11.7682\n",
            "Epoch 2/100\n",
            "1/1 [==============================] - 0s 7ms/step - loss: 11.0963 - mae: 11.0963\n",
            "Epoch 3/100\n",
            "1/1 [==============================] - 0s 7ms/step - loss: 10.4150 - mae: 10.4150\n",
            "Epoch 4/100\n",
            "1/1 [==============================] - 0s 6ms/step - loss: 9.7212 - mae: 9.7212\n",
            "Epoch 5/100\n",
            "1/1 [==============================] - 0s 6ms/step - loss: 9.0104 - mae: 9.0104\n",
            "Epoch 6/100\n",
            "1/1 [==============================] - 0s 6ms/step - loss: 8.2778 - mae: 8.2778\n",
            "Epoch 7/100\n",
            "1/1 [==============================] - 0s 5ms/step - loss: 7.5198 - mae: 7.5198\n",
            "Epoch 8/100\n",
            "1/1 [==============================] - 0s 5ms/step - loss: 6.9648 - mae: 6.9648\n",
            "Epoch 9/100\n",
            "1/1 [==============================] - 0s 5ms/step - loss: 7.0672 - mae: 7.0672\n",
            "Epoch 10/100\n",
            "1/1 [==============================] - 0s 5ms/step - loss: 7.3315 - mae: 7.3315\n",
            "Epoch 11/100\n",
            "1/1 [==============================] - 0s 8ms/step - loss: 7.4673 - mae: 7.4673\n",
            "Epoch 12/100\n",
            "1/1 [==============================] - 0s 7ms/step - loss: 7.5285 - mae: 7.5285\n",
            "Epoch 13/100\n",
            "1/1 [==============================] - 0s 5ms/step - loss: 7.4011 - mae: 7.4011\n",
            "Epoch 14/100\n",
            "1/1 [==============================] - 0s 5ms/step - loss: 7.1923 - mae: 7.1923\n",
            "Epoch 15/100\n",
            "1/1 [==============================] - 0s 5ms/step - loss: 6.9575 - mae: 6.9575\n",
            "Epoch 16/100\n",
            "1/1 [==============================] - 0s 5ms/step - loss: 6.6953 - mae: 6.6953\n",
            "Epoch 17/100\n",
            "1/1 [==============================] - 0s 6ms/step - loss: 6.4127 - mae: 6.4127\n",
            "Epoch 18/100\n",
            "1/1 [==============================] - 0s 5ms/step - loss: 6.3048 - mae: 6.3048\n",
            "Epoch 19/100\n",
            "1/1 [==============================] - 0s 5ms/step - loss: 6.2575 - mae: 6.2575\n",
            "Epoch 20/100\n",
            "1/1 [==============================] - 0s 5ms/step - loss: 6.3982 - mae: 6.3982\n",
            "Epoch 21/100\n",
            "1/1 [==============================] - 0s 5ms/step - loss: 6.4551 - mae: 6.4551\n",
            "Epoch 22/100\n",
            "1/1 [==============================] - 0s 8ms/step - loss: 6.4000 - mae: 6.4000\n",
            "Epoch 23/100\n",
            "1/1 [==============================] - 0s 7ms/step - loss: 6.2482 - mae: 6.2482\n",
            "Epoch 24/100\n",
            "1/1 [==============================] - 0s 5ms/step - loss: 6.0105 - mae: 6.0105\n",
            "Epoch 25/100\n",
            "1/1 [==============================] - 0s 7ms/step - loss: 5.7876 - mae: 5.7876\n",
            "Epoch 26/100\n",
            "1/1 [==============================] - 0s 5ms/step - loss: 5.6809 - mae: 5.6809\n",
            "Epoch 27/100\n",
            "1/1 [==============================] - 0s 5ms/step - loss: 5.5715 - mae: 5.5715\n",
            "Epoch 28/100\n",
            "1/1 [==============================] - 0s 5ms/step - loss: 5.6122 - mae: 5.6122\n",
            "Epoch 29/100\n",
            "1/1 [==============================] - 0s 5ms/step - loss: 5.6074 - mae: 5.6074\n",
            "Epoch 30/100\n",
            "1/1 [==============================] - 0s 5ms/step - loss: 5.5541 - mae: 5.5541\n",
            "Epoch 31/100\n",
            "1/1 [==============================] - 0s 5ms/step - loss: 5.4568 - mae: 5.4568\n",
            "Epoch 32/100\n",
            "1/1 [==============================] - 0s 5ms/step - loss: 5.3199 - mae: 5.3199\n",
            "Epoch 33/100\n",
            "1/1 [==============================] - 0s 5ms/step - loss: 5.1477 - mae: 5.1477\n",
            "Epoch 34/100\n",
            "1/1 [==============================] - 0s 5ms/step - loss: 4.9442 - mae: 4.9442\n",
            "Epoch 35/100\n",
            "1/1 [==============================] - 0s 5ms/step - loss: 4.8239 - mae: 4.8239\n",
            "Epoch 36/100\n",
            "1/1 [==============================] - 0s 5ms/step - loss: 4.7389 - mae: 4.7389\n",
            "Epoch 37/100\n",
            "1/1 [==============================] - 0s 5ms/step - loss: 4.6657 - mae: 4.6657\n",
            "Epoch 38/100\n",
            "1/1 [==============================] - 0s 5ms/step - loss: 4.5846 - mae: 4.5846\n",
            "Epoch 39/100\n",
            "1/1 [==============================] - 0s 5ms/step - loss: 4.4027 - mae: 4.4027\n",
            "Epoch 40/100\n",
            "1/1 [==============================] - 0s 6ms/step - loss: 4.2653 - mae: 4.2653\n",
            "Epoch 41/100\n",
            "1/1 [==============================] - 0s 5ms/step - loss: 4.1212 - mae: 4.1212\n",
            "Epoch 42/100\n",
            "1/1 [==============================] - 0s 5ms/step - loss: 3.9702 - mae: 3.9702\n",
            "Epoch 43/100\n",
            "1/1 [==============================] - 0s 5ms/step - loss: 3.8272 - mae: 3.8272\n",
            "Epoch 44/100\n",
            "1/1 [==============================] - 0s 5ms/step - loss: 3.7041 - mae: 3.7041\n",
            "Epoch 45/100\n",
            "1/1 [==============================] - 0s 9ms/step - loss: 3.5320 - mae: 3.5320\n",
            "Epoch 46/100\n",
            "1/1 [==============================] - 0s 5ms/step - loss: 3.3664 - mae: 3.3664\n",
            "Epoch 47/100\n",
            "1/1 [==============================] - 0s 5ms/step - loss: 3.2116 - mae: 3.2116\n",
            "Epoch 48/100\n",
            "1/1 [==============================] - 0s 5ms/step - loss: 3.0463 - mae: 3.0463\n",
            "Epoch 49/100\n",
            "1/1 [==============================] - 0s 5ms/step - loss: 2.8705 - mae: 2.8705\n",
            "Epoch 50/100\n",
            "1/1 [==============================] - 0s 5ms/step - loss: 2.6840 - mae: 2.6840\n",
            "Epoch 51/100\n",
            "1/1 [==============================] - 0s 5ms/step - loss: 2.4868 - mae: 2.4868\n",
            "Epoch 52/100\n",
            "1/1 [==============================] - 0s 5ms/step - loss: 2.2787 - mae: 2.2787\n",
            "Epoch 53/100\n",
            "1/1 [==============================] - 0s 5ms/step - loss: 2.0596 - mae: 2.0596\n",
            "Epoch 54/100\n",
            "1/1 [==============================] - 0s 5ms/step - loss: 1.8293 - mae: 1.8293\n",
            "Epoch 55/100\n",
            "1/1 [==============================] - 0s 5ms/step - loss: 1.5876 - mae: 1.5876\n",
            "Epoch 56/100\n",
            "1/1 [==============================] - 0s 10ms/step - loss: 1.3530 - mae: 1.3530\n",
            "Epoch 57/100\n",
            "1/1 [==============================] - 0s 5ms/step - loss: 1.0849 - mae: 1.0849\n",
            "Epoch 58/100\n",
            "1/1 [==============================] - 0s 5ms/step - loss: 0.8224 - mae: 0.8224\n",
            "Epoch 59/100\n",
            "1/1 [==============================] - 0s 5ms/step - loss: 0.5467 - mae: 0.5467\n",
            "Epoch 60/100\n",
            "1/1 [==============================] - 0s 5ms/step - loss: 0.2758 - mae: 0.2758\n",
            "Epoch 61/100\n",
            "1/1 [==============================] - 0s 8ms/step - loss: 0.1354 - mae: 0.1354\n",
            "Epoch 62/100\n",
            "1/1 [==============================] - 0s 5ms/step - loss: 0.4494 - mae: 0.4494\n",
            "Epoch 63/100\n",
            "1/1 [==============================] - 0s 5ms/step - loss: 0.6498 - mae: 0.6498\n",
            "Epoch 64/100\n",
            "1/1 [==============================] - 0s 5ms/step - loss: 0.6216 - mae: 0.6216\n",
            "Epoch 65/100\n",
            "1/1 [==============================] - 0s 5ms/step - loss: 0.8036 - mae: 0.8036\n",
            "Epoch 66/100\n",
            "1/1 [==============================] - 0s 5ms/step - loss: 0.7995 - mae: 0.7995\n",
            "Epoch 67/100\n",
            "1/1 [==============================] - 0s 5ms/step - loss: 0.7409 - mae: 0.7409\n",
            "Epoch 68/100\n",
            "1/1 [==============================] - 0s 5ms/step - loss: 0.7806 - mae: 0.7806\n",
            "Epoch 69/100\n",
            "1/1 [==============================] - 0s 5ms/step - loss: 0.6305 - mae: 0.6305\n",
            "Epoch 70/100\n",
            "1/1 [==============================] - 0s 5ms/step - loss: 0.5556 - mae: 0.5556\n",
            "Epoch 71/100\n",
            "1/1 [==============================] - 0s 5ms/step - loss: 0.4306 - mae: 0.4306\n",
            "Epoch 72/100\n",
            "1/1 [==============================] - 0s 6ms/step - loss: 0.2786 - mae: 0.2786\n",
            "Epoch 73/100\n",
            "1/1 [==============================] - 0s 5ms/step - loss: 0.1378 - mae: 0.1378\n",
            "Epoch 74/100\n",
            "1/1 [==============================] - 0s 5ms/step - loss: 0.1193 - mae: 0.1193\n",
            "Epoch 75/100\n",
            "1/1 [==============================] - 0s 5ms/step - loss: 0.2777 - mae: 0.2777\n",
            "Epoch 76/100\n",
            "1/1 [==============================] - 0s 5ms/step - loss: 0.3245 - mae: 0.3245\n",
            "Epoch 77/100\n",
            "1/1 [==============================] - 0s 5ms/step - loss: 0.4157 - mae: 0.4157\n",
            "Epoch 78/100\n",
            "1/1 [==============================] - 0s 5ms/step - loss: 0.4319 - mae: 0.4319\n",
            "Epoch 79/100\n",
            "1/1 [==============================] - 0s 5ms/step - loss: 0.3391 - mae: 0.3391\n",
            "Epoch 80/100\n",
            "1/1 [==============================] - 0s 5ms/step - loss: 0.2968 - mae: 0.2968\n",
            "Epoch 81/100\n",
            "1/1 [==============================] - 0s 5ms/step - loss: 0.2355 - mae: 0.2355\n",
            "Epoch 82/100\n",
            "1/1 [==============================] - 0s 5ms/step - loss: 0.1633 - mae: 0.1633\n",
            "Epoch 83/100\n",
            "1/1 [==============================] - 0s 5ms/step - loss: 0.1339 - mae: 0.1339\n",
            "Epoch 84/100\n",
            "1/1 [==============================] - 0s 5ms/step - loss: 0.1262 - mae: 0.1262\n",
            "Epoch 85/100\n",
            "1/1 [==============================] - 0s 5ms/step - loss: 0.1702 - mae: 0.1702\n",
            "Epoch 86/100\n",
            "1/1 [==============================] - 0s 5ms/step - loss: 0.2124 - mae: 0.2124\n",
            "Epoch 87/100\n",
            "1/1 [==============================] - 0s 5ms/step - loss: 0.2288 - mae: 0.2288\n",
            "Epoch 88/100\n",
            "1/1 [==============================] - 0s 5ms/step - loss: 0.1901 - mae: 0.1901\n",
            "Epoch 89/100\n",
            "1/1 [==============================] - 0s 8ms/step - loss: 0.1354 - mae: 0.1354\n",
            "Epoch 90/100\n",
            "1/1 [==============================] - 0s 5ms/step - loss: 0.1218 - mae: 0.1218\n",
            "Epoch 91/100\n",
            "1/1 [==============================] - 0s 5ms/step - loss: 0.0382 - mae: 0.0382\n",
            "Epoch 92/100\n",
            "1/1 [==============================] - 0s 5ms/step - loss: 0.2197 - mae: 0.2197\n",
            "Epoch 93/100\n",
            "1/1 [==============================] - 0s 5ms/step - loss: 0.2189 - mae: 0.2189\n",
            "Epoch 94/100\n",
            "1/1 [==============================] - 0s 5ms/step - loss: 0.1427 - mae: 0.1427\n",
            "Epoch 95/100\n",
            "1/1 [==============================] - 0s 5ms/step - loss: 0.1168 - mae: 0.1168\n",
            "Epoch 96/100\n",
            "1/1 [==============================] - 0s 5ms/step - loss: 0.2069 - mae: 0.2069\n",
            "Epoch 97/100\n",
            "1/1 [==============================] - 0s 7ms/step - loss: 0.1524 - mae: 0.1524\n",
            "Epoch 98/100\n",
            "1/1 [==============================] - 0s 5ms/step - loss: 0.2133 - mae: 0.2133\n",
            "Epoch 99/100\n",
            "1/1 [==============================] - 0s 12ms/step - loss: 0.2329 - mae: 0.2329\n",
            "Epoch 100/100\n",
            "1/1 [==============================] - 0s 5ms/step - loss: 0.0780 - mae: 0.0780\n"
          ]
        },
        {
          "output_type": "execute_result",
          "data": {
            "text/plain": [
              "<keras.callbacks.History at 0x7f3e4ee0f510>"
            ]
          },
          "metadata": {},
          "execution_count": 17
        }
      ]
    },
    {
      "cell_type": "code",
      "source": [
        "# lets try to make prediction\n",
        "model.predict([17.0])"
      ],
      "metadata": {
        "colab": {
          "base_uri": "https://localhost:8080/"
        },
        "id": "r-TVnclhq_uS",
        "outputId": "30a38c2a-de77-4a3e-9acc-e32ba3b47f0a"
      },
      "execution_count": 18,
      "outputs": [
        {
          "output_type": "execute_result",
          "data": {
            "text/plain": [
              "array([[26.58353]], dtype=float32)"
            ]
          },
          "metadata": {},
          "execution_count": 18
        }
      ]
    },
    {
      "cell_type": "markdown",
      "source": [
        "## Evaluting a model\n",
        "\n",
        "in pratice, a typical workflow you will go through when building neautral networks is:\n",
        "\n",
        "build a model => fit it => evaluate it => tweak a model => fit it => evaluate it => tweak it => fit it => evaluate it...."
      ],
      "metadata": {
        "id": "fX7C8wKdrS1B"
      }
    },
    {
      "cell_type": "markdown",
      "source": [
        "when it comes to evaluation ... there are 3 words you should memorize:\n",
        "\n",
        "> 'Visualize, visualize, visualize'\n",
        "\n",
        "its a good idea to visualize:\n",
        "\n",
        "* The data - what data are we working with? what does it look like?\n",
        "* The model itself - what does our model look like?\n",
        "* The praining of model - how does a model perform while it learns?\n",
        "* The predicitions of the model - how do the predictions of a model line up against the ground truth (the original labels)?"
      ],
      "metadata": {
        "id": "c3vryOFUsW0v"
      }
    },
    {
      "cell_type": "code",
      "source": [
        "# make a bigger dataset\n",
        "x = tf.range(-100, 100 , 4)\n",
        "x"
      ],
      "metadata": {
        "colab": {
          "base_uri": "https://localhost:8080/"
        },
        "id": "Ycs2nRj3uKUd",
        "outputId": "45776fe8-3891-4111-cd57-fe339fb69633"
      },
      "execution_count": 19,
      "outputs": [
        {
          "output_type": "execute_result",
          "data": {
            "text/plain": [
              "<tf.Tensor: shape=(50,), dtype=int32, numpy=\n",
              "array([-100,  -96,  -92,  -88,  -84,  -80,  -76,  -72,  -68,  -64,  -60,\n",
              "        -56,  -52,  -48,  -44,  -40,  -36,  -32,  -28,  -24,  -20,  -16,\n",
              "        -12,   -8,   -4,    0,    4,    8,   12,   16,   20,   24,   28,\n",
              "         32,   36,   40,   44,   48,   52,   56,   60,   64,   68,   72,\n",
              "         76,   80,   84,   88,   92,   96], dtype=int32)>"
            ]
          },
          "metadata": {},
          "execution_count": 19
        }
      ]
    },
    {
      "cell_type": "code",
      "source": [
        "y = x + 10\n",
        "y"
      ],
      "metadata": {
        "colab": {
          "base_uri": "https://localhost:8080/"
        },
        "id": "Ci6BzX0duYS9",
        "outputId": "21af2f50-185a-4baf-ee01-531c9124f1e0"
      },
      "execution_count": 20,
      "outputs": [
        {
          "output_type": "execute_result",
          "data": {
            "text/plain": [
              "<tf.Tensor: shape=(50,), dtype=int32, numpy=\n",
              "array([-90, -86, -82, -78, -74, -70, -66, -62, -58, -54, -50, -46, -42,\n",
              "       -38, -34, -30, -26, -22, -18, -14, -10,  -6,  -2,   2,   6,  10,\n",
              "        14,  18,  22,  26,  30,  34,  38,  42,  46,  50,  54,  58,  62,\n",
              "        66,  70,  74,  78,  82,  86,  90,  94,  98, 102, 106], dtype=int32)>"
            ]
          },
          "metadata": {},
          "execution_count": 20
        }
      ]
    },
    {
      "cell_type": "code",
      "source": [
        "# visualize the data\n",
        "import matplotlib.pyplot as plt\n",
        "\n",
        "plt.scatter(x, y)"
      ],
      "metadata": {
        "colab": {
          "base_uri": "https://localhost:8080/",
          "height": 282
        },
        "id": "hMmEO7nQuebB",
        "outputId": "b502bd41-c3a0-4c2c-a37b-2c92471259ae"
      },
      "execution_count": 21,
      "outputs": [
        {
          "output_type": "execute_result",
          "data": {
            "text/plain": [
              "<matplotlib.collections.PathCollection at 0x7f3e5328db90>"
            ]
          },
          "metadata": {},
          "execution_count": 21
        },
        {
          "output_type": "display_data",
          "data": {
            "text/plain": [
              "<Figure size 432x288 with 1 Axes>"
            ],
            "image/png": "[encoded data removed]"
          },
          "metadata": {
            "needs_background": "light"
          }
        }
      ]
    },
    {
      "cell_type": "markdown",
      "source": [
        "## The 3 steps.... \n",
        "\n",
        "* Training set - the model learns from the data, which is typically 70-80% of the total\n",
        "data you have available.\n",
        "* validation set - the model gets tuned on this data, which is typically 10-15% of the data available\n",
        "* test set-  the model gets evaluated on this data to test what it has learned, this set is typically 10-15% of the total data available\n"
      ],
      "metadata": {
        "id": "Mv8tquH-urOL"
      }
    },
    {
      "cell_type": "code",
      "source": [
        "# check the length of how many samples we have\n",
        "len(x)"
      ],
      "metadata": {
        "colab": {
          "base_uri": "https://localhost:8080/"
        },
        "id": "zZfYtYXUvsc5",
        "outputId": "6d2b6919-7a72-4bd9-cdce-69398e86c5cc"
      },
      "execution_count": 22,
      "outputs": [
        {
          "output_type": "execute_result",
          "data": {
            "text/plain": [
              "50"
            ]
          },
          "metadata": {},
          "execution_count": 22
        }
      ]
    },
    {
      "cell_type": "code",
      "source": [
        "# split the data into train and test sets\n",
        "x_train = x[:40] # first 40 are training (80% of the data)\n",
        "y_train = y[:40]\n",
        "\n",
        "x_test = x[40:]  # last 10 are testing samples (20% of the data)\n",
        "y_test = y[40:]\n",
        "\n",
        "len(x_train), len(x_test), len(y_train), len(y_test)"
      ],
      "metadata": {
        "colab": {
          "base_uri": "https://localhost:8080/"
        },
        "id": "jRahgG-7wCwA",
        "outputId": "160e88be-2a66-4ca1-c8e8-4c9e6a1f80a0"
      },
      "execution_count": 23,
      "outputs": [
        {
          "output_type": "execute_result",
          "data": {
            "text/plain": [
              "(40, 10, 40, 10)"
            ]
          },
          "metadata": {},
          "execution_count": 23
        }
      ]
    },
    {
      "cell_type": "markdown",
      "source": [
        "### Visualizing the data\n",
        "Now we va got out data in training and test sets... lets visualize  it again!"
      ],
      "metadata": {
        "id": "IzJTztFkwrvH"
      }
    },
    {
      "cell_type": "code",
      "source": [
        "plt.figure(figsize= (10, 7))\n",
        "# plot training data in blue\n",
        "plt.scatter(x_train, y_train, c='b', label='Training data')\n",
        "#plot test data in green\n",
        "plt.scatter(x_test, y_test, c='g', label= 'Testing data')\n",
        "# show legend\n",
        "plt.legend();"
      ],
      "metadata": {
        "colab": {
          "base_uri": "https://localhost:8080/",
          "height": 428
        },
        "id": "HUHZ0mXDxG2O",
        "outputId": "6bedc0b6-ed26-4b59-c85f-642de94c0561"
      },
      "execution_count": 24,
      "outputs": [
        {
          "output_type": "display_data",
          "data": {
            "text/plain": [
              "<Figure size 720x504 with 1 Axes>"
            ],
            "image/png": "[encoded data removed]"
          },
          "metadata": {
            "needs_background": "light"
          }
        }
      ]
    },
    {
      "cell_type": "code",
      "source": [
        "## lets have a look at how to build a neural network for our data\n",
        "\n",
        "# 1. Create a model\n",
        "model = tf.keras.Sequential([tf.keras.layers.Dense(1)])\n",
        "\n",
        "# 2. compile the model\n",
        "model.compile(loss = tf.keras.losses.mae,\n",
        "              optimizer = tf.keras.optimizers.SGD(),\n",
        "              metrics = ['mae'])\n",
        "\n",
        "# 3 fit the model\n",
        "#model.fit(x_train, y_train, epochs=100)"
      ],
      "metadata": {
        "id": "ofJ4fgjKx6gU"
      },
      "execution_count": 25,
      "outputs": []
    },
    {
      "cell_type": "code",
      "source": [
        "# lets create a model which builds automatically by defining the input_shape argument\n",
        "tf.random.set_seed(42)\n",
        "\n",
        "# create a model (same as above)\n",
        "model = tf.keras.Sequential([\n",
        "                             tf.keras.layers.Dense(10, input_shape=[1], name ='input_layer'),\n",
        "                             tf.keras.layers.Dense(1, name= 'output_shape')\n",
        "                             ]# name = 'one of many models we are going to build...'\n",
        "                             )\n",
        "# 2. compile the model\n",
        "model.compile( loss=tf.keras.losses.mae,\n",
        "              optimizer= tf.keras.optimizers.SGD(),\n",
        "              metrics=['mae'])\n"
      ],
      "metadata": {
        "id": "m1KoGvpl5iKQ"
      },
      "execution_count": 26,
      "outputs": []
    },
    {
      "cell_type": "code",
      "source": [
        "model.summary()"
      ],
      "metadata": {
        "colab": {
          "base_uri": "https://localhost:8080/"
        },
        "id": "XrQK6QlH7B8J",
        "outputId": "2babbae5-0663-436a-cbdd-c81a578fa7fb"
      },
      "execution_count": 27,
      "outputs": [
        {
          "output_type": "stream",
          "name": "stdout",
          "text": [
            "Model: \"sequential_4\"\n",
            "_________________________________________________________________\n",
            " Layer (type)                Output Shape              Param #   \n",
            "=================================================================\n",
            " input_layer (Dense)         (None, 10)                20        \n",
            "                                                                 \n",
            " output_shape (Dense)        (None, 1)                 11        \n",
            "                                                                 \n",
            "=================================================================\n",
            "Total params: 31\n",
            "Trainable params: 31\n",
            "Non-trainable params: 0\n",
            "_________________________________________________________________\n"
          ]
        }
      ]
    },
    {
      "cell_type": "markdown",
      "source": [
        "Total params: total number of parameters in the model.\n",
        "Trainable params: these are the parameters(patterns) the model can update as it trains\n",
        "Non-trainable params: these parameters arent updated during training (this is typical when you bring in already learn patterns or parameters from other models durinf transfer learning)\n",
        "\n",
        "https://deeplizard.com/learn/video/8d-9SnGt5E0\n",
        "\n",
        "http://introtodeeplearning.com/"
      ],
      "metadata": {
        "id": "RVrBgyNg7vcr"
      }
    },
    {
      "cell_type": "code",
      "source": [
        "# lets fit our model to the training model\n",
        "model.fit(x_train, y_train, epochs=100, verbose=0)"
      ],
      "metadata": {
        "colab": {
          "base_uri": "https://localhost:8080/"
        },
        "id": "CDEmXUbg7TKk",
        "outputId": "a42fe132-cfe9-4ef7-cbb3-c4f689cacaa8"
      },
      "execution_count": 28,
      "outputs": [
        {
          "output_type": "execute_result",
          "data": {
            "text/plain": [
              "<keras.callbacks.History at 0x7f3e4ed03390>"
            ]
          },
          "metadata": {},
          "execution_count": 28
        }
      ]
    },
    {
      "cell_type": "code",
      "source": [
        "# get the summary of model\n",
        "model.summary()"
      ],
      "metadata": {
        "colab": {
          "base_uri": "https://localhost:8080/"
        },
        "id": "IaT58aNp_JXH",
        "outputId": "e2c7b936-2130-4631-eef9-1512e80114eb"
      },
      "execution_count": 29,
      "outputs": [
        {
          "output_type": "stream",
          "name": "stdout",
          "text": [
            "Model: \"sequential_4\"\n",
            "_________________________________________________________________\n",
            " Layer (type)                Output Shape              Param #   \n",
            "=================================================================\n",
            " input_layer (Dense)         (None, 10)                20        \n",
            "                                                                 \n",
            " output_shape (Dense)        (None, 1)                 11        \n",
            "                                                                 \n",
            "=================================================================\n",
            "Total params: 31\n",
            "Trainable params: 31\n",
            "Non-trainable params: 0\n",
            "_________________________________________________________________\n"
          ]
        }
      ]
    },
    {
      "cell_type": "code",
      "source": [
        "from tensorflow.keras.utils import plot_model\n",
        "\n",
        "plot_model(model = model, show_shapes=True)"
      ],
      "metadata": {
        "colab": {
          "base_uri": "https://localhost:8080/",
          "height": 312
        },
        "id": "E58dHgIZ_cQr",
        "outputId": "9952bd7c-8d8f-47ec-c199-3b384a7ed78b"
      },
      "execution_count": 30,
      "outputs": [
        {
          "output_type": "execute_result",
          "data": {
            "text/plain": [
              "<IPython.core.display.Image object>"
            ],
            "image/png": "[encoded data removed]"
          },
          "metadata": {},
          "execution_count": 30
        }
      ]
    },
    {
      "cell_type": "markdown",
      "source": [
        "# visualizing our model prediction\n",
        "\n",
        "To visualize predicitions, its a good idea to plot them against the ground truth labels.\n",
        "\n",
        "often you will see this in the form of y_test or y_predsverus y_preds (ground truth versus your models predicitions"
      ],
      "metadata": {
        "id": "pKtzMfy6_1f0"
      }
    },
    {
      "cell_type": "code",
      "source": [
        "# make some predicitions\n",
        "y_pred = model.predict(x_test)\n",
        "y_pred"
      ],
      "metadata": {
        "colab": {
          "base_uri": "https://localhost:8080/"
        },
        "id": "n9kMxPR0DUvd",
        "outputId": "ed9666c2-0b5a-4643-885e-60454a12bfc8"
      },
      "execution_count": 31,
      "outputs": [
        {
          "output_type": "execute_result",
          "data": {
            "text/plain": [
              "array([[ 70.55218 ],\n",
              "       [ 75.13991 ],\n",
              "       [ 79.72763 ],\n",
              "       [ 84.31535 ],\n",
              "       [ 88.903076],\n",
              "       [ 93.49081 ],\n",
              "       [ 98.07853 ],\n",
              "       [102.66625 ],\n",
              "       [107.253975],\n",
              "       [111.8417  ]], dtype=float32)"
            ]
          },
          "metadata": {},
          "execution_count": 31
        }
      ]
    },
    {
      "cell_type": "code",
      "source": [
        "y_test"
      ],
      "metadata": {
        "colab": {
          "base_uri": "https://localhost:8080/"
        },
        "id": "K0Fc-hYiDgek",
        "outputId": "2fb47c6a-a1a1-4a57-e112-dc228a529476"
      },
      "execution_count": 32,
      "outputs": [
        {
          "output_type": "execute_result",
          "data": {
            "text/plain": [
              "<tf.Tensor: shape=(10,), dtype=int32, numpy=array([ 70,  74,  78,  82,  86,  90,  94,  98, 102, 106], dtype=int32)>"
            ]
          },
          "metadata": {},
          "execution_count": 32
        }
      ]
    },
    {
      "cell_type": "markdown",
      "source": [
        "note if you feel like you are going to reuse some kind of functionality in the future, its a good idea to turn it into functions"
      ],
      "metadata": {
        "id": "ZE9VyNfIEP0U"
      }
    },
    {
      "cell_type": "code",
      "source": [
        "# lets create a ploting function\n",
        "\n",
        "def plot_predicitions(train_data = x_train,\n",
        "                      train_labels= y_train,\n",
        "                      test_data = x_test,\n",
        "                      test_labels = y_test,\n",
        "                      predicitions = y_pred\n",
        "                      ):\n",
        "  \"\"\"\n",
        "  plot training data, test data and compare predicitions to ground truth\n",
        "  \"\"\"\n",
        "  plt.figure(figsize= (10, 7))\n",
        "  # plot training data in blue\n",
        "  plt.scatter(train_data, train_labels, c='b', label='Training data')\n",
        "  #plot test data in green\n",
        "  plt.scatter(test_data, test_labels, c='g', label= 'Testing data')\n",
        "  #plot model predicitions in red\n",
        "  plt.scatter(test_data, predicitions, c='r', label ='Predictions')\n",
        "  # show legend\n",
        "  plt.legend();"
      ],
      "metadata": {
        "id": "rVU9Y6TJEFiL"
      },
      "execution_count": 33,
      "outputs": []
    },
    {
      "cell_type": "code",
      "source": [
        "plot_predicitions()"
      ],
      "metadata": {
        "colab": {
          "base_uri": "https://localhost:8080/",
          "height": 428
        },
        "id": "pKhhzXYbGHVj",
        "outputId": "e320fe0d-57e1-41fe-af82-4b7e13f7d53a"
      },
      "execution_count": 34,
      "outputs": [
        {
          "output_type": "display_data",
          "data": {
            "text/plain": [
              "<Figure size 720x504 with 1 Axes>"
            ],
            "image/png": "[encoded data removed]"
          },
          "metadata": {
            "needs_background": "light"
          }
        }
      ]
    },
    {
      "cell_type": "markdown",
      "source": [
        "from numpy.ma.core import absolute\n",
        "## Evaulating  our models predicitions with regression evalaution metrics\n",
        "\n",
        "Depending on the problem you are working on , there will be different evaluation\n",
        "metrics to evalaute your models performance\n",
        "\n",
        "since we are working on regression, two of the main metrics:\n",
        "* MAE -  mean absolute error, ' on average how wrong is each of my models prediction'\n",
        "* MSE - mean sqaure error, 'square the average errors'"
      ],
      "metadata": {
        "id": "bUaC4lmXGNJ5"
      }
    },
    {
      "cell_type": "code",
      "source": [
        "# evalaute the model on the test\n",
        "model.evaluate(x_test, y_test)"
      ],
      "metadata": {
        "colab": {
          "base_uri": "https://localhost:8080/"
        },
        "id": "f2Y1ZjIuIwh_",
        "outputId": "272953ac-05cf-459d-e3ed-e6a8324b1d59"
      },
      "execution_count": 35,
      "outputs": [
        {
          "output_type": "stream",
          "name": "stdout",
          "text": [
            "1/1 [==============================] - 0s 131ms/step - loss: 3.1969 - mae: 3.1969\n"
          ]
        },
        {
          "output_type": "execute_result",
          "data": {
            "text/plain": [
              "[3.196942090988159, 3.196942090988159]"
            ]
          },
          "metadata": {},
          "execution_count": 35
        }
      ]
    },
    {
      "cell_type": "code",
      "source": [
        "# calculate the mean absolute error\n",
        "mae =tf.metrics.mean_absolute_error(y_true=y_test,\n",
        "                               y_pred= tf.constant(y_pred))\n",
        "mae"
      ],
      "metadata": {
        "id": "82YbDkSvI8m6",
        "colab": {
          "base_uri": "https://localhost:8080/"
        },
        "outputId": "be03d12a-da06-4413-bb59-d058eb3f09db"
      },
      "execution_count": 36,
      "outputs": [
        {
          "output_type": "execute_result",
          "data": {
            "text/plain": [
              "<tf.Tensor: shape=(10,), dtype=float32, numpy=\n",
              "array([17.558258 , 14.1160555, 11.708948 , 10.336929 , 10.       ,\n",
              "       10.698161 , 12.447118 , 15.333002 , 19.253975 , 23.841698 ],\n",
              "      dtype=float32)>"
            ]
          },
          "metadata": {},
          "execution_count": 36
        }
      ]
    },
    {
      "cell_type": "code",
      "source": [
        "tf.constant(y_pred)"
      ],
      "metadata": {
        "colab": {
          "base_uri": "https://localhost:8080/"
        },
        "id": "JEYND_q3M0zv",
        "outputId": "6b22532e-9ecc-4f4a-9b57-274eaea707ce"
      },
      "execution_count": 37,
      "outputs": [
        {
          "output_type": "execute_result",
          "data": {
            "text/plain": [
              "<tf.Tensor: shape=(10, 1), dtype=float32, numpy=\n",
              "array([[ 70.55218 ],\n",
              "       [ 75.13991 ],\n",
              "       [ 79.72763 ],\n",
              "       [ 84.31535 ],\n",
              "       [ 88.903076],\n",
              "       [ 93.49081 ],\n",
              "       [ 98.07853 ],\n",
              "       [102.66625 ],\n",
              "       [107.253975],\n",
              "       [111.8417  ]], dtype=float32)>"
            ]
          },
          "metadata": {},
          "execution_count": 37
        }
      ]
    },
    {
      "cell_type": "code",
      "source": [
        "tf.squeeze(y_pred)"
      ],
      "metadata": {
        "colab": {
          "base_uri": "https://localhost:8080/"
        },
        "id": "7D4l10oWNgHE",
        "outputId": "391d5185-b060-4e88-da3b-bf0a710e4f55"
      },
      "execution_count": 38,
      "outputs": [
        {
          "output_type": "execute_result",
          "data": {
            "text/plain": [
              "<tf.Tensor: shape=(10,), dtype=float32, numpy=\n",
              "array([ 70.55218 ,  75.13991 ,  79.72763 ,  84.31535 ,  88.903076,\n",
              "        93.49081 ,  98.07853 , 102.66625 , 107.253975, 111.8417  ],\n",
              "      dtype=float32)>"
            ]
          },
          "metadata": {},
          "execution_count": 38
        }
      ]
    },
    {
      "cell_type": "code",
      "source": [
        " # calculate the mean absolute error\n",
        "mae =tf.metrics.mean_absolute_error(y_true=y_test,\n",
        "                               y_pred= tf.squeeze(y_pred))\n",
        "mae"
      ],
      "metadata": {
        "colab": {
          "base_uri": "https://localhost:8080/"
        },
        "id": "GypcA-vjOCRL",
        "outputId": "313ff7c2-23c5-436f-8cc8-14f08296ea40"
      },
      "execution_count": 39,
      "outputs": [
        {
          "output_type": "execute_result",
          "data": {
            "text/plain": [
              "<tf.Tensor: shape=(), dtype=float32, numpy=3.1969407>"
            ]
          },
          "metadata": {},
          "execution_count": 39
        }
      ]
    },
    {
      "cell_type": "code",
      "source": [
        "# calculate the mse\n",
        "mse = tf.metrics.mean_squared_error(y_true=y_test,\n",
        "                               y_pred= tf.squeeze(y_pred))\n",
        "mse"
      ],
      "metadata": {
        "colab": {
          "base_uri": "https://localhost:8080/"
        },
        "id": "ltmwpKkoOs3q",
        "outputId": "35442601-a034-417a-c8b4-52b92e80416a"
      },
      "execution_count": 40,
      "outputs": [
        {
          "output_type": "execute_result",
          "data": {
            "text/plain": [
              "<tf.Tensor: shape=(), dtype=float32, numpy=13.070143>"
            ]
          },
          "metadata": {},
          "execution_count": 40
        }
      ]
    },
    {
      "cell_type": "code",
      "source": [
        "# make some functions to use mae and mse\n",
        "def mae(y_true, y_pred):\n",
        "  return tf.metrics.mean_absolute_error(y_true =y_test,\n",
        "                                        y_pred = tf.squeeze(y_pred))\n",
        "  \n",
        "def mse(y_true, y_pred):\n",
        "  return tf.metrics.mean_squared_error(y_true=y_test,\n",
        "                                            y_pred = tf.squeeze(y_pred))"
      ],
      "metadata": {
        "id": "Vphm9Vo3Q9qG"
      },
      "execution_count": 41,
      "outputs": []
    },
    {
      "cell_type": "markdown",
      "source": [
        "## Running experiments to improve our model\n",
        "\n",
        "build a model -> fit it -> evalaute it -> tweak it -> fit it -> evaluate it -> tweak it -> fit it -> evaluate it\n",
        "\n",
        "1. Get more data - get more examples for your model to train on (most opportunities to learn patterns or relationships between features and labels)\n",
        "2. Make your model larger (using a complex model) - this might come in form of more layers or more hidden units in each layer.\n",
        "3. Train for longer - give your model more of a chance to find patterns in the data.\n",
        "\n",
        "lets do 3 modelling experiments:\n",
        "1 'model-1'- same as original, 1 layer, trained for 100 epochs.\n",
        "2 'model_2' - 2 layers, trained for 100 epochs\n",
        "3 'model_3'  - 2 layers, trained for 500 epochs"
      ],
      "metadata": {
        "id": "NwbahTZ2S2nq"
      }
    },
    {
      "cell_type": "markdown",
      "source": [
        "Build model_1"
      ],
      "metadata": {
        "id": "-mRGf0kPUFqR"
      }
    },
    {
      "cell_type": "code",
      "source": [
        "\n",
        "# 1. create the model\n",
        "model_1= tf.keras.Sequential([tf.keras.layers.Dense(1)])\n",
        "\n",
        "# 2. compile the model\n",
        "model_1.compile(loss=tf.keras.losses.mae,\n",
        "              optimizer = tf.keras.optimizers.SGD(),\n",
        "              metrics= ['mse'])\n",
        "  \n",
        "\n",
        "# 3. fit the model\n",
        "#model_1.fit(x, y, epochs=100)\n",
        "model_1.fit(tf.expand_dims(x, axis=-1), y, epochs=100)"
      ],
      "metadata": {
        "colab": {
          "base_uri": "https://localhost:8080/"
        },
        "id": "bH7nkNoUU6oy",
        "outputId": "9982efe7-f0cf-4171-8b6d-130441e838c7"
      },
      "execution_count": 42,
      "outputs": [
        {
          "output_type": "stream",
          "name": "stdout",
          "text": [
            "Epoch 1/100\n",
            "2/2 [==============================] - 1s 8ms/step - loss: 11.6762 - mse: 198.1642\n",
            "Epoch 2/100\n",
            "2/2 [==============================] - 0s 10ms/step - loss: 13.2572 - mse: 226.4037\n",
            "Epoch 3/100\n",
            "2/2 [==============================] - 0s 5ms/step - loss: 18.0408 - mse: 472.1568\n",
            "Epoch 4/100\n",
            "2/2 [==============================] - 0s 4ms/step - loss: 10.1129 - mse: 114.7501\n",
            "Epoch 5/100\n",
            "2/2 [==============================] - 0s 4ms/step - loss: 15.4630 - mse: 310.5071\n",
            "Epoch 6/100\n",
            "2/2 [==============================] - 0s 6ms/step - loss: 11.7585 - mse: 220.1948\n",
            "Epoch 7/100\n",
            "2/2 [==============================] - 0s 4ms/step - loss: 9.2550 - mse: 114.6186\n",
            "Epoch 8/100\n",
            "2/2 [==============================] - 0s 5ms/step - loss: 11.9843 - mse: 204.2327\n",
            "Epoch 9/100\n",
            "2/2 [==============================] - 0s 4ms/step - loss: 10.0412 - mse: 124.1212\n",
            "Epoch 10/100\n",
            "2/2 [==============================] - 0s 4ms/step - loss: 10.0876 - mse: 105.8195\n",
            "Epoch 11/100\n",
            "2/2 [==============================] - 0s 4ms/step - loss: 10.0595 - mse: 104.8394\n",
            "Epoch 12/100\n",
            "2/2 [==============================] - 0s 8ms/step - loss: 10.0007 - mse: 103.0379\n",
            "Epoch 13/100\n",
            "2/2 [==============================] - 0s 11ms/step - loss: 9.8389 - mse: 98.0995\n",
            "Epoch 14/100\n",
            "2/2 [==============================] - 0s 9ms/step - loss: 10.6395 - mse: 120.8336\n",
            "Epoch 15/100\n",
            "2/2 [==============================] - 0s 5ms/step - loss: 13.4243 - mse: 238.3256\n",
            "Epoch 16/100\n",
            "2/2 [==============================] - 0s 6ms/step - loss: 12.8845 - mse: 277.9195\n",
            "Epoch 17/100\n",
            "2/2 [==============================] - 0s 7ms/step - loss: 10.1768 - mse: 107.8519\n",
            "Epoch 18/100\n",
            "2/2 [==============================] - 0s 5ms/step - loss: 10.4220 - mse: 145.0546\n",
            "Epoch 19/100\n",
            "2/2 [==============================] - 0s 5ms/step - loss: 9.9798 - mse: 102.1368\n",
            "Epoch 20/100\n",
            "2/2 [==============================] - 0s 7ms/step - loss: 11.9469 - mse: 182.4215\n",
            "Epoch 21/100\n",
            "2/2 [==============================] - 0s 5ms/step - loss: 13.0789 - mse: 249.7245\n",
            "Epoch 22/100\n",
            "2/2 [==============================] - 0s 5ms/step - loss: 9.5406 - mse: 108.8182\n",
            "Epoch 23/100\n",
            "2/2 [==============================] - 0s 4ms/step - loss: 9.7641 - mse: 142.7892\n",
            "Epoch 24/100\n",
            "2/2 [==============================] - 0s 4ms/step - loss: 9.7704 - mse: 97.9680\n",
            "Epoch 25/100\n",
            "2/2 [==============================] - 0s 6ms/step - loss: 9.6669 - mse: 94.0112\n",
            "Epoch 26/100\n",
            "2/2 [==============================] - 0s 4ms/step - loss: 9.8554 - mse: 125.1839\n",
            "Epoch 27/100\n",
            "2/2 [==============================] - 0s 5ms/step - loss: 9.6615 - mse: 134.8818\n",
            "Epoch 28/100\n",
            "2/2 [==============================] - 0s 4ms/step - loss: 9.5279 - mse: 118.5236\n",
            "Epoch 29/100\n",
            "2/2 [==============================] - 0s 6ms/step - loss: 9.3822 - mse: 109.3694\n",
            "Epoch 30/100\n",
            "2/2 [==============================] - 0s 12ms/step - loss: 9.2568 - mse: 115.7159\n",
            "Epoch 31/100\n",
            "2/2 [==============================] - 0s 5ms/step - loss: 10.6370 - mse: 127.5057\n",
            "Epoch 32/100\n",
            "2/2 [==============================] - 0s 8ms/step - loss: 9.7333 - mse: 139.7168\n",
            "Epoch 33/100\n",
            "2/2 [==============================] - 0s 6ms/step - loss: 9.6623 - mse: 122.4744\n",
            "Epoch 34/100\n",
            "2/2 [==============================] - 0s 13ms/step - loss: 10.0077 - mse: 114.9625\n",
            "Epoch 35/100\n",
            "2/2 [==============================] - 0s 16ms/step - loss: 11.4282 - mse: 200.1936\n",
            "Epoch 36/100\n",
            "2/2 [==============================] - 0s 5ms/step - loss: 10.2140 - mse: 139.1999\n",
            "Epoch 37/100\n",
            "2/2 [==============================] - 0s 4ms/step - loss: 9.3170 - mse: 97.5296\n",
            "Epoch 38/100\n",
            "2/2 [==============================] - 0s 14ms/step - loss: 9.4437 - mse: 114.7085\n",
            "Epoch 39/100\n",
            "2/2 [==============================] - 0s 7ms/step - loss: 10.6126 - mse: 169.0967\n",
            "Epoch 40/100\n",
            "2/2 [==============================] - 0s 7ms/step - loss: 11.7162 - mse: 205.9126\n",
            "Epoch 41/100\n",
            "2/2 [==============================] - 0s 12ms/step - loss: 11.4579 - mse: 172.7723\n",
            "Epoch 42/100\n",
            "2/2 [==============================] - 0s 4ms/step - loss: 9.4101 - mse: 132.8583\n",
            "Epoch 43/100\n",
            "2/2 [==============================] - 0s 10ms/step - loss: 9.3872 - mse: 89.8925\n",
            "Epoch 44/100\n",
            "2/2 [==============================] - 0s 7ms/step - loss: 9.4166 - mse: 93.1794\n",
            "Epoch 45/100\n",
            "2/2 [==============================] - 0s 7ms/step - loss: 9.5501 - mse: 94.0954\n",
            "Epoch 46/100\n",
            "2/2 [==============================] - 0s 18ms/step - loss: 9.0821 - mse: 103.3806\n",
            "Epoch 47/100\n",
            "2/2 [==============================] - 0s 4ms/step - loss: 9.1904 - mse: 86.2480\n",
            "Epoch 48/100\n",
            "2/2 [==============================] - 0s 6ms/step - loss: 9.7923 - mse: 120.1352\n",
            "Epoch 49/100\n",
            "2/2 [==============================] - 0s 7ms/step - loss: 13.5078 - mse: 274.1692\n",
            "Epoch 50/100\n",
            "2/2 [==============================] - 0s 4ms/step - loss: 9.5723 - mse: 131.5035\n",
            "Epoch 51/100\n",
            "2/2 [==============================] - 0s 11ms/step - loss: 10.2981 - mse: 148.7242\n",
            "Epoch 52/100\n",
            "2/2 [==============================] - 0s 8ms/step - loss: 14.6767 - mse: 325.1013\n",
            "Epoch 53/100\n",
            "2/2 [==============================] - 0s 8ms/step - loss: 9.0306 - mse: 115.2292\n",
            "Epoch 54/100\n",
            "2/2 [==============================] - 0s 4ms/step - loss: 9.3851 - mse: 100.2527\n",
            "Epoch 55/100\n",
            "2/2 [==============================] - 0s 9ms/step - loss: 9.7055 - mse: 119.3828\n",
            "Epoch 56/100\n",
            "2/2 [==============================] - 0s 7ms/step - loss: 12.6999 - mse: 230.4477\n",
            "Epoch 57/100\n",
            "2/2 [==============================] - 0s 7ms/step - loss: 16.0226 - mse: 329.8593\n",
            "Epoch 58/100\n",
            "2/2 [==============================] - 0s 8ms/step - loss: 14.8507 - mse: 301.0261\n",
            "Epoch 59/100\n",
            "2/2 [==============================] - 0s 11ms/step - loss: 14.8846 - mse: 302.9145\n",
            "Epoch 60/100\n",
            "2/2 [==============================] - 0s 7ms/step - loss: 12.5890 - mse: 231.4997\n",
            "Epoch 61/100\n",
            "2/2 [==============================] - 0s 19ms/step - loss: 13.1786 - mse: 249.2764\n",
            "Epoch 62/100\n",
            "2/2 [==============================] - 0s 6ms/step - loss: 8.9185 - mse: 112.2912\n",
            "Epoch 63/100\n",
            "2/2 [==============================] - 0s 17ms/step - loss: 9.2205 - mse: 97.2358\n",
            "Epoch 64/100\n",
            "2/2 [==============================] - 0s 7ms/step - loss: 9.1556 - mse: 90.5535\n",
            "Epoch 65/100\n",
            "2/2 [==============================] - 0s 7ms/step - loss: 9.0647 - mse: 88.6968\n",
            "Epoch 66/100\n",
            "2/2 [==============================] - 0s 7ms/step - loss: 8.9469 - mse: 86.0078\n",
            "Epoch 67/100\n",
            "2/2 [==============================] - 0s 4ms/step - loss: 8.9596 - mse: 93.0554\n",
            "Epoch 68/100\n",
            "2/2 [==============================] - 0s 9ms/step - loss: 9.2681 - mse: 92.6031\n",
            "Epoch 69/100\n",
            "2/2 [==============================] - 0s 16ms/step - loss: 9.2634 - mse: 94.9485\n",
            "Epoch 70/100\n",
            "2/2 [==============================] - 0s 5ms/step - loss: 9.5883 - mse: 118.3674\n",
            "Epoch 71/100\n",
            "2/2 [==============================] - 0s 7ms/step - loss: 9.8153 - mse: 131.1231\n",
            "Epoch 72/100\n",
            "2/2 [==============================] - 0s 8ms/step - loss: 8.9564 - mse: 105.5993\n",
            "Epoch 73/100\n",
            "2/2 [==============================] - 0s 6ms/step - loss: 14.0573 - mse: 266.0075\n",
            "Epoch 74/100\n",
            "2/2 [==============================] - 0s 5ms/step - loss: 9.4150 - mse: 114.7187\n",
            "Epoch 75/100\n",
            "2/2 [==============================] - 0s 8ms/step - loss: 8.7784 - mse: 77.3452\n",
            "Epoch 76/100\n",
            "2/2 [==============================] - 0s 6ms/step - loss: 8.8241 - mse: 80.2347\n",
            "Epoch 77/100\n",
            "2/2 [==============================] - 0s 5ms/step - loss: 8.3729 - mse: 96.5942\n",
            "Epoch 78/100\n",
            "2/2 [==============================] - 0s 5ms/step - loss: 8.8246 - mse: 87.4650\n",
            "Epoch 79/100\n",
            "2/2 [==============================] - 0s 8ms/step - loss: 9.0244 - mse: 85.9136\n",
            "Epoch 80/100\n",
            "2/2 [==============================] - 0s 5ms/step - loss: 8.6790 - mse: 95.7769\n",
            "Epoch 81/100\n",
            "2/2 [==============================] - 0s 6ms/step - loss: 9.0635 - mse: 86.5425\n",
            "Epoch 82/100\n",
            "2/2 [==============================] - 0s 6ms/step - loss: 12.2986 - mse: 217.1171\n",
            "Epoch 83/100\n",
            "2/2 [==============================] - 0s 5ms/step - loss: 8.6967 - mse: 89.0896\n",
            "Epoch 84/100\n",
            "2/2 [==============================] - 0s 5ms/step - loss: 10.9538 - mse: 178.0217\n",
            "Epoch 85/100\n",
            "2/2 [==============================] - 0s 5ms/step - loss: 11.1666 - mse: 176.7345\n",
            "Epoch 86/100\n",
            "2/2 [==============================] - 0s 4ms/step - loss: 11.7795 - mse: 219.5415\n",
            "Epoch 87/100\n",
            "2/2 [==============================] - 0s 6ms/step - loss: 9.4337 - mse: 132.9494\n",
            "Epoch 88/100\n",
            "2/2 [==============================] - 0s 7ms/step - loss: 10.1161 - mse: 150.2147\n",
            "Epoch 89/100\n",
            "2/2 [==============================] - 0s 10ms/step - loss: 10.0662 - mse: 159.4313\n",
            "Epoch 90/100\n",
            "2/2 [==============================] - 0s 7ms/step - loss: 14.4707 - mse: 301.2663\n",
            "Epoch 91/100\n",
            "2/2 [==============================] - 0s 5ms/step - loss: 10.4761 - mse: 164.1634\n",
            "Epoch 92/100\n",
            "2/2 [==============================] - 0s 8ms/step - loss: 9.6268 - mse: 140.0708\n",
            "Epoch 93/100\n",
            "2/2 [==============================] - 0s 3ms/step - loss: 15.3966 - mse: 315.9483\n",
            "Epoch 94/100\n",
            "2/2 [==============================] - 0s 4ms/step - loss: 12.6903 - mse: 223.2667\n",
            "Epoch 95/100\n",
            "2/2 [==============================] - 0s 9ms/step - loss: 12.8458 - mse: 254.8534\n",
            "Epoch 96/100\n",
            "2/2 [==============================] - 0s 4ms/step - loss: 9.1962 - mse: 120.2100\n",
            "Epoch 97/100\n",
            "2/2 [==============================] - 0s 5ms/step - loss: 10.5608 - mse: 156.7187\n",
            "Epoch 98/100\n",
            "2/2 [==============================] - 0s 5ms/step - loss: 14.7694 - mse: 303.5475\n",
            "Epoch 99/100\n",
            "2/2 [==============================] - 0s 4ms/step - loss: 10.8838 - mse: 165.7315\n",
            "Epoch 100/100\n",
            "2/2 [==============================] - 0s 4ms/step - loss: 14.9173 - mse: 321.9359\n"
          ]
        },
        {
          "output_type": "execute_result",
          "data": {
            "text/plain": [
              "<keras.callbacks.History at 0x7f3e4bd65e10>"
            ]
          },
          "metadata": {},
          "execution_count": 42
        }
      ]
    },
    {
      "cell_type": "code",
      "source": [
        "# make and plot prediction for model_1\n",
        "y_pred_1 = model_1.predict(x_test)\n",
        "plot_predicitions(predicitions=y_pred_1)"
      ],
      "metadata": {
        "colab": {
          "base_uri": "https://localhost:8080/",
          "height": 465
        },
        "id": "SftL99ttVUnl",
        "outputId": "88934706-e2a2-402a-bfbc-a9f8a15436a9"
      },
      "execution_count": 43,
      "outputs": [
        {
          "output_type": "stream",
          "name": "stdout",
          "text": [
            "WARNING:tensorflow:5 out of the last 5 calls to <function Model.make_predict_function.<locals>.predict_function at 0x7f3e4ed04e60> triggered tf.function retracing. Tracing is expensive and the excessive number of tracings could be due to (1) creating @tf.function repeatedly in a loop, (2) passing tensors with different shapes, (3) passing Python objects instead of tensors. For (1), please define your @tf.function outside of the loop. For (2), @tf.function has experimental_relax_shapes=True option that relaxes argument shapes that can avoid unnecessary retracing. For (3), please refer to https://www.tensorflow.org/guide/function#controlling_retracing and https://www.tensorflow.org/api_docs/python/tf/function for  more details.\n"
          ]
        },
        {
          "output_type": "display_data",
          "data": {
            "text/plain": [
              "<Figure size 720x504 with 1 Axes>"
            ],
            "image/png": "[encoded data removed]"
          },
          "metadata": {
            "needs_background": "light"
          }
        }
      ]
    },
    {
      "cell_type": "code",
      "source": [
        "# calculate our evaluation metrics\n",
        "mae_1 = mae(y_test,y_pred_1)\n",
        "mse_1 = mse(y_test, y_pred_1)\n",
        "mae_1, mse_1"
      ],
      "metadata": {
        "colab": {
          "base_uri": "https://localhost:8080/"
        },
        "id": "31T_9iZhVrb8",
        "outputId": "16718be9-1cd3-4d29-fdc3-65e98ee84d69"
      },
      "execution_count": 44,
      "outputs": [
        {
          "output_type": "execute_result",
          "data": {
            "text/plain": [
              "(<tf.Tensor: shape=(), dtype=float32, numpy=17.323328>,\n",
              " <tf.Tensor: shape=(), dtype=float32, numpy=301.8012>)"
            ]
          },
          "metadata": {},
          "execution_count": 44
        }
      ]
    },
    {
      "cell_type": "markdown",
      "source": [
        "Build model_2\n",
        "\n",
        "* 2 dense layers trained for 100 epochs"
      ],
      "metadata": {
        "id": "dLiNFLpQWFG7"
      }
    },
    {
      "cell_type": "code",
      "source": [
        "# set the random seed\n",
        "tf.random.set_seed(42)\n",
        "\n",
        "# 1. create the model\n",
        "model_2= tf.keras.Sequential([\n",
        "                            tf.keras.layers.Dense(10),\n",
        "                            tf.keras.layers.Dense(1)\n",
        "                            ])\n",
        "\n",
        "# 2. compile the model\n",
        "model_2.compile(loss=tf.keras.losses.mae,\n",
        "              optimizer = tf.keras.optimizers.SGD(),\n",
        "              metrics= ['mse'])\n",
        "\n",
        "# 3. fit the model\n",
        "#model_2.fit(x, y, epochs=100)\n",
        "model_2.fit(tf.expand_dims(x, axis=-1), y, epochs=100)"
      ],
      "metadata": {
        "colab": {
          "base_uri": "https://localhost:8080/"
        },
        "id": "T7lnQJSrYkOc",
        "outputId": "b3f8fda5-6092-4817-c607-8e30a329061f"
      },
      "execution_count": 45,
      "outputs": [
        {
          "output_type": "stream",
          "name": "stdout",
          "text": [
            "Epoch 1/100\n",
            "2/2 [==============================] - 1s 21ms/step - loss: 40.2867 - mse: 2321.9255\n",
            "Epoch 2/100\n",
            "2/2 [==============================] - 0s 6ms/step - loss: 25.9297 - mse: 954.1400\n",
            "Epoch 3/100\n",
            "2/2 [==============================] - 0s 11ms/step - loss: 44.1696 - mse: 2935.2297\n",
            "Epoch 4/100\n",
            "2/2 [==============================] - 0s 5ms/step - loss: 11.2212 - mse: 160.3935\n",
            "Epoch 5/100\n",
            "2/2 [==============================] - 0s 15ms/step - loss: 23.0317 - mse: 764.6420\n",
            "Epoch 6/100\n",
            "2/2 [==============================] - 0s 5ms/step - loss: 24.2563 - mse: 911.0153\n",
            "Epoch 7/100\n",
            "2/2 [==============================] - 0s 6ms/step - loss: 11.2416 - mse: 161.5344\n",
            "Epoch 8/100\n",
            "2/2 [==============================] - 0s 4ms/step - loss: 34.1576 - mse: 1550.3259\n",
            "Epoch 9/100\n",
            "2/2 [==============================] - 0s 7ms/step - loss: 12.5246 - mse: 236.5703\n",
            "Epoch 10/100\n",
            "2/2 [==============================] - 0s 6ms/step - loss: 10.1823 - mse: 121.3602\n",
            "Epoch 11/100\n",
            "2/2 [==============================] - 0s 5ms/step - loss: 23.0436 - mse: 774.8089\n",
            "Epoch 12/100\n",
            "2/2 [==============================] - 0s 5ms/step - loss: 16.3819 - mse: 431.2167\n",
            "Epoch 13/100\n",
            "2/2 [==============================] - 0s 7ms/step - loss: 22.6688 - mse: 825.2933\n",
            "Epoch 14/100\n",
            "2/2 [==============================] - 0s 4ms/step - loss: 22.1103 - mse: 698.4519\n",
            "Epoch 15/100\n",
            "2/2 [==============================] - 0s 5ms/step - loss: 19.8442 - mse: 629.6105\n",
            "Epoch 16/100\n",
            "2/2 [==============================] - 0s 5ms/step - loss: 23.1707 - mse: 872.3577\n",
            "Epoch 17/100\n",
            "2/2 [==============================] - 0s 5ms/step - loss: 11.5075 - mse: 221.5737\n",
            "Epoch 18/100\n",
            "2/2 [==============================] - 0s 4ms/step - loss: 29.7742 - mse: 1202.8987\n",
            "Epoch 19/100\n",
            "2/2 [==============================] - 0s 4ms/step - loss: 18.4085 - mse: 591.2548\n",
            "Epoch 20/100\n",
            "2/2 [==============================] - 0s 8ms/step - loss: 18.7610 - mse: 529.2491\n",
            "Epoch 21/100\n",
            "2/2 [==============================] - 0s 4ms/step - loss: 19.4369 - mse: 522.8313\n",
            "Epoch 22/100\n",
            "2/2 [==============================] - 0s 7ms/step - loss: 20.5783 - mse: 631.6808\n",
            "Epoch 23/100\n",
            "2/2 [==============================] - 0s 8ms/step - loss: 19.8132 - mse: 552.3674\n",
            "Epoch 24/100\n",
            "2/2 [==============================] - 0s 6ms/step - loss: 18.7247 - mse: 554.4182\n",
            "Epoch 25/100\n",
            "2/2 [==============================] - 0s 6ms/step - loss: 21.7989 - mse: 712.5184\n",
            "Epoch 26/100\n",
            "2/2 [==============================] - 0s 7ms/step - loss: 10.6899 - mse: 169.2579\n",
            "Epoch 27/100\n",
            "2/2 [==============================] - 0s 8ms/step - loss: 30.8423 - mse: 1347.6296\n",
            "Epoch 28/100\n",
            "2/2 [==============================] - 0s 7ms/step - loss: 16.5686 - mse: 438.7157\n",
            "Epoch 29/100\n",
            "2/2 [==============================] - 0s 8ms/step - loss: 33.0226 - mse: 1530.7896\n",
            "Epoch 30/100\n",
            "2/2 [==============================] - 0s 8ms/step - loss: 19.5703 - mse: 612.7024\n",
            "Epoch 31/100\n",
            "2/2 [==============================] - 0s 11ms/step - loss: 12.5353 - mse: 229.2954\n",
            "Epoch 32/100\n",
            "2/2 [==============================] - 0s 7ms/step - loss: 20.7130 - mse: 592.4906\n",
            "Epoch 33/100\n",
            "2/2 [==============================] - 0s 9ms/step - loss: 20.6412 - mse: 651.3763\n",
            "Epoch 34/100\n",
            "2/2 [==============================] - 0s 9ms/step - loss: 21.2043 - mse: 655.7866\n",
            "Epoch 35/100\n",
            "2/2 [==============================] - 0s 9ms/step - loss: 21.3012 - mse: 745.6329\n",
            "Epoch 36/100\n",
            "2/2 [==============================] - 0s 9ms/step - loss: 18.8072 - mse: 577.7540\n",
            "Epoch 37/100\n",
            "2/2 [==============================] - 0s 11ms/step - loss: 27.4462 - mse: 1128.6895\n",
            "Epoch 38/100\n",
            "2/2 [==============================] - 0s 7ms/step - loss: 29.1100 - mse: 1138.0177\n",
            "Epoch 39/100\n",
            "2/2 [==============================] - 0s 5ms/step - loss: 20.5542 - mse: 641.3965\n",
            "Epoch 40/100\n",
            "2/2 [==============================] - 0s 5ms/step - loss: 20.6334 - mse: 697.1397\n",
            "Epoch 41/100\n",
            "2/2 [==============================] - 0s 4ms/step - loss: 24.9726 - mse: 879.7936\n",
            "Epoch 42/100\n",
            "2/2 [==============================] - 0s 6ms/step - loss: 20.5609 - mse: 623.9511\n",
            "Epoch 43/100\n",
            "2/2 [==============================] - 0s 14ms/step - loss: 23.1231 - mse: 868.5730\n",
            "Epoch 44/100\n",
            "2/2 [==============================] - 0s 4ms/step - loss: 9.8053 - mse: 116.5320\n",
            "Epoch 45/100\n",
            "2/2 [==============================] - 0s 4ms/step - loss: 22.5487 - mse: 733.3742\n",
            "Epoch 46/100\n",
            "2/2 [==============================] - 0s 4ms/step - loss: 9.2110 - mse: 106.7973\n",
            "Epoch 47/100\n",
            "2/2 [==============================] - 0s 4ms/step - loss: 20.3679 - mse: 651.9070\n",
            "Epoch 48/100\n",
            "2/2 [==============================] - 0s 8ms/step - loss: 8.4309 - mse: 114.8761\n",
            "Epoch 49/100\n",
            "2/2 [==============================] - 0s 7ms/step - loss: 12.6659 - mse: 256.6947\n",
            "Epoch 50/100\n",
            "2/2 [==============================] - 0s 5ms/step - loss: 32.1829 - mse: 1403.0283\n",
            "Epoch 51/100\n",
            "2/2 [==============================] - 0s 4ms/step - loss: 16.5208 - mse: 396.4330\n",
            "Epoch 52/100\n",
            "2/2 [==============================] - 0s 4ms/step - loss: 33.7598 - mse: 1617.9999\n",
            "Epoch 53/100\n",
            "2/2 [==============================] - 0s 15ms/step - loss: 9.7791 - mse: 118.2819\n",
            "Epoch 54/100\n",
            "2/2 [==============================] - 0s 12ms/step - loss: 11.4445 - mse: 187.3186\n",
            "Epoch 55/100\n",
            "2/2 [==============================] - 0s 8ms/step - loss: 24.6060 - mse: 859.5567\n",
            "Epoch 56/100\n",
            "2/2 [==============================] - 0s 7ms/step - loss: 9.1433 - mse: 87.9627\n",
            "Epoch 57/100\n",
            "2/2 [==============================] - 0s 7ms/step - loss: 11.6297 - mse: 168.6967\n",
            "Epoch 58/100\n",
            "2/2 [==============================] - 0s 7ms/step - loss: 27.3491 - mse: 1121.5461\n",
            "Epoch 59/100\n",
            "2/2 [==============================] - 0s 9ms/step - loss: 25.1758 - mse: 934.2424\n",
            "Epoch 60/100\n",
            "2/2 [==============================] - 0s 7ms/step - loss: 11.4501 - mse: 182.1051\n",
            "Epoch 61/100\n",
            "2/2 [==============================] - 0s 7ms/step - loss: 31.5022 - mse: 1435.9985\n",
            "Epoch 62/100\n",
            "2/2 [==============================] - 0s 7ms/step - loss: 21.6164 - mse: 751.8551\n",
            "Epoch 63/100\n",
            "2/2 [==============================] - 0s 14ms/step - loss: 9.4131 - mse: 110.2309\n",
            "Epoch 64/100\n",
            "2/2 [==============================] - 0s 9ms/step - loss: 27.2951 - mse: 1034.0459\n",
            "Epoch 65/100\n",
            "2/2 [==============================] - 0s 8ms/step - loss: 8.9828 - mse: 85.7530\n",
            "Epoch 66/100\n",
            "2/2 [==============================] - 0s 8ms/step - loss: 9.2362 - mse: 122.2021\n",
            "Epoch 67/100\n",
            "2/2 [==============================] - 0s 8ms/step - loss: 25.8946 - mse: 951.5186\n",
            "Epoch 68/100\n",
            "2/2 [==============================] - 0s 7ms/step - loss: 16.4833 - mse: 434.2250\n",
            "Epoch 69/100\n",
            "2/2 [==============================] - 0s 8ms/step - loss: 25.0206 - mse: 992.0812\n",
            "Epoch 70/100\n",
            "2/2 [==============================] - 0s 8ms/step - loss: 26.0848 - mse: 940.1241\n",
            "Epoch 71/100\n",
            "2/2 [==============================] - 0s 5ms/step - loss: 19.4423 - mse: 537.4434\n",
            "Epoch 72/100\n",
            "2/2 [==============================] - 0s 6ms/step - loss: 25.3501 - mse: 960.7849\n",
            "Epoch 73/100\n",
            "2/2 [==============================] - 0s 8ms/step - loss: 35.7193 - mse: 1693.6637\n",
            "Epoch 74/100\n",
            "2/2 [==============================] - 0s 6ms/step - loss: 16.4184 - mse: 440.4605\n",
            "Epoch 75/100\n",
            "2/2 [==============================] - 0s 9ms/step - loss: 30.0560 - mse: 1296.1792\n",
            "Epoch 76/100\n",
            "2/2 [==============================] - 0s 8ms/step - loss: 24.7032 - mse: 890.4256\n",
            "Epoch 77/100\n",
            "2/2 [==============================] - 0s 7ms/step - loss: 17.8535 - mse: 557.0594\n",
            "Epoch 78/100\n",
            "2/2 [==============================] - 0s 6ms/step - loss: 23.0873 - mse: 835.0526\n",
            "Epoch 79/100\n",
            "2/2 [==============================] - 0s 6ms/step - loss: 10.0832 - mse: 139.0953\n",
            "Epoch 80/100\n",
            "2/2 [==============================] - 0s 6ms/step - loss: 22.9531 - mse: 858.1067\n",
            "Epoch 81/100\n",
            "2/2 [==============================] - 0s 11ms/step - loss: 26.6186 - mse: 1001.4441\n",
            "Epoch 82/100\n",
            "2/2 [==============================] - 0s 9ms/step - loss: 8.7183 - mse: 81.7281\n",
            "Epoch 83/100\n",
            "2/2 [==============================] - 0s 11ms/step - loss: 17.7156 - mse: 569.4768\n",
            "Epoch 84/100\n",
            "2/2 [==============================] - 0s 6ms/step - loss: 21.7822 - mse: 755.7748\n",
            "Epoch 85/100\n",
            "2/2 [==============================] - 0s 6ms/step - loss: 8.5676 - mse: 75.3155\n",
            "Epoch 86/100\n",
            "2/2 [==============================] - 0s 7ms/step - loss: 10.1261 - mse: 140.3462\n",
            "Epoch 87/100\n",
            "2/2 [==============================] - 0s 16ms/step - loss: 33.4657 - mse: 1499.2875\n",
            "Epoch 88/100\n",
            "2/2 [==============================] - 0s 10ms/step - loss: 20.4582 - mse: 587.5354\n",
            "Epoch 89/100\n",
            "2/2 [==============================] - 0s 6ms/step - loss: 21.4295 - mse: 680.2626\n",
            "Epoch 90/100\n",
            "2/2 [==============================] - 0s 10ms/step - loss: 40.8004 - mse: 2322.5654\n",
            "Epoch 91/100\n",
            "2/2 [==============================] - 0s 12ms/step - loss: 16.7932 - mse: 489.9627\n",
            "Epoch 92/100\n",
            "2/2 [==============================] - 0s 5ms/step - loss: 19.9796 - mse: 615.1735\n",
            "Epoch 93/100\n",
            "2/2 [==============================] - 0s 7ms/step - loss: 20.7641 - mse: 577.5496\n",
            "Epoch 94/100\n",
            "2/2 [==============================] - 0s 4ms/step - loss: 26.1390 - mse: 1039.2346\n",
            "Epoch 95/100\n",
            "2/2 [==============================] - 0s 6ms/step - loss: 29.1444 - mse: 1105.1466\n",
            "Epoch 96/100\n",
            "2/2 [==============================] - 0s 3ms/step - loss: 20.5376 - mse: 734.9768\n",
            "Epoch 97/100\n",
            "2/2 [==============================] - 0s 4ms/step - loss: 21.5291 - mse: 750.1697\n",
            "Epoch 98/100\n",
            "2/2 [==============================] - 0s 4ms/step - loss: 12.7845 - mse: 295.6524\n",
            "Epoch 99/100\n",
            "2/2 [==============================] - 0s 3ms/step - loss: 16.1075 - mse: 454.2430\n",
            "Epoch 100/100\n",
            "2/2 [==============================] - 0s 4ms/step - loss: 20.3503 - mse: 700.2126\n"
          ]
        },
        {
          "output_type": "execute_result",
          "data": {
            "text/plain": [
              "<keras.callbacks.History at 0x7f3ed3a38450>"
            ]
          },
          "metadata": {},
          "execution_count": 45
        }
      ]
    },
    {
      "cell_type": "code",
      "source": [
        "# make and plot predictions of model_2\n",
        "# make and plot prediction for model_1\n",
        "y_pred_2 = model_2.predict(x_test)\n",
        "plot_predicitions(predicitions=y_pred_2)"
      ],
      "metadata": {
        "colab": {
          "base_uri": "https://localhost:8080/",
          "height": 465
        },
        "id": "0iJJpLsxZWWm",
        "outputId": "a338e92a-e875-4be3-f351-4065ac0327f6"
      },
      "execution_count": 46,
      "outputs": [
        {
          "output_type": "stream",
          "name": "stdout",
          "text": [
            "WARNING:tensorflow:6 out of the last 6 calls to <function Model.make_predict_function.<locals>.predict_function at 0x7f3ed399bdd0> triggered tf.function retracing. Tracing is expensive and the excessive number of tracings could be due to (1) creating @tf.function repeatedly in a loop, (2) passing tensors with different shapes, (3) passing Python objects instead of tensors. For (1), please define your @tf.function outside of the loop. For (2), @tf.function has experimental_relax_shapes=True option that relaxes argument shapes that can avoid unnecessary retracing. For (3), please refer to https://www.tensorflow.org/guide/function#controlling_retracing and https://www.tensorflow.org/api_docs/python/tf/function for  more details.\n"
          ]
        },
        {
          "output_type": "display_data",
          "data": {
            "text/plain": [
              "<Figure size 720x504 with 1 Axes>"
            ],
            "image/png": "[encoded data removed]"
          },
          "metadata": {
            "needs_background": "light"
          }
        }
      ]
    },
    {
      "cell_type": "code",
      "source": [
        "# calculate our evaluation metrics\n",
        "mae_2 = mae(y_test,y_pred_2)\n",
        "mse_2 = mse(y_test, y_pred_2)\n",
        "mae_2, mse_2"
      ],
      "metadata": {
        "colab": {
          "base_uri": "https://localhost:8080/"
        },
        "id": "UxDeUfcpaScc",
        "outputId": "b45d1152-06f6-440b-acd0-dd2aba5ecb53"
      },
      "execution_count": 47,
      "outputs": [
        {
          "output_type": "execute_result",
          "data": {
            "text/plain": [
              "(<tf.Tensor: shape=(), dtype=float32, numpy=33.827583>,\n",
              " <tf.Tensor: shape=(), dtype=float32, numpy=1158.2341>)"
            ]
          },
          "metadata": {},
          "execution_count": 47
        }
      ]
    },
    {
      "cell_type": "markdown",
      "source": [
        "model_3"
      ],
      "metadata": {
        "id": "78e6SNWaaoyE"
      }
    },
    {
      "cell_type": "code",
      "source": [
        "# set the random seed\n",
        "tf.random.set_seed(42)\n",
        "\n",
        "# 1. create the model\n",
        "model_3= tf.keras.Sequential([\n",
        "                            tf.keras.layers.Dense(10),\n",
        "                            tf.keras.layers.Dense(1)\n",
        "                            ])\n",
        "\n",
        "# 2. compile the model\n",
        "model_3.compile(loss=tf.keras.losses.mae,\n",
        "              optimizer = tf.keras.optimizers.SGD(),\n",
        "              metrics= ['mae'])\n",
        "\n",
        "# 3. fit the model\n",
        "#model_3.fit(x, y, epochs=100)\n",
        "model_3.fit(tf.expand_dims(x, axis=-1), y, epochs=500)"
      ],
      "metadata": {
        "colab": {
          "base_uri": "https://localhost:8080/"
        },
        "id": "YoxCujRMeJQF",
        "outputId": "fa97aec1-51b8-4562-95dd-9a90902c73c3"
      },
      "execution_count": 48,
      "outputs": [
        {
          "output_type": "stream",
          "name": "stdout",
          "text": [
            "Epoch 1/500\n",
            "2/2 [==============================] - 1s 8ms/step - loss: 40.2867 - mae: 40.2867\n",
            "Epoch 2/500\n",
            "2/2 [==============================] - 0s 6ms/step - loss: 25.9297 - mae: 25.9297\n",
            "Epoch 3/500\n",
            "2/2 [==============================] - 0s 4ms/step - loss: 44.1696 - mae: 44.1696\n",
            "Epoch 4/500\n",
            "2/2 [==============================] - 0s 4ms/step - loss: 11.2212 - mae: 11.2212\n",
            "Epoch 5/500\n",
            "2/2 [==============================] - 0s 4ms/step - loss: 23.0317 - mae: 23.0317\n",
            "Epoch 6/500\n",
            "2/2 [==============================] - 0s 5ms/step - loss: 24.2563 - mae: 24.2563\n",
            "Epoch 7/500\n",
            "2/2 [==============================] - 0s 5ms/step - loss: 11.2416 - mae: 11.2416\n",
            "Epoch 8/500\n",
            "2/2 [==============================] - 0s 4ms/step - loss: 34.1576 - mae: 34.1576\n",
            "Epoch 9/500\n",
            "2/2 [==============================] - 0s 5ms/step - loss: 12.5246 - mae: 12.5246\n",
            "Epoch 10/500\n",
            "2/2 [==============================] - 0s 4ms/step - loss: 10.1823 - mae: 10.1823\n",
            "Epoch 11/500\n",
            "2/2 [==============================] - 0s 4ms/step - loss: 23.0436 - mae: 23.0436\n",
            "Epoch 12/500\n",
            "2/2 [==============================] - 0s 5ms/step - loss: 16.3819 - mae: 16.3819\n",
            "Epoch 13/500\n",
            "2/2 [==============================] - 0s 6ms/step - loss: 22.6688 - mae: 22.6688\n",
            "Epoch 14/500\n",
            "2/2 [==============================] - 0s 6ms/step - loss: 22.1103 - mae: 22.1103\n",
            "Epoch 15/500\n",
            "2/2 [==============================] - 0s 5ms/step - loss: 19.8442 - mae: 19.8442\n",
            "Epoch 16/500\n",
            "2/2 [==============================] - 0s 4ms/step - loss: 23.1707 - mae: 23.1707\n",
            "Epoch 17/500\n",
            "2/2 [==============================] - 0s 4ms/step - loss: 11.5075 - mae: 11.5075\n",
            "Epoch 18/500\n",
            "2/2 [==============================] - 0s 4ms/step - loss: 29.7742 - mae: 29.7742\n",
            "Epoch 19/500\n",
            "2/2 [==============================] - 0s 4ms/step - loss: 18.4085 - mae: 18.4085\n",
            "Epoch 20/500\n",
            "2/2 [==============================] - 0s 8ms/step - loss: 18.7610 - mae: 18.7610\n",
            "Epoch 21/500\n",
            "2/2 [==============================] - 0s 7ms/step - loss: 19.4369 - mae: 19.4369\n",
            "Epoch 22/500\n",
            "2/2 [==============================] - 0s 12ms/step - loss: 20.5783 - mae: 20.5783\n",
            "Epoch 23/500\n",
            "2/2 [==============================] - 0s 7ms/step - loss: 19.8132 - mae: 19.8132\n",
            "Epoch 24/500\n",
            "2/2 [==============================] - 0s 7ms/step - loss: 18.7247 - mae: 18.7247\n",
            "Epoch 25/500\n",
            "2/2 [==============================] - 0s 7ms/step - loss: 21.7989 - mae: 21.7989\n",
            "Epoch 26/500\n",
            "2/2 [==============================] - 0s 14ms/step - loss: 10.6899 - mae: 10.6899\n",
            "Epoch 27/500\n",
            "2/2 [==============================] - 0s 4ms/step - loss: 30.8423 - mae: 30.8423\n",
            "Epoch 28/500\n",
            "2/2 [==============================] - 0s 4ms/step - loss: 16.5686 - mae: 16.5686\n",
            "Epoch 29/500\n",
            "2/2 [==============================] - 0s 4ms/step - loss: 33.0226 - mae: 33.0226\n",
            "Epoch 30/500\n",
            "2/2 [==============================] - 0s 5ms/step - loss: 19.5703 - mae: 19.5703\n",
            "Epoch 31/500\n",
            "2/2 [==============================] - 0s 5ms/step - loss: 12.5353 - mae: 12.5353\n",
            "Epoch 32/500\n",
            "2/2 [==============================] - 0s 5ms/step - loss: 20.7130 - mae: 20.7130\n",
            "Epoch 33/500\n",
            "2/2 [==============================] - 0s 6ms/step - loss: 20.6412 - mae: 20.6412\n",
            "Epoch 34/500\n",
            "2/2 [==============================] - 0s 5ms/step - loss: 21.2043 - mae: 21.2043\n",
            "Epoch 35/500\n",
            "2/2 [==============================] - 0s 4ms/step - loss: 21.3012 - mae: 21.3012\n",
            "Epoch 36/500\n",
            "2/2 [==============================] - 0s 5ms/step - loss: 18.8072 - mae: 18.8072\n",
            "Epoch 37/500\n",
            "2/2 [==============================] - 0s 7ms/step - loss: 27.4462 - mae: 27.4462\n",
            "Epoch 38/500\n",
            "2/2 [==============================] - 0s 3ms/step - loss: 29.1100 - mae: 29.1100\n",
            "Epoch 39/500\n",
            "2/2 [==============================] - 0s 6ms/step - loss: 20.5542 - mae: 20.5542\n",
            "Epoch 40/500\n",
            "2/2 [==============================] - 0s 6ms/step - loss: 20.6334 - mae: 20.6334\n",
            "Epoch 41/500\n",
            "2/2 [==============================] - 0s 7ms/step - loss: 24.9726 - mae: 24.9726\n",
            "Epoch 42/500\n",
            "2/2 [==============================] - 0s 3ms/step - loss: 20.5609 - mae: 20.5609\n",
            "Epoch 43/500\n",
            "2/2 [==============================] - 0s 11ms/step - loss: 23.1231 - mae: 23.1231\n",
            "Epoch 44/500\n",
            "2/2 [==============================] - 0s 3ms/step - loss: 9.8053 - mae: 9.8053\n",
            "Epoch 45/500\n",
            "2/2 [==============================] - 0s 8ms/step - loss: 22.5487 - mae: 22.5487\n",
            "Epoch 46/500\n",
            "2/2 [==============================] - 0s 7ms/step - loss: 9.2110 - mae: 9.2110\n",
            "Epoch 47/500\n",
            "2/2 [==============================] - 0s 6ms/step - loss: 20.3679 - mae: 20.3679\n",
            "Epoch 48/500\n",
            "2/2 [==============================] - 0s 21ms/step - loss: 8.4309 - mae: 8.4309\n",
            "Epoch 49/500\n",
            "2/2 [==============================] - 0s 7ms/step - loss: 12.6659 - mae: 12.6659\n",
            "Epoch 50/500\n",
            "2/2 [==============================] - 0s 6ms/step - loss: 32.1829 - mae: 32.1829\n",
            "Epoch 51/500\n",
            "2/2 [==============================] - 0s 6ms/step - loss: 16.5208 - mae: 16.5208\n",
            "Epoch 52/500\n",
            "2/2 [==============================] - 0s 6ms/step - loss: 33.7598 - mae: 33.7598\n",
            "Epoch 53/500\n",
            "2/2 [==============================] - 0s 6ms/step - loss: 9.7791 - mae: 9.7791\n",
            "Epoch 54/500\n",
            "2/2 [==============================] - 0s 7ms/step - loss: 11.4445 - mae: 11.4445\n",
            "Epoch 55/500\n",
            "2/2 [==============================] - 0s 6ms/step - loss: 24.6060 - mae: 24.6060\n",
            "Epoch 56/500\n",
            "2/2 [==============================] - 0s 7ms/step - loss: 9.1433 - mae: 9.1433\n",
            "Epoch 57/500\n",
            "2/2 [==============================] - 0s 4ms/step - loss: 11.6297 - mae: 11.6297\n",
            "Epoch 58/500\n",
            "2/2 [==============================] - 0s 6ms/step - loss: 27.3491 - mae: 27.3491\n",
            "Epoch 59/500\n",
            "2/2 [==============================] - 0s 6ms/step - loss: 25.1758 - mae: 25.1758\n",
            "Epoch 60/500\n",
            "2/2 [==============================] - 0s 6ms/step - loss: 11.4501 - mae: 11.4501\n",
            "Epoch 61/500\n",
            "2/2 [==============================] - 0s 9ms/step - loss: 31.5022 - mae: 31.5022\n",
            "Epoch 62/500\n",
            "2/2 [==============================] - 0s 12ms/step - loss: 21.6164 - mae: 21.6164\n",
            "Epoch 63/500\n",
            "2/2 [==============================] - 0s 8ms/step - loss: 9.4131 - mae: 9.4131\n",
            "Epoch 64/500\n",
            "2/2 [==============================] - 0s 9ms/step - loss: 27.2951 - mae: 27.2951\n",
            "Epoch 65/500\n",
            "2/2 [==============================] - 0s 9ms/step - loss: 8.9828 - mae: 8.9828\n",
            "Epoch 66/500\n",
            "2/2 [==============================] - 0s 7ms/step - loss: 9.2362 - mae: 9.2362\n",
            "Epoch 67/500\n",
            "2/2 [==============================] - 0s 7ms/step - loss: 25.8946 - mae: 25.8946\n",
            "Epoch 68/500\n",
            "2/2 [==============================] - 0s 9ms/step - loss: 16.4833 - mae: 16.4833\n",
            "Epoch 69/500\n",
            "2/2 [==============================] - 0s 5ms/step - loss: 25.0206 - mae: 25.0206\n",
            "Epoch 70/500\n",
            "2/2 [==============================] - 0s 4ms/step - loss: 26.0848 - mae: 26.0848\n",
            "Epoch 71/500\n",
            "2/2 [==============================] - 0s 4ms/step - loss: 19.4423 - mae: 19.4423\n",
            "Epoch 72/500\n",
            "2/2 [==============================] - 0s 4ms/step - loss: 25.3501 - mae: 25.3501\n",
            "Epoch 73/500\n",
            "2/2 [==============================] - 0s 7ms/step - loss: 35.7193 - mae: 35.7193\n",
            "Epoch 74/500\n",
            "2/2 [==============================] - 0s 7ms/step - loss: 16.4184 - mae: 16.4184\n",
            "Epoch 75/500\n",
            "2/2 [==============================] - 0s 5ms/step - loss: 30.0560 - mae: 30.0560\n",
            "Epoch 76/500\n",
            "2/2 [==============================] - 0s 5ms/step - loss: 24.7032 - mae: 24.7032\n",
            "Epoch 77/500\n",
            "2/2 [==============================] - 0s 6ms/step - loss: 17.8535 - mae: 17.8535\n",
            "Epoch 78/500\n",
            "2/2 [==============================] - 0s 5ms/step - loss: 23.0873 - mae: 23.0873\n",
            "Epoch 79/500\n",
            "2/2 [==============================] - 0s 9ms/step - loss: 10.0832 - mae: 10.0832\n",
            "Epoch 80/500\n",
            "2/2 [==============================] - 0s 7ms/step - loss: 22.9531 - mae: 22.9531\n",
            "Epoch 81/500\n",
            "2/2 [==============================] - 0s 4ms/step - loss: 26.6186 - mae: 26.6186\n",
            "Epoch 82/500\n",
            "2/2 [==============================] - 0s 5ms/step - loss: 8.7183 - mae: 8.7183\n",
            "Epoch 83/500\n",
            "2/2 [==============================] - 0s 4ms/step - loss: 17.7156 - mae: 17.7156\n",
            "Epoch 84/500\n",
            "2/2 [==============================] - 0s 8ms/step - loss: 21.7822 - mae: 21.7822\n",
            "Epoch 85/500\n",
            "2/2 [==============================] - 0s 4ms/step - loss: 8.5676 - mae: 8.5676\n",
            "Epoch 86/500\n",
            "2/2 [==============================] - 0s 8ms/step - loss: 10.1261 - mae: 10.1261\n",
            "Epoch 87/500\n",
            "2/2 [==============================] - 0s 4ms/step - loss: 33.4657 - mae: 33.4657\n",
            "Epoch 88/500\n",
            "2/2 [==============================] - 0s 7ms/step - loss: 20.4582 - mae: 20.4582\n",
            "Epoch 89/500\n",
            "2/2 [==============================] - 0s 3ms/step - loss: 21.4295 - mae: 21.4295\n",
            "Epoch 90/500\n",
            "2/2 [==============================] - 0s 4ms/step - loss: 40.8004 - mae: 40.8004\n",
            "Epoch 91/500\n",
            "2/2 [==============================] - 0s 4ms/step - loss: 16.7932 - mae: 16.7932\n",
            "Epoch 92/500\n",
            "2/2 [==============================] - 0s 4ms/step - loss: 19.9796 - mae: 19.9796\n",
            "Epoch 93/500\n",
            "2/2 [==============================] - 0s 9ms/step - loss: 20.7641 - mae: 20.7641\n",
            "Epoch 94/500\n",
            "2/2 [==============================] - 0s 4ms/step - loss: 26.1390 - mae: 26.1390\n",
            "Epoch 95/500\n",
            "2/2 [==============================] - 0s 4ms/step - loss: 29.1444 - mae: 29.1444\n",
            "Epoch 96/500\n",
            "2/2 [==============================] - 0s 4ms/step - loss: 20.5376 - mae: 20.5376\n",
            "Epoch 97/500\n",
            "2/2 [==============================] - 0s 31ms/step - loss: 21.5291 - mae: 21.5291\n",
            "Epoch 98/500\n",
            "2/2 [==============================] - 0s 18ms/step - loss: 12.7845 - mae: 12.7845\n",
            "Epoch 99/500\n",
            "2/2 [==============================] - 0s 5ms/step - loss: 16.1075 - mae: 16.1075\n",
            "Epoch 100/500\n",
            "2/2 [==============================] - 0s 5ms/step - loss: 20.3503 - mae: 20.3503\n",
            "Epoch 101/500\n",
            "2/2 [==============================] - 0s 5ms/step - loss: 19.7522 - mae: 19.7522\n",
            "Epoch 102/500\n",
            "2/2 [==============================] - 0s 4ms/step - loss: 22.1510 - mae: 22.1510\n",
            "Epoch 103/500\n",
            "2/2 [==============================] - 0s 5ms/step - loss: 18.4467 - mae: 18.4467\n",
            "Epoch 104/500\n",
            "2/2 [==============================] - 0s 10ms/step - loss: 29.5848 - mae: 29.5848\n",
            "Epoch 105/500\n",
            "2/2 [==============================] - 0s 6ms/step - loss: 20.3813 - mae: 20.3813\n",
            "Epoch 106/500\n",
            "2/2 [==============================] - 0s 4ms/step - loss: 16.3683 - mae: 16.3683\n",
            "Epoch 107/500\n",
            "2/2 [==============================] - 0s 5ms/step - loss: 24.8795 - mae: 24.8795\n",
            "Epoch 108/500\n",
            "2/2 [==============================] - 0s 5ms/step - loss: 37.3015 - mae: 37.3015\n",
            "Epoch 109/500\n",
            "2/2 [==============================] - 0s 5ms/step - loss: 8.3437 - mae: 8.3437\n",
            "Epoch 110/500\n",
            "2/2 [==============================] - 0s 5ms/step - loss: 10.6282 - mae: 10.6282\n",
            "Epoch 111/500\n",
            "2/2 [==============================] - 0s 5ms/step - loss: 34.0729 - mae: 34.0729\n",
            "Epoch 112/500\n",
            "2/2 [==============================] - 0s 10ms/step - loss: 10.3594 - mae: 10.3594\n",
            "Epoch 113/500\n",
            "2/2 [==============================] - 0s 5ms/step - loss: 32.9767 - mae: 32.9767\n",
            "Epoch 114/500\n",
            "2/2 [==============================] - 0s 5ms/step - loss: 20.2792 - mae: 20.2792\n",
            "Epoch 115/500\n",
            "2/2 [==============================] - 0s 6ms/step - loss: 8.2930 - mae: 8.2930\n",
            "Epoch 116/500\n",
            "2/2 [==============================] - 0s 4ms/step - loss: 14.3194 - mae: 14.3194\n",
            "Epoch 117/500\n",
            "2/2 [==============================] - 0s 5ms/step - loss: 20.8604 - mae: 20.8604\n",
            "Epoch 118/500\n",
            "2/2 [==============================] - 0s 8ms/step - loss: 22.8512 - mae: 22.8512\n",
            "Epoch 119/500\n",
            "2/2 [==============================] - 0s 6ms/step - loss: 14.1531 - mae: 14.1531\n",
            "Epoch 120/500\n",
            "2/2 [==============================] - 0s 11ms/step - loss: 24.4288 - mae: 24.4288\n",
            "Epoch 121/500\n",
            "2/2 [==============================] - 0s 14ms/step - loss: 16.9757 - mae: 16.9757\n",
            "Epoch 122/500\n",
            "2/2 [==============================] - 0s 8ms/step - loss: 30.5677 - mae: 30.5677\n",
            "Epoch 123/500\n",
            "2/2 [==============================] - 0s 6ms/step - loss: 22.7694 - mae: 22.7694\n",
            "Epoch 124/500\n",
            "2/2 [==============================] - 0s 19ms/step - loss: 17.1876 - mae: 17.1876\n",
            "Epoch 125/500\n",
            "2/2 [==============================] - 0s 14ms/step - loss: 31.8513 - mae: 31.8513\n",
            "Epoch 126/500\n",
            "2/2 [==============================] - 0s 7ms/step - loss: 22.2556 - mae: 22.2556\n",
            "Epoch 127/500\n",
            "2/2 [==============================] - 0s 9ms/step - loss: 18.3846 - mae: 18.3846\n",
            "Epoch 128/500\n",
            "2/2 [==============================] - 0s 4ms/step - loss: 30.1598 - mae: 30.1598\n",
            "Epoch 129/500\n",
            "2/2 [==============================] - 0s 5ms/step - loss: 25.6530 - mae: 25.6530\n",
            "Epoch 130/500\n",
            "2/2 [==============================] - 0s 7ms/step - loss: 21.0713 - mae: 21.0713\n",
            "Epoch 131/500\n",
            "2/2 [==============================] - 0s 24ms/step - loss: 18.4846 - mae: 18.4846\n",
            "Epoch 132/500\n",
            "2/2 [==============================] - 0s 14ms/step - loss: 27.7685 - mae: 27.7685\n",
            "Epoch 133/500\n",
            "2/2 [==============================] - 0s 6ms/step - loss: 29.3693 - mae: 29.3693\n",
            "Epoch 134/500\n",
            "2/2 [==============================] - 0s 6ms/step - loss: 10.4336 - mae: 10.4336\n",
            "Epoch 135/500\n",
            "2/2 [==============================] - 0s 7ms/step - loss: 19.6114 - mae: 19.6114\n",
            "Epoch 136/500\n",
            "2/2 [==============================] - 0s 7ms/step - loss: 20.3438 - mae: 20.3438\n",
            "Epoch 137/500\n",
            "2/2 [==============================] - 0s 17ms/step - loss: 8.2353 - mae: 8.2353\n",
            "Epoch 138/500\n",
            "2/2 [==============================] - 0s 6ms/step - loss: 10.9121 - mae: 10.9121\n",
            "Epoch 139/500\n",
            "2/2 [==============================] - 0s 6ms/step - loss: 24.4561 - mae: 24.4561\n",
            "Epoch 140/500\n",
            "2/2 [==============================] - 0s 7ms/step - loss: 22.5081 - mae: 22.5081\n",
            "Epoch 141/500\n",
            "2/2 [==============================] - 0s 4ms/step - loss: 18.2518 - mae: 18.2518\n",
            "Epoch 142/500\n",
            "2/2 [==============================] - 0s 7ms/step - loss: 28.5007 - mae: 28.5007\n",
            "Epoch 143/500\n",
            "2/2 [==============================] - 0s 6ms/step - loss: 26.9534 - mae: 26.9534\n",
            "Epoch 144/500\n",
            "2/2 [==============================] - 0s 5ms/step - loss: 8.6424 - mae: 8.6424\n",
            "Epoch 145/500\n",
            "2/2 [==============================] - 0s 6ms/step - loss: 46.6797 - mae: 46.6797\n",
            "Epoch 146/500\n",
            "2/2 [==============================] - 0s 6ms/step - loss: 30.2654 - mae: 30.2654\n",
            "Epoch 147/500\n",
            "2/2 [==============================] - 0s 8ms/step - loss: 7.6527 - mae: 7.6527\n",
            "Epoch 148/500\n",
            "2/2 [==============================] - 0s 8ms/step - loss: 12.8119 - mae: 12.8119\n",
            "Epoch 149/500\n",
            "2/2 [==============================] - 0s 19ms/step - loss: 22.5690 - mae: 22.5690\n",
            "Epoch 150/500\n",
            "2/2 [==============================] - 0s 8ms/step - loss: 32.7371 - mae: 32.7371\n",
            "Epoch 151/500\n",
            "2/2 [==============================] - 0s 14ms/step - loss: 24.8391 - mae: 24.8391\n",
            "Epoch 152/500\n",
            "2/2 [==============================] - 0s 11ms/step - loss: 7.9205 - mae: 7.9205\n",
            "Epoch 153/500\n",
            "2/2 [==============================] - 0s 6ms/step - loss: 12.5864 - mae: 12.5864\n",
            "Epoch 154/500\n",
            "2/2 [==============================] - 0s 14ms/step - loss: 29.0280 - mae: 29.0280\n",
            "Epoch 155/500\n",
            "2/2 [==============================] - 0s 5ms/step - loss: 22.7965 - mae: 22.7965\n",
            "Epoch 156/500\n",
            "2/2 [==============================] - 0s 5ms/step - loss: 11.4236 - mae: 11.4236\n",
            "Epoch 157/500\n",
            "2/2 [==============================] - 0s 7ms/step - loss: 17.0573 - mae: 17.0573\n",
            "Epoch 158/500\n",
            "2/2 [==============================] - 0s 6ms/step - loss: 17.7739 - mae: 17.7739\n",
            "Epoch 159/500\n",
            "2/2 [==============================] - 0s 7ms/step - loss: 21.6004 - mae: 21.6004\n",
            "Epoch 160/500\n",
            "2/2 [==============================] - 0s 11ms/step - loss: 19.9994 - mae: 19.9994\n",
            "Epoch 161/500\n",
            "2/2 [==============================] - 0s 10ms/step - loss: 21.8941 - mae: 21.8941\n",
            "Epoch 162/500\n",
            "2/2 [==============================] - 0s 4ms/step - loss: 41.7726 - mae: 41.7726\n",
            "Epoch 163/500\n",
            "2/2 [==============================] - 0s 5ms/step - loss: 7.6687 - mae: 7.6687\n",
            "Epoch 164/500\n",
            "2/2 [==============================] - 0s 4ms/step - loss: 29.3091 - mae: 29.3091\n",
            "Epoch 165/500\n",
            "2/2 [==============================] - 0s 8ms/step - loss: 18.4930 - mae: 18.4930\n",
            "Epoch 166/500\n",
            "2/2 [==============================] - 0s 8ms/step - loss: 25.4489 - mae: 25.4489\n",
            "Epoch 167/500\n",
            "2/2 [==============================] - 0s 9ms/step - loss: 28.5472 - mae: 28.5472\n",
            "Epoch 168/500\n",
            "2/2 [==============================] - 0s 5ms/step - loss: 9.6701 - mae: 9.6701\n",
            "Epoch 169/500\n",
            "2/2 [==============================] - 0s 4ms/step - loss: 30.2756 - mae: 30.2756\n",
            "Epoch 170/500\n",
            "2/2 [==============================] - 0s 5ms/step - loss: 21.7636 - mae: 21.7636\n",
            "Epoch 171/500\n",
            "2/2 [==============================] - 0s 4ms/step - loss: 7.4054 - mae: 7.4054\n",
            "Epoch 172/500\n",
            "2/2 [==============================] - 0s 4ms/step - loss: 18.7499 - mae: 18.7499\n",
            "Epoch 173/500\n",
            "2/2 [==============================] - 0s 4ms/step - loss: 17.9618 - mae: 17.9618\n",
            "Epoch 174/500\n",
            "2/2 [==============================] - 0s 9ms/step - loss: 26.7143 - mae: 26.7143\n",
            "Epoch 175/500\n",
            "2/2 [==============================] - 0s 4ms/step - loss: 27.1674 - mae: 27.1674\n",
            "Epoch 176/500\n",
            "2/2 [==============================] - 0s 4ms/step - loss: 8.2354 - mae: 8.2354\n",
            "Epoch 177/500\n",
            "2/2 [==============================] - 0s 4ms/step - loss: 23.4059 - mae: 23.4059\n",
            "Epoch 178/500\n",
            "2/2 [==============================] - 0s 5ms/step - loss: 19.9662 - mae: 19.9662\n",
            "Epoch 179/500\n",
            "2/2 [==============================] - 0s 8ms/step - loss: 22.1982 - mae: 22.1982\n",
            "Epoch 180/500\n",
            "2/2 [==============================] - 0s 5ms/step - loss: 9.0518 - mae: 9.0518\n",
            "Epoch 181/500\n",
            "2/2 [==============================] - 0s 6ms/step - loss: 28.9498 - mae: 28.9498\n",
            "Epoch 182/500\n",
            "2/2 [==============================] - 0s 9ms/step - loss: 26.5810 - mae: 26.5810\n",
            "Epoch 183/500\n",
            "2/2 [==============================] - 0s 6ms/step - loss: 10.7862 - mae: 10.7862\n",
            "Epoch 184/500\n",
            "2/2 [==============================] - 0s 9ms/step - loss: 41.5504 - mae: 41.5504\n",
            "Epoch 185/500\n",
            "2/2 [==============================] - 0s 7ms/step - loss: 7.4052 - mae: 7.4052\n",
            "Epoch 186/500\n",
            "2/2 [==============================] - 0s 7ms/step - loss: 31.3832 - mae: 31.3832\n",
            "Epoch 187/500\n",
            "2/2 [==============================] - 0s 5ms/step - loss: 20.0894 - mae: 20.0894\n",
            "Epoch 188/500\n",
            "2/2 [==============================] - 0s 8ms/step - loss: 22.6571 - mae: 22.6571\n",
            "Epoch 189/500\n",
            "2/2 [==============================] - 0s 4ms/step - loss: 34.1371 - mae: 34.1371\n",
            "Epoch 190/500\n",
            "2/2 [==============================] - 0s 5ms/step - loss: 7.7651 - mae: 7.7651\n",
            "Epoch 191/500\n",
            "2/2 [==============================] - 0s 8ms/step - loss: 24.4590 - mae: 24.4590\n",
            "Epoch 192/500\n",
            "2/2 [==============================] - 0s 7ms/step - loss: 16.6093 - mae: 16.6093\n",
            "Epoch 193/500\n",
            "2/2 [==============================] - 0s 8ms/step - loss: 17.7517 - mae: 17.7517\n",
            "Epoch 194/500\n",
            "2/2 [==============================] - 0s 10ms/step - loss: 25.7845 - mae: 25.7845\n",
            "Epoch 195/500\n",
            "2/2 [==============================] - 0s 9ms/step - loss: 32.7777 - mae: 32.7777\n",
            "Epoch 196/500\n",
            "2/2 [==============================] - 0s 6ms/step - loss: 7.3167 - mae: 7.3167\n",
            "Epoch 197/500\n",
            "2/2 [==============================] - 0s 5ms/step - loss: 21.8452 - mae: 21.8452\n",
            "Epoch 198/500\n",
            "2/2 [==============================] - 0s 5ms/step - loss: 17.1752 - mae: 17.1752\n",
            "Epoch 199/500\n",
            "2/2 [==============================] - 0s 4ms/step - loss: 26.5665 - mae: 26.5665\n",
            "Epoch 200/500\n",
            "2/2 [==============================] - 0s 5ms/step - loss: 28.7749 - mae: 28.7749\n",
            "Epoch 201/500\n",
            "2/2 [==============================] - 0s 13ms/step - loss: 12.7862 - mae: 12.7862\n",
            "Epoch 202/500\n",
            "2/2 [==============================] - 0s 10ms/step - loss: 20.1418 - mae: 20.1418\n",
            "Epoch 203/500\n",
            "2/2 [==============================] - 0s 15ms/step - loss: 7.2837 - mae: 7.2837\n",
            "Epoch 204/500\n",
            "2/2 [==============================] - 0s 5ms/step - loss: 6.7697 - mae: 6.7697\n",
            "Epoch 205/500\n",
            "2/2 [==============================] - 0s 5ms/step - loss: 17.2255 - mae: 17.2255\n",
            "Epoch 206/500\n",
            "2/2 [==============================] - 0s 4ms/step - loss: 20.3294 - mae: 20.3294\n",
            "Epoch 207/500\n",
            "2/2 [==============================] - 0s 4ms/step - loss: 19.7897 - mae: 19.7897\n",
            "Epoch 208/500\n",
            "2/2 [==============================] - 0s 4ms/step - loss: 6.8847 - mae: 6.8847\n",
            "Epoch 209/500\n",
            "2/2 [==============================] - 0s 4ms/step - loss: 21.5200 - mae: 21.5200\n",
            "Epoch 210/500\n",
            "2/2 [==============================] - 0s 4ms/step - loss: 20.6663 - mae: 20.6663\n",
            "Epoch 211/500\n",
            "2/2 [==============================] - 0s 4ms/step - loss: 17.1486 - mae: 17.1486\n",
            "Epoch 212/500\n",
            "2/2 [==============================] - 0s 5ms/step - loss: 20.9322 - mae: 20.9322\n",
            "Epoch 213/500\n",
            "2/2 [==============================] - 0s 4ms/step - loss: 21.4507 - mae: 21.4507\n",
            "Epoch 214/500\n",
            "2/2 [==============================] - 0s 4ms/step - loss: 12.8211 - mae: 12.8211\n",
            "Epoch 215/500\n",
            "2/2 [==============================] - 0s 3ms/step - loss: 20.1186 - mae: 20.1186\n",
            "Epoch 216/500\n",
            "2/2 [==============================] - 0s 4ms/step - loss: 17.5226 - mae: 17.5226\n",
            "Epoch 217/500\n",
            "2/2 [==============================] - 0s 3ms/step - loss: 32.9686 - mae: 32.9686\n",
            "Epoch 218/500\n",
            "2/2 [==============================] - 0s 4ms/step - loss: 16.6235 - mae: 16.6235\n",
            "Epoch 219/500\n",
            "2/2 [==============================] - 0s 7ms/step - loss: 16.4191 - mae: 16.4191\n",
            "Epoch 220/500\n",
            "2/2 [==============================] - 0s 8ms/step - loss: 29.3139 - mae: 29.3139\n",
            "Epoch 221/500\n",
            "2/2 [==============================] - 0s 7ms/step - loss: 24.5831 - mae: 24.5831\n",
            "Epoch 222/500\n",
            "2/2 [==============================] - 0s 6ms/step - loss: 19.7211 - mae: 19.7211\n",
            "Epoch 223/500\n",
            "2/2 [==============================] - 0s 14ms/step - loss: 24.3659 - mae: 24.3659\n",
            "Epoch 224/500\n",
            "2/2 [==============================] - 0s 13ms/step - loss: 33.5391 - mae: 33.5391\n",
            "Epoch 225/500\n",
            "2/2 [==============================] - 0s 13ms/step - loss: 7.8425 - mae: 7.8425\n",
            "Epoch 226/500\n",
            "2/2 [==============================] - 0s 5ms/step - loss: 26.2384 - mae: 26.2384\n",
            "Epoch 227/500\n",
            "2/2 [==============================] - 0s 5ms/step - loss: 18.7623 - mae: 18.7623\n",
            "Epoch 228/500\n",
            "2/2 [==============================] - 0s 7ms/step - loss: 19.2310 - mae: 19.2310\n",
            "Epoch 229/500\n",
            "2/2 [==============================] - 0s 7ms/step - loss: 6.5176 - mae: 6.5176\n",
            "Epoch 230/500\n",
            "2/2 [==============================] - 0s 4ms/step - loss: 12.5517 - mae: 12.5517\n",
            "Epoch 231/500\n",
            "2/2 [==============================] - 0s 4ms/step - loss: 17.9402 - mae: 17.9402\n",
            "Epoch 232/500\n",
            "2/2 [==============================] - 0s 7ms/step - loss: 26.1758 - mae: 26.1758\n",
            "Epoch 233/500\n",
            "2/2 [==============================] - 0s 7ms/step - loss: 31.8861 - mae: 31.8861\n",
            "Epoch 234/500\n",
            "2/2 [==============================] - 0s 7ms/step - loss: 17.8869 - mae: 17.8869\n",
            "Epoch 235/500\n",
            "2/2 [==============================] - 0s 9ms/step - loss: 22.6936 - mae: 22.6936\n",
            "Epoch 236/500\n",
            "2/2 [==============================] - 0s 7ms/step - loss: 34.8167 - mae: 34.8167\n",
            "Epoch 237/500\n",
            "2/2 [==============================] - 0s 5ms/step - loss: 7.1689 - mae: 7.1689\n",
            "Epoch 238/500\n",
            "2/2 [==============================] - 0s 12ms/step - loss: 18.1315 - mae: 18.1315\n",
            "Epoch 239/500\n",
            "2/2 [==============================] - 0s 8ms/step - loss: 24.4179 - mae: 24.4179\n",
            "Epoch 240/500\n",
            "2/2 [==============================] - 0s 7ms/step - loss: 32.0025 - mae: 32.0025\n",
            "Epoch 241/500\n",
            "2/2 [==============================] - 0s 4ms/step - loss: 11.4592 - mae: 11.4592\n",
            "Epoch 242/500\n",
            "2/2 [==============================] - 0s 7ms/step - loss: 22.2471 - mae: 22.2471\n",
            "Epoch 243/500\n",
            "2/2 [==============================] - 0s 3ms/step - loss: 20.0678 - mae: 20.0678\n",
            "Epoch 244/500\n",
            "2/2 [==============================] - 0s 4ms/step - loss: 20.1354 - mae: 20.1354\n",
            "Epoch 245/500\n",
            "2/2 [==============================] - 0s 8ms/step - loss: 23.2072 - mae: 23.2072\n",
            "Epoch 246/500\n",
            "2/2 [==============================] - 0s 6ms/step - loss: 18.1322 - mae: 18.1322\n",
            "Epoch 247/500\n",
            "2/2 [==============================] - 0s 6ms/step - loss: 23.0546 - mae: 23.0546\n",
            "Epoch 248/500\n",
            "2/2 [==============================] - 0s 6ms/step - loss: 19.4493 - mae: 19.4493\n",
            "Epoch 249/500\n",
            "2/2 [==============================] - 0s 5ms/step - loss: 25.6628 - mae: 25.6628\n",
            "Epoch 250/500\n",
            "2/2 [==============================] - 0s 4ms/step - loss: 32.4600 - mae: 32.4600\n",
            "Epoch 251/500\n",
            "2/2 [==============================] - 0s 10ms/step - loss: 13.2139 - mae: 13.2139\n",
            "Epoch 252/500\n",
            "2/2 [==============================] - 0s 11ms/step - loss: 21.4469 - mae: 21.4469\n",
            "Epoch 253/500\n",
            "2/2 [==============================] - 0s 19ms/step - loss: 9.9892 - mae: 9.9892\n",
            "Epoch 254/500\n",
            "2/2 [==============================] - 0s 9ms/step - loss: 25.9302 - mae: 25.9302\n",
            "Epoch 255/500\n",
            "2/2 [==============================] - 0s 10ms/step - loss: 31.8003 - mae: 31.8003\n",
            "Epoch 256/500\n",
            "2/2 [==============================] - 0s 6ms/step - loss: 20.0770 - mae: 20.0770\n",
            "Epoch 257/500\n",
            "2/2 [==============================] - 0s 5ms/step - loss: 22.6243 - mae: 22.6243\n",
            "Epoch 258/500\n",
            "2/2 [==============================] - 0s 11ms/step - loss: 16.9559 - mae: 16.9559\n",
            "Epoch 259/500\n",
            "2/2 [==============================] - 0s 4ms/step - loss: 20.4183 - mae: 20.4183\n",
            "Epoch 260/500\n",
            "2/2 [==============================] - 0s 6ms/step - loss: 22.9805 - mae: 22.9805\n",
            "Epoch 261/500\n",
            "2/2 [==============================] - 0s 6ms/step - loss: 17.3856 - mae: 17.3856\n",
            "Epoch 262/500\n",
            "2/2 [==============================] - 0s 7ms/step - loss: 28.9113 - mae: 28.9113\n",
            "Epoch 263/500\n",
            "2/2 [==============================] - 0s 10ms/step - loss: 27.3538 - mae: 27.3538\n",
            "Epoch 264/500\n",
            "2/2 [==============================] - 0s 4ms/step - loss: 20.3569 - mae: 20.3569\n",
            "Epoch 265/500\n",
            "2/2 [==============================] - 0s 5ms/step - loss: 28.4737 - mae: 28.4737\n",
            "Epoch 266/500\n",
            "2/2 [==============================] - 0s 4ms/step - loss: 29.1336 - mae: 29.1336\n",
            "Epoch 267/500\n",
            "2/2 [==============================] - 0s 12ms/step - loss: 18.8635 - mae: 18.8635\n",
            "Epoch 268/500\n",
            "2/2 [==============================] - 0s 10ms/step - loss: 19.6804 - mae: 19.6804\n",
            "Epoch 269/500\n",
            "2/2 [==============================] - 0s 13ms/step - loss: 6.5944 - mae: 6.5944\n",
            "Epoch 270/500\n",
            "2/2 [==============================] - 0s 4ms/step - loss: 20.2835 - mae: 20.2835\n",
            "Epoch 271/500\n",
            "2/2 [==============================] - 0s 5ms/step - loss: 19.7645 - mae: 19.7645\n",
            "Epoch 272/500\n",
            "2/2 [==============================] - 0s 11ms/step - loss: 29.1535 - mae: 29.1535\n",
            "Epoch 273/500\n",
            "2/2 [==============================] - 0s 4ms/step - loss: 23.4915 - mae: 23.4915\n",
            "Epoch 274/500\n",
            "2/2 [==============================] - 0s 6ms/step - loss: 14.0699 - mae: 14.0699\n",
            "Epoch 275/500\n",
            "2/2 [==============================] - 0s 4ms/step - loss: 29.7059 - mae: 29.7059\n",
            "Epoch 276/500\n",
            "2/2 [==============================] - 0s 4ms/step - loss: 24.4510 - mae: 24.4510\n",
            "Epoch 277/500\n",
            "2/2 [==============================] - 0s 4ms/step - loss: 6.3705 - mae: 6.3705\n",
            "Epoch 278/500\n",
            "2/2 [==============================] - 0s 7ms/step - loss: 6.6775 - mae: 6.6775\n",
            "Epoch 279/500\n",
            "2/2 [==============================] - 0s 6ms/step - loss: 23.0180 - mae: 23.0180\n",
            "Epoch 280/500\n",
            "2/2 [==============================] - 0s 5ms/step - loss: 19.2516 - mae: 19.2516\n",
            "Epoch 281/500\n",
            "2/2 [==============================] - 0s 5ms/step - loss: 22.5199 - mae: 22.5199\n",
            "Epoch 282/500\n",
            "2/2 [==============================] - 0s 11ms/step - loss: 36.2022 - mae: 36.2022\n",
            "Epoch 283/500\n",
            "2/2 [==============================] - 0s 4ms/step - loss: 18.1491 - mae: 18.1491\n",
            "Epoch 284/500\n",
            "2/2 [==============================] - 0s 21ms/step - loss: 21.0469 - mae: 21.0469\n",
            "Epoch 285/500\n",
            "2/2 [==============================] - 0s 8ms/step - loss: 18.6950 - mae: 18.6950\n",
            "Epoch 286/500\n",
            "2/2 [==============================] - 0s 3ms/step - loss: 6.8121 - mae: 6.8121\n",
            "Epoch 287/500\n",
            "2/2 [==============================] - 0s 6ms/step - loss: 33.6175 - mae: 33.6175\n",
            "Epoch 288/500\n",
            "2/2 [==============================] - 0s 11ms/step - loss: 8.8245 - mae: 8.8245\n",
            "Epoch 289/500\n",
            "2/2 [==============================] - 0s 7ms/step - loss: 27.3448 - mae: 27.3448\n",
            "Epoch 290/500\n",
            "2/2 [==============================] - 0s 7ms/step - loss: 8.7749 - mae: 8.7749\n",
            "Epoch 291/500\n",
            "2/2 [==============================] - 0s 10ms/step - loss: 31.6021 - mae: 31.6021\n",
            "Epoch 292/500\n",
            "2/2 [==============================] - 0s 6ms/step - loss: 17.4170 - mae: 17.4170\n",
            "Epoch 293/500\n",
            "2/2 [==============================] - 0s 9ms/step - loss: 19.3982 - mae: 19.3982\n",
            "Epoch 294/500\n",
            "2/2 [==============================] - 0s 7ms/step - loss: 20.5730 - mae: 20.5730\n",
            "Epoch 295/500\n",
            "2/2 [==============================] - 0s 8ms/step - loss: 41.4681 - mae: 41.4681\n",
            "Epoch 296/500\n",
            "2/2 [==============================] - 0s 5ms/step - loss: 19.9577 - mae: 19.9577\n",
            "Epoch 297/500\n",
            "2/2 [==============================] - 0s 5ms/step - loss: 19.6127 - mae: 19.6127\n",
            "Epoch 298/500\n",
            "2/2 [==============================] - 0s 7ms/step - loss: 21.2449 - mae: 21.2449\n",
            "Epoch 299/500\n",
            "2/2 [==============================] - 0s 14ms/step - loss: 5.8430 - mae: 5.8430\n",
            "Epoch 300/500\n",
            "2/2 [==============================] - 0s 4ms/step - loss: 5.7764 - mae: 5.7764\n",
            "Epoch 301/500\n",
            "2/2 [==============================] - 0s 7ms/step - loss: 18.0872 - mae: 18.0872\n",
            "Epoch 302/500\n",
            "2/2 [==============================] - 0s 9ms/step - loss: 8.2738 - mae: 8.2738\n",
            "Epoch 303/500\n",
            "2/2 [==============================] - 0s 7ms/step - loss: 29.6155 - mae: 29.6155\n",
            "Epoch 304/500\n",
            "2/2 [==============================] - 0s 7ms/step - loss: 27.0268 - mae: 27.0268\n",
            "Epoch 305/500\n",
            "2/2 [==============================] - 0s 22ms/step - loss: 18.1674 - mae: 18.1674\n",
            "Epoch 306/500\n",
            "2/2 [==============================] - 0s 18ms/step - loss: 22.5624 - mae: 22.5624\n",
            "Epoch 307/500\n",
            "2/2 [==============================] - 0s 11ms/step - loss: 32.2819 - mae: 32.2819\n",
            "Epoch 308/500\n",
            "2/2 [==============================] - 0s 6ms/step - loss: 15.1831 - mae: 15.1831\n",
            "Epoch 309/500\n",
            "2/2 [==============================] - 0s 11ms/step - loss: 18.8342 - mae: 18.8342\n",
            "Epoch 310/500\n",
            "2/2 [==============================] - 0s 15ms/step - loss: 21.5519 - mae: 21.5519\n",
            "Epoch 311/500\n",
            "2/2 [==============================] - 0s 7ms/step - loss: 24.8194 - mae: 24.8194\n",
            "Epoch 312/500\n",
            "2/2 [==============================] - 0s 20ms/step - loss: 5.7585 - mae: 5.7585\n",
            "Epoch 313/500\n",
            "2/2 [==============================] - 0s 6ms/step - loss: 15.9954 - mae: 15.9954\n",
            "Epoch 314/500\n",
            "2/2 [==============================] - 0s 6ms/step - loss: 36.8301 - mae: 36.8301\n",
            "Epoch 315/500\n",
            "2/2 [==============================] - 0s 6ms/step - loss: 6.1339 - mae: 6.1339\n",
            "Epoch 316/500\n",
            "2/2 [==============================] - 0s 4ms/step - loss: 19.6802 - mae: 19.6802\n",
            "Epoch 317/500\n",
            "2/2 [==============================] - 0s 6ms/step - loss: 29.7892 - mae: 29.7892\n",
            "Epoch 318/500\n",
            "2/2 [==============================] - 0s 12ms/step - loss: 25.8272 - mae: 25.8272\n",
            "Epoch 319/500\n",
            "2/2 [==============================] - 0s 9ms/step - loss: 14.0596 - mae: 14.0596\n",
            "Epoch 320/500\n",
            "2/2 [==============================] - 0s 7ms/step - loss: 23.9893 - mae: 23.9893\n",
            "Epoch 321/500\n",
            "2/2 [==============================] - 0s 10ms/step - loss: 28.9728 - mae: 28.9728\n",
            "Epoch 322/500\n",
            "2/2 [==============================] - 0s 12ms/step - loss: 20.7924 - mae: 20.7924\n",
            "Epoch 323/500\n",
            "2/2 [==============================] - 0s 4ms/step - loss: 20.9998 - mae: 20.9998\n",
            "Epoch 324/500\n",
            "2/2 [==============================] - 0s 4ms/step - loss: 22.8198 - mae: 22.8198\n",
            "Epoch 325/500\n",
            "2/2 [==============================] - 0s 4ms/step - loss: 36.2364 - mae: 36.2364\n",
            "Epoch 326/500\n",
            "2/2 [==============================] - 0s 12ms/step - loss: 7.6788 - mae: 7.6788\n",
            "Epoch 327/500\n",
            "2/2 [==============================] - 0s 16ms/step - loss: 39.7529 - mae: 39.7529\n",
            "Epoch 328/500\n",
            "2/2 [==============================] - 0s 5ms/step - loss: 17.2325 - mae: 17.2325\n",
            "Epoch 329/500\n",
            "2/2 [==============================] - 0s 18ms/step - loss: 21.7246 - mae: 21.7246\n",
            "Epoch 330/500\n",
            "2/2 [==============================] - 0s 24ms/step - loss: 38.7492 - mae: 38.7492\n",
            "Epoch 331/500\n",
            "2/2 [==============================] - 0s 5ms/step - loss: 14.8194 - mae: 14.8194\n",
            "Epoch 332/500\n",
            "2/2 [==============================] - 0s 5ms/step - loss: 12.0051 - mae: 12.0051\n",
            "Epoch 333/500\n",
            "2/2 [==============================] - 0s 5ms/step - loss: 25.0764 - mae: 25.0764\n",
            "Epoch 334/500\n",
            "2/2 [==============================] - 0s 9ms/step - loss: 31.9654 - mae: 31.9654\n",
            "Epoch 335/500\n",
            "2/2 [==============================] - 0s 4ms/step - loss: 17.9395 - mae: 17.9395\n",
            "Epoch 336/500\n",
            "2/2 [==============================] - 0s 4ms/step - loss: 24.6294 - mae: 24.6294\n",
            "Epoch 337/500\n",
            "2/2 [==============================] - 0s 4ms/step - loss: 26.7831 - mae: 26.7831\n",
            "Epoch 338/500\n",
            "2/2 [==============================] - 0s 3ms/step - loss: 17.0856 - mae: 17.0856\n",
            "Epoch 339/500\n",
            "2/2 [==============================] - 0s 3ms/step - loss: 6.1791 - mae: 6.1791\n",
            "Epoch 340/500\n",
            "2/2 [==============================] - 0s 3ms/step - loss: 20.9639 - mae: 20.9639\n",
            "Epoch 341/500\n",
            "2/2 [==============================] - 0s 8ms/step - loss: 17.8731 - mae: 17.8731\n",
            "Epoch 342/500\n",
            "2/2 [==============================] - 0s 15ms/step - loss: 22.1612 - mae: 22.1612\n",
            "Epoch 343/500\n",
            "2/2 [==============================] - 0s 6ms/step - loss: 6.4148 - mae: 6.4148\n",
            "Epoch 344/500\n",
            "2/2 [==============================] - 0s 6ms/step - loss: 51.7194 - mae: 51.7194\n",
            "Epoch 345/500\n",
            "2/2 [==============================] - 0s 4ms/step - loss: 21.2431 - mae: 21.2431\n",
            "Epoch 346/500\n",
            "2/2 [==============================] - 0s 6ms/step - loss: 21.8731 - mae: 21.8731\n",
            "Epoch 347/500\n",
            "2/2 [==============================] - 0s 8ms/step - loss: 34.2658 - mae: 34.2658\n",
            "Epoch 348/500\n",
            "2/2 [==============================] - 0s 15ms/step - loss: 19.8762 - mae: 19.8762\n",
            "Epoch 349/500\n",
            "2/2 [==============================] - 0s 4ms/step - loss: 15.2878 - mae: 15.2878\n",
            "Epoch 350/500\n",
            "2/2 [==============================] - 0s 7ms/step - loss: 19.1410 - mae: 19.1410\n",
            "Epoch 351/500\n",
            "2/2 [==============================] - 0s 5ms/step - loss: 27.4990 - mae: 27.4990\n",
            "Epoch 352/500\n",
            "2/2 [==============================] - 0s 8ms/step - loss: 26.1631 - mae: 26.1631\n",
            "Epoch 353/500\n",
            "2/2 [==============================] - 0s 14ms/step - loss: 6.9500 - mae: 6.9500\n",
            "Epoch 354/500\n",
            "2/2 [==============================] - 0s 9ms/step - loss: 25.2524 - mae: 25.2524\n",
            "Epoch 355/500\n",
            "2/2 [==============================] - 0s 8ms/step - loss: 30.2375 - mae: 30.2375\n",
            "Epoch 356/500\n",
            "2/2 [==============================] - 0s 7ms/step - loss: 13.2246 - mae: 13.2246\n",
            "Epoch 357/500\n",
            "2/2 [==============================] - 0s 8ms/step - loss: 21.4281 - mae: 21.4281\n",
            "Epoch 358/500\n",
            "2/2 [==============================] - 0s 9ms/step - loss: 20.2180 - mae: 20.2180\n",
            "Epoch 359/500\n",
            "2/2 [==============================] - 0s 7ms/step - loss: 19.0666 - mae: 19.0666\n",
            "Epoch 360/500\n",
            "2/2 [==============================] - 0s 19ms/step - loss: 26.7396 - mae: 26.7396\n",
            "Epoch 361/500\n",
            "2/2 [==============================] - 0s 4ms/step - loss: 29.4330 - mae: 29.4330\n",
            "Epoch 362/500\n",
            "2/2 [==============================] - 0s 5ms/step - loss: 13.7623 - mae: 13.7623\n",
            "Epoch 363/500\n",
            "2/2 [==============================] - 0s 4ms/step - loss: 8.0731 - mae: 8.0731\n",
            "Epoch 364/500\n",
            "2/2 [==============================] - 0s 5ms/step - loss: 28.3173 - mae: 28.3173\n",
            "Epoch 365/500\n",
            "2/2 [==============================] - 0s 9ms/step - loss: 28.7115 - mae: 28.7115\n",
            "Epoch 366/500\n",
            "2/2 [==============================] - 0s 4ms/step - loss: 19.1706 - mae: 19.1706\n",
            "Epoch 367/500\n",
            "2/2 [==============================] - 0s 5ms/step - loss: 18.8773 - mae: 18.8773\n",
            "Epoch 368/500\n",
            "2/2 [==============================] - 0s 5ms/step - loss: 27.5180 - mae: 27.5180\n",
            "Epoch 369/500\n",
            "2/2 [==============================] - 0s 3ms/step - loss: 30.8197 - mae: 30.8197\n",
            "Epoch 370/500\n",
            "2/2 [==============================] - 0s 4ms/step - loss: 16.5256 - mae: 16.5256\n",
            "Epoch 371/500\n",
            "2/2 [==============================] - 0s 5ms/step - loss: 20.1733 - mae: 20.1733\n",
            "Epoch 372/500\n",
            "2/2 [==============================] - 0s 4ms/step - loss: 17.6318 - mae: 17.6318\n",
            "Epoch 373/500\n",
            "2/2 [==============================] - 0s 3ms/step - loss: 23.7539 - mae: 23.7539\n",
            "Epoch 374/500\n",
            "2/2 [==============================] - 0s 7ms/step - loss: 39.7083 - mae: 39.7083\n",
            "Epoch 375/500\n",
            "2/2 [==============================] - 0s 3ms/step - loss: 13.7830 - mae: 13.7830\n",
            "Epoch 376/500\n",
            "2/2 [==============================] - 0s 6ms/step - loss: 24.4866 - mae: 24.4866\n",
            "Epoch 377/500\n",
            "2/2 [==============================] - 0s 15ms/step - loss: 37.0238 - mae: 37.0238\n",
            "Epoch 378/500\n",
            "2/2 [==============================] - 0s 6ms/step - loss: 20.6433 - mae: 20.6433\n",
            "Epoch 379/500\n",
            "2/2 [==============================] - 0s 9ms/step - loss: 21.2150 - mae: 21.2150\n",
            "Epoch 380/500\n",
            "2/2 [==============================] - 0s 6ms/step - loss: 19.1139 - mae: 19.1139\n",
            "Epoch 381/500\n",
            "2/2 [==============================] - 0s 3ms/step - loss: 26.3562 - mae: 26.3562\n",
            "Epoch 382/500\n",
            "2/2 [==============================] - 0s 3ms/step - loss: 29.0992 - mae: 29.0992\n",
            "Epoch 383/500\n",
            "2/2 [==============================] - 0s 4ms/step - loss: 19.1016 - mae: 19.1016\n",
            "Epoch 384/500\n",
            "2/2 [==============================] - 0s 3ms/step - loss: 17.0832 - mae: 17.0832\n",
            "Epoch 385/500\n",
            "2/2 [==============================] - 0s 4ms/step - loss: 28.5589 - mae: 28.5589\n",
            "Epoch 386/500\n",
            "2/2 [==============================] - 0s 6ms/step - loss: 4.8219 - mae: 4.8219\n",
            "Epoch 387/500\n",
            "2/2 [==============================] - 0s 3ms/step - loss: 12.8862 - mae: 12.8862\n",
            "Epoch 388/500\n",
            "2/2 [==============================] - 0s 6ms/step - loss: 24.0228 - mae: 24.0228\n",
            "Epoch 389/500\n",
            "2/2 [==============================] - 0s 4ms/step - loss: 38.5181 - mae: 38.5181\n",
            "Epoch 390/500\n",
            "2/2 [==============================] - 0s 3ms/step - loss: 10.5960 - mae: 10.5960\n",
            "Epoch 391/500\n",
            "2/2 [==============================] - 0s 5ms/step - loss: 33.2991 - mae: 33.2991\n",
            "Epoch 392/500\n",
            "2/2 [==============================] - 0s 3ms/step - loss: 18.0840 - mae: 18.0840\n",
            "Epoch 393/500\n",
            "2/2 [==============================] - 0s 3ms/step - loss: 31.7734 - mae: 31.7734\n",
            "Epoch 394/500\n",
            "2/2 [==============================] - 0s 4ms/step - loss: 21.3811 - mae: 21.3811\n",
            "Epoch 395/500\n",
            "2/2 [==============================] - 0s 7ms/step - loss: 19.4699 - mae: 19.4699\n",
            "Epoch 396/500\n",
            "2/2 [==============================] - 0s 9ms/step - loss: 30.6705 - mae: 30.6705\n",
            "Epoch 397/500\n",
            "2/2 [==============================] - 0s 8ms/step - loss: 19.4862 - mae: 19.4862\n",
            "Epoch 398/500\n",
            "2/2 [==============================] - 0s 8ms/step - loss: 16.0859 - mae: 16.0859\n",
            "Epoch 399/500\n",
            "2/2 [==============================] - 0s 6ms/step - loss: 29.7499 - mae: 29.7499\n",
            "Epoch 400/500\n",
            "2/2 [==============================] - 0s 5ms/step - loss: 23.3923 - mae: 23.3923\n",
            "Epoch 401/500\n",
            "2/2 [==============================] - 0s 17ms/step - loss: 20.0637 - mae: 20.0637\n",
            "Epoch 402/500\n",
            "2/2 [==============================] - 0s 10ms/step - loss: 23.1267 - mae: 23.1267\n",
            "Epoch 403/500\n",
            "2/2 [==============================] - 0s 7ms/step - loss: 36.6277 - mae: 36.6277\n",
            "Epoch 404/500\n",
            "2/2 [==============================] - 0s 9ms/step - loss: 19.2031 - mae: 19.2031\n",
            "Epoch 405/500\n",
            "2/2 [==============================] - 0s 41ms/step - loss: 19.6495 - mae: 19.6495\n",
            "Epoch 406/500\n",
            "2/2 [==============================] - 0s 27ms/step - loss: 27.4163 - mae: 27.4163\n",
            "Epoch 407/500\n",
            "2/2 [==============================] - 0s 36ms/step - loss: 28.8632 - mae: 28.8632\n",
            "Epoch 408/500\n",
            "2/2 [==============================] - 0s 12ms/step - loss: 19.4376 - mae: 19.4376\n",
            "Epoch 409/500\n",
            "2/2 [==============================] - 0s 8ms/step - loss: 19.7425 - mae: 19.7425\n",
            "Epoch 410/500\n",
            "2/2 [==============================] - 0s 8ms/step - loss: 32.0408 - mae: 32.0408\n",
            "Epoch 411/500\n",
            "2/2 [==============================] - 0s 8ms/step - loss: 15.4337 - mae: 15.4337\n",
            "Epoch 412/500\n",
            "2/2 [==============================] - 0s 32ms/step - loss: 18.8404 - mae: 18.8404\n",
            "Epoch 413/500\n",
            "2/2 [==============================] - 0s 4ms/step - loss: 30.5561 - mae: 30.5561\n",
            "Epoch 414/500\n",
            "2/2 [==============================] - 0s 4ms/step - loss: 20.1303 - mae: 20.1303\n",
            "Epoch 415/500\n",
            "2/2 [==============================] - 0s 4ms/step - loss: 14.1503 - mae: 14.1503\n",
            "Epoch 416/500\n",
            "2/2 [==============================] - 0s 5ms/step - loss: 29.7256 - mae: 29.7256\n",
            "Epoch 417/500\n",
            "2/2 [==============================] - 0s 7ms/step - loss: 26.4055 - mae: 26.4055\n",
            "Epoch 418/500\n",
            "2/2 [==============================] - 0s 9ms/step - loss: 19.8957 - mae: 19.8957\n",
            "Epoch 419/500\n",
            "2/2 [==============================] - 0s 8ms/step - loss: 21.4475 - mae: 21.4475\n",
            "Epoch 420/500\n",
            "2/2 [==============================] - 0s 4ms/step - loss: 37.0744 - mae: 37.0744\n",
            "Epoch 421/500\n",
            "2/2 [==============================] - 0s 3ms/step - loss: 19.8889 - mae: 19.8889\n",
            "Epoch 422/500\n",
            "2/2 [==============================] - 0s 4ms/step - loss: 18.3726 - mae: 18.3726\n",
            "Epoch 423/500\n",
            "2/2 [==============================] - 0s 7ms/step - loss: 28.5691 - mae: 28.5691\n",
            "Epoch 424/500\n",
            "2/2 [==============================] - 0s 4ms/step - loss: 29.2115 - mae: 29.2115\n",
            "Epoch 425/500\n",
            "2/2 [==============================] - 0s 8ms/step - loss: 12.3947 - mae: 12.3947\n",
            "Epoch 426/500\n",
            "2/2 [==============================] - 0s 3ms/step - loss: 23.1948 - mae: 23.1948\n",
            "Epoch 427/500\n",
            "2/2 [==============================] - 0s 4ms/step - loss: 28.5628 - mae: 28.5628\n",
            "Epoch 428/500\n",
            "2/2 [==============================] - 0s 3ms/step - loss: 17.0675 - mae: 17.0675\n",
            "Epoch 429/500\n",
            "2/2 [==============================] - 0s 6ms/step - loss: 30.6688 - mae: 30.6688\n",
            "Epoch 430/500\n",
            "2/2 [==============================] - 0s 4ms/step - loss: 22.3962 - mae: 22.3962\n",
            "Epoch 431/500\n",
            "2/2 [==============================] - 0s 8ms/step - loss: 12.9703 - mae: 12.9703\n",
            "Epoch 432/500\n",
            "2/2 [==============================] - 0s 18ms/step - loss: 16.1374 - mae: 16.1374\n",
            "Epoch 433/500\n",
            "2/2 [==============================] - 0s 18ms/step - loss: 7.8898 - mae: 7.8898\n",
            "Epoch 434/500\n",
            "2/2 [==============================] - 0s 4ms/step - loss: 37.3699 - mae: 37.3699\n",
            "Epoch 435/500\n",
            "2/2 [==============================] - 0s 4ms/step - loss: 19.9612 - mae: 19.9612\n",
            "Epoch 436/500\n",
            "2/2 [==============================] - 0s 13ms/step - loss: 20.8160 - mae: 20.8160\n",
            "Epoch 437/500\n",
            "2/2 [==============================] - 0s 6ms/step - loss: 20.8398 - mae: 20.8398\n",
            "Epoch 438/500\n",
            "2/2 [==============================] - 0s 9ms/step - loss: 18.9303 - mae: 18.9303\n",
            "Epoch 439/500\n",
            "2/2 [==============================] - 0s 7ms/step - loss: 28.3370 - mae: 28.3370\n",
            "Epoch 440/500\n",
            "2/2 [==============================] - 0s 4ms/step - loss: 27.7503 - mae: 27.7503\n",
            "Epoch 441/500\n",
            "2/2 [==============================] - 0s 13ms/step - loss: 6.1891 - mae: 6.1891\n",
            "Epoch 442/500\n",
            "2/2 [==============================] - 0s 10ms/step - loss: 40.2744 - mae: 40.2744\n",
            "Epoch 443/500\n",
            "2/2 [==============================] - 0s 4ms/step - loss: 17.3016 - mae: 17.3016\n",
            "Epoch 444/500\n",
            "2/2 [==============================] - 0s 11ms/step - loss: 20.0042 - mae: 20.0042\n",
            "Epoch 445/500\n",
            "2/2 [==============================] - 0s 4ms/step - loss: 17.4537 - mae: 17.4537\n",
            "Epoch 446/500\n",
            "2/2 [==============================] - 0s 19ms/step - loss: 20.3412 - mae: 20.3412\n",
            "Epoch 447/500\n",
            "2/2 [==============================] - 0s 6ms/step - loss: 18.5959 - mae: 18.5959\n",
            "Epoch 448/500\n",
            "2/2 [==============================] - 0s 6ms/step - loss: 23.9749 - mae: 23.9749\n",
            "Epoch 449/500\n",
            "2/2 [==============================] - 0s 8ms/step - loss: 33.9745 - mae: 33.9745\n",
            "Epoch 450/500\n",
            "2/2 [==============================] - 0s 9ms/step - loss: 9.4867 - mae: 9.4867\n",
            "Epoch 451/500\n",
            "2/2 [==============================] - 0s 10ms/step - loss: 35.1017 - mae: 35.1017\n",
            "Epoch 452/500\n",
            "2/2 [==============================] - 0s 17ms/step - loss: 19.1703 - mae: 19.1703\n",
            "Epoch 453/500\n",
            "2/2 [==============================] - 0s 9ms/step - loss: 21.8623 - mae: 21.8623\n",
            "Epoch 454/500\n",
            "2/2 [==============================] - 0s 12ms/step - loss: 18.1313 - mae: 18.1313\n",
            "Epoch 455/500\n",
            "2/2 [==============================] - 0s 15ms/step - loss: 23.0706 - mae: 23.0706\n",
            "Epoch 456/500\n",
            "2/2 [==============================] - 0s 7ms/step - loss: 35.7957 - mae: 35.7957\n",
            "Epoch 457/500\n",
            "2/2 [==============================] - 0s 7ms/step - loss: 19.1558 - mae: 19.1558\n",
            "Epoch 458/500\n",
            "2/2 [==============================] - 0s 6ms/step - loss: 19.1115 - mae: 19.1115\n",
            "Epoch 459/500\n",
            "2/2 [==============================] - 0s 4ms/step - loss: 27.4022 - mae: 27.4022\n",
            "Epoch 460/500\n",
            "2/2 [==============================] - 0s 9ms/step - loss: 31.8370 - mae: 31.8370\n",
            "Epoch 461/500\n",
            "2/2 [==============================] - 0s 7ms/step - loss: 19.7555 - mae: 19.7555\n",
            "Epoch 462/500\n",
            "2/2 [==============================] - 0s 8ms/step - loss: 17.7716 - mae: 17.7716\n",
            "Epoch 463/500\n",
            "2/2 [==============================] - 0s 19ms/step - loss: 23.6951 - mae: 23.6951\n",
            "Epoch 464/500\n",
            "2/2 [==============================] - 0s 5ms/step - loss: 18.7164 - mae: 18.7164\n",
            "Epoch 465/500\n",
            "2/2 [==============================] - 0s 3ms/step - loss: 17.2333 - mae: 17.2333\n",
            "Epoch 466/500\n",
            "2/2 [==============================] - 0s 3ms/step - loss: 4.2805 - mae: 4.2805\n",
            "Epoch 467/500\n",
            "2/2 [==============================] - 0s 5ms/step - loss: 4.3498 - mae: 4.3498\n",
            "Epoch 468/500\n",
            "2/2 [==============================] - 0s 19ms/step - loss: 19.6804 - mae: 19.6804\n",
            "Epoch 469/500\n",
            "2/2 [==============================] - 0s 11ms/step - loss: 19.3144 - mae: 19.3144\n",
            "Epoch 470/500\n",
            "2/2 [==============================] - 0s 7ms/step - loss: 26.2520 - mae: 26.2520\n",
            "Epoch 471/500\n",
            "2/2 [==============================] - 0s 4ms/step - loss: 30.9448 - mae: 30.9448\n",
            "Epoch 472/500\n",
            "2/2 [==============================] - 0s 8ms/step - loss: 19.7603 - mae: 19.7603\n",
            "Epoch 473/500\n",
            "2/2 [==============================] - 0s 7ms/step - loss: 23.4737 - mae: 23.4737\n",
            "Epoch 474/500\n",
            "2/2 [==============================] - 0s 9ms/step - loss: 36.2581 - mae: 36.2581\n",
            "Epoch 475/500\n",
            "2/2 [==============================] - 0s 13ms/step - loss: 17.9939 - mae: 17.9939\n",
            "Epoch 476/500\n",
            "2/2 [==============================] - 0s 7ms/step - loss: 17.8945 - mae: 17.8945\n",
            "Epoch 477/500\n",
            "2/2 [==============================] - 0s 11ms/step - loss: 31.9580 - mae: 31.9580\n",
            "Epoch 478/500\n",
            "2/2 [==============================] - 0s 12ms/step - loss: 20.1564 - mae: 20.1564\n",
            "Epoch 479/500\n",
            "2/2 [==============================] - 0s 4ms/step - loss: 18.5650 - mae: 18.5650\n",
            "Epoch 480/500\n",
            "2/2 [==============================] - 0s 3ms/step - loss: 19.5039 - mae: 19.5039\n",
            "Epoch 481/500\n",
            "2/2 [==============================] - 0s 26ms/step - loss: 23.7418 - mae: 23.7418\n",
            "Epoch 482/500\n",
            "2/2 [==============================] - 0s 10ms/step - loss: 31.1139 - mae: 31.1139\n",
            "Epoch 483/500\n",
            "2/2 [==============================] - 0s 20ms/step - loss: 17.9790 - mae: 17.9790\n",
            "Epoch 484/500\n",
            "2/2 [==============================] - 0s 9ms/step - loss: 29.1399 - mae: 29.1399\n",
            "Epoch 485/500\n",
            "2/2 [==============================] - 0s 22ms/step - loss: 26.3997 - mae: 26.3997\n",
            "Epoch 486/500\n",
            "2/2 [==============================] - 0s 13ms/step - loss: 18.8010 - mae: 18.8010\n",
            "Epoch 487/500\n",
            "2/2 [==============================] - 0s 11ms/step - loss: 24.4569 - mae: 24.4569\n",
            "Epoch 488/500\n",
            "2/2 [==============================] - 0s 3ms/step - loss: 30.4880 - mae: 30.4880\n",
            "Epoch 489/500\n",
            "2/2 [==============================] - 0s 4ms/step - loss: 16.8253 - mae: 16.8253\n",
            "Epoch 490/500\n",
            "2/2 [==============================] - 0s 4ms/step - loss: 23.2698 - mae: 23.2698\n",
            "Epoch 491/500\n",
            "2/2 [==============================] - 0s 7ms/step - loss: 40.8538 - mae: 40.8538\n",
            "Epoch 492/500\n",
            "2/2 [==============================] - 0s 7ms/step - loss: 19.9195 - mae: 19.9195\n",
            "Epoch 493/500\n",
            "2/2 [==============================] - 0s 6ms/step - loss: 16.9342 - mae: 16.9342\n",
            "Epoch 494/500\n",
            "2/2 [==============================] - 0s 5ms/step - loss: 20.2143 - mae: 20.2143\n",
            "Epoch 495/500\n",
            "2/2 [==============================] - 0s 6ms/step - loss: 20.2847 - mae: 20.2847\n",
            "Epoch 496/500\n",
            "2/2 [==============================] - 0s 5ms/step - loss: 19.5366 - mae: 19.5366\n",
            "Epoch 497/500\n",
            "2/2 [==============================] - 0s 7ms/step - loss: 27.2176 - mae: 27.2176\n",
            "Epoch 498/500\n",
            "2/2 [==============================] - 0s 6ms/step - loss: 30.1125 - mae: 30.1125\n",
            "Epoch 499/500\n",
            "2/2 [==============================] - 0s 3ms/step - loss: 4.9585 - mae: 4.9585\n",
            "Epoch 500/500\n",
            "2/2 [==============================] - 0s 3ms/step - loss: 34.8032 - mae: 34.8032\n"
          ]
        },
        {
          "output_type": "execute_result",
          "data": {
            "text/plain": [
              "<keras.callbacks.History at 0x7f3ed3861f90>"
            ]
          },
          "metadata": {},
          "execution_count": 48
        }
      ]
    },
    {
      "cell_type": "code",
      "source": [
        "# make and plot predictions of model_2\n",
        "# make and plot prediction for model_1\n",
        "y_pred_3 = model_3.predict(x_test)\n",
        "plot_predicitions(predicitions=y_pred_3)"
      ],
      "metadata": {
        "colab": {
          "base_uri": "https://localhost:8080/",
          "height": 428
        },
        "id": "Z1U8PVuHeU4j",
        "outputId": "fc295010-c398-4801-f834-47ce597c4171"
      },
      "execution_count": 49,
      "outputs": [
        {
          "output_type": "display_data",
          "data": {
            "text/plain": [
              "<Figure size 720x504 with 1 Axes>"
            ],
            "image/png": "[encoded data removed]"
          },
          "metadata": {
            "needs_background": "light"
          }
        }
      ]
    },
    {
      "cell_type": "code",
      "source": [
        "# calculate our evaluation metrics\n",
        "mae_3 = mae(y_test,y_pred_3)\n",
        "mse_3 = mse(y_test, y_pred_3)\n",
        "mae_3, mse_3"
      ],
      "metadata": {
        "colab": {
          "base_uri": "https://localhost:8080/"
        },
        "id": "ziLxAMzNehss",
        "outputId": "a5a4217f-dbcb-4c1e-9848-79d45067c0cd"
      },
      "execution_count": 50,
      "outputs": [
        {
          "output_type": "execute_result",
          "data": {
            "text/plain": [
              "(<tf.Tensor: shape=(), dtype=float32, numpy=15.080874>,\n",
              " <tf.Tensor: shape=(), dtype=float32, numpy=235.06535>)"
            ]
          },
          "metadata": {},
          "execution_count": 50
        }
      ]
    },
    {
      "cell_type": "markdown",
      "source": [
        "# You want to start with small experiments (small models) and make sure they work and then increase their scale when necessary."
      ],
      "metadata": {
        "id": "DKi5TQgrerDV"
      }
    },
    {
      "cell_type": "markdown",
      "source": [
        "Comparing the results of our experiments\n",
        "\n",
        "we have run a few experiments, lets compare the results"
      ],
      "metadata": {
        "id": "QrxZEeyximPR"
      }
    },
    {
      "cell_type": "code",
      "source": [
        "# lets compare our model results using a pandas datafram\n",
        "import pandas as pd\n",
        "\n",
        "model_results = (['model_1', mae_1.numpy(), mse_1.numpy()],\n",
        "                 ['model_2', mae_2.numpy(), mse_2.numpy()],\n",
        "                 ['model_3', mae_3.numpy(), mse_3.numpy()])\n",
        "\n",
        "all_results = pd.DataFrame( model_results, columns = ['model', 'mae', 'mse'])\n",
        "all_results"
      ],
      "metadata": {
        "colab": {
          "base_uri": "https://localhost:8080/",
          "height": 143
        },
        "id": "3mo6JsJ6kPi1",
        "outputId": "b860e649-e8b4-4004-f63c-5a8291e846cc"
      },
      "execution_count": 55,
      "outputs": [
        {
          "output_type": "execute_result",
          "data": {
            "text/plain": [
              "     model        mae          mse\n",
              "0  model_1  17.323328   301.801208\n",
              "1  model_2  33.827583  1158.234131\n",
              "2  model_3  15.080874   235.065353"
            ],
            "text/html": [
              "\n",
              "  <div id=\"df-e0ea15b3-dfb7-47a2-bf88-df39a607b438\">\n",
              "    <div class=\"colab-df-container\">\n",
              "      <div>\n",
              "<style scoped>\n",
              "    .dataframe tbody tr th:only-of-type {\n",
              "        vertical-align: middle;\n",
              "    }\n",
              "\n",
              "    .dataframe tbody tr th {\n",
              "        vertical-align: top;\n",
              "    }\n",
              "\n",
              "    .dataframe thead th {\n",
              "        text-align: right;\n",
              "    }\n",
              "</style>\n",
              "<table border=\"1\" class=\"dataframe\">\n",
              "  <thead>\n",
              "    <tr style=\"text-align: right;\">\n",
              "      <th></th>\n",
              "      <th>model</th>\n",
              "      <th>mae</th>\n",
              "      <th>mse</th>\n",
              "    </tr>\n",
              "  </thead>\n",
              "  <tbody>\n",
              "    <tr>\n",
              "      <th>0</th>\n",
              "      <td>model_1</td>\n",
              "      <td>17.323328</td>\n",
              "      <td>301.801208</td>\n",
              "    </tr>\n",
              "    <tr>\n",
              "      <th>1</th>\n",
              "      <td>model_2</td>\n",
              "      <td>33.827583</td>\n",
              "      <td>1158.234131</td>\n",
              "    </tr>\n",
              "    <tr>\n",
              "      <th>2</th>\n",
              "      <td>model_3</td>\n",
              "      <td>15.080874</td>\n",
              "      <td>235.065353</td>\n",
              "    </tr>\n",
              "  </tbody>\n",
              "</table>\n",
              "</div>\n",
              "      <button class=\"colab-df-convert\" onclick=\"convertToInteractive('df-e0ea15b3-dfb7-47a2-bf88-df39a607b438')\"\n",
              "              title=\"Convert this dataframe to an interactive table.\"\n",
              "              style=\"display:none;\">\n",
              "        \n",
              "  <svg xmlns=\"http://www.w3.org/2000/svg\" height=\"24px\"viewBox=\"0 0 24 24\"\n",
              "       width=\"24px\">\n",
              "    <path d=\"M0 0h24v24H0V0z\" fill=\"none\"/>\n",
              "    <path d=\"M18.56 5.44l.94 2.06.94-2.06 2.06-.94-2.06-.94-.94-2.06-.94 2.06-2.06.94zm-11 1L8.5 8.5l.94-2.06 2.06-.94-2.06-.94L8.5 2.5l-.94 2.06-2.06.94zm10 10l.94 2.06.94-2.06 2.06-.94-2.06-.94-.94-2.06-.94 2.06-2.06.94z\"/><path d=\"M17.41 7.96l-1.37-1.37c-.4-.4-.92-.59-1.43-.59-.52 0-1.04.2-1.43.59L10.3 9.45l-7.72 7.72c-.78.78-.78 2.05 0 2.83L4 21.41c.39.39.9.59 1.41.59.51 0 1.02-.2 1.41-.59l7.78-7.78 2.81-2.81c.8-.78.8-2.07 0-2.86zM5.41 20L4 18.59l7.72-7.72 1.47 1.35L5.41 20z\"/>\n",
              "  </svg>\n",
              "      </button>\n",
              "      \n",
              "  <style>\n",
              "    .colab-df-container {\n",
              "      display:flex;\n",
              "      flex-wrap:wrap;\n",
              "      gap: 12px;\n",
              "    }\n",
              "\n",
              "    .colab-df-convert {\n",
              "      background-color: #E8F0FE;\n",
              "      border: none;\n",
              "      border-radius: 50%;\n",
              "      cursor: pointer;\n",
              "      display: none;\n",
              "      fill: #1967D2;\n",
              "      height: 32px;\n",
              "      padding: 0 0 0 0;\n",
              "      width: 32px;\n",
              "    }\n",
              "\n",
              "    .colab-df-convert:hover {\n",
              "      background-color: #E2EBFA;\n",
              "      box-shadow: 0px 1px 2px rgba(60, 64, 67, 0.3), 0px 1px 3px 1px rgba(60, 64, 67, 0.15);\n",
              "      fill: #174EA6;\n",
              "    }\n",
              "\n",
              "    [theme=dark] .colab-df-convert {\n",
              "      background-color: #3B4455;\n",
              "      fill: #D2E3FC;\n",
              "    }\n",
              "\n",
              "    [theme=dark] .colab-df-convert:hover {\n",
              "      background-color: #434B5C;\n",
              "      box-shadow: 0px 1px 3px 1px rgba(0, 0, 0, 0.15);\n",
              "      filter: drop-shadow(0px 1px 2px rgba(0, 0, 0, 0.3));\n",
              "      fill: #FFFFFF;\n",
              "    }\n",
              "  </style>\n",
              "\n",
              "      <script>\n",
              "        const buttonEl =\n",
              "          document.querySelector('#df-e0ea15b3-dfb7-47a2-bf88-df39a607b438 button.colab-df-convert');\n",
              "        buttonEl.style.display =\n",
              "          google.colab.kernel.accessAllowed ? 'block' : 'none';\n",
              "\n",
              "        async function convertToInteractive(key) {\n",
              "          const element = document.querySelector('#df-e0ea15b3-dfb7-47a2-bf88-df39a607b438');\n",
              "          const dataTable =\n",
              "            await google.colab.kernel.invokeFunction('convertToInteractive',\n",
              "                                                     [key], {});\n",
              "          if (!dataTable) return;\n",
              "\n",
              "          const docLinkHtml = 'Like what you see? Visit the ' +\n",
              "            '<a target=\"_blank\" href=https://colab.research.google.com/notebooks/data_table.ipynb>data table notebook</a>'\n",
              "            + ' to learn more about interactive tables.';\n",
              "          element.innerHTML = '';\n",
              "          dataTable['output_type'] = 'display_data';\n",
              "          await google.colab.output.renderOutput(dataTable, element);\n",
              "          const docLink = document.createElement('div');\n",
              "          docLink.innerHTML = docLinkHtml;\n",
              "          element.appendChild(docLink);\n",
              "        }\n",
              "      </script>\n",
              "    </div>\n",
              "  </div>\n",
              "  "
            ]
          },
          "metadata": {},
          "execution_count": 55
        }
      ]
    },
    {
      "cell_type": "markdown",
      "source": [
        "**Note** One of your main goals should be to minimze the time between your experiments. The more experiments yyou do, the more things you will figure out which dont work and in turn, get closer to figuring out what does work. remeber the machine learing practioner;s motto: 'experiment, experiment, experiment'."
      ],
      "metadata": {
        "id": "uHe6RuMVlGIY"
      }
    },
    {
      "cell_type": "markdown",
      "source": [
        "## Tracking your experiments\n",
        "one of the good habits in machine learning modelling is to track the result of your experiment\n",
        "\n",
        "And when doing so, it can be tedious if you are running lots of experiments\n",
        "\n",
        "Luckilt, there are tools to help us!\n",
        "\n",
        "**Resources** As you build more models, you will want to look into using:\n",
        "\n",
        "* TensorBoard - a component of Tensorflow library to help track modelling experiments (we will see this later).ResourceWarning\n",
        "\n",
        "* weights and biases - a tool used for tracking all kinds of machine learning experiments (plugs straight into tensor TensorBoard)"
      ],
      "metadata": {
        "id": "ZqXR4aKGm2zO"
      }
    },
    {
      "cell_type": "markdown",
      "source": [
        "## Saving our model \n",
        "saving our model allows us to use them outside of google colab ( or wherever they were trained) such as in web application or a mobile app\n",
        "\n",
        "there are two main formats we can save our models too:\n",
        "\n",
        "1. The savedModel format\n",
        "2. The HDF5 (Hierarchical Data format)"
      ],
      "metadata": {
        "id": "3E3LSCern7Ld"
      }
    },
    {
      "cell_type": "code",
      "source": [
        "# save model using the saved model format\n",
        "model_2.save('best_model_SavedModel_format')"
      ],
      "metadata": {
        "colab": {
          "base_uri": "https://localhost:8080/"
        },
        "id": "-0g4ze0yoTDs",
        "outputId": "915ba7e1-351e-4ed0-f895-02f79af96c19"
      },
      "execution_count": 58,
      "outputs": [
        {
          "output_type": "stream",
          "name": "stdout",
          "text": [
            "INFO:tensorflow:Assets written to: best_model_SavedModel_format/assets\n"
          ]
        }
      ]
    },
    {
      "cell_type": "code",
      "source": [
        "# save model using HDF5 format\n",
        "model_2.save('best_model_HDF5_format.h5')"
      ],
      "metadata": {
        "id": "JLB57C84prFI"
      },
      "execution_count": 59,
      "outputs": []
    },
    {
      "cell_type": "markdown",
      "source": [
        "## loading in saved  model"
      ],
      "metadata": {
        "id": "RxaRJ1Kpp-mH"
      }
    },
    {
      "cell_type": "code",
      "source": [
        "#load in savedmodel format model\n",
        "loaded_SsavedModel_format = tf.keras.models.load_model('/content/best_model_SavedModel_format')\n",
        "loaded_SsavedModel_format.summary()"
      ],
      "metadata": {
        "colab": {
          "base_uri": "https://localhost:8080/"
        },
        "id": "gUzq5F_Zq1aV",
        "outputId": "57a66bec-16a3-4484-b000-ef340528f4f1"
      },
      "execution_count": 62,
      "outputs": [
        {
          "output_type": "stream",
          "name": "stdout",
          "text": [
            "Model: \"sequential_6\"\n",
            "_________________________________________________________________\n",
            " Layer (type)                Output Shape              Param #   \n",
            "=================================================================\n",
            " dense_6 (Dense)             (None, 10)                20        \n",
            "                                                                 \n",
            " dense_7 (Dense)             (None, 1)                 11        \n",
            "                                                                 \n",
            "=================================================================\n",
            "Total params: 31\n",
            "Trainable params: 31\n",
            "Non-trainable params: 0\n",
            "_________________________________________________________________\n"
          ]
        }
      ]
    },
    {
      "cell_type": "code",
      "source": [
        "# Compare model_2 predictions with saved Model format predictions\n",
        "model_2_preds = model_2.predict(x_test)\n",
        "loaded_SsavedModel_format_preds = loaded_SsavedModel_format.predict(x_test)\n",
        "model_2_preds == loaded_SsavedModel_format_preds"
      ],
      "metadata": {
        "colab": {
          "base_uri": "https://localhost:8080/"
        },
        "id": "KHZkSWCAr38M",
        "outputId": "214e152b-64c5-4e5e-e9b5-6e5fe1b1b2e0"
      },
      "execution_count": 67,
      "outputs": [
        {
          "output_type": "execute_result",
          "data": {
            "text/plain": [
              "array([[ True],\n",
              "       [ True],\n",
              "       [ True],\n",
              "       [ True],\n",
              "       [ True],\n",
              "       [ True],\n",
              "       [ True],\n",
              "       [ True],\n",
              "       [ True],\n",
              "       [ True]])"
            ]
          },
          "metadata": {},
          "execution_count": 67
        }
      ]
    },
    {
      "cell_type": "code",
      "source": [
        "mae(y_true= y_test, y_pred=model_2_preds) == mae(y_true= y_test, y_pred= loaded_SsavedModel_format_preds)"
      ],
      "metadata": {
        "colab": {
          "base_uri": "https://localhost:8080/"
        },
        "id": "B44s032FstmE",
        "outputId": "5cbbaf1d-3d41-4c15-e0f2-379beaea6105"
      },
      "execution_count": 64,
      "outputs": [
        {
          "output_type": "execute_result",
          "data": {
            "text/plain": [
              "<tf.Tensor: shape=(), dtype=bool, numpy=True>"
            ]
          },
          "metadata": {},
          "execution_count": 64
        }
      ]
    },
    {
      "cell_type": "code",
      "source": [
        "model_2_preds.squeeze() == loaded_SsavedModel_format_preds.squeeze()"
      ],
      "metadata": {
        "colab": {
          "base_uri": "https://localhost:8080/"
        },
        "id": "MAjcJlcHtG3s",
        "outputId": "cd39c6f3-b0aa-44cd-99a9-a6e9883c21e9"
      },
      "execution_count": 66,
      "outputs": [
        {
          "output_type": "execute_result",
          "data": {
            "text/plain": [
              "array([ True,  True,  True,  True,  True,  True,  True,  True,  True,\n",
              "        True])"
            ]
          },
          "metadata": {},
          "execution_count": 66
        }
      ]
    },
    {
      "cell_type": "code",
      "source": [
        "# laoding the model using the .h5 format\n",
        "loaded_h5_model = tf.keras.models.load_model('/content/best_model_HDF5_format.h5')\n",
        "loaded_h5_model"
      ],
      "metadata": {
        "colab": {
          "base_uri": "https://localhost:8080/"
        },
        "id": "ydmDTyi9tVQa",
        "outputId": "015f52cc-8055-42f6-b1ce-7d157e20ddcd"
      },
      "execution_count": 69,
      "outputs": [
        {
          "output_type": "execute_result",
          "data": {
            "text/plain": [
              "<keras.engine.sequential.Sequential at 0x7f3e4bd04b90>"
            ]
          },
          "metadata": {},
          "execution_count": 69
        }
      ]
    },
    {
      "cell_type": "code",
      "source": [
        "# check to see if loaded .h5 model predictions match model_2\n",
        "model_2_preds = model_2.predict(x_test)\n",
        "loaded_h5_model_preds = loaded_h5_model.predict(x_test)\n",
        "model_2_preds == loaded_h5_model_preds"
      ],
      "metadata": {
        "colab": {
          "base_uri": "https://localhost:8080/"
        },
        "id": "bRPE-FRct6Ha",
        "outputId": "e81aea3f-1042-4a98-87db-15c383324032"
      },
      "execution_count": 70,
      "outputs": [
        {
          "output_type": "execute_result",
          "data": {
            "text/plain": [
              "array([[ True],\n",
              "       [ True],\n",
              "       [ True],\n",
              "       [ True],\n",
              "       [ True],\n",
              "       [ True],\n",
              "       [ True],\n",
              "       [ True],\n",
              "       [ True],\n",
              "       [ True]])"
            ]
          },
          "metadata": {},
          "execution_count": 70
        }
      ]
    },
    {
      "cell_type": "code",
      "source": [
        "# Download files from colab\n",
        "from google.colab import files\n",
        "files.download('/content/best_model_HDF5_format.h5')"
      ],
      "metadata": {
        "colab": {
          "base_uri": "https://localhost:8080/",
          "height": 17
        },
        "id": "wqjRVfcGvQjH",
        "outputId": "0121a18b-4283-4509-ed0e-63a7abf6f5da"
      },
      "execution_count": 71,
      "outputs": [
        {
          "output_type": "display_data",
          "data": {
            "text/plain": [
              "<IPython.core.display.Javascript object>"
            ],
            "application/javascript": [
              "\n",
              "    async function download(id, filename, size) {\n",
              "      if (!google.colab.kernel.accessAllowed) {\n",
              "        return;\n",
              "      }\n",
              "      const div = document.createElement('div');\n",
              "      const label = document.createElement('label');\n",
              "      label.textContent = `Downloading \"${filename}\": `;\n",
              "      div.appendChild(label);\n",
              "      const progress = document.createElement('progress');\n",
              "      progress.max = size;\n",
              "      div.appendChild(progress);\n",
              "      document.body.appendChild(div);\n",
              "\n",
              "      const buffers = [];\n",
              "      let downloaded = 0;\n",
              "\n",
              "      const channel = await google.colab.kernel.comms.open(id);\n",
              "      // Send a message to notify the kernel that we're ready.\n",
              "      channel.send({})\n",
              "\n",
              "      for await (const message of channel.messages) {\n",
              "        // Send a message to notify the kernel that we're ready.\n",
              "        channel.send({})\n",
              "        if (message.buffers) {\n",
              "          for (const buffer of message.buffers) {\n",
              "            buffers.push(buffer);\n",
              "            downloaded += buffer.byteLength;\n",
              "            progress.value = downloaded;\n",
              "          }\n",
              "        }\n",
              "      }\n",
              "      const blob = new Blob(buffers, {type: 'application/binary'});\n",
              "      const a = document.createElement('a');\n",
              "      a.href = window.URL.createObjectURL(blob);\n",
              "      a.download = filename;\n",
              "      div.appendChild(a);\n",
              "      a.click();\n",
              "      div.remove();\n",
              "    }\n",
              "  "
            ]
          },
          "metadata": {}
        },
        {
          "output_type": "display_data",
          "data": {
            "text/plain": [
              "<IPython.core.display.Javascript object>"
            ],
            "application/javascript": [
              "download(\"download_d1a044eb-ab0f-4640-8323-efc034c47ad1\", \"best_model_HDF5_format.h5\", 17872)"
            ]
          },
          "metadata": {}
        }
      ]
    },
    {
      "cell_type": "code",
      "source": [
        "# save a file from google colab to googledrive (requires mounting Google drive)\n",
        "!cp /content/best_model_HDF5_format.h5 /content/drive/MyDrive/Tensor"
      ],
      "metadata": {
        "id": "JjixIB1xzizP"
      },
      "execution_count": 72,
      "outputs": []
    },
    {
      "cell_type": "code",
      "source": [
        "ls /content/drive/MyDrive/Tensor"
      ],
      "metadata": {
        "colab": {
          "base_uri": "https://localhost:8080/"
        },
        "id": "di0RNFrS1Euq",
        "outputId": "4f3cb228-a7df-4572-9664-d29d28ca2ac0"
      },
      "execution_count": 73,
      "outputs": [
        {
          "output_type": "stream",
          "name": "stdout",
          "text": [
            "best_model_HDF5_format.h5\n"
          ]
        }
      ]
    },
    {
      "cell_type": "markdown",
      "source": [
        "# A larger example"
      ],
      "metadata": {
        "id": "2_dmmDzN1Hcy"
      }
    },
    {
      "cell_type": "code",
      "source": [
        ""
      ],
      "metadata": {
        "id": "m-k0CSlH1N_b"
      },
      "execution_count": null,
      "outputs": []
    }
  ]
}