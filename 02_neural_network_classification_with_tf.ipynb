{
  "nbformat": 4,
  "nbformat_minor": 0,
  "metadata": {
    "colab": {
      "name": "02_neural_network_classification_with_tf.ipynb",
      "provenance": [],
      "collapsed_sections": [],
      "authorship_tag": "ABX9TyOzPzP0m146gFUOGlkucpE9",
      "include_colab_link": true
    },
    "kernelspec": {
      "name": "python3",
      "display_name": "Python 3"
    },
    "language_info": {
      "name": "python"
    }
  },
  "cells": [
    {
      "cell_type": "markdown",
      "metadata": {
        "id": "view-in-github",
        "colab_type": "text"
      },
      "source": [
        "<a href=\"https://colab.research.google.com/github/Kennedy87670/Introduction-to-ML-DP/blob/main/02_neural_network_classification_with_tf.ipynb\" target=\"_parent\"><img src=\"https://colab.research.google.com/assets/colab-badge.svg\" alt=\"Open In Colab\"/></a>"
      ]
    },
    {
      "cell_type": "markdown",
      "source": [
        "# Introduction to neural network with Tensor flow\n",
        "\n",
        "In this notebook we are going to learn how to write neural network for classification problems\n",
        "\n",
        "A classification is where you try to classify something as one thing or another \n",
        "\n",
        "A few types of classification problems:\n",
        "\n",
        "* Binary classification\n",
        "* Mutliclass classification\n",
        "* Multilabel classification"
      ],
      "metadata": {
        "id": "SeGUM12CfgGQ"
      }
    },
    {
      "cell_type": "markdown",
      "source": [
        "Creating data to view and fit "
      ],
      "metadata": {
        "id": "oBwrknLKglOR"
      }
    },
    {
      "cell_type": "code",
      "source": [
        "from sklearn.datasets import make_circles\n",
        "\n",
        "# make 1000 examples\n",
        "n_samples = 1000\n",
        "\n",
        "# Create cirlces\n",
        "x, y = make_circles(n_samples, \n",
        "                    noise = 0.03,\n",
        "                    random_state=42)"
      ],
      "metadata": {
        "id": "3rHbNB_ggqUU"
      },
      "execution_count": 2,
      "outputs": []
    },
    {
      "cell_type": "code",
      "source": [
        "# Check out the features\n",
        "x"
      ],
      "metadata": {
        "colab": {
          "base_uri": "https://localhost:8080/"
        },
        "id": "H5IrmcufhsGV",
        "outputId": "555e5f7f-e4d6-4ebb-8dec-cc7a111323f4"
      },
      "execution_count": 3,
      "outputs": [
        {
          "output_type": "execute_result",
          "data": {
            "text/plain": [
              "array([[ 0.75424625,  0.23148074],\n",
              "       [-0.75615888,  0.15325888],\n",
              "       [-0.81539193,  0.17328203],\n",
              "       ...,\n",
              "       [-0.13690036, -0.81001183],\n",
              "       [ 0.67036156, -0.76750154],\n",
              "       [ 0.28105665,  0.96382443]])"
            ]
          },
          "metadata": {},
          "execution_count": 3
        }
      ]
    },
    {
      "cell_type": "code",
      "source": [
        "# check the labels\n",
        "y"
      ],
      "metadata": {
        "colab": {
          "base_uri": "https://localhost:8080/"
        },
        "id": "DxaSKf8_h0dM",
        "outputId": "8b504a57-cdc9-454e-8aa7-ebfdc94a2900"
      },
      "execution_count": 4,
      "outputs": [
        {
          "output_type": "execute_result",
          "data": {
            "text/plain": [
              "array([1, 1, 1, 1, 0, 1, 1, 1, 1, 0, 1, 0, 1, 1, 1, 1, 0, 1, 1, 0, 1, 0,\n",
              "       0, 1, 0, 0, 0, 1, 1, 1, 0, 0, 1, 0, 0, 0, 1, 1, 1, 0, 0, 0, 0, 1,\n",
              "       0, 0, 1, 1, 0, 1, 1, 1, 0, 1, 0, 0, 1, 0, 0, 1, 0, 0, 1, 0, 1, 1,\n",
              "       1, 1, 0, 1, 0, 0, 1, 1, 0, 0, 1, 0, 1, 0, 1, 0, 0, 0, 0, 1, 1, 1,\n",
              "       1, 0, 0, 0, 1, 0, 1, 0, 1, 0, 0, 1, 1, 0, 1, 0, 1, 1, 1, 1, 0, 1,\n",
              "       1, 1, 1, 1, 0, 0, 0, 1, 1, 0, 1, 0, 1, 0, 0, 1, 1, 0, 1, 1, 1, 1,\n",
              "       0, 1, 1, 0, 0, 0, 0, 0, 0, 0, 1, 0, 1, 1, 1, 0, 1, 0, 1, 0, 1, 0,\n",
              "       1, 0, 0, 1, 0, 1, 1, 1, 1, 1, 1, 1, 0, 1, 0, 0, 0, 0, 0, 1, 0, 0,\n",
              "       0, 0, 1, 1, 0, 1, 0, 1, 1, 0, 0, 0, 1, 1, 1, 1, 1, 0, 0, 0, 0, 0,\n",
              "       1, 0, 0, 1, 1, 1, 1, 1, 0, 1, 0, 1, 0, 0, 1, 1, 1, 0, 1, 0, 1, 1,\n",
              "       0, 1, 1, 0, 1, 0, 1, 0, 1, 1, 0, 1, 0, 1, 0, 0, 0, 1, 0, 0, 0, 0,\n",
              "       1, 1, 0, 0, 0, 0, 0, 0, 0, 1, 1, 1, 0, 0, 1, 1, 1, 0, 1, 0, 0, 0,\n",
              "       0, 1, 1, 0, 1, 0, 0, 0, 1, 0, 1, 0, 0, 1, 0, 1, 1, 1, 0, 0, 0, 1,\n",
              "       0, 0, 0, 1, 1, 1, 1, 0, 0, 0, 1, 0, 0, 0, 1, 0, 0, 0, 1, 1, 0, 1,\n",
              "       1, 1, 1, 1, 1, 1, 0, 0, 0, 0, 1, 0, 0, 0, 0, 1, 1, 1, 0, 0, 1, 0,\n",
              "       1, 0, 1, 1, 0, 0, 1, 1, 1, 1, 0, 0, 0, 0, 0, 0, 1, 1, 0, 1, 0, 0,\n",
              "       1, 0, 0, 0, 0, 0, 0, 0, 0, 1, 0, 0, 0, 0, 1, 0, 0, 1, 0, 1, 0, 0,\n",
              "       0, 1, 0, 0, 1, 1, 0, 0, 1, 0, 0, 1, 1, 0, 1, 1, 0, 0, 1, 0, 1, 0,\n",
              "       0, 0, 1, 1, 0, 0, 1, 1, 1, 1, 1, 0, 0, 1, 1, 1, 1, 0, 1, 1, 1, 1,\n",
              "       1, 0, 0, 1, 0, 1, 0, 0, 0, 0, 1, 0, 0, 0, 0, 0, 0, 0, 0, 0, 1, 1,\n",
              "       0, 1, 1, 1, 1, 1, 1, 0, 1, 1, 1, 1, 0, 0, 0, 1, 1, 1, 0, 0, 0, 0,\n",
              "       1, 1, 0, 0, 0, 0, 1, 0, 0, 0, 1, 0, 0, 1, 1, 1, 1, 1, 1, 0, 0, 0,\n",
              "       1, 0, 0, 0, 0, 0, 1, 1, 1, 0, 0, 0, 0, 0, 1, 1, 1, 0, 0, 1, 1, 1,\n",
              "       1, 0, 1, 1, 0, 1, 0, 0, 0, 1, 0, 0, 1, 0, 0, 1, 1, 0, 0, 1, 1, 0,\n",
              "       1, 0, 1, 0, 1, 0, 1, 0, 0, 0, 1, 0, 0, 0, 0, 0, 0, 1, 1, 1, 1, 0,\n",
              "       0, 0, 1, 0, 1, 1, 0, 0, 0, 0, 0, 1, 1, 1, 0, 0, 1, 0, 0, 1, 0, 0,\n",
              "       1, 0, 0, 1, 0, 0, 0, 1, 0, 0, 1, 1, 1, 0, 1, 1, 0, 0, 0, 1, 1, 1,\n",
              "       1, 0, 0, 1, 1, 1, 0, 0, 0, 0, 1, 1, 0, 0, 1, 1, 0, 0, 1, 1, 1, 1,\n",
              "       1, 1, 1, 0, 1, 0, 1, 0, 0, 1, 0, 1, 1, 1, 1, 0, 0, 1, 1, 0, 0, 1,\n",
              "       0, 1, 0, 0, 0, 1, 0, 0, 1, 1, 1, 1, 0, 1, 1, 1, 1, 1, 1, 1, 0, 1,\n",
              "       0, 1, 1, 1, 0, 0, 1, 0, 0, 0, 1, 1, 1, 1, 0, 0, 0, 0, 1, 0, 1, 1,\n",
              "       1, 0, 1, 0, 0, 1, 0, 0, 1, 1, 1, 1, 1, 0, 1, 0, 0, 0, 1, 1, 1, 1,\n",
              "       1, 0, 0, 0, 1, 1, 1, 1, 0, 0, 0, 0, 0, 1, 1, 0, 1, 0, 1, 0, 0, 0,\n",
              "       0, 0, 0, 0, 0, 0, 1, 1, 1, 1, 1, 0, 1, 0, 1, 1, 1, 1, 0, 1, 1, 1,\n",
              "       1, 1, 1, 1, 1, 0, 1, 1, 0, 1, 0, 0, 0, 1, 0, 1, 1, 1, 0, 1, 1, 0,\n",
              "       1, 1, 0, 1, 0, 1, 1, 0, 0, 1, 1, 1, 0, 0, 0, 0, 1, 1, 0, 0, 1, 1,\n",
              "       1, 1, 1, 1, 1, 1, 1, 1, 1, 1, 1, 1, 0, 0, 1, 0, 1, 0, 1, 0, 1, 1,\n",
              "       1, 1, 1, 1, 0, 1, 0, 1, 1, 1, 0, 1, 1, 0, 0, 1, 0, 1, 1, 0, 0, 1,\n",
              "       1, 1, 1, 1, 1, 1, 1, 0, 1, 1, 1, 0, 1, 0, 0, 1, 1, 0, 0, 0, 1, 0,\n",
              "       0, 1, 0, 0, 0, 1, 0, 1, 0, 0, 0, 0, 1, 0, 1, 1, 1, 1, 0, 1, 0, 0,\n",
              "       0, 0, 0, 0, 1, 0, 1, 0, 1, 0, 1, 1, 1, 0, 1, 0, 1, 0, 0, 1, 1, 1,\n",
              "       0, 0, 0, 1, 1, 0, 1, 0, 1, 1, 0, 1, 0, 0, 1, 1, 1, 0, 0, 0, 1, 1,\n",
              "       0, 0, 0, 0, 0, 1, 1, 0, 1, 0, 0, 0, 1, 0, 0, 0, 1, 1, 1, 1, 0, 1,\n",
              "       1, 1, 0, 1, 1, 1, 1, 0, 1, 1, 0, 1, 1, 0, 0, 1, 1, 1, 0, 0, 0, 0,\n",
              "       0, 0, 1, 0, 0, 1, 0, 0, 0, 1, 0, 1, 0, 1, 1, 0, 0, 0, 0, 0, 0, 0,\n",
              "       0, 1, 0, 1, 0, 0, 0, 1, 0, 0])"
            ]
          },
          "metadata": {},
          "execution_count": 4
        }
      ]
    },
    {
      "cell_type": "markdown",
      "source": [
        "# Our data is a little hard to understand right now... lets visualize it!"
      ],
      "metadata": {
        "id": "BL3tIXTGh8W9"
      }
    },
    {
      "cell_type": "code",
      "source": [
        "import pandas as pd\n",
        "circles = pd.DataFrame({'x0':x[:, 0], 'x1': x[:, 1], 'label':y})\n",
        "circles\n"
      ],
      "metadata": {
        "colab": {
          "base_uri": "https://localhost:8080/",
          "height": 424
        },
        "id": "99muktHJie-S",
        "outputId": "2dc3b8c0-9ab3-4771-eae1-409f327c2994"
      },
      "execution_count": 5,
      "outputs": [
        {
          "output_type": "execute_result",
          "data": {
            "text/plain": [
              "           x0        x1  label\n",
              "0    0.754246  0.231481      1\n",
              "1   -0.756159  0.153259      1\n",
              "2   -0.815392  0.173282      1\n",
              "3   -0.393731  0.692883      1\n",
              "4    0.442208 -0.896723      0\n",
              "..        ...       ...    ...\n",
              "995  0.244054  0.944125      0\n",
              "996 -0.978655 -0.272373      0\n",
              "997 -0.136900 -0.810012      1\n",
              "998  0.670362 -0.767502      0\n",
              "999  0.281057  0.963824      0\n",
              "\n",
              "[1000 rows x 3 columns]"
            ],
            "text/html": [
              "\n",
              "  <div id=\"df-09325457-c8eb-4d96-8536-6cac764c2acd\">\n",
              "    <div class=\"colab-df-container\">\n",
              "      <div>\n",
              "<style scoped>\n",
              "    .dataframe tbody tr th:only-of-type {\n",
              "        vertical-align: middle;\n",
              "    }\n",
              "\n",
              "    .dataframe tbody tr th {\n",
              "        vertical-align: top;\n",
              "    }\n",
              "\n",
              "    .dataframe thead th {\n",
              "        text-align: right;\n",
              "    }\n",
              "</style>\n",
              "<table border=\"1\" class=\"dataframe\">\n",
              "  <thead>\n",
              "    <tr style=\"text-align: right;\">\n",
              "      <th></th>\n",
              "      <th>x0</th>\n",
              "      <th>x1</th>\n",
              "      <th>label</th>\n",
              "    </tr>\n",
              "  </thead>\n",
              "  <tbody>\n",
              "    <tr>\n",
              "      <th>0</th>\n",
              "      <td>0.754246</td>\n",
              "      <td>0.231481</td>\n",
              "      <td>1</td>\n",
              "    </tr>\n",
              "    <tr>\n",
              "      <th>1</th>\n",
              "      <td>-0.756159</td>\n",
              "      <td>0.153259</td>\n",
              "      <td>1</td>\n",
              "    </tr>\n",
              "    <tr>\n",
              "      <th>2</th>\n",
              "      <td>-0.815392</td>\n",
              "      <td>0.173282</td>\n",
              "      <td>1</td>\n",
              "    </tr>\n",
              "    <tr>\n",
              "      <th>3</th>\n",
              "      <td>-0.393731</td>\n",
              "      <td>0.692883</td>\n",
              "      <td>1</td>\n",
              "    </tr>\n",
              "    <tr>\n",
              "      <th>4</th>\n",
              "      <td>0.442208</td>\n",
              "      <td>-0.896723</td>\n",
              "      <td>0</td>\n",
              "    </tr>\n",
              "    <tr>\n",
              "      <th>...</th>\n",
              "      <td>...</td>\n",
              "      <td>...</td>\n",
              "      <td>...</td>\n",
              "    </tr>\n",
              "    <tr>\n",
              "      <th>995</th>\n",
              "      <td>0.244054</td>\n",
              "      <td>0.944125</td>\n",
              "      <td>0</td>\n",
              "    </tr>\n",
              "    <tr>\n",
              "      <th>996</th>\n",
              "      <td>-0.978655</td>\n",
              "      <td>-0.272373</td>\n",
              "      <td>0</td>\n",
              "    </tr>\n",
              "    <tr>\n",
              "      <th>997</th>\n",
              "      <td>-0.136900</td>\n",
              "      <td>-0.810012</td>\n",
              "      <td>1</td>\n",
              "    </tr>\n",
              "    <tr>\n",
              "      <th>998</th>\n",
              "      <td>0.670362</td>\n",
              "      <td>-0.767502</td>\n",
              "      <td>0</td>\n",
              "    </tr>\n",
              "    <tr>\n",
              "      <th>999</th>\n",
              "      <td>0.281057</td>\n",
              "      <td>0.963824</td>\n",
              "      <td>0</td>\n",
              "    </tr>\n",
              "  </tbody>\n",
              "</table>\n",
              "<p>1000 rows × 3 columns</p>\n",
              "</div>\n",
              "      <button class=\"colab-df-convert\" onclick=\"convertToInteractive('df-09325457-c8eb-4d96-8536-6cac764c2acd')\"\n",
              "              title=\"Convert this dataframe to an interactive table.\"\n",
              "              style=\"display:none;\">\n",
              "        \n",
              "  <svg xmlns=\"http://www.w3.org/2000/svg\" height=\"24px\"viewBox=\"0 0 24 24\"\n",
              "       width=\"24px\">\n",
              "    <path d=\"M0 0h24v24H0V0z\" fill=\"none\"/>\n",
              "    <path d=\"M18.56 5.44l.94 2.06.94-2.06 2.06-.94-2.06-.94-.94-2.06-.94 2.06-2.06.94zm-11 1L8.5 8.5l.94-2.06 2.06-.94-2.06-.94L8.5 2.5l-.94 2.06-2.06.94zm10 10l.94 2.06.94-2.06 2.06-.94-2.06-.94-.94-2.06-.94 2.06-2.06.94z\"/><path d=\"M17.41 7.96l-1.37-1.37c-.4-.4-.92-.59-1.43-.59-.52 0-1.04.2-1.43.59L10.3 9.45l-7.72 7.72c-.78.78-.78 2.05 0 2.83L4 21.41c.39.39.9.59 1.41.59.51 0 1.02-.2 1.41-.59l7.78-7.78 2.81-2.81c.8-.78.8-2.07 0-2.86zM5.41 20L4 18.59l7.72-7.72 1.47 1.35L5.41 20z\"/>\n",
              "  </svg>\n",
              "      </button>\n",
              "      \n",
              "  <style>\n",
              "    .colab-df-container {\n",
              "      display:flex;\n",
              "      flex-wrap:wrap;\n",
              "      gap: 12px;\n",
              "    }\n",
              "\n",
              "    .colab-df-convert {\n",
              "      background-color: #E8F0FE;\n",
              "      border: none;\n",
              "      border-radius: 50%;\n",
              "      cursor: pointer;\n",
              "      display: none;\n",
              "      fill: #1967D2;\n",
              "      height: 32px;\n",
              "      padding: 0 0 0 0;\n",
              "      width: 32px;\n",
              "    }\n",
              "\n",
              "    .colab-df-convert:hover {\n",
              "      background-color: #E2EBFA;\n",
              "      box-shadow: 0px 1px 2px rgba(60, 64, 67, 0.3), 0px 1px 3px 1px rgba(60, 64, 67, 0.15);\n",
              "      fill: #174EA6;\n",
              "    }\n",
              "\n",
              "    [theme=dark] .colab-df-convert {\n",
              "      background-color: #3B4455;\n",
              "      fill: #D2E3FC;\n",
              "    }\n",
              "\n",
              "    [theme=dark] .colab-df-convert:hover {\n",
              "      background-color: #434B5C;\n",
              "      box-shadow: 0px 1px 3px 1px rgba(0, 0, 0, 0.15);\n",
              "      filter: drop-shadow(0px 1px 2px rgba(0, 0, 0, 0.3));\n",
              "      fill: #FFFFFF;\n",
              "    }\n",
              "  </style>\n",
              "\n",
              "      <script>\n",
              "        const buttonEl =\n",
              "          document.querySelector('#df-09325457-c8eb-4d96-8536-6cac764c2acd button.colab-df-convert');\n",
              "        buttonEl.style.display =\n",
              "          google.colab.kernel.accessAllowed ? 'block' : 'none';\n",
              "\n",
              "        async function convertToInteractive(key) {\n",
              "          const element = document.querySelector('#df-09325457-c8eb-4d96-8536-6cac764c2acd');\n",
              "          const dataTable =\n",
              "            await google.colab.kernel.invokeFunction('convertToInteractive',\n",
              "                                                     [key], {});\n",
              "          if (!dataTable) return;\n",
              "\n",
              "          const docLinkHtml = 'Like what you see? Visit the ' +\n",
              "            '<a target=\"_blank\" href=https://colab.research.google.com/notebooks/data_table.ipynb>data table notebook</a>'\n",
              "            + ' to learn more about interactive tables.';\n",
              "          element.innerHTML = '';\n",
              "          dataTable['output_type'] = 'display_data';\n",
              "          await google.colab.output.renderOutput(dataTable, element);\n",
              "          const docLink = document.createElement('div');\n",
              "          docLink.innerHTML = docLinkHtml;\n",
              "          element.appendChild(docLink);\n",
              "        }\n",
              "      </script>\n",
              "    </div>\n",
              "  </div>\n",
              "  "
            ]
          },
          "metadata": {},
          "execution_count": 5
        }
      ]
    },
    {
      "cell_type": "code",
      "source": [
        "# visualize with a plot\n",
        "import matplotlib.pyplot as plt\n",
        "plt.scatter(x[:,0], x[:,1], c=y, cmap=plt.cm.RdYlBu)"
      ],
      "metadata": {
        "colab": {
          "base_uri": "https://localhost:8080/",
          "height": 282
        },
        "id": "PZe9iYN5maEe",
        "outputId": "31b7373a-3792-4e78-ab40-885ce210e0c8"
      },
      "execution_count": 6,
      "outputs": [
        {
          "output_type": "execute_result",
          "data": {
            "text/plain": [
              "<matplotlib.collections.PathCollection at 0x7f130f97c390>"
            ]
          },
          "metadata": {},
          "execution_count": 6
        },
        {
          "output_type": "display_data",
          "data": {
            "text/plain": [
              "<Figure size 432x288 with 1 Axes>"
            ],
            "image/png": "[encoded data removed]"
          },
          "metadata": {
            "needs_background": "light"
          }
        }
      ]
    },
    {
      "cell_type": "markdown",
      "source": [
        "# Input and output shape"
      ],
      "metadata": {
        "id": "o0ExoKHEoXHC"
      }
    },
    {
      "cell_type": "code",
      "source": [
        "# check the shapes of our features and labels\n",
        "x.shape, y.shape"
      ],
      "metadata": {
        "colab": {
          "base_uri": "https://localhost:8080/"
        },
        "id": "aXnffoDjpUXl",
        "outputId": "814c096d-b750-411c-9f74-45b9276a4832"
      },
      "execution_count": 7,
      "outputs": [
        {
          "output_type": "execute_result",
          "data": {
            "text/plain": [
              "((1000, 2), (1000,))"
            ]
          },
          "metadata": {},
          "execution_count": 7
        }
      ]
    },
    {
      "cell_type": "code",
      "source": [
        "# how many samples we are working \n",
        "len(x), len(y)"
      ],
      "metadata": {
        "colab": {
          "base_uri": "https://localhost:8080/"
        },
        "id": "XbkCvBsbpcPz",
        "outputId": "2da2f393-79fc-4391-cce7-ebf22fb06834"
      },
      "execution_count": 8,
      "outputs": [
        {
          "output_type": "execute_result",
          "data": {
            "text/plain": [
              "(1000, 1000)"
            ]
          },
          "metadata": {},
          "execution_count": 8
        }
      ]
    },
    {
      "cell_type": "code",
      "source": [
        "# View the first example of features and labels\n",
        "x[0], y[0]"
      ],
      "metadata": {
        "colab": {
          "base_uri": "https://localhost:8080/"
        },
        "id": "uupVCkvIpnVZ",
        "outputId": "e9c8c342-7325-4e34-c5fb-c61136ba2a4e"
      },
      "execution_count": 9,
      "outputs": [
        {
          "output_type": "execute_result",
          "data": {
            "text/plain": [
              "(array([0.75424625, 0.23148074]), 1)"
            ]
          },
          "metadata": {},
          "execution_count": 9
        }
      ]
    },
    {
      "cell_type": "markdown",
      "source": [
        "#3 steps in modelling"
      ],
      "metadata": {
        "id": "RfVb8e9Cp-pA"
      }
    },
    {
      "cell_type": "markdown",
      "source": [
        "## steps in modelling\n",
        "\n",
        "1. Create or import a modelling\n",
        "2. Compile the model\n",
        "3. Fit the model\n",
        "4. Evaluate the model\n",
        "5. Tweak\n",
        "6. Evaluate"
      ],
      "metadata": {
        "id": "exyIeqHtqDwu"
      }
    },
    {
      "cell_type": "code",
      "source": [
        "import tensorflow as tf\n"
      ],
      "metadata": {
        "id": "LLgDlBbvr94K"
      },
      "execution_count": 10,
      "outputs": []
    },
    {
      "cell_type": "code",
      "source": [
        "x =tf.cast(x, dtype=tf.float32)\n",
        "y= tf.cast(y, dtype=tf.float32)\n",
        "x.dtype, y.dtype"
      ],
      "metadata": {
        "colab": {
          "base_uri": "https://localhost:8080/"
        },
        "id": "Lhv2rungwPOM",
        "outputId": "a34cdeb1-7838-44ae-fc9b-57fc7cf93fe4"
      },
      "execution_count": 11,
      "outputs": [
        {
          "output_type": "execute_result",
          "data": {
            "text/plain": [
              "(tf.float32, tf.float32)"
            ]
          },
          "metadata": {},
          "execution_count": 11
        }
      ]
    },
    {
      "cell_type": "code",
      "source": [
        "# Set random seed\n",
        "tf.random.set_seed(42)\n",
        "\n",
        "# 1. Create the model using the Sequential API\n",
        "model_1 = tf.keras.Sequential([\n",
        "  tf.keras.layers.Dense(1)\n",
        "])\n",
        "\n",
        "# 2. Compile the model\n",
        "model_1.compile(loss=tf.keras.losses.BinaryCrossentropy(), # binary since we are working with 2 clases (0 & 1)\n",
        "                optimizer=tf.keras.optimizers.SGD(),\n",
        "                metrics=['accuracy'])\n",
        "\n",
        "# 3. Fit the model\n",
        "model_1.fit(x, y, epochs=5)\n",
        "\n",
        "# model_1.fit(tf.expand_dims(x, axis=-1), y, epochs=5)"
      ],
      "metadata": {
        "colab": {
          "base_uri": "https://localhost:8080/"
        },
        "id": "bAzr_tPdq7p0",
        "outputId": "d7cc224c-7d6d-493d-83f1-01b637cec5e1"
      },
      "execution_count": 12,
      "outputs": [
        {
          "output_type": "stream",
          "name": "stdout",
          "text": [
            "Epoch 1/5\n",
            "32/32 [==============================] - 1s 2ms/step - loss: 2.8544 - accuracy: 0.4600\n",
            "Epoch 2/5\n",
            "32/32 [==============================] - 0s 3ms/step - loss: 0.7131 - accuracy: 0.5430\n",
            "Epoch 3/5\n",
            "32/32 [==============================] - 0s 2ms/step - loss: 0.6973 - accuracy: 0.5090\n",
            "Epoch 4/5\n",
            "32/32 [==============================] - 0s 3ms/step - loss: 0.6950 - accuracy: 0.5010\n",
            "Epoch 5/5\n",
            "32/32 [==============================] - 0s 4ms/step - loss: 0.6942 - accuracy: 0.4830\n"
          ]
        },
        {
          "output_type": "execute_result",
          "data": {
            "text/plain": [
              "<keras.callbacks.History at 0x7f12a2b2c750>"
            ]
          },
          "metadata": {},
          "execution_count": 12
        }
      ]
    },
    {
      "cell_type": "code",
      "source": [
        "# Lets try and improve our model by training for longer\n",
        "model_1.fit(x, y, epochs=200, verbose=0)\n",
        "model_1.evaluate(x, y)"
      ],
      "metadata": {
        "colab": {
          "base_uri": "https://localhost:8080/"
        },
        "id": "0nVy5FtjuMB8",
        "outputId": "dd5b6409-25e9-4c08-9670-b77609169585"
      },
      "execution_count": null,
      "outputs": [
        {
          "output_type": "stream",
          "name": "stdout",
          "text": [
            "32/32 [==============================] - 0s 5ms/step - loss: 0.6935 - accuracy: 0.5000\n"
          ]
        },
        {
          "output_type": "execute_result",
          "data": {
            "text/plain": [
              "[0.6934831142425537, 0.5]"
            ]
          },
          "metadata": {},
          "execution_count": 12
        }
      ]
    },
    {
      "cell_type": "markdown",
      "source": [
        "Since we are working on a binary classification problem and our model is getting around 50% accuracy... its performing as if its guessing.\n",
        "\n",
        " so lets step things upnotch and add an extra layer."
      ],
      "metadata": {
        "id": "4aM02c8w0CoZ"
      }
    },
    {
      "cell_type": "code",
      "source": [
        "# Set random seed\n",
        "tf.random.set_seed(42)\n",
        "\n",
        "# 1. Create the model using the Sequential API with 2 layers\n",
        "model_2 = tf.keras.Sequential([\n",
        "  tf.keras.layers.Dense(1),\n",
        "  tf.keras.layers.Dense(1)\n",
        "])\n",
        "\n",
        "# 2. Compile the model\n",
        "model_2.compile(loss=tf.keras.losses.BinaryCrossentropy(), # binary since we are working with 2 clases (0 & 1)\n",
        "                optimizer=tf.keras.optimizers.SGD(),\n",
        "                metrics=['accuracy'])\n",
        "\n",
        "# 3. Fit the model\n",
        "model_2.fit(x, y, epochs=100)\n"
      ],
      "metadata": {
        "colab": {
          "base_uri": "https://localhost:8080/"
        },
        "id": "_P05QtHKzRYv",
        "outputId": "8de33001-40f3-4484-85b4-c8554919fb02"
      },
      "execution_count": 13,
      "outputs": [
        {
          "output_type": "stream",
          "name": "stdout",
          "text": [
            "Epoch 1/100\n",
            "32/32 [==============================] - 0s 1ms/step - loss: 1.8044 - accuracy: 0.5090\n",
            "Epoch 2/100\n",
            "32/32 [==============================] - 0s 2ms/step - loss: 0.7235 - accuracy: 0.5030\n",
            "Epoch 3/100\n",
            "32/32 [==============================] - 0s 1ms/step - loss: 0.7145 - accuracy: 0.4950\n",
            "Epoch 4/100\n",
            "32/32 [==============================] - 0s 1ms/step - loss: 0.7078 - accuracy: 0.5010\n",
            "Epoch 5/100\n",
            "32/32 [==============================] - 0s 2ms/step - loss: 0.7037 - accuracy: 0.5010\n",
            "Epoch 6/100\n",
            "32/32 [==============================] - 0s 1ms/step - loss: 0.7008 - accuracy: 0.4960\n",
            "Epoch 7/100\n",
            "32/32 [==============================] - 0s 1ms/step - loss: 0.7001 - accuracy: 0.4990\n",
            "Epoch 8/100\n",
            "32/32 [==============================] - 0s 1ms/step - loss: 0.6984 - accuracy: 0.4980\n",
            "Epoch 9/100\n",
            "32/32 [==============================] - 0s 2ms/step - loss: 0.6973 - accuracy: 0.4960\n",
            "Epoch 10/100\n",
            "32/32 [==============================] - 0s 1ms/step - loss: 0.6962 - accuracy: 0.4920\n",
            "Epoch 11/100\n",
            "32/32 [==============================] - 0s 2ms/step - loss: 0.6962 - accuracy: 0.4950\n",
            "Epoch 12/100\n",
            "32/32 [==============================] - 0s 1ms/step - loss: 0.6961 - accuracy: 0.4980\n",
            "Epoch 13/100\n",
            "32/32 [==============================] - 0s 2ms/step - loss: 0.6955 - accuracy: 0.4930\n",
            "Epoch 14/100\n",
            "32/32 [==============================] - 0s 1ms/step - loss: 0.6954 - accuracy: 0.4980\n",
            "Epoch 15/100\n",
            "32/32 [==============================] - 0s 2ms/step - loss: 0.6947 - accuracy: 0.4900\n",
            "Epoch 16/100\n",
            "32/32 [==============================] - 0s 1ms/step - loss: 0.6950 - accuracy: 0.5010\n",
            "Epoch 17/100\n",
            "32/32 [==============================] - 0s 1ms/step - loss: 0.6944 - accuracy: 0.5190\n",
            "Epoch 18/100\n",
            "32/32 [==============================] - 0s 1ms/step - loss: 0.6944 - accuracy: 0.4820\n",
            "Epoch 19/100\n",
            "32/32 [==============================] - 0s 2ms/step - loss: 0.6943 - accuracy: 0.5120\n",
            "Epoch 20/100\n",
            "32/32 [==============================] - 0s 2ms/step - loss: 0.6942 - accuracy: 0.5060\n",
            "Epoch 21/100\n",
            "32/32 [==============================] - 0s 1ms/step - loss: 0.6939 - accuracy: 0.5060\n",
            "Epoch 22/100\n",
            "32/32 [==============================] - 0s 1ms/step - loss: 0.6943 - accuracy: 0.4630\n",
            "Epoch 23/100\n",
            "32/32 [==============================] - 0s 1ms/step - loss: 0.6940 - accuracy: 0.5130\n",
            "Epoch 24/100\n",
            "32/32 [==============================] - 0s 1ms/step - loss: 0.6942 - accuracy: 0.4710\n",
            "Epoch 25/100\n",
            "32/32 [==============================] - 0s 2ms/step - loss: 0.6938 - accuracy: 0.4730\n",
            "Epoch 26/100\n",
            "32/32 [==============================] - 0s 1ms/step - loss: 0.6941 - accuracy: 0.4920\n",
            "Epoch 27/100\n",
            "32/32 [==============================] - 0s 2ms/step - loss: 0.6934 - accuracy: 0.5080\n",
            "Epoch 28/100\n",
            "32/32 [==============================] - 0s 2ms/step - loss: 0.6942 - accuracy: 0.4510\n",
            "Epoch 29/100\n",
            "32/32 [==============================] - 0s 2ms/step - loss: 0.6940 - accuracy: 0.4830\n",
            "Epoch 30/100\n",
            "32/32 [==============================] - 0s 2ms/step - loss: 0.6938 - accuracy: 0.4940\n",
            "Epoch 31/100\n",
            "32/32 [==============================] - 0s 1ms/step - loss: 0.6939 - accuracy: 0.5340\n",
            "Epoch 32/100\n",
            "32/32 [==============================] - 0s 2ms/step - loss: 0.6940 - accuracy: 0.4940\n",
            "Epoch 33/100\n",
            "32/32 [==============================] - 0s 1ms/step - loss: 0.6939 - accuracy: 0.4750\n",
            "Epoch 34/100\n",
            "32/32 [==============================] - 0s 1ms/step - loss: 0.6944 - accuracy: 0.4910\n",
            "Epoch 35/100\n",
            "32/32 [==============================] - 0s 1ms/step - loss: 0.6938 - accuracy: 0.5150\n",
            "Epoch 36/100\n",
            "32/32 [==============================] - 0s 1ms/step - loss: 0.6942 - accuracy: 0.4680\n",
            "Epoch 37/100\n",
            "32/32 [==============================] - 0s 2ms/step - loss: 0.6937 - accuracy: 0.5160\n",
            "Epoch 38/100\n",
            "32/32 [==============================] - 0s 2ms/step - loss: 0.6938 - accuracy: 0.4900\n",
            "Epoch 39/100\n",
            "32/32 [==============================] - 0s 2ms/step - loss: 0.6937 - accuracy: 0.4890\n",
            "Epoch 40/100\n",
            "32/32 [==============================] - 0s 1ms/step - loss: 0.6947 - accuracy: 0.4640\n",
            "Epoch 41/100\n",
            "32/32 [==============================] - 0s 1ms/step - loss: 0.6938 - accuracy: 0.4900\n",
            "Epoch 42/100\n",
            "32/32 [==============================] - 0s 2ms/step - loss: 0.6939 - accuracy: 0.4990\n",
            "Epoch 43/100\n",
            "32/32 [==============================] - 0s 1ms/step - loss: 0.6939 - accuracy: 0.4860\n",
            "Epoch 44/100\n",
            "32/32 [==============================] - 0s 2ms/step - loss: 0.6932 - accuracy: 0.5130\n",
            "Epoch 45/100\n",
            "32/32 [==============================] - 0s 2ms/step - loss: 0.6942 - accuracy: 0.4890\n",
            "Epoch 46/100\n",
            "32/32 [==============================] - 0s 1ms/step - loss: 0.6939 - accuracy: 0.4900\n",
            "Epoch 47/100\n",
            "32/32 [==============================] - 0s 2ms/step - loss: 0.6935 - accuracy: 0.5090\n",
            "Epoch 48/100\n",
            "32/32 [==============================] - 0s 1ms/step - loss: 0.6937 - accuracy: 0.4930\n",
            "Epoch 49/100\n",
            "32/32 [==============================] - 0s 2ms/step - loss: 0.6939 - accuracy: 0.4830\n",
            "Epoch 50/100\n",
            "32/32 [==============================] - 0s 2ms/step - loss: 0.6938 - accuracy: 0.5000\n",
            "Epoch 51/100\n",
            "32/32 [==============================] - 0s 2ms/step - loss: 0.6939 - accuracy: 0.4960\n",
            "Epoch 52/100\n",
            "32/32 [==============================] - 0s 2ms/step - loss: 0.6938 - accuracy: 0.4980\n",
            "Epoch 53/100\n",
            "32/32 [==============================] - 0s 1ms/step - loss: 0.6938 - accuracy: 0.4720\n",
            "Epoch 54/100\n",
            "32/32 [==============================] - 0s 2ms/step - loss: 0.6940 - accuracy: 0.4910\n",
            "Epoch 55/100\n",
            "32/32 [==============================] - 0s 1ms/step - loss: 0.6939 - accuracy: 0.4970\n",
            "Epoch 56/100\n",
            "32/32 [==============================] - 0s 1ms/step - loss: 0.6938 - accuracy: 0.4870\n",
            "Epoch 57/100\n",
            "32/32 [==============================] - 0s 2ms/step - loss: 0.6940 - accuracy: 0.4870\n",
            "Epoch 58/100\n",
            "32/32 [==============================] - 0s 2ms/step - loss: 0.6940 - accuracy: 0.4870\n",
            "Epoch 59/100\n",
            "32/32 [==============================] - 0s 2ms/step - loss: 0.6934 - accuracy: 0.5130\n",
            "Epoch 60/100\n",
            "32/32 [==============================] - 0s 2ms/step - loss: 0.6938 - accuracy: 0.4920\n",
            "Epoch 61/100\n",
            "32/32 [==============================] - 0s 2ms/step - loss: 0.6942 - accuracy: 0.4950\n",
            "Epoch 62/100\n",
            "32/32 [==============================] - 0s 2ms/step - loss: 0.6937 - accuracy: 0.4950\n",
            "Epoch 63/100\n",
            "32/32 [==============================] - 0s 2ms/step - loss: 0.6939 - accuracy: 0.4860\n",
            "Epoch 64/100\n",
            "32/32 [==============================] - 0s 2ms/step - loss: 0.6939 - accuracy: 0.4810\n",
            "Epoch 65/100\n",
            "32/32 [==============================] - 0s 1ms/step - loss: 0.6939 - accuracy: 0.4980\n",
            "Epoch 66/100\n",
            "32/32 [==============================] - 0s 2ms/step - loss: 0.6938 - accuracy: 0.4910\n",
            "Epoch 67/100\n",
            "32/32 [==============================] - 0s 2ms/step - loss: 0.6944 - accuracy: 0.4950\n",
            "Epoch 68/100\n",
            "32/32 [==============================] - 0s 2ms/step - loss: 0.6936 - accuracy: 0.4960\n",
            "Epoch 69/100\n",
            "32/32 [==============================] - 0s 2ms/step - loss: 0.6940 - accuracy: 0.5000\n",
            "Epoch 70/100\n",
            "32/32 [==============================] - 0s 1ms/step - loss: 0.6940 - accuracy: 0.4780\n",
            "Epoch 71/100\n",
            "32/32 [==============================] - 0s 1ms/step - loss: 0.6936 - accuracy: 0.4970\n",
            "Epoch 72/100\n",
            "32/32 [==============================] - 0s 2ms/step - loss: 0.6940 - accuracy: 0.4800\n",
            "Epoch 73/100\n",
            "32/32 [==============================] - 0s 1ms/step - loss: 0.6937 - accuracy: 0.4840\n",
            "Epoch 74/100\n",
            "32/32 [==============================] - 0s 1ms/step - loss: 0.6937 - accuracy: 0.4900\n",
            "Epoch 75/100\n",
            "32/32 [==============================] - 0s 1ms/step - loss: 0.6938 - accuracy: 0.4940\n",
            "Epoch 76/100\n",
            "32/32 [==============================] - 0s 1ms/step - loss: 0.6937 - accuracy: 0.5040\n",
            "Epoch 77/100\n",
            "32/32 [==============================] - 0s 2ms/step - loss: 0.6941 - accuracy: 0.4910\n",
            "Epoch 78/100\n",
            "32/32 [==============================] - 0s 2ms/step - loss: 0.6938 - accuracy: 0.4860\n",
            "Epoch 79/100\n",
            "32/32 [==============================] - 0s 1ms/step - loss: 0.6937 - accuracy: 0.5020\n",
            "Epoch 80/100\n",
            "32/32 [==============================] - 0s 1ms/step - loss: 0.6941 - accuracy: 0.5000\n",
            "Epoch 81/100\n",
            "32/32 [==============================] - 0s 1ms/step - loss: 0.6941 - accuracy: 0.4820\n",
            "Epoch 82/100\n",
            "32/32 [==============================] - 0s 1ms/step - loss: 0.6937 - accuracy: 0.4920\n",
            "Epoch 83/100\n",
            "32/32 [==============================] - 0s 1ms/step - loss: 0.6938 - accuracy: 0.5120\n",
            "Epoch 84/100\n",
            "32/32 [==============================] - 0s 1ms/step - loss: 0.6941 - accuracy: 0.5000\n",
            "Epoch 85/100\n",
            "32/32 [==============================] - 0s 1ms/step - loss: 0.6936 - accuracy: 0.4830\n",
            "Epoch 86/100\n",
            "32/32 [==============================] - 0s 2ms/step - loss: 0.6937 - accuracy: 0.4830\n",
            "Epoch 87/100\n",
            "32/32 [==============================] - 0s 1ms/step - loss: 0.6940 - accuracy: 0.4880\n",
            "Epoch 88/100\n",
            "32/32 [==============================] - 0s 2ms/step - loss: 0.6941 - accuracy: 0.4860\n",
            "Epoch 89/100\n",
            "32/32 [==============================] - 0s 1ms/step - loss: 0.6943 - accuracy: 0.4910\n",
            "Epoch 90/100\n",
            "32/32 [==============================] - 0s 2ms/step - loss: 0.6939 - accuracy: 0.4960\n",
            "Epoch 91/100\n",
            "32/32 [==============================] - 0s 2ms/step - loss: 0.6941 - accuracy: 0.4970\n",
            "Epoch 92/100\n",
            "32/32 [==============================] - 0s 1ms/step - loss: 0.6939 - accuracy: 0.4910\n",
            "Epoch 93/100\n",
            "32/32 [==============================] - 0s 2ms/step - loss: 0.6938 - accuracy: 0.5040\n",
            "Epoch 94/100\n",
            "32/32 [==============================] - 0s 1ms/step - loss: 0.6944 - accuracy: 0.4750\n",
            "Epoch 95/100\n",
            "32/32 [==============================] - 0s 2ms/step - loss: 0.6936 - accuracy: 0.4840\n",
            "Epoch 96/100\n",
            "32/32 [==============================] - 0s 1ms/step - loss: 0.6942 - accuracy: 0.4690\n",
            "Epoch 97/100\n",
            "32/32 [==============================] - 0s 2ms/step - loss: 0.6939 - accuracy: 0.4970\n",
            "Epoch 98/100\n",
            "32/32 [==============================] - 0s 1ms/step - loss: 0.6938 - accuracy: 0.5000\n",
            "Epoch 99/100\n",
            "32/32 [==============================] - 0s 2ms/step - loss: 0.6943 - accuracy: 0.4980\n",
            "Epoch 100/100\n",
            "32/32 [==============================] - 0s 2ms/step - loss: 0.6941 - accuracy: 0.4690\n"
          ]
        },
        {
          "output_type": "execute_result",
          "data": {
            "text/plain": [
              "<keras.callbacks.History at 0x7f12a10dd150>"
            ]
          },
          "metadata": {},
          "execution_count": 13
        }
      ]
    },
    {
      "cell_type": "code",
      "source": [
        "# evaluate the model\n",
        "model_2.evaluate(x,y)"
      ],
      "metadata": {
        "colab": {
          "base_uri": "https://localhost:8080/"
        },
        "id": "0HnG05uJ1RlN",
        "outputId": "0912127f-ab51-4d15-f481-494ed45565d6"
      },
      "execution_count": 14,
      "outputs": [
        {
          "output_type": "stream",
          "name": "stdout",
          "text": [
            "32/32 [==============================] - 0s 1ms/step - loss: 0.6933 - accuracy: 0.5000\n"
          ]
        },
        {
          "output_type": "execute_result",
          "data": {
            "text/plain": [
              "[0.6933314800262451, 0.5]"
            ]
          },
          "metadata": {},
          "execution_count": 14
        }
      ]
    },
    {
      "cell_type": "markdown",
      "source": [
        "## Improving our model\n",
        "\n",
        "lets look into our bag of tricks to see how we can improve our model\n",
        "\n",
        "1. Create or import a  -  we might add more layers or increase the number of hidden units within a layer.\n",
        "\n",
        "2. Compile the model- here we might choose a different optimization function such as Adam instead of SGD.\n",
        "3. Fit the model - perhaps we might fit our mdels with more epochs\n",
        "4. Evaluate the model\n",
        "change the optimization function\n",
        "5. Tweak\n",
        "change the learning rate\n",
        "\n",
        "6. Evaluate"
      ],
      "metadata": {
        "id": "4gYQ9aLk2t2j"
      }
    },
    {
      "cell_type": "code",
      "source": [
        "# Set random seed\n",
        "tf.random.set_seed(42)\n",
        "\n",
        "# 1. Create the model using the Sequential API with 3 layers\n",
        "model_3 = tf.keras.Sequential([\n",
        "  tf.keras.layers.Dense(100), # add 100 dense neurons\n",
        "  tf.keras.layers.Dense(10), # add another layer with 10 neurons\n",
        "  tf.keras.layers.Dense(1)\n",
        "])\n",
        "\n",
        "# 2. Compile the model\n",
        "model_3.compile(loss=tf.keras.losses.BinaryCrossentropy(), # binary since we are working with 2 clases (0 & 1)\n",
        "                optimizer=tf.keras.optimizers.Adam(),\n",
        "                metrics=['accuracy'])\n",
        "\n",
        "# 3. Fit the model\n",
        "model_3.fit(x, y, epochs=100, verbose=0)\n"
      ],
      "metadata": {
        "colab": {
          "base_uri": "https://localhost:8080/"
        },
        "id": "2Uyp-Gof1eUf",
        "outputId": "5a48a35c-bb37-4853-cb1a-20f1ecf457c5"
      },
      "execution_count": 15,
      "outputs": [
        {
          "output_type": "execute_result",
          "data": {
            "text/plain": [
              "<keras.callbacks.History at 0x7f12a124ba50>"
            ]
          },
          "metadata": {},
          "execution_count": 15
        }
      ]
    },
    {
      "cell_type": "code",
      "source": [
        "# evaluate the model\n",
        "model_3.evaluate(x, y)"
      ],
      "metadata": {
        "colab": {
          "base_uri": "https://localhost:8080/"
        },
        "id": "Lw6q9BWO7edM",
        "outputId": "4dccd88f-adae-4d81-f0ee-8f9084548489"
      },
      "execution_count": 16,
      "outputs": [
        {
          "output_type": "stream",
          "name": "stdout",
          "text": [
            "32/32 [==============================] - 0s 1ms/step - loss: 0.6980 - accuracy: 0.5080\n"
          ]
        },
        {
          "output_type": "execute_result",
          "data": {
            "text/plain": [
              "[0.6980255246162415, 0.5080000162124634]"
            ]
          },
          "metadata": {},
          "execution_count": 16
        }
      ]
    },
    {
      "cell_type": "markdown",
      "source": [
        "from numpy.lib.function_base import meshgrid\n",
        "# To visualize our models prediction lets create a function 'plot_decision_boundary()'\n",
        "this function\n",
        "\n",
        "* Take in a trained model, features (x) and label (y)\n",
        "* create a meshgrid of the different x values\n",
        "* make predictions across the meshgrid\n",
        "* Plot the predicitions as well as a line between zones(where each unqiue class falls)"
      ],
      "metadata": {
        "id": "7MT6UoDt72FO"
      }
    },
    {
      "cell_type": "code",
      "source": [
        "import numpy as np"
      ],
      "metadata": {
        "id": "MF7Evqs1CP9-"
      },
      "execution_count": 17,
      "outputs": []
    },
    {
      "cell_type": "code",
      "source": [
        "\n",
        "def plot_decision_boundary(model, x, y):\n",
        "  \"\"\"\n",
        "  Plots the decision boundary created by a model predicting on X.\n",
        "  This function has been adapted from two phenomenal resources:\n",
        "   1. CS231n - https://cs231n.github.io/neural-networks-case-study/\n",
        "   2. Made with ML basics - https://github.com/GokuMohandas/MadeWithML/blob/main/notebooks/08_Neural_Networks.ipynb\n",
        "  \"\"\"\n",
        "  # Define the axis boundaries of the plot and create a meshgrid\n",
        "  x_min, x_max = x[:, 0].min() - 0.1, x[:, 0].max() + 0.1\n",
        "  y_min, y_max = x[:, 1].min() - 0.1, x[:, 1].max() + 0.1\n",
        "  xx, yy = np.meshgrid(np.linspace(x_min, x_max, 100),\n",
        "                       np.linspace(y_min, y_max, 100))\n",
        "  \n",
        "  # Create X values (we're going to predict on all of these)\n",
        "  x_in = np.c_[xx.ravel(), yy.ravel()] # stack 2D arrays together: https://numpy.org/devdocs/reference/generated/numpy.c_.html\n",
        "  \n",
        "  # Make predictions using the trained model\n",
        "  y_pred = model.predict(x_in)\n",
        "\n",
        "  # Check for multi-class\n",
        "  if model.output_shape[-1] > 1: # checks the final dimension of the model's output shape, if this is > (greater than) 1, it's multi-class \n",
        "    print(\"doing multiclass classification...\")\n",
        "    # We have to reshape our predictions to get them ready for plotting\n",
        "    y_pred = np.argmax(y_pred, axis=1).reshape(xx.shape)\n",
        "  else:\n",
        "    print(\"doing binary classifcation...\")\n",
        "    y_pred = np.round(np.max(y_pred, axis=1)).reshape(xx.shape)\n",
        "  \n",
        "  # Plot decision boundary\n",
        "  plt.contourf(xx, yy, y_pred, cmap=plt.cm.RdYlBu, alpha=0.7)\n",
        "  plt.scatter(x[:, 0], x[:, 1], c=y, s=40, cmap=plt.cm.RdYlBu)\n",
        "  plt.xlim(xx.min(), xx.max())\n",
        "  plt.ylim(yy.min(), yy.max())\n"
      ],
      "metadata": {
        "id": "LHDpqJkY9nGk"
      },
      "execution_count": 18,
      "outputs": []
    },
    {
      "cell_type": "code",
      "source": [
        "# Check out the predictions our model is making\n",
        "plot_decision_boundary(model_3, x, y)"
      ],
      "metadata": {
        "id": "rnxCoXFBB1-E",
        "colab": {
          "base_uri": "https://localhost:8080/",
          "height": 346
        },
        "outputId": "f495df10-cbe3-4c01-895d-3d27c692517a"
      },
      "execution_count": 19,
      "outputs": [
        {
          "output_type": "error",
          "ename": "AttributeError",
          "evalue": "ignored",
          "traceback": [
            "\u001b[0;31m---------------------------------------------------------------------------\u001b[0m",
            "\u001b[0;31mAttributeError\u001b[0m                            Traceback (most recent call last)",
            "\u001b[0;32m<ipython-input-19-ac1939d3af55>\u001b[0m in \u001b[0;36m<module>\u001b[0;34m()\u001b[0m\n\u001b[1;32m      1\u001b[0m \u001b[0;31m# Check out the predictions our model is making\u001b[0m\u001b[0;34m\u001b[0m\u001b[0;34m\u001b[0m\u001b[0;34m\u001b[0m\u001b[0m\n\u001b[0;32m----> 2\u001b[0;31m \u001b[0mplot_decision_boundary\u001b[0m\u001b[0;34m(\u001b[0m\u001b[0mmodel_3\u001b[0m\u001b[0;34m,\u001b[0m \u001b[0mx\u001b[0m\u001b[0;34m,\u001b[0m \u001b[0my\u001b[0m\u001b[0;34m)\u001b[0m\u001b[0;34m\u001b[0m\u001b[0;34m\u001b[0m\u001b[0m\n\u001b[0m",
            "\u001b[0;32m<ipython-input-18-982e56fd7c6b>\u001b[0m in \u001b[0;36mplot_decision_boundary\u001b[0;34m(model, x, y)\u001b[0m\n\u001b[1;32m      8\u001b[0m   \"\"\"\n\u001b[1;32m      9\u001b[0m   \u001b[0;31m# Define the axis boundaries of the plot and create a meshgrid\u001b[0m\u001b[0;34m\u001b[0m\u001b[0;34m\u001b[0m\u001b[0;34m\u001b[0m\u001b[0m\n\u001b[0;32m---> 10\u001b[0;31m   \u001b[0mx_min\u001b[0m\u001b[0;34m,\u001b[0m \u001b[0mx_max\u001b[0m \u001b[0;34m=\u001b[0m \u001b[0mx\u001b[0m\u001b[0;34m[\u001b[0m\u001b[0;34m:\u001b[0m\u001b[0;34m,\u001b[0m \u001b[0;36m0\u001b[0m\u001b[0;34m]\u001b[0m\u001b[0;34m.\u001b[0m\u001b[0mmin\u001b[0m\u001b[0;34m(\u001b[0m\u001b[0;34m)\u001b[0m \u001b[0;34m-\u001b[0m \u001b[0;36m0.1\u001b[0m\u001b[0;34m,\u001b[0m \u001b[0mx\u001b[0m\u001b[0;34m[\u001b[0m\u001b[0;34m:\u001b[0m\u001b[0;34m,\u001b[0m \u001b[0;36m0\u001b[0m\u001b[0;34m]\u001b[0m\u001b[0;34m.\u001b[0m\u001b[0mmax\u001b[0m\u001b[0;34m(\u001b[0m\u001b[0;34m)\u001b[0m \u001b[0;34m+\u001b[0m \u001b[0;36m0.1\u001b[0m\u001b[0;34m\u001b[0m\u001b[0;34m\u001b[0m\u001b[0m\n\u001b[0m\u001b[1;32m     11\u001b[0m   \u001b[0my_min\u001b[0m\u001b[0;34m,\u001b[0m \u001b[0my_max\u001b[0m \u001b[0;34m=\u001b[0m \u001b[0mx\u001b[0m\u001b[0;34m[\u001b[0m\u001b[0;34m:\u001b[0m\u001b[0;34m,\u001b[0m \u001b[0;36m1\u001b[0m\u001b[0;34m]\u001b[0m\u001b[0;34m.\u001b[0m\u001b[0mmin\u001b[0m\u001b[0;34m(\u001b[0m\u001b[0;34m)\u001b[0m \u001b[0;34m-\u001b[0m \u001b[0;36m0.1\u001b[0m\u001b[0;34m,\u001b[0m \u001b[0mx\u001b[0m\u001b[0;34m[\u001b[0m\u001b[0;34m:\u001b[0m\u001b[0;34m,\u001b[0m \u001b[0;36m1\u001b[0m\u001b[0;34m]\u001b[0m\u001b[0;34m.\u001b[0m\u001b[0mmax\u001b[0m\u001b[0;34m(\u001b[0m\u001b[0;34m)\u001b[0m \u001b[0;34m+\u001b[0m \u001b[0;36m0.1\u001b[0m\u001b[0;34m\u001b[0m\u001b[0;34m\u001b[0m\u001b[0m\n\u001b[1;32m     12\u001b[0m   xx, yy = np.meshgrid(np.linspace(x_min, x_max, 100),\n",
            "\u001b[0;32m/usr/local/lib/python3.7/dist-packages/tensorflow/python/framework/ops.py\u001b[0m in \u001b[0;36m__getattr__\u001b[0;34m(self, name)\u001b[0m\n\u001b[1;32m    511\u001b[0m         \u001b[0;32mfrom\u001b[0m \u001b[0mtensorflow\u001b[0m\u001b[0;34m.\u001b[0m\u001b[0mpython\u001b[0m\u001b[0;34m.\u001b[0m\u001b[0mops\u001b[0m\u001b[0;34m.\u001b[0m\u001b[0mnumpy_ops\u001b[0m \u001b[0;32mimport\u001b[0m \u001b[0mnp_config\u001b[0m\u001b[0;34m\u001b[0m\u001b[0;34m\u001b[0m\u001b[0m\n\u001b[1;32m    512\u001b[0m         np_config.enable_numpy_behavior()\"\"\".format(type(self).__name__, name))\n\u001b[0;32m--> 513\u001b[0;31m     \u001b[0mself\u001b[0m\u001b[0;34m.\u001b[0m\u001b[0m__getattribute__\u001b[0m\u001b[0;34m(\u001b[0m\u001b[0mname\u001b[0m\u001b[0;34m)\u001b[0m\u001b[0;34m\u001b[0m\u001b[0;34m\u001b[0m\u001b[0m\n\u001b[0m\u001b[1;32m    514\u001b[0m \u001b[0;34m\u001b[0m\u001b[0m\n\u001b[1;32m    515\u001b[0m   \u001b[0;34m@\u001b[0m\u001b[0mstaticmethod\u001b[0m\u001b[0;34m\u001b[0m\u001b[0;34m\u001b[0m\u001b[0m\n",
            "\u001b[0;31mAttributeError\u001b[0m: 'tensorflow.python.framework.ops.EagerTensor' object has no attribute 'min'"
          ]
        }
      ]
    },
    {
      "cell_type": "markdown",
      "source": [
        "oh wait ..... we compiled our modl for a binary classification problem.\n",
        "\n",
        "but.. we are working on regression problem, lets change the model to suit our data"
      ],
      "metadata": {
        "id": "an-CaEiB5x5M"
      }
    },
    {
      "cell_type": "code",
      "source": [
        "# lets see if our model to see if its a regression model\n",
        "\n",
        "tf.random.set_global_generator(42)\n",
        "\n",
        "# Create some regression data\n",
        "x_regression = tf.range(0, 1000, 5)\n",
        "y_regression = tf.range(100, 1100, 5) # y = x + 100\n",
        "\n",
        "# split our regression data intotraining and test sets\n",
        "x_reg_train = x_regression[:150]\n",
        "x_reg_test = x_regression[150:]\n",
        "y_reg_train = y_regression[:150]\n",
        "y_reg_test = y_regression[150:]\n",
        "\n"
      ],
      "metadata": {
        "id": "HIAKCcaVa20J"
      },
      "execution_count": 20,
      "outputs": []
    },
    {
      "cell_type": "code",
      "source": [
        "# Set random seed\n",
        "tf.random.set_seed(42)\n",
        "\n",
        "# 1. Create the model using the Sequential API with 3 layers\n",
        "model_3 = tf.keras.Sequential([\n",
        "  tf.keras.layers.Dense(100), # add 100 dense neurons\n",
        "  tf.keras.layers.Dense(10), # add another layer with 10 neurons\n",
        "  tf.keras.layers.Dense(1)\n",
        "])\n",
        "\n",
        "# 2. Compile the model\n",
        "model_3.compile(loss=tf.keras.losses.mae, \n",
        "                optimizer=tf.keras.optimizers.Adam(),\n",
        "                metrics=['mae'])\n",
        "\n",
        "#fit the model to regression data\n",
        "model_3.fit(tf.expand_dims(x_reg_train, axis=-1), y_reg_train, epochs=100)"
      ],
      "metadata": {
        "colab": {
          "base_uri": "https://localhost:8080/"
        },
        "id": "f2MRiC_u5ibI",
        "outputId": "01ee844c-23ad-4ed1-cb3c-485c42ebbd06"
      },
      "execution_count": 21,
      "outputs": [
        {
          "output_type": "stream",
          "name": "stdout",
          "text": [
            "Epoch 1/100\n",
            "5/5 [==============================] - 0s 3ms/step - loss: 248.2155 - mae: 248.2155\n",
            "Epoch 2/100\n",
            "5/5 [==============================] - 0s 3ms/step - loss: 138.9005 - mae: 138.9005\n",
            "Epoch 3/100\n",
            "5/5 [==============================] - 0s 3ms/step - loss: 53.1039 - mae: 53.1039\n",
            "Epoch 4/100\n",
            "5/5 [==============================] - 0s 3ms/step - loss: 73.5170 - mae: 73.5170\n",
            "Epoch 5/100\n",
            "5/5 [==============================] - 0s 3ms/step - loss: 71.2358 - mae: 71.2358\n",
            "Epoch 6/100\n",
            "5/5 [==============================] - 0s 4ms/step - loss: 47.0040 - mae: 47.0040\n",
            "Epoch 7/100\n",
            "5/5 [==============================] - 0s 3ms/step - loss: 45.9386 - mae: 45.9386\n",
            "Epoch 8/100\n",
            "5/5 [==============================] - 0s 3ms/step - loss: 42.3638 - mae: 42.3638\n",
            "Epoch 9/100\n",
            "5/5 [==============================] - 0s 3ms/step - loss: 43.6831 - mae: 43.6831\n",
            "Epoch 10/100\n",
            "5/5 [==============================] - 0s 3ms/step - loss: 42.6198 - mae: 42.6198\n",
            "Epoch 11/100\n",
            "5/5 [==============================] - 0s 4ms/step - loss: 42.4797 - mae: 42.4797\n",
            "Epoch 12/100\n",
            "5/5 [==============================] - 0s 3ms/step - loss: 41.5537 - mae: 41.5537\n",
            "Epoch 13/100\n",
            "5/5 [==============================] - 0s 3ms/step - loss: 42.0972 - mae: 42.0972\n",
            "Epoch 14/100\n",
            "5/5 [==============================] - 0s 3ms/step - loss: 41.8647 - mae: 41.8647\n",
            "Epoch 15/100\n",
            "5/5 [==============================] - 0s 3ms/step - loss: 41.5342 - mae: 41.5342\n",
            "Epoch 16/100\n",
            "5/5 [==============================] - 0s 3ms/step - loss: 41.4028 - mae: 41.4028\n",
            "Epoch 17/100\n",
            "5/5 [==============================] - 0s 3ms/step - loss: 41.6887 - mae: 41.6887\n",
            "Epoch 18/100\n",
            "5/5 [==============================] - 0s 3ms/step - loss: 41.6137 - mae: 41.6137\n",
            "Epoch 19/100\n",
            "5/5 [==============================] - 0s 4ms/step - loss: 41.2796 - mae: 41.2796\n",
            "Epoch 20/100\n",
            "5/5 [==============================] - 0s 3ms/step - loss: 41.1947 - mae: 41.1947\n",
            "Epoch 21/100\n",
            "5/5 [==============================] - 0s 3ms/step - loss: 41.2130 - mae: 41.2130\n",
            "Epoch 22/100\n",
            "5/5 [==============================] - 0s 3ms/step - loss: 41.0893 - mae: 41.0893\n",
            "Epoch 23/100\n",
            "5/5 [==============================] - 0s 3ms/step - loss: 41.2019 - mae: 41.2019\n",
            "Epoch 24/100\n",
            "5/5 [==============================] - 0s 4ms/step - loss: 40.9989 - mae: 40.9989\n",
            "Epoch 25/100\n",
            "5/5 [==============================] - 0s 3ms/step - loss: 41.0131 - mae: 41.0131\n",
            "Epoch 26/100\n",
            "5/5 [==============================] - 0s 3ms/step - loss: 41.0654 - mae: 41.0654\n",
            "Epoch 27/100\n",
            "5/5 [==============================] - 0s 3ms/step - loss: 40.8764 - mae: 40.8764\n",
            "Epoch 28/100\n",
            "5/5 [==============================] - 0s 3ms/step - loss: 41.0545 - mae: 41.0545\n",
            "Epoch 29/100\n",
            "5/5 [==============================] - 0s 3ms/step - loss: 41.0480 - mae: 41.0480\n",
            "Epoch 30/100\n",
            "5/5 [==============================] - 0s 3ms/step - loss: 40.8807 - mae: 40.8807\n",
            "Epoch 31/100\n",
            "5/5 [==============================] - 0s 4ms/step - loss: 41.2695 - mae: 41.2695\n",
            "Epoch 32/100\n",
            "5/5 [==============================] - 0s 3ms/step - loss: 40.9949 - mae: 40.9949\n",
            "Epoch 33/100\n",
            "5/5 [==============================] - 0s 4ms/step - loss: 41.0760 - mae: 41.0760\n",
            "Epoch 34/100\n",
            "5/5 [==============================] - 0s 3ms/step - loss: 41.2471 - mae: 41.2471\n",
            "Epoch 35/100\n",
            "5/5 [==============================] - 0s 5ms/step - loss: 40.6102 - mae: 40.6102\n",
            "Epoch 36/100\n",
            "5/5 [==============================] - 0s 3ms/step - loss: 41.1093 - mae: 41.1093\n",
            "Epoch 37/100\n",
            "5/5 [==============================] - 0s 3ms/step - loss: 40.8191 - mae: 40.8191\n",
            "Epoch 38/100\n",
            "5/5 [==============================] - 0s 3ms/step - loss: 40.2485 - mae: 40.2485\n",
            "Epoch 39/100\n",
            "5/5 [==============================] - 0s 3ms/step - loss: 41.0625 - mae: 41.0625\n",
            "Epoch 40/100\n",
            "5/5 [==============================] - 0s 3ms/step - loss: 40.5311 - mae: 40.5311\n",
            "Epoch 41/100\n",
            "5/5 [==============================] - 0s 3ms/step - loss: 40.5497 - mae: 40.5497\n",
            "Epoch 42/100\n",
            "5/5 [==============================] - 0s 3ms/step - loss: 40.4322 - mae: 40.4322\n",
            "Epoch 43/100\n",
            "5/5 [==============================] - 0s 3ms/step - loss: 40.5367 - mae: 40.5367\n",
            "Epoch 44/100\n",
            "5/5 [==============================] - 0s 3ms/step - loss: 40.2487 - mae: 40.2487\n",
            "Epoch 45/100\n",
            "5/5 [==============================] - 0s 3ms/step - loss: 40.5152 - mae: 40.5152\n",
            "Epoch 46/100\n",
            "5/5 [==============================] - 0s 3ms/step - loss: 40.3702 - mae: 40.3702\n",
            "Epoch 47/100\n",
            "5/5 [==============================] - 0s 3ms/step - loss: 40.4769 - mae: 40.4769\n",
            "Epoch 48/100\n",
            "5/5 [==============================] - 0s 3ms/step - loss: 40.1532 - mae: 40.1532\n",
            "Epoch 49/100\n",
            "5/5 [==============================] - 0s 3ms/step - loss: 40.7291 - mae: 40.7291\n",
            "Epoch 50/100\n",
            "5/5 [==============================] - 0s 4ms/step - loss: 40.1536 - mae: 40.1536\n",
            "Epoch 51/100\n",
            "5/5 [==============================] - 0s 4ms/step - loss: 40.2711 - mae: 40.2711\n",
            "Epoch 52/100\n",
            "5/5 [==============================] - 0s 3ms/step - loss: 40.6572 - mae: 40.6572\n",
            "Epoch 53/100\n",
            "5/5 [==============================] - 0s 3ms/step - loss: 40.6573 - mae: 40.6573\n",
            "Epoch 54/100\n",
            "5/5 [==============================] - 0s 3ms/step - loss: 40.6894 - mae: 40.6894\n",
            "Epoch 55/100\n",
            "5/5 [==============================] - 0s 3ms/step - loss: 41.2771 - mae: 41.2771\n",
            "Epoch 56/100\n",
            "5/5 [==============================] - 0s 3ms/step - loss: 41.8519 - mae: 41.8519\n",
            "Epoch 57/100\n",
            "5/5 [==============================] - 0s 3ms/step - loss: 40.7903 - mae: 40.7903\n",
            "Epoch 58/100\n",
            "5/5 [==============================] - 0s 3ms/step - loss: 40.3128 - mae: 40.3128\n",
            "Epoch 59/100\n",
            "5/5 [==============================] - 0s 3ms/step - loss: 40.7198 - mae: 40.7198\n",
            "Epoch 60/100\n",
            "5/5 [==============================] - 0s 3ms/step - loss: 40.1478 - mae: 40.1478\n",
            "Epoch 61/100\n",
            "5/5 [==============================] - 0s 3ms/step - loss: 40.1116 - mae: 40.1116\n",
            "Epoch 62/100\n",
            "5/5 [==============================] - 0s 4ms/step - loss: 40.7800 - mae: 40.7800\n",
            "Epoch 63/100\n",
            "5/5 [==============================] - 0s 4ms/step - loss: 39.7242 - mae: 39.7242\n",
            "Epoch 64/100\n",
            "5/5 [==============================] - 0s 3ms/step - loss: 40.1465 - mae: 40.1465\n",
            "Epoch 65/100\n",
            "5/5 [==============================] - 0s 3ms/step - loss: 39.6887 - mae: 39.6887\n",
            "Epoch 66/100\n",
            "5/5 [==============================] - 0s 3ms/step - loss: 40.2840 - mae: 40.2840\n",
            "Epoch 67/100\n",
            "5/5 [==============================] - 0s 4ms/step - loss: 39.5541 - mae: 39.5541\n",
            "Epoch 68/100\n",
            "5/5 [==============================] - 0s 4ms/step - loss: 39.7378 - mae: 39.7378\n",
            "Epoch 69/100\n",
            "5/5 [==============================] - 0s 4ms/step - loss: 39.9784 - mae: 39.9784\n",
            "Epoch 70/100\n",
            "5/5 [==============================] - 0s 3ms/step - loss: 40.0016 - mae: 40.0016\n",
            "Epoch 71/100\n",
            "5/5 [==============================] - 0s 3ms/step - loss: 40.0913 - mae: 40.0913\n",
            "Epoch 72/100\n",
            "5/5 [==============================] - 0s 4ms/step - loss: 39.2547 - mae: 39.2547\n",
            "Epoch 73/100\n",
            "5/5 [==============================] - 0s 3ms/step - loss: 39.6828 - mae: 39.6828\n",
            "Epoch 74/100\n",
            "5/5 [==============================] - 0s 4ms/step - loss: 39.5373 - mae: 39.5373\n",
            "Epoch 75/100\n",
            "5/5 [==============================] - 0s 4ms/step - loss: 39.6265 - mae: 39.6265\n",
            "Epoch 76/100\n",
            "5/5 [==============================] - 0s 4ms/step - loss: 39.3110 - mae: 39.3110\n",
            "Epoch 77/100\n",
            "5/5 [==============================] - 0s 4ms/step - loss: 39.1599 - mae: 39.1599\n",
            "Epoch 78/100\n",
            "5/5 [==============================] - 0s 4ms/step - loss: 39.7550 - mae: 39.7550\n",
            "Epoch 79/100\n",
            "5/5 [==============================] - 0s 3ms/step - loss: 39.2542 - mae: 39.2542\n",
            "Epoch 80/100\n",
            "5/5 [==============================] - 0s 3ms/step - loss: 38.6968 - mae: 38.6968\n",
            "Epoch 81/100\n",
            "5/5 [==============================] - 0s 3ms/step - loss: 39.5442 - mae: 39.5442\n",
            "Epoch 82/100\n",
            "5/5 [==============================] - 0s 3ms/step - loss: 39.8686 - mae: 39.8686\n",
            "Epoch 83/100\n",
            "5/5 [==============================] - 0s 3ms/step - loss: 39.1693 - mae: 39.1693\n",
            "Epoch 84/100\n",
            "5/5 [==============================] - 0s 3ms/step - loss: 38.8840 - mae: 38.8840\n",
            "Epoch 85/100\n",
            "5/5 [==============================] - 0s 4ms/step - loss: 38.8887 - mae: 38.8887\n",
            "Epoch 86/100\n",
            "5/5 [==============================] - 0s 3ms/step - loss: 38.6614 - mae: 38.6614\n",
            "Epoch 87/100\n",
            "5/5 [==============================] - 0s 3ms/step - loss: 38.8399 - mae: 38.8399\n",
            "Epoch 88/100\n",
            "5/5 [==============================] - 0s 3ms/step - loss: 38.6604 - mae: 38.6604\n",
            "Epoch 89/100\n",
            "5/5 [==============================] - 0s 3ms/step - loss: 38.7559 - mae: 38.7559\n",
            "Epoch 90/100\n",
            "5/5 [==============================] - 0s 5ms/step - loss: 38.5442 - mae: 38.5442\n",
            "Epoch 91/100\n",
            "5/5 [==============================] - 0s 4ms/step - loss: 38.3247 - mae: 38.3247\n",
            "Epoch 92/100\n",
            "5/5 [==============================] - 0s 3ms/step - loss: 38.8431 - mae: 38.8431\n",
            "Epoch 93/100\n",
            "5/5 [==============================] - 0s 3ms/step - loss: 39.1137 - mae: 39.1137\n",
            "Epoch 94/100\n",
            "5/5 [==============================] - 0s 3ms/step - loss: 38.1463 - mae: 38.1463\n",
            "Epoch 95/100\n",
            "5/5 [==============================] - 0s 3ms/step - loss: 38.3998 - mae: 38.3998\n",
            "Epoch 96/100\n",
            "5/5 [==============================] - 0s 3ms/step - loss: 38.5599 - mae: 38.5599\n",
            "Epoch 97/100\n",
            "5/5 [==============================] - 0s 3ms/step - loss: 38.1038 - mae: 38.1038\n",
            "Epoch 98/100\n",
            "5/5 [==============================] - 0s 3ms/step - loss: 39.0081 - mae: 39.0081\n",
            "Epoch 99/100\n",
            "5/5 [==============================] - 0s 4ms/step - loss: 38.3056 - mae: 38.3056\n",
            "Epoch 100/100\n",
            "5/5 [==============================] - 0s 3ms/step - loss: 37.9976 - mae: 37.9976\n"
          ]
        },
        {
          "output_type": "execute_result",
          "data": {
            "text/plain": [
              "<keras.callbacks.History at 0x7f12a2968690>"
            ]
          },
          "metadata": {},
          "execution_count": 21
        }
      ]
    },
    {
      "cell_type": "code",
      "source": [
        "# make predictions with our trained model\n",
        "y_reg_preds = model_3.predict(x_reg_test)\n",
        "\n",
        "#Plot the model's predictions against regression data\n",
        "plt.figure(figsize=(10, 7))\n",
        "plt.scatter(x_reg_train, y_reg_train, c='b', label= 'Training data')\n",
        "plt.scatter(x_reg_test, y_reg_test, c='g', label= 'Test data')\n",
        "plt.scatter(x_reg_test, y_reg_preds, c='r', label= 'Predictions')\n",
        "plt.legend();"
      ],
      "metadata": {
        "colab": {
          "base_uri": "https://localhost:8080/",
          "height": 428
        },
        "id": "veBGjntt6tEJ",
        "outputId": "1e7079f7-137d-4313-b9d0-d2417098054e"
      },
      "execution_count": 22,
      "outputs": [
        {
          "output_type": "display_data",
          "data": {
            "text/plain": [
              "<Figure size 720x504 with 1 Axes>"
            ],
            "image/png": "[encoded data removed]"
          },
          "metadata": {
            "needs_background": "light"
          }
        }
      ]
    },
    {
      "cell_type": "code",
      "source": [
        "# the missing piece: Non linear"
      ],
      "metadata": {
        "id": "33mFpb-2FVSO"
      },
      "execution_count": 23,
      "outputs": []
    },
    {
      "cell_type": "code",
      "source": [
        "# Set random seed\n",
        "tf.random.set_seed(42)\n",
        "\n",
        "# 1. Create the model using the Sequential API with 3 layers\n",
        "model_4 = tf.keras.Sequential([\n",
        "  tf.keras.layers.Dense(1, activation=tf.keras.activations.linear)\n",
        "])\n",
        "\n",
        "# 2. Compile the model\n",
        "model_4.compile(loss='binary_crossentropy', \n",
        "                optimizer=tf.keras.optimizers.Adam(lr=0.001),\n",
        "                metrics=['accuracy'])\n",
        "\n",
        "#fit the model to regression data\n",
        "#model_4.fit(tf.expand_dims(x_reg_train, axis=-1), y_reg_train, epochs=100)\n",
        "history = model_4.fit(x, y, epochs=100)"
      ],
      "metadata": {
        "colab": {
          "base_uri": "https://localhost:8080/"
        },
        "id": "vY4JVOwVJFNV",
        "outputId": "43afd81c-be8c-48ae-e98a-f54172b6efd1"
      },
      "execution_count": 24,
      "outputs": [
        {
          "output_type": "stream",
          "name": "stdout",
          "text": [
            "Epoch 1/100\n"
          ]
        },
        {
          "output_type": "stream",
          "name": "stderr",
          "text": [
            "/usr/local/lib/python3.7/dist-packages/keras/optimizer_v2/adam.py:105: UserWarning: The `lr` argument is deprecated, use `learning_rate` instead.\n",
            "  super(Adam, self).__init__(name, **kwargs)\n"
          ]
        },
        {
          "output_type": "stream",
          "name": "stdout",
          "text": [
            "32/32 [==============================] - 0s 2ms/step - loss: 4.2979 - accuracy: 0.4670\n",
            "Epoch 2/100\n",
            "32/32 [==============================] - 0s 2ms/step - loss: 4.2317 - accuracy: 0.4400\n",
            "Epoch 3/100\n",
            "32/32 [==============================] - 0s 1ms/step - loss: 4.1610 - accuracy: 0.4310\n",
            "Epoch 4/100\n",
            "32/32 [==============================] - 0s 1ms/step - loss: 4.1183 - accuracy: 0.4270\n",
            "Epoch 5/100\n",
            "32/32 [==============================] - 0s 1ms/step - loss: 4.0784 - accuracy: 0.4240\n",
            "Epoch 6/100\n",
            "32/32 [==============================] - 0s 2ms/step - loss: 3.9604 - accuracy: 0.4170\n",
            "Epoch 7/100\n",
            "32/32 [==============================] - 0s 1ms/step - loss: 3.8936 - accuracy: 0.4110\n",
            "Epoch 8/100\n",
            "32/32 [==============================] - 0s 1ms/step - loss: 3.7818 - accuracy: 0.4140\n",
            "Epoch 9/100\n",
            "32/32 [==============================] - 0s 2ms/step - loss: 3.7564 - accuracy: 0.4140\n",
            "Epoch 10/100\n",
            "32/32 [==============================] - 0s 1ms/step - loss: 3.7547 - accuracy: 0.4150\n",
            "Epoch 11/100\n",
            "32/32 [==============================] - 0s 1ms/step - loss: 3.7537 - accuracy: 0.4140\n",
            "Epoch 12/100\n",
            "32/32 [==============================] - 0s 1ms/step - loss: 3.7526 - accuracy: 0.4140\n",
            "Epoch 13/100\n",
            "32/32 [==============================] - 0s 1ms/step - loss: 3.7518 - accuracy: 0.4140\n",
            "Epoch 14/100\n",
            "32/32 [==============================] - 0s 2ms/step - loss: 3.7510 - accuracy: 0.4140\n",
            "Epoch 15/100\n",
            "32/32 [==============================] - 0s 2ms/step - loss: 3.7503 - accuracy: 0.4130\n",
            "Epoch 16/100\n",
            "32/32 [==============================] - 0s 1ms/step - loss: 3.7497 - accuracy: 0.4130\n",
            "Epoch 17/100\n",
            "32/32 [==============================] - 0s 1ms/step - loss: 3.7490 - accuracy: 0.4130\n",
            "Epoch 18/100\n",
            "32/32 [==============================] - 0s 2ms/step - loss: 3.7484 - accuracy: 0.4130\n",
            "Epoch 19/100\n",
            "32/32 [==============================] - 0s 2ms/step - loss: 3.7478 - accuracy: 0.4120\n",
            "Epoch 20/100\n",
            "32/32 [==============================] - 0s 1ms/step - loss: 3.7472 - accuracy: 0.4120\n",
            "Epoch 21/100\n",
            "32/32 [==============================] - 0s 1ms/step - loss: 3.7466 - accuracy: 0.4110\n",
            "Epoch 22/100\n",
            "32/32 [==============================] - 0s 1ms/step - loss: 3.7461 - accuracy: 0.4110\n",
            "Epoch 23/100\n",
            "32/32 [==============================] - 0s 1ms/step - loss: 3.7455 - accuracy: 0.4110\n",
            "Epoch 24/100\n",
            "32/32 [==============================] - 0s 1ms/step - loss: 3.7450 - accuracy: 0.4110\n",
            "Epoch 25/100\n",
            "32/32 [==============================] - 0s 1ms/step - loss: 3.7366 - accuracy: 0.4120\n",
            "Epoch 26/100\n",
            "32/32 [==============================] - 0s 2ms/step - loss: 3.7256 - accuracy: 0.4120\n",
            "Epoch 27/100\n",
            "32/32 [==============================] - 0s 2ms/step - loss: 3.7230 - accuracy: 0.4140\n",
            "Epoch 28/100\n",
            "32/32 [==============================] - 0s 1ms/step - loss: 3.7215 - accuracy: 0.4140\n",
            "Epoch 29/100\n",
            "32/32 [==============================] - 0s 1ms/step - loss: 3.7204 - accuracy: 0.4150\n",
            "Epoch 30/100\n",
            "32/32 [==============================] - 0s 2ms/step - loss: 3.7196 - accuracy: 0.4160\n",
            "Epoch 31/100\n",
            "32/32 [==============================] - 0s 1ms/step - loss: 3.7188 - accuracy: 0.4170\n",
            "Epoch 32/100\n",
            "32/32 [==============================] - 0s 1ms/step - loss: 3.7181 - accuracy: 0.4170\n",
            "Epoch 33/100\n",
            "32/32 [==============================] - 0s 2ms/step - loss: 3.7174 - accuracy: 0.4170\n",
            "Epoch 34/100\n",
            "32/32 [==============================] - 0s 2ms/step - loss: 3.7167 - accuracy: 0.4170\n",
            "Epoch 35/100\n",
            "32/32 [==============================] - 0s 2ms/step - loss: 3.7161 - accuracy: 0.4160\n",
            "Epoch 36/100\n",
            "32/32 [==============================] - 0s 2ms/step - loss: 3.7153 - accuracy: 0.4150\n",
            "Epoch 37/100\n",
            "32/32 [==============================] - 0s 1ms/step - loss: 3.7147 - accuracy: 0.4150\n",
            "Epoch 38/100\n",
            "32/32 [==============================] - 0s 1ms/step - loss: 3.7141 - accuracy: 0.4150\n",
            "Epoch 39/100\n",
            "32/32 [==============================] - 0s 1ms/step - loss: 3.7135 - accuracy: 0.4150\n",
            "Epoch 40/100\n",
            "32/32 [==============================] - 0s 2ms/step - loss: 3.7129 - accuracy: 0.4150\n",
            "Epoch 41/100\n",
            "32/32 [==============================] - 0s 1ms/step - loss: 3.7123 - accuracy: 0.4150\n",
            "Epoch 42/100\n",
            "32/32 [==============================] - 0s 2ms/step - loss: 3.7118 - accuracy: 0.4160\n",
            "Epoch 43/100\n",
            "32/32 [==============================] - 0s 2ms/step - loss: 3.7112 - accuracy: 0.4160\n",
            "Epoch 44/100\n",
            "32/32 [==============================] - 0s 1ms/step - loss: 3.7107 - accuracy: 0.4160\n",
            "Epoch 45/100\n",
            "32/32 [==============================] - 0s 1ms/step - loss: 3.7101 - accuracy: 0.4150\n",
            "Epoch 46/100\n",
            "32/32 [==============================] - 0s 1ms/step - loss: 3.7096 - accuracy: 0.4170\n",
            "Epoch 47/100\n",
            "32/32 [==============================] - 0s 2ms/step - loss: 3.7091 - accuracy: 0.4170\n",
            "Epoch 48/100\n",
            "32/32 [==============================] - 0s 1ms/step - loss: 3.7014 - accuracy: 0.4170\n",
            "Epoch 49/100\n",
            "32/32 [==============================] - 0s 2ms/step - loss: 3.6892 - accuracy: 0.4190\n",
            "Epoch 50/100\n",
            "32/32 [==============================] - 0s 2ms/step - loss: 3.6856 - accuracy: 0.4190\n",
            "Epoch 51/100\n",
            "32/32 [==============================] - 0s 1ms/step - loss: 3.6846 - accuracy: 0.4190\n",
            "Epoch 52/100\n",
            "32/32 [==============================] - 0s 2ms/step - loss: 3.6837 - accuracy: 0.4190\n",
            "Epoch 53/100\n",
            "32/32 [==============================] - 0s 2ms/step - loss: 3.6829 - accuracy: 0.4190\n",
            "Epoch 54/100\n",
            "32/32 [==============================] - 0s 1ms/step - loss: 3.6821 - accuracy: 0.4190\n",
            "Epoch 55/100\n",
            "32/32 [==============================] - 0s 2ms/step - loss: 3.6814 - accuracy: 0.4190\n",
            "Epoch 56/100\n",
            "32/32 [==============================] - 0s 1ms/step - loss: 3.6807 - accuracy: 0.4200\n",
            "Epoch 57/100\n",
            "32/32 [==============================] - 0s 2ms/step - loss: 3.6727 - accuracy: 0.4210\n",
            "Epoch 58/100\n",
            "32/32 [==============================] - 0s 1ms/step - loss: 3.6690 - accuracy: 0.4190\n",
            "Epoch 59/100\n",
            "32/32 [==============================] - 0s 1ms/step - loss: 3.6677 - accuracy: 0.4190\n",
            "Epoch 60/100\n",
            "32/32 [==============================] - 0s 2ms/step - loss: 3.6585 - accuracy: 0.4190\n",
            "Epoch 61/100\n",
            "32/32 [==============================] - 0s 1ms/step - loss: 3.6489 - accuracy: 0.4200\n",
            "Epoch 62/100\n",
            "32/32 [==============================] - 0s 1ms/step - loss: 3.6330 - accuracy: 0.4190\n",
            "Epoch 63/100\n",
            "32/32 [==============================] - 0s 1ms/step - loss: 3.6282 - accuracy: 0.4200\n",
            "Epoch 64/100\n",
            "32/32 [==============================] - 0s 1ms/step - loss: 3.6162 - accuracy: 0.4220\n",
            "Epoch 65/100\n",
            "32/32 [==============================] - 0s 1ms/step - loss: 3.6062 - accuracy: 0.4240\n",
            "Epoch 66/100\n",
            "32/32 [==============================] - 0s 1ms/step - loss: 3.6031 - accuracy: 0.4260\n",
            "Epoch 67/100\n",
            "32/32 [==============================] - 0s 2ms/step - loss: 3.6012 - accuracy: 0.4280\n",
            "Epoch 68/100\n",
            "32/32 [==============================] - 0s 1ms/step - loss: 3.5999 - accuracy: 0.4280\n",
            "Epoch 69/100\n",
            "32/32 [==============================] - 0s 1ms/step - loss: 3.5904 - accuracy: 0.4290\n",
            "Epoch 70/100\n",
            "32/32 [==============================] - 0s 2ms/step - loss: 3.5858 - accuracy: 0.4300\n",
            "Epoch 71/100\n",
            "32/32 [==============================] - 0s 1ms/step - loss: 3.5846 - accuracy: 0.4300\n",
            "Epoch 72/100\n",
            "32/32 [==============================] - 0s 1ms/step - loss: 3.5836 - accuracy: 0.4300\n",
            "Epoch 73/100\n",
            "32/32 [==============================] - 0s 1ms/step - loss: 3.5826 - accuracy: 0.4310\n",
            "Epoch 74/100\n",
            "32/32 [==============================] - 0s 2ms/step - loss: 3.5817 - accuracy: 0.4330\n",
            "Epoch 75/100\n",
            "32/32 [==============================] - 0s 2ms/step - loss: 3.5656 - accuracy: 0.4360\n",
            "Epoch 76/100\n",
            "32/32 [==============================] - 0s 1ms/step - loss: 3.5355 - accuracy: 0.4410\n",
            "Epoch 77/100\n",
            "32/32 [==============================] - 0s 1ms/step - loss: 3.5335 - accuracy: 0.4410\n",
            "Epoch 78/100\n",
            "32/32 [==============================] - 0s 1ms/step - loss: 3.5319 - accuracy: 0.4420\n",
            "Epoch 79/100\n",
            "32/32 [==============================] - 0s 1ms/step - loss: 3.5306 - accuracy: 0.4420\n",
            "Epoch 80/100\n",
            "32/32 [==============================] - 0s 2ms/step - loss: 3.5208 - accuracy: 0.4420\n",
            "Epoch 81/100\n",
            "32/32 [==============================] - 0s 1ms/step - loss: 3.5172 - accuracy: 0.4420\n",
            "Epoch 82/100\n",
            "32/32 [==============================] - 0s 1ms/step - loss: 3.5157 - accuracy: 0.4430\n",
            "Epoch 83/100\n",
            "32/32 [==============================] - 0s 2ms/step - loss: 3.5144 - accuracy: 0.4450\n",
            "Epoch 84/100\n",
            "32/32 [==============================] - 0s 1ms/step - loss: 3.5132 - accuracy: 0.4450\n",
            "Epoch 85/100\n",
            "32/32 [==============================] - 0s 1ms/step - loss: 3.5043 - accuracy: 0.4460\n",
            "Epoch 86/100\n",
            "32/32 [==============================] - 0s 1ms/step - loss: 3.5002 - accuracy: 0.4470\n",
            "Epoch 87/100\n",
            "32/32 [==============================] - 0s 2ms/step - loss: 3.4905 - accuracy: 0.4470\n",
            "Epoch 88/100\n",
            "32/32 [==============================] - 0s 2ms/step - loss: 3.4788 - accuracy: 0.4470\n",
            "Epoch 89/100\n",
            "32/32 [==============================] - 0s 2ms/step - loss: 3.4661 - accuracy: 0.4470\n",
            "Epoch 90/100\n",
            "32/32 [==============================] - 0s 1ms/step - loss: 3.4452 - accuracy: 0.4490\n",
            "Epoch 91/100\n",
            "32/32 [==============================] - 0s 1ms/step - loss: 3.4198 - accuracy: 0.4560\n",
            "Epoch 92/100\n",
            "32/32 [==============================] - 0s 1ms/step - loss: 3.4176 - accuracy: 0.4550\n",
            "Epoch 93/100\n",
            "32/32 [==============================] - 0s 1ms/step - loss: 3.4072 - accuracy: 0.4580\n",
            "Epoch 94/100\n",
            "32/32 [==============================] - 0s 2ms/step - loss: 3.4036 - accuracy: 0.4580\n",
            "Epoch 95/100\n",
            "32/32 [==============================] - 0s 2ms/step - loss: 3.3944 - accuracy: 0.4590\n",
            "Epoch 96/100\n",
            "32/32 [==============================] - 0s 2ms/step - loss: 3.3290 - accuracy: 0.4590\n",
            "Epoch 97/100\n",
            "32/32 [==============================] - 0s 1ms/step - loss: 3.2727 - accuracy: 0.4600\n",
            "Epoch 98/100\n",
            "32/32 [==============================] - 0s 1ms/step - loss: 3.2636 - accuracy: 0.4580\n",
            "Epoch 99/100\n",
            "32/32 [==============================] - 0s 1ms/step - loss: 3.2509 - accuracy: 0.4570\n",
            "Epoch 100/100\n",
            "32/32 [==============================] - 0s 2ms/step - loss: 3.2459 - accuracy: 0.4570\n"
          ]
        }
      ]
    },
    {
      "cell_type": "code",
      "source": [
        "\n",
        "\n",
        "# Check out our data\n",
        "plt.scatter(x[:, 0], x[:, 1], c=y, cmap=plt.cm.RdYlBu);"
      ],
      "metadata": {
        "colab": {
          "base_uri": "https://localhost:8080/",
          "height": 265
        },
        "id": "FDjXH7ipKYmu",
        "outputId": "5ca94a18-0f36-43dc-bc15-bb0c959f41b5"
      },
      "execution_count": 25,
      "outputs": [
        {
          "output_type": "display_data",
          "data": {
            "text/plain": [
              "<Figure size 432x288 with 1 Axes>"
            ],
            "image/png": "[encoded data removed]"
          },
          "metadata": {
            "needs_background": "light"
          }
        }
      ]
    },
    {
      "cell_type": "code",
      "source": [
        "# chek the dicison boundary for our latest model\n",
        "plot_decision_boundary(model=model_4,\n",
        "                       x=x,\n",
        "                       y=y)"
      ],
      "metadata": {
        "colab": {
          "base_uri": "https://localhost:8080/",
          "height": 363
        },
        "id": "ysWpVEGQUPeH",
        "outputId": "4a15f5ea-226b-4a63-88a7-d7e71b41a5bb"
      },
      "execution_count": 27,
      "outputs": [
        {
          "output_type": "error",
          "ename": "AttributeError",
          "evalue": "ignored",
          "traceback": [
            "\u001b[0;31m---------------------------------------------------------------------------\u001b[0m",
            "\u001b[0;31mAttributeError\u001b[0m                            Traceback (most recent call last)",
            "\u001b[0;32m<ipython-input-27-575b5bca3b35>\u001b[0m in \u001b[0;36m<module>\u001b[0;34m()\u001b[0m\n\u001b[1;32m      2\u001b[0m plot_decision_boundary(model=model_4,\n\u001b[1;32m      3\u001b[0m                        \u001b[0mx\u001b[0m\u001b[0;34m=\u001b[0m\u001b[0mx\u001b[0m\u001b[0;34m,\u001b[0m\u001b[0;34m\u001b[0m\u001b[0;34m\u001b[0m\u001b[0m\n\u001b[0;32m----> 4\u001b[0;31m                        y=y)\n\u001b[0m",
            "\u001b[0;32m<ipython-input-18-982e56fd7c6b>\u001b[0m in \u001b[0;36mplot_decision_boundary\u001b[0;34m(model, x, y)\u001b[0m\n\u001b[1;32m      8\u001b[0m   \"\"\"\n\u001b[1;32m      9\u001b[0m   \u001b[0;31m# Define the axis boundaries of the plot and create a meshgrid\u001b[0m\u001b[0;34m\u001b[0m\u001b[0;34m\u001b[0m\u001b[0;34m\u001b[0m\u001b[0m\n\u001b[0;32m---> 10\u001b[0;31m   \u001b[0mx_min\u001b[0m\u001b[0;34m,\u001b[0m \u001b[0mx_max\u001b[0m \u001b[0;34m=\u001b[0m \u001b[0mx\u001b[0m\u001b[0;34m[\u001b[0m\u001b[0;34m:\u001b[0m\u001b[0;34m,\u001b[0m \u001b[0;36m0\u001b[0m\u001b[0;34m]\u001b[0m\u001b[0;34m.\u001b[0m\u001b[0mmin\u001b[0m\u001b[0;34m(\u001b[0m\u001b[0;34m)\u001b[0m \u001b[0;34m-\u001b[0m \u001b[0;36m0.1\u001b[0m\u001b[0;34m,\u001b[0m \u001b[0mx\u001b[0m\u001b[0;34m[\u001b[0m\u001b[0;34m:\u001b[0m\u001b[0;34m,\u001b[0m \u001b[0;36m0\u001b[0m\u001b[0;34m]\u001b[0m\u001b[0;34m.\u001b[0m\u001b[0mmax\u001b[0m\u001b[0;34m(\u001b[0m\u001b[0;34m)\u001b[0m \u001b[0;34m+\u001b[0m \u001b[0;36m0.1\u001b[0m\u001b[0;34m\u001b[0m\u001b[0;34m\u001b[0m\u001b[0m\n\u001b[0m\u001b[1;32m     11\u001b[0m   \u001b[0my_min\u001b[0m\u001b[0;34m,\u001b[0m \u001b[0my_max\u001b[0m \u001b[0;34m=\u001b[0m \u001b[0mx\u001b[0m\u001b[0;34m[\u001b[0m\u001b[0;34m:\u001b[0m\u001b[0;34m,\u001b[0m \u001b[0;36m1\u001b[0m\u001b[0;34m]\u001b[0m\u001b[0;34m.\u001b[0m\u001b[0mmin\u001b[0m\u001b[0;34m(\u001b[0m\u001b[0;34m)\u001b[0m \u001b[0;34m-\u001b[0m \u001b[0;36m0.1\u001b[0m\u001b[0;34m,\u001b[0m \u001b[0mx\u001b[0m\u001b[0;34m[\u001b[0m\u001b[0;34m:\u001b[0m\u001b[0;34m,\u001b[0m \u001b[0;36m1\u001b[0m\u001b[0;34m]\u001b[0m\u001b[0;34m.\u001b[0m\u001b[0mmax\u001b[0m\u001b[0;34m(\u001b[0m\u001b[0;34m)\u001b[0m \u001b[0;34m+\u001b[0m \u001b[0;36m0.1\u001b[0m\u001b[0;34m\u001b[0m\u001b[0;34m\u001b[0m\u001b[0m\n\u001b[1;32m     12\u001b[0m   xx, yy = np.meshgrid(np.linspace(x_min, x_max, 100),\n",
            "\u001b[0;32m/usr/local/lib/python3.7/dist-packages/tensorflow/python/framework/ops.py\u001b[0m in \u001b[0;36m__getattr__\u001b[0;34m(self, name)\u001b[0m\n\u001b[1;32m    511\u001b[0m         \u001b[0;32mfrom\u001b[0m \u001b[0mtensorflow\u001b[0m\u001b[0;34m.\u001b[0m\u001b[0mpython\u001b[0m\u001b[0;34m.\u001b[0m\u001b[0mops\u001b[0m\u001b[0;34m.\u001b[0m\u001b[0mnumpy_ops\u001b[0m \u001b[0;32mimport\u001b[0m \u001b[0mnp_config\u001b[0m\u001b[0;34m\u001b[0m\u001b[0;34m\u001b[0m\u001b[0m\n\u001b[1;32m    512\u001b[0m         np_config.enable_numpy_behavior()\"\"\".format(type(self).__name__, name))\n\u001b[0;32m--> 513\u001b[0;31m     \u001b[0mself\u001b[0m\u001b[0;34m.\u001b[0m\u001b[0m__getattribute__\u001b[0m\u001b[0;34m(\u001b[0m\u001b[0mname\u001b[0m\u001b[0;34m)\u001b[0m\u001b[0;34m\u001b[0m\u001b[0;34m\u001b[0m\u001b[0m\n\u001b[0m\u001b[1;32m    514\u001b[0m \u001b[0;34m\u001b[0m\u001b[0m\n\u001b[1;32m    515\u001b[0m   \u001b[0;34m@\u001b[0m\u001b[0mstaticmethod\u001b[0m\u001b[0;34m\u001b[0m\u001b[0;34m\u001b[0m\u001b[0m\n",
            "\u001b[0;31mAttributeError\u001b[0m: 'tensorflow.python.framework.ops.EagerTensor' object has no attribute 'min'"
          ]
        }
      ]
    },
    {
      "cell_type": "markdown",
      "source": [
        "lets first build our model with a non-linear activation function"
      ],
      "metadata": {
        "id": "pqjGEzxDeRM7"
      }
    },
    {
      "cell_type": "code",
      "source": [
        "# Set random seed\n",
        "tf.random.set_seed(42)\n",
        "\n",
        "# 1. Create the model using the Sequential API with 3 layers\n",
        "model_5 = tf.keras.Sequential([\n",
        "  tf.keras.layers.Dense(1, activation=tf.keras.activations.relu)\n",
        "])\n",
        "\n",
        "# 2. Compile the model\n",
        "model_5.compile(loss=tf.keras.losses.BinaryCrossentropy(), \n",
        "                optimizer=tf.keras.optimizers.Adam(lr=0.001),\n",
        "                metrics=['accuracy'])\n",
        "\n",
        "#fit the model to regression data\n",
        "#model_4.fit(tf.expand_dims(x_reg_train, axis=-1), y_reg_train, epochs=100)\n",
        "history = model_5.fit(x, y, epochs=100)"
      ],
      "metadata": {
        "colab": {
          "base_uri": "https://localhost:8080/"
        },
        "id": "ro9cP05YWFbi",
        "outputId": "17368fe2-9f0c-447c-c25a-082ab76fcf48"
      },
      "execution_count": 28,
      "outputs": [
        {
          "output_type": "stream",
          "name": "stdout",
          "text": [
            "Epoch 1/100\n"
          ]
        },
        {
          "output_type": "stream",
          "name": "stderr",
          "text": [
            "/usr/local/lib/python3.7/dist-packages/keras/optimizer_v2/adam.py:105: UserWarning: The `lr` argument is deprecated, use `learning_rate` instead.\n",
            "  super(Adam, self).__init__(name, **kwargs)\n"
          ]
        },
        {
          "output_type": "stream",
          "name": "stdout",
          "text": [
            "32/32 [==============================] - 0s 1ms/step - loss: 4.2979 - accuracy: 0.4670\n",
            "Epoch 2/100\n",
            "32/32 [==============================] - 0s 2ms/step - loss: 4.2317 - accuracy: 0.4400\n",
            "Epoch 3/100\n",
            "32/32 [==============================] - 0s 1ms/step - loss: 4.1610 - accuracy: 0.4310\n",
            "Epoch 4/100\n",
            "32/32 [==============================] - 0s 1ms/step - loss: 4.1183 - accuracy: 0.4270\n",
            "Epoch 5/100\n",
            "32/32 [==============================] - 0s 1ms/step - loss: 4.0784 - accuracy: 0.4240\n",
            "Epoch 6/100\n",
            "32/32 [==============================] - 0s 1ms/step - loss: 3.9604 - accuracy: 0.4170\n",
            "Epoch 7/100\n",
            "32/32 [==============================] - 0s 1ms/step - loss: 3.8936 - accuracy: 0.4110\n",
            "Epoch 8/100\n",
            "32/32 [==============================] - 0s 2ms/step - loss: 3.7818 - accuracy: 0.4140\n",
            "Epoch 9/100\n",
            "32/32 [==============================] - 0s 1ms/step - loss: 3.7564 - accuracy: 0.4140\n",
            "Epoch 10/100\n",
            "32/32 [==============================] - 0s 2ms/step - loss: 3.7547 - accuracy: 0.4150\n",
            "Epoch 11/100\n",
            "32/32 [==============================] - 0s 1ms/step - loss: 3.7537 - accuracy: 0.4140\n",
            "Epoch 12/100\n",
            "32/32 [==============================] - 0s 1ms/step - loss: 3.7526 - accuracy: 0.4140\n",
            "Epoch 13/100\n",
            "32/32 [==============================] - 0s 2ms/step - loss: 3.7518 - accuracy: 0.4140\n",
            "Epoch 14/100\n",
            "32/32 [==============================] - 0s 2ms/step - loss: 3.7510 - accuracy: 0.4140\n",
            "Epoch 15/100\n",
            "32/32 [==============================] - 0s 2ms/step - loss: 3.7503 - accuracy: 0.4130\n",
            "Epoch 16/100\n",
            "32/32 [==============================] - 0s 1ms/step - loss: 3.7497 - accuracy: 0.4130\n",
            "Epoch 17/100\n",
            "32/32 [==============================] - 0s 1ms/step - loss: 3.7490 - accuracy: 0.4130\n",
            "Epoch 18/100\n",
            "32/32 [==============================] - 0s 1ms/step - loss: 3.7484 - accuracy: 0.4130\n",
            "Epoch 19/100\n",
            "32/32 [==============================] - 0s 2ms/step - loss: 3.7478 - accuracy: 0.4120\n",
            "Epoch 20/100\n",
            "32/32 [==============================] - 0s 1ms/step - loss: 3.7472 - accuracy: 0.4120\n",
            "Epoch 21/100\n",
            "32/32 [==============================] - 0s 1ms/step - loss: 3.7466 - accuracy: 0.4110\n",
            "Epoch 22/100\n",
            "32/32 [==============================] - 0s 2ms/step - loss: 3.7461 - accuracy: 0.4110\n",
            "Epoch 23/100\n",
            "32/32 [==============================] - 0s 1ms/step - loss: 3.7455 - accuracy: 0.4110\n",
            "Epoch 24/100\n",
            "32/32 [==============================] - 0s 1ms/step - loss: 3.7450 - accuracy: 0.4110\n",
            "Epoch 25/100\n",
            "32/32 [==============================] - 0s 2ms/step - loss: 3.7366 - accuracy: 0.4120\n",
            "Epoch 26/100\n",
            "32/32 [==============================] - 0s 1ms/step - loss: 3.7256 - accuracy: 0.4120\n",
            "Epoch 27/100\n",
            "32/32 [==============================] - 0s 1ms/step - loss: 3.7230 - accuracy: 0.4140\n",
            "Epoch 28/100\n",
            "32/32 [==============================] - 0s 1ms/step - loss: 3.7215 - accuracy: 0.4140\n",
            "Epoch 29/100\n",
            "32/32 [==============================] - 0s 1ms/step - loss: 3.7204 - accuracy: 0.4150\n",
            "Epoch 30/100\n",
            "32/32 [==============================] - 0s 1ms/step - loss: 3.7196 - accuracy: 0.4160\n",
            "Epoch 31/100\n",
            "32/32 [==============================] - 0s 1ms/step - loss: 3.7188 - accuracy: 0.4170\n",
            "Epoch 32/100\n",
            "32/32 [==============================] - 0s 1ms/step - loss: 3.7181 - accuracy: 0.4170\n",
            "Epoch 33/100\n",
            "32/32 [==============================] - 0s 2ms/step - loss: 3.7174 - accuracy: 0.4170\n",
            "Epoch 34/100\n",
            "32/32 [==============================] - 0s 2ms/step - loss: 3.7167 - accuracy: 0.4170\n",
            "Epoch 35/100\n",
            "32/32 [==============================] - 0s 1ms/step - loss: 3.7161 - accuracy: 0.4160\n",
            "Epoch 36/100\n",
            "32/32 [==============================] - 0s 1ms/step - loss: 3.7153 - accuracy: 0.4150\n",
            "Epoch 37/100\n",
            "32/32 [==============================] - 0s 1ms/step - loss: 3.7147 - accuracy: 0.4150\n",
            "Epoch 38/100\n",
            "32/32 [==============================] - 0s 1ms/step - loss: 3.7141 - accuracy: 0.4150\n",
            "Epoch 39/100\n",
            "32/32 [==============================] - 0s 1ms/step - loss: 3.7135 - accuracy: 0.4150\n",
            "Epoch 40/100\n",
            "32/32 [==============================] - 0s 1ms/step - loss: 3.7129 - accuracy: 0.4150\n",
            "Epoch 41/100\n",
            "32/32 [==============================] - 0s 2ms/step - loss: 3.7123 - accuracy: 0.4150\n",
            "Epoch 42/100\n",
            "32/32 [==============================] - 0s 1ms/step - loss: 3.7118 - accuracy: 0.4160\n",
            "Epoch 43/100\n",
            "32/32 [==============================] - 0s 2ms/step - loss: 3.7112 - accuracy: 0.4160\n",
            "Epoch 44/100\n",
            "32/32 [==============================] - 0s 1ms/step - loss: 3.7107 - accuracy: 0.4160\n",
            "Epoch 45/100\n",
            "32/32 [==============================] - 0s 1ms/step - loss: 3.7101 - accuracy: 0.4150\n",
            "Epoch 46/100\n",
            "32/32 [==============================] - 0s 1ms/step - loss: 3.7096 - accuracy: 0.4170\n",
            "Epoch 47/100\n",
            "32/32 [==============================] - 0s 1ms/step - loss: 3.7091 - accuracy: 0.4170\n",
            "Epoch 48/100\n",
            "32/32 [==============================] - 0s 2ms/step - loss: 3.7014 - accuracy: 0.4170\n",
            "Epoch 49/100\n",
            "32/32 [==============================] - 0s 1ms/step - loss: 3.6892 - accuracy: 0.4190\n",
            "Epoch 50/100\n",
            "32/32 [==============================] - 0s 1ms/step - loss: 3.6856 - accuracy: 0.4190\n",
            "Epoch 51/100\n",
            "32/32 [==============================] - 0s 2ms/step - loss: 3.6846 - accuracy: 0.4190\n",
            "Epoch 52/100\n",
            "32/32 [==============================] - 0s 2ms/step - loss: 3.6837 - accuracy: 0.4190\n",
            "Epoch 53/100\n",
            "32/32 [==============================] - 0s 1ms/step - loss: 3.6829 - accuracy: 0.4190\n",
            "Epoch 54/100\n",
            "32/32 [==============================] - 0s 1ms/step - loss: 3.6821 - accuracy: 0.4190\n",
            "Epoch 55/100\n",
            "32/32 [==============================] - 0s 1ms/step - loss: 3.6814 - accuracy: 0.4190\n",
            "Epoch 56/100\n",
            "32/32 [==============================] - 0s 1ms/step - loss: 3.6807 - accuracy: 0.4200\n",
            "Epoch 57/100\n",
            "32/32 [==============================] - 0s 1ms/step - loss: 3.6727 - accuracy: 0.4210\n",
            "Epoch 58/100\n",
            "32/32 [==============================] - 0s 1ms/step - loss: 3.6690 - accuracy: 0.4190\n",
            "Epoch 59/100\n",
            "32/32 [==============================] - 0s 2ms/step - loss: 3.6677 - accuracy: 0.4190\n",
            "Epoch 60/100\n",
            "32/32 [==============================] - 0s 1ms/step - loss: 3.6585 - accuracy: 0.4190\n",
            "Epoch 61/100\n",
            "32/32 [==============================] - 0s 1ms/step - loss: 3.6489 - accuracy: 0.4200\n",
            "Epoch 62/100\n",
            "32/32 [==============================] - 0s 2ms/step - loss: 3.6330 - accuracy: 0.4190\n",
            "Epoch 63/100\n",
            "32/32 [==============================] - 0s 2ms/step - loss: 3.6282 - accuracy: 0.4200\n",
            "Epoch 64/100\n",
            "32/32 [==============================] - 0s 1ms/step - loss: 3.6162 - accuracy: 0.4220\n",
            "Epoch 65/100\n",
            "32/32 [==============================] - 0s 1ms/step - loss: 3.6062 - accuracy: 0.4240\n",
            "Epoch 66/100\n",
            "32/32 [==============================] - 0s 1ms/step - loss: 3.6031 - accuracy: 0.4260\n",
            "Epoch 67/100\n",
            "32/32 [==============================] - 0s 1ms/step - loss: 3.6012 - accuracy: 0.4280\n",
            "Epoch 68/100\n",
            "32/32 [==============================] - 0s 1ms/step - loss: 3.5999 - accuracy: 0.4280\n",
            "Epoch 69/100\n",
            "32/32 [==============================] - 0s 2ms/step - loss: 3.5904 - accuracy: 0.4290\n",
            "Epoch 70/100\n",
            "32/32 [==============================] - 0s 2ms/step - loss: 3.5858 - accuracy: 0.4300\n",
            "Epoch 71/100\n",
            "32/32 [==============================] - 0s 1ms/step - loss: 3.5846 - accuracy: 0.4300\n",
            "Epoch 72/100\n",
            "32/32 [==============================] - 0s 1ms/step - loss: 3.5836 - accuracy: 0.4300\n",
            "Epoch 73/100\n",
            "32/32 [==============================] - 0s 2ms/step - loss: 3.5826 - accuracy: 0.4310\n",
            "Epoch 74/100\n",
            "32/32 [==============================] - 0s 1ms/step - loss: 3.5817 - accuracy: 0.4330\n",
            "Epoch 75/100\n",
            "32/32 [==============================] - 0s 1ms/step - loss: 3.5656 - accuracy: 0.4360\n",
            "Epoch 76/100\n",
            "32/32 [==============================] - 0s 1ms/step - loss: 3.5355 - accuracy: 0.4410\n",
            "Epoch 77/100\n",
            "32/32 [==============================] - 0s 1ms/step - loss: 3.5335 - accuracy: 0.4410\n",
            "Epoch 78/100\n",
            "32/32 [==============================] - 0s 1ms/step - loss: 3.5319 - accuracy: 0.4420\n",
            "Epoch 79/100\n",
            "32/32 [==============================] - 0s 2ms/step - loss: 3.5306 - accuracy: 0.4420\n",
            "Epoch 80/100\n",
            "32/32 [==============================] - 0s 1ms/step - loss: 3.5208 - accuracy: 0.4420\n",
            "Epoch 81/100\n",
            "32/32 [==============================] - 0s 2ms/step - loss: 3.5172 - accuracy: 0.4420\n",
            "Epoch 82/100\n",
            "32/32 [==============================] - 0s 1ms/step - loss: 3.5157 - accuracy: 0.4430\n",
            "Epoch 83/100\n",
            "32/32 [==============================] - 0s 1ms/step - loss: 3.5144 - accuracy: 0.4450\n",
            "Epoch 84/100\n",
            "32/32 [==============================] - 0s 1ms/step - loss: 3.5132 - accuracy: 0.4450\n",
            "Epoch 85/100\n",
            "32/32 [==============================] - 0s 2ms/step - loss: 3.5043 - accuracy: 0.4460\n",
            "Epoch 86/100\n",
            "32/32 [==============================] - 0s 2ms/step - loss: 3.5002 - accuracy: 0.4470\n",
            "Epoch 87/100\n",
            "32/32 [==============================] - 0s 1ms/step - loss: 3.4905 - accuracy: 0.4470\n",
            "Epoch 88/100\n",
            "32/32 [==============================] - 0s 2ms/step - loss: 3.4788 - accuracy: 0.4470\n",
            "Epoch 89/100\n",
            "32/32 [==============================] - 0s 1ms/step - loss: 3.4661 - accuracy: 0.4470\n",
            "Epoch 90/100\n",
            "32/32 [==============================] - 0s 1ms/step - loss: 3.4452 - accuracy: 0.4490\n",
            "Epoch 91/100\n",
            "32/32 [==============================] - 0s 1ms/step - loss: 3.4198 - accuracy: 0.4560\n",
            "Epoch 92/100\n",
            "32/32 [==============================] - 0s 1ms/step - loss: 3.4176 - accuracy: 0.4550\n",
            "Epoch 93/100\n",
            "32/32 [==============================] - 0s 2ms/step - loss: 3.4072 - accuracy: 0.4580\n",
            "Epoch 94/100\n",
            "32/32 [==============================] - 0s 2ms/step - loss: 3.4036 - accuracy: 0.4580\n",
            "Epoch 95/100\n",
            "32/32 [==============================] - 0s 2ms/step - loss: 3.3944 - accuracy: 0.4590\n",
            "Epoch 96/100\n",
            "32/32 [==============================] - 0s 1ms/step - loss: 3.3290 - accuracy: 0.4590\n",
            "Epoch 97/100\n",
            "32/32 [==============================] - 0s 1ms/step - loss: 3.2727 - accuracy: 0.4600\n",
            "Epoch 98/100\n",
            "32/32 [==============================] - 0s 1ms/step - loss: 3.2636 - accuracy: 0.4580\n",
            "Epoch 99/100\n",
            "32/32 [==============================] - 0s 1ms/step - loss: 3.2509 - accuracy: 0.4570\n",
            "Epoch 100/100\n",
            "32/32 [==============================] - 0s 1ms/step - loss: 3.2459 - accuracy: 0.4570\n"
          ]
        }
      ]
    },
    {
      "cell_type": "code",
      "source": [
        "# Time to replicate the multi-layer neautral network for tensorflow playground\n",
        "\n",
        "# Set random seed\n",
        "tf.random.set_seed(42)\n",
        "\n",
        "# 1. Create the model using the Sequential API with 3 layers\n",
        "model_6 = tf.keras.Sequential([\n",
        "  tf.keras.layers.Dense(4, activation='relu'),\n",
        "   tf.keras.layers.Dense(4, activation='relu')\n",
        "])\n",
        "\n",
        "# 2. Compile the model\n",
        "model_6.compile(loss='binary_crossentropy', \n",
        "                optimizer=tf.keras.optimizers.Adam(lr=0.001),\n",
        "                metrics=['accuracy'])\n",
        "\n",
        "#fit the model to regression data\n",
        "#model_4.fit(tf.expand_dims(x_reg_train, axis=-1), y_reg_train, epochs=100)\n",
        "history = model_6.fit(x, y, epochs=100)"
      ],
      "metadata": {
        "colab": {
          "base_uri": "https://localhost:8080/"
        },
        "id": "RgF_9QCbeuB_",
        "outputId": "b0411f8f-41fb-4e19-e6ed-7384397f78aa"
      },
      "execution_count": 29,
      "outputs": [
        {
          "output_type": "stream",
          "name": "stdout",
          "text": [
            "Epoch 1/100\n"
          ]
        },
        {
          "output_type": "stream",
          "name": "stderr",
          "text": [
            "/usr/local/lib/python3.7/dist-packages/keras/optimizer_v2/adam.py:105: UserWarning: The `lr` argument is deprecated, use `learning_rate` instead.\n",
            "  super(Adam, self).__init__(name, **kwargs)\n"
          ]
        },
        {
          "output_type": "stream",
          "name": "stdout",
          "text": [
            "32/32 [==============================] - 1s 2ms/step - loss: 3.2091 - accuracy: 0.0010\n",
            "Epoch 2/100\n",
            "32/32 [==============================] - 0s 2ms/step - loss: 2.6774 - accuracy: 0.0050\n",
            "Epoch 3/100\n",
            "32/32 [==============================] - 0s 2ms/step - loss: 2.5260 - accuracy: 0.0100\n",
            "Epoch 4/100\n",
            "32/32 [==============================] - 0s 2ms/step - loss: 2.4545 - accuracy: 0.0220\n",
            "Epoch 5/100\n",
            "32/32 [==============================] - 0s 2ms/step - loss: 2.3271 - accuracy: 0.0420\n",
            "Epoch 6/100\n",
            "32/32 [==============================] - 0s 2ms/step - loss: 1.9320 - accuracy: 0.0790\n",
            "Epoch 7/100\n",
            "32/32 [==============================] - 0s 2ms/step - loss: 1.6530 - accuracy: 0.1220\n",
            "Epoch 8/100\n",
            "32/32 [==============================] - 0s 1ms/step - loss: 1.5982 - accuracy: 0.1320\n",
            "Epoch 9/100\n",
            "32/32 [==============================] - 0s 2ms/step - loss: 1.5331 - accuracy: 0.1440\n",
            "Epoch 10/100\n",
            "32/32 [==============================] - 0s 2ms/step - loss: 1.4113 - accuracy: 0.1490\n",
            "Epoch 11/100\n",
            "32/32 [==============================] - 0s 1ms/step - loss: 1.1692 - accuracy: 0.1470\n",
            "Epoch 12/100\n",
            "32/32 [==============================] - 0s 1ms/step - loss: 0.9167 - accuracy: 0.1200\n",
            "Epoch 13/100\n",
            "32/32 [==============================] - 0s 2ms/step - loss: 0.8939 - accuracy: 0.1270\n",
            "Epoch 14/100\n",
            "32/32 [==============================] - 0s 1ms/step - loss: 0.8786 - accuracy: 0.1360\n",
            "Epoch 15/100\n",
            "32/32 [==============================] - 0s 2ms/step - loss: 0.8655 - accuracy: 0.1510\n",
            "Epoch 16/100\n",
            "32/32 [==============================] - 0s 2ms/step - loss: 0.8540 - accuracy: 0.1660\n",
            "Epoch 17/100\n",
            "32/32 [==============================] - 0s 1ms/step - loss: 0.8435 - accuracy: 0.1900\n",
            "Epoch 18/100\n",
            "32/32 [==============================] - 0s 2ms/step - loss: 0.8337 - accuracy: 0.2050\n",
            "Epoch 19/100\n",
            "32/32 [==============================] - 0s 1ms/step - loss: 0.8249 - accuracy: 0.2120\n",
            "Epoch 20/100\n",
            "32/32 [==============================] - 0s 2ms/step - loss: 0.8165 - accuracy: 0.2180\n",
            "Epoch 21/100\n",
            "32/32 [==============================] - 0s 2ms/step - loss: 0.8087 - accuracy: 0.2200\n",
            "Epoch 22/100\n",
            "32/32 [==============================] - 0s 2ms/step - loss: 0.8009 - accuracy: 0.2220\n",
            "Epoch 23/100\n",
            "32/32 [==============================] - 0s 1ms/step - loss: 0.7938 - accuracy: 0.2250\n",
            "Epoch 24/100\n",
            "32/32 [==============================] - 0s 2ms/step - loss: 0.7872 - accuracy: 0.2320\n",
            "Epoch 25/100\n",
            "32/32 [==============================] - 0s 1ms/step - loss: 0.7809 - accuracy: 0.2320\n",
            "Epoch 26/100\n",
            "32/32 [==============================] - 0s 1ms/step - loss: 0.7746 - accuracy: 0.2350\n",
            "Epoch 27/100\n",
            "32/32 [==============================] - 0s 2ms/step - loss: 0.7685 - accuracy: 0.2360\n",
            "Epoch 28/100\n",
            "32/32 [==============================] - 0s 1ms/step - loss: 0.7623 - accuracy: 0.2380\n",
            "Epoch 29/100\n",
            "32/32 [==============================] - 0s 2ms/step - loss: 0.7567 - accuracy: 0.2410\n",
            "Epoch 30/100\n",
            "32/32 [==============================] - 0s 2ms/step - loss: 0.7510 - accuracy: 0.2460\n",
            "Epoch 31/100\n",
            "32/32 [==============================] - 0s 2ms/step - loss: 0.7449 - accuracy: 0.2450\n",
            "Epoch 32/100\n",
            "32/32 [==============================] - 0s 1ms/step - loss: 0.7378 - accuracy: 0.2380\n",
            "Epoch 33/100\n",
            "32/32 [==============================] - 0s 2ms/step - loss: 0.7298 - accuracy: 0.2340\n",
            "Epoch 34/100\n",
            "32/32 [==============================] - 0s 2ms/step - loss: 0.7237 - accuracy: 0.2250\n",
            "Epoch 35/100\n",
            "32/32 [==============================] - 0s 2ms/step - loss: 0.7191 - accuracy: 0.2170\n",
            "Epoch 36/100\n",
            "32/32 [==============================] - 0s 1ms/step - loss: 0.7156 - accuracy: 0.2220\n",
            "Epoch 37/100\n",
            "32/32 [==============================] - 0s 2ms/step - loss: 0.7129 - accuracy: 0.2250\n",
            "Epoch 38/100\n",
            "32/32 [==============================] - 0s 1ms/step - loss: 0.7103 - accuracy: 0.2270\n",
            "Epoch 39/100\n",
            "32/32 [==============================] - 0s 2ms/step - loss: 0.7077 - accuracy: 0.2380\n",
            "Epoch 40/100\n",
            "32/32 [==============================] - 0s 2ms/step - loss: 0.7056 - accuracy: 0.2450\n",
            "Epoch 41/100\n",
            "32/32 [==============================] - 0s 2ms/step - loss: 0.7036 - accuracy: 0.2470\n",
            "Epoch 42/100\n",
            "32/32 [==============================] - 0s 1ms/step - loss: 0.7015 - accuracy: 0.2550\n",
            "Epoch 43/100\n",
            "32/32 [==============================] - 0s 1ms/step - loss: 0.6996 - accuracy: 0.2490\n",
            "Epoch 44/100\n",
            "32/32 [==============================] - 0s 2ms/step - loss: 0.6982 - accuracy: 0.2510\n",
            "Epoch 45/100\n",
            "32/32 [==============================] - 0s 2ms/step - loss: 0.6962 - accuracy: 0.2560\n",
            "Epoch 46/100\n",
            "32/32 [==============================] - 0s 2ms/step - loss: 0.6947 - accuracy: 0.2550\n",
            "Epoch 47/100\n",
            "32/32 [==============================] - 0s 2ms/step - loss: 0.6936 - accuracy: 0.2520\n",
            "Epoch 48/100\n",
            "32/32 [==============================] - 0s 1ms/step - loss: 0.6921 - accuracy: 0.2540\n",
            "Epoch 49/100\n",
            "32/32 [==============================] - 0s 2ms/step - loss: 0.6908 - accuracy: 0.2580\n",
            "Epoch 50/100\n",
            "32/32 [==============================] - 0s 1ms/step - loss: 0.6896 - accuracy: 0.2610\n",
            "Epoch 51/100\n",
            "32/32 [==============================] - 0s 2ms/step - loss: 0.6885 - accuracy: 0.2610\n",
            "Epoch 52/100\n",
            "32/32 [==============================] - 0s 2ms/step - loss: 0.6876 - accuracy: 0.2520\n",
            "Epoch 53/100\n",
            "32/32 [==============================] - 0s 2ms/step - loss: 0.6868 - accuracy: 0.2550\n",
            "Epoch 54/100\n",
            "32/32 [==============================] - 0s 2ms/step - loss: 0.6856 - accuracy: 0.2480\n",
            "Epoch 55/100\n",
            "32/32 [==============================] - 0s 1ms/step - loss: 0.6850 - accuracy: 0.2530\n",
            "Epoch 56/100\n",
            "32/32 [==============================] - 0s 2ms/step - loss: 0.6841 - accuracy: 0.2660\n",
            "Epoch 57/100\n",
            "32/32 [==============================] - 0s 1ms/step - loss: 0.6833 - accuracy: 0.2910\n",
            "Epoch 58/100\n",
            "32/32 [==============================] - 0s 1ms/step - loss: 0.6827 - accuracy: 0.3000\n",
            "Epoch 59/100\n",
            "32/32 [==============================] - 0s 2ms/step - loss: 0.6822 - accuracy: 0.2810\n",
            "Epoch 60/100\n",
            "32/32 [==============================] - 0s 2ms/step - loss: 0.6813 - accuracy: 0.2550\n",
            "Epoch 61/100\n",
            "32/32 [==============================] - 0s 2ms/step - loss: 0.6807 - accuracy: 0.2770\n",
            "Epoch 62/100\n",
            "32/32 [==============================] - 0s 2ms/step - loss: 0.6801 - accuracy: 0.2750\n",
            "Epoch 63/100\n",
            "32/32 [==============================] - 0s 2ms/step - loss: 0.6795 - accuracy: 0.2680\n",
            "Epoch 64/100\n",
            "32/32 [==============================] - 0s 2ms/step - loss: 0.6790 - accuracy: 0.2800\n",
            "Epoch 65/100\n",
            "32/32 [==============================] - 0s 1ms/step - loss: 0.6786 - accuracy: 0.2900\n",
            "Epoch 66/100\n",
            "32/32 [==============================] - 0s 2ms/step - loss: 0.6781 - accuracy: 0.2970\n",
            "Epoch 67/100\n",
            "32/32 [==============================] - 0s 2ms/step - loss: 0.6777 - accuracy: 0.3030\n",
            "Epoch 68/100\n",
            "32/32 [==============================] - 0s 2ms/step - loss: 0.6771 - accuracy: 0.3000\n",
            "Epoch 69/100\n",
            "32/32 [==============================] - 0s 2ms/step - loss: 0.6767 - accuracy: 0.3050\n",
            "Epoch 70/100\n",
            "32/32 [==============================] - 0s 1ms/step - loss: 0.6764 - accuracy: 0.3090\n",
            "Epoch 71/100\n",
            "32/32 [==============================] - 0s 2ms/step - loss: 0.6760 - accuracy: 0.3150\n",
            "Epoch 72/100\n",
            "32/32 [==============================] - 0s 2ms/step - loss: 0.6756 - accuracy: 0.3150\n",
            "Epoch 73/100\n",
            "32/32 [==============================] - 0s 1ms/step - loss: 0.6753 - accuracy: 0.3140\n",
            "Epoch 74/100\n",
            "32/32 [==============================] - 0s 1ms/step - loss: 0.6748 - accuracy: 0.3250\n",
            "Epoch 75/100\n",
            "32/32 [==============================] - 0s 1ms/step - loss: 0.6746 - accuracy: 0.3230\n",
            "Epoch 76/100\n",
            "32/32 [==============================] - 0s 1ms/step - loss: 0.6742 - accuracy: 0.3260\n",
            "Epoch 77/100\n",
            "32/32 [==============================] - 0s 2ms/step - loss: 0.6738 - accuracy: 0.3290\n",
            "Epoch 78/100\n",
            "32/32 [==============================] - 0s 2ms/step - loss: 0.6734 - accuracy: 0.3300\n",
            "Epoch 79/100\n",
            "32/32 [==============================] - 0s 1ms/step - loss: 0.6731 - accuracy: 0.3310\n",
            "Epoch 80/100\n",
            "32/32 [==============================] - 0s 1ms/step - loss: 0.6726 - accuracy: 0.3310\n",
            "Epoch 81/100\n",
            "32/32 [==============================] - 0s 1ms/step - loss: 0.6726 - accuracy: 0.3340\n",
            "Epoch 82/100\n",
            "32/32 [==============================] - 0s 2ms/step - loss: 0.6723 - accuracy: 0.3460\n",
            "Epoch 83/100\n",
            "32/32 [==============================] - 0s 2ms/step - loss: 0.6718 - accuracy: 0.3540\n",
            "Epoch 84/100\n",
            "32/32 [==============================] - 0s 2ms/step - loss: 0.6711 - accuracy: 0.3490\n",
            "Epoch 85/100\n",
            "32/32 [==============================] - 0s 1ms/step - loss: 0.6709 - accuracy: 0.3480\n",
            "Epoch 86/100\n",
            "32/32 [==============================] - 0s 2ms/step - loss: 0.6710 - accuracy: 0.3480\n",
            "Epoch 87/100\n",
            "32/32 [==============================] - 0s 1ms/step - loss: 0.6701 - accuracy: 0.3510\n",
            "Epoch 88/100\n",
            "32/32 [==============================] - 0s 2ms/step - loss: 0.6698 - accuracy: 0.3530\n",
            "Epoch 89/100\n",
            "32/32 [==============================] - 0s 1ms/step - loss: 0.6696 - accuracy: 0.3470\n",
            "Epoch 90/100\n",
            "32/32 [==============================] - 0s 1ms/step - loss: 0.6695 - accuracy: 0.3590\n",
            "Epoch 91/100\n",
            "32/32 [==============================] - 0s 1ms/step - loss: 0.6686 - accuracy: 0.3500\n",
            "Epoch 92/100\n",
            "32/32 [==============================] - 0s 1ms/step - loss: 0.6685 - accuracy: 0.3540\n",
            "Epoch 93/100\n",
            "32/32 [==============================] - 0s 1ms/step - loss: 0.6685 - accuracy: 0.3560\n",
            "Epoch 94/100\n",
            "32/32 [==============================] - 0s 2ms/step - loss: 0.6676 - accuracy: 0.3560\n",
            "Epoch 95/100\n",
            "32/32 [==============================] - 0s 1ms/step - loss: 0.6672 - accuracy: 0.3530\n",
            "Epoch 96/100\n",
            "32/32 [==============================] - 0s 2ms/step - loss: 0.6668 - accuracy: 0.3650\n",
            "Epoch 97/100\n",
            "32/32 [==============================] - 0s 2ms/step - loss: 0.6663 - accuracy: 0.3620\n",
            "Epoch 98/100\n",
            "32/32 [==============================] - 0s 2ms/step - loss: 0.6659 - accuracy: 0.3670\n",
            "Epoch 99/100\n",
            "32/32 [==============================] - 0s 2ms/step - loss: 0.6658 - accuracy: 0.3620\n",
            "Epoch 100/100\n",
            "32/32 [==============================] - 0s 1ms/step - loss: 0.6655 - accuracy: 0.3830\n"
          ]
        }
      ]
    },
    {
      "cell_type": "code",
      "source": [
        "# Evaluate the model\n",
        "model_6.evaluate(x, y)"
      ],
      "metadata": {
        "colab": {
          "base_uri": "https://localhost:8080/"
        },
        "id": "wlPRgq6cf8yL",
        "outputId": "a5b4bbaf-9f36-4545-b4c1-4b80f5f37e73"
      },
      "execution_count": 30,
      "outputs": [
        {
          "output_type": "stream",
          "name": "stdout",
          "text": [
            "32/32 [==============================] - 0s 1ms/step - loss: 0.6643 - accuracy: 0.3780\n"
          ]
        },
        {
          "output_type": "execute_result",
          "data": {
            "text/plain": [
              "[0.6642990708351135, 0.3779999911785126]"
            ]
          },
          "metadata": {},
          "execution_count": 30
        }
      ]
    },
    {
      "cell_type": "code",
      "source": [
        "# whata activation function is good for binary"
      ],
      "metadata": {
        "id": "bDFxbrJDgTIu"
      },
      "execution_count": 31,
      "outputs": []
    },
    {
      "cell_type": "code",
      "source": [
        "# Time to replicate the multi-layer neautral network for tensorflow playground\n",
        "\n",
        "# Set random seed\n",
        "tf.random.set_seed(42)\n",
        "\n",
        "# 1. Create the model using the Sequential API with 3 layers\n",
        "model_7 = tf.keras.Sequential([\n",
        "  tf.keras.layers.Dense(4, activation='relu'),\n",
        "  tf.keras.layers.Dense(4, activation='relu'),\n",
        "  tf.keras.layers.Dense(1, activation='sigmoid')\n",
        "])\n",
        "\n",
        "# 2. Compile the model\n",
        "model_7.compile(loss='binary_crossentropy', \n",
        "                optimizer=tf.keras.optimizers.Adam(lr=0.001),\n",
        "                metrics=['accuracy'])\n",
        "\n",
        "#fit the model to regression data\n",
        "#model_4.fit(tf.expand_dims(x_reg_train, axis=-1), y_reg_train, epochs=100)\n",
        "history = model_7.fit(x, y, epochs=100)"
      ],
      "metadata": {
        "colab": {
          "base_uri": "https://localhost:8080/"
        },
        "id": "VjYBxmINhERM",
        "outputId": "f49c7242-be34-49dd-93d2-1df185fab9b1"
      },
      "execution_count": 32,
      "outputs": [
        {
          "output_type": "stream",
          "name": "stdout",
          "text": [
            "Epoch 1/100\n"
          ]
        },
        {
          "output_type": "stream",
          "name": "stderr",
          "text": [
            "/usr/local/lib/python3.7/dist-packages/keras/optimizer_v2/adam.py:105: UserWarning: The `lr` argument is deprecated, use `learning_rate` instead.\n",
            "  super(Adam, self).__init__(name, **kwargs)\n"
          ]
        },
        {
          "output_type": "stream",
          "name": "stdout",
          "text": [
            "32/32 [==============================] - 1s 2ms/step - loss: 0.6891 - accuracy: 0.5020\n",
            "Epoch 2/100\n",
            "32/32 [==============================] - 0s 2ms/step - loss: 0.6848 - accuracy: 0.5170\n",
            "Epoch 3/100\n",
            "32/32 [==============================] - 0s 2ms/step - loss: 0.6824 - accuracy: 0.5160\n",
            "Epoch 4/100\n",
            "32/32 [==============================] - 0s 2ms/step - loss: 0.6813 - accuracy: 0.5300\n",
            "Epoch 5/100\n",
            "32/32 [==============================] - 0s 2ms/step - loss: 0.6802 - accuracy: 0.5390\n",
            "Epoch 6/100\n",
            "32/32 [==============================] - 0s 1ms/step - loss: 0.6794 - accuracy: 0.5380\n",
            "Epoch 7/100\n",
            "32/32 [==============================] - 0s 2ms/step - loss: 0.6785 - accuracy: 0.5500\n",
            "Epoch 8/100\n",
            "32/32 [==============================] - 0s 2ms/step - loss: 0.6778 - accuracy: 0.5480\n",
            "Epoch 9/100\n",
            "32/32 [==============================] - 0s 2ms/step - loss: 0.6772 - accuracy: 0.5530\n",
            "Epoch 10/100\n",
            "32/32 [==============================] - 0s 1ms/step - loss: 0.6766 - accuracy: 0.5510\n",
            "Epoch 11/100\n",
            "32/32 [==============================] - 0s 2ms/step - loss: 0.6760 - accuracy: 0.5500\n",
            "Epoch 12/100\n",
            "32/32 [==============================] - 0s 2ms/step - loss: 0.6754 - accuracy: 0.5550\n",
            "Epoch 13/100\n",
            "32/32 [==============================] - 0s 2ms/step - loss: 0.6747 - accuracy: 0.5560\n",
            "Epoch 14/100\n",
            "32/32 [==============================] - 0s 2ms/step - loss: 0.6741 - accuracy: 0.5540\n",
            "Epoch 15/100\n",
            "32/32 [==============================] - 0s 2ms/step - loss: 0.6734 - accuracy: 0.5580\n",
            "Epoch 16/100\n",
            "32/32 [==============================] - 0s 2ms/step - loss: 0.6727 - accuracy: 0.5550\n",
            "Epoch 17/100\n",
            "32/32 [==============================] - 0s 1ms/step - loss: 0.6722 - accuracy: 0.5550\n",
            "Epoch 18/100\n",
            "32/32 [==============================] - 0s 2ms/step - loss: 0.6716 - accuracy: 0.5550\n",
            "Epoch 19/100\n",
            "32/32 [==============================] - 0s 2ms/step - loss: 0.6710 - accuracy: 0.5590\n",
            "Epoch 20/100\n",
            "32/32 [==============================] - 0s 1ms/step - loss: 0.6702 - accuracy: 0.5600\n",
            "Epoch 21/100\n",
            "32/32 [==============================] - 0s 1ms/step - loss: 0.6696 - accuracy: 0.5640\n",
            "Epoch 22/100\n",
            "32/32 [==============================] - 0s 2ms/step - loss: 0.6688 - accuracy: 0.5600\n",
            "Epoch 23/100\n",
            "32/32 [==============================] - 0s 2ms/step - loss: 0.6682 - accuracy: 0.5700\n",
            "Epoch 24/100\n",
            "32/32 [==============================] - 0s 1ms/step - loss: 0.6679 - accuracy: 0.5570\n",
            "Epoch 25/100\n",
            "32/32 [==============================] - 0s 2ms/step - loss: 0.6671 - accuracy: 0.5670\n",
            "Epoch 26/100\n",
            "32/32 [==============================] - 0s 2ms/step - loss: 0.6662 - accuracy: 0.5750\n",
            "Epoch 27/100\n",
            "32/32 [==============================] - 0s 2ms/step - loss: 0.6657 - accuracy: 0.5810\n",
            "Epoch 28/100\n",
            "32/32 [==============================] - 0s 2ms/step - loss: 0.6645 - accuracy: 0.5700\n",
            "Epoch 29/100\n",
            "32/32 [==============================] - 0s 1ms/step - loss: 0.6642 - accuracy: 0.5700\n",
            "Epoch 30/100\n",
            "32/32 [==============================] - 0s 1ms/step - loss: 0.6634 - accuracy: 0.5790\n",
            "Epoch 31/100\n",
            "32/32 [==============================] - 0s 2ms/step - loss: 0.6627 - accuracy: 0.5760\n",
            "Epoch 32/100\n",
            "32/32 [==============================] - 0s 2ms/step - loss: 0.6619 - accuracy: 0.5760\n",
            "Epoch 33/100\n",
            "32/32 [==============================] - 0s 2ms/step - loss: 0.6610 - accuracy: 0.5760\n",
            "Epoch 34/100\n",
            "32/32 [==============================] - 0s 2ms/step - loss: 0.6606 - accuracy: 0.5760\n",
            "Epoch 35/100\n",
            "32/32 [==============================] - 0s 2ms/step - loss: 0.6597 - accuracy: 0.5790\n",
            "Epoch 36/100\n",
            "32/32 [==============================] - 0s 2ms/step - loss: 0.6586 - accuracy: 0.5780\n",
            "Epoch 37/100\n",
            "32/32 [==============================] - 0s 1ms/step - loss: 0.6580 - accuracy: 0.5780\n",
            "Epoch 38/100\n",
            "32/32 [==============================] - 0s 1ms/step - loss: 0.6573 - accuracy: 0.5790\n",
            "Epoch 39/100\n",
            "32/32 [==============================] - 0s 1ms/step - loss: 0.6564 - accuracy: 0.5790\n",
            "Epoch 40/100\n",
            "32/32 [==============================] - 0s 2ms/step - loss: 0.6556 - accuracy: 0.5760\n",
            "Epoch 41/100\n",
            "32/32 [==============================] - 0s 2ms/step - loss: 0.6548 - accuracy: 0.5780\n",
            "Epoch 42/100\n",
            "32/32 [==============================] - 0s 2ms/step - loss: 0.6540 - accuracy: 0.5750\n",
            "Epoch 43/100\n",
            "32/32 [==============================] - 0s 2ms/step - loss: 0.6530 - accuracy: 0.5780\n",
            "Epoch 44/100\n",
            "32/32 [==============================] - 0s 1ms/step - loss: 0.6521 - accuracy: 0.5810\n",
            "Epoch 45/100\n",
            "32/32 [==============================] - 0s 2ms/step - loss: 0.6496 - accuracy: 0.5810\n",
            "Epoch 46/100\n",
            "32/32 [==============================] - 0s 2ms/step - loss: 0.6481 - accuracy: 0.5830\n",
            "Epoch 47/100\n",
            "32/32 [==============================] - 0s 1ms/step - loss: 0.6472 - accuracy: 0.5850\n",
            "Epoch 48/100\n",
            "32/32 [==============================] - 0s 2ms/step - loss: 0.6451 - accuracy: 0.5880\n",
            "Epoch 49/100\n",
            "32/32 [==============================] - 0s 1ms/step - loss: 0.6426 - accuracy: 0.5880\n",
            "Epoch 50/100\n",
            "32/32 [==============================] - 0s 2ms/step - loss: 0.6404 - accuracy: 0.5940\n",
            "Epoch 51/100\n",
            "32/32 [==============================] - 0s 2ms/step - loss: 0.6384 - accuracy: 0.6010\n",
            "Epoch 52/100\n",
            "32/32 [==============================] - 0s 2ms/step - loss: 0.6364 - accuracy: 0.6130\n",
            "Epoch 53/100\n",
            "32/32 [==============================] - 0s 1ms/step - loss: 0.6344 - accuracy: 0.6110\n",
            "Epoch 54/100\n",
            "32/32 [==============================] - 0s 2ms/step - loss: 0.6312 - accuracy: 0.6280\n",
            "Epoch 55/100\n",
            "32/32 [==============================] - 0s 2ms/step - loss: 0.6287 - accuracy: 0.6380\n",
            "Epoch 56/100\n",
            "32/32 [==============================] - 0s 2ms/step - loss: 0.6259 - accuracy: 0.6840\n",
            "Epoch 57/100\n",
            "32/32 [==============================] - 0s 2ms/step - loss: 0.6227 - accuracy: 0.6950\n",
            "Epoch 58/100\n",
            "32/32 [==============================] - 0s 2ms/step - loss: 0.6200 - accuracy: 0.6990\n",
            "Epoch 59/100\n",
            "32/32 [==============================] - 0s 2ms/step - loss: 0.6168 - accuracy: 0.6950\n",
            "Epoch 60/100\n",
            "32/32 [==============================] - 0s 1ms/step - loss: 0.6133 - accuracy: 0.7240\n",
            "Epoch 61/100\n",
            "32/32 [==============================] - 0s 2ms/step - loss: 0.6101 - accuracy: 0.7200\n",
            "Epoch 62/100\n",
            "32/32 [==============================] - 0s 2ms/step - loss: 0.6059 - accuracy: 0.7330\n",
            "Epoch 63/100\n",
            "32/32 [==============================] - 0s 2ms/step - loss: 0.6014 - accuracy: 0.7400\n",
            "Epoch 64/100\n",
            "32/32 [==============================] - 0s 2ms/step - loss: 0.5966 - accuracy: 0.7460\n",
            "Epoch 65/100\n",
            "32/32 [==============================] - 0s 2ms/step - loss: 0.5905 - accuracy: 0.7440\n",
            "Epoch 66/100\n",
            "32/32 [==============================] - 0s 2ms/step - loss: 0.5830 - accuracy: 0.7450\n",
            "Epoch 67/100\n",
            "32/32 [==============================] - 0s 2ms/step - loss: 0.5757 - accuracy: 0.7460\n",
            "Epoch 68/100\n",
            "32/32 [==============================] - 0s 2ms/step - loss: 0.5683 - accuracy: 0.7800\n",
            "Epoch 69/100\n",
            "32/32 [==============================] - 0s 2ms/step - loss: 0.5614 - accuracy: 0.8010\n",
            "Epoch 70/100\n",
            "32/32 [==============================] - 0s 2ms/step - loss: 0.5548 - accuracy: 0.8010\n",
            "Epoch 71/100\n",
            "32/32 [==============================] - 0s 2ms/step - loss: 0.5474 - accuracy: 0.8240\n",
            "Epoch 72/100\n",
            "32/32 [==============================] - 0s 2ms/step - loss: 0.5406 - accuracy: 0.8460\n",
            "Epoch 73/100\n",
            "32/32 [==============================] - 0s 2ms/step - loss: 0.5327 - accuracy: 0.8470\n",
            "Epoch 74/100\n",
            "32/32 [==============================] - 0s 2ms/step - loss: 0.5243 - accuracy: 0.8620\n",
            "Epoch 75/100\n",
            "32/32 [==============================] - 0s 2ms/step - loss: 0.5148 - accuracy: 0.8870\n",
            "Epoch 76/100\n",
            "32/32 [==============================] - 0s 2ms/step - loss: 0.5042 - accuracy: 0.8820\n",
            "Epoch 77/100\n",
            "32/32 [==============================] - 0s 2ms/step - loss: 0.4927 - accuracy: 0.9300\n",
            "Epoch 78/100\n",
            "32/32 [==============================] - 0s 2ms/step - loss: 0.4824 - accuracy: 0.9090\n",
            "Epoch 79/100\n",
            "32/32 [==============================] - 0s 2ms/step - loss: 0.4733 - accuracy: 0.9460\n",
            "Epoch 80/100\n",
            "32/32 [==============================] - 0s 2ms/step - loss: 0.4632 - accuracy: 0.9600\n",
            "Epoch 81/100\n",
            "32/32 [==============================] - 0s 2ms/step - loss: 0.4546 - accuracy: 0.9600\n",
            "Epoch 82/100\n",
            "32/32 [==============================] - 0s 2ms/step - loss: 0.4456 - accuracy: 0.9580\n",
            "Epoch 83/100\n",
            "32/32 [==============================] - 0s 2ms/step - loss: 0.4360 - accuracy: 0.9630\n",
            "Epoch 84/100\n",
            "32/32 [==============================] - 0s 2ms/step - loss: 0.4260 - accuracy: 0.9690\n",
            "Epoch 85/100\n",
            "32/32 [==============================] - 0s 2ms/step - loss: 0.4145 - accuracy: 0.9700\n",
            "Epoch 86/100\n",
            "32/32 [==============================] - 0s 2ms/step - loss: 0.4059 - accuracy: 0.9740\n",
            "Epoch 87/100\n",
            "32/32 [==============================] - 0s 1ms/step - loss: 0.3962 - accuracy: 0.9750\n",
            "Epoch 88/100\n",
            "32/32 [==============================] - 0s 1ms/step - loss: 0.3873 - accuracy: 0.9720\n",
            "Epoch 89/100\n",
            "32/32 [==============================] - 0s 1ms/step - loss: 0.3795 - accuracy: 0.9750\n",
            "Epoch 90/100\n",
            "32/32 [==============================] - 0s 2ms/step - loss: 0.3716 - accuracy: 0.9750\n",
            "Epoch 91/100\n",
            "32/32 [==============================] - 0s 2ms/step - loss: 0.3635 - accuracy: 0.9840\n",
            "Epoch 92/100\n",
            "32/32 [==============================] - 0s 2ms/step - loss: 0.3554 - accuracy: 0.9830\n",
            "Epoch 93/100\n",
            "32/32 [==============================] - 0s 2ms/step - loss: 0.3482 - accuracy: 0.9800\n",
            "Epoch 94/100\n",
            "32/32 [==============================] - 0s 2ms/step - loss: 0.3404 - accuracy: 0.9820\n",
            "Epoch 95/100\n",
            "32/32 [==============================] - 0s 2ms/step - loss: 0.3329 - accuracy: 0.9880\n",
            "Epoch 96/100\n",
            "32/32 [==============================] - 0s 2ms/step - loss: 0.3268 - accuracy: 0.9870\n",
            "Epoch 97/100\n",
            "32/32 [==============================] - 0s 2ms/step - loss: 0.3190 - accuracy: 0.9870\n",
            "Epoch 98/100\n",
            "32/32 [==============================] - 0s 2ms/step - loss: 0.3122 - accuracy: 0.9890\n",
            "Epoch 99/100\n",
            "32/32 [==============================] - 0s 2ms/step - loss: 0.3059 - accuracy: 0.9880\n",
            "Epoch 100/100\n",
            "32/32 [==============================] - 0s 2ms/step - loss: 0.2993 - accuracy: 0.9890\n"
          ]
        }
      ]
    },
    {
      "cell_type": "code",
      "source": [
        "# Evaluate our model\n",
        "model_7.evaluate(x,y)"
      ],
      "metadata": {
        "colab": {
          "base_uri": "https://localhost:8080/"
        },
        "id": "lNvCNRTwhwHm",
        "outputId": "d0555881-dc35-481b-a208-85696ac8e5a5"
      },
      "execution_count": 33,
      "outputs": [
        {
          "output_type": "stream",
          "name": "stdout",
          "text": [
            "32/32 [==============================] - 0s 1ms/step - loss: 0.2948 - accuracy: 0.9910\n"
          ]
        },
        {
          "output_type": "execute_result",
          "data": {
            "text/plain": [
              "[0.2948004901409149, 0.9909999966621399]"
            ]
          },
          "metadata": {},
          "execution_count": 33
        }
      ]
    },
    {
      "cell_type": "markdown",
      "source": [
        "from itertools import combinations\n",
        "# whats wrong with the predictions we have made are we really evaluating our model correctly?\n",
        "what did the model learn on and what data did we predict on?\n",
        "\n",
        "\n",
        "Note: the combination of linear(straight lines) and non-linear (non-straight lines) functions is one of the key fundamentals of neural network\n",
        "\n",
        "Now we have discussed the concept of linear and non-linear functions (or lines), lets see them in action"
      ],
      "metadata": {
        "id": "Tna4--d_ihKD"
      }
    },
    {
      "cell_type": "code",
      "source": [
        "# create a toy a tensor (similar tothe data we pass into our models)\n",
        "\n",
        "a = tf.cast(tf.range(-10, 10), tf.float32)\n",
        "a"
      ],
      "metadata": {
        "colab": {
          "base_uri": "https://localhost:8080/"
        },
        "id": "Qwnmyb4PkEyg",
        "outputId": "07f2e3df-9ac7-4f2b-c260-73ca180d2724"
      },
      "execution_count": 34,
      "outputs": [
        {
          "output_type": "execute_result",
          "data": {
            "text/plain": [
              "<tf.Tensor: shape=(20,), dtype=float32, numpy=\n",
              "array([-10.,  -9.,  -8.,  -7.,  -6.,  -5.,  -4.,  -3.,  -2.,  -1.,   0.,\n",
              "         1.,   2.,   3.,   4.,   5.,   6.,   7.,   8.,   9.],\n",
              "      dtype=float32)>"
            ]
          },
          "metadata": {},
          "execution_count": 34
        }
      ]
    },
    {
      "cell_type": "code",
      "source": [
        "# Visualize our toy tensor\n",
        "plt.plot(a)"
      ],
      "metadata": {
        "colab": {
          "base_uri": "https://localhost:8080/",
          "height": 282
        },
        "id": "MiTlAu-ekWu8",
        "outputId": "f02e7b59-0864-43d0-97f5-4173b3a7d035"
      },
      "execution_count": 35,
      "outputs": [
        {
          "output_type": "execute_result",
          "data": {
            "text/plain": [
              "[<matplotlib.lines.Line2D at 0x7f12a0838f50>]"
            ]
          },
          "metadata": {},
          "execution_count": 35
        },
        {
          "output_type": "display_data",
          "data": {
            "text/plain": [
              "<Figure size 432x288 with 1 Axes>"
            ],
            "image/png": "[encoded data removed]"
          },
          "metadata": {
            "needs_background": "light"
          }
        }
      ]
    },
    {
      "cell_type": "code",
      "source": [
        "# lets start by replicating sigmoid(x) = 1 / (1 + exp(-x)).\n",
        "def sigmoid(x):\n",
        "  return 1/ (1 + tf.exp(-x))\n",
        "\n",
        "# use the sigmoid function on our toy tensor\n",
        "sigmoid(a)"
      ],
      "metadata": {
        "colab": {
          "base_uri": "https://localhost:8080/"
        },
        "id": "pEzRVJOCktpc",
        "outputId": "fb09467c-fede-4560-c5c6-ba4ce293c3a6"
      },
      "execution_count": 36,
      "outputs": [
        {
          "output_type": "execute_result",
          "data": {
            "text/plain": [
              "<tf.Tensor: shape=(20,), dtype=float32, numpy=\n",
              "array([4.5397872e-05, 1.2339458e-04, 3.3535014e-04, 9.1105117e-04,\n",
              "       2.4726233e-03, 6.6928510e-03, 1.7986210e-02, 4.7425874e-02,\n",
              "       1.1920292e-01, 2.6894143e-01, 5.0000000e-01, 7.3105860e-01,\n",
              "       8.8079703e-01, 9.5257413e-01, 9.8201376e-01, 9.9330717e-01,\n",
              "       9.9752742e-01, 9.9908900e-01, 9.9966466e-01, 9.9987662e-01],\n",
              "      dtype=float32)>"
            ]
          },
          "metadata": {},
          "execution_count": 36
        }
      ]
    },
    {
      "cell_type": "code",
      "source": [
        "# plot our toy tensor transformed by sigmoid\n",
        "plt.plot(sigmoid(a))"
      ],
      "metadata": {
        "colab": {
          "base_uri": "https://localhost:8080/",
          "height": 282
        },
        "id": "48lw1P4zlOJ0",
        "outputId": "ac45edf9-72ad-4e4e-9265-4abb1d9a62d4"
      },
      "execution_count": 37,
      "outputs": [
        {
          "output_type": "execute_result",
          "data": {
            "text/plain": [
              "[<matplotlib.lines.Line2D at 0x7f12a006de10>]"
            ]
          },
          "metadata": {},
          "execution_count": 37
        },
        {
          "output_type": "display_data",
          "data": {
            "text/plain": [
              "<Figure size 432x288 with 1 Axes>"
            ],
            "image/png": "[encoded data removed]"
          },
          "metadata": {
            "needs_background": "light"
          }
        }
      ]
    },
    {
      "cell_type": "code",
      "source": [
        "# lets recreate a relu function\n",
        "def relu(x):\n",
        "  return tf.maximum(0, x)\n",
        "# pass our toy tensor to our relu function\n",
        "relu(a)\n",
        "\n",
        "# turn all negative to zero"
      ],
      "metadata": {
        "colab": {
          "base_uri": "https://localhost:8080/"
        },
        "id": "yIdewHQ1laNJ",
        "outputId": "57542346-285a-4fa7-80ac-8b4e26ccdf43"
      },
      "execution_count": 38,
      "outputs": [
        {
          "output_type": "execute_result",
          "data": {
            "text/plain": [
              "<tf.Tensor: shape=(20,), dtype=float32, numpy=\n",
              "array([0., 0., 0., 0., 0., 0., 0., 0., 0., 0., 0., 1., 2., 3., 4., 5., 6.,\n",
              "       7., 8., 9.], dtype=float32)>"
            ]
          },
          "metadata": {},
          "execution_count": 38
        }
      ]
    },
    {
      "cell_type": "code",
      "source": [
        "#plot relu-modified tensor\n",
        "plt.plot(relu(a))"
      ],
      "metadata": {
        "colab": {
          "base_uri": "https://localhost:8080/",
          "height": 282
        },
        "id": "pQ7DL8y0mKUr",
        "outputId": "b03a032b-a459-4b01-db6d-45eaf0b513e0"
      },
      "execution_count": 39,
      "outputs": [
        {
          "output_type": "execute_result",
          "data": {
            "text/plain": [
              "[<matplotlib.lines.Line2D at 0x7f12a0806b50>]"
            ]
          },
          "metadata": {},
          "execution_count": 39
        },
        {
          "output_type": "display_data",
          "data": {
            "text/plain": [
              "<Figure size 432x288 with 1 Axes>"
            ],
            "image/png": "[encoded data removed]"
          },
          "metadata": {
            "needs_background": "light"
          }
        }
      ]
    },
    {
      "cell_type": "code",
      "source": [
        "# lets try linear activation function\n",
        "tf.keras.activations.linear(a)"
      ],
      "metadata": {
        "colab": {
          "base_uri": "https://localhost:8080/"
        },
        "id": "jvPezJSGmXRp",
        "outputId": "bd405feb-205a-4b5e-db52-05c0484c1491"
      },
      "execution_count": 40,
      "outputs": [
        {
          "output_type": "execute_result",
          "data": {
            "text/plain": [
              "<tf.Tensor: shape=(20,), dtype=float32, numpy=\n",
              "array([-10.,  -9.,  -8.,  -7.,  -6.,  -5.,  -4.,  -3.,  -2.,  -1.,   0.,\n",
              "         1.,   2.,   3.,   4.,   5.,   6.,   7.,   8.,   9.],\n",
              "      dtype=float32)>"
            ]
          },
          "metadata": {},
          "execution_count": 40
        }
      ]
    },
    {
      "cell_type": "code",
      "source": [
        "# does the linear activation function chnage anthing\n",
        "plt.plot(tf.keras.activations.linear(a))"
      ],
      "metadata": {
        "colab": {
          "base_uri": "https://localhost:8080/",
          "height": 282
        },
        "id": "A6Y0oVfZmrCa",
        "outputId": "3f8c0091-7c64-412a-be01-f8013e4fe3bb"
      },
      "execution_count": 41,
      "outputs": [
        {
          "output_type": "execute_result",
          "data": {
            "text/plain": [
              "[<matplotlib.lines.Line2D at 0x7f12a06f3bd0>]"
            ]
          },
          "metadata": {},
          "execution_count": 41
        },
        {
          "output_type": "display_data",
          "data": {
            "text/plain": [
              "<Figure size 432x288 with 1 Axes>"
            ],
            "image/png": "[encoded data removed]"
          },
          "metadata": {
            "needs_background": "light"
          }
        }
      ]
    },
    {
      "cell_type": "code",
      "source": [
        "# does a even chnage?\n",
        "a == tf.keras.activations.linear(a)"
      ],
      "metadata": {
        "colab": {
          "base_uri": "https://localhost:8080/"
        },
        "id": "AtCPzyOim53o",
        "outputId": "b83f6eca-5331-4a25-ba8d-3df9caffdfad"
      },
      "execution_count": 42,
      "outputs": [
        {
          "output_type": "execute_result",
          "data": {
            "text/plain": [
              "<tf.Tensor: shape=(20,), dtype=bool, numpy=\n",
              "array([ True,  True,  True,  True,  True,  True,  True,  True,  True,\n",
              "        True,  True,  True,  True,  True,  True,  True,  True,  True,\n",
              "        True,  True])>"
            ]
          },
          "metadata": {},
          "execution_count": 42
        }
      ]
    },
    {
      "cell_type": "markdown",
      "source": [
        "#evaluating and improving our classification \n",
        "\n",
        "so far we have been training and testing on the same data set"
      ],
      "metadata": {
        "id": "Rgz9tjlznE4f"
      }
    },
    {
      "cell_type": "code",
      "source": [
        "#check how many examples we have\n",
        "len(x)"
      ],
      "metadata": {
        "colab": {
          "base_uri": "https://localhost:8080/"
        },
        "id": "rMREzp-aV0iH",
        "outputId": "b495d4c3-5250-426d-f8fa-bdeb3219f22d"
      },
      "execution_count": 43,
      "outputs": [
        {
          "output_type": "execute_result",
          "data": {
            "text/plain": [
              "1000"
            ]
          },
          "metadata": {},
          "execution_count": 43
        }
      ]
    },
    {
      "cell_type": "code",
      "source": [
        "#split into train and test\n",
        "x_train, y_train = x[:800], y[:800]\n",
        "x_test, y_test = x[800:], y[800:]\n",
        "\n",
        "x_train.shape, x_test.shape, y_train.shape, y_test.shape"
      ],
      "metadata": {
        "colab": {
          "base_uri": "https://localhost:8080/"
        },
        "id": "rWXZwLX6W5GP",
        "outputId": "20d6cbe5-d28f-4278-ec9d-50ecae798c14"
      },
      "execution_count": 44,
      "outputs": [
        {
          "output_type": "execute_result",
          "data": {
            "text/plain": [
              "(TensorShape([800, 2]),\n",
              " TensorShape([200, 2]),\n",
              " TensorShape([800]),\n",
              " TensorShape([200]))"
            ]
          },
          "metadata": {},
          "execution_count": 44
        }
      ]
    },
    {
      "cell_type": "code",
      "source": [
        "# lets create a model to fit on training data and valuate on test data\n",
        "# Time to replicate the multi-layer neautral network for tensorflow playground\n",
        "\n",
        "# Set random seed\n",
        "tf.random.set_seed(42)\n",
        "\n",
        "# 1. Create the model using the Sequential API with 3 layers\n",
        "model_8 = tf.keras.Sequential([\n",
        "  tf.keras.layers.Dense(4, activation='relu'),\n",
        "  tf.keras.layers.Dense(4, activation='relu'),\n",
        "  tf.keras.layers.Dense(1, activation='sigmoid')\n",
        "])\n",
        "\n",
        "# 2. Compile the model\n",
        "model_8.compile(loss='binary_crossentropy', \n",
        "                optimizer=tf.keras.optimizers.Adam(lr=0.01),\n",
        "                metrics=['accuracy'])\n",
        "\n",
        "#fit the model to regression data\n",
        "#model_4.fit(tf.expand_dims(x_reg_train, axis=-1), y_reg_train, epochs=100)\n",
        "history = model_8.fit(x, y, epochs=25)"
      ],
      "metadata": {
        "colab": {
          "base_uri": "https://localhost:8080/"
        },
        "id": "wLJLuivyYKt9",
        "outputId": "c68b9474-6960-4976-a3dd-3c4f7ea9ae00"
      },
      "execution_count": 45,
      "outputs": [
        {
          "output_type": "stream",
          "name": "stdout",
          "text": [
            "Epoch 1/25\n"
          ]
        },
        {
          "output_type": "stream",
          "name": "stderr",
          "text": [
            "/usr/local/lib/python3.7/dist-packages/keras/optimizer_v2/adam.py:105: UserWarning: The `lr` argument is deprecated, use `learning_rate` instead.\n",
            "  super(Adam, self).__init__(name, **kwargs)\n"
          ]
        },
        {
          "output_type": "stream",
          "name": "stdout",
          "text": [
            "32/32 [==============================] - 1s 2ms/step - loss: 0.6834 - accuracy: 0.5550\n",
            "Epoch 2/25\n",
            "32/32 [==============================] - 0s 2ms/step - loss: 0.6761 - accuracy: 0.5630\n",
            "Epoch 3/25\n",
            "32/32 [==============================] - 0s 2ms/step - loss: 0.6700 - accuracy: 0.5600\n",
            "Epoch 4/25\n",
            "32/32 [==============================] - 0s 2ms/step - loss: 0.6615 - accuracy: 0.5960\n",
            "Epoch 5/25\n",
            "32/32 [==============================] - 0s 2ms/step - loss: 0.6553 - accuracy: 0.5850\n",
            "Epoch 6/25\n",
            "32/32 [==============================] - 0s 2ms/step - loss: 0.6386 - accuracy: 0.6360\n",
            "Epoch 7/25\n",
            "32/32 [==============================] - 0s 1ms/step - loss: 0.6150 - accuracy: 0.6890\n",
            "Epoch 8/25\n",
            "32/32 [==============================] - 0s 1ms/step - loss: 0.5641 - accuracy: 0.7480\n",
            "Epoch 9/25\n",
            "32/32 [==============================] - 0s 2ms/step - loss: 0.5101 - accuracy: 0.8090\n",
            "Epoch 10/25\n",
            "32/32 [==============================] - 0s 2ms/step - loss: 0.4451 - accuracy: 0.8550\n",
            "Epoch 11/25\n",
            "32/32 [==============================] - 0s 2ms/step - loss: 0.4107 - accuracy: 0.8250\n",
            "Epoch 12/25\n",
            "32/32 [==============================] - 0s 2ms/step - loss: 0.3722 - accuracy: 0.8770\n",
            "Epoch 13/25\n",
            "32/32 [==============================] - 0s 2ms/step - loss: 0.3106 - accuracy: 0.9400\n",
            "Epoch 14/25\n",
            "32/32 [==============================] - 0s 2ms/step - loss: 0.2762 - accuracy: 0.9500\n",
            "Epoch 15/25\n",
            "32/32 [==============================] - 0s 2ms/step - loss: 0.2421 - accuracy: 0.9670\n",
            "Epoch 16/25\n",
            "32/32 [==============================] - 0s 2ms/step - loss: 0.2116 - accuracy: 0.9800\n",
            "Epoch 17/25\n",
            "32/32 [==============================] - 0s 1ms/step - loss: 0.1926 - accuracy: 0.9780\n",
            "Epoch 18/25\n",
            "32/32 [==============================] - 0s 2ms/step - loss: 0.1718 - accuracy: 0.9830\n",
            "Epoch 19/25\n",
            "32/32 [==============================] - 0s 2ms/step - loss: 0.1599 - accuracy: 0.9760\n",
            "Epoch 20/25\n",
            "32/32 [==============================] - 0s 2ms/step - loss: 0.1419 - accuracy: 0.9820\n",
            "Epoch 21/25\n",
            "32/32 [==============================] - 0s 2ms/step - loss: 0.1375 - accuracy: 0.9830\n",
            "Epoch 22/25\n",
            "32/32 [==============================] - 0s 2ms/step - loss: 0.1300 - accuracy: 0.9820\n",
            "Epoch 23/25\n",
            "32/32 [==============================] - 0s 2ms/step - loss: 0.1219 - accuracy: 0.9840\n",
            "Epoch 24/25\n",
            "32/32 [==============================] - 0s 2ms/step - loss: 0.1102 - accuracy: 0.9820\n",
            "Epoch 25/25\n",
            "32/32 [==============================] - 0s 2ms/step - loss: 0.1073 - accuracy: 0.9830\n"
          ]
        }
      ]
    },
    {
      "cell_type": "code",
      "source": [
        "# evalute the model on the test dataset\n",
        "model_8.evaluate(x_test, y_test)"
      ],
      "metadata": {
        "colab": {
          "base_uri": "https://localhost:8080/"
        },
        "id": "a-eatAVNY9-7",
        "outputId": "0c5d26d6-b000-480b-8687-a151796620f2"
      },
      "execution_count": 46,
      "outputs": [
        {
          "output_type": "stream",
          "name": "stdout",
          "text": [
            "7/7 [==============================] - 0s 2ms/step - loss: 0.0963 - accuracy: 0.9900\n"
          ]
        },
        {
          "output_type": "execute_result",
          "data": {
            "text/plain": [
              "[0.0963166132569313, 0.9900000095367432]"
            ]
          },
          "metadata": {},
          "execution_count": 46
        }
      ]
    },
    {
      "cell_type": "code",
      "source": [
        "# plot the deision boundary for training and test sets\n",
        "plt.figure(figsize=(12, 6))\n",
        "plt.subplot(1, 2, 1)\n",
        "plt.title('Train')\n",
        "plot_decision_boundary(model_8,x= x_train, y= y_train)\n",
        "plt.subplot(1, 2, 2)\n",
        "plt.title('Test')\n",
        "plot_decision_boundary(model_8, x = x_test, y= y_test)"
      ],
      "metadata": {
        "colab": {
          "base_uri": "https://localhost:8080/",
          "height": 771
        },
        "id": "IOsfjirSZM69",
        "outputId": "6fba2df0-a1c2-4aaa-e91d-8be813377afa"
      },
      "execution_count": 47,
      "outputs": [
        {
          "output_type": "error",
          "ename": "AttributeError",
          "evalue": "ignored",
          "traceback": [
            "\u001b[0;31m---------------------------------------------------------------------------\u001b[0m",
            "\u001b[0;31mAttributeError\u001b[0m                            Traceback (most recent call last)",
            "\u001b[0;32m<ipython-input-47-ab1f1d603c1a>\u001b[0m in \u001b[0;36m<module>\u001b[0;34m()\u001b[0m\n\u001b[1;32m      3\u001b[0m \u001b[0mplt\u001b[0m\u001b[0;34m.\u001b[0m\u001b[0msubplot\u001b[0m\u001b[0;34m(\u001b[0m\u001b[0;36m1\u001b[0m\u001b[0;34m,\u001b[0m \u001b[0;36m2\u001b[0m\u001b[0;34m,\u001b[0m \u001b[0;36m1\u001b[0m\u001b[0;34m)\u001b[0m\u001b[0;34m\u001b[0m\u001b[0;34m\u001b[0m\u001b[0m\n\u001b[1;32m      4\u001b[0m \u001b[0mplt\u001b[0m\u001b[0;34m.\u001b[0m\u001b[0mtitle\u001b[0m\u001b[0;34m(\u001b[0m\u001b[0;34m'Train'\u001b[0m\u001b[0;34m)\u001b[0m\u001b[0;34m\u001b[0m\u001b[0;34m\u001b[0m\u001b[0m\n\u001b[0;32m----> 5\u001b[0;31m \u001b[0mplot_decision_boundary\u001b[0m\u001b[0;34m(\u001b[0m\u001b[0mmodel_8\u001b[0m\u001b[0;34m,\u001b[0m\u001b[0mx\u001b[0m\u001b[0;34m=\u001b[0m \u001b[0mx_train\u001b[0m\u001b[0;34m,\u001b[0m \u001b[0my\u001b[0m\u001b[0;34m=\u001b[0m \u001b[0my_train\u001b[0m\u001b[0;34m)\u001b[0m\u001b[0;34m\u001b[0m\u001b[0;34m\u001b[0m\u001b[0m\n\u001b[0m\u001b[1;32m      6\u001b[0m \u001b[0mplt\u001b[0m\u001b[0;34m.\u001b[0m\u001b[0msubplot\u001b[0m\u001b[0;34m(\u001b[0m\u001b[0;36m1\u001b[0m\u001b[0;34m,\u001b[0m \u001b[0;36m2\u001b[0m\u001b[0;34m,\u001b[0m \u001b[0;36m2\u001b[0m\u001b[0;34m)\u001b[0m\u001b[0;34m\u001b[0m\u001b[0;34m\u001b[0m\u001b[0m\n\u001b[1;32m      7\u001b[0m \u001b[0mplt\u001b[0m\u001b[0;34m.\u001b[0m\u001b[0mtitle\u001b[0m\u001b[0;34m(\u001b[0m\u001b[0;34m'Test'\u001b[0m\u001b[0;34m)\u001b[0m\u001b[0;34m\u001b[0m\u001b[0;34m\u001b[0m\u001b[0m\n",
            "\u001b[0;32m<ipython-input-18-982e56fd7c6b>\u001b[0m in \u001b[0;36mplot_decision_boundary\u001b[0;34m(model, x, y)\u001b[0m\n\u001b[1;32m      8\u001b[0m   \"\"\"\n\u001b[1;32m      9\u001b[0m   \u001b[0;31m# Define the axis boundaries of the plot and create a meshgrid\u001b[0m\u001b[0;34m\u001b[0m\u001b[0;34m\u001b[0m\u001b[0;34m\u001b[0m\u001b[0m\n\u001b[0;32m---> 10\u001b[0;31m   \u001b[0mx_min\u001b[0m\u001b[0;34m,\u001b[0m \u001b[0mx_max\u001b[0m \u001b[0;34m=\u001b[0m \u001b[0mx\u001b[0m\u001b[0;34m[\u001b[0m\u001b[0;34m:\u001b[0m\u001b[0;34m,\u001b[0m \u001b[0;36m0\u001b[0m\u001b[0;34m]\u001b[0m\u001b[0;34m.\u001b[0m\u001b[0mmin\u001b[0m\u001b[0;34m(\u001b[0m\u001b[0;34m)\u001b[0m \u001b[0;34m-\u001b[0m \u001b[0;36m0.1\u001b[0m\u001b[0;34m,\u001b[0m \u001b[0mx\u001b[0m\u001b[0;34m[\u001b[0m\u001b[0;34m:\u001b[0m\u001b[0;34m,\u001b[0m \u001b[0;36m0\u001b[0m\u001b[0;34m]\u001b[0m\u001b[0;34m.\u001b[0m\u001b[0mmax\u001b[0m\u001b[0;34m(\u001b[0m\u001b[0;34m)\u001b[0m \u001b[0;34m+\u001b[0m \u001b[0;36m0.1\u001b[0m\u001b[0;34m\u001b[0m\u001b[0;34m\u001b[0m\u001b[0m\n\u001b[0m\u001b[1;32m     11\u001b[0m   \u001b[0my_min\u001b[0m\u001b[0;34m,\u001b[0m \u001b[0my_max\u001b[0m \u001b[0;34m=\u001b[0m \u001b[0mx\u001b[0m\u001b[0;34m[\u001b[0m\u001b[0;34m:\u001b[0m\u001b[0;34m,\u001b[0m \u001b[0;36m1\u001b[0m\u001b[0;34m]\u001b[0m\u001b[0;34m.\u001b[0m\u001b[0mmin\u001b[0m\u001b[0;34m(\u001b[0m\u001b[0;34m)\u001b[0m \u001b[0;34m-\u001b[0m \u001b[0;36m0.1\u001b[0m\u001b[0;34m,\u001b[0m \u001b[0mx\u001b[0m\u001b[0;34m[\u001b[0m\u001b[0;34m:\u001b[0m\u001b[0;34m,\u001b[0m \u001b[0;36m1\u001b[0m\u001b[0;34m]\u001b[0m\u001b[0;34m.\u001b[0m\u001b[0mmax\u001b[0m\u001b[0;34m(\u001b[0m\u001b[0;34m)\u001b[0m \u001b[0;34m+\u001b[0m \u001b[0;36m0.1\u001b[0m\u001b[0;34m\u001b[0m\u001b[0;34m\u001b[0m\u001b[0m\n\u001b[1;32m     12\u001b[0m   xx, yy = np.meshgrid(np.linspace(x_min, x_max, 100),\n",
            "\u001b[0;32m/usr/local/lib/python3.7/dist-packages/tensorflow/python/framework/ops.py\u001b[0m in \u001b[0;36m__getattr__\u001b[0;34m(self, name)\u001b[0m\n\u001b[1;32m    511\u001b[0m         \u001b[0;32mfrom\u001b[0m \u001b[0mtensorflow\u001b[0m\u001b[0;34m.\u001b[0m\u001b[0mpython\u001b[0m\u001b[0;34m.\u001b[0m\u001b[0mops\u001b[0m\u001b[0;34m.\u001b[0m\u001b[0mnumpy_ops\u001b[0m \u001b[0;32mimport\u001b[0m \u001b[0mnp_config\u001b[0m\u001b[0;34m\u001b[0m\u001b[0;34m\u001b[0m\u001b[0m\n\u001b[1;32m    512\u001b[0m         np_config.enable_numpy_behavior()\"\"\".format(type(self).__name__, name))\n\u001b[0;32m--> 513\u001b[0;31m     \u001b[0mself\u001b[0m\u001b[0;34m.\u001b[0m\u001b[0m__getattribute__\u001b[0m\u001b[0;34m(\u001b[0m\u001b[0mname\u001b[0m\u001b[0;34m)\u001b[0m\u001b[0;34m\u001b[0m\u001b[0;34m\u001b[0m\u001b[0m\n\u001b[0m\u001b[1;32m    514\u001b[0m \u001b[0;34m\u001b[0m\u001b[0m\n\u001b[1;32m    515\u001b[0m   \u001b[0;34m@\u001b[0m\u001b[0mstaticmethod\u001b[0m\u001b[0;34m\u001b[0m\u001b[0;34m\u001b[0m\u001b[0m\n",
            "\u001b[0;31mAttributeError\u001b[0m: 'tensorflow.python.framework.ops.EagerTensor' object has no attribute 'min'"
          ]
        },
        {
          "output_type": "display_data",
          "data": {
            "text/plain": [
              "<Figure size 864x432 with 1 Axes>"
            ],
            "image/png": "[encoded data removed]"
          },
          "metadata": {
            "needs_background": "light"
          }
        }
      ]
    },
    {
      "cell_type": "code",
      "source": [
        "## plot the loss (a training) curve\n",
        "history.history"
      ],
      "metadata": {
        "colab": {
          "base_uri": "https://localhost:8080/"
        },
        "id": "PI2pNgScZ_vd",
        "outputId": "62ee4c14-7149-4cdf-f27a-cb9177155be7"
      },
      "execution_count": 48,
      "outputs": [
        {
          "output_type": "execute_result",
          "data": {
            "text/plain": [
              "{'accuracy': [0.5550000071525574,\n",
              "  0.5630000233650208,\n",
              "  0.5600000023841858,\n",
              "  0.5960000157356262,\n",
              "  0.5849999785423279,\n",
              "  0.6359999775886536,\n",
              "  0.6890000104904175,\n",
              "  0.7480000257492065,\n",
              "  0.8090000152587891,\n",
              "  0.8550000190734863,\n",
              "  0.824999988079071,\n",
              "  0.8769999742507935,\n",
              "  0.9399999976158142,\n",
              "  0.949999988079071,\n",
              "  0.9670000076293945,\n",
              "  0.9800000190734863,\n",
              "  0.9779999852180481,\n",
              "  0.9829999804496765,\n",
              "  0.9760000109672546,\n",
              "  0.9819999933242798,\n",
              "  0.9829999804496765,\n",
              "  0.9819999933242798,\n",
              "  0.984000027179718,\n",
              "  0.9819999933242798,\n",
              "  0.9829999804496765],\n",
              " 'loss': [0.6834276914596558,\n",
              "  0.6761109232902527,\n",
              "  0.6699899435043335,\n",
              "  0.6615183353424072,\n",
              "  0.6552616953849792,\n",
              "  0.6386087536811829,\n",
              "  0.6149913668632507,\n",
              "  0.5641001462936401,\n",
              "  0.5100768208503723,\n",
              "  0.44511285424232483,\n",
              "  0.4106609523296356,\n",
              "  0.3722422122955322,\n",
              "  0.31056877970695496,\n",
              "  0.2761620879173279,\n",
              "  0.24212242662906647,\n",
              "  0.21157293021678925,\n",
              "  0.1925615519285202,\n",
              "  0.17182129621505737,\n",
              "  0.15992897748947144,\n",
              "  0.14190204441547394,\n",
              "  0.1375376135110855,\n",
              "  0.1299901306629181,\n",
              "  0.12192884832620621,\n",
              "  0.11015976965427399,\n",
              "  0.10725069791078568]}"
            ]
          },
          "metadata": {},
          "execution_count": 48
        }
      ]
    },
    {
      "cell_type": "code",
      "source": [
        "# convert the history object into a dataframe\n",
        "pd.DataFrame(history.history)"
      ],
      "metadata": {
        "colab": {
          "base_uri": "https://localhost:8080/",
          "height": 833
        },
        "id": "GU5hlZ6fbCQt",
        "outputId": "caf8417b-f408-4e9d-fb9e-055720a183f8"
      },
      "execution_count": 49,
      "outputs": [
        {
          "output_type": "execute_result",
          "data": {
            "text/plain": [
              "        loss  accuracy\n",
              "0   0.683428     0.555\n",
              "1   0.676111     0.563\n",
              "2   0.669990     0.560\n",
              "3   0.661518     0.596\n",
              "4   0.655262     0.585\n",
              "5   0.638609     0.636\n",
              "6   0.614991     0.689\n",
              "7   0.564100     0.748\n",
              "8   0.510077     0.809\n",
              "9   0.445113     0.855\n",
              "10  0.410661     0.825\n",
              "11  0.372242     0.877\n",
              "12  0.310569     0.940\n",
              "13  0.276162     0.950\n",
              "14  0.242122     0.967\n",
              "15  0.211573     0.980\n",
              "16  0.192562     0.978\n",
              "17  0.171821     0.983\n",
              "18  0.159929     0.976\n",
              "19  0.141902     0.982\n",
              "20  0.137538     0.983\n",
              "21  0.129990     0.982\n",
              "22  0.121929     0.984\n",
              "23  0.110160     0.982\n",
              "24  0.107251     0.983"
            ],
            "text/html": [
              "\n",
              "  <div id=\"df-ee0dd70d-fe43-4037-bb2e-c6ab226bef20\">\n",
              "    <div class=\"colab-df-container\">\n",
              "      <div>\n",
              "<style scoped>\n",
              "    .dataframe tbody tr th:only-of-type {\n",
              "        vertical-align: middle;\n",
              "    }\n",
              "\n",
              "    .dataframe tbody tr th {\n",
              "        vertical-align: top;\n",
              "    }\n",
              "\n",
              "    .dataframe thead th {\n",
              "        text-align: right;\n",
              "    }\n",
              "</style>\n",
              "<table border=\"1\" class=\"dataframe\">\n",
              "  <thead>\n",
              "    <tr style=\"text-align: right;\">\n",
              "      <th></th>\n",
              "      <th>loss</th>\n",
              "      <th>accuracy</th>\n",
              "    </tr>\n",
              "  </thead>\n",
              "  <tbody>\n",
              "    <tr>\n",
              "      <th>0</th>\n",
              "      <td>0.683428</td>\n",
              "      <td>0.555</td>\n",
              "    </tr>\n",
              "    <tr>\n",
              "      <th>1</th>\n",
              "      <td>0.676111</td>\n",
              "      <td>0.563</td>\n",
              "    </tr>\n",
              "    <tr>\n",
              "      <th>2</th>\n",
              "      <td>0.669990</td>\n",
              "      <td>0.560</td>\n",
              "    </tr>\n",
              "    <tr>\n",
              "      <th>3</th>\n",
              "      <td>0.661518</td>\n",
              "      <td>0.596</td>\n",
              "    </tr>\n",
              "    <tr>\n",
              "      <th>4</th>\n",
              "      <td>0.655262</td>\n",
              "      <td>0.585</td>\n",
              "    </tr>\n",
              "    <tr>\n",
              "      <th>5</th>\n",
              "      <td>0.638609</td>\n",
              "      <td>0.636</td>\n",
              "    </tr>\n",
              "    <tr>\n",
              "      <th>6</th>\n",
              "      <td>0.614991</td>\n",
              "      <td>0.689</td>\n",
              "    </tr>\n",
              "    <tr>\n",
              "      <th>7</th>\n",
              "      <td>0.564100</td>\n",
              "      <td>0.748</td>\n",
              "    </tr>\n",
              "    <tr>\n",
              "      <th>8</th>\n",
              "      <td>0.510077</td>\n",
              "      <td>0.809</td>\n",
              "    </tr>\n",
              "    <tr>\n",
              "      <th>9</th>\n",
              "      <td>0.445113</td>\n",
              "      <td>0.855</td>\n",
              "    </tr>\n",
              "    <tr>\n",
              "      <th>10</th>\n",
              "      <td>0.410661</td>\n",
              "      <td>0.825</td>\n",
              "    </tr>\n",
              "    <tr>\n",
              "      <th>11</th>\n",
              "      <td>0.372242</td>\n",
              "      <td>0.877</td>\n",
              "    </tr>\n",
              "    <tr>\n",
              "      <th>12</th>\n",
              "      <td>0.310569</td>\n",
              "      <td>0.940</td>\n",
              "    </tr>\n",
              "    <tr>\n",
              "      <th>13</th>\n",
              "      <td>0.276162</td>\n",
              "      <td>0.950</td>\n",
              "    </tr>\n",
              "    <tr>\n",
              "      <th>14</th>\n",
              "      <td>0.242122</td>\n",
              "      <td>0.967</td>\n",
              "    </tr>\n",
              "    <tr>\n",
              "      <th>15</th>\n",
              "      <td>0.211573</td>\n",
              "      <td>0.980</td>\n",
              "    </tr>\n",
              "    <tr>\n",
              "      <th>16</th>\n",
              "      <td>0.192562</td>\n",
              "      <td>0.978</td>\n",
              "    </tr>\n",
              "    <tr>\n",
              "      <th>17</th>\n",
              "      <td>0.171821</td>\n",
              "      <td>0.983</td>\n",
              "    </tr>\n",
              "    <tr>\n",
              "      <th>18</th>\n",
              "      <td>0.159929</td>\n",
              "      <td>0.976</td>\n",
              "    </tr>\n",
              "    <tr>\n",
              "      <th>19</th>\n",
              "      <td>0.141902</td>\n",
              "      <td>0.982</td>\n",
              "    </tr>\n",
              "    <tr>\n",
              "      <th>20</th>\n",
              "      <td>0.137538</td>\n",
              "      <td>0.983</td>\n",
              "    </tr>\n",
              "    <tr>\n",
              "      <th>21</th>\n",
              "      <td>0.129990</td>\n",
              "      <td>0.982</td>\n",
              "    </tr>\n",
              "    <tr>\n",
              "      <th>22</th>\n",
              "      <td>0.121929</td>\n",
              "      <td>0.984</td>\n",
              "    </tr>\n",
              "    <tr>\n",
              "      <th>23</th>\n",
              "      <td>0.110160</td>\n",
              "      <td>0.982</td>\n",
              "    </tr>\n",
              "    <tr>\n",
              "      <th>24</th>\n",
              "      <td>0.107251</td>\n",
              "      <td>0.983</td>\n",
              "    </tr>\n",
              "  </tbody>\n",
              "</table>\n",
              "</div>\n",
              "      <button class=\"colab-df-convert\" onclick=\"convertToInteractive('df-ee0dd70d-fe43-4037-bb2e-c6ab226bef20')\"\n",
              "              title=\"Convert this dataframe to an interactive table.\"\n",
              "              style=\"display:none;\">\n",
              "        \n",
              "  <svg xmlns=\"http://www.w3.org/2000/svg\" height=\"24px\"viewBox=\"0 0 24 24\"\n",
              "       width=\"24px\">\n",
              "    <path d=\"M0 0h24v24H0V0z\" fill=\"none\"/>\n",
              "    <path d=\"M18.56 5.44l.94 2.06.94-2.06 2.06-.94-2.06-.94-.94-2.06-.94 2.06-2.06.94zm-11 1L8.5 8.5l.94-2.06 2.06-.94-2.06-.94L8.5 2.5l-.94 2.06-2.06.94zm10 10l.94 2.06.94-2.06 2.06-.94-2.06-.94-.94-2.06-.94 2.06-2.06.94z\"/><path d=\"M17.41 7.96l-1.37-1.37c-.4-.4-.92-.59-1.43-.59-.52 0-1.04.2-1.43.59L10.3 9.45l-7.72 7.72c-.78.78-.78 2.05 0 2.83L4 21.41c.39.39.9.59 1.41.59.51 0 1.02-.2 1.41-.59l7.78-7.78 2.81-2.81c.8-.78.8-2.07 0-2.86zM5.41 20L4 18.59l7.72-7.72 1.47 1.35L5.41 20z\"/>\n",
              "  </svg>\n",
              "      </button>\n",
              "      \n",
              "  <style>\n",
              "    .colab-df-container {\n",
              "      display:flex;\n",
              "      flex-wrap:wrap;\n",
              "      gap: 12px;\n",
              "    }\n",
              "\n",
              "    .colab-df-convert {\n",
              "      background-color: #E8F0FE;\n",
              "      border: none;\n",
              "      border-radius: 50%;\n",
              "      cursor: pointer;\n",
              "      display: none;\n",
              "      fill: #1967D2;\n",
              "      height: 32px;\n",
              "      padding: 0 0 0 0;\n",
              "      width: 32px;\n",
              "    }\n",
              "\n",
              "    .colab-df-convert:hover {\n",
              "      background-color: #E2EBFA;\n",
              "      box-shadow: 0px 1px 2px rgba(60, 64, 67, 0.3), 0px 1px 3px 1px rgba(60, 64, 67, 0.15);\n",
              "      fill: #174EA6;\n",
              "    }\n",
              "\n",
              "    [theme=dark] .colab-df-convert {\n",
              "      background-color: #3B4455;\n",
              "      fill: #D2E3FC;\n",
              "    }\n",
              "\n",
              "    [theme=dark] .colab-df-convert:hover {\n",
              "      background-color: #434B5C;\n",
              "      box-shadow: 0px 1px 3px 1px rgba(0, 0, 0, 0.15);\n",
              "      filter: drop-shadow(0px 1px 2px rgba(0, 0, 0, 0.3));\n",
              "      fill: #FFFFFF;\n",
              "    }\n",
              "  </style>\n",
              "\n",
              "      <script>\n",
              "        const buttonEl =\n",
              "          document.querySelector('#df-ee0dd70d-fe43-4037-bb2e-c6ab226bef20 button.colab-df-convert');\n",
              "        buttonEl.style.display =\n",
              "          google.colab.kernel.accessAllowed ? 'block' : 'none';\n",
              "\n",
              "        async function convertToInteractive(key) {\n",
              "          const element = document.querySelector('#df-ee0dd70d-fe43-4037-bb2e-c6ab226bef20');\n",
              "          const dataTable =\n",
              "            await google.colab.kernel.invokeFunction('convertToInteractive',\n",
              "                                                     [key], {});\n",
              "          if (!dataTable) return;\n",
              "\n",
              "          const docLinkHtml = 'Like what you see? Visit the ' +\n",
              "            '<a target=\"_blank\" href=https://colab.research.google.com/notebooks/data_table.ipynb>data table notebook</a>'\n",
              "            + ' to learn more about interactive tables.';\n",
              "          element.innerHTML = '';\n",
              "          dataTable['output_type'] = 'display_data';\n",
              "          await google.colab.output.renderOutput(dataTable, element);\n",
              "          const docLink = document.createElement('div');\n",
              "          docLink.innerHTML = docLinkHtml;\n",
              "          element.appendChild(docLink);\n",
              "        }\n",
              "      </script>\n",
              "    </div>\n",
              "  </div>\n",
              "  "
            ]
          },
          "metadata": {},
          "execution_count": 49
        }
      ]
    },
    {
      "cell_type": "code",
      "source": [
        "#plot the loss curves\n",
        "pd.DataFrame(history.history).plot()\n",
        "plt.title('Model_8 loss curves');"
      ],
      "metadata": {
        "colab": {
          "base_uri": "https://localhost:8080/",
          "height": 281
        },
        "id": "2LcjP8elbN7U",
        "outputId": "6994a290-385b-4446-b5a0-2f01d5e82f5d"
      },
      "execution_count": 50,
      "outputs": [
        {
          "output_type": "display_data",
          "data": {
            "text/plain": [
              "<Figure size 432x288 with 1 Axes>"
            ],
            "image/png": "[encoded data removed]"
          },
          "metadata": {
            "needs_background": "light"
          }
        }
      ]
    },
    {
      "cell_type": "markdown",
      "source": [
        "** note** for many problems the loss functions going down means the model is improving (the predictions its making are getting closer to the ground truth)"
      ],
      "metadata": {
        "id": "2DSMifrqb4qQ"
      }
    },
    {
      "cell_type": "markdown",
      "source": [
        "## Finding the best learning rate\n",
        "\n",
        "To find the ideal learning rate (the learning rate where the loss decreases the most during training) we are going to use the following steps\n",
        "\n",
        "* A learning rate **callback** - you can think of a callback as an extra piece of funtionality, you can add to your **while** its training\n",
        "* Another model ( we could use the same one as above , but we qare praticing models here)\n",
        "* A modified loss curve plot."
      ],
      "metadata": {
        "id": "KHyr6z4rcd14"
      }
    },
    {
      "cell_type": "code",
      "source": [
        "## lets create a model to fit on training data and valuate on test data\n",
        "# Time to replicate the multi-layer neautral network for tensorflow playground\n",
        "\n",
        "# Set random seed\n",
        "tf.random.set_seed(42)\n",
        "\n",
        "# 1. Create the model using the Sequential API with 3 layers\n",
        "model_9 = tf.keras.Sequential([\n",
        "  tf.keras.layers.Dense(4, activation='relu'),\n",
        "  tf.keras.layers.Dense(4, activation='relu'),\n",
        "  tf.keras.layers.Dense(1, activation='sigmoid')\n",
        "])\n",
        "\n",
        "# 2. Compile the model\n",
        "model_9.compile(loss='binary_crossentropy', \n",
        "                optimizer=tf.keras.optimizers.Adam(),\n",
        "                metrics=['accuracy'])\n",
        "# create a learning rate callback\n",
        "lr_scheduler =tf.keras.callbacks.LearningRateScheduler(lambda epoch: 1e-4 * 10**(epoch/20))\n",
        "\n",
        "#fit the model (passing lr_scheduler callback)\n",
        "history_9 = model_9.fit(x_train, y_train, epochs=100, callbacks=[lr_scheduler]\n",
        "                        )\n",
        "\n",
        "#fit the model to regression data\n",
        "#model_4.fit(tf.expand_dims(x_reg_train, axis=-1), y_reg_train, epochs=100)\n",
        "history = model_8.fit(x, y, epochs=25)"
      ],
      "metadata": {
        "colab": {
          "base_uri": "https://localhost:8080/"
        },
        "id": "RntQac6Ybvxz",
        "outputId": "e141aeb5-685e-4da2-a729-3482d16cb69c"
      },
      "execution_count": 51,
      "outputs": [
        {
          "output_type": "stream",
          "name": "stdout",
          "text": [
            "Epoch 1/100\n",
            "25/25 [==============================] - 0s 2ms/step - loss: 0.6945 - accuracy: 0.4988 - lr: 1.0000e-04\n",
            "Epoch 2/100\n",
            "25/25 [==============================] - 0s 2ms/step - loss: 0.6938 - accuracy: 0.4975 - lr: 1.1220e-04\n",
            "Epoch 3/100\n",
            "25/25 [==============================] - 0s 2ms/step - loss: 0.6930 - accuracy: 0.4963 - lr: 1.2589e-04\n",
            "Epoch 4/100\n",
            "25/25 [==============================] - 0s 2ms/step - loss: 0.6922 - accuracy: 0.4975 - lr: 1.4125e-04\n",
            "Epoch 5/100\n",
            "25/25 [==============================] - 0s 2ms/step - loss: 0.6914 - accuracy: 0.5063 - lr: 1.5849e-04\n",
            "Epoch 6/100\n",
            "25/25 [==============================] - 0s 2ms/step - loss: 0.6906 - accuracy: 0.5013 - lr: 1.7783e-04\n",
            "Epoch 7/100\n",
            "25/25 [==============================] - 0s 2ms/step - loss: 0.6898 - accuracy: 0.4950 - lr: 1.9953e-04\n",
            "Epoch 8/100\n",
            "25/25 [==============================] - 0s 2ms/step - loss: 0.6889 - accuracy: 0.5038 - lr: 2.2387e-04\n",
            "Epoch 9/100\n",
            "25/25 [==============================] - 0s 2ms/step - loss: 0.6880 - accuracy: 0.5013 - lr: 2.5119e-04\n",
            "Epoch 10/100\n",
            "25/25 [==============================] - 0s 1ms/step - loss: 0.6871 - accuracy: 0.5050 - lr: 2.8184e-04\n",
            "Epoch 11/100\n",
            "25/25 [==============================] - 0s 1ms/step - loss: 0.6863 - accuracy: 0.5200 - lr: 3.1623e-04\n",
            "Epoch 12/100\n",
            "25/25 [==============================] - 0s 1ms/step - loss: 0.6856 - accuracy: 0.5163 - lr: 3.5481e-04\n",
            "Epoch 13/100\n",
            "25/25 [==============================] - 0s 2ms/step - loss: 0.6847 - accuracy: 0.5175 - lr: 3.9811e-04\n",
            "Epoch 14/100\n",
            "25/25 [==============================] - 0s 1ms/step - loss: 0.6842 - accuracy: 0.5200 - lr: 4.4668e-04\n",
            "Epoch 15/100\n",
            "25/25 [==============================] - 0s 2ms/step - loss: 0.6835 - accuracy: 0.5213 - lr: 5.0119e-04\n",
            "Epoch 16/100\n",
            "25/25 [==============================] - 0s 1ms/step - loss: 0.6829 - accuracy: 0.5213 - lr: 5.6234e-04\n",
            "Epoch 17/100\n",
            "25/25 [==============================] - 0s 2ms/step - loss: 0.6826 - accuracy: 0.5225 - lr: 6.3096e-04\n",
            "Epoch 18/100\n",
            "25/25 [==============================] - 0s 2ms/step - loss: 0.6819 - accuracy: 0.5300 - lr: 7.0795e-04\n",
            "Epoch 19/100\n",
            "25/25 [==============================] - 0s 2ms/step - loss: 0.6816 - accuracy: 0.5312 - lr: 7.9433e-04\n",
            "Epoch 20/100\n",
            "25/25 [==============================] - 0s 2ms/step - loss: 0.6811 - accuracy: 0.5387 - lr: 8.9125e-04\n",
            "Epoch 21/100\n",
            "25/25 [==============================] - 0s 2ms/step - loss: 0.6806 - accuracy: 0.5400 - lr: 0.0010\n",
            "Epoch 22/100\n",
            "25/25 [==============================] - 0s 2ms/step - loss: 0.6801 - accuracy: 0.5412 - lr: 0.0011\n",
            "Epoch 23/100\n",
            "25/25 [==============================] - 0s 2ms/step - loss: 0.6796 - accuracy: 0.5400 - lr: 0.0013\n",
            "Epoch 24/100\n",
            "25/25 [==============================] - 0s 2ms/step - loss: 0.6790 - accuracy: 0.5425 - lr: 0.0014\n",
            "Epoch 25/100\n",
            "25/25 [==============================] - 0s 2ms/step - loss: 0.6784 - accuracy: 0.5450 - lr: 0.0016\n",
            "Epoch 26/100\n",
            "25/25 [==============================] - 0s 2ms/step - loss: 0.6778 - accuracy: 0.5387 - lr: 0.0018\n",
            "Epoch 27/100\n",
            "25/25 [==============================] - 0s 2ms/step - loss: 0.6770 - accuracy: 0.5425 - lr: 0.0020\n",
            "Epoch 28/100\n",
            "25/25 [==============================] - 0s 2ms/step - loss: 0.6760 - accuracy: 0.5537 - lr: 0.0022\n",
            "Epoch 29/100\n",
            "25/25 [==============================] - 0s 2ms/step - loss: 0.6754 - accuracy: 0.5512 - lr: 0.0025\n",
            "Epoch 30/100\n",
            "25/25 [==============================] - 0s 2ms/step - loss: 0.6739 - accuracy: 0.5575 - lr: 0.0028\n",
            "Epoch 31/100\n",
            "25/25 [==============================] - 0s 2ms/step - loss: 0.6726 - accuracy: 0.5500 - lr: 0.0032\n",
            "Epoch 32/100\n",
            "25/25 [==============================] - 0s 2ms/step - loss: 0.6711 - accuracy: 0.5512 - lr: 0.0035\n",
            "Epoch 33/100\n",
            "25/25 [==============================] - 0s 2ms/step - loss: 0.6688 - accuracy: 0.5562 - lr: 0.0040\n",
            "Epoch 34/100\n",
            "25/25 [==============================] - 0s 2ms/step - loss: 0.6672 - accuracy: 0.5612 - lr: 0.0045\n",
            "Epoch 35/100\n",
            "25/25 [==============================] - 0s 1ms/step - loss: 0.6660 - accuracy: 0.5888 - lr: 0.0050\n",
            "Epoch 36/100\n",
            "25/25 [==============================] - 0s 1ms/step - loss: 0.6625 - accuracy: 0.5625 - lr: 0.0056\n",
            "Epoch 37/100\n",
            "25/25 [==============================] - 0s 1ms/step - loss: 0.6560 - accuracy: 0.5813 - lr: 0.0063\n",
            "Epoch 38/100\n",
            "25/25 [==============================] - 0s 2ms/step - loss: 0.6521 - accuracy: 0.6025 - lr: 0.0071\n",
            "Epoch 39/100\n",
            "25/25 [==============================] - 0s 2ms/step - loss: 0.6415 - accuracy: 0.7088 - lr: 0.0079\n",
            "Epoch 40/100\n",
            "25/25 [==============================] - 0s 2ms/step - loss: 0.6210 - accuracy: 0.7113 - lr: 0.0089\n",
            "Epoch 41/100\n",
            "25/25 [==============================] - 0s 2ms/step - loss: 0.5904 - accuracy: 0.7487 - lr: 0.0100\n",
            "Epoch 42/100\n",
            "25/25 [==============================] - 0s 2ms/step - loss: 0.5688 - accuracy: 0.7312 - lr: 0.0112\n",
            "Epoch 43/100\n",
            "25/25 [==============================] - 0s 2ms/step - loss: 0.5346 - accuracy: 0.7563 - lr: 0.0126\n",
            "Epoch 44/100\n",
            "25/25 [==============================] - 0s 2ms/step - loss: 0.4533 - accuracy: 0.8150 - lr: 0.0141\n",
            "Epoch 45/100\n",
            "25/25 [==============================] - 0s 2ms/step - loss: 0.3455 - accuracy: 0.9112 - lr: 0.0158\n",
            "Epoch 46/100\n",
            "25/25 [==============================] - 0s 2ms/step - loss: 0.2570 - accuracy: 0.9463 - lr: 0.0178\n",
            "Epoch 47/100\n",
            "25/25 [==============================] - 0s 2ms/step - loss: 0.1968 - accuracy: 0.9575 - lr: 0.0200\n",
            "Epoch 48/100\n",
            "25/25 [==============================] - 0s 2ms/step - loss: 0.1336 - accuracy: 0.9700 - lr: 0.0224\n",
            "Epoch 49/100\n",
            "25/25 [==============================] - 0s 1ms/step - loss: 0.1310 - accuracy: 0.9613 - lr: 0.0251\n",
            "Epoch 50/100\n",
            "25/25 [==============================] - 0s 2ms/step - loss: 0.1002 - accuracy: 0.9700 - lr: 0.0282\n",
            "Epoch 51/100\n",
            "25/25 [==============================] - 0s 2ms/step - loss: 0.1166 - accuracy: 0.9638 - lr: 0.0316\n",
            "Epoch 52/100\n",
            "25/25 [==============================] - 0s 2ms/step - loss: 0.1368 - accuracy: 0.9513 - lr: 0.0355\n",
            "Epoch 53/100\n",
            "25/25 [==============================] - 0s 2ms/step - loss: 0.0879 - accuracy: 0.9787 - lr: 0.0398\n",
            "Epoch 54/100\n",
            "25/25 [==============================] - 0s 2ms/step - loss: 0.1187 - accuracy: 0.9588 - lr: 0.0447\n",
            "Epoch 55/100\n",
            "25/25 [==============================] - 0s 2ms/step - loss: 0.0733 - accuracy: 0.9712 - lr: 0.0501\n",
            "Epoch 56/100\n",
            "25/25 [==============================] - 0s 2ms/step - loss: 0.1132 - accuracy: 0.9550 - lr: 0.0562\n",
            "Epoch 57/100\n",
            "25/25 [==============================] - 0s 2ms/step - loss: 0.1057 - accuracy: 0.9613 - lr: 0.0631\n",
            "Epoch 58/100\n",
            "25/25 [==============================] - 0s 2ms/step - loss: 0.0664 - accuracy: 0.9750 - lr: 0.0708\n",
            "Epoch 59/100\n",
            "25/25 [==============================] - 0s 2ms/step - loss: 0.1898 - accuracy: 0.9275 - lr: 0.0794\n",
            "Epoch 60/100\n",
            "25/25 [==============================] - 0s 2ms/step - loss: 0.1895 - accuracy: 0.9312 - lr: 0.0891\n",
            "Epoch 61/100\n",
            "25/25 [==============================] - 0s 2ms/step - loss: 0.4131 - accuracy: 0.8612 - lr: 0.1000\n",
            "Epoch 62/100\n",
            "25/25 [==============================] - 0s 2ms/step - loss: 0.1707 - accuracy: 0.9725 - lr: 0.1122\n",
            "Epoch 63/100\n",
            "25/25 [==============================] - 0s 2ms/step - loss: 0.0569 - accuracy: 0.9937 - lr: 0.1259\n",
            "Epoch 64/100\n",
            "25/25 [==============================] - 0s 1ms/step - loss: 0.1007 - accuracy: 0.9638 - lr: 0.1413\n",
            "Epoch 65/100\n",
            "25/25 [==============================] - 0s 2ms/step - loss: 0.1323 - accuracy: 0.9488 - lr: 0.1585\n",
            "Epoch 66/100\n",
            "25/25 [==============================] - 0s 2ms/step - loss: 0.1819 - accuracy: 0.9375 - lr: 0.1778\n",
            "Epoch 67/100\n",
            "25/25 [==============================] - 0s 2ms/step - loss: 0.6672 - accuracy: 0.7613 - lr: 0.1995\n",
            "Epoch 68/100\n",
            "25/25 [==============================] - 0s 2ms/step - loss: 0.5301 - accuracy: 0.6687 - lr: 0.2239\n",
            "Epoch 69/100\n",
            "25/25 [==============================] - 0s 1ms/step - loss: 0.4140 - accuracy: 0.7925 - lr: 0.2512\n",
            "Epoch 70/100\n",
            "25/25 [==============================] - 0s 2ms/step - loss: 0.4574 - accuracy: 0.7412 - lr: 0.2818\n",
            "Epoch 71/100\n",
            "25/25 [==============================] - 0s 2ms/step - loss: 0.4759 - accuracy: 0.7262 - lr: 0.3162\n",
            "Epoch 72/100\n",
            "25/25 [==============================] - 0s 1ms/step - loss: 0.3748 - accuracy: 0.8112 - lr: 0.3548\n",
            "Epoch 73/100\n",
            "25/25 [==============================] - 0s 2ms/step - loss: 0.4710 - accuracy: 0.8150 - lr: 0.3981\n",
            "Epoch 74/100\n",
            "25/25 [==============================] - 0s 1ms/step - loss: 0.4143 - accuracy: 0.8087 - lr: 0.4467\n",
            "Epoch 75/100\n",
            "25/25 [==============================] - 0s 1ms/step - loss: 0.5961 - accuracy: 0.7412 - lr: 0.5012\n",
            "Epoch 76/100\n",
            "25/25 [==============================] - 0s 1ms/step - loss: 0.4787 - accuracy: 0.7713 - lr: 0.5623\n",
            "Epoch 77/100\n",
            "25/25 [==============================] - 0s 2ms/step - loss: 0.4720 - accuracy: 0.7113 - lr: 0.6310\n",
            "Epoch 78/100\n",
            "25/25 [==============================] - 0s 2ms/step - loss: 0.2565 - accuracy: 0.8675 - lr: 0.7079\n",
            "Epoch 79/100\n",
            "25/25 [==============================] - 0s 2ms/step - loss: 1.1824 - accuracy: 0.6275 - lr: 0.7943\n",
            "Epoch 80/100\n",
            "25/25 [==============================] - 0s 2ms/step - loss: 0.6873 - accuracy: 0.5425 - lr: 0.8913\n",
            "Epoch 81/100\n",
            "25/25 [==============================] - 0s 1ms/step - loss: 0.7068 - accuracy: 0.5575 - lr: 1.0000\n",
            "Epoch 82/100\n",
            "25/25 [==============================] - 0s 2ms/step - loss: 0.6879 - accuracy: 0.5838 - lr: 1.1220\n",
            "Epoch 83/100\n",
            "25/25 [==============================] - 0s 2ms/step - loss: 0.6996 - accuracy: 0.5700 - lr: 1.2589\n",
            "Epoch 84/100\n",
            "25/25 [==============================] - 0s 1ms/step - loss: 0.6471 - accuracy: 0.5863 - lr: 1.4125\n",
            "Epoch 85/100\n",
            "25/25 [==============================] - 0s 2ms/step - loss: 0.7457 - accuracy: 0.5312 - lr: 1.5849\n",
            "Epoch 86/100\n",
            "25/25 [==============================] - 0s 2ms/step - loss: 0.7546 - accuracy: 0.5038 - lr: 1.7783\n",
            "Epoch 87/100\n",
            "25/25 [==============================] - 0s 2ms/step - loss: 0.7681 - accuracy: 0.5063 - lr: 1.9953\n",
            "Epoch 88/100\n",
            "25/25 [==============================] - 0s 2ms/step - loss: 0.7596 - accuracy: 0.4963 - lr: 2.2387\n",
            "Epoch 89/100\n",
            "25/25 [==============================] - 0s 2ms/step - loss: 0.7778 - accuracy: 0.5063 - lr: 2.5119\n",
            "Epoch 90/100\n",
            "25/25 [==============================] - 0s 2ms/step - loss: 0.7741 - accuracy: 0.4787 - lr: 2.8184\n",
            "Epoch 91/100\n",
            "25/25 [==============================] - 0s 2ms/step - loss: 0.7851 - accuracy: 0.5163 - lr: 3.1623\n",
            "Epoch 92/100\n",
            "25/25 [==============================] - 0s 1ms/step - loss: 0.7441 - accuracy: 0.4888 - lr: 3.5481\n",
            "Epoch 93/100\n",
            "25/25 [==============================] - 0s 2ms/step - loss: 0.7354 - accuracy: 0.5163 - lr: 3.9811\n",
            "Epoch 94/100\n",
            "25/25 [==============================] - 0s 2ms/step - loss: 0.7548 - accuracy: 0.4938 - lr: 4.4668\n",
            "Epoch 95/100\n",
            "25/25 [==============================] - 0s 2ms/step - loss: 0.8087 - accuracy: 0.4863 - lr: 5.0119\n",
            "Epoch 96/100\n",
            "25/25 [==============================] - 0s 1ms/step - loss: 0.7714 - accuracy: 0.4638 - lr: 5.6234\n",
            "Epoch 97/100\n",
            "25/25 [==============================] - 0s 1ms/step - loss: 0.8001 - accuracy: 0.5013 - lr: 6.3096\n",
            "Epoch 98/100\n",
            "25/25 [==============================] - 0s 2ms/step - loss: 0.9554 - accuracy: 0.4963 - lr: 7.0795\n",
            "Epoch 99/100\n",
            "25/25 [==============================] - 0s 2ms/step - loss: 0.9268 - accuracy: 0.4913 - lr: 7.9433\n",
            "Epoch 100/100\n",
            "25/25 [==============================] - 0s 2ms/step - loss: 0.8563 - accuracy: 0.4663 - lr: 8.9125\n",
            "Epoch 1/25\n",
            "32/32 [==============================] - 0s 2ms/step - loss: 0.0966 - accuracy: 0.9860\n",
            "Epoch 2/25\n",
            "32/32 [==============================] - 0s 2ms/step - loss: 0.0916 - accuracy: 0.9880\n",
            "Epoch 3/25\n",
            "32/32 [==============================] - 0s 2ms/step - loss: 0.0942 - accuracy: 0.9840\n",
            "Epoch 4/25\n",
            "32/32 [==============================] - 0s 2ms/step - loss: 0.0838 - accuracy: 0.9840\n",
            "Epoch 5/25\n",
            "32/32 [==============================] - 0s 2ms/step - loss: 0.0817 - accuracy: 0.9880\n",
            "Epoch 6/25\n",
            "32/32 [==============================] - 0s 2ms/step - loss: 0.0800 - accuracy: 0.9840\n",
            "Epoch 7/25\n",
            "32/32 [==============================] - 0s 2ms/step - loss: 0.0749 - accuracy: 0.9890\n",
            "Epoch 8/25\n",
            "32/32 [==============================] - 0s 1ms/step - loss: 0.0773 - accuracy: 0.9850\n",
            "Epoch 9/25\n",
            "32/32 [==============================] - 0s 2ms/step - loss: 0.0707 - accuracy: 0.9880\n",
            "Epoch 10/25\n",
            "32/32 [==============================] - 0s 2ms/step - loss: 0.0664 - accuracy: 0.9870\n",
            "Epoch 11/25\n",
            "32/32 [==============================] - 0s 2ms/step - loss: 0.0681 - accuracy: 0.9860\n",
            "Epoch 12/25\n",
            "32/32 [==============================] - 0s 2ms/step - loss: 0.0754 - accuracy: 0.9800\n",
            "Epoch 13/25\n",
            "32/32 [==============================] - 0s 2ms/step - loss: 0.0679 - accuracy: 0.9870\n",
            "Epoch 14/25\n",
            "32/32 [==============================] - 0s 2ms/step - loss: 0.0621 - accuracy: 0.9910\n",
            "Epoch 15/25\n",
            "32/32 [==============================] - 0s 2ms/step - loss: 0.0548 - accuracy: 0.9930\n",
            "Epoch 16/25\n",
            "32/32 [==============================] - 0s 2ms/step - loss: 0.0529 - accuracy: 0.9930\n",
            "Epoch 17/25\n",
            "32/32 [==============================] - 0s 2ms/step - loss: 0.0554 - accuracy: 0.9870\n",
            "Epoch 18/25\n",
            "32/32 [==============================] - 0s 2ms/step - loss: 0.0547 - accuracy: 0.9880\n",
            "Epoch 19/25\n",
            "32/32 [==============================] - 0s 2ms/step - loss: 0.0593 - accuracy: 0.9830\n",
            "Epoch 20/25\n",
            "32/32 [==============================] - 0s 2ms/step - loss: 0.0499 - accuracy: 0.9900\n",
            "Epoch 21/25\n",
            "32/32 [==============================] - 0s 2ms/step - loss: 0.0461 - accuracy: 0.9920\n",
            "Epoch 22/25\n",
            "32/32 [==============================] - 0s 2ms/step - loss: 0.0488 - accuracy: 0.9870\n",
            "Epoch 23/25\n",
            "32/32 [==============================] - 0s 2ms/step - loss: 0.0551 - accuracy: 0.9830\n",
            "Epoch 24/25\n",
            "32/32 [==============================] - 0s 2ms/step - loss: 0.0491 - accuracy: 0.9920\n",
            "Epoch 25/25\n",
            "32/32 [==============================] - 0s 2ms/step - loss: 0.0495 - accuracy: 0.9880\n"
          ]
        }
      ]
    },
    {
      "cell_type": "code",
      "source": [
        "# checkout the history\n",
        "pd.DataFrame(history_9.history).plot(figsize=(10, 7), xlabel= 'epochs')"
      ],
      "metadata": {
        "colab": {
          "base_uri": "https://localhost:8080/",
          "height": 459
        },
        "id": "92Fq495TiSvG",
        "outputId": "a3fafc70-7124-412b-f62f-dc314c758e53"
      },
      "execution_count": 52,
      "outputs": [
        {
          "output_type": "execute_result",
          "data": {
            "text/plain": [
              "<matplotlib.axes._subplots.AxesSubplot at 0x7f12a1dacbd0>"
            ]
          },
          "metadata": {},
          "execution_count": 52
        },
        {
          "output_type": "display_data",
          "data": {
            "text/plain": [
              "<Figure size 720x504 with 1 Axes>"
            ],
            "image/png": "[encoded data removed]"
          },
          "metadata": {
            "needs_background": "light"
          }
        }
      ]
    },
    {
      "cell_type": "code",
      "source": [
        "# plot the learning rate verus the loss\n",
        "lrs = 1e-4 *(10**(tf.range(100)/20))\n",
        "plt.figure(figsize=(10,7))\n",
        "plt.semilogx(lrs, history_9.history['loss'])\n",
        "plt.xlabel('Learning Rate')\n",
        "plt.ylabel('Loss')\n",
        "plt.title('LEARNING RATE VS LOSS')"
      ],
      "metadata": {
        "colab": {
          "base_uri": "https://localhost:8080/",
          "height": 479
        },
        "id": "szq0t0BEiqsv",
        "outputId": "1b28e779-7f85-4d40-9579-c4a0a5b1b046"
      },
      "execution_count": 53,
      "outputs": [
        {
          "output_type": "execute_result",
          "data": {
            "text/plain": [
              "Text(0.5, 1.0, 'LEARNING RATE VS LOSS')"
            ]
          },
          "metadata": {},
          "execution_count": 53
        },
        {
          "output_type": "display_data",
          "data": {
            "text/plain": [
              "<Figure size 720x504 with 1 Axes>"
            ],
            "image/png": "[encoded data removed]"
          },
          "metadata": {
            "needs_background": "light"
          }
        }
      ]
    },
    {
      "cell_type": "code",
      "source": [
        "len(lrs)"
      ],
      "metadata": {
        "colab": {
          "base_uri": "https://localhost:8080/"
        },
        "id": "dICDr_84jJS_",
        "outputId": "29c85ca6-f410-414b-a1ba-e58f9a5fa4e5"
      },
      "execution_count": 54,
      "outputs": [
        {
          "output_type": "execute_result",
          "data": {
            "text/plain": [
              "100"
            ]
          },
          "metadata": {},
          "execution_count": 54
        }
      ]
    },
    {
      "cell_type": "code",
      "source": [
        "#EXMAPLE OF OTHER TYPICAL LEARNING RATES VALUES\n",
        "10**0, 10**-1, 10**-2,10**-3, 1e-4"
      ],
      "metadata": {
        "colab": {
          "base_uri": "https://localhost:8080/"
        },
        "id": "qBsAu8m3jNMz",
        "outputId": "47b5e59a-d54a-4d77-8478-47d31fc8d5ea"
      },
      "execution_count": 55,
      "outputs": [
        {
          "output_type": "execute_result",
          "data": {
            "text/plain": [
              "(1, 0.1, 0.01, 0.001, 0.0001)"
            ]
          },
          "metadata": {},
          "execution_count": 55
        }
      ]
    },
    {
      "cell_type": "code",
      "source": [
        "# lets try using our higher ** ideal* learning rate with the same model\n",
        "\n",
        "# lets create a model to fit on training data and valuate on test data\n",
        "# Time to replicate the multi-layer neautral network for tensorflow playground\n",
        "\n",
        "# Set random seed\n",
        "tf.random.set_seed(42)\n",
        "\n",
        "# 1. Create the model using the Sequential API with 3 layers\n",
        "model_10 = tf.keras.Sequential([\n",
        "  tf.keras.layers.Dense(4, activation='relu'),\n",
        "  tf.keras.layers.Dense(4, activation='relu'),\n",
        "  tf.keras.layers.Dense(1, activation='sigmoid')\n",
        "])\n",
        "\n",
        "# 2. Compile the model with ideal learning rate \n",
        "model_10.compile(loss='binary_crossentropy', \n",
        "                optimizer=tf.keras.optimizers.Adam(lr=0.02),\n",
        "                metrics=['accuracy'])\n",
        "\n",
        "#fit the model to regression data\n",
        "#model_4.fit(tf.expand_dims(x_reg_train, axis=-1), y_reg_train, epochs=100)\n",
        "history = model_10.fit(x, y, epochs=20)"
      ],
      "metadata": {
        "colab": {
          "base_uri": "https://localhost:8080/"
        },
        "id": "G5fuP-rzkYT-",
        "outputId": "4673475f-6b6f-45a7-e210-c65f868bf479"
      },
      "execution_count": 56,
      "outputs": [
        {
          "output_type": "stream",
          "name": "stdout",
          "text": [
            "Epoch 1/20\n"
          ]
        },
        {
          "output_type": "stream",
          "name": "stderr",
          "text": [
            "/usr/local/lib/python3.7/dist-packages/keras/optimizer_v2/adam.py:105: UserWarning: The `lr` argument is deprecated, use `learning_rate` instead.\n",
            "  super(Adam, self).__init__(name, **kwargs)\n"
          ]
        },
        {
          "output_type": "stream",
          "name": "stdout",
          "text": [
            "32/32 [==============================] - 1s 2ms/step - loss: 0.6807 - accuracy: 0.5680\n",
            "Epoch 2/20\n",
            "32/32 [==============================] - 0s 2ms/step - loss: 0.6669 - accuracy: 0.5800\n",
            "Epoch 3/20\n",
            "32/32 [==============================] - 0s 1ms/step - loss: 0.6440 - accuracy: 0.6120\n",
            "Epoch 4/20\n",
            "32/32 [==============================] - 0s 2ms/step - loss: 0.5944 - accuracy: 0.7930\n",
            "Epoch 5/20\n",
            "32/32 [==============================] - 0s 2ms/step - loss: 0.5104 - accuracy: 0.7850\n",
            "Epoch 6/20\n",
            "32/32 [==============================] - 0s 2ms/step - loss: 0.3772 - accuracy: 0.8910\n",
            "Epoch 7/20\n",
            "32/32 [==============================] - 0s 2ms/step - loss: 0.2860 - accuracy: 0.9200\n",
            "Epoch 8/20\n",
            "32/32 [==============================] - 0s 2ms/step - loss: 0.2139 - accuracy: 0.9560\n",
            "Epoch 9/20\n",
            "32/32 [==============================] - 0s 2ms/step - loss: 0.1440 - accuracy: 0.9820\n",
            "Epoch 10/20\n",
            "32/32 [==============================] - 0s 2ms/step - loss: 0.1155 - accuracy: 0.9850\n",
            "Epoch 11/20\n",
            "32/32 [==============================] - 0s 2ms/step - loss: 0.1051 - accuracy: 0.9800\n",
            "Epoch 12/20\n",
            "32/32 [==============================] - 0s 2ms/step - loss: 0.0828 - accuracy: 0.9890\n",
            "Epoch 13/20\n",
            "32/32 [==============================] - 0s 2ms/step - loss: 0.0815 - accuracy: 0.9820\n",
            "Epoch 14/20\n",
            "32/32 [==============================] - 0s 2ms/step - loss: 0.0699 - accuracy: 0.9900\n",
            "Epoch 15/20\n",
            "32/32 [==============================] - 0s 2ms/step - loss: 0.0677 - accuracy: 0.9850\n",
            "Epoch 16/20\n",
            "32/32 [==============================] - 0s 2ms/step - loss: 0.0720 - accuracy: 0.9810\n",
            "Epoch 17/20\n",
            "32/32 [==============================] - 0s 2ms/step - loss: 0.0663 - accuracy: 0.9870\n",
            "Epoch 18/20\n",
            "32/32 [==============================] - 0s 2ms/step - loss: 0.0447 - accuracy: 0.9910\n",
            "Epoch 19/20\n",
            "32/32 [==============================] - 0s 2ms/step - loss: 0.0435 - accuracy: 0.9960\n",
            "Epoch 20/20\n",
            "32/32 [==============================] - 0s 2ms/step - loss: 0.0393 - accuracy: 0.9930\n"
          ]
        }
      ]
    },
    {
      "cell_type": "code",
      "source": [
        "# evaluate model 10 on the test dataset\n",
        "model_10.evaluate(x_test, y_test)"
      ],
      "metadata": {
        "colab": {
          "base_uri": "https://localhost:8080/"
        },
        "id": "2lWvlzoOm3pS",
        "outputId": "b9fe660e-5a59-4a42-a462-b1dbb755f5b2"
      },
      "execution_count": 57,
      "outputs": [
        {
          "output_type": "stream",
          "name": "stdout",
          "text": [
            "7/7 [==============================] - 0s 2ms/step - loss: 0.0242 - accuracy: 1.0000\n"
          ]
        },
        {
          "output_type": "execute_result",
          "data": {
            "text/plain": [
              "[0.02415526658296585, 1.0]"
            ]
          },
          "metadata": {},
          "execution_count": 57
        }
      ]
    },
    {
      "cell_type": "code",
      "source": [
        "#evalaute model 8 on test data\n",
        "model_8.evaluate(x_test, y_test)"
      ],
      "metadata": {
        "colab": {
          "base_uri": "https://localhost:8080/"
        },
        "id": "gOzaGLWSnNcl",
        "outputId": "54962b5a-98a7-42d4-a5e6-71752e72b3f2"
      },
      "execution_count": 58,
      "outputs": [
        {
          "output_type": "stream",
          "name": "stdout",
          "text": [
            "7/7 [==============================] - 0s 2ms/step - loss: 0.0355 - accuracy: 0.9950\n"
          ]
        },
        {
          "output_type": "execute_result",
          "data": {
            "text/plain": [
              "[0.03548043593764305, 0.9950000047683716]"
            ]
          },
          "metadata": {},
          "execution_count": 58
        }
      ]
    },
    {
      "cell_type": "markdown",
      "source": [
        " ## More classification methods\n",
        "\n",
        " alongside visualization our models results as suchas possible, there are a handful of other classification evalaution methods & metrics you should befamiliar with:\n",
        " * Accuracy\n",
        " * Precision\n",
        " * Recall\n",
        " * F1-SCORE\n",
        " * cONFUSION np.matrix\n",
        " * classification report (from scikit-learn)"
      ],
      "metadata": {
        "id": "t7eUyNTRnYnN"
      }
    },
    {
      "cell_type": "code",
      "source": [
        "# check the accuracy of our model\n",
        "loss, accuracy = model_10.evaluate(x_test, y_test)\n",
        "print(f'Model loss on the test set:{loss}')\n",
        "print(f'Model accuracy on test set:{(accuracy*100):.2f} % ')"
      ],
      "metadata": {
        "colab": {
          "base_uri": "https://localhost:8080/"
        },
        "id": "zk9H7pytqlsh",
        "outputId": "3c3d21b4-b280-4978-da12-8cfe66e4eaad"
      },
      "execution_count": 59,
      "outputs": [
        {
          "output_type": "stream",
          "name": "stdout",
          "text": [
            "7/7 [==============================] - 0s 2ms/step - loss: 0.0242 - accuracy: 1.0000\n",
            "Model loss on the test set:0.02415526658296585\n",
            "Model accuracy on test set:100.00 % \n"
          ]
        }
      ]
    },
    {
      "cell_type": "markdown",
      "source": [
        "how about a confusion matrix"
      ],
      "metadata": {
        "id": "X_AWAYO9rSnH"
      }
    },
    {
      "cell_type": "code",
      "source": [
        "# create a confusion matrix\n",
        "from sklearn.metrics import confusion_matrix\n",
        "\n",
        "# make predictions\n",
        "y_preds = model_10.predict(x_test)\n",
        "\n",
        "# create confusion matrix\n",
        "confusion_matrix(y_test, y_preds)"
      ],
      "metadata": {
        "colab": {
          "base_uri": "https://localhost:8080/",
          "height": 363
        },
        "id": "uwqsZ3h0sanN",
        "outputId": "4ab2926a-e14d-4f5f-f597-8bae5039d481"
      },
      "execution_count": 60,
      "outputs": [
        {
          "output_type": "error",
          "ename": "ValueError",
          "evalue": "ignored",
          "traceback": [
            "\u001b[0;31m---------------------------------------------------------------------------\u001b[0m",
            "\u001b[0;31mValueError\u001b[0m                                Traceback (most recent call last)",
            "\u001b[0;32m<ipython-input-60-e7f818fd5c3e>\u001b[0m in \u001b[0;36m<module>\u001b[0;34m()\u001b[0m\n\u001b[1;32m      6\u001b[0m \u001b[0;34m\u001b[0m\u001b[0m\n\u001b[1;32m      7\u001b[0m \u001b[0;31m# create confusion matrix\u001b[0m\u001b[0;34m\u001b[0m\u001b[0;34m\u001b[0m\u001b[0;34m\u001b[0m\u001b[0m\n\u001b[0;32m----> 8\u001b[0;31m \u001b[0mconfusion_matrix\u001b[0m\u001b[0;34m(\u001b[0m\u001b[0my_test\u001b[0m\u001b[0;34m,\u001b[0m \u001b[0my_preds\u001b[0m\u001b[0;34m)\u001b[0m\u001b[0;34m\u001b[0m\u001b[0;34m\u001b[0m\u001b[0m\n\u001b[0m",
            "\u001b[0;32m/usr/local/lib/python3.7/dist-packages/sklearn/metrics/_classification.py\u001b[0m in \u001b[0;36mconfusion_matrix\u001b[0;34m(y_true, y_pred, labels, sample_weight, normalize)\u001b[0m\n\u001b[1;32m    305\u001b[0m     \u001b[0;34m(\u001b[0m\u001b[0;36m0\u001b[0m\u001b[0;34m,\u001b[0m \u001b[0;36m2\u001b[0m\u001b[0;34m,\u001b[0m \u001b[0;36m1\u001b[0m\u001b[0;34m,\u001b[0m \u001b[0;36m1\u001b[0m\u001b[0;34m)\u001b[0m\u001b[0;34m\u001b[0m\u001b[0;34m\u001b[0m\u001b[0m\n\u001b[1;32m    306\u001b[0m     \"\"\"\n\u001b[0;32m--> 307\u001b[0;31m     \u001b[0my_type\u001b[0m\u001b[0;34m,\u001b[0m \u001b[0my_true\u001b[0m\u001b[0;34m,\u001b[0m \u001b[0my_pred\u001b[0m \u001b[0;34m=\u001b[0m \u001b[0m_check_targets\u001b[0m\u001b[0;34m(\u001b[0m\u001b[0my_true\u001b[0m\u001b[0;34m,\u001b[0m \u001b[0my_pred\u001b[0m\u001b[0;34m)\u001b[0m\u001b[0;34m\u001b[0m\u001b[0;34m\u001b[0m\u001b[0m\n\u001b[0m\u001b[1;32m    308\u001b[0m     \u001b[0;32mif\u001b[0m \u001b[0my_type\u001b[0m \u001b[0;32mnot\u001b[0m \u001b[0;32min\u001b[0m \u001b[0;34m(\u001b[0m\u001b[0;34m\"binary\"\u001b[0m\u001b[0;34m,\u001b[0m \u001b[0;34m\"multiclass\"\u001b[0m\u001b[0;34m)\u001b[0m\u001b[0;34m:\u001b[0m\u001b[0;34m\u001b[0m\u001b[0;34m\u001b[0m\u001b[0m\n\u001b[1;32m    309\u001b[0m         \u001b[0;32mraise\u001b[0m \u001b[0mValueError\u001b[0m\u001b[0;34m(\u001b[0m\u001b[0;34m\"%s is not supported\"\u001b[0m \u001b[0;34m%\u001b[0m \u001b[0my_type\u001b[0m\u001b[0;34m)\u001b[0m\u001b[0;34m\u001b[0m\u001b[0;34m\u001b[0m\u001b[0m\n",
            "\u001b[0;32m/usr/local/lib/python3.7/dist-packages/sklearn/metrics/_classification.py\u001b[0m in \u001b[0;36m_check_targets\u001b[0;34m(y_true, y_pred)\u001b[0m\n\u001b[1;32m     93\u001b[0m         raise ValueError(\n\u001b[1;32m     94\u001b[0m             \"Classification metrics can't handle a mix of {0} and {1} targets\".format(\n\u001b[0;32m---> 95\u001b[0;31m                 \u001b[0mtype_true\u001b[0m\u001b[0;34m,\u001b[0m \u001b[0mtype_pred\u001b[0m\u001b[0;34m\u001b[0m\u001b[0;34m\u001b[0m\u001b[0m\n\u001b[0m\u001b[1;32m     96\u001b[0m             )\n\u001b[1;32m     97\u001b[0m         )\n",
            "\u001b[0;31mValueError\u001b[0m: Classification metrics can't handle a mix of binary and continuous targets"
          ]
        }
      ]
    },
    {
      "cell_type": "code",
      "source": [
        "y_preds[:10]"
      ],
      "metadata": {
        "colab": {
          "base_uri": "https://localhost:8080/"
        },
        "id": "9Z1ME3Ubtu4l",
        "outputId": "e45dfa09-3d8c-4b50-e289-9b38941652c4"
      },
      "execution_count": 61,
      "outputs": [
        {
          "output_type": "execute_result",
          "data": {
            "text/plain": [
              "array([[9.9912679e-01],\n",
              "       [9.9998033e-01],\n",
              "       [9.9778450e-01],\n",
              "       [9.9971896e-01],\n",
              "       [3.7538806e-01],\n",
              "       [1.4950991e-02],\n",
              "       [9.5867431e-01],\n",
              "       [1.3813674e-02],\n",
              "       [9.9998748e-01],\n",
              "       [6.0075521e-04]], dtype=float32)"
            ]
          },
          "metadata": {},
          "execution_count": 61
        }
      ]
    },
    {
      "cell_type": "markdown",
      "source": [
        "oops ..... looks like our predictions array has come out inprediction probability form.... the standard output from the sigmoid (or softmax) activation functions"
      ],
      "metadata": {
        "id": "hBiAJEQNuShw"
      }
    },
    {
      "cell_type": "code",
      "source": [
        "# convert prediction probablities to binary format and view the first 10\n",
        "tf.round(y_preds)[:5]"
      ],
      "metadata": {
        "colab": {
          "base_uri": "https://localhost:8080/"
        },
        "id": "c-13Dw1iuDrJ",
        "outputId": "b8930f12-3a2d-45fb-dbc2-e5a79c2f4e6c"
      },
      "execution_count": 62,
      "outputs": [
        {
          "output_type": "execute_result",
          "data": {
            "text/plain": [
              "<tf.Tensor: shape=(5, 1), dtype=float32, numpy=\n",
              "array([[1.],\n",
              "       [1.],\n",
              "       [1.],\n",
              "       [1.],\n",
              "       [0.]], dtype=float32)>"
            ]
          },
          "metadata": {},
          "execution_count": 62
        }
      ]
    },
    {
      "cell_type": "code",
      "source": [
        "#create a confusion matrix\n",
        "confusion_matrix(y_test, tf.round(y_preds))"
      ],
      "metadata": {
        "colab": {
          "base_uri": "https://localhost:8080/"
        },
        "id": "kbApBaAavUtM",
        "outputId": "cd82e794-3f86-45c5-cced-9e33ad48d9e9"
      },
      "execution_count": 63,
      "outputs": [
        {
          "output_type": "execute_result",
          "data": {
            "text/plain": [
              "array([[101,   0],\n",
              "       [  0,  99]])"
            ]
          },
          "metadata": {},
          "execution_count": 63
        }
      ]
    },
    {
      "cell_type": "code",
      "source": [
        "# how about weprettify our confusion matrix\n",
        "\n",
        "import itertools\n",
        "\n",
        "figsize = (10, 10)\n",
        "\n",
        "# Create the confusion matrix\n",
        "cm = confusion_matrix(y_test, tf.round(y_preds))\n",
        "cm_norm = cm.astype(\"float\") / cm.sum(axis=1)[:, np.newaxis] # normalize it\n",
        "n_classes = cm.shape[0]\n",
        "\n",
        "# Let's prettify it\n",
        "fig, ax = plt.subplots(figsize=figsize)\n",
        "# Create a matrix plot\n",
        "cax = ax.matshow(cm, cmap=plt.cm.Blues) # https://matplotlib.org/3.2.0/api/_as_gen/matplotlib.axes.Axes.matshow.html\n",
        "fig.colorbar(cax)\n",
        "\n",
        "# Create classes\n",
        "classes = False\n",
        "\n",
        "if classes:\n",
        "  labels = classes\n",
        "else:\n",
        "  labels = np.arange(cm.shape[0])\n",
        "\n",
        "# Label the axes\n",
        "ax.set(title=\"Confusion Matrix\",\n",
        "       xlabel=\"Predicted label\",\n",
        "       ylabel=\"True label\",\n",
        "       xticks=np.arange(n_classes),\n",
        "       yticks=np.arange(n_classes),\n",
        "       xticklabels=labels,\n",
        "       yticklabels=labels)\n",
        "\n",
        "# Set x-axis labels to bottom\n",
        "ax.xaxis.set_label_position(\"bottom\")\n",
        "ax.xaxis.tick_bottom()\n",
        "\n",
        "# Adjust label size\n",
        "ax.xaxis.label.set_size(20)\n",
        "ax.yaxis.label.set_size(20)\n",
        "ax.title.set_size(20)\n",
        "\n",
        "# Set threshold for different colors\n",
        "threshold = (cm.max() + cm.min()) / 2.\n",
        "\n",
        "# Plot the text on each cell\n",
        "for i, j in itertools.product(range(cm.shape[0]), range(cm.shape[1])):\n",
        "  plt.text(j, i, f\"{cm[i, j]} ({cm_norm[i, j]*100:.1f}%)\",\n",
        "           horizontalalignment=\"center\",\n",
        "           color=\"white\" if cm[i, j] > threshold else \"black\",\n",
        "           size=15)"
      ],
      "metadata": {
        "colab": {
          "base_uri": "https://localhost:8080/",
          "height": 580
        },
        "id": "faq1JCxQvrA4",
        "outputId": "15dc5550-c4e5-4865-b893-b8393d2869bb"
      },
      "execution_count": 64,
      "outputs": [
        {
          "output_type": "display_data",
          "data": {
            "text/plain": [
              "<Figure size 720x720 with 2 Axes>"
            ],
            "image/png": "[encoded data removed]"
          },
          "metadata": {
            "needs_background": "light"
          }
        }
      ]
    },
    {
      "cell_type": "markdown",
      "source": [
        "## working with a larger example (multiclass classification)\n",
        "\n",
        "when you have more than two classes as an option, its known as **multi-class classification** \n",
        "\n",
        "** This means if you have 3 different classes. its multi-class classification\n",
        "** it also means if you have 100 diferent classes, its multiclass classification\n",
        "\n",
        "To pratice mutli-class classification we are going to build a neaural network to classify images of different items of clothing.\n",
        "\n"
      ],
      "metadata": {
        "id": "Ecb_D9Yt569D"
      }
    },
    {
      "cell_type": "code",
      "source": [
        "import tensorflow as tf\n",
        "from tensorflow.keras.datasets import fashion_mnist"
      ],
      "metadata": {
        "id": "wS2_RFi1hopv"
      },
      "execution_count": 65,
      "outputs": []
    },
    {
      "cell_type": "code",
      "source": [
        "# the data has already been sorted into training and test sets for us\n",
        "(train_data, train_labels), (test_data, test_labels) = fashion_mnist.load_data()"
      ],
      "metadata": {
        "colab": {
          "base_uri": "https://localhost:8080/"
        },
        "id": "A0h16D89mgsF",
        "outputId": "6843b6d5-daf5-4a34-acc7-d7ae0d0d68a3"
      },
      "execution_count": 66,
      "outputs": [
        {
          "output_type": "stream",
          "name": "stdout",
          "text": [
            "Downloading data from https://storage.googleapis.com/tensorflow/tf-keras-datasets/train-labels-idx1-ubyte.gz\n",
            "32768/29515 [=================================] - 0s 0us/step\n",
            "40960/29515 [=========================================] - 0s 0us/step\n",
            "Downloading data from https://storage.googleapis.com/tensorflow/tf-keras-datasets/train-images-idx3-ubyte.gz\n",
            "26427392/26421880 [==============================] - 0s 0us/step\n",
            "26435584/26421880 [==============================] - 0s 0us/step\n",
            "Downloading data from https://storage.googleapis.com/tensorflow/tf-keras-datasets/t10k-labels-idx1-ubyte.gz\n",
            "16384/5148 [===============================================================================================] - 0s 0us/step\n",
            "Downloading data from https://storage.googleapis.com/tensorflow/tf-keras-datasets/t10k-images-idx3-ubyte.gz\n",
            "4423680/4422102 [==============================] - 0s 0us/step\n",
            "4431872/4422102 [==============================] - 0s 0us/step\n"
          ]
        }
      ]
    },
    {
      "cell_type": "code",
      "source": [
        "# show the first training example\n",
        "print(f'Training sample:\\n{train_data[0]}\\n')\n",
        "print(f'Training label:\\n{train_labels[0]}\\n')"
      ],
      "metadata": {
        "colab": {
          "base_uri": "https://localhost:8080/"
        },
        "id": "usymyUninjP2",
        "outputId": "99c330c7-f77a-42d1-e42f-4811b16e6dd1"
      },
      "execution_count": 69,
      "outputs": [
        {
          "output_type": "stream",
          "name": "stdout",
          "text": [
            "Training sample:\n",
            "[[  0   0   0   0   0   0   0   0   0   0   0   0   0   0   0   0   0   0\n",
            "    0   0   0   0   0   0   0   0   0   0]\n",
            " [  0   0   0   0   0   0   0   0   0   0   0   0   0   0   0   0   0   0\n",
            "    0   0   0   0   0   0   0   0   0   0]\n",
            " [  0   0   0   0   0   0   0   0   0   0   0   0   0   0   0   0   0   0\n",
            "    0   0   0   0   0   0   0   0   0   0]\n",
            " [  0   0   0   0   0   0   0   0   0   0   0   0   1   0   0  13  73   0\n",
            "    0   1   4   0   0   0   0   1   1   0]\n",
            " [  0   0   0   0   0   0   0   0   0   0   0   0   3   0  36 136 127  62\n",
            "   54   0   0   0   1   3   4   0   0   3]\n",
            " [  0   0   0   0   0   0   0   0   0   0   0   0   6   0 102 204 176 134\n",
            "  144 123  23   0   0   0   0  12  10   0]\n",
            " [  0   0   0   0   0   0   0   0   0   0   0   0   0   0 155 236 207 178\n",
            "  107 156 161 109  64  23  77 130  72  15]\n",
            " [  0   0   0   0   0   0   0   0   0   0   0   1   0  69 207 223 218 216\n",
            "  216 163 127 121 122 146 141  88 172  66]\n",
            " [  0   0   0   0   0   0   0   0   0   1   1   1   0 200 232 232 233 229\n",
            "  223 223 215 213 164 127 123 196 229   0]\n",
            " [  0   0   0   0   0   0   0   0   0   0   0   0   0 183 225 216 223 228\n",
            "  235 227 224 222 224 221 223 245 173   0]\n",
            " [  0   0   0   0   0   0   0   0   0   0   0   0   0 193 228 218 213 198\n",
            "  180 212 210 211 213 223 220 243 202   0]\n",
            " [  0   0   0   0   0   0   0   0   0   1   3   0  12 219 220 212 218 192\n",
            "  169 227 208 218 224 212 226 197 209  52]\n",
            " [  0   0   0   0   0   0   0   0   0   0   6   0  99 244 222 220 218 203\n",
            "  198 221 215 213 222 220 245 119 167  56]\n",
            " [  0   0   0   0   0   0   0   0   0   4   0   0  55 236 228 230 228 240\n",
            "  232 213 218 223 234 217 217 209  92   0]\n",
            " [  0   0   1   4   6   7   2   0   0   0   0   0 237 226 217 223 222 219\n",
            "  222 221 216 223 229 215 218 255  77   0]\n",
            " [  0   3   0   0   0   0   0   0   0  62 145 204 228 207 213 221 218 208\n",
            "  211 218 224 223 219 215 224 244 159   0]\n",
            " [  0   0   0   0  18  44  82 107 189 228 220 222 217 226 200 205 211 230\n",
            "  224 234 176 188 250 248 233 238 215   0]\n",
            " [  0  57 187 208 224 221 224 208 204 214 208 209 200 159 245 193 206 223\n",
            "  255 255 221 234 221 211 220 232 246   0]\n",
            " [  3 202 228 224 221 211 211 214 205 205 205 220 240  80 150 255 229 221\n",
            "  188 154 191 210 204 209 222 228 225   0]\n",
            " [ 98 233 198 210 222 229 229 234 249 220 194 215 217 241  65  73 106 117\n",
            "  168 219 221 215 217 223 223 224 229  29]\n",
            " [ 75 204 212 204 193 205 211 225 216 185 197 206 198 213 240 195 227 245\n",
            "  239 223 218 212 209 222 220 221 230  67]\n",
            " [ 48 203 183 194 213 197 185 190 194 192 202 214 219 221 220 236 225 216\n",
            "  199 206 186 181 177 172 181 205 206 115]\n",
            " [  0 122 219 193 179 171 183 196 204 210 213 207 211 210 200 196 194 191\n",
            "  195 191 198 192 176 156 167 177 210  92]\n",
            " [  0   0  74 189 212 191 175 172 175 181 185 188 189 188 193 198 204 209\n",
            "  210 210 211 188 188 194 192 216 170   0]\n",
            " [  2   0   0   0  66 200 222 237 239 242 246 243 244 221 220 193 191 179\n",
            "  182 182 181 176 166 168  99  58   0   0]\n",
            " [  0   0   0   0   0   0   0  40  61  44  72  41  35   0   0   0   0   0\n",
            "    0   0   0   0   0   0   0   0   0   0]\n",
            " [  0   0   0   0   0   0   0   0   0   0   0   0   0   0   0   0   0   0\n",
            "    0   0   0   0   0   0   0   0   0   0]\n",
            " [  0   0   0   0   0   0   0   0   0   0   0   0   0   0   0   0   0   0\n",
            "    0   0   0   0   0   0   0   0   0   0]]\n",
            "\n",
            "Training label:\n",
            "9\n",
            "\n"
          ]
        }
      ]
    },
    {
      "cell_type": "code",
      "source": [
        "# check the shape of a single example\n",
        "train_data[0].shape, train_labels[0].shape"
      ],
      "metadata": {
        "colab": {
          "base_uri": "https://localhost:8080/"
        },
        "id": "wp0MefZKn9-Y",
        "outputId": "fa0fa499-7ad8-4d0e-dd1f-2f85bce127fe"
      },
      "execution_count": 71,
      "outputs": [
        {
          "output_type": "execute_result",
          "data": {
            "text/plain": [
              "((28, 28), ())"
            ]
          },
          "metadata": {},
          "execution_count": 71
        }
      ]
    },
    {
      "cell_type": "code",
      "source": [
        "# plot a single sample\n",
        "import matplotlib.pyplot as plt\n",
        "plt.imshow(train_data[0])"
      ],
      "metadata": {
        "colab": {
          "base_uri": "https://localhost:8080/",
          "height": 282
        },
        "id": "HVU_ohZxo6Fw",
        "outputId": "cbd3bc47-35d8-4d1e-8c35-343030b6003e"
      },
      "execution_count": 72,
      "outputs": [
        {
          "output_type": "execute_result",
          "data": {
            "text/plain": [
              "<matplotlib.image.AxesImage at 0x7f129dd59b10>"
            ]
          },
          "metadata": {},
          "execution_count": 72
        },
        {
          "output_type": "display_data",
          "data": {
            "text/plain": [
              "<Figure size 432x288 with 1 Axes>"
            ],
            "image/png": "[encoded data removed]"
          },
          "metadata": {
            "needs_background": "light"
          }
        }
      ]
    },
    {
      "cell_type": "code",
      "source": [
        "# check out samle label\n",
        "train_labels[7]"
      ],
      "metadata": {
        "colab": {
          "base_uri": "https://localhost:8080/"
        },
        "id": "LDxS7ymLpHwV",
        "outputId": "26cc974e-609d-4704-8bb5-09ea3af7d2b7"
      },
      "execution_count": 73,
      "outputs": [
        {
          "output_type": "execute_result",
          "data": {
            "text/plain": [
              "2"
            ]
          },
          "metadata": {},
          "execution_count": 73
        }
      ]
    },
    {
      "cell_type": "code",
      "source": [
        "# create a small list so we can index onto out training labels sp they are human- readable\n",
        "class_name = ['T-shirt/top', 'Trouser','Pullover','Dress','Coat', 'Sandal','Shirt','Sneaker','Bag','Ankle boot']\n",
        "len(class_name)"
      ],
      "metadata": {
        "colab": {
          "base_uri": "https://localhost:8080/"
        },
        "id": "HLXLVWmApSIk",
        "outputId": "e658ce3a-067a-44fe-df73-899d9a435ab0"
      },
      "execution_count": 75,
      "outputs": [
        {
          "output_type": "execute_result",
          "data": {
            "text/plain": [
              "10"
            ]
          },
          "metadata": {},
          "execution_count": 75
        }
      ]
    },
    {
      "cell_type": "code",
      "source": [
        "from matplotlib.cbook import index_of\n",
        "# Plot an exmaple image and its label\n",
        "index_of_choice =17\n",
        "plt.imshow(train_data[index_of_choice], cmap=plt.cm.binary)\n",
        "plt.title(class_name[train_labels[index_of_choice]])"
      ],
      "metadata": {
        "colab": {
          "base_uri": "https://localhost:8080/",
          "height": 298
        },
        "id": "YAExrqnFrhbM",
        "outputId": "7fb61e95-d2b7-4b04-c401-7ad67b067f0c"
      },
      "execution_count": 76,
      "outputs": [
        {
          "output_type": "execute_result",
          "data": {
            "text/plain": [
              "Text(0.5, 1.0, 'T-shirt/top')"
            ]
          },
          "metadata": {},
          "execution_count": 76
        },
        {
          "output_type": "display_data",
          "data": {
            "text/plain": [
              "<Figure size 432x288 with 1 Axes>"
            ],
            "image/png": "[encoded data removed]"
          },
          "metadata": {
            "needs_background": "light"
          }
        }
      ]
    },
    {
      "cell_type": "code",
      "source": [
        "# plot multiple random images of fashion MNIST\n",
        "import random\n",
        "plt.figure(figsize=(7,7))\n",
        "for i in range(4):\n",
        "  ax =plt.subplot(2, 2, i+1)\n",
        "  rand_index = random.choice(range(len(train_data)))\n",
        "  plt.imshow(train_data[rand_index], cmap=plt.cm.binary)\n",
        "  plt.title(class_name[train_labels[rand_index]])\n",
        "  plt.axis(False)"
      ],
      "metadata": {
        "colab": {
          "base_uri": "https://localhost:8080/",
          "height": 427
        },
        "id": "tk6YPn8ssURO",
        "outputId": "8d8c2f2e-7eb9-406c-ab67-ed312301e2e7"
      },
      "execution_count": 79,
      "outputs": [
        {
          "output_type": "display_data",
          "data": {
            "text/plain": [
              "<Figure size 504x504 with 4 Axes>"
            ],
            "image/png": "[encoded data removed]"
          },
          "metadata": {
            "needs_background": "light"
          }
        }
      ]
    },
    {
      "cell_type": "markdown",
      "source": [
        "# building a multi-class classification model\n",
        "\n",
        "Four multi-class classification model, we can use a similar architecture to our binary calssifiers, however, we are going to tweak a few things:\n",
        " \n",
        " * Input shape = 28 x 28 (the shape of one image)\n",
        " * Output shape = 10 (one per class for clothing)\n",
        " * loss function = tf.keras.losses.CategoricalCrossentropy()\n",
        " * if your labels are one-hot encoded, use catergoricalcross entropy()\n",
        " * if your labels are inter form use SparseCategorical\n",
        " * output layer activation = softmax(not sigmoid)\n",
        " "
      ],
      "metadata": {
        "id": "x3JKa03euCir"
      }
    },
    {
      "cell_type": "code",
      "source": [
        "# our data needs to be fatterned (from 28 * 28 to none, 784)\n",
        "flatten_model = tf.keras.Sequential([tf.keras.layers.Flatten(input_shape=(28, 28))])\n",
        "flatten_model.output_shape"
      ],
      "metadata": {
        "colab": {
          "base_uri": "https://localhost:8080/"
        },
        "id": "JoUtnv1V2_9P",
        "outputId": "73572537-99e1-4974-f843-6ae39984db4f"
      },
      "execution_count": 81,
      "outputs": [
        {
          "output_type": "execute_result",
          "data": {
            "text/plain": [
              "(None, 784)"
            ]
          },
          "metadata": {},
          "execution_count": 81
        }
      ]
    },
    {
      "cell_type": "code",
      "source": [
        "tf.one_hot(train_labels[:10], depth=10)"
      ],
      "metadata": {
        "id": "4a5BHXC2_nmV"
      },
      "execution_count": null,
      "outputs": []
    },
    {
      "cell_type": "code",
      "source": [
        "# set random seed \n",
        "tf.random.set_seed(42)\n",
        "\n",
        "# create the model\n",
        "model_1 = tf.keras.Sequential([tf.keras.layers.Flatten(input_shape=(28, 28)),\n",
        "                               tf.keras.layers.Dense(4, activation ='relu'),\n",
        "                               tf.keras.layers.Dense(4, activation ='relu'),\n",
        "                               tf.keras.layers.Dense(10, activation = tf.keras.activations.softmax)\n",
        "])\n",
        "\n",
        "# compile themodel\n",
        "model_1.compile(loss=tf.keras.losses.CategoricalCrossentropy(),\n",
        "                optimizer = tf.keras.optimizers.Adam(),\n",
        "                metrics= ['accuracy'])\n",
        "\n",
        "non_history = model_1.fit(train_data, \n",
        "                          tf.one_hot(train_labels, depth = 10), \n",
        "                          epochs=10,\n",
        "                         validation_data=(test_data,  tf.one_hot(test_labels, depth=10)))"
      ],
      "metadata": {
        "colab": {
          "base_uri": "https://localhost:8080/"
        },
        "id": "6OW9W6JKxdZW",
        "outputId": "7586127c-3c58-4648-b050-572d6fe02b12"
      },
      "execution_count": 88,
      "outputs": [
        {
          "output_type": "stream",
          "name": "stdout",
          "text": [
            "Epoch 1/10\n",
            "1875/1875 [==============================] - 5s 2ms/step - loss: 2.1671 - accuracy: 0.1606 - val_loss: 1.7959 - val_accuracy: 0.2046\n",
            "Epoch 2/10\n",
            "1875/1875 [==============================] - 4s 2ms/step - loss: 1.7066 - accuracy: 0.2509 - val_loss: 1.6567 - val_accuracy: 0.2805\n",
            "Epoch 3/10\n",
            "1875/1875 [==============================] - 5s 2ms/step - loss: 1.6321 - accuracy: 0.2806 - val_loss: 1.6094 - val_accuracy: 0.2857\n",
            "Epoch 4/10\n",
            "1875/1875 [==============================] - 4s 2ms/step - loss: 1.6052 - accuracy: 0.2833 - val_loss: 1.6041 - val_accuracy: 0.2859\n",
            "Epoch 5/10\n",
            "1875/1875 [==============================] - 5s 2ms/step - loss: 1.5975 - accuracy: 0.2862 - val_loss: 1.6064 - val_accuracy: 0.2756\n",
            "Epoch 6/10\n",
            "1875/1875 [==============================] - 4s 2ms/step - loss: 1.5950 - accuracy: 0.2920 - val_loss: 1.5747 - val_accuracy: 0.2994\n",
            "Epoch 7/10\n",
            "1875/1875 [==============================] - 5s 2ms/step - loss: 1.5775 - accuracy: 0.3040 - val_loss: 1.6030 - val_accuracy: 0.3000\n",
            "Epoch 8/10\n",
            "1875/1875 [==============================] - 5s 2ms/step - loss: 1.5708 - accuracy: 0.3175 - val_loss: 1.5635 - val_accuracy: 0.3315\n",
            "Epoch 9/10\n",
            "1875/1875 [==============================] - 4s 2ms/step - loss: 1.5638 - accuracy: 0.3280 - val_loss: 1.5534 - val_accuracy: 0.3334\n",
            "Epoch 10/10\n",
            "1875/1875 [==============================] - 4s 2ms/step - loss: 1.5432 - accuracy: 0.3346 - val_loss: 1.5390 - val_accuracy: 0.3549\n"
          ]
        }
      ]
    },
    {
      "cell_type": "code",
      "source": [
        "# check the model summary\n",
        "model_1.summary()"
      ],
      "metadata": {
        "colab": {
          "base_uri": "https://localhost:8080/"
        },
        "id": "T5myb83L5YBm",
        "outputId": "abf021f8-39be-4e67-e930-a83089e9cf31"
      },
      "execution_count": 90,
      "outputs": [
        {
          "output_type": "stream",
          "name": "stdout",
          "text": [
            "Model: \"sequential_15\"\n",
            "_________________________________________________________________\n",
            " Layer (type)                Output Shape              Param #   \n",
            "=================================================================\n",
            " flatten_4 (Flatten)         (None, 784)               0         \n",
            "                                                                 \n",
            " dense_34 (Dense)            (None, 4)                 3140      \n",
            "                                                                 \n",
            " dense_35 (Dense)            (None, 4)                 20        \n",
            "                                                                 \n",
            " dense_36 (Dense)            (None, 10)                50        \n",
            "                                                                 \n",
            "=================================================================\n",
            "Total params: 3,210\n",
            "Trainable params: 3,210\n",
            "Non-trainable params: 0\n",
            "_________________________________________________________________\n"
          ]
        }
      ]
    },
    {
      "cell_type": "code",
      "source": [
        "# check the min and max values of the training data\n",
        "train_data.min(), train_data.max()"
      ],
      "metadata": {
        "colab": {
          "base_uri": "https://localhost:8080/"
        },
        "id": "Uh2PoOTwCPQI",
        "outputId": "658f1043-45b6-45ae-babc-284ee17f2524"
      },
      "execution_count": 91,
      "outputs": [
        {
          "output_type": "execute_result",
          "data": {
            "text/plain": [
              "(0, 255)"
            ]
          },
          "metadata": {},
          "execution_count": 91
        }
      ]
    },
    {
      "cell_type": "markdown",
      "source": [
        "Neural networks prefer data to be scaled (or normalized), this means they like to have numbers in tensors between 0 & 1"
      ],
      "metadata": {
        "id": "DiXPbqO_Cowg"
      }
    },
    {
      "cell_type": "code",
      "source": [
        "# we can get our training and test data between 0 & 1 by dividing by the maximum\n",
        "train_data_norm = train_data/255\n",
        "test_data_norm  = test_data/255\n",
        "\n",
        "# check the min and max values of the scaled training data\n",
        "train_data_norm.min(), train_data_norm.max()"
      ],
      "metadata": {
        "colab": {
          "base_uri": "https://localhost:8080/"
        },
        "id": "QGvsgtxnClQ4",
        "outputId": "7d623b0c-1f03-4a10-f8cd-ff46157f29c7"
      },
      "execution_count": 92,
      "outputs": [
        {
          "output_type": "execute_result",
          "data": {
            "text/plain": [
              "(0.0, 1.0)"
            ]
          },
          "metadata": {},
          "execution_count": 92
        }
      ]
    },
    {
      "cell_type": "code",
      "source": [
        "# Now our data is normallized \n",
        "# set random seed \n",
        "tf.random.set_seed(42)\n",
        "\n",
        "# create the model\n",
        "model_2 = tf.keras.Sequential([tf.keras.layers.Flatten(input_shape=(28, 28)),\n",
        "                               tf.keras.layers.Dense(4, activation ='relu'),\n",
        "                               tf.keras.layers.Dense(4, activation ='relu'),\n",
        "                               tf.keras.layers.Dense(10, activation = tf.keras.activations.softmax)\n",
        "])\n",
        "\n",
        "# compile themodel\n",
        "model_2.compile(loss=tf.keras.losses.CategoricalCrossentropy(),\n",
        "                optimizer = tf.keras.optimizers.Adam(),\n",
        "                metrics= ['accuracy'])\n",
        "\n",
        "norm_history = model_2.fit(train_data_norm, \n",
        "                          tf.one_hot(train_labels, depth = 10), \n",
        "                          epochs=10,\n",
        "                         validation_data=(test_data_norm,  tf.one_hot(test_labels, depth=10)))"
      ],
      "metadata": {
        "colab": {
          "base_uri": "https://localhost:8080/"
        },
        "id": "KY6lWYUlDf8H",
        "outputId": "949836f5-be3f-4ee4-f31d-b6f761daccc3"
      },
      "execution_count": 95,
      "outputs": [
        {
          "output_type": "stream",
          "name": "stdout",
          "text": [
            "Epoch 1/10\n",
            "1875/1875 [==============================] - 5s 2ms/step - loss: 1.0348 - accuracy: 0.6474 - val_loss: 0.6937 - val_accuracy: 0.7617\n",
            "Epoch 2/10\n",
            "1875/1875 [==============================] - 4s 2ms/step - loss: 0.6376 - accuracy: 0.7757 - val_loss: 0.6400 - val_accuracy: 0.7820\n",
            "Epoch 3/10\n",
            "1875/1875 [==============================] - 4s 2ms/step - loss: 0.5942 - accuracy: 0.7914 - val_loss: 0.6247 - val_accuracy: 0.7783\n",
            "Epoch 4/10\n",
            "1875/1875 [==============================] - 4s 2ms/step - loss: 0.5750 - accuracy: 0.7979 - val_loss: 0.6078 - val_accuracy: 0.7881\n",
            "Epoch 5/10\n",
            "1875/1875 [==============================] - 4s 2ms/step - loss: 0.5641 - accuracy: 0.8006 - val_loss: 0.6169 - val_accuracy: 0.7881\n",
            "Epoch 6/10\n",
            "1875/1875 [==============================] - 4s 2ms/step - loss: 0.5544 - accuracy: 0.8043 - val_loss: 0.5855 - val_accuracy: 0.7951\n",
            "Epoch 7/10\n",
            "1875/1875 [==============================] - 4s 2ms/step - loss: 0.5488 - accuracy: 0.8063 - val_loss: 0.6097 - val_accuracy: 0.7836\n",
            "Epoch 8/10\n",
            "1875/1875 [==============================] - 4s 2ms/step - loss: 0.5428 - accuracy: 0.8077 - val_loss: 0.5787 - val_accuracy: 0.7971\n",
            "Epoch 9/10\n",
            "1875/1875 [==============================] - 5s 2ms/step - loss: 0.5373 - accuracy: 0.8097 - val_loss: 0.5698 - val_accuracy: 0.7977\n",
            "Epoch 10/10\n",
            "1875/1875 [==============================] - 4s 2ms/step - loss: 0.5360 - accuracy: 0.8124 - val_loss: 0.5658 - val_accuracy: 0.8014\n"
          ]
        }
      ]
    },
    {
      "cell_type": "markdown",
      "source": [
        "** Note** neautral networks tend to prefer data in numerical form as well as scaled/normalized (numbers between 0 & 1)"
      ],
      "metadata": {
        "id": "dYvl7JdKE4iN"
      }
    },
    {
      "cell_type": "code",
      "source": [
        "import pandas as pd\n",
        "# plot non-normalized data loss curves\n",
        "pd.DataFrame(non_history.history).plot(title='NON-normalized data')\n",
        "#plot normalized data loss curves\n",
        "pd.DataFrame(norm_history.history).plot(title='Normalized data')"
      ],
      "metadata": {
        "colab": {
          "base_uri": "https://localhost:8080/",
          "height": 562
        },
        "id": "UjOllBAsEJ-I",
        "outputId": "9871dc69-c16c-4d77-bdfe-d08fc84af38a"
      },
      "execution_count": 96,
      "outputs": [
        {
          "output_type": "execute_result",
          "data": {
            "text/plain": [
              "<matplotlib.axes._subplots.AxesSubplot at 0x7f12a0b04f90>"
            ]
          },
          "metadata": {},
          "execution_count": 96
        },
        {
          "output_type": "display_data",
          "data": {
            "text/plain": [
              "<Figure size 432x288 with 1 Axes>"
            ],
            "image/png": "[encoded data removed]"
          },
          "metadata": {
            "needs_background": "light"
          }
        },
        {
          "output_type": "display_data",
          "data": {
            "text/plain": [
              "<Figure size 432x288 with 1 Axes>"
            ],
            "image/png": "[encoded data removed]"
          },
          "metadata": {
            "needs_background": "light"
          }
        }
      ]
    },
    {
      "cell_type": "markdown",
      "source": [
        "**ote** WE ARE COMPARING THE SAME MODEL BUT WITH SLIGHTLY DIFFERENT DATA CAN PRODUCE *DRAMATICALLY* DIFFERENT RESULTS. SO WHEN YOU ARE COMPARING MODELS, ITS IMPORTANT TO MAKE SURE YOU ARE COMPARING THEM ON THE SAME CRITERIA (EG. SAME ARCHITECTURE BUT DIFFERENT DATA OR SAME DATA AND DIFFERENT ARCHITECTURE)"
      ],
      "metadata": {
        "id": "4BWBaHxCIO1-"
      }
    },
    {
      "cell_type": "code",
      "source": [
        "from gc import callbacks\n",
        "#3 finding the ideal learning rate\n",
        "\n",
        "# Now our data is normallized \n",
        "# set random seed \n",
        "tf.random.set_seed(42)\n",
        "\n",
        "# create the model\n",
        "model_3 = tf.keras.Sequential([tf.keras.layers.Flatten(input_shape=(28, 28)),\n",
        "                               tf.keras.layers.Dense(4, activation ='relu'),\n",
        "                               tf.keras.layers.Dense(4, activation ='relu'),\n",
        "                               tf.keras.layers.Dense(10, activation = tf.keras.activations.softmax)\n",
        "])\n",
        "\n",
        "# compile themodel\n",
        "model_3.compile(loss=tf.keras.losses.CategoricalCrossentropy(),\n",
        "                optimizer = tf.keras.optimizers.Adam(),\n",
        "                metrics= ['accuracy'])\n",
        "\n",
        "# create the learning rate call back\n",
        "lr_scheduler = tf.keras.callbacks.LearningRateScheduler(lambda epoch: 1e-3 * 10 ** (epoch/20))\n",
        "\n",
        "# fit the model\n",
        "find_ir_history = model_3.fit(train_data_norm, \n",
        "                          tf.one_hot(train_labels, depth = 10), \n",
        "                          epochs=40,\n",
        "                         validation_data=(test_data_norm,  tf.one_hot(test_labels, depth=10)),\n",
        "                         callbacks= [lr_scheduler ] )"
      ],
      "metadata": {
        "colab": {
          "base_uri": "https://localhost:8080/"
        },
        "id": "me6Y7I_YIG7i",
        "outputId": "67c9133e-32b7-4945-c111-5800086ac959"
      },
      "execution_count": 98,
      "outputs": [
        {
          "output_type": "stream",
          "name": "stdout",
          "text": [
            "Epoch 1/40\n",
            "1875/1875 [==============================] - 5s 2ms/step - loss: 1.0348 - accuracy: 0.6474 - val_loss: 0.6937 - val_accuracy: 0.7617 - lr: 0.0010\n",
            "Epoch 2/40\n",
            "1875/1875 [==============================] - 4s 2ms/step - loss: 0.6366 - accuracy: 0.7759 - val_loss: 0.6400 - val_accuracy: 0.7808 - lr: 0.0011\n",
            "Epoch 3/40\n",
            "1875/1875 [==============================] - 4s 2ms/step - loss: 0.5934 - accuracy: 0.7911 - val_loss: 0.6278 - val_accuracy: 0.7770 - lr: 0.0013\n",
            "Epoch 4/40\n",
            "1875/1875 [==============================] - 4s 2ms/step - loss: 0.5749 - accuracy: 0.7969 - val_loss: 0.6122 - val_accuracy: 0.7871 - lr: 0.0014\n",
            "Epoch 5/40\n",
            "1875/1875 [==============================] - 4s 2ms/step - loss: 0.5655 - accuracy: 0.7987 - val_loss: 0.6061 - val_accuracy: 0.7913 - lr: 0.0016\n",
            "Epoch 6/40\n",
            "1875/1875 [==============================] - 4s 2ms/step - loss: 0.5569 - accuracy: 0.8022 - val_loss: 0.5917 - val_accuracy: 0.7940 - lr: 0.0018\n",
            "Epoch 7/40\n",
            "1875/1875 [==============================] - 4s 2ms/step - loss: 0.5542 - accuracy: 0.8036 - val_loss: 0.5898 - val_accuracy: 0.7896 - lr: 0.0020\n",
            "Epoch 8/40\n",
            "1875/1875 [==============================] - 4s 2ms/step - loss: 0.5509 - accuracy: 0.8039 - val_loss: 0.5829 - val_accuracy: 0.7949 - lr: 0.0022\n",
            "Epoch 9/40\n",
            "1875/1875 [==============================] - 4s 2ms/step - loss: 0.5468 - accuracy: 0.8047 - val_loss: 0.6036 - val_accuracy: 0.7833 - lr: 0.0025\n",
            "Epoch 10/40\n",
            "1875/1875 [==============================] - 4s 2ms/step - loss: 0.5478 - accuracy: 0.8058 - val_loss: 0.5736 - val_accuracy: 0.7974 - lr: 0.0028\n",
            "Epoch 11/40\n",
            "1875/1875 [==============================] - 5s 3ms/step - loss: 0.5446 - accuracy: 0.8059 - val_loss: 0.5672 - val_accuracy: 0.8016 - lr: 0.0032\n",
            "Epoch 12/40\n",
            "1875/1875 [==============================] - 4s 2ms/step - loss: 0.5432 - accuracy: 0.8067 - val_loss: 0.5773 - val_accuracy: 0.7950 - lr: 0.0035\n",
            "Epoch 13/40\n",
            "1875/1875 [==============================] - 4s 2ms/step - loss: 0.5425 - accuracy: 0.8056 - val_loss: 0.5775 - val_accuracy: 0.7992 - lr: 0.0040\n",
            "Epoch 14/40\n",
            "1875/1875 [==============================] - 4s 2ms/step - loss: 0.5407 - accuracy: 0.8078 - val_loss: 0.5616 - val_accuracy: 0.8075 - lr: 0.0045\n",
            "Epoch 15/40\n",
            "1875/1875 [==============================] - 4s 2ms/step - loss: 0.5408 - accuracy: 0.8052 - val_loss: 0.5773 - val_accuracy: 0.8039 - lr: 0.0050\n",
            "Epoch 16/40\n",
            "1875/1875 [==============================] - 4s 2ms/step - loss: 0.5437 - accuracy: 0.8058 - val_loss: 0.5682 - val_accuracy: 0.8015 - lr: 0.0056\n",
            "Epoch 17/40\n",
            "1875/1875 [==============================] - 4s 2ms/step - loss: 0.5419 - accuracy: 0.8075 - val_loss: 0.5995 - val_accuracy: 0.7964 - lr: 0.0063\n",
            "Epoch 18/40\n",
            "1875/1875 [==============================] - 4s 2ms/step - loss: 0.5488 - accuracy: 0.8058 - val_loss: 0.5544 - val_accuracy: 0.8087 - lr: 0.0071\n",
            "Epoch 19/40\n",
            "1875/1875 [==============================] - 4s 2ms/step - loss: 0.5506 - accuracy: 0.8042 - val_loss: 0.6068 - val_accuracy: 0.7864 - lr: 0.0079\n",
            "Epoch 20/40\n",
            "1875/1875 [==============================] - 4s 2ms/step - loss: 0.5537 - accuracy: 0.8030 - val_loss: 0.5597 - val_accuracy: 0.8076 - lr: 0.0089\n",
            "Epoch 21/40\n",
            "1875/1875 [==============================] - 4s 2ms/step - loss: 0.5572 - accuracy: 0.8036 - val_loss: 0.5998 - val_accuracy: 0.7934 - lr: 0.0100\n",
            "Epoch 22/40\n",
            "1875/1875 [==============================] - 4s 2ms/step - loss: 0.5615 - accuracy: 0.8013 - val_loss: 0.5756 - val_accuracy: 0.8034 - lr: 0.0112\n",
            "Epoch 23/40\n",
            "1875/1875 [==============================] - 4s 2ms/step - loss: 0.5655 - accuracy: 0.8017 - val_loss: 0.6386 - val_accuracy: 0.7668 - lr: 0.0126\n",
            "Epoch 24/40\n",
            "1875/1875 [==============================] - 4s 2ms/step - loss: 0.5819 - accuracy: 0.7963 - val_loss: 0.6356 - val_accuracy: 0.7869 - lr: 0.0141\n",
            "Epoch 25/40\n",
            "1875/1875 [==============================] - 4s 2ms/step - loss: 0.5810 - accuracy: 0.7977 - val_loss: 0.6481 - val_accuracy: 0.7865 - lr: 0.0158\n",
            "Epoch 26/40\n",
            "1875/1875 [==============================] - 4s 2ms/step - loss: 0.5960 - accuracy: 0.7901 - val_loss: 0.6997 - val_accuracy: 0.7802 - lr: 0.0178\n",
            "Epoch 27/40\n",
            "1875/1875 [==============================] - 4s 2ms/step - loss: 0.6101 - accuracy: 0.7870 - val_loss: 0.6124 - val_accuracy: 0.7917 - lr: 0.0200\n",
            "Epoch 28/40\n",
            "1875/1875 [==============================] - 4s 2ms/step - loss: 0.6178 - accuracy: 0.7846 - val_loss: 0.6137 - val_accuracy: 0.7962 - lr: 0.0224\n",
            "Epoch 29/40\n",
            "1875/1875 [==============================] - 4s 2ms/step - loss: 0.6357 - accuracy: 0.7771 - val_loss: 0.6655 - val_accuracy: 0.7621 - lr: 0.0251\n",
            "Epoch 30/40\n",
            "1875/1875 [==============================] - 4s 2ms/step - loss: 0.6671 - accuracy: 0.7678 - val_loss: 0.7597 - val_accuracy: 0.7194 - lr: 0.0282\n",
            "Epoch 31/40\n",
            "1875/1875 [==============================] - 4s 2ms/step - loss: 0.6836 - accuracy: 0.7585 - val_loss: 0.6958 - val_accuracy: 0.7342 - lr: 0.0316\n",
            "Epoch 32/40\n",
            "1875/1875 [==============================] - 4s 2ms/step - loss: 0.7062 - accuracy: 0.7553 - val_loss: 0.7015 - val_accuracy: 0.7732 - lr: 0.0355\n",
            "Epoch 33/40\n",
            "1875/1875 [==============================] - 4s 2ms/step - loss: 0.7383 - accuracy: 0.7500 - val_loss: 0.7146 - val_accuracy: 0.7706 - lr: 0.0398\n",
            "Epoch 34/40\n",
            "1875/1875 [==============================] - 4s 2ms/step - loss: 0.8033 - accuracy: 0.7300 - val_loss: 0.8987 - val_accuracy: 0.6848 - lr: 0.0447\n",
            "Epoch 35/40\n",
            "1875/1875 [==============================] - 4s 2ms/step - loss: 0.8429 - accuracy: 0.7110 - val_loss: 0.8750 - val_accuracy: 0.7053 - lr: 0.0501\n",
            "Epoch 36/40\n",
            "1875/1875 [==============================] - 6s 3ms/step - loss: 0.8651 - accuracy: 0.7033 - val_loss: 0.8176 - val_accuracy: 0.6989 - lr: 0.0562\n",
            "Epoch 37/40\n",
            "1875/1875 [==============================] - 4s 2ms/step - loss: 0.9203 - accuracy: 0.6837 - val_loss: 0.7876 - val_accuracy: 0.7333 - lr: 0.0631\n",
            "Epoch 38/40\n",
            "1875/1875 [==============================] - 4s 2ms/step - loss: 1.2374 - accuracy: 0.5191 - val_loss: 1.3699 - val_accuracy: 0.4902 - lr: 0.0708\n",
            "Epoch 39/40\n",
            "1875/1875 [==============================] - 5s 2ms/step - loss: 1.1828 - accuracy: 0.5311 - val_loss: 1.1010 - val_accuracy: 0.5819 - lr: 0.0794\n",
            "Epoch 40/40\n",
            "1875/1875 [==============================] - 4s 2ms/step - loss: 1.6640 - accuracy: 0.3303 - val_loss: 1.8528 - val_accuracy: 0.2779 - lr: 0.0891\n"
          ]
        }
      ]
    },
    {
      "cell_type": "code",
      "source": [
        "# plot the learning rate decay curve\n",
        "\n",
        "lrs = 1e-3 * (10**(tf.range(40)/20 ) )\n",
        "plt.semilogx(lrs, find_ir_history.history['loss'])\n",
        "plt.xlabel('Learning rate')\n",
        "plt.ylabel('loss')\n",
        "plt.title('Fiding Ideal learning rate')"
      ],
      "metadata": {
        "colab": {
          "base_uri": "https://localhost:8080/",
          "height": 316
        },
        "id": "0FOR_qn1L6K6",
        "outputId": "d2df7309-de02-401b-d20c-d28b7de8daa9"
      },
      "execution_count": 100,
      "outputs": [
        {
          "output_type": "execute_result",
          "data": {
            "text/plain": [
              "Text(0.5, 1.0, 'Fiding Ideal learning rate')"
            ]
          },
          "metadata": {},
          "execution_count": 100
        },
        {
          "output_type": "display_data",
          "data": {
            "text/plain": [
              "<Figure size 432x288 with 1 Axes>"
            ],
            "image/png": "[encoded data removed]"
          },
          "metadata": {
            "needs_background": "light"
          }
        }
      ]
    },
    {
      "cell_type": "code",
      "source": [
        "# lets refill the model with the ideal learning rate\n",
        "# Now our data is normallized \n",
        "# set random seed \n",
        "tf.random.set_seed(42)\n",
        "\n",
        "# create the model\n",
        "model_14 = tf.keras.Sequential([tf.keras.layers.Flatten(input_shape=(28, 28)),\n",
        "                               tf.keras.layers.Dense(4, activation ='relu'),\n",
        "                               tf.keras.layers.Dense(4, activation ='relu'),\n",
        "                               tf.keras.layers.Dense(10, activation = tf.keras.activations.softmax)\n",
        "])\n",
        "\n",
        "# compile themodel\n",
        "model_14.compile(loss=tf.keras.losses.CategoricalCrossentropy(),\n",
        "                optimizer = tf.keras.optimizers.Adam(lr =0.001),\n",
        "                metrics= ['accuracy'])\n",
        "\n",
        "history_14 = model_14.fit(train_data_norm, \n",
        "                          tf.one_hot(train_labels, depth = 10), \n",
        "                          epochs=20,\n",
        "                         validation_data=(test_data_norm,  tf.one_hot(test_labels, depth=10)))"
      ],
      "metadata": {
        "colab": {
          "base_uri": "https://localhost:8080/"
        },
        "id": "I0lNBTViPJvb",
        "outputId": "3544c102-6fb0-4445-81b0-b0ba09d5016b"
      },
      "execution_count": 101,
      "outputs": [
        {
          "output_type": "stream",
          "name": "stdout",
          "text": [
            "Epoch 1/20\n"
          ]
        },
        {
          "output_type": "stream",
          "name": "stderr",
          "text": [
            "/usr/local/lib/python3.7/dist-packages/keras/optimizer_v2/adam.py:105: UserWarning: The `lr` argument is deprecated, use `learning_rate` instead.\n",
            "  super(Adam, self).__init__(name, **kwargs)\n"
          ]
        },
        {
          "output_type": "stream",
          "name": "stdout",
          "text": [
            "1875/1875 [==============================] - 8s 4ms/step - loss: 1.0348 - accuracy: 0.6474 - val_loss: 0.6937 - val_accuracy: 0.7617\n",
            "Epoch 2/20\n",
            "1875/1875 [==============================] - 4s 2ms/step - loss: 0.6376 - accuracy: 0.7757 - val_loss: 0.6400 - val_accuracy: 0.7820\n",
            "Epoch 3/20\n",
            "1875/1875 [==============================] - 4s 2ms/step - loss: 0.5942 - accuracy: 0.7914 - val_loss: 0.6247 - val_accuracy: 0.7783\n",
            "Epoch 4/20\n",
            "1875/1875 [==============================] - 4s 2ms/step - loss: 0.5750 - accuracy: 0.7979 - val_loss: 0.6078 - val_accuracy: 0.7881\n",
            "Epoch 5/20\n",
            "1875/1875 [==============================] - 4s 2ms/step - loss: 0.5641 - accuracy: 0.8006 - val_loss: 0.6169 - val_accuracy: 0.7881\n",
            "Epoch 6/20\n",
            "1875/1875 [==============================] - 4s 2ms/step - loss: 0.5544 - accuracy: 0.8043 - val_loss: 0.5855 - val_accuracy: 0.7951\n",
            "Epoch 7/20\n",
            "1875/1875 [==============================] - 4s 2ms/step - loss: 0.5488 - accuracy: 0.8063 - val_loss: 0.6097 - val_accuracy: 0.7836\n",
            "Epoch 8/20\n",
            "1875/1875 [==============================] - 5s 2ms/step - loss: 0.5428 - accuracy: 0.8077 - val_loss: 0.5787 - val_accuracy: 0.7971\n",
            "Epoch 9/20\n",
            "1875/1875 [==============================] - 4s 2ms/step - loss: 0.5373 - accuracy: 0.8097 - val_loss: 0.5698 - val_accuracy: 0.7977\n",
            "Epoch 10/20\n",
            "1875/1875 [==============================] - 4s 2ms/step - loss: 0.5360 - accuracy: 0.8124 - val_loss: 0.5658 - val_accuracy: 0.8014\n",
            "Epoch 11/20\n",
            "1875/1875 [==============================] - 4s 2ms/step - loss: 0.5311 - accuracy: 0.8130 - val_loss: 0.5714 - val_accuracy: 0.8002\n",
            "Epoch 12/20\n",
            "1875/1875 [==============================] - 5s 3ms/step - loss: 0.5284 - accuracy: 0.8132 - val_loss: 0.5626 - val_accuracy: 0.8027\n",
            "Epoch 13/20\n",
            "1875/1875 [==============================] - 5s 3ms/step - loss: 0.5271 - accuracy: 0.8138 - val_loss: 0.5619 - val_accuracy: 0.8041\n",
            "Epoch 14/20\n",
            "1875/1875 [==============================] - 4s 2ms/step - loss: 0.5249 - accuracy: 0.8143 - val_loss: 0.5718 - val_accuracy: 0.7991\n",
            "Epoch 15/20\n",
            "1875/1875 [==============================] - 5s 2ms/step - loss: 0.5231 - accuracy: 0.8148 - val_loss: 0.5706 - val_accuracy: 0.8024\n",
            "Epoch 16/20\n",
            "1875/1875 [==============================] - 5s 2ms/step - loss: 0.5203 - accuracy: 0.8162 - val_loss: 0.5731 - val_accuracy: 0.8023\n",
            "Epoch 17/20\n",
            "1875/1875 [==============================] - 4s 2ms/step - loss: 0.5191 - accuracy: 0.8176 - val_loss: 0.5594 - val_accuracy: 0.8030\n",
            "Epoch 18/20\n",
            "1875/1875 [==============================] - 4s 2ms/step - loss: 0.5176 - accuracy: 0.8157 - val_loss: 0.5582 - val_accuracy: 0.8053\n",
            "Epoch 19/20\n",
            "1875/1875 [==============================] - 4s 2ms/step - loss: 0.5156 - accuracy: 0.8169 - val_loss: 0.5644 - val_accuracy: 0.8007\n",
            "Epoch 20/20\n",
            "1875/1875 [==============================] - 8s 4ms/step - loss: 0.5146 - accuracy: 0.8177 - val_loss: 0.5660 - val_accuracy: 0.8075\n"
          ]
        }
      ]
    },
    {
      "cell_type": "markdown",
      "source": [
        "# Evaluate our multi-class classification model\n",
        "\n",
        "To evalauate our multi-class classification model we could:\n",
        "* Evalaute its performance using other classification metrics (such as a confusion matrix)\n",
        "* Asses some of its predicitons (through visualiations)\n",
        "* Improve its result bytraining it for longer or changing the archietecture)\n",
        "*  save and export it to use for our application\n",
        "\n",
        "\n",
        "lets go through top2"
      ],
      "metadata": {
        "id": "YP4nVU2gREec"
      }
    },
    {
      "cell_type": "code",
      "source": [
        "# create a confusion matrix\n",
        "\n",
        "# how about weprettify our confusion matrix\n",
        "\n",
        "import itertools\n",
        "\n",
        "figsize = (10, 10)\n",
        "def make_confusion_matrix(y_true, y_pred, classes =None, figsize = (10, 10), text_size=15):\n",
        "  # Create the confusion matrix\n",
        "  cm = confusion_matrix(y_true, y_preds)\n",
        "  cm_norm = cm.astype(\"float\") / cm.sum(axis=1)[:, np.newaxis] # normalize it\n",
        "  n_classes = cm.shape[0]\n",
        "\n",
        "  # Let's prettify it\n",
        "  fig, ax = plt.subplots(figsize=figsize)\n",
        "  # Create a matrix plot\n",
        "  cax = ax.matshow(cm, cmap=plt.cm.Blues) # https://matplotlib.org/3.2.0/api/_as_gen/matplotlib.axes.Axes.matshow.html\n",
        "  fig.colorbar(cax)\n",
        "\n",
        "  # Set classes to be classes\n",
        "  if classes:\n",
        "    labels = classes\n",
        "  else:\n",
        "    labels = np.arange(cm.shape[0])\n",
        "\n",
        "  # Label the axes\n",
        "  ax.set(title=\"Confusion Matrix\",\n",
        "        xlabel=\"Predicted label\",\n",
        "        ylabel=\"True label\",\n",
        "        xticks=np.arange(n_classes),\n",
        "        yticks=np.arange(n_classes),\n",
        "        xticklabels=labels,\n",
        "        yticklabels=labels)\n",
        "\n",
        "  # Set x-axis labels to bottom\n",
        "  ax.xaxis.set_label_position(\"bottom\")\n",
        "  ax.xaxis.tick_bottom()\n",
        "\n",
        "  # Adjust label size\n",
        "  ax.xaxis.label.set_size(text_size)\n",
        "  ax.yaxis.label.set_size(text_size)\n",
        "  ax.title.set_size(text_size)\n",
        "\n",
        "  # Set threshold for different colors\n",
        "  threshold = (cm.max() + cm.min()) / 2.\n",
        "\n",
        "  # Plot the text on each cell\n",
        "  for i, j in itertools.product(range(cm.shape[0]), range(cm.shape[1])):\n",
        "    plt.text(j, i, f\"{cm[i, j]} ({cm_norm[i, j]*100:.1f}%)\",\n",
        "            horizontalalignment=\"center\",\n",
        "            color=\"white\" if cm[i, j] > threshold else \"black\",\n",
        "            size=text_size)"
      ],
      "metadata": {
        "id": "8rRl-h5fZBMh"
      },
      "execution_count": 113,
      "outputs": []
    },
    {
      "cell_type": "code",
      "source": [
        "class_name"
      ],
      "metadata": {
        "colab": {
          "base_uri": "https://localhost:8080/"
        },
        "id": "p150-mGwaW5t",
        "outputId": "021c4c0e-9703-4a9c-f67b-187ebc1d0df0"
      },
      "execution_count": 114,
      "outputs": [
        {
          "output_type": "execute_result",
          "data": {
            "text/plain": [
              "['T-shirt/top',\n",
              " 'Trouser',\n",
              " 'Pullover',\n",
              " 'Dress',\n",
              " 'Coat',\n",
              " 'Sandal',\n",
              " 'Shirt',\n",
              " 'Sneaker',\n",
              " 'Bag',\n",
              " 'Ankle boot']"
            ]
          },
          "metadata": {},
          "execution_count": 114
        }
      ]
    },
    {
      "cell_type": "code",
      "source": [
        "# make some predictions with ourmodel\n",
        "y_probs = model_14.predict(test_data_norm) # probs is short for 'prediction probabilities'\n",
        "\n",
        "# view the first 5 predictions\n",
        "y_probs[:5]"
      ],
      "metadata": {
        "colab": {
          "base_uri": "https://localhost:8080/"
        },
        "id": "gpeVyz4oajO6",
        "outputId": "e5fe4fca-b534-4ec6-c947-a488b3ea5c7c"
      },
      "execution_count": 115,
      "outputs": [
        {
          "output_type": "execute_result",
          "data": {
            "text/plain": [
              "array([[8.56299753e-11, 3.53615629e-13, 2.66337556e-05, 4.63562024e-08,\n",
              "        5.09498605e-05, 9.61192474e-02, 8.17780403e-08, 9.18688551e-02,\n",
              "        4.06052778e-03, 8.07873666e-01],\n",
              "       [3.42785552e-06, 1.28992649e-16, 9.59891498e-01, 2.05162564e-07,\n",
              "        1.53292371e-02, 2.45320095e-13, 2.41428725e-02, 1.13834485e-28,\n",
              "        6.32718089e-04, 4.47896404e-08],\n",
              "       [6.10630595e-05, 9.96576726e-01, 4.38669758e-08, 3.34058981e-03,\n",
              "        1.32494861e-05, 1.43831603e-21, 8.27906115e-06, 7.32374630e-18,\n",
              "        5.48116041e-08, 4.92251402e-14],\n",
              "       [7.50314357e-05, 9.90536869e-01, 4.25285322e-07, 9.22318175e-03,\n",
              "        1.36231421e-04, 1.82760903e-18, 2.68082422e-05, 4.81248308e-14,\n",
              "        1.45215904e-06, 2.22114601e-11],\n",
              "       [7.21899569e-02, 1.54957536e-06, 2.55668938e-01, 1.03631355e-02,\n",
              "        4.35413495e-02, 1.10693023e-13, 6.16930187e-01, 6.75438989e-23,\n",
              "        1.30491622e-03, 1.21404065e-09]], dtype=float32)"
            ]
          },
          "metadata": {},
          "execution_count": 115
        }
      ]
    },
    {
      "cell_type": "markdown",
      "source": [
        "** note** Remeber to make predictions on the same kind of data your model was trained on 9eg. if your model was trained on normalized data, you will want to make predictions on normalized data"
      ],
      "metadata": {
        "id": "zIP3pvu4cJ62"
      }
    },
    {
      "cell_type": "code",
      "source": [
        "y_probs[0], tf.argmax(y_probs[0]), class_name[tf.argmax(y_probs[0])]"
      ],
      "metadata": {
        "colab": {
          "base_uri": "https://localhost:8080/"
        },
        "id": "7ETN62CqbNWZ",
        "outputId": "53fa9fd7-d600-4fc4-a757-1c9ec2dc2b2a"
      },
      "execution_count": 116,
      "outputs": [
        {
          "output_type": "execute_result",
          "data": {
            "text/plain": [
              "(array([8.5629975e-11, 3.5361563e-13, 2.6633756e-05, 4.6356202e-08,\n",
              "        5.0949860e-05, 9.6119247e-02, 8.1778040e-08, 9.1868855e-02,\n",
              "        4.0605278e-03, 8.0787367e-01], dtype=float32),\n",
              " <tf.Tensor: shape=(), dtype=int64, numpy=9>,\n",
              " 'Ankle boot')"
            ]
          },
          "metadata": {},
          "execution_count": 116
        }
      ]
    },
    {
      "cell_type": "code",
      "source": [
        "# convert all the probabilities into integers\n",
        "y_preds = y_probs.argmax(axis=1)\n",
        "\n",
        "#view the first 10 prediction labels\n",
        "y_preds[:10]"
      ],
      "metadata": {
        "colab": {
          "base_uri": "https://localhost:8080/"
        },
        "id": "Q2wzxxvnhc-e",
        "outputId": "2e5a39ee-d6b6-4d35-de6b-88dd2f13572b"
      },
      "execution_count": 117,
      "outputs": [
        {
          "output_type": "execute_result",
          "data": {
            "text/plain": [
              "array([9, 2, 1, 1, 6, 1, 4, 6, 5, 7])"
            ]
          },
          "metadata": {},
          "execution_count": 117
        }
      ]
    },
    {
      "cell_type": "code",
      "source": [
        "from sklearn.metrics import confusion_matrix\n",
        "confusion_matrix(y_true=test_labels,\n",
        "                 y_pred=y_preds)"
      ],
      "metadata": {
        "colab": {
          "base_uri": "https://localhost:8080/"
        },
        "id": "mLIqoM5qhxk_",
        "outputId": "833cd03f-b3f9-44c7-ab28-073906bffef7"
      },
      "execution_count": 118,
      "outputs": [
        {
          "output_type": "execute_result",
          "data": {
            "text/plain": [
              "array([[696,   8,  25,  87,   9,   5, 160,   0,  10,   0],\n",
              "       [  2, 939,   2,  35,   9,   0,  13,   0,   0,   0],\n",
              "       [ 19,   2, 656,  10, 188,   0, 110,   0,  15,   0],\n",
              "       [ 39,  10,  10, 819,  55,   0,  47,   1,  19,   0],\n",
              "       [  0,   0,  95,  23, 800,   0,  73,   0,   7,   2],\n",
              "       [  0,   0,   1,   0,   0, 894,   0,  60,   7,  38],\n",
              "       [106,   4, 158,  57, 159,   1, 499,   0,  16,   0],\n",
              "       [  0,   0,   0,   0,   0,  31,   0, 936,   0,  33],\n",
              "       [  4,   1,  38,  15,   8,  12,   9,   5, 906,   2],\n",
              "       [  0,   0,   1,   0,   2,  15,   0,  51,   1, 930]])"
            ]
          },
          "metadata": {},
          "execution_count": 118
        }
      ]
    },
    {
      "cell_type": "code",
      "source": [
        "# make a prettier confusion matrix\n",
        "make_confusion_matrix(y_true=test_labels,\n",
        "                      y_pred=y_preds,\n",
        "                      classes =class_name,\n",
        "                      figsize=(10, 10),\n",
        "                      text_size=10)"
      ],
      "metadata": {
        "colab": {
          "base_uri": "https://localhost:8080/",
          "height": 580
        },
        "id": "ZM9oCnwLkiVX",
        "outputId": "f1f2ee21-4a2a-4c84-8445-f7ca07ed96c9"
      },
      "execution_count": 121,
      "outputs": [
        {
          "output_type": "display_data",
          "data": {
            "text/plain": [
              "<Figure size 720x720 with 2 Axes>"
            ],
            "image/png": "[encoded data removed]"
          },
          "metadata": {
            "needs_background": "light"
          }
        }
      ]
    },
    {
      "cell_type": "markdown",
      "source": [
        " ** note** often when working with images and other forms of visual data, its a good idea to visualize as much as possible to develop a further understanding of the data ajnd the inputs and outputs of your models\n",
        "\n",
        " how about we create a fun little function for \n",
        " * plot a random image\n",
        " * make prediction on said image\n",
        " * label he plot with the truth label & the predicted label"
      ],
      "metadata": {
        "id": "iRH5B6TglG1W"
      }
    },
    {
      "cell_type": "code",
      "source": [
        "import random\n",
        "\n",
        "# Create a function for plotting a random image along with its prediction\n",
        "def plot_random_image(model, images, true_labels, classes):\n",
        "  \"\"\"Picks a random image, plots it and labels it with a predicted and truth label.\n",
        "\n",
        "  Args:\n",
        "    model: a trained model (trained on data similar to what's in images).\n",
        "    images: a set of random images (in tensor form).\n",
        "    true_labels: array of ground truth labels for images.\n",
        "    classes: array of class names for images.\n",
        "  \n",
        "  Returns:\n",
        "    A plot of a random image from `images` with a predicted class label from `model`\n",
        "    as well as the truth class label from `true_labels`.\n",
        "  \"\"\" \n",
        "  # Setup random integer\n",
        "  i = random.randint(0, len(images))\n",
        "  \n",
        "  # Create predictions and targets\n",
        "  target_image = images[i]\n",
        "  pred_probs = model.predict(target_image.reshape(1, 28, 28)) # have to reshape to get into right size for model\n",
        "  pred_label = classes[pred_probs.argmax()]\n",
        "  true_label = classes[true_labels[i]]\n",
        "\n",
        "  # Plot the target image\n",
        "  plt.imshow(target_image, cmap=plt.cm.binary)\n",
        "\n",
        "  # Change the color of the titles depending on if the prediction is right or wrong\n",
        "  if pred_label == true_label:\n",
        "    color = \"green\"\n",
        "  else:\n",
        "    color = \"red\"\n",
        "      \n",
        "  # Add xlabel information (prediction/true label)\n",
        "    plt.xlabel(\"Pred: {} {:2.0f}% (True: {})\".format(pred_label,\n",
        "                                                    100*tf.reduce_max(pred_probs),\n",
        "                                                    true_label),\n",
        "              color=color) # set the color to green or red"
      ],
      "metadata": {
        "id": "-tPnpqhQnaJL"
      },
      "execution_count": 134,
      "outputs": []
    },
    {
      "cell_type": "code",
      "source": [
        "# Check out a random image as well as its prediction\n",
        "plot_random_image(model=model_14, \n",
        "                  images=test_data_norm, # always make prediction on the same kind of data your model was trained on \n",
        "                  true_labels=test_labels, \n",
        "                  classes=class_name)"
      ],
      "metadata": {
        "colab": {
          "base_uri": "https://localhost:8080/",
          "height": 265
        },
        "id": "mXihPmjsoqoo",
        "outputId": "6487371e-1594-41db-a8f2-345672c06407"
      },
      "execution_count": 135,
      "outputs": [
        {
          "output_type": "display_data",
          "data": {
            "text/plain": [
              "<Figure size 432x288 with 1 Axes>"
            ],
            "image/png": "[encoded data removed]"
          },
          "metadata": {
            "needs_background": "light"
          }
        }
      ]
    },
    {
      "cell_type": "markdown",
      "source": [
        "What patterns is our model learning?"
      ],
      "metadata": {
        "id": "4aKkeuicsDA1"
      }
    },
    {
      "cell_type": "code",
      "source": [
        "# find the layers of our most recent model\n",
        "model_14.layers"
      ],
      "metadata": {
        "colab": {
          "base_uri": "https://localhost:8080/"
        },
        "id": "cJiCfKjaouwa",
        "outputId": "3f3cda31-318b-429e-d8d4-73d91e02317b"
      },
      "execution_count": 137,
      "outputs": [
        {
          "output_type": "execute_result",
          "data": {
            "text/plain": [
              "[<keras.layers.core.flatten.Flatten at 0x7f129ea05f90>,\n",
              " <keras.layers.core.dense.Dense at 0x7f129eadb110>,\n",
              " <keras.layers.core.dense.Dense at 0x7f129ea05250>,\n",
              " <keras.layers.core.dense.Dense at 0x7f129ea05b50>]"
            ]
          },
          "metadata": {},
          "execution_count": 137
        }
      ]
    },
    {
      "cell_type": "code",
      "source": [
        "# extract a particular layer\n",
        "model_14.layers[1]"
      ],
      "metadata": {
        "colab": {
          "base_uri": "https://localhost:8080/"
        },
        "id": "epTCVwh0sTm2",
        "outputId": "77e07bd6-581d-4185-f3d2-d4725cb97015"
      },
      "execution_count": 139,
      "outputs": [
        {
          "output_type": "execute_result",
          "data": {
            "text/plain": [
              "<keras.layers.core.dense.Dense at 0x7f129eadb110>"
            ]
          },
          "metadata": {},
          "execution_count": 139
        }
      ]
    },
    {
      "cell_type": "code",
      "source": [
        "# get the patterns of a layer in our network\n",
        "weights, biases = model_14.layers[1].get_weights()\n",
        "\n",
        "#shapes\n",
        "weights, weights.shape"
      ],
      "metadata": {
        "colab": {
          "base_uri": "https://localhost:8080/"
        },
        "id": "MVCcoiK3shf_",
        "outputId": "bc2ab5e6-e81c-4435-8e33-ef8036a2726d"
      },
      "execution_count": 142,
      "outputs": [
        {
          "output_type": "execute_result",
          "data": {
            "text/plain": [
              "(array([[ 0.7150263 , -0.06077093, -0.99763095, -1.0484313 ],\n",
              "        [ 0.2773212 , -0.471554  , -0.52916455,  0.02329255],\n",
              "        [ 0.7752433 ,  0.5402759 , -1.128857  , -0.7426156 ],\n",
              "        ...,\n",
              "        [-0.3945342 ,  0.47628632, -0.2264153 ,  0.2550593 ],\n",
              "        [-0.40515798,  0.61810046,  0.23928414, -0.50387603],\n",
              "        [ 0.23884593,  0.11606961, -0.12131374,  0.04352392]],\n",
              "       dtype=float32), (784, 4))"
            ]
          },
          "metadata": {},
          "execution_count": 142
        }
      ]
    },
    {
      "cell_type": "markdown",
      "source": [
        "Now lets check bias vector"
      ],
      "metadata": {
        "id": "ipSWrGcuuQXi"
      }
    },
    {
      "cell_type": "code",
      "source": [
        "# Bias and biases shapes\n",
        "biases, biases.shape"
      ],
      "metadata": {
        "colab": {
          "base_uri": "https://localhost:8080/"
        },
        "id": "ibp_8B_us9eA",
        "outputId": "ba1767fd-ee99-4bbc-9e04-69201d58eb6c"
      },
      "execution_count": 143,
      "outputs": [
        {
          "output_type": "execute_result",
          "data": {
            "text/plain": [
              "(array([ 2.4485964e-02, -6.1471871e-04, -2.7230152e-01,  8.1124878e-01],\n",
              "       dtype=float32), (4,))"
            ]
          },
          "metadata": {},
          "execution_count": 143
        }
      ]
    },
    {
      "cell_type": "markdown",
      "source": [
        "Every neuron has a bias vector. Each of these is paired with weights matrix.\n",
        "\n",
        "The bias vector get initialized as zers (at least in the case of a Tensorflow Dense layer)\n",
        "\n",
        "The bias vector dictates how much the patterns within the corresponding weights matrix should influence the next layer"
      ],
      "metadata": {
        "id": "YHMhOsEDuiKs"
      }
    },
    {
      "cell_type": "code",
      "source": [
        "model_14.summary"
      ],
      "metadata": {
        "colab": {
          "base_uri": "https://localhost:8080/"
        },
        "id": "worHFGe5uccr",
        "outputId": "4ff76b2c-d55d-462b-e824-8e679ab9a1d5"
      },
      "execution_count": 144,
      "outputs": [
        {
          "output_type": "execute_result",
          "data": {
            "text/plain": [
              "<bound method Model.summary of <keras.engine.sequential.Sequential object at 0x7f129ea05650>>"
            ]
          },
          "metadata": {},
          "execution_count": 144
        }
      ]
    },
    {
      "cell_type": "code",
      "source": [
        "# lets check out another way of viewing our deep learning models\n",
        "from tensorflow.keras.utils import plot_model\n",
        "\n",
        "# see the inputs and outputs of each layer\n",
        "plot_model(model_14, show_shapes=True )"
      ],
      "metadata": {
        "colab": {
          "base_uri": "https://localhost:8080/",
          "height": 533
        },
        "id": "JGNcUpbQvaPf",
        "outputId": "2c5102f9-8a11-40f7-903e-26c5a5f4dcf4"
      },
      "execution_count": 145,
      "outputs": [
        {
          "output_type": "execute_result",
          "data": {
            "text/plain": [
              "<IPython.core.display.Image object>"
            ],
            "image/png": "[encoded data removed]"
          },
          "metadata": {},
          "execution_count": 145
        }
      ]
    },
    {
      "cell_type": "code",
      "source": [
        ""
      ],
      "metadata": {
        "id": "bm8C70pcwPA1"
      },
      "execution_count": null,
      "outputs": []
    }
  ]
}