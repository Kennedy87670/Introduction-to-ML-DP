{
  "nbformat": 4,
  "nbformat_minor": 0,
  "metadata": {
    "colab": {
      "name": "05_transfer_learning_in_tensorflow-part_2_fine_tuning_video.ipynb",
      "provenance": [],
      "collapsed_sections": [],
      "authorship_tag": "ABX9TyO83YArK/xAHJRHxBMAQyu1",
      "include_colab_link": true
    },
    "kernelspec": {
      "name": "python3",
      "display_name": "Python 3"
    },
    "language_info": {
      "name": "python"
    },
    "gpuClass": "standard",
    "accelerator": "GPU"
  },
  "cells": [
    {
      "cell_type": "markdown",
      "metadata": {
        "id": "view-in-github",
        "colab_type": "text"
      },
      "source": [
        "<a href=\"https://colab.research.google.com/github/Kennedy87670/Introduction-to-ML-DP/blob/main/05_transfer_learning_in_tensorflow_part_2_fine_tuning_video.ipynb\" target=\"_parent\"><img src=\"https://colab.research.google.com/assets/colab-badge.svg\" alt=\"Open In Colab\"/></a>"
      ]
    },
    {
      "cell_type": "markdown",
      "source": [
        "# Tranfer learning with Tensorflow part 2: fine-tunning\n",
        "in the previous notebook, we covered transfer learning features extraction, now its time to learn about a new kind of transfer learning: fine-tuning"
      ],
      "metadata": {
        "id": "iEeJ284tBobh"
      }
    },
    {
      "cell_type": "code",
      "source": [
        "# check if we are using a GPU\n",
        "!nvidia-smi"
      ],
      "metadata": {
        "colab": {
          "base_uri": "https://localhost:8080/"
        },
        "id": "MhZai-xVE_x0",
        "outputId": "a82e699b-bc16-441d-9ff0-96d718bc1139"
      },
      "execution_count": 1,
      "outputs": [
        {
          "output_type": "stream",
          "name": "stdout",
          "text": [
            "Sat Jul 23 19:02:35 2022       \n",
            "+-----------------------------------------------------------------------------+\n",
            "| NVIDIA-SMI 460.32.03    Driver Version: 460.32.03    CUDA Version: 11.2     |\n",
            "|-------------------------------+----------------------+----------------------+\n",
            "| GPU  Name        Persistence-M| Bus-Id        Disp.A | Volatile Uncorr. ECC |\n",
            "| Fan  Temp  Perf  Pwr:Usage/Cap|         Memory-Usage | GPU-Util  Compute M. |\n",
            "|                               |                      |               MIG M. |\n",
            "|===============================+======================+======================|\n",
            "|   0  Tesla T4            Off  | 00000000:00:04.0 Off |                    0 |\n",
            "| N/A   46C    P8     9W /  70W |      0MiB / 15109MiB |      0%      Default |\n",
            "|                               |                      |                  N/A |\n",
            "+-------------------------------+----------------------+----------------------+\n",
            "                                                                               \n",
            "+-----------------------------------------------------------------------------+\n",
            "| Processes:                                                                  |\n",
            "|  GPU   GI   CI        PID   Type   Process name                  GPU Memory |\n",
            "|        ID   ID                                                   Usage      |\n",
            "|=============================================================================|\n",
            "|  No running processes found                                                 |\n",
            "+-----------------------------------------------------------------------------+\n"
          ]
        }
      ]
    },
    {
      "cell_type": "markdown",
      "source": [
        "## Creating helper function\n",
        "\n",
        "In previous notebooks, we have created a bunch of helper functions, now we could write them all, however this is tedious\n",
        "\n",
        "So, its a good idea to put functions you will want to use again in a script you can download and import your notebooks (or elsewhere\n",
        "\n",
        "We have done this for some of the functions we have used previously here \n",
        ": https://raw.githubusercontent.com/mrdbourke/tensorflow-deep-learning/main/extras/helper_functions.py"
      ],
      "metadata": {
        "id": "QKDS0syqFJmm"
      }
    },
    {
      "cell_type": "code",
      "source": [
        "!wget https://raw.githubusercontent.com/mrdbourke/tensorflow-deep-learning/main/extras/helper_functions.py"
      ],
      "metadata": {
        "colab": {
          "base_uri": "https://localhost:8080/"
        },
        "id": "hNfXXR-uGBmU",
        "outputId": "1f662aed-a85e-4c2a-f0e2-6134debd8d86"
      },
      "execution_count": 2,
      "outputs": [
        {
          "output_type": "stream",
          "name": "stdout",
          "text": [
            "--2022-07-23 19:02:38--  https://raw.githubusercontent.com/mrdbourke/tensorflow-deep-learning/main/extras/helper_functions.py\n",
            "Resolving raw.githubusercontent.com (raw.githubusercontent.com)... 185.199.110.133, 185.199.108.133, 185.199.111.133, ...\n",
            "Connecting to raw.githubusercontent.com (raw.githubusercontent.com)|185.199.110.133|:443... connected.\n",
            "HTTP request sent, awaiting response... 200 OK\n",
            "Length: 10246 (10K) [text/plain]\n",
            "Saving to: ‘helper_functions.py’\n",
            "\n",
            "helper_functions.py 100%[===================>]  10.01K  --.-KB/s    in 0s      \n",
            "\n",
            "2022-07-23 19:02:38 (70.9 MB/s) - ‘helper_functions.py’ saved [10246/10246]\n",
            "\n"
          ]
        }
      ]
    },
    {
      "cell_type": "code",
      "source": [
        "# Get helper_functions.py script from course GitHub\n",
        "!wget https://raw.githubusercontent.com/mrdbourke/tensorflow-deep-learning/main/extras/helper_functions.py \n",
        "\n",
        "# Import helper functions we're going to use\n",
        "from helper_functions import create_tensorboard_callback, plot_loss_curves, unzip_data, walk_through_dir"
      ],
      "metadata": {
        "colab": {
          "base_uri": "https://localhost:8080/"
        },
        "id": "tyab4WFdGD0W",
        "outputId": "930df393-d125-4a9e-f09d-c969f507e9c7"
      },
      "execution_count": 3,
      "outputs": [
        {
          "output_type": "stream",
          "name": "stdout",
          "text": [
            "--2022-07-23 19:02:38--  https://raw.githubusercontent.com/mrdbourke/tensorflow-deep-learning/main/extras/helper_functions.py\n",
            "Resolving raw.githubusercontent.com (raw.githubusercontent.com)... 185.199.109.133, 185.199.111.133, 185.199.110.133, ...\n",
            "Connecting to raw.githubusercontent.com (raw.githubusercontent.com)|185.199.109.133|:443... connected.\n",
            "HTTP request sent, awaiting response... 200 OK\n",
            "Length: 10246 (10K) [text/plain]\n",
            "Saving to: ‘helper_functions.py.1’\n",
            "\n",
            "\rhelper_functions.py   0%[                    ]       0  --.-KB/s               \rhelper_functions.py 100%[===================>]  10.01K  --.-KB/s    in 0s      \n",
            "\n",
            "2022-07-23 19:02:38 (79.2 MB/s) - ‘helper_functions.py.1’ saved [10246/10246]\n",
            "\n"
          ]
        }
      ]
    },
    {
      "cell_type": "markdown",
      "source": [
        "**Note** if you are running this notebook in GOOGLE COLAB, WHEN it times out colab will delete \"helper_functions.py\", so you will have to redownload it if you want access to the helper functions \n"
      ],
      "metadata": {
        "id": "xik7N2zdG9lS"
      }
    },
    {
      "cell_type": "markdown",
      "source": [
        "# now lets get some data\n",
        "\n",
        "This time we are goingto see how we can use the pretrained models within tf.keras.applications and apply \n",
        "https://www.tensorflow.org/api_docs/python/tf/keras/applications"
      ],
      "metadata": {
        "id": "982dMF3eHbNc"
      }
    },
    {
      "cell_type": "code",
      "source": [
        "# Get 10% of the data of the 10 classes\n",
        "!wget https://storage.googleapis.com/ztm_tf_course/food_vision/10_food_classes_10_percent.zip \n",
        "\n",
        "unzip_data(\"10_food_classes_10_percent.zip\")"
      ],
      "metadata": {
        "colab": {
          "base_uri": "https://localhost:8080/"
        },
        "id": "UrJb7ct2JkfA",
        "outputId": "442de577-8df4-4a8b-d0dc-286dc6045d60"
      },
      "execution_count": 4,
      "outputs": [
        {
          "output_type": "stream",
          "name": "stdout",
          "text": [
            "--2022-07-23 19:02:43--  https://storage.googleapis.com/ztm_tf_course/food_vision/10_food_classes_10_percent.zip\n",
            "Resolving storage.googleapis.com (storage.googleapis.com)... 74.125.24.128, 142.251.10.128, 142.251.12.128, ...\n",
            "Connecting to storage.googleapis.com (storage.googleapis.com)|74.125.24.128|:443... connected.\n",
            "HTTP request sent, awaiting response... 200 OK\n",
            "Length: 168546183 (161M) [application/zip]\n",
            "Saving to: ‘10_food_classes_10_percent.zip’\n",
            "\n",
            "10_food_classes_10_ 100%[===================>] 160.74M   124MB/s    in 1.3s    \n",
            "\n",
            "2022-07-23 19:02:45 (124 MB/s) - ‘10_food_classes_10_percent.zip’ saved [168546183/168546183]\n",
            "\n"
          ]
        }
      ]
    },
    {
      "cell_type": "code",
      "source": [
        "# check out how many images and subdirectories are in our dataset\n",
        "walk_through_dir(\"10_food_classes_10_percent\")"
      ],
      "metadata": {
        "colab": {
          "base_uri": "https://localhost:8080/"
        },
        "id": "9edUZe5qKdVm",
        "outputId": "17505bc6-1f60-4395-f67d-bd7cbe0c7ec2"
      },
      "execution_count": 5,
      "outputs": [
        {
          "output_type": "stream",
          "name": "stdout",
          "text": [
            "There are 2 directories and 0 images in '10_food_classes_10_percent'.\n",
            "There are 10 directories and 0 images in '10_food_classes_10_percent/train'.\n",
            "There are 0 directories and 75 images in '10_food_classes_10_percent/train/ice_cream'.\n",
            "There are 0 directories and 75 images in '10_food_classes_10_percent/train/sushi'.\n",
            "There are 0 directories and 75 images in '10_food_classes_10_percent/train/hamburger'.\n",
            "There are 0 directories and 75 images in '10_food_classes_10_percent/train/ramen'.\n",
            "There are 0 directories and 75 images in '10_food_classes_10_percent/train/chicken_curry'.\n",
            "There are 0 directories and 75 images in '10_food_classes_10_percent/train/steak'.\n",
            "There are 0 directories and 75 images in '10_food_classes_10_percent/train/pizza'.\n",
            "There are 0 directories and 75 images in '10_food_classes_10_percent/train/chicken_wings'.\n",
            "There are 0 directories and 75 images in '10_food_classes_10_percent/train/fried_rice'.\n",
            "There are 0 directories and 75 images in '10_food_classes_10_percent/train/grilled_salmon'.\n",
            "There are 10 directories and 0 images in '10_food_classes_10_percent/test'.\n",
            "There are 0 directories and 250 images in '10_food_classes_10_percent/test/ice_cream'.\n",
            "There are 0 directories and 250 images in '10_food_classes_10_percent/test/sushi'.\n",
            "There are 0 directories and 250 images in '10_food_classes_10_percent/test/hamburger'.\n",
            "There are 0 directories and 250 images in '10_food_classes_10_percent/test/ramen'.\n",
            "There are 0 directories and 250 images in '10_food_classes_10_percent/test/chicken_curry'.\n",
            "There are 0 directories and 250 images in '10_food_classes_10_percent/test/steak'.\n",
            "There are 0 directories and 250 images in '10_food_classes_10_percent/test/pizza'.\n",
            "There are 0 directories and 250 images in '10_food_classes_10_percent/test/chicken_wings'.\n",
            "There are 0 directories and 250 images in '10_food_classes_10_percent/test/fried_rice'.\n",
            "There are 0 directories and 250 images in '10_food_classes_10_percent/test/grilled_salmon'.\n"
          ]
        }
      ]
    },
    {
      "cell_type": "code",
      "source": [
        "# Create training and test directory paths\n",
        "train_dir = \"10_food_classes_10_percent/train\"\n",
        "test_dir = \"10_food_classes_10_percent/test\""
      ],
      "metadata": {
        "id": "47RunU7qOjTX"
      },
      "execution_count": 6,
      "outputs": []
    },
    {
      "cell_type": "code",
      "source": [
        "import tensorflow as tf\n",
        "IMG_SIZE = (224, 224)\n",
        "BATCH_SIZE = 32\n",
        "train_data_10_percent = tf.keras.preprocessing.image_dataset_from_directory(directory = train_dir,\n",
        "                                                                            image_size = IMG_SIZE,\n",
        "                                                                            label_mode= \"categorical\",\n",
        "                                                                            batch_size = BATCH_SIZE)\n",
        "test_data = tf.keras.preprocessing.image_dataset_from_directory(directory = test_dir,\n",
        "                                                                            image_size = IMG_SIZE,\n",
        "                                                                            label_mode= \"categorical\",\n",
        "                                                                            batch_size = BATCH_SIZE)\n"
      ],
      "metadata": {
        "colab": {
          "base_uri": "https://localhost:8080/"
        },
        "id": "BxBAjlIzSpyb",
        "outputId": "eada635d-2fba-4dba-d1ce-5d65de1974e6"
      },
      "execution_count": 7,
      "outputs": [
        {
          "output_type": "stream",
          "name": "stdout",
          "text": [
            "Found 750 files belonging to 10 classes.\n",
            "Found 2500 files belonging to 10 classes.\n"
          ]
        }
      ]
    },
    {
      "cell_type": "code",
      "source": [
        "train_data_10_percent"
      ],
      "metadata": {
        "colab": {
          "base_uri": "https://localhost:8080/"
        },
        "id": "4W_utf0fXDmi",
        "outputId": "462567b0-666b-4f75-ad85-9952c3227dbc"
      },
      "execution_count": 8,
      "outputs": [
        {
          "output_type": "execute_result",
          "data": {
            "text/plain": [
              "<BatchDataset element_spec=(TensorSpec(shape=(None, 224, 224, 3), dtype=tf.float32, name=None), TensorSpec(shape=(None, 10), dtype=tf.float32, name=None))>"
            ]
          },
          "metadata": {},
          "execution_count": 8
        }
      ]
    },
    {
      "cell_type": "code",
      "source": [
        "# check out the class names of our dataset\n",
        "train_data_10_percent.class_names"
      ],
      "metadata": {
        "colab": {
          "base_uri": "https://localhost:8080/"
        },
        "id": "h68t0LyEXQoH",
        "outputId": "b88372f4-0a87-4723-a411-5829f0118240"
      },
      "execution_count": 9,
      "outputs": [
        {
          "output_type": "execute_result",
          "data": {
            "text/plain": [
              "['chicken_curry',\n",
              " 'chicken_wings',\n",
              " 'fried_rice',\n",
              " 'grilled_salmon',\n",
              " 'hamburger',\n",
              " 'ice_cream',\n",
              " 'pizza',\n",
              " 'ramen',\n",
              " 'steak',\n",
              " 'sushi']"
            ]
          },
          "metadata": {},
          "execution_count": 9
        }
      ]
    },
    {
      "cell_type": "code",
      "source": [
        "# see an example of batch\n",
        "for images, labels in train_data_10_percent.take(1):\n",
        "  print(images)"
      ],
      "metadata": {
        "colab": {
          "base_uri": "https://localhost:8080/"
        },
        "id": "0wKV6m42ZiK8",
        "outputId": "e7613e69-2a39-4cb3-a5c1-f4ba7a9f207d"
      },
      "execution_count": 10,
      "outputs": [
        {
          "output_type": "stream",
          "name": "stdout",
          "text": [
            "tf.Tensor(\n",
            "[[[[4.22959185e+00 3.22959185e+00 0.00000000e+00]\n",
            "   [5.00000000e+00 4.00000000e+00 0.00000000e+00]\n",
            "   [4.86224461e+00 3.86224484e+00 0.00000000e+00]\n",
            "   ...\n",
            "   [1.37862274e+02 1.21367401e+02 9.98520508e+01]\n",
            "   [1.69122437e+02 1.55122437e+02 1.27979553e+02]\n",
            "   [1.62530655e+02 1.51530655e+02 1.19530655e+02]]\n",
            "\n",
            "  [[3.04591823e+00 2.04591823e+00 0.00000000e+00]\n",
            "   [4.00000000e+00 3.00000000e+00 0.00000000e+00]\n",
            "   [3.80102015e+00 2.80102015e+00 0.00000000e+00]\n",
            "   ...\n",
            "   [1.75964432e+02 1.59949127e+02 1.35535812e+02]\n",
            "   [1.72555878e+02 1.57759979e+02 1.28693619e+02]\n",
            "   [1.52734940e+02 1.39734940e+02 1.07734932e+02]]\n",
            "\n",
            "  [[3.71938777e+00 2.71938777e+00 0.00000000e+00]\n",
            "   [4.21428585e+00 3.21428585e+00 0.00000000e+00]\n",
            "   [4.16836739e+00 3.16836739e+00 0.00000000e+00]\n",
            "   ...\n",
            "   [1.67765121e+02 1.50122253e+02 1.22673248e+02]\n",
            "   [1.48469437e+02 1.31597015e+02 1.01382683e+02]\n",
            "   [1.54428497e+02 1.39214218e+02 1.06137680e+02]]\n",
            "\n",
            "  ...\n",
            "\n",
            "  [[1.89000000e+02 1.73505112e+02 1.36142807e+02]\n",
            "   [1.89000000e+02 1.73729614e+02 1.35571381e+02]\n",
            "   [1.88785721e+02 1.73831650e+02 1.35857101e+02]\n",
            "   ...\n",
            "   [1.90000000e+02 1.76000000e+02 1.37000000e+02]\n",
            "   [1.91857117e+02 1.78857117e+02 1.36857117e+02]\n",
            "   [1.90637833e+02 1.77637833e+02 1.33637833e+02]]\n",
            "\n",
            "  [[1.87954071e+02 1.72954071e+02 1.31954071e+02]\n",
            "   [1.86933655e+02 1.71933655e+02 1.30933655e+02]\n",
            "   [1.86984695e+02 1.72413269e+02 1.31198975e+02]\n",
            "   ...\n",
            "   [1.89071442e+02 1.75071442e+02 1.36071442e+02]\n",
            "   [1.91923462e+02 1.78923462e+02 1.36923462e+02]\n",
            "   [1.91642914e+02 1.78642914e+02 1.34642914e+02]]\n",
            "\n",
            "  [[1.88586761e+02 1.73586761e+02 1.30586761e+02]\n",
            "   [1.86403091e+02 1.71403091e+02 1.28403091e+02]\n",
            "   [1.87076538e+02 1.72505112e+02 1.29290817e+02]\n",
            "   ...\n",
            "   [1.90357178e+02 1.76357178e+02 1.37357178e+02]\n",
            "   [1.91831604e+02 1.78831604e+02 1.36831604e+02]\n",
            "   [1.90127579e+02 1.77127579e+02 1.33127579e+02]]]\n",
            "\n",
            "\n",
            " [[[1.76244904e+02 1.62244904e+02 1.51959183e+02]\n",
            "   [1.75250000e+02 1.62178574e+02 1.46443878e+02]\n",
            "   [1.74255096e+02 1.61612244e+02 1.39397949e+02]\n",
            "   ...\n",
            "   [1.08964119e+02 1.00178383e+02 6.70968323e+01]\n",
            "   [7.34439163e+01 6.10408478e+01 4.04184570e+01]\n",
            "   [6.48819580e+01 4.78819580e+01 3.91830330e+01]]\n",
            "\n",
            "  [[1.79280624e+02 1.65280624e+02 1.53086731e+02]\n",
            "   [1.70448990e+02 1.57377563e+02 1.40729599e+02]\n",
            "   [1.76632660e+02 1.63989792e+02 1.41775513e+02]\n",
            "   ...\n",
            "   [7.07807541e+01 6.32092781e+01 2.76071968e+01]\n",
            "   [7.17142715e+01 6.25714035e+01 3.38724518e+01]\n",
            "   [6.93924942e+01 5.69893990e+01 3.63670464e+01]]\n",
            "\n",
            "  [[1.69311218e+02 1.56882645e+02 1.43658173e+02]\n",
            "   [1.75336731e+02 1.64265305e+02 1.46408173e+02]\n",
            "   [1.72724487e+02 1.61510208e+02 1.41081635e+02]\n",
            "   ...\n",
            "   [7.38927765e+01 6.78927612e+01 3.70100555e+01]\n",
            "   [8.05306473e+01 7.45306473e+01 4.05306435e+01]\n",
            "   [8.22963486e+01 7.32963486e+01 4.18677788e+01]]\n",
            "\n",
            "  ...\n",
            "\n",
            "  [[2.28519173e+01 1.88519173e+01 1.82804451e+01]\n",
            "   [1.74998684e+01 1.34998684e+01 1.44998684e+01]\n",
            "   [1.46121607e+01 1.06121607e+01 1.16121607e+01]\n",
            "   ...\n",
            "   [3.37652359e+01 2.55509739e+01 2.21224461e+01]\n",
            "   [2.80767193e+01 2.07910748e+01 1.49900322e+01]\n",
            "   [4.19536972e+01 3.55201721e+01 2.73772583e+01]]\n",
            "\n",
            "  [[1.96683712e+01 1.56683722e+01 1.46683722e+01]\n",
            "   [1.44488649e+01 1.04488649e+01 9.44886494e+00]\n",
            "   [1.87448254e+01 1.47448244e+01 1.57448244e+01]\n",
            "   ...\n",
            "   [2.65868397e+01 2.13164425e+01 1.91582508e+01]\n",
            "   [3.88365326e+01 3.38365326e+01 2.79692059e+01]\n",
            "   [2.19438858e+01 1.89438858e+01 9.94388580e+00]]\n",
            "\n",
            "  [[1.95048313e+01 1.55048313e+01 1.45048313e+01]\n",
            "   [1.23521366e+01 8.35213661e+00 7.35213709e+00]\n",
            "   [1.88418846e+01 1.48418837e+01 1.42704554e+01]\n",
            "   ...\n",
            "   [3.11377640e+01 2.51377640e+01 2.61275864e+01]\n",
            "   [2.93369198e+01 2.60052586e+01 2.15256958e+01]\n",
            "   [2.92602692e+01 2.62602692e+01 1.77194729e+01]]]\n",
            "\n",
            "\n",
            " [[[1.60928574e+02 1.60928574e+02 1.69642853e+02]\n",
            "   [1.63214294e+02 1.63214294e+02 1.75122452e+02]\n",
            "   [1.64857147e+02 1.64423462e+02 1.78867355e+02]\n",
            "   ...\n",
            "   [1.74071457e+02 1.56499985e+02 1.42714249e+02]\n",
            "   [1.74311234e+02 1.56311234e+02 1.42311234e+02]\n",
            "   [1.75413284e+02 1.57413284e+02 1.43413284e+02]]\n",
            "\n",
            "  [[1.67500000e+02 1.67428574e+02 1.69714279e+02]\n",
            "   [1.69785721e+02 1.68785721e+02 1.74000000e+02]\n",
            "   [1.71056122e+02 1.71056122e+02 1.79739792e+02]\n",
            "   ...\n",
            "   [1.78857147e+02 1.60857147e+02 1.47285675e+02]\n",
            "   [1.78862244e+02 1.60862244e+02 1.46862244e+02]\n",
            "   [1.79882660e+02 1.62882660e+02 1.46882660e+02]]\n",
            "\n",
            "  [[1.73418365e+02 1.71489792e+02 1.65066330e+02]\n",
            "   [1.75642853e+02 1.74030624e+02 1.69413269e+02]\n",
            "   [1.76642853e+02 1.74857132e+02 1.74954071e+02]\n",
            "   ...\n",
            "   [1.80596924e+02 1.62765289e+02 1.48428543e+02]\n",
            "   [1.81428574e+02 1.64000000e+02 1.48183670e+02]\n",
            "   [1.83214279e+02 1.64214279e+02 1.48785721e+02]]\n",
            "\n",
            "  ...\n",
            "\n",
            "  [[1.94285645e+02 1.38566330e+02 7.50101700e+01]\n",
            "   [1.97857147e+02 1.42857147e+02 7.79285736e+01]\n",
            "   [2.02000015e+02 1.48045959e+02 7.85510101e+01]\n",
            "   ...\n",
            "   [1.99785736e+02 1.81785736e+02 1.67785736e+02]\n",
            "   [1.99801041e+02 1.81801041e+02 1.67801041e+02]\n",
            "   [2.00000000e+02 1.82000000e+02 1.68000000e+02]]\n",
            "\n",
            "  [[1.93382675e+02 1.38428604e+02 7.19540710e+01]\n",
            "   [1.98928604e+02 1.44862274e+02 7.49285736e+01]\n",
            "   [2.03556152e+02 1.51556152e+02 7.80000000e+01]\n",
            "   ...\n",
            "   [2.00056137e+02 1.82056137e+02 1.68056137e+02]\n",
            "   [1.99994904e+02 1.81994904e+02 1.67994904e+02]\n",
            "   [1.98596893e+02 1.80596893e+02 1.66596893e+02]]\n",
            "\n",
            "  [[1.96413284e+02 1.42413284e+02 7.24132767e+01]\n",
            "   [2.02142899e+02 1.48142899e+02 7.55713959e+01]\n",
            "   [2.05142899e+02 1.53785751e+02 7.75714645e+01]\n",
            "   ...\n",
            "   [2.00785736e+02 1.82785736e+02 1.68785736e+02]\n",
            "   [2.00857117e+02 1.82857117e+02 1.68857117e+02]\n",
            "   [1.97642822e+02 1.79642822e+02 1.65642822e+02]]]\n",
            "\n",
            "\n",
            " ...\n",
            "\n",
            "\n",
            " [[[1.71648605e+02 1.69413269e+02 1.58119263e+02]\n",
            "   [1.72491074e+02 1.70427933e+02 1.58617340e+02]\n",
            "   [1.79185577e+02 1.77185577e+02 1.65185577e+02]\n",
            "   ...\n",
            "   [2.04771667e+02 1.48650482e+02 7.47110748e+01]\n",
            "   [2.21585464e+02 1.67711731e+02 9.36485901e+01]\n",
            "   [2.24397308e+02 1.70867966e+02 9.66326370e+01]]\n",
            "\n",
            "  [[1.77438126e+02 1.77686874e+02 1.70616074e+02]\n",
            "   [1.78796555e+02 1.79633926e+02 1.71505096e+02]\n",
            "   [1.83351395e+02 1.84893494e+02 1.74437500e+02]\n",
            "   ...\n",
            "   [2.29057419e+02 1.76985992e+02 1.00985985e+02]\n",
            "   [2.21822067e+02 1.72628830e+02 9.66932373e+01]\n",
            "   [2.21200256e+02 1.72064423e+02 9.61096954e+01]]\n",
            "\n",
            "  [[1.83303574e+02 1.85867996e+02 1.81892853e+02]\n",
            "   [1.84491074e+02 1.87842484e+02 1.81253189e+02]\n",
            "   [1.87393494e+02 1.90688766e+02 1.84242355e+02]\n",
            "   ...\n",
            "   [2.21239807e+02 1.71705994e+02 9.48839340e+01]\n",
            "   [2.28496826e+02 1.79071426e+02 1.02187508e+02]\n",
            "   [2.25626923e+02 1.78198364e+02 1.00412643e+02]]\n",
            "\n",
            "  ...\n",
            "\n",
            "  [[4.64356422e+01 2.74356441e+01 1.08641720e+01]\n",
            "   [4.63572083e+01 2.73572083e+01 1.07857361e+01]\n",
            "   [4.85632019e+01 2.95632000e+01 1.29917269e+01]\n",
            "   ...\n",
            "   [9.44987717e+01 6.04987755e+01 2.54987736e+01]\n",
            "   [9.22142639e+01 5.82142639e+01 2.32142639e+01]\n",
            "   [9.22142639e+01 5.82142639e+01 2.32142639e+01]]\n",
            "\n",
            "  [[5.30714417e+01 3.20714417e+01 1.50714417e+01]\n",
            "   [5.30070152e+01 3.20070152e+01 1.50070162e+01]\n",
            "   [5.31575241e+01 3.21575241e+01 1.51575232e+01]\n",
            "   ...\n",
            "   [9.18182297e+01 5.78182335e+01 2.28182335e+01]\n",
            "   [9.30000000e+01 5.90000000e+01 2.40000000e+01]\n",
            "   [9.30714417e+01 5.90714417e+01 2.40714417e+01]]\n",
            "\n",
            "  [[5.30000000e+01 3.20000000e+01 1.50000000e+01]\n",
            "   [5.26779022e+01 3.16779022e+01 1.46779022e+01]\n",
            "   [5.14731789e+01 3.04731789e+01 1.34731798e+01]\n",
            "   ...\n",
            "   [9.49018860e+01 6.09018860e+01 2.59018860e+01]\n",
            "   [9.30000000e+01 5.90000000e+01 2.40000000e+01]\n",
            "   [9.37735672e+01 5.97735710e+01 2.47735710e+01]]]\n",
            "\n",
            "\n",
            " [[[2.47586731e+02 1.90413269e+02 1.07285721e+02]\n",
            "   [2.46428574e+02 1.90428574e+02 1.07428566e+02]\n",
            "   [2.43928558e+02 1.87938782e+02 1.06862244e+02]\n",
            "   ...\n",
            "   [7.81530457e+01 4.00204430e+01 1.98724689e+01]\n",
            "   [8.14285812e+01 4.58112411e+01 2.24489822e+01]\n",
            "   [7.89030228e+01 4.57448730e+01 1.88468533e+01]]\n",
            "\n",
            "  [[2.43806122e+02 1.90545914e+02 1.08637756e+02]\n",
            "   [2.43275497e+02 1.90000000e+02 1.09857140e+02]\n",
            "   [2.38301010e+02 1.86714294e+02 1.07887756e+02]\n",
            "   ...\n",
            "   [9.00254517e+01 4.47959061e+01 1.63673096e+01]\n",
            "   [8.56428452e+01 4.21428833e+01 1.50765181e+01]\n",
            "   [8.82907867e+01 4.57857819e+01 1.65459499e+01]]\n",
            "\n",
            "  [[2.48061234e+02 1.98494904e+02 1.20704079e+02]\n",
            "   [2.48857147e+02 2.00071426e+02 1.23285713e+02]\n",
            "   [2.44239792e+02 1.96408157e+02 1.20668365e+02]\n",
            "   ...\n",
            "   [1.35458923e+02 8.02650604e+01 4.07191658e+01]\n",
            "   [1.19153015e+02 6.42091599e+01 2.54387665e+01]\n",
            "   [1.10285614e+02 5.69998970e+01 1.93570404e+01]]\n",
            "\n",
            "  ...\n",
            "\n",
            "  [[2.48357147e+02 2.44357147e+02 2.35357147e+02]\n",
            "   [2.47984695e+02 2.43984695e+02 2.34984695e+02]\n",
            "   [2.48954071e+02 2.44954071e+02 2.35954071e+02]\n",
            "   ...\n",
            "   [2.40877548e+02 2.32739822e+02 2.13693924e+02]\n",
            "   [2.41056137e+02 2.33571472e+02 2.17556229e+02]\n",
            "   [2.42000000e+02 2.33785736e+02 2.20357208e+02]]\n",
            "\n",
            "  [[2.46714294e+02 2.42714294e+02 2.33714294e+02]\n",
            "   [2.48071442e+02 2.44071442e+02 2.35071442e+02]\n",
            "   [2.47071442e+02 2.43071442e+02 2.34071442e+02]\n",
            "   ...\n",
            "   [2.42142822e+02 2.34658157e+02 2.18642914e+02]\n",
            "   [2.42928558e+02 2.34790771e+02 2.24066345e+02]\n",
            "   [2.42928558e+02 2.35928558e+02 2.26071442e+02]]\n",
            "\n",
            "  [[2.47158112e+02 2.43158112e+02 2.34158112e+02]\n",
            "   [2.49311157e+02 2.45311157e+02 2.36311157e+02]\n",
            "   [2.46857101e+02 2.42857101e+02 2.33857101e+02]\n",
            "   ...\n",
            "   [2.43209274e+02 2.34995010e+02 2.22127777e+02]\n",
            "   [2.42785797e+02 2.35785797e+02 2.26591995e+02]\n",
            "   [2.43714355e+02 2.36714355e+02 2.30714355e+02]]]\n",
            "\n",
            "\n",
            " [[[4.05663261e+01 3.35663261e+01 6.25510216e+00]\n",
            "   [5.73367348e+01 4.73367348e+01 2.23367367e+01]\n",
            "   [5.69183693e+01 4.69183693e+01 2.19183674e+01]\n",
            "   ...\n",
            "   [3.28571415e+00 5.28571415e+00 6.42857134e-01]\n",
            "   [5.21427250e+00 7.21427250e+00 2.21427250e+00]\n",
            "   [1.69892228e+00 3.69892240e+00 0.00000000e+00]]\n",
            "\n",
            "  [[5.49540825e+01 4.79540825e+01 1.99540806e+01]\n",
            "   [5.50714302e+01 4.80714302e+01 2.20714283e+01]\n",
            "   [6.32704086e+01 5.32704086e+01 2.82704086e+01]\n",
            "   ...\n",
            "   [3.07142854e+00 5.07142830e+00 7.14285374e-02]\n",
            "   [5.07653141e+00 7.07653141e+00 2.07653141e+00]\n",
            "   [3.42850161e+00 5.42850161e+00 7.60166645e-01]]\n",
            "\n",
            "  [[5.72295914e+01 5.02295914e+01 2.22295914e+01]\n",
            "   [6.02142868e+01 5.32142868e+01 2.56428585e+01]\n",
            "   [6.66734695e+01 5.83571434e+01 3.32448959e+01]\n",
            "   ...\n",
            "   [2.42857122e+00 4.42857122e+00 2.14285612e-01]\n",
            "   [4.50001287e+00 6.50001287e+00 1.50001287e+00]\n",
            "   [3.99485540e+00 5.99485540e+00 9.94855464e-01]]\n",
            "\n",
            "  ...\n",
            "\n",
            "  [[1.28204025e+02 1.09204025e+02 3.29897270e+01]\n",
            "   [1.30755096e+02 1.10025505e+02 4.24540634e+01]\n",
            "   [1.30525497e+02 1.08525490e+02 5.00969009e+01]\n",
            "   ...\n",
            "   [1.06785675e+02 8.79999695e+01 1.19999695e+01]\n",
            "   [1.00357117e+02 8.15714111e+01 5.57141113e+00]\n",
            "   [1.01147827e+02 8.07091675e+01 5.21423340e+00]]\n",
            "\n",
            "  [[1.20739754e+02 1.01739754e+02 2.40764771e+01]\n",
            "   [1.29790817e+02 1.09790817e+02 4.05153008e+01]\n",
            "   [1.28056107e+02 1.06785713e+02 4.45969009e+01]\n",
            "   ...\n",
            "   [1.04816338e+02 8.68163376e+01 1.08163376e+01]\n",
            "   [9.89949265e+01 8.09949265e+01 4.99492884e+00]\n",
            "   [9.95459061e+01 8.15000000e+01 5.50000000e+00]]\n",
            "\n",
            "  [[1.21158165e+02 1.02515312e+02 2.24438820e+01]\n",
            "   [1.27000015e+02 1.07071442e+02 3.57143021e+01]\n",
            "   [1.26423477e+02 1.05423485e+02 4.08520546e+01]\n",
            "   ...\n",
            "   [1.03637772e+02 8.76377716e+01 9.63777065e+00]\n",
            "   [9.80255127e+01 8.20255127e+01 4.02551508e+00]\n",
            "   [9.54285278e+01 7.84285278e+01 1.53060603e+00]]]], shape=(32, 224, 224, 3), dtype=float32)\n"
          ]
        }
      ]
    },
    {
      "cell_type": "markdown",
      "source": [
        "\n",
        "## Model 0: Building a transfer learning feature extraction model using keras functional API\n",
        "The sequential API is staright-forward, it runs our layers in sequential order.\n",
        "\n",
        "But the functional API gives us more flexibility with out models https://www.tensorflow.org/guide/keras/functional"
      ],
      "metadata": {
        "id": "pL6eJbZHZ8gA"
      }
    },
    {
      "cell_type": "code",
      "source": [
        "# 1. Create the base model with tf.keras.applications\n",
        "base_model = tf.keras.applications.EfficientNetB0(include_top=False)\n",
        "\n",
        "# 2. Freeze the base model(so the underlying pre-trained patterns arent updated during training)\n",
        "base_model.trainable = False\n",
        "\n",
        "# 3. Create inputs into our model\n",
        "inputs = tf.keras.layers.Input(shape=(224, 224, 3), name = \"input_layer\")\n",
        "\n",
        "# 4. If using a model like  ResNET50V2 you will need to normalize inputs ( you dont for eficientNET)\n",
        "#x = tf.keras.layers.experimental.preprocessing.Rescaling(1./255)(inputs)\n",
        "\n",
        "# 5. Pass the inputs to the base model\n",
        "x = base_model(inputs)\n",
        "print(f\"shape AFter passing inputs through base model: {x.shape}\")\n",
        "\n",
        "# 6. Average pol the outputs of the base model (aggregate all the most important information, reduce number of computations)\n",
        "x =tf.keras.layers.GlobalAveragePooling2D(name =\"global_average_pooling_layer\")(x)\n",
        "print(f\"Shape afer GlobalAveragePooling2D: {x.shape}\")\n",
        "\n",
        "# 7. Create the output activation layer\n",
        "ouputs = tf.keras.layers.Dense(10, activation='softmax', name= 'ouput_layer')(x)\n",
        "\n",
        "# 8. Combine the inputs with the outputs into a model\n",
        "model_0 = tf.keras.Model(inputs, ouputs)\n",
        "\n",
        "#9. Compile the model\n",
        "model_0.compile(loss =\"categorical_crossentropy\",\n",
        "                optimizer = tf.keras.optimizers.Adam(),\n",
        "                metrics = [\"accuracy\"])\n",
        "\n",
        "# 10. Fit the model and save its history\n",
        "history_10_percent = model_0.fit(train_data_10_percent,\n",
        "                                 epochs = 5,\n",
        "                                 steps_per_epoch = len(train_data_10_percent),\n",
        "                                 validation_data = test_data,\n",
        "                                 validation_steps = int(0.25 * len(test_data)),\n",
        "                                 callbacks=[create_tensorboard_callback(dir_name = \"transfer_learning\",\n",
        "                                                                        experiment_name = \"10_percent_feature extraction\")]\n",
        "                                 \n",
        "                                 )"
      ],
      "metadata": {
        "colab": {
          "base_uri": "https://localhost:8080/"
        },
        "id": "78fZOnXFdHr6",
        "outputId": "aad5c8f8-f2c2-4cc2-dfbb-97f3074b00ec"
      },
      "execution_count": 11,
      "outputs": [
        {
          "output_type": "stream",
          "name": "stdout",
          "text": [
            "Downloading data from https://storage.googleapis.com/keras-applications/efficientnetb0_notop.h5\n",
            "16711680/16705208 [==============================] - 0s 0us/step\n",
            "16719872/16705208 [==============================] - 0s 0us/step\n",
            "shape AFter passing inputs through base model: (None, 7, 7, 1280)\n",
            "Shape afer GlobalAveragePooling2D: (None, 1280)\n",
            "Saving TensorBoard log files to: transfer_learning/10_percent_feature extraction/20220723-190254\n",
            "Epoch 1/5\n",
            "24/24 [==============================] - 23s 265ms/step - loss: 1.9250 - accuracy: 0.4120 - val_loss: 1.3655 - val_accuracy: 0.6957\n",
            "Epoch 2/5\n",
            "24/24 [==============================] - 5s 186ms/step - loss: 1.1585 - accuracy: 0.7453 - val_loss: 0.9131 - val_accuracy: 0.8224\n",
            "Epoch 3/5\n",
            "24/24 [==============================] - 5s 186ms/step - loss: 0.8430 - accuracy: 0.8187 - val_loss: 0.7308 - val_accuracy: 0.8569\n",
            "Epoch 4/5\n",
            "24/24 [==============================] - 4s 168ms/step - loss: 0.6900 - accuracy: 0.8467 - val_loss: 0.6703 - val_accuracy: 0.8388\n",
            "Epoch 5/5\n",
            "24/24 [==============================] - 4s 152ms/step - loss: 0.5925 - accuracy: 0.8627 - val_loss: 0.5977 - val_accuracy: 0.8586\n"
          ]
        }
      ]
    },
    {
      "cell_type": "code",
      "source": [
        "# Evaluate on the full test dataset\n",
        "model_0.evaluate(test_data)"
      ],
      "metadata": {
        "colab": {
          "base_uri": "https://localhost:8080/"
        },
        "id": "DyIAnQxRqmG3",
        "outputId": "681ba83f-ac85-4bd4-e912-d2cc3cd4757d"
      },
      "execution_count": 12,
      "outputs": [
        {
          "output_type": "stream",
          "name": "stdout",
          "text": [
            "79/79 [==============================] - 6s 76ms/step - loss: 0.6137 - accuracy: 0.8416\n"
          ]
        },
        {
          "output_type": "execute_result",
          "data": {
            "text/plain": [
              "[0.6136557459831238, 0.8416000008583069]"
            ]
          },
          "metadata": {},
          "execution_count": 12
        }
      ]
    },
    {
      "cell_type": "code",
      "source": [
        "# check the layers in our base model\n",
        "for layer_number, layer in enumerate(base_model.layers):\n",
        "  print(layer_number, layer.name)"
      ],
      "metadata": {
        "id": "fNBNoyNMsdKY",
        "colab": {
          "base_uri": "https://localhost:8080/"
        },
        "outputId": "b1bdc2ac-62fe-4f6c-d8a8-fd8ab5938cbf"
      },
      "execution_count": 13,
      "outputs": [
        {
          "output_type": "stream",
          "name": "stdout",
          "text": [
            "0 input_1\n",
            "1 rescaling\n",
            "2 normalization\n",
            "3 stem_conv_pad\n",
            "4 stem_conv\n",
            "5 stem_bn\n",
            "6 stem_activation\n",
            "7 block1a_dwconv\n",
            "8 block1a_bn\n",
            "9 block1a_activation\n",
            "10 block1a_se_squeeze\n",
            "11 block1a_se_reshape\n",
            "12 block1a_se_reduce\n",
            "13 block1a_se_expand\n",
            "14 block1a_se_excite\n",
            "15 block1a_project_conv\n",
            "16 block1a_project_bn\n",
            "17 block2a_expand_conv\n",
            "18 block2a_expand_bn\n",
            "19 block2a_expand_activation\n",
            "20 block2a_dwconv_pad\n",
            "21 block2a_dwconv\n",
            "22 block2a_bn\n",
            "23 block2a_activation\n",
            "24 block2a_se_squeeze\n",
            "25 block2a_se_reshape\n",
            "26 block2a_se_reduce\n",
            "27 block2a_se_expand\n",
            "28 block2a_se_excite\n",
            "29 block2a_project_conv\n",
            "30 block2a_project_bn\n",
            "31 block2b_expand_conv\n",
            "32 block2b_expand_bn\n",
            "33 block2b_expand_activation\n",
            "34 block2b_dwconv\n",
            "35 block2b_bn\n",
            "36 block2b_activation\n",
            "37 block2b_se_squeeze\n",
            "38 block2b_se_reshape\n",
            "39 block2b_se_reduce\n",
            "40 block2b_se_expand\n",
            "41 block2b_se_excite\n",
            "42 block2b_project_conv\n",
            "43 block2b_project_bn\n",
            "44 block2b_drop\n",
            "45 block2b_add\n",
            "46 block3a_expand_conv\n",
            "47 block3a_expand_bn\n",
            "48 block3a_expand_activation\n",
            "49 block3a_dwconv_pad\n",
            "50 block3a_dwconv\n",
            "51 block3a_bn\n",
            "52 block3a_activation\n",
            "53 block3a_se_squeeze\n",
            "54 block3a_se_reshape\n",
            "55 block3a_se_reduce\n",
            "56 block3a_se_expand\n",
            "57 block3a_se_excite\n",
            "58 block3a_project_conv\n",
            "59 block3a_project_bn\n",
            "60 block3b_expand_conv\n",
            "61 block3b_expand_bn\n",
            "62 block3b_expand_activation\n",
            "63 block3b_dwconv\n",
            "64 block3b_bn\n",
            "65 block3b_activation\n",
            "66 block3b_se_squeeze\n",
            "67 block3b_se_reshape\n",
            "68 block3b_se_reduce\n",
            "69 block3b_se_expand\n",
            "70 block3b_se_excite\n",
            "71 block3b_project_conv\n",
            "72 block3b_project_bn\n",
            "73 block3b_drop\n",
            "74 block3b_add\n",
            "75 block4a_expand_conv\n",
            "76 block4a_expand_bn\n",
            "77 block4a_expand_activation\n",
            "78 block4a_dwconv_pad\n",
            "79 block4a_dwconv\n",
            "80 block4a_bn\n",
            "81 block4a_activation\n",
            "82 block4a_se_squeeze\n",
            "83 block4a_se_reshape\n",
            "84 block4a_se_reduce\n",
            "85 block4a_se_expand\n",
            "86 block4a_se_excite\n",
            "87 block4a_project_conv\n",
            "88 block4a_project_bn\n",
            "89 block4b_expand_conv\n",
            "90 block4b_expand_bn\n",
            "91 block4b_expand_activation\n",
            "92 block4b_dwconv\n",
            "93 block4b_bn\n",
            "94 block4b_activation\n",
            "95 block4b_se_squeeze\n",
            "96 block4b_se_reshape\n",
            "97 block4b_se_reduce\n",
            "98 block4b_se_expand\n",
            "99 block4b_se_excite\n",
            "100 block4b_project_conv\n",
            "101 block4b_project_bn\n",
            "102 block4b_drop\n",
            "103 block4b_add\n",
            "104 block4c_expand_conv\n",
            "105 block4c_expand_bn\n",
            "106 block4c_expand_activation\n",
            "107 block4c_dwconv\n",
            "108 block4c_bn\n",
            "109 block4c_activation\n",
            "110 block4c_se_squeeze\n",
            "111 block4c_se_reshape\n",
            "112 block4c_se_reduce\n",
            "113 block4c_se_expand\n",
            "114 block4c_se_excite\n",
            "115 block4c_project_conv\n",
            "116 block4c_project_bn\n",
            "117 block4c_drop\n",
            "118 block4c_add\n",
            "119 block5a_expand_conv\n",
            "120 block5a_expand_bn\n",
            "121 block5a_expand_activation\n",
            "122 block5a_dwconv\n",
            "123 block5a_bn\n",
            "124 block5a_activation\n",
            "125 block5a_se_squeeze\n",
            "126 block5a_se_reshape\n",
            "127 block5a_se_reduce\n",
            "128 block5a_se_expand\n",
            "129 block5a_se_excite\n",
            "130 block5a_project_conv\n",
            "131 block5a_project_bn\n",
            "132 block5b_expand_conv\n",
            "133 block5b_expand_bn\n",
            "134 block5b_expand_activation\n",
            "135 block5b_dwconv\n",
            "136 block5b_bn\n",
            "137 block5b_activation\n",
            "138 block5b_se_squeeze\n",
            "139 block5b_se_reshape\n",
            "140 block5b_se_reduce\n",
            "141 block5b_se_expand\n",
            "142 block5b_se_excite\n",
            "143 block5b_project_conv\n",
            "144 block5b_project_bn\n",
            "145 block5b_drop\n",
            "146 block5b_add\n",
            "147 block5c_expand_conv\n",
            "148 block5c_expand_bn\n",
            "149 block5c_expand_activation\n",
            "150 block5c_dwconv\n",
            "151 block5c_bn\n",
            "152 block5c_activation\n",
            "153 block5c_se_squeeze\n",
            "154 block5c_se_reshape\n",
            "155 block5c_se_reduce\n",
            "156 block5c_se_expand\n",
            "157 block5c_se_excite\n",
            "158 block5c_project_conv\n",
            "159 block5c_project_bn\n",
            "160 block5c_drop\n",
            "161 block5c_add\n",
            "162 block6a_expand_conv\n",
            "163 block6a_expand_bn\n",
            "164 block6a_expand_activation\n",
            "165 block6a_dwconv_pad\n",
            "166 block6a_dwconv\n",
            "167 block6a_bn\n",
            "168 block6a_activation\n",
            "169 block6a_se_squeeze\n",
            "170 block6a_se_reshape\n",
            "171 block6a_se_reduce\n",
            "172 block6a_se_expand\n",
            "173 block6a_se_excite\n",
            "174 block6a_project_conv\n",
            "175 block6a_project_bn\n",
            "176 block6b_expand_conv\n",
            "177 block6b_expand_bn\n",
            "178 block6b_expand_activation\n",
            "179 block6b_dwconv\n",
            "180 block6b_bn\n",
            "181 block6b_activation\n",
            "182 block6b_se_squeeze\n",
            "183 block6b_se_reshape\n",
            "184 block6b_se_reduce\n",
            "185 block6b_se_expand\n",
            "186 block6b_se_excite\n",
            "187 block6b_project_conv\n",
            "188 block6b_project_bn\n",
            "189 block6b_drop\n",
            "190 block6b_add\n",
            "191 block6c_expand_conv\n",
            "192 block6c_expand_bn\n",
            "193 block6c_expand_activation\n",
            "194 block6c_dwconv\n",
            "195 block6c_bn\n",
            "196 block6c_activation\n",
            "197 block6c_se_squeeze\n",
            "198 block6c_se_reshape\n",
            "199 block6c_se_reduce\n",
            "200 block6c_se_expand\n",
            "201 block6c_se_excite\n",
            "202 block6c_project_conv\n",
            "203 block6c_project_bn\n",
            "204 block6c_drop\n",
            "205 block6c_add\n",
            "206 block6d_expand_conv\n",
            "207 block6d_expand_bn\n",
            "208 block6d_expand_activation\n",
            "209 block6d_dwconv\n",
            "210 block6d_bn\n",
            "211 block6d_activation\n",
            "212 block6d_se_squeeze\n",
            "213 block6d_se_reshape\n",
            "214 block6d_se_reduce\n",
            "215 block6d_se_expand\n",
            "216 block6d_se_excite\n",
            "217 block6d_project_conv\n",
            "218 block6d_project_bn\n",
            "219 block6d_drop\n",
            "220 block6d_add\n",
            "221 block7a_expand_conv\n",
            "222 block7a_expand_bn\n",
            "223 block7a_expand_activation\n",
            "224 block7a_dwconv\n",
            "225 block7a_bn\n",
            "226 block7a_activation\n",
            "227 block7a_se_squeeze\n",
            "228 block7a_se_reshape\n",
            "229 block7a_se_reduce\n",
            "230 block7a_se_expand\n",
            "231 block7a_se_excite\n",
            "232 block7a_project_conv\n",
            "233 block7a_project_bn\n",
            "234 top_conv\n",
            "235 top_bn\n",
            "236 top_activation\n"
          ]
        }
      ]
    },
    {
      "cell_type": "code",
      "source": [
        "# How about we get a summary of the base model?\n",
        "base_model.summary()"
      ],
      "metadata": {
        "colab": {
          "base_uri": "https://localhost:8080/"
        },
        "id": "BHW4KQlAttIH",
        "outputId": "3dbf866a-0eed-419f-84bc-be76a78ca9c5"
      },
      "execution_count": 14,
      "outputs": [
        {
          "output_type": "stream",
          "name": "stdout",
          "text": [
            "Model: \"efficientnetb0\"\n",
            "__________________________________________________________________________________________________\n",
            " Layer (type)                   Output Shape         Param #     Connected to                     \n",
            "==================================================================================================\n",
            " input_1 (InputLayer)           [(None, None, None,  0           []                               \n",
            "                                 3)]                                                              \n",
            "                                                                                                  \n",
            " rescaling (Rescaling)          (None, None, None,   0           ['input_1[0][0]']                \n",
            "                                3)                                                                \n",
            "                                                                                                  \n",
            " normalization (Normalization)  (None, None, None,   7           ['rescaling[0][0]']              \n",
            "                                3)                                                                \n",
            "                                                                                                  \n",
            " stem_conv_pad (ZeroPadding2D)  (None, None, None,   0           ['normalization[0][0]']          \n",
            "                                3)                                                                \n",
            "                                                                                                  \n",
            " stem_conv (Conv2D)             (None, None, None,   864         ['stem_conv_pad[0][0]']          \n",
            "                                32)                                                               \n",
            "                                                                                                  \n",
            " stem_bn (BatchNormalization)   (None, None, None,   128         ['stem_conv[0][0]']              \n",
            "                                32)                                                               \n",
            "                                                                                                  \n",
            " stem_activation (Activation)   (None, None, None,   0           ['stem_bn[0][0]']                \n",
            "                                32)                                                               \n",
            "                                                                                                  \n",
            " block1a_dwconv (DepthwiseConv2  (None, None, None,   288        ['stem_activation[0][0]']        \n",
            " D)                             32)                                                               \n",
            "                                                                                                  \n",
            " block1a_bn (BatchNormalization  (None, None, None,   128        ['block1a_dwconv[0][0]']         \n",
            " )                              32)                                                               \n",
            "                                                                                                  \n",
            " block1a_activation (Activation  (None, None, None,   0          ['block1a_bn[0][0]']             \n",
            " )                              32)                                                               \n",
            "                                                                                                  \n",
            " block1a_se_squeeze (GlobalAver  (None, 32)          0           ['block1a_activation[0][0]']     \n",
            " agePooling2D)                                                                                    \n",
            "                                                                                                  \n",
            " block1a_se_reshape (Reshape)   (None, 1, 1, 32)     0           ['block1a_se_squeeze[0][0]']     \n",
            "                                                                                                  \n",
            " block1a_se_reduce (Conv2D)     (None, 1, 1, 8)      264         ['block1a_se_reshape[0][0]']     \n",
            "                                                                                                  \n",
            " block1a_se_expand (Conv2D)     (None, 1, 1, 32)     288         ['block1a_se_reduce[0][0]']      \n",
            "                                                                                                  \n",
            " block1a_se_excite (Multiply)   (None, None, None,   0           ['block1a_activation[0][0]',     \n",
            "                                32)                               'block1a_se_expand[0][0]']      \n",
            "                                                                                                  \n",
            " block1a_project_conv (Conv2D)  (None, None, None,   512         ['block1a_se_excite[0][0]']      \n",
            "                                16)                                                               \n",
            "                                                                                                  \n",
            " block1a_project_bn (BatchNorma  (None, None, None,   64         ['block1a_project_conv[0][0]']   \n",
            " lization)                      16)                                                               \n",
            "                                                                                                  \n",
            " block2a_expand_conv (Conv2D)   (None, None, None,   1536        ['block1a_project_bn[0][0]']     \n",
            "                                96)                                                               \n",
            "                                                                                                  \n",
            " block2a_expand_bn (BatchNormal  (None, None, None,   384        ['block2a_expand_conv[0][0]']    \n",
            " ization)                       96)                                                               \n",
            "                                                                                                  \n",
            " block2a_expand_activation (Act  (None, None, None,   0          ['block2a_expand_bn[0][0]']      \n",
            " ivation)                       96)                                                               \n",
            "                                                                                                  \n",
            " block2a_dwconv_pad (ZeroPaddin  (None, None, None,   0          ['block2a_expand_activation[0][0]\n",
            " g2D)                           96)                              ']                               \n",
            "                                                                                                  \n",
            " block2a_dwconv (DepthwiseConv2  (None, None, None,   864        ['block2a_dwconv_pad[0][0]']     \n",
            " D)                             96)                                                               \n",
            "                                                                                                  \n",
            " block2a_bn (BatchNormalization  (None, None, None,   384        ['block2a_dwconv[0][0]']         \n",
            " )                              96)                                                               \n",
            "                                                                                                  \n",
            " block2a_activation (Activation  (None, None, None,   0          ['block2a_bn[0][0]']             \n",
            " )                              96)                                                               \n",
            "                                                                                                  \n",
            " block2a_se_squeeze (GlobalAver  (None, 96)          0           ['block2a_activation[0][0]']     \n",
            " agePooling2D)                                                                                    \n",
            "                                                                                                  \n",
            " block2a_se_reshape (Reshape)   (None, 1, 1, 96)     0           ['block2a_se_squeeze[0][0]']     \n",
            "                                                                                                  \n",
            " block2a_se_reduce (Conv2D)     (None, 1, 1, 4)      388         ['block2a_se_reshape[0][0]']     \n",
            "                                                                                                  \n",
            " block2a_se_expand (Conv2D)     (None, 1, 1, 96)     480         ['block2a_se_reduce[0][0]']      \n",
            "                                                                                                  \n",
            " block2a_se_excite (Multiply)   (None, None, None,   0           ['block2a_activation[0][0]',     \n",
            "                                96)                               'block2a_se_expand[0][0]']      \n",
            "                                                                                                  \n",
            " block2a_project_conv (Conv2D)  (None, None, None,   2304        ['block2a_se_excite[0][0]']      \n",
            "                                24)                                                               \n",
            "                                                                                                  \n",
            " block2a_project_bn (BatchNorma  (None, None, None,   96         ['block2a_project_conv[0][0]']   \n",
            " lization)                      24)                                                               \n",
            "                                                                                                  \n",
            " block2b_expand_conv (Conv2D)   (None, None, None,   3456        ['block2a_project_bn[0][0]']     \n",
            "                                144)                                                              \n",
            "                                                                                                  \n",
            " block2b_expand_bn (BatchNormal  (None, None, None,   576        ['block2b_expand_conv[0][0]']    \n",
            " ization)                       144)                                                              \n",
            "                                                                                                  \n",
            " block2b_expand_activation (Act  (None, None, None,   0          ['block2b_expand_bn[0][0]']      \n",
            " ivation)                       144)                                                              \n",
            "                                                                                                  \n",
            " block2b_dwconv (DepthwiseConv2  (None, None, None,   1296       ['block2b_expand_activation[0][0]\n",
            " D)                             144)                             ']                               \n",
            "                                                                                                  \n",
            " block2b_bn (BatchNormalization  (None, None, None,   576        ['block2b_dwconv[0][0]']         \n",
            " )                              144)                                                              \n",
            "                                                                                                  \n",
            " block2b_activation (Activation  (None, None, None,   0          ['block2b_bn[0][0]']             \n",
            " )                              144)                                                              \n",
            "                                                                                                  \n",
            " block2b_se_squeeze (GlobalAver  (None, 144)         0           ['block2b_activation[0][0]']     \n",
            " agePooling2D)                                                                                    \n",
            "                                                                                                  \n",
            " block2b_se_reshape (Reshape)   (None, 1, 1, 144)    0           ['block2b_se_squeeze[0][0]']     \n",
            "                                                                                                  \n",
            " block2b_se_reduce (Conv2D)     (None, 1, 1, 6)      870         ['block2b_se_reshape[0][0]']     \n",
            "                                                                                                  \n",
            " block2b_se_expand (Conv2D)     (None, 1, 1, 144)    1008        ['block2b_se_reduce[0][0]']      \n",
            "                                                                                                  \n",
            " block2b_se_excite (Multiply)   (None, None, None,   0           ['block2b_activation[0][0]',     \n",
            "                                144)                              'block2b_se_expand[0][0]']      \n",
            "                                                                                                  \n",
            " block2b_project_conv (Conv2D)  (None, None, None,   3456        ['block2b_se_excite[0][0]']      \n",
            "                                24)                                                               \n",
            "                                                                                                  \n",
            " block2b_project_bn (BatchNorma  (None, None, None,   96         ['block2b_project_conv[0][0]']   \n",
            " lization)                      24)                                                               \n",
            "                                                                                                  \n",
            " block2b_drop (Dropout)         (None, None, None,   0           ['block2b_project_bn[0][0]']     \n",
            "                                24)                                                               \n",
            "                                                                                                  \n",
            " block2b_add (Add)              (None, None, None,   0           ['block2b_drop[0][0]',           \n",
            "                                24)                               'block2a_project_bn[0][0]']     \n",
            "                                                                                                  \n",
            " block3a_expand_conv (Conv2D)   (None, None, None,   3456        ['block2b_add[0][0]']            \n",
            "                                144)                                                              \n",
            "                                                                                                  \n",
            " block3a_expand_bn (BatchNormal  (None, None, None,   576        ['block3a_expand_conv[0][0]']    \n",
            " ization)                       144)                                                              \n",
            "                                                                                                  \n",
            " block3a_expand_activation (Act  (None, None, None,   0          ['block3a_expand_bn[0][0]']      \n",
            " ivation)                       144)                                                              \n",
            "                                                                                                  \n",
            " block3a_dwconv_pad (ZeroPaddin  (None, None, None,   0          ['block3a_expand_activation[0][0]\n",
            " g2D)                           144)                             ']                               \n",
            "                                                                                                  \n",
            " block3a_dwconv (DepthwiseConv2  (None, None, None,   3600       ['block3a_dwconv_pad[0][0]']     \n",
            " D)                             144)                                                              \n",
            "                                                                                                  \n",
            " block3a_bn (BatchNormalization  (None, None, None,   576        ['block3a_dwconv[0][0]']         \n",
            " )                              144)                                                              \n",
            "                                                                                                  \n",
            " block3a_activation (Activation  (None, None, None,   0          ['block3a_bn[0][0]']             \n",
            " )                              144)                                                              \n",
            "                                                                                                  \n",
            " block3a_se_squeeze (GlobalAver  (None, 144)         0           ['block3a_activation[0][0]']     \n",
            " agePooling2D)                                                                                    \n",
            "                                                                                                  \n",
            " block3a_se_reshape (Reshape)   (None, 1, 1, 144)    0           ['block3a_se_squeeze[0][0]']     \n",
            "                                                                                                  \n",
            " block3a_se_reduce (Conv2D)     (None, 1, 1, 6)      870         ['block3a_se_reshape[0][0]']     \n",
            "                                                                                                  \n",
            " block3a_se_expand (Conv2D)     (None, 1, 1, 144)    1008        ['block3a_se_reduce[0][0]']      \n",
            "                                                                                                  \n",
            " block3a_se_excite (Multiply)   (None, None, None,   0           ['block3a_activation[0][0]',     \n",
            "                                144)                              'block3a_se_expand[0][0]']      \n",
            "                                                                                                  \n",
            " block3a_project_conv (Conv2D)  (None, None, None,   5760        ['block3a_se_excite[0][0]']      \n",
            "                                40)                                                               \n",
            "                                                                                                  \n",
            " block3a_project_bn (BatchNorma  (None, None, None,   160        ['block3a_project_conv[0][0]']   \n",
            " lization)                      40)                                                               \n",
            "                                                                                                  \n",
            " block3b_expand_conv (Conv2D)   (None, None, None,   9600        ['block3a_project_bn[0][0]']     \n",
            "                                240)                                                              \n",
            "                                                                                                  \n",
            " block3b_expand_bn (BatchNormal  (None, None, None,   960        ['block3b_expand_conv[0][0]']    \n",
            " ization)                       240)                                                              \n",
            "                                                                                                  \n",
            " block3b_expand_activation (Act  (None, None, None,   0          ['block3b_expand_bn[0][0]']      \n",
            " ivation)                       240)                                                              \n",
            "                                                                                                  \n",
            " block3b_dwconv (DepthwiseConv2  (None, None, None,   6000       ['block3b_expand_activation[0][0]\n",
            " D)                             240)                             ']                               \n",
            "                                                                                                  \n",
            " block3b_bn (BatchNormalization  (None, None, None,   960        ['block3b_dwconv[0][0]']         \n",
            " )                              240)                                                              \n",
            "                                                                                                  \n",
            " block3b_activation (Activation  (None, None, None,   0          ['block3b_bn[0][0]']             \n",
            " )                              240)                                                              \n",
            "                                                                                                  \n",
            " block3b_se_squeeze (GlobalAver  (None, 240)         0           ['block3b_activation[0][0]']     \n",
            " agePooling2D)                                                                                    \n",
            "                                                                                                  \n",
            " block3b_se_reshape (Reshape)   (None, 1, 1, 240)    0           ['block3b_se_squeeze[0][0]']     \n",
            "                                                                                                  \n",
            " block3b_se_reduce (Conv2D)     (None, 1, 1, 10)     2410        ['block3b_se_reshape[0][0]']     \n",
            "                                                                                                  \n",
            " block3b_se_expand (Conv2D)     (None, 1, 1, 240)    2640        ['block3b_se_reduce[0][0]']      \n",
            "                                                                                                  \n",
            " block3b_se_excite (Multiply)   (None, None, None,   0           ['block3b_activation[0][0]',     \n",
            "                                240)                              'block3b_se_expand[0][0]']      \n",
            "                                                                                                  \n",
            " block3b_project_conv (Conv2D)  (None, None, None,   9600        ['block3b_se_excite[0][0]']      \n",
            "                                40)                                                               \n",
            "                                                                                                  \n",
            " block3b_project_bn (BatchNorma  (None, None, None,   160        ['block3b_project_conv[0][0]']   \n",
            " lization)                      40)                                                               \n",
            "                                                                                                  \n",
            " block3b_drop (Dropout)         (None, None, None,   0           ['block3b_project_bn[0][0]']     \n",
            "                                40)                                                               \n",
            "                                                                                                  \n",
            " block3b_add (Add)              (None, None, None,   0           ['block3b_drop[0][0]',           \n",
            "                                40)                               'block3a_project_bn[0][0]']     \n",
            "                                                                                                  \n",
            " block4a_expand_conv (Conv2D)   (None, None, None,   9600        ['block3b_add[0][0]']            \n",
            "                                240)                                                              \n",
            "                                                                                                  \n",
            " block4a_expand_bn (BatchNormal  (None, None, None,   960        ['block4a_expand_conv[0][0]']    \n",
            " ization)                       240)                                                              \n",
            "                                                                                                  \n",
            " block4a_expand_activation (Act  (None, None, None,   0          ['block4a_expand_bn[0][0]']      \n",
            " ivation)                       240)                                                              \n",
            "                                                                                                  \n",
            " block4a_dwconv_pad (ZeroPaddin  (None, None, None,   0          ['block4a_expand_activation[0][0]\n",
            " g2D)                           240)                             ']                               \n",
            "                                                                                                  \n",
            " block4a_dwconv (DepthwiseConv2  (None, None, None,   2160       ['block4a_dwconv_pad[0][0]']     \n",
            " D)                             240)                                                              \n",
            "                                                                                                  \n",
            " block4a_bn (BatchNormalization  (None, None, None,   960        ['block4a_dwconv[0][0]']         \n",
            " )                              240)                                                              \n",
            "                                                                                                  \n",
            " block4a_activation (Activation  (None, None, None,   0          ['block4a_bn[0][0]']             \n",
            " )                              240)                                                              \n",
            "                                                                                                  \n",
            " block4a_se_squeeze (GlobalAver  (None, 240)         0           ['block4a_activation[0][0]']     \n",
            " agePooling2D)                                                                                    \n",
            "                                                                                                  \n",
            " block4a_se_reshape (Reshape)   (None, 1, 1, 240)    0           ['block4a_se_squeeze[0][0]']     \n",
            "                                                                                                  \n",
            " block4a_se_reduce (Conv2D)     (None, 1, 1, 10)     2410        ['block4a_se_reshape[0][0]']     \n",
            "                                                                                                  \n",
            " block4a_se_expand (Conv2D)     (None, 1, 1, 240)    2640        ['block4a_se_reduce[0][0]']      \n",
            "                                                                                                  \n",
            " block4a_se_excite (Multiply)   (None, None, None,   0           ['block4a_activation[0][0]',     \n",
            "                                240)                              'block4a_se_expand[0][0]']      \n",
            "                                                                                                  \n",
            " block4a_project_conv (Conv2D)  (None, None, None,   19200       ['block4a_se_excite[0][0]']      \n",
            "                                80)                                                               \n",
            "                                                                                                  \n",
            " block4a_project_bn (BatchNorma  (None, None, None,   320        ['block4a_project_conv[0][0]']   \n",
            " lization)                      80)                                                               \n",
            "                                                                                                  \n",
            " block4b_expand_conv (Conv2D)   (None, None, None,   38400       ['block4a_project_bn[0][0]']     \n",
            "                                480)                                                              \n",
            "                                                                                                  \n",
            " block4b_expand_bn (BatchNormal  (None, None, None,   1920       ['block4b_expand_conv[0][0]']    \n",
            " ization)                       480)                                                              \n",
            "                                                                                                  \n",
            " block4b_expand_activation (Act  (None, None, None,   0          ['block4b_expand_bn[0][0]']      \n",
            " ivation)                       480)                                                              \n",
            "                                                                                                  \n",
            " block4b_dwconv (DepthwiseConv2  (None, None, None,   4320       ['block4b_expand_activation[0][0]\n",
            " D)                             480)                             ']                               \n",
            "                                                                                                  \n",
            " block4b_bn (BatchNormalization  (None, None, None,   1920       ['block4b_dwconv[0][0]']         \n",
            " )                              480)                                                              \n",
            "                                                                                                  \n",
            " block4b_activation (Activation  (None, None, None,   0          ['block4b_bn[0][0]']             \n",
            " )                              480)                                                              \n",
            "                                                                                                  \n",
            " block4b_se_squeeze (GlobalAver  (None, 480)         0           ['block4b_activation[0][0]']     \n",
            " agePooling2D)                                                                                    \n",
            "                                                                                                  \n",
            " block4b_se_reshape (Reshape)   (None, 1, 1, 480)    0           ['block4b_se_squeeze[0][0]']     \n",
            "                                                                                                  \n",
            " block4b_se_reduce (Conv2D)     (None, 1, 1, 20)     9620        ['block4b_se_reshape[0][0]']     \n",
            "                                                                                                  \n",
            " block4b_se_expand (Conv2D)     (None, 1, 1, 480)    10080       ['block4b_se_reduce[0][0]']      \n",
            "                                                                                                  \n",
            " block4b_se_excite (Multiply)   (None, None, None,   0           ['block4b_activation[0][0]',     \n",
            "                                480)                              'block4b_se_expand[0][0]']      \n",
            "                                                                                                  \n",
            " block4b_project_conv (Conv2D)  (None, None, None,   38400       ['block4b_se_excite[0][0]']      \n",
            "                                80)                                                               \n",
            "                                                                                                  \n",
            " block4b_project_bn (BatchNorma  (None, None, None,   320        ['block4b_project_conv[0][0]']   \n",
            " lization)                      80)                                                               \n",
            "                                                                                                  \n",
            " block4b_drop (Dropout)         (None, None, None,   0           ['block4b_project_bn[0][0]']     \n",
            "                                80)                                                               \n",
            "                                                                                                  \n",
            " block4b_add (Add)              (None, None, None,   0           ['block4b_drop[0][0]',           \n",
            "                                80)                               'block4a_project_bn[0][0]']     \n",
            "                                                                                                  \n",
            " block4c_expand_conv (Conv2D)   (None, None, None,   38400       ['block4b_add[0][0]']            \n",
            "                                480)                                                              \n",
            "                                                                                                  \n",
            " block4c_expand_bn (BatchNormal  (None, None, None,   1920       ['block4c_expand_conv[0][0]']    \n",
            " ization)                       480)                                                              \n",
            "                                                                                                  \n",
            " block4c_expand_activation (Act  (None, None, None,   0          ['block4c_expand_bn[0][0]']      \n",
            " ivation)                       480)                                                              \n",
            "                                                                                                  \n",
            " block4c_dwconv (DepthwiseConv2  (None, None, None,   4320       ['block4c_expand_activation[0][0]\n",
            " D)                             480)                             ']                               \n",
            "                                                                                                  \n",
            " block4c_bn (BatchNormalization  (None, None, None,   1920       ['block4c_dwconv[0][0]']         \n",
            " )                              480)                                                              \n",
            "                                                                                                  \n",
            " block4c_activation (Activation  (None, None, None,   0          ['block4c_bn[0][0]']             \n",
            " )                              480)                                                              \n",
            "                                                                                                  \n",
            " block4c_se_squeeze (GlobalAver  (None, 480)         0           ['block4c_activation[0][0]']     \n",
            " agePooling2D)                                                                                    \n",
            "                                                                                                  \n",
            " block4c_se_reshape (Reshape)   (None, 1, 1, 480)    0           ['block4c_se_squeeze[0][0]']     \n",
            "                                                                                                  \n",
            " block4c_se_reduce (Conv2D)     (None, 1, 1, 20)     9620        ['block4c_se_reshape[0][0]']     \n",
            "                                                                                                  \n",
            " block4c_se_expand (Conv2D)     (None, 1, 1, 480)    10080       ['block4c_se_reduce[0][0]']      \n",
            "                                                                                                  \n",
            " block4c_se_excite (Multiply)   (None, None, None,   0           ['block4c_activation[0][0]',     \n",
            "                                480)                              'block4c_se_expand[0][0]']      \n",
            "                                                                                                  \n",
            " block4c_project_conv (Conv2D)  (None, None, None,   38400       ['block4c_se_excite[0][0]']      \n",
            "                                80)                                                               \n",
            "                                                                                                  \n",
            " block4c_project_bn (BatchNorma  (None, None, None,   320        ['block4c_project_conv[0][0]']   \n",
            " lization)                      80)                                                               \n",
            "                                                                                                  \n",
            " block4c_drop (Dropout)         (None, None, None,   0           ['block4c_project_bn[0][0]']     \n",
            "                                80)                                                               \n",
            "                                                                                                  \n",
            " block4c_add (Add)              (None, None, None,   0           ['block4c_drop[0][0]',           \n",
            "                                80)                               'block4b_add[0][0]']            \n",
            "                                                                                                  \n",
            " block5a_expand_conv (Conv2D)   (None, None, None,   38400       ['block4c_add[0][0]']            \n",
            "                                480)                                                              \n",
            "                                                                                                  \n",
            " block5a_expand_bn (BatchNormal  (None, None, None,   1920       ['block5a_expand_conv[0][0]']    \n",
            " ization)                       480)                                                              \n",
            "                                                                                                  \n",
            " block5a_expand_activation (Act  (None, None, None,   0          ['block5a_expand_bn[0][0]']      \n",
            " ivation)                       480)                                                              \n",
            "                                                                                                  \n",
            " block5a_dwconv (DepthwiseConv2  (None, None, None,   12000      ['block5a_expand_activation[0][0]\n",
            " D)                             480)                             ']                               \n",
            "                                                                                                  \n",
            " block5a_bn (BatchNormalization  (None, None, None,   1920       ['block5a_dwconv[0][0]']         \n",
            " )                              480)                                                              \n",
            "                                                                                                  \n",
            " block5a_activation (Activation  (None, None, None,   0          ['block5a_bn[0][0]']             \n",
            " )                              480)                                                              \n",
            "                                                                                                  \n",
            " block5a_se_squeeze (GlobalAver  (None, 480)         0           ['block5a_activation[0][0]']     \n",
            " agePooling2D)                                                                                    \n",
            "                                                                                                  \n",
            " block5a_se_reshape (Reshape)   (None, 1, 1, 480)    0           ['block5a_se_squeeze[0][0]']     \n",
            "                                                                                                  \n",
            " block5a_se_reduce (Conv2D)     (None, 1, 1, 20)     9620        ['block5a_se_reshape[0][0]']     \n",
            "                                                                                                  \n",
            " block5a_se_expand (Conv2D)     (None, 1, 1, 480)    10080       ['block5a_se_reduce[0][0]']      \n",
            "                                                                                                  \n",
            " block5a_se_excite (Multiply)   (None, None, None,   0           ['block5a_activation[0][0]',     \n",
            "                                480)                              'block5a_se_expand[0][0]']      \n",
            "                                                                                                  \n",
            " block5a_project_conv (Conv2D)  (None, None, None,   53760       ['block5a_se_excite[0][0]']      \n",
            "                                112)                                                              \n",
            "                                                                                                  \n",
            " block5a_project_bn (BatchNorma  (None, None, None,   448        ['block5a_project_conv[0][0]']   \n",
            " lization)                      112)                                                              \n",
            "                                                                                                  \n",
            " block5b_expand_conv (Conv2D)   (None, None, None,   75264       ['block5a_project_bn[0][0]']     \n",
            "                                672)                                                              \n",
            "                                                                                                  \n",
            " block5b_expand_bn (BatchNormal  (None, None, None,   2688       ['block5b_expand_conv[0][0]']    \n",
            " ization)                       672)                                                              \n",
            "                                                                                                  \n",
            " block5b_expand_activation (Act  (None, None, None,   0          ['block5b_expand_bn[0][0]']      \n",
            " ivation)                       672)                                                              \n",
            "                                                                                                  \n",
            " block5b_dwconv (DepthwiseConv2  (None, None, None,   16800      ['block5b_expand_activation[0][0]\n",
            " D)                             672)                             ']                               \n",
            "                                                                                                  \n",
            " block5b_bn (BatchNormalization  (None, None, None,   2688       ['block5b_dwconv[0][0]']         \n",
            " )                              672)                                                              \n",
            "                                                                                                  \n",
            " block5b_activation (Activation  (None, None, None,   0          ['block5b_bn[0][0]']             \n",
            " )                              672)                                                              \n",
            "                                                                                                  \n",
            " block5b_se_squeeze (GlobalAver  (None, 672)         0           ['block5b_activation[0][0]']     \n",
            " agePooling2D)                                                                                    \n",
            "                                                                                                  \n",
            " block5b_se_reshape (Reshape)   (None, 1, 1, 672)    0           ['block5b_se_squeeze[0][0]']     \n",
            "                                                                                                  \n",
            " block5b_se_reduce (Conv2D)     (None, 1, 1, 28)     18844       ['block5b_se_reshape[0][0]']     \n",
            "                                                                                                  \n",
            " block5b_se_expand (Conv2D)     (None, 1, 1, 672)    19488       ['block5b_se_reduce[0][0]']      \n",
            "                                                                                                  \n",
            " block5b_se_excite (Multiply)   (None, None, None,   0           ['block5b_activation[0][0]',     \n",
            "                                672)                              'block5b_se_expand[0][0]']      \n",
            "                                                                                                  \n",
            " block5b_project_conv (Conv2D)  (None, None, None,   75264       ['block5b_se_excite[0][0]']      \n",
            "                                112)                                                              \n",
            "                                                                                                  \n",
            " block5b_project_bn (BatchNorma  (None, None, None,   448        ['block5b_project_conv[0][0]']   \n",
            " lization)                      112)                                                              \n",
            "                                                                                                  \n",
            " block5b_drop (Dropout)         (None, None, None,   0           ['block5b_project_bn[0][0]']     \n",
            "                                112)                                                              \n",
            "                                                                                                  \n",
            " block5b_add (Add)              (None, None, None,   0           ['block5b_drop[0][0]',           \n",
            "                                112)                              'block5a_project_bn[0][0]']     \n",
            "                                                                                                  \n",
            " block5c_expand_conv (Conv2D)   (None, None, None,   75264       ['block5b_add[0][0]']            \n",
            "                                672)                                                              \n",
            "                                                                                                  \n",
            " block5c_expand_bn (BatchNormal  (None, None, None,   2688       ['block5c_expand_conv[0][0]']    \n",
            " ization)                       672)                                                              \n",
            "                                                                                                  \n",
            " block5c_expand_activation (Act  (None, None, None,   0          ['block5c_expand_bn[0][0]']      \n",
            " ivation)                       672)                                                              \n",
            "                                                                                                  \n",
            " block5c_dwconv (DepthwiseConv2  (None, None, None,   16800      ['block5c_expand_activation[0][0]\n",
            " D)                             672)                             ']                               \n",
            "                                                                                                  \n",
            " block5c_bn (BatchNormalization  (None, None, None,   2688       ['block5c_dwconv[0][0]']         \n",
            " )                              672)                                                              \n",
            "                                                                                                  \n",
            " block5c_activation (Activation  (None, None, None,   0          ['block5c_bn[0][0]']             \n",
            " )                              672)                                                              \n",
            "                                                                                                  \n",
            " block5c_se_squeeze (GlobalAver  (None, 672)         0           ['block5c_activation[0][0]']     \n",
            " agePooling2D)                                                                                    \n",
            "                                                                                                  \n",
            " block5c_se_reshape (Reshape)   (None, 1, 1, 672)    0           ['block5c_se_squeeze[0][0]']     \n",
            "                                                                                                  \n",
            " block5c_se_reduce (Conv2D)     (None, 1, 1, 28)     18844       ['block5c_se_reshape[0][0]']     \n",
            "                                                                                                  \n",
            " block5c_se_expand (Conv2D)     (None, 1, 1, 672)    19488       ['block5c_se_reduce[0][0]']      \n",
            "                                                                                                  \n",
            " block5c_se_excite (Multiply)   (None, None, None,   0           ['block5c_activation[0][0]',     \n",
            "                                672)                              'block5c_se_expand[0][0]']      \n",
            "                                                                                                  \n",
            " block5c_project_conv (Conv2D)  (None, None, None,   75264       ['block5c_se_excite[0][0]']      \n",
            "                                112)                                                              \n",
            "                                                                                                  \n",
            " block5c_project_bn (BatchNorma  (None, None, None,   448        ['block5c_project_conv[0][0]']   \n",
            " lization)                      112)                                                              \n",
            "                                                                                                  \n",
            " block5c_drop (Dropout)         (None, None, None,   0           ['block5c_project_bn[0][0]']     \n",
            "                                112)                                                              \n",
            "                                                                                                  \n",
            " block5c_add (Add)              (None, None, None,   0           ['block5c_drop[0][0]',           \n",
            "                                112)                              'block5b_add[0][0]']            \n",
            "                                                                                                  \n",
            " block6a_expand_conv (Conv2D)   (None, None, None,   75264       ['block5c_add[0][0]']            \n",
            "                                672)                                                              \n",
            "                                                                                                  \n",
            " block6a_expand_bn (BatchNormal  (None, None, None,   2688       ['block6a_expand_conv[0][0]']    \n",
            " ization)                       672)                                                              \n",
            "                                                                                                  \n",
            " block6a_expand_activation (Act  (None, None, None,   0          ['block6a_expand_bn[0][0]']      \n",
            " ivation)                       672)                                                              \n",
            "                                                                                                  \n",
            " block6a_dwconv_pad (ZeroPaddin  (None, None, None,   0          ['block6a_expand_activation[0][0]\n",
            " g2D)                           672)                             ']                               \n",
            "                                                                                                  \n",
            " block6a_dwconv (DepthwiseConv2  (None, None, None,   16800      ['block6a_dwconv_pad[0][0]']     \n",
            " D)                             672)                                                              \n",
            "                                                                                                  \n",
            " block6a_bn (BatchNormalization  (None, None, None,   2688       ['block6a_dwconv[0][0]']         \n",
            " )                              672)                                                              \n",
            "                                                                                                  \n",
            " block6a_activation (Activation  (None, None, None,   0          ['block6a_bn[0][0]']             \n",
            " )                              672)                                                              \n",
            "                                                                                                  \n",
            " block6a_se_squeeze (GlobalAver  (None, 672)         0           ['block6a_activation[0][0]']     \n",
            " agePooling2D)                                                                                    \n",
            "                                                                                                  \n",
            " block6a_se_reshape (Reshape)   (None, 1, 1, 672)    0           ['block6a_se_squeeze[0][0]']     \n",
            "                                                                                                  \n",
            " block6a_se_reduce (Conv2D)     (None, 1, 1, 28)     18844       ['block6a_se_reshape[0][0]']     \n",
            "                                                                                                  \n",
            " block6a_se_expand (Conv2D)     (None, 1, 1, 672)    19488       ['block6a_se_reduce[0][0]']      \n",
            "                                                                                                  \n",
            " block6a_se_excite (Multiply)   (None, None, None,   0           ['block6a_activation[0][0]',     \n",
            "                                672)                              'block6a_se_expand[0][0]']      \n",
            "                                                                                                  \n",
            " block6a_project_conv (Conv2D)  (None, None, None,   129024      ['block6a_se_excite[0][0]']      \n",
            "                                192)                                                              \n",
            "                                                                                                  \n",
            " block6a_project_bn (BatchNorma  (None, None, None,   768        ['block6a_project_conv[0][0]']   \n",
            " lization)                      192)                                                              \n",
            "                                                                                                  \n",
            " block6b_expand_conv (Conv2D)   (None, None, None,   221184      ['block6a_project_bn[0][0]']     \n",
            "                                1152)                                                             \n",
            "                                                                                                  \n",
            " block6b_expand_bn (BatchNormal  (None, None, None,   4608       ['block6b_expand_conv[0][0]']    \n",
            " ization)                       1152)                                                             \n",
            "                                                                                                  \n",
            " block6b_expand_activation (Act  (None, None, None,   0          ['block6b_expand_bn[0][0]']      \n",
            " ivation)                       1152)                                                             \n",
            "                                                                                                  \n",
            " block6b_dwconv (DepthwiseConv2  (None, None, None,   28800      ['block6b_expand_activation[0][0]\n",
            " D)                             1152)                            ']                               \n",
            "                                                                                                  \n",
            " block6b_bn (BatchNormalization  (None, None, None,   4608       ['block6b_dwconv[0][0]']         \n",
            " )                              1152)                                                             \n",
            "                                                                                                  \n",
            " block6b_activation (Activation  (None, None, None,   0          ['block6b_bn[0][0]']             \n",
            " )                              1152)                                                             \n",
            "                                                                                                  \n",
            " block6b_se_squeeze (GlobalAver  (None, 1152)        0           ['block6b_activation[0][0]']     \n",
            " agePooling2D)                                                                                    \n",
            "                                                                                                  \n",
            " block6b_se_reshape (Reshape)   (None, 1, 1, 1152)   0           ['block6b_se_squeeze[0][0]']     \n",
            "                                                                                                  \n",
            " block6b_se_reduce (Conv2D)     (None, 1, 1, 48)     55344       ['block6b_se_reshape[0][0]']     \n",
            "                                                                                                  \n",
            " block6b_se_expand (Conv2D)     (None, 1, 1, 1152)   56448       ['block6b_se_reduce[0][0]']      \n",
            "                                                                                                  \n",
            " block6b_se_excite (Multiply)   (None, None, None,   0           ['block6b_activation[0][0]',     \n",
            "                                1152)                             'block6b_se_expand[0][0]']      \n",
            "                                                                                                  \n",
            " block6b_project_conv (Conv2D)  (None, None, None,   221184      ['block6b_se_excite[0][0]']      \n",
            "                                192)                                                              \n",
            "                                                                                                  \n",
            " block6b_project_bn (BatchNorma  (None, None, None,   768        ['block6b_project_conv[0][0]']   \n",
            " lization)                      192)                                                              \n",
            "                                                                                                  \n",
            " block6b_drop (Dropout)         (None, None, None,   0           ['block6b_project_bn[0][0]']     \n",
            "                                192)                                                              \n",
            "                                                                                                  \n",
            " block6b_add (Add)              (None, None, None,   0           ['block6b_drop[0][0]',           \n",
            "                                192)                              'block6a_project_bn[0][0]']     \n",
            "                                                                                                  \n",
            " block6c_expand_conv (Conv2D)   (None, None, None,   221184      ['block6b_add[0][0]']            \n",
            "                                1152)                                                             \n",
            "                                                                                                  \n",
            " block6c_expand_bn (BatchNormal  (None, None, None,   4608       ['block6c_expand_conv[0][0]']    \n",
            " ization)                       1152)                                                             \n",
            "                                                                                                  \n",
            " block6c_expand_activation (Act  (None, None, None,   0          ['block6c_expand_bn[0][0]']      \n",
            " ivation)                       1152)                                                             \n",
            "                                                                                                  \n",
            " block6c_dwconv (DepthwiseConv2  (None, None, None,   28800      ['block6c_expand_activation[0][0]\n",
            " D)                             1152)                            ']                               \n",
            "                                                                                                  \n",
            " block6c_bn (BatchNormalization  (None, None, None,   4608       ['block6c_dwconv[0][0]']         \n",
            " )                              1152)                                                             \n",
            "                                                                                                  \n",
            " block6c_activation (Activation  (None, None, None,   0          ['block6c_bn[0][0]']             \n",
            " )                              1152)                                                             \n",
            "                                                                                                  \n",
            " block6c_se_squeeze (GlobalAver  (None, 1152)        0           ['block6c_activation[0][0]']     \n",
            " agePooling2D)                                                                                    \n",
            "                                                                                                  \n",
            " block6c_se_reshape (Reshape)   (None, 1, 1, 1152)   0           ['block6c_se_squeeze[0][0]']     \n",
            "                                                                                                  \n",
            " block6c_se_reduce (Conv2D)     (None, 1, 1, 48)     55344       ['block6c_se_reshape[0][0]']     \n",
            "                                                                                                  \n",
            " block6c_se_expand (Conv2D)     (None, 1, 1, 1152)   56448       ['block6c_se_reduce[0][0]']      \n",
            "                                                                                                  \n",
            " block6c_se_excite (Multiply)   (None, None, None,   0           ['block6c_activation[0][0]',     \n",
            "                                1152)                             'block6c_se_expand[0][0]']      \n",
            "                                                                                                  \n",
            " block6c_project_conv (Conv2D)  (None, None, None,   221184      ['block6c_se_excite[0][0]']      \n",
            "                                192)                                                              \n",
            "                                                                                                  \n",
            " block6c_project_bn (BatchNorma  (None, None, None,   768        ['block6c_project_conv[0][0]']   \n",
            " lization)                      192)                                                              \n",
            "                                                                                                  \n",
            " block6c_drop (Dropout)         (None, None, None,   0           ['block6c_project_bn[0][0]']     \n",
            "                                192)                                                              \n",
            "                                                                                                  \n",
            " block6c_add (Add)              (None, None, None,   0           ['block6c_drop[0][0]',           \n",
            "                                192)                              'block6b_add[0][0]']            \n",
            "                                                                                                  \n",
            " block6d_expand_conv (Conv2D)   (None, None, None,   221184      ['block6c_add[0][0]']            \n",
            "                                1152)                                                             \n",
            "                                                                                                  \n",
            " block6d_expand_bn (BatchNormal  (None, None, None,   4608       ['block6d_expand_conv[0][0]']    \n",
            " ization)                       1152)                                                             \n",
            "                                                                                                  \n",
            " block6d_expand_activation (Act  (None, None, None,   0          ['block6d_expand_bn[0][0]']      \n",
            " ivation)                       1152)                                                             \n",
            "                                                                                                  \n",
            " block6d_dwconv (DepthwiseConv2  (None, None, None,   28800      ['block6d_expand_activation[0][0]\n",
            " D)                             1152)                            ']                               \n",
            "                                                                                                  \n",
            " block6d_bn (BatchNormalization  (None, None, None,   4608       ['block6d_dwconv[0][0]']         \n",
            " )                              1152)                                                             \n",
            "                                                                                                  \n",
            " block6d_activation (Activation  (None, None, None,   0          ['block6d_bn[0][0]']             \n",
            " )                              1152)                                                             \n",
            "                                                                                                  \n",
            " block6d_se_squeeze (GlobalAver  (None, 1152)        0           ['block6d_activation[0][0]']     \n",
            " agePooling2D)                                                                                    \n",
            "                                                                                                  \n",
            " block6d_se_reshape (Reshape)   (None, 1, 1, 1152)   0           ['block6d_se_squeeze[0][0]']     \n",
            "                                                                                                  \n",
            " block6d_se_reduce (Conv2D)     (None, 1, 1, 48)     55344       ['block6d_se_reshape[0][0]']     \n",
            "                                                                                                  \n",
            " block6d_se_expand (Conv2D)     (None, 1, 1, 1152)   56448       ['block6d_se_reduce[0][0]']      \n",
            "                                                                                                  \n",
            " block6d_se_excite (Multiply)   (None, None, None,   0           ['block6d_activation[0][0]',     \n",
            "                                1152)                             'block6d_se_expand[0][0]']      \n",
            "                                                                                                  \n",
            " block6d_project_conv (Conv2D)  (None, None, None,   221184      ['block6d_se_excite[0][0]']      \n",
            "                                192)                                                              \n",
            "                                                                                                  \n",
            " block6d_project_bn (BatchNorma  (None, None, None,   768        ['block6d_project_conv[0][0]']   \n",
            " lization)                      192)                                                              \n",
            "                                                                                                  \n",
            " block6d_drop (Dropout)         (None, None, None,   0           ['block6d_project_bn[0][0]']     \n",
            "                                192)                                                              \n",
            "                                                                                                  \n",
            " block6d_add (Add)              (None, None, None,   0           ['block6d_drop[0][0]',           \n",
            "                                192)                              'block6c_add[0][0]']            \n",
            "                                                                                                  \n",
            " block7a_expand_conv (Conv2D)   (None, None, None,   221184      ['block6d_add[0][0]']            \n",
            "                                1152)                                                             \n",
            "                                                                                                  \n",
            " block7a_expand_bn (BatchNormal  (None, None, None,   4608       ['block7a_expand_conv[0][0]']    \n",
            " ization)                       1152)                                                             \n",
            "                                                                                                  \n",
            " block7a_expand_activation (Act  (None, None, None,   0          ['block7a_expand_bn[0][0]']      \n",
            " ivation)                       1152)                                                             \n",
            "                                                                                                  \n",
            " block7a_dwconv (DepthwiseConv2  (None, None, None,   10368      ['block7a_expand_activation[0][0]\n",
            " D)                             1152)                            ']                               \n",
            "                                                                                                  \n",
            " block7a_bn (BatchNormalization  (None, None, None,   4608       ['block7a_dwconv[0][0]']         \n",
            " )                              1152)                                                             \n",
            "                                                                                                  \n",
            " block7a_activation (Activation  (None, None, None,   0          ['block7a_bn[0][0]']             \n",
            " )                              1152)                                                             \n",
            "                                                                                                  \n",
            " block7a_se_squeeze (GlobalAver  (None, 1152)        0           ['block7a_activation[0][0]']     \n",
            " agePooling2D)                                                                                    \n",
            "                                                                                                  \n",
            " block7a_se_reshape (Reshape)   (None, 1, 1, 1152)   0           ['block7a_se_squeeze[0][0]']     \n",
            "                                                                                                  \n",
            " block7a_se_reduce (Conv2D)     (None, 1, 1, 48)     55344       ['block7a_se_reshape[0][0]']     \n",
            "                                                                                                  \n",
            " block7a_se_expand (Conv2D)     (None, 1, 1, 1152)   56448       ['block7a_se_reduce[0][0]']      \n",
            "                                                                                                  \n",
            " block7a_se_excite (Multiply)   (None, None, None,   0           ['block7a_activation[0][0]',     \n",
            "                                1152)                             'block7a_se_expand[0][0]']      \n",
            "                                                                                                  \n",
            " block7a_project_conv (Conv2D)  (None, None, None,   368640      ['block7a_se_excite[0][0]']      \n",
            "                                320)                                                              \n",
            "                                                                                                  \n",
            " block7a_project_bn (BatchNorma  (None, None, None,   1280       ['block7a_project_conv[0][0]']   \n",
            " lization)                      320)                                                              \n",
            "                                                                                                  \n",
            " top_conv (Conv2D)              (None, None, None,   409600      ['block7a_project_bn[0][0]']     \n",
            "                                1280)                                                             \n",
            "                                                                                                  \n",
            " top_bn (BatchNormalization)    (None, None, None,   5120        ['top_conv[0][0]']               \n",
            "                                1280)                                                             \n",
            "                                                                                                  \n",
            " top_activation (Activation)    (None, None, None,   0           ['top_bn[0][0]']                 \n",
            "                                1280)                                                             \n",
            "                                                                                                  \n",
            "==================================================================================================\n",
            "Total params: 4,049,571\n",
            "Trainable params: 0\n",
            "Non-trainable params: 4,049,571\n",
            "__________________________________________________________________________________________________\n"
          ]
        }
      ]
    },
    {
      "cell_type": "code",
      "source": [
        "# summary of our model\n",
        "model_0.summary()"
      ],
      "metadata": {
        "colab": {
          "base_uri": "https://localhost:8080/"
        },
        "id": "6kDMnl2vuP-0",
        "outputId": "49752316-156d-42f0-bdec-b03f8efa6284"
      },
      "execution_count": 15,
      "outputs": [
        {
          "output_type": "stream",
          "name": "stdout",
          "text": [
            "Model: \"model\"\n",
            "_________________________________________________________________\n",
            " Layer (type)                Output Shape              Param #   \n",
            "=================================================================\n",
            " input_layer (InputLayer)    [(None, 224, 224, 3)]     0         \n",
            "                                                                 \n",
            " efficientnetb0 (Functional)  (None, None, None, 1280)  4049571  \n",
            "                                                                 \n",
            " global_average_pooling_laye  (None, 1280)             0         \n",
            " r (GlobalAveragePooling2D)                                      \n",
            "                                                                 \n",
            " ouput_layer (Dense)         (None, 10)                12810     \n",
            "                                                                 \n",
            "=================================================================\n",
            "Total params: 4,062,381\n",
            "Trainable params: 12,810\n",
            "Non-trainable params: 4,049,571\n",
            "_________________________________________________________________\n"
          ]
        }
      ]
    },
    {
      "cell_type": "code",
      "source": [
        "# check out our model training curves\n",
        "plot_loss_curves(history_10_percent)"
      ],
      "metadata": {
        "colab": {
          "base_uri": "https://localhost:8080/",
          "height": 573
        },
        "id": "iuzX6yZJupxb",
        "outputId": "7c9abe80-3a8a-4fed-9f24-e3b934a5b01b"
      },
      "execution_count": 16,
      "outputs": [
        {
          "output_type": "display_data",
          "data": {
            "text/plain": [
              "<Figure size 432x288 with 1 Axes>"
            ],
            "image/png": "[encoded data removed]"
          },
          "metadata": {
            "needs_background": "light"
          }
        },
        {
          "output_type": "display_data",
          "data": {
            "text/plain": [
              "<Figure size 432x288 with 1 Axes>"
            ],
            "image/png": "[encoded data removed]"
          },
          "metadata": {
            "needs_background": "light"
          }
        }
      ]
    },
    {
      "cell_type": "markdown",
      "source": [
        "## Getting  a feature vector from trained model\n",
        "\n",
        "lets demonstrate the global Average Pooling 2D layer...\n",
        "\n",
        "We have a tensor after our model goes through \"base_model\" of shape (None, 7, 7, 1280)...\n",
        "But then whenit passes through GlobalAveragePooling2D, it turns into(None, 1280).\n",
        "\n",
        "lets use a similar shaped tensor of (1, 4, 4, 3) and then pass it to GlobalAveragePooling2D"
      ],
      "metadata": {
        "id": "3L8vW_vswoZa"
      }
    },
    {
      "cell_type": "code",
      "source": [
        "#Define the input shape\n",
        "input_shape = (1, 4, 4, 3)\n",
        "\n",
        "# Create a random tensor\n",
        "tf.random.set_seed(42)\n",
        "input_tensor = tf.random.normal(input_shape)\n",
        "print(f\"Random input tensor: \\n {input_tensor}\\n\")\n",
        "\n",
        "# Pass the random tensor through a global average pooling 2D layer\n",
        "global_average_pooling_tensor = tf.keras.layers.GlobalAveragePooling2D()(input_tensor)\n",
        "print(f\"2D global average pooled random tensor:\\n {global_average_pooling_tensor}\\n\")\n",
        "\n",
        "# Check the shape of the different tensors\n",
        "print(f\"Shape of input tensor: {input_tensor.shape}\")\n",
        "print(f\"Shape pf Global Average Pooled 2D tensor: {global_average_pooling_tensor.shape}\")"
      ],
      "metadata": {
        "colab": {
          "base_uri": "https://localhost:8080/"
        },
        "id": "ZHFixpm4yzBn",
        "outputId": "be2618aa-5788-41a5-9804-4ec91eafa1cd"
      },
      "execution_count": 17,
      "outputs": [
        {
          "output_type": "stream",
          "name": "stdout",
          "text": [
            "Random input tensor: \n",
            " [[[[ 0.3274685  -0.8426258   0.3194337 ]\n",
            "   [-1.4075519  -2.3880599  -1.0392479 ]\n",
            "   [-0.5573232   0.539707    1.6994323 ]\n",
            "   [ 0.28893656 -1.5066116  -0.2645474 ]]\n",
            "\n",
            "  [[-0.59722406 -1.9171132  -0.62044144]\n",
            "   [ 0.8504023  -0.40604794 -3.0258412 ]\n",
            "   [ 0.9058464   0.29855987 -0.22561555]\n",
            "   [-0.7616443  -1.8917141  -0.93847126]]\n",
            "\n",
            "  [[ 0.77852213 -0.47338897  0.97772694]\n",
            "   [ 0.24694404  0.20573747 -0.5256233 ]\n",
            "   [ 0.32410017  0.02545409 -0.10638497]\n",
            "   [-0.6369475   1.1603122   0.2507359 ]]\n",
            "\n",
            "  [[-0.41728503  0.4012578  -1.4145443 ]\n",
            "   [-0.5931857  -1.6617213   0.33567193]\n",
            "   [ 0.10815629  0.23479682 -0.56668764]\n",
            "   [-0.35819843  0.88698614  0.52744764]]]]\n",
            "\n",
            "2D global average pooled random tensor:\n",
            " [[-0.09368646 -0.45840448 -0.2885598 ]]\n",
            "\n",
            "Shape of input tensor: (1, 4, 4, 3)\n",
            "Shape pf Global Average Pooled 2D tensor: (1, 3)\n"
          ]
        }
      ]
    },
    {
      "cell_type": "code",
      "source": [
        "# lets replicate the GlobalAveragePool2D layer\n",
        "tf.reduce_mean(input_tensor, axis=[1, 2])"
      ],
      "metadata": {
        "colab": {
          "base_uri": "https://localhost:8080/"
        },
        "id": "aP9tgBD381Wf",
        "outputId": "5a61e9ee-1df8-458a-c4ed-a9f95d567f50"
      },
      "execution_count": 18,
      "outputs": [
        {
          "output_type": "execute_result",
          "data": {
            "text/plain": [
              "<tf.Tensor: shape=(1, 3), dtype=float32, numpy=array([[-0.09368646, -0.45840448, -0.2885598 ]], dtype=float32)>"
            ]
          },
          "metadata": {},
          "execution_count": 18
        }
      ]
    },
    {
      "cell_type": "markdown",
      "source": [
        "** Try to do the same with the above two cells but this time use GlobalMaxPool2D .... and see what happens.\n",
        "\n",
        "**Note** One of the reasons feature extraction transfer learning is named how it is beacuse what often happens is pretrained model outputs a feature vector (a long tensor of numbers which represents the learned represenatation of the model on a particular sample, in our case, this isthe output of the tf.keras.layers.GlobalAveragePooling2D() LAYER)WHICH CAN THEN BE USED TO EXTRACT PATTERNS OUT FOR OUR OWN SPECIFIC PROBLEM"
      ],
      "metadata": {
        "id": "6six_huT_C4b"
      }
    },
    {
      "cell_type": "markdown",
      "source": [
        "## Running a seriesof transfer learning experiments\n",
        "\n",
        "We have seen  the increadle result transfer learning can get with only 10% of the training dat, but how does it go with 1% of the training data... how about we set up a bunch of experiments to find out:\n",
        "\n",
        "1. \"model_1\" - use feature extraction transfer learning with 1% of the traiing data with data augmentation\n",
        "2. \"model_2\" use feature extraction transfer learning with 10% of the training with data augmentation\n",
        "3. \"model_3\" use fine-tunning transfer learning on 10% of the training data with data augmentation\n",
        "4. 'model_4' use fine-tunning transfer learning on 100% of the training data with data augmentation\n",
        "\n",
        "Note: throughout all experiments the same test dataset will be used to evalute our model.... this ensures consistency across evalution metrics"
      ],
      "metadata": {
        "id": "C5Rud_s3E2JI"
      }
    },
    {
      "cell_type": "markdown",
      "source": [
        "## Getting and preprocessing model_1"
      ],
      "metadata": {
        "id": "tp7tAsHnPTW3"
      }
    },
    {
      "cell_type": "code",
      "source": [
        "# Downlaoa and unzip the data - preprocessed data\n",
        "!wget https://storage.googleapis.com/ztm_tf_course/food_vision/10_food_classes_1_percent.zip\n",
        "unzip_data(\"10_food_classes_1_percent.zip\")"
      ],
      "metadata": {
        "colab": {
          "base_uri": "https://localhost:8080/"
        },
        "id": "Bn-SVhcB_tQM",
        "outputId": "e16f9f45-d8ae-42f2-abbf-6cbde6f3e880"
      },
      "execution_count": 19,
      "outputs": [
        {
          "output_type": "stream",
          "name": "stdout",
          "text": [
            "--2022-07-23 19:03:51--  https://storage.googleapis.com/ztm_tf_course/food_vision/10_food_classes_1_percent.zip\n",
            "Resolving storage.googleapis.com (storage.googleapis.com)... 74.125.24.128, 142.251.10.128, 142.251.12.128, ...\n",
            "Connecting to storage.googleapis.com (storage.googleapis.com)|74.125.24.128|:443... connected.\n",
            "HTTP request sent, awaiting response... 200 OK\n",
            "Length: 133612354 (127M) [application/zip]\n",
            "Saving to: ‘10_food_classes_1_percent.zip’\n",
            "\n",
            "10_food_classes_1_p 100%[===================>] 127.42M  61.5MB/s    in 2.1s    \n",
            "\n",
            "2022-07-23 19:03:54 (61.5 MB/s) - ‘10_food_classes_1_percent.zip’ saved [133612354/133612354]\n",
            "\n"
          ]
        }
      ]
    },
    {
      "cell_type": "code",
      "source": [
        "# create training and test dir\n",
        "train_dir_1_percent =\"10_food_classes_1_percent/train\"\n",
        "test_dir =\"10_food_classes_1_percent/test\""
      ],
      "metadata": {
        "id": "KoT3DcldOYtW"
      },
      "execution_count": 20,
      "outputs": []
    },
    {
      "cell_type": "code",
      "source": [
        "# how many images are we working with?\n",
        "walk_through_dir(\"10_food_classes_1_percent\")\n"
      ],
      "metadata": {
        "colab": {
          "base_uri": "https://localhost:8080/"
        },
        "id": "6sHwOKg6Oy1x",
        "outputId": "d0244ad2-2ce4-475c-b40e-2f67020fdb38"
      },
      "execution_count": 21,
      "outputs": [
        {
          "output_type": "stream",
          "name": "stdout",
          "text": [
            "There are 2 directories and 0 images in '10_food_classes_1_percent'.\n",
            "There are 10 directories and 0 images in '10_food_classes_1_percent/train'.\n",
            "There are 0 directories and 7 images in '10_food_classes_1_percent/train/ice_cream'.\n",
            "There are 0 directories and 7 images in '10_food_classes_1_percent/train/sushi'.\n",
            "There are 0 directories and 7 images in '10_food_classes_1_percent/train/hamburger'.\n",
            "There are 0 directories and 7 images in '10_food_classes_1_percent/train/ramen'.\n",
            "There are 0 directories and 7 images in '10_food_classes_1_percent/train/chicken_curry'.\n",
            "There are 0 directories and 7 images in '10_food_classes_1_percent/train/steak'.\n",
            "There are 0 directories and 7 images in '10_food_classes_1_percent/train/pizza'.\n",
            "There are 0 directories and 7 images in '10_food_classes_1_percent/train/chicken_wings'.\n",
            "There are 0 directories and 7 images in '10_food_classes_1_percent/train/fried_rice'.\n",
            "There are 0 directories and 7 images in '10_food_classes_1_percent/train/grilled_salmon'.\n",
            "There are 10 directories and 0 images in '10_food_classes_1_percent/test'.\n",
            "There are 0 directories and 250 images in '10_food_classes_1_percent/test/ice_cream'.\n",
            "There are 0 directories and 250 images in '10_food_classes_1_percent/test/sushi'.\n",
            "There are 0 directories and 250 images in '10_food_classes_1_percent/test/hamburger'.\n",
            "There are 0 directories and 250 images in '10_food_classes_1_percent/test/ramen'.\n",
            "There are 0 directories and 250 images in '10_food_classes_1_percent/test/chicken_curry'.\n",
            "There are 0 directories and 250 images in '10_food_classes_1_percent/test/steak'.\n",
            "There are 0 directories and 250 images in '10_food_classes_1_percent/test/pizza'.\n",
            "There are 0 directories and 250 images in '10_food_classes_1_percent/test/chicken_wings'.\n",
            "There are 0 directories and 250 images in '10_food_classes_1_percent/test/fried_rice'.\n",
            "There are 0 directories and 250 images in '10_food_classes_1_percent/test/grilled_salmon'.\n"
          ]
        }
      ]
    },
    {
      "cell_type": "code",
      "source": [
        "# Setup data loaders\n",
        "IMG_SIZE = (224, 224)\n",
        "train_data_1_percent = tf.keras.preprocessing.image_dataset_from_directory(train_dir_1_percent,\n",
        "                                                                          label_mode = \"categorical\",\n",
        "                                                                          image_size =IMG_SIZE,\n",
        "                                                                          batch_size = BATCH_SIZE\n",
        "                                                                          )\n",
        "test_data = tf.keras.preprocessing.image_dataset_from_directory(test_dir,\n",
        "                                                                          label_mode = \"categorical\",\n",
        "                                                                          image_size =IMG_SIZE,\n",
        "                                                                          batch_size = BATCH_SIZE\n",
        "                                                                          )"
      ],
      "metadata": {
        "colab": {
          "base_uri": "https://localhost:8080/"
        },
        "id": "xJrm8PnaPJbo",
        "outputId": "84b7fbe4-edd1-441d-f7aa-25cf9fa6c4ff"
      },
      "execution_count": 22,
      "outputs": [
        {
          "output_type": "stream",
          "name": "stdout",
          "text": [
            "Found 70 files belonging to 10 classes.\n",
            "Found 2500 files belonging to 10 classes.\n"
          ]
        }
      ]
    },
    {
      "cell_type": "markdown",
      "source": [
        "## Ading data augumentation right into model\n",
        "\n",
        "To add data augumenatation right into our models, we can use the layers inside:\n",
        "\n",
        "* tf.keras.layers.experimental.preprocessing()\n",
        "We can see the benefits of doing this within the Tensorflow data augmentation documentation\n",
        "\n",
        "Off the top of our heads, after reading the docs, the benefits of using data augmentation inside a model are:\n",
        "* Preprocessing of image (augmenting them) happens on the GPU (much faster) rather than CPU\n",
        "* Image data augmentation only happens during training, so we can still export our model and use it elsewhere."
      ],
      "metadata": {
        "id": "MrMllBEkTsX9"
      }
    },
    {
      "cell_type": "code",
      "source": [
        "import tensorflow as tf\n",
        "from tensorflow import keras\n",
        "from tensorflow.keras import layers\n",
        "from tensorflow.keras.layers.experimental import preprocessing\n",
        "\n",
        "#create data augumentation stage with horizontal flipping, rotations, zooms, etc\n",
        "data_augmentation = keras.Sequential([\n",
        "                                       preprocessing.RandomFlip('horizontal'),\n",
        "                                       preprocessing.RandomRotation(0.2),\n",
        "                                       preprocessing.RandomZoom(0.2),\n",
        "                                       preprocessing.RandomHeight(0.2),\n",
        "                              preprocessing.RandomWidth(0.2),\n",
        "  # preprocessing.Rescaling(1./255) # keep for ResNet50V2, remove for EfficientNetB0\n",
        "], name =\"data_augmentation\")\n",
        "\n"
      ],
      "metadata": {
        "id": "odFGVQQKUzGW"
      },
      "execution_count": 23,
      "outputs": []
    },
    {
      "cell_type": "markdown",
      "source": [
        "### vISUALIZE OUR DATA AUGMENTATION LAYER (and see what happens to our data)"
      ],
      "metadata": {
        "id": "ni2Pum99Yv1r"
      }
    },
    {
      "cell_type": "code",
      "source": [
        "# View a random image\n",
        "import matplotlib.pyplot as plt\n",
        "import matplotlib.image as mpimg\n",
        "import os\n",
        "import random\n",
        "target_class = random.choice(train_data_1_percent.class_names) # choose a random class\n",
        "target_dir = \"10_food_classes_1_percent/train/\" + target_class # create the target directory\n",
        "random_image = random.choice(os.listdir(target_dir)) # choose a random image from target directory\n",
        "random_image_path = target_dir + \"/\" + random_image # create the choosen random image path\n",
        "img = mpimg.imread(random_image_path) # read in the chosen target image\n",
        "plt.imshow(img) # plot the target image\n",
        "plt.title(f\"Original random image from class: {target_class}\")\n",
        "plt.axis(False); # turn off the axes\n",
        "\n",
        "# Augment the image\n",
        "augmented_img = data_augmentation(tf.expand_dims(img, axis=0)) # data augmentation model requires shape (None, height, width, 3)\n",
        "plt.figure()\n",
        "plt.imshow(tf.squeeze(augmented_img)/255.) # requires normalization after augmentation\n",
        "plt.title(f\"Augmented random image from class: {target_class}\")\n",
        "plt.axis(False);"
      ],
      "metadata": {
        "colab": {
          "base_uri": "https://localhost:8080/",
          "height": 511
        },
        "id": "UTyhmT2lUe3G",
        "outputId": "2fad9fa1-c7d7-4aab-e21b-8dff9f60697d"
      },
      "execution_count": 24,
      "outputs": [
        {
          "output_type": "display_data",
          "data": {
            "text/plain": [
              "<Figure size 432x288 with 1 Axes>"
            ],
            "image/png": "[encoded data removed]"
          },
          "metadata": {
            "needs_background": "light"
          }
        },
        {
          "output_type": "display_data",
          "data": {
            "text/plain": [
              "<Figure size 432x288 with 1 Axes>"
            ],
            "image/png": "[encoded data removed]"
          },
          "metadata": {
            "needs_background": "light"
          }
        }
      ]
    },
    {
      "cell_type": "markdown",
      "source": [
        "## Model 1: feature extraction transfer learning on 1% of the data with data augmentation"
      ],
      "metadata": {
        "id": "bkGryF6-cyZQ"
      }
    },
    {
      "cell_type": "code",
      "source": [
        "## setup input shape and base model, freezing the base model layers\n",
        "input_shape= (224, 224, 3)\n",
        "base_model = tf.keras.applications.EfficientNetB0(include_top=False)\n",
        "base_model.trainable = False\n",
        "\n",
        "# create input layers\n",
        "inputs = layers.Input(shape=input_shape, name=\"input_layer\")\n",
        "\n",
        "# add in data augmentation Sequential as a layer\n",
        "x = data_augmentation(inputs)\n",
        "\n",
        "# Give base_model the iput (after augmentation) and dont train it\n",
        "x= base_model(x, training=False)\n",
        "\n",
        "# Pool output feature of the base model\n",
        "x = layers.GlobalMaxPooling2D(name=\"global_average_pooling_layer\")(x)\n",
        "\n",
        "# Put a dense laer on as the output\n",
        "output = layers.Dense(10, activation=\"softmax\", name= \"output_layer\")(x)\n",
        "\n",
        "# make a model with inputs and outputs\n",
        "model_1 = keras.Model(inputs, output)\n",
        "\n",
        "# compile the model\n",
        "model_1.compile(loss = \"categorical_crossentropy\",\n",
        "                optimizer =tf.keras.optimizers.Adam(),\n",
        "                metrics=[\"accuracy\"])\n",
        "\n",
        "# Fit the model\n",
        "history_1_percent = model_1.fit(train_data_1_percent,\n",
        "                                epochs=5,\n",
        "                                steps_per_epoch= len(train_data_1_percent),\n",
        "                                validation_data = test_data,\n",
        "                                validation_steps = int(0.25 * len(test_data)),\n",
        "                                # Track model training logs\n",
        "                                callbacks=[create_tensorboard_callback(dir_name = \"transfer_learning\",\n",
        "                                                                       experiment_name =\"1_percent_data_aug\")]) "
      ],
      "metadata": {
        "colab": {
          "base_uri": "https://localhost:8080/"
        },
        "id": "2UI-Aq4_XPZP",
        "outputId": "06cc5678-2da8-42c6-bd48-c0d07930f791"
      },
      "execution_count": 25,
      "outputs": [
        {
          "output_type": "stream",
          "name": "stdout",
          "text": [
            "Saving TensorBoard log files to: transfer_learning/1_percent_data_aug/20220723-190358\n",
            "Epoch 1/5\n",
            "3/3 [==============================] - 11s 2s/step - loss: 5.9766 - accuracy: 0.0714 - val_loss: 5.0987 - val_accuracy: 0.1168\n",
            "Epoch 2/5\n",
            "3/3 [==============================] - 3s 1s/step - loss: 4.6666 - accuracy: 0.1429 - val_loss: 4.7367 - val_accuracy: 0.1365\n",
            "Epoch 3/5\n",
            "3/3 [==============================] - 4s 2s/step - loss: 4.5189 - accuracy: 0.1571 - val_loss: 4.1129 - val_accuracy: 0.1924\n",
            "Epoch 4/5\n",
            "3/3 [==============================] - 4s 2s/step - loss: 3.6765 - accuracy: 0.2286 - val_loss: 3.6029 - val_accuracy: 0.2253\n",
            "Epoch 5/5\n",
            "3/3 [==============================] - 4s 2s/step - loss: 2.7650 - accuracy: 0.2857 - val_loss: 3.5448 - val_accuracy: 0.2237\n"
          ]
        }
      ]
    },
    {
      "cell_type": "code",
      "source": [
        "#check the summary\n",
        "model_1.summary()"
      ],
      "metadata": {
        "id": "OOTzj8dQqfsW",
        "colab": {
          "base_uri": "https://localhost:8080/"
        },
        "outputId": "e675c28d-1656-4817-c26b-3a450253f848"
      },
      "execution_count": 26,
      "outputs": [
        {
          "output_type": "stream",
          "name": "stdout",
          "text": [
            "Model: \"model_1\"\n",
            "_________________________________________________________________\n",
            " Layer (type)                Output Shape              Param #   \n",
            "=================================================================\n",
            " input_layer (InputLayer)    [(None, 224, 224, 3)]     0         \n",
            "                                                                 \n",
            " data_augmentation (Sequenti  (None, None, None, 3)    0         \n",
            " al)                                                             \n",
            "                                                                 \n",
            " efficientnetb0 (Functional)  (None, None, None, 1280)  4049571  \n",
            "                                                                 \n",
            " global_average_pooling_laye  (None, 1280)             0         \n",
            " r (GlobalMaxPooling2D)                                          \n",
            "                                                                 \n",
            " output_layer (Dense)        (None, 10)                12810     \n",
            "                                                                 \n",
            "=================================================================\n",
            "Total params: 4,062,381\n",
            "Trainable params: 12,810\n",
            "Non-trainable params: 4,049,571\n",
            "_________________________________________________________________\n"
          ]
        }
      ]
    },
    {
      "cell_type": "code",
      "source": [
        "# evaluate on all the test data\n",
        "result_1_percent_data_aug = model_1.evaluate(test_data)"
      ],
      "metadata": {
        "id": "7Eyshy1BdKtg",
        "colab": {
          "base_uri": "https://localhost:8080/"
        },
        "outputId": "efa5c81d-f1d5-41fc-87fa-603783d86041"
      },
      "execution_count": 27,
      "outputs": [
        {
          "output_type": "stream",
          "name": "stdout",
          "text": [
            "79/79 [==============================] - 6s 73ms/step - loss: 3.5765 - accuracy: 0.2172\n"
          ]
        }
      ]
    },
    {
      "cell_type": "code",
      "source": [
        "# how does the model with 1% of the data augmentation loss curves look?\n",
        "plot_loss_curves(history_1_percent)"
      ],
      "metadata": {
        "id": "gnOlxTX7dMVV",
        "colab": {
          "base_uri": "https://localhost:8080/",
          "height": 573
        },
        "outputId": "92f40952-f63f-46b8-8e7d-b043b56fa8b7"
      },
      "execution_count": 28,
      "outputs": [
        {
          "output_type": "display_data",
          "data": {
            "text/plain": [
              "<Figure size 432x288 with 1 Axes>"
            ],
            "image/png": "[encoded data removed]"
          },
          "metadata": {
            "needs_background": "light"
          }
        },
        {
          "output_type": "display_data",
          "data": {
            "text/plain": [
              "<Figure size 432x288 with 1 Axes>"
            ],
            "image/png": "[encoded data removed]"
          },
          "metadata": {
            "needs_background": "light"
          }
        }
      ]
    },
    {
      "cell_type": "markdown",
      "source": [
        "## Model2: Feature extraction transfer learning model with 10% of data and data augmentation"
      ],
      "metadata": {
        "id": "4Fz_iv2rzssL"
      }
    },
    {
      "cell_type": "code",
      "source": [
        "train_data_10_percent = \"10_food_classes_10_percent/train\"\n",
        "test_dir = \"10_food_classes_10_percent/test\""
      ],
      "metadata": {
        "id": "t65wHUtau1kj"
      },
      "execution_count": 29,
      "outputs": []
    },
    {
      "cell_type": "code",
      "source": [
        "# set the data input\n",
        "train_data_10_percent= tf.keras.preprocessing.image_dataset_from_directory(train_dir,\n",
        "                                                                           label_mode=\"categorical\",\n",
        "                                                                           image_size= IMG_SIZE)\n",
        "test_data= tf.keras.preprocessing.image_dataset_from_directory(test_dir,\n",
        "                                                               label_mode=\"categorical\",\n",
        "                                                               image_size=IMG_SIZE)"
      ],
      "metadata": {
        "id": "pvcmbw4b1EJf",
        "colab": {
          "base_uri": "https://localhost:8080/"
        },
        "outputId": "e0ca8fd8-1542-4826-e9de-ad7f39457789"
      },
      "execution_count": 30,
      "outputs": [
        {
          "output_type": "stream",
          "name": "stdout",
          "text": [
            "Found 750 files belonging to 10 classes.\n",
            "Found 2500 files belonging to 10 classes.\n"
          ]
        }
      ]
    },
    {
      "cell_type": "code",
      "source": [
        "# how many images are in our directories?\n",
        "walk_through_dir(\"10_food_classes_10_percent\")"
      ],
      "metadata": {
        "id": "RliT2RHz1wVo",
        "colab": {
          "base_uri": "https://localhost:8080/"
        },
        "outputId": "b27e442b-a689-4740-ef1d-e9c2039c4638"
      },
      "execution_count": 31,
      "outputs": [
        {
          "output_type": "stream",
          "name": "stdout",
          "text": [
            "There are 2 directories and 0 images in '10_food_classes_10_percent'.\n",
            "There are 10 directories and 0 images in '10_food_classes_10_percent/train'.\n",
            "There are 0 directories and 75 images in '10_food_classes_10_percent/train/ice_cream'.\n",
            "There are 0 directories and 75 images in '10_food_classes_10_percent/train/sushi'.\n",
            "There are 0 directories and 75 images in '10_food_classes_10_percent/train/hamburger'.\n",
            "There are 0 directories and 75 images in '10_food_classes_10_percent/train/ramen'.\n",
            "There are 0 directories and 75 images in '10_food_classes_10_percent/train/chicken_curry'.\n",
            "There are 0 directories and 75 images in '10_food_classes_10_percent/train/steak'.\n",
            "There are 0 directories and 75 images in '10_food_classes_10_percent/train/pizza'.\n",
            "There are 0 directories and 75 images in '10_food_classes_10_percent/train/chicken_wings'.\n",
            "There are 0 directories and 75 images in '10_food_classes_10_percent/train/fried_rice'.\n",
            "There are 0 directories and 75 images in '10_food_classes_10_percent/train/grilled_salmon'.\n",
            "There are 10 directories and 0 images in '10_food_classes_10_percent/test'.\n",
            "There are 0 directories and 250 images in '10_food_classes_10_percent/test/ice_cream'.\n",
            "There are 0 directories and 250 images in '10_food_classes_10_percent/test/sushi'.\n",
            "There are 0 directories and 250 images in '10_food_classes_10_percent/test/hamburger'.\n",
            "There are 0 directories and 250 images in '10_food_classes_10_percent/test/ramen'.\n",
            "There are 0 directories and 250 images in '10_food_classes_10_percent/test/chicken_curry'.\n",
            "There are 0 directories and 250 images in '10_food_classes_10_percent/test/steak'.\n",
            "There are 0 directories and 250 images in '10_food_classes_10_percent/test/pizza'.\n",
            "There are 0 directories and 250 images in '10_food_classes_10_percent/test/chicken_wings'.\n",
            "There are 0 directories and 250 images in '10_food_classes_10_percent/test/fried_rice'.\n",
            "There are 0 directories and 250 images in '10_food_classes_10_percent/test/grilled_salmon'.\n"
          ]
        }
      ]
    },
    {
      "cell_type": "markdown",
      "source": [
        " https://keras.io/guides/transfer_learning/"
      ],
      "metadata": {
        "id": "6v2xC34ZHuDH"
      }
    },
    {
      "cell_type": "code",
      "source": [
        "# create model 2 with data augmentation built in\n",
        "from tensorflow import keras\n",
        "from tensorflow.keras import layers\n",
        "from tensorflow.keras.layers.experimental import preprocessing\n",
        "from tensorflow.keras.models import Sequential\n",
        "\n",
        "#create data augumentation stage with horizontal flipping, rotations, zooms, etc\n",
        "data_augmentation = keras.Sequential([\n",
        "                                       preprocessing.RandomFlip('horizontal'),\n",
        "                                       preprocessing.RandomRotation(0.2),\n",
        "                                       preprocessing.RandomZoom(0.2),\n",
        "                                       preprocessing.RandomHeight(0.2),\n",
        "                              preprocessing.RandomWidth(0.2),\n",
        "  # preprocessing.Rescaling(1./255) # keep for ResNet50V2, remove for EfficientNetB0\n",
        "], name =\"data_augmentation\")\n",
        "\n",
        "# setup the input shape to our model \n",
        "input_shape = (224,224, 3)\n",
        "\n",
        "# create a frozen base model (also called the backbone)\n",
        "base_model = tf.keras.applications.EfficientNetV2B0(include_top=False)\n",
        "base_model.trainable = False\n",
        "\n",
        "# create the inputs and outputs (including the layers in between)\n",
        "inputs = layers.Input(shape=input_shape, name=\"input_layer\") \n",
        "x = data_augmentation(inputs) # augment our training images (augmentation)\n",
        "x = base_model(x, training=False) # pass augmented images to base model but keep it in inference mode, this also insures batchnorm layer dont\n",
        "x = layers.GlobalAveragePooling2D(name=\"global_average_pooling_2D\")(x)\n",
        "outputs = layers.Dense(10, activation=\"softmax\", name=\"output_layer\")(x)\n",
        "model_2 =tf.keras.Model(inputs, outputs)\n",
        "\n",
        "\n",
        "# compile the model\n",
        "model_2.compile(loss = \"categorical_crossentropy\",\n",
        "                optimizer =tf.keras.optimizers.Adam(),\n",
        "                metrics=[\"accuracy\"])\n"
      ],
      "metadata": {
        "id": "9VW4mbGW5eaX",
        "colab": {
          "base_uri": "https://localhost:8080/"
        },
        "outputId": "84697324-d068-4e9e-90b9-7b750980611e"
      },
      "execution_count": 32,
      "outputs": [
        {
          "output_type": "stream",
          "name": "stdout",
          "text": [
            "Downloading data from https://storage.googleapis.com/tensorflow/keras-applications/efficientnet_v2/efficientnetv2-b0_notop.h5\n",
            "24281088/24274472 [==============================] - 1s 0us/step\n",
            "24289280/24274472 [==============================] - 1s 0us/step\n"
          ]
        }
      ]
    },
    {
      "cell_type": "markdown",
      "source": [
        "## Creating a modelCheckpoint callback\n",
        "The ModelCheckpoint callback intermediately saves our model(the fullmodel or just the weights) during training. Th is is useful so we can come and start where we left off"
      ],
      "metadata": {
        "id": "FRexZTT2VbJ8"
      }
    },
    {
      "cell_type": "code",
      "source": [
        "# Set checkpoint path \n",
        "checkpoint_path = \"ten_percent_model_checkpoints_weights/checkpoint.ckpt\"\n",
        "\n",
        "# create a ModelCheckpoint callback that saves the model's weights only\n",
        "checkpoint_callback = tf.keras.callbacks.ModelCheckpoint(filepath = checkpoint_path,\n",
        "                                                         save_weights_only=True,\n",
        "                                                         save_best_only=False,\n",
        "                                                         save_freq =\"epoch\", # save every epoch\n",
        "                                                         verbose=1)"
      ],
      "metadata": {
        "id": "fj_vnrVbWzL8"
      },
      "execution_count": 50,
      "outputs": []
    },
    {
      "cell_type": "code",
      "source": [
        "\n",
        "# Fit the model 2 passing it checkpoint\n",
        "initial_epoch = 5\n",
        "history_10_percent_data_aug = model_2.fit(train_data_10_percent,\n",
        "                                epochs=5,\n",
        "                                steps_per_epoch= len(train_data_10_percent),\n",
        "                                validation_data = test_data,\n",
        "                                validation_steps = int(0.25 * len(test_data)),\n",
        "                                # Track model training logs\n",
        "                                callbacks=[create_tensorboard_callback(dir_name = \"transfer_learning\",\n",
        "                                                                       experiment_name =\"10_percent_data_aug\"),\n",
        "                                           checkpoint_callback]) "
      ],
      "metadata": {
        "id": "KvRjN13e6IR2",
        "colab": {
          "base_uri": "https://localhost:8080/"
        },
        "outputId": "81d72d98-2eac-49b5-cc24-bede87b38f6e"
      },
      "execution_count": 51,
      "outputs": [
        {
          "output_type": "stream",
          "name": "stdout",
          "text": [
            "Saving TensorBoard log files to: transfer_learning/10_percent_data_aug/20220723-191339\n",
            "Epoch 1/5\n",
            "24/24 [==============================] - ETA: 0s - loss: 1.6531 - accuracy: 0.5267\n",
            "Epoch 1: saving model to ten_percent_model_checkpoints_weights/checkpoint.ckpt\n",
            "24/24 [==============================] - 23s 666ms/step - loss: 1.6531 - accuracy: 0.5267 - val_loss: 1.2505 - val_accuracy: 0.6645\n",
            "Epoch 2/5\n",
            "24/24 [==============================] - ETA: 0s - loss: 1.2648 - accuracy: 0.6347\n",
            "Epoch 2: saving model to ten_percent_model_checkpoints_weights/checkpoint.ckpt\n",
            "24/24 [==============================] - 11s 449ms/step - loss: 1.2648 - accuracy: 0.6347 - val_loss: 0.9274 - val_accuracy: 0.7171\n",
            "Epoch 3/5\n",
            "24/24 [==============================] - ETA: 0s - loss: 1.0094 - accuracy: 0.7040\n",
            "Epoch 3: saving model to ten_percent_model_checkpoints_weights/checkpoint.ckpt\n",
            "24/24 [==============================] - 11s 448ms/step - loss: 1.0094 - accuracy: 0.7040 - val_loss: 0.7164 - val_accuracy: 0.7796\n",
            "Epoch 4/5\n",
            "24/24 [==============================] - ETA: 0s - loss: 0.8537 - accuracy: 0.7240\n",
            "Epoch 4: saving model to ten_percent_model_checkpoints_weights/checkpoint.ckpt\n",
            "24/24 [==============================] - 11s 424ms/step - loss: 0.8537 - accuracy: 0.7240 - val_loss: 0.6530 - val_accuracy: 0.7895\n",
            "Epoch 5/5\n",
            "24/24 [==============================] - ETA: 0s - loss: 0.7798 - accuracy: 0.7480\n",
            "Epoch 5: saving model to ten_percent_model_checkpoints_weights/checkpoint.ckpt\n",
            "24/24 [==============================] - 11s 428ms/step - loss: 0.7798 - accuracy: 0.7480 - val_loss: 0.5916 - val_accuracy: 0.7977\n"
          ]
        }
      ]
    },
    {
      "cell_type": "code",
      "source": [
        "# what were model_0 results\n",
        "model_0.evaluate(test_data)"
      ],
      "metadata": {
        "colab": {
          "base_uri": "https://localhost:8080/"
        },
        "id": "E0fl-hCTbFsF",
        "outputId": "87779ac8-d297-4c77-e2de-3821808c9362"
      },
      "execution_count": 52,
      "outputs": [
        {
          "output_type": "stream",
          "name": "stdout",
          "text": [
            "79/79 [==============================] - 6s 73ms/step - loss: 0.6137 - accuracy: 0.8416\n"
          ]
        },
        {
          "output_type": "execute_result",
          "data": {
            "text/plain": [
              "[0.6136557459831238, 0.8416000008583069]"
            ]
          },
          "metadata": {},
          "execution_count": 52
        }
      ]
    },
    {
      "cell_type": "code",
      "source": [
        "# check model_2 results on all test_data\n",
        "results_10_percent_data_aug = model_2.evaluate(test_data)\n",
        "results_10_percent_data_aug"
      ],
      "metadata": {
        "colab": {
          "base_uri": "https://localhost:8080/"
        },
        "id": "sV9JULV4ZdSS",
        "outputId": "0619b7d3-fb3f-461d-ed7c-3744972a8ca4"
      },
      "execution_count": 53,
      "outputs": [
        {
          "output_type": "stream",
          "name": "stdout",
          "text": [
            "79/79 [==============================] - 6s 69ms/step - loss: 0.6279 - accuracy: 0.7944\n"
          ]
        },
        {
          "output_type": "execute_result",
          "data": {
            "text/plain": [
              "[0.6279440522193909, 0.7943999767303467]"
            ]
          },
          "metadata": {},
          "execution_count": 53
        }
      ]
    },
    {
      "cell_type": "code",
      "source": [
        "#plot model loss curves\n",
        "plot_loss_curves(history_10_percent_data_aug)"
      ],
      "metadata": {
        "colab": {
          "base_uri": "https://localhost:8080/",
          "height": 573
        },
        "id": "cPvDP_M3bN9p",
        "outputId": "bea93cfe-9fb0-4492-da04-a5a404f2cd09"
      },
      "execution_count": 54,
      "outputs": [
        {
          "output_type": "display_data",
          "data": {
            "text/plain": [
              "<Figure size 432x288 with 1 Axes>"
            ],
            "image/png": "[encoded data removed]"
          },
          "metadata": {
            "needs_background": "light"
          }
        },
        {
          "output_type": "display_data",
          "data": {
            "text/plain": [
              "<Figure size 432x288 with 1 Axes>"
            ],
            "image/png": "[encoded data removed]"
          },
          "metadata": {
            "needs_background": "light"
          }
        }
      ]
    },
    {
      "cell_type": "markdown",
      "source": [
        "### Loading in checkpointed weights\n",
        "\n",
        "Loading in checkpointed weights returns a model to a specific checkpoint\n"
      ],
      "metadata": {
        "id": "aJAbKE42cucg"
      }
    },
    {
      "cell_type": "code",
      "source": [
        "# load in saved model wightsa and evaluate model\n",
        "model_2.load_weights(checkpoint_path)"
      ],
      "metadata": {
        "colab": {
          "base_uri": "https://localhost:8080/"
        },
        "id": "stQaacysi4YH",
        "outputId": "5d0c4080-d098-4849-c113-674c9ec8917d"
      },
      "execution_count": 55,
      "outputs": [
        {
          "output_type": "execute_result",
          "data": {
            "text/plain": [
              "<tensorflow.python.training.tracking.util.CheckpointLoadStatus at 0x7f91cb745c10>"
            ]
          },
          "metadata": {},
          "execution_count": 55
        }
      ]
    },
    {
      "cell_type": "code",
      "source": [
        "#Evalaute model_2 with loaded weights\n",
        "loaded_weights_model_results = model_2.evaluate(test_data)"
      ],
      "metadata": {
        "colab": {
          "base_uri": "https://localhost:8080/"
        },
        "id": "vLpcgejZozSN",
        "outputId": "dc28d716-6053-46b5-dccc-931573de4085"
      },
      "execution_count": 56,
      "outputs": [
        {
          "output_type": "stream",
          "name": "stdout",
          "text": [
            "79/79 [==============================] - 6s 70ms/step - loss: 0.6279 - accuracy: 0.7944\n"
          ]
        }
      ]
    },
    {
      "cell_type": "code",
      "source": [
        "# if the results from our previously evaluated model_2 match the loaded weights, everything has worked!!\n",
        "results_10_percent_data_aug == loaded_weights_model_results"
      ],
      "metadata": {
        "colab": {
          "base_uri": "https://localhost:8080/"
        },
        "id": "Izucn6TEs7u9",
        "outputId": "f35b8bb3-8a5e-4478-d52e-75778b92c89c"
      },
      "execution_count": 57,
      "outputs": [
        {
          "output_type": "execute_result",
          "data": {
            "text/plain": [
              "False"
            ]
          },
          "metadata": {},
          "execution_count": 57
        }
      ]
    },
    {
      "cell_type": "code",
      "source": [
        "# check to see if loaded model result are very close to our previous non-loaed model results\n",
        "\n",
        "import numpy as np\n",
        "np.isclose(np.array(results_10_percent_data_aug), np.array(loaded_weights_model_results))"
      ],
      "metadata": {
        "colab": {
          "base_uri": "https://localhost:8080/"
        },
        "id": "qwxjMP3UthXG",
        "outputId": "68abc2e0-ac70-46dc-e5ef-fc923a89089e"
      },
      "execution_count": 58,
      "outputs": [
        {
          "output_type": "execute_result",
          "data": {
            "text/plain": [
              "array([ True,  True])"
            ]
          },
          "metadata": {},
          "execution_count": 58
        }
      ]
    },
    {
      "cell_type": "code",
      "source": [
        "# check the difference between two results \n",
        "print(np.array(results_10_percent_data_aug) - np.array(loaded_weights_model_results) ) "
      ],
      "metadata": {
        "colab": {
          "base_uri": "https://localhost:8080/"
        },
        "id": "FMyIcr4cuGTF",
        "outputId": "9504948c-77d9-45cb-af73-783da0bdb8e7"
      },
      "execution_count": 59,
      "outputs": [
        {
          "output_type": "stream",
          "name": "stdout",
          "text": [
            "[1.1920929e-07 0.0000000e+00]\n"
          ]
        }
      ]
    },
    {
      "cell_type": "markdown",
      "source": [
        "## Model 3: Fine tunning are existing model on 10% of the data \n",
        "\n",
        "**Note** Fine-tunning usually works best after trainig a feature extraction model for a few epochs with large amount of custom data"
      ],
      "metadata": {
        "id": "2YjQkdMBugiC"
      }
    },
    {
      "cell_type": "code",
      "source": [
        "# layers in loaded model \n",
        "model_2.layers"
      ],
      "metadata": {
        "colab": {
          "base_uri": "https://localhost:8080/"
        },
        "id": "5PtphW1Hw4OQ",
        "outputId": "672308df-3ca1-404d-f453-33b4c3be4e87"
      },
      "execution_count": 60,
      "outputs": [
        {
          "output_type": "execute_result",
          "data": {
            "text/plain": [
              "[<keras.engine.input_layer.InputLayer at 0x7f9362398dd0>,\n",
              " <keras.engine.sequential.Sequential at 0x7f9362c11d10>,\n",
              " <keras.engine.functional.Functional at 0x7f9361d90a10>,\n",
              " <keras.layers.pooling.GlobalAveragePooling2D at 0x7f9338fd6650>,\n",
              " <keras.layers.core.dense.Dense at 0x7f93f63df850>]"
            ]
          },
          "metadata": {},
          "execution_count": 60
        }
      ]
    },
    {
      "cell_type": "code",
      "source": [
        "# Are these layers trainable?\n",
        "for layer in model_2.layers:\n",
        "  print(layer, layer.trainable)"
      ],
      "metadata": {
        "colab": {
          "base_uri": "https://localhost:8080/"
        },
        "id": "UBIEiqp6ybDY",
        "outputId": "1250974c-54ac-4ea5-89a6-5fd76bb962ec"
      },
      "execution_count": 61,
      "outputs": [
        {
          "output_type": "stream",
          "name": "stdout",
          "text": [
            "<keras.engine.input_layer.InputLayer object at 0x7f9362398dd0> True\n",
            "<keras.engine.sequential.Sequential object at 0x7f9362c11d10> True\n",
            "<keras.engine.functional.Functional object at 0x7f9361d90a10> True\n",
            "<keras.layers.pooling.GlobalAveragePooling2D object at 0x7f9338fd6650> True\n",
            "<keras.layers.core.dense.Dense object at 0x7f93f63df850> True\n"
          ]
        }
      ]
    },
    {
      "cell_type": "code",
      "source": [
        "# what layers are in our base_model (EfficientNetB0) and are they trainable\n",
        "for i , layer in enumerate(model_2.layers[2].layers):\n",
        "  print(i, layer.name, layer.trainable)"
      ],
      "metadata": {
        "colab": {
          "base_uri": "https://localhost:8080/"
        },
        "id": "geFOSyzJ16Yw",
        "outputId": "b49b1b10-987f-4b0a-ea0e-a663a76fc247"
      },
      "execution_count": 62,
      "outputs": [
        {
          "output_type": "stream",
          "name": "stdout",
          "text": [
            "0 input_3 False\n",
            "1 rescaling_2 False\n",
            "2 normalization_2 False\n",
            "3 stem_conv False\n",
            "4 stem_bn False\n",
            "5 stem_activation False\n",
            "6 block1a_project_conv False\n",
            "7 block1a_project_bn False\n",
            "8 block1a_project_activation False\n",
            "9 block2a_expand_conv False\n",
            "10 block2a_expand_bn False\n",
            "11 block2a_expand_activation False\n",
            "12 block2a_project_conv False\n",
            "13 block2a_project_bn False\n",
            "14 block2b_expand_conv False\n",
            "15 block2b_expand_bn False\n",
            "16 block2b_expand_activation False\n",
            "17 block2b_project_conv False\n",
            "18 block2b_project_bn False\n",
            "19 block2b_add False\n",
            "20 block3a_expand_conv False\n",
            "21 block3a_expand_bn False\n",
            "22 block3a_expand_activation False\n",
            "23 block3a_project_conv False\n",
            "24 block3a_project_bn False\n",
            "25 block3b_expand_conv False\n",
            "26 block3b_expand_bn False\n",
            "27 block3b_expand_activation False\n",
            "28 block3b_project_conv False\n",
            "29 block3b_project_bn False\n",
            "30 block3b_add False\n",
            "31 block4a_expand_conv False\n",
            "32 block4a_expand_bn False\n",
            "33 block4a_expand_activation False\n",
            "34 block4a_dwconv2 False\n",
            "35 block4a_bn False\n",
            "36 block4a_activation False\n",
            "37 block4a_se_squeeze False\n",
            "38 block4a_se_reshape False\n",
            "39 block4a_se_reduce False\n",
            "40 block4a_se_expand False\n",
            "41 block4a_se_excite False\n",
            "42 block4a_project_conv False\n",
            "43 block4a_project_bn False\n",
            "44 block4b_expand_conv False\n",
            "45 block4b_expand_bn False\n",
            "46 block4b_expand_activation False\n",
            "47 block4b_dwconv2 False\n",
            "48 block4b_bn False\n",
            "49 block4b_activation False\n",
            "50 block4b_se_squeeze False\n",
            "51 block4b_se_reshape False\n",
            "52 block4b_se_reduce False\n",
            "53 block4b_se_expand False\n",
            "54 block4b_se_excite False\n",
            "55 block4b_project_conv False\n",
            "56 block4b_project_bn False\n",
            "57 block4b_add False\n",
            "58 block4c_expand_conv False\n",
            "59 block4c_expand_bn False\n",
            "60 block4c_expand_activation False\n",
            "61 block4c_dwconv2 False\n",
            "62 block4c_bn False\n",
            "63 block4c_activation False\n",
            "64 block4c_se_squeeze False\n",
            "65 block4c_se_reshape False\n",
            "66 block4c_se_reduce False\n",
            "67 block4c_se_expand False\n",
            "68 block4c_se_excite False\n",
            "69 block4c_project_conv False\n",
            "70 block4c_project_bn False\n",
            "71 block4c_add False\n",
            "72 block5a_expand_conv False\n",
            "73 block5a_expand_bn False\n",
            "74 block5a_expand_activation False\n",
            "75 block5a_dwconv2 False\n",
            "76 block5a_bn False\n",
            "77 block5a_activation False\n",
            "78 block5a_se_squeeze False\n",
            "79 block5a_se_reshape False\n",
            "80 block5a_se_reduce False\n",
            "81 block5a_se_expand False\n",
            "82 block5a_se_excite False\n",
            "83 block5a_project_conv False\n",
            "84 block5a_project_bn False\n",
            "85 block5b_expand_conv False\n",
            "86 block5b_expand_bn False\n",
            "87 block5b_expand_activation False\n",
            "88 block5b_dwconv2 False\n",
            "89 block5b_bn False\n",
            "90 block5b_activation False\n",
            "91 block5b_se_squeeze False\n",
            "92 block5b_se_reshape False\n",
            "93 block5b_se_reduce False\n",
            "94 block5b_se_expand False\n",
            "95 block5b_se_excite False\n",
            "96 block5b_project_conv False\n",
            "97 block5b_project_bn False\n",
            "98 block5b_add False\n",
            "99 block5c_expand_conv False\n",
            "100 block5c_expand_bn False\n",
            "101 block5c_expand_activation False\n",
            "102 block5c_dwconv2 False\n",
            "103 block5c_bn False\n",
            "104 block5c_activation False\n",
            "105 block5c_se_squeeze False\n",
            "106 block5c_se_reshape False\n",
            "107 block5c_se_reduce False\n",
            "108 block5c_se_expand False\n",
            "109 block5c_se_excite False\n",
            "110 block5c_project_conv False\n",
            "111 block5c_project_bn False\n",
            "112 block5c_add False\n",
            "113 block5d_expand_conv False\n",
            "114 block5d_expand_bn False\n",
            "115 block5d_expand_activation False\n",
            "116 block5d_dwconv2 False\n",
            "117 block5d_bn False\n",
            "118 block5d_activation False\n",
            "119 block5d_se_squeeze False\n",
            "120 block5d_se_reshape False\n",
            "121 block5d_se_reduce False\n",
            "122 block5d_se_expand False\n",
            "123 block5d_se_excite False\n",
            "124 block5d_project_conv False\n",
            "125 block5d_project_bn False\n",
            "126 block5d_add False\n",
            "127 block5e_expand_conv False\n",
            "128 block5e_expand_bn False\n",
            "129 block5e_expand_activation False\n",
            "130 block5e_dwconv2 False\n",
            "131 block5e_bn False\n",
            "132 block5e_activation False\n",
            "133 block5e_se_squeeze False\n",
            "134 block5e_se_reshape False\n",
            "135 block5e_se_reduce False\n",
            "136 block5e_se_expand False\n",
            "137 block5e_se_excite False\n",
            "138 block5e_project_conv False\n",
            "139 block5e_project_bn False\n",
            "140 block5e_add False\n",
            "141 block6a_expand_conv False\n",
            "142 block6a_expand_bn False\n",
            "143 block6a_expand_activation False\n",
            "144 block6a_dwconv2 False\n",
            "145 block6a_bn False\n",
            "146 block6a_activation False\n",
            "147 block6a_se_squeeze False\n",
            "148 block6a_se_reshape False\n",
            "149 block6a_se_reduce False\n",
            "150 block6a_se_expand False\n",
            "151 block6a_se_excite False\n",
            "152 block6a_project_conv False\n",
            "153 block6a_project_bn False\n",
            "154 block6b_expand_conv False\n",
            "155 block6b_expand_bn False\n",
            "156 block6b_expand_activation False\n",
            "157 block6b_dwconv2 False\n",
            "158 block6b_bn False\n",
            "159 block6b_activation False\n",
            "160 block6b_se_squeeze False\n",
            "161 block6b_se_reshape False\n",
            "162 block6b_se_reduce False\n",
            "163 block6b_se_expand False\n",
            "164 block6b_se_excite False\n",
            "165 block6b_project_conv False\n",
            "166 block6b_project_bn False\n",
            "167 block6b_add False\n",
            "168 block6c_expand_conv False\n",
            "169 block6c_expand_bn False\n",
            "170 block6c_expand_activation False\n",
            "171 block6c_dwconv2 False\n",
            "172 block6c_bn False\n",
            "173 block6c_activation False\n",
            "174 block6c_se_squeeze False\n",
            "175 block6c_se_reshape False\n",
            "176 block6c_se_reduce False\n",
            "177 block6c_se_expand False\n",
            "178 block6c_se_excite False\n",
            "179 block6c_project_conv False\n",
            "180 block6c_project_bn False\n",
            "181 block6c_add False\n",
            "182 block6d_expand_conv False\n",
            "183 block6d_expand_bn False\n",
            "184 block6d_expand_activation False\n",
            "185 block6d_dwconv2 False\n",
            "186 block6d_bn False\n",
            "187 block6d_activation False\n",
            "188 block6d_se_squeeze False\n",
            "189 block6d_se_reshape False\n",
            "190 block6d_se_reduce False\n",
            "191 block6d_se_expand False\n",
            "192 block6d_se_excite False\n",
            "193 block6d_project_conv False\n",
            "194 block6d_project_bn False\n",
            "195 block6d_add False\n",
            "196 block6e_expand_conv False\n",
            "197 block6e_expand_bn False\n",
            "198 block6e_expand_activation False\n",
            "199 block6e_dwconv2 False\n",
            "200 block6e_bn False\n",
            "201 block6e_activation False\n",
            "202 block6e_se_squeeze False\n",
            "203 block6e_se_reshape False\n",
            "204 block6e_se_reduce False\n",
            "205 block6e_se_expand False\n",
            "206 block6e_se_excite False\n",
            "207 block6e_project_conv False\n",
            "208 block6e_project_bn False\n",
            "209 block6e_add False\n",
            "210 block6f_expand_conv False\n",
            "211 block6f_expand_bn False\n",
            "212 block6f_expand_activation False\n",
            "213 block6f_dwconv2 False\n",
            "214 block6f_bn False\n",
            "215 block6f_activation False\n",
            "216 block6f_se_squeeze False\n",
            "217 block6f_se_reshape False\n",
            "218 block6f_se_reduce False\n",
            "219 block6f_se_expand False\n",
            "220 block6f_se_excite False\n",
            "221 block6f_project_conv False\n",
            "222 block6f_project_bn False\n",
            "223 block6f_add False\n",
            "224 block6g_expand_conv False\n",
            "225 block6g_expand_bn False\n",
            "226 block6g_expand_activation False\n",
            "227 block6g_dwconv2 False\n",
            "228 block6g_bn False\n",
            "229 block6g_activation False\n",
            "230 block6g_se_squeeze False\n",
            "231 block6g_se_reshape False\n",
            "232 block6g_se_reduce False\n",
            "233 block6g_se_expand False\n",
            "234 block6g_se_excite False\n",
            "235 block6g_project_conv False\n",
            "236 block6g_project_bn False\n",
            "237 block6g_add False\n",
            "238 block6h_expand_conv False\n",
            "239 block6h_expand_bn False\n",
            "240 block6h_expand_activation False\n",
            "241 block6h_dwconv2 False\n",
            "242 block6h_bn False\n",
            "243 block6h_activation False\n",
            "244 block6h_se_squeeze False\n",
            "245 block6h_se_reshape True\n",
            "246 block6h_se_reduce True\n",
            "247 block6h_se_expand True\n",
            "248 block6h_se_excite True\n",
            "249 block6h_project_conv True\n",
            "250 block6h_project_bn True\n",
            "251 block6h_add True\n",
            "252 top_conv True\n",
            "253 top_bn True\n",
            "254 top_activation True\n"
          ]
        }
      ]
    },
    {
      "cell_type": "code",
      "source": [
        "# how many trainable variables are in our base_model?\n",
        "print(len(model_2.layers[2].trainable_variables))"
      ],
      "metadata": {
        "colab": {
          "base_uri": "https://localhost:8080/"
        },
        "id": "-oy5Un7C2afd",
        "outputId": "01fa654e-2713-414d-ea90-a437cf8a671e"
      },
      "execution_count": 63,
      "outputs": [
        {
          "output_type": "stream",
          "name": "stdout",
          "text": [
            "10\n"
          ]
        }
      ]
    },
    {
      "cell_type": "code",
      "source": [
        "# To begin fine-tuning, lets start by setting the last 10 layers of our base_model.trainable =True\n",
        "base_model.trainable = True\n",
        "\n",
        "# Freeze all layers except for the last 10\n",
        "for layer in base_model.layers[:-10]:\n",
        "  layer.trainable = False\n",
        "\n",
        "# Recompile (we have to recompile our model  everytime we make a change)\n",
        "model_2.compile(loss= \"categorical_crossentropy\",\n",
        "                optimizer = tf.keras.optimizers.Adam(lr = 0.0001), # when fine tunning you typically have to reduce your learning rate\n",
        "                metrics= [\"accuracy\"])"
      ],
      "metadata": {
        "colab": {
          "base_uri": "https://localhost:8080/"
        },
        "id": "5DH3LBBI3tdZ",
        "outputId": "a97b6f42-e863-47ee-88c3-0a84b205fdc9"
      },
      "execution_count": 64,
      "outputs": [
        {
          "output_type": "stream",
          "name": "stderr",
          "text": [
            "/usr/local/lib/python3.7/dist-packages/keras/optimizer_v2/adam.py:105: UserWarning: The `lr` argument is deprecated, use `learning_rate` instead.\n",
            "  super(Adam, self).__init__(name, **kwargs)\n"
          ]
        }
      ]
    },
    {
      "cell_type": "markdown",
      "source": [
        "**Note** When using fine-tunning its best pratice to lower our learning rate by some amount. how much? This is a hyperparameter you can tune. Buta good  rule of thumb is at least 10x (though different sources will claim other values). A good resouce for this information on this is the ULMFIT paper:https://arxiv.org/abs/1801.06146 "
      ],
      "metadata": {
        "id": "sFoSHBu962TK"
      }
    },
    {
      "cell_type": "code",
      "source": [
        "# what layers are in our base_model (EfficientNetB0) and are they trainable\n",
        "for i , layer in enumerate(model_2.layers[2].layers):\n",
        "  print(i, layer.name, layer.trainable)"
      ],
      "metadata": {
        "colab": {
          "base_uri": "https://localhost:8080/"
        },
        "id": "BjLiF9Yh8R7y",
        "outputId": "f722caa1-4771-49af-bb8b-b6bf79b4ee8f"
      },
      "execution_count": 65,
      "outputs": [
        {
          "output_type": "stream",
          "name": "stdout",
          "text": [
            "0 input_3 False\n",
            "1 rescaling_2 False\n",
            "2 normalization_2 False\n",
            "3 stem_conv False\n",
            "4 stem_bn False\n",
            "5 stem_activation False\n",
            "6 block1a_project_conv False\n",
            "7 block1a_project_bn False\n",
            "8 block1a_project_activation False\n",
            "9 block2a_expand_conv False\n",
            "10 block2a_expand_bn False\n",
            "11 block2a_expand_activation False\n",
            "12 block2a_project_conv False\n",
            "13 block2a_project_bn False\n",
            "14 block2b_expand_conv False\n",
            "15 block2b_expand_bn False\n",
            "16 block2b_expand_activation False\n",
            "17 block2b_project_conv False\n",
            "18 block2b_project_bn False\n",
            "19 block2b_add False\n",
            "20 block3a_expand_conv False\n",
            "21 block3a_expand_bn False\n",
            "22 block3a_expand_activation False\n",
            "23 block3a_project_conv False\n",
            "24 block3a_project_bn False\n",
            "25 block3b_expand_conv False\n",
            "26 block3b_expand_bn False\n",
            "27 block3b_expand_activation False\n",
            "28 block3b_project_conv False\n",
            "29 block3b_project_bn False\n",
            "30 block3b_add False\n",
            "31 block4a_expand_conv False\n",
            "32 block4a_expand_bn False\n",
            "33 block4a_expand_activation False\n",
            "34 block4a_dwconv2 False\n",
            "35 block4a_bn False\n",
            "36 block4a_activation False\n",
            "37 block4a_se_squeeze False\n",
            "38 block4a_se_reshape False\n",
            "39 block4a_se_reduce False\n",
            "40 block4a_se_expand False\n",
            "41 block4a_se_excite False\n",
            "42 block4a_project_conv False\n",
            "43 block4a_project_bn False\n",
            "44 block4b_expand_conv False\n",
            "45 block4b_expand_bn False\n",
            "46 block4b_expand_activation False\n",
            "47 block4b_dwconv2 False\n",
            "48 block4b_bn False\n",
            "49 block4b_activation False\n",
            "50 block4b_se_squeeze False\n",
            "51 block4b_se_reshape False\n",
            "52 block4b_se_reduce False\n",
            "53 block4b_se_expand False\n",
            "54 block4b_se_excite False\n",
            "55 block4b_project_conv False\n",
            "56 block4b_project_bn False\n",
            "57 block4b_add False\n",
            "58 block4c_expand_conv False\n",
            "59 block4c_expand_bn False\n",
            "60 block4c_expand_activation False\n",
            "61 block4c_dwconv2 False\n",
            "62 block4c_bn False\n",
            "63 block4c_activation False\n",
            "64 block4c_se_squeeze False\n",
            "65 block4c_se_reshape False\n",
            "66 block4c_se_reduce False\n",
            "67 block4c_se_expand False\n",
            "68 block4c_se_excite False\n",
            "69 block4c_project_conv False\n",
            "70 block4c_project_bn False\n",
            "71 block4c_add False\n",
            "72 block5a_expand_conv False\n",
            "73 block5a_expand_bn False\n",
            "74 block5a_expand_activation False\n",
            "75 block5a_dwconv2 False\n",
            "76 block5a_bn False\n",
            "77 block5a_activation False\n",
            "78 block5a_se_squeeze False\n",
            "79 block5a_se_reshape False\n",
            "80 block5a_se_reduce False\n",
            "81 block5a_se_expand False\n",
            "82 block5a_se_excite False\n",
            "83 block5a_project_conv False\n",
            "84 block5a_project_bn False\n",
            "85 block5b_expand_conv False\n",
            "86 block5b_expand_bn False\n",
            "87 block5b_expand_activation False\n",
            "88 block5b_dwconv2 False\n",
            "89 block5b_bn False\n",
            "90 block5b_activation False\n",
            "91 block5b_se_squeeze False\n",
            "92 block5b_se_reshape False\n",
            "93 block5b_se_reduce False\n",
            "94 block5b_se_expand False\n",
            "95 block5b_se_excite False\n",
            "96 block5b_project_conv False\n",
            "97 block5b_project_bn False\n",
            "98 block5b_add False\n",
            "99 block5c_expand_conv False\n",
            "100 block5c_expand_bn False\n",
            "101 block5c_expand_activation False\n",
            "102 block5c_dwconv2 False\n",
            "103 block5c_bn False\n",
            "104 block5c_activation False\n",
            "105 block5c_se_squeeze False\n",
            "106 block5c_se_reshape False\n",
            "107 block5c_se_reduce False\n",
            "108 block5c_se_expand False\n",
            "109 block5c_se_excite False\n",
            "110 block5c_project_conv False\n",
            "111 block5c_project_bn False\n",
            "112 block5c_add False\n",
            "113 block5d_expand_conv False\n",
            "114 block5d_expand_bn False\n",
            "115 block5d_expand_activation False\n",
            "116 block5d_dwconv2 False\n",
            "117 block5d_bn False\n",
            "118 block5d_activation False\n",
            "119 block5d_se_squeeze False\n",
            "120 block5d_se_reshape False\n",
            "121 block5d_se_reduce False\n",
            "122 block5d_se_expand False\n",
            "123 block5d_se_excite False\n",
            "124 block5d_project_conv False\n",
            "125 block5d_project_bn False\n",
            "126 block5d_add False\n",
            "127 block5e_expand_conv False\n",
            "128 block5e_expand_bn False\n",
            "129 block5e_expand_activation False\n",
            "130 block5e_dwconv2 False\n",
            "131 block5e_bn False\n",
            "132 block5e_activation False\n",
            "133 block5e_se_squeeze False\n",
            "134 block5e_se_reshape False\n",
            "135 block5e_se_reduce False\n",
            "136 block5e_se_expand False\n",
            "137 block5e_se_excite False\n",
            "138 block5e_project_conv False\n",
            "139 block5e_project_bn False\n",
            "140 block5e_add False\n",
            "141 block6a_expand_conv False\n",
            "142 block6a_expand_bn False\n",
            "143 block6a_expand_activation False\n",
            "144 block6a_dwconv2 False\n",
            "145 block6a_bn False\n",
            "146 block6a_activation False\n",
            "147 block6a_se_squeeze False\n",
            "148 block6a_se_reshape False\n",
            "149 block6a_se_reduce False\n",
            "150 block6a_se_expand False\n",
            "151 block6a_se_excite False\n",
            "152 block6a_project_conv False\n",
            "153 block6a_project_bn False\n",
            "154 block6b_expand_conv False\n",
            "155 block6b_expand_bn False\n",
            "156 block6b_expand_activation False\n",
            "157 block6b_dwconv2 False\n",
            "158 block6b_bn False\n",
            "159 block6b_activation False\n",
            "160 block6b_se_squeeze False\n",
            "161 block6b_se_reshape False\n",
            "162 block6b_se_reduce False\n",
            "163 block6b_se_expand False\n",
            "164 block6b_se_excite False\n",
            "165 block6b_project_conv False\n",
            "166 block6b_project_bn False\n",
            "167 block6b_add False\n",
            "168 block6c_expand_conv False\n",
            "169 block6c_expand_bn False\n",
            "170 block6c_expand_activation False\n",
            "171 block6c_dwconv2 False\n",
            "172 block6c_bn False\n",
            "173 block6c_activation False\n",
            "174 block6c_se_squeeze False\n",
            "175 block6c_se_reshape False\n",
            "176 block6c_se_reduce False\n",
            "177 block6c_se_expand False\n",
            "178 block6c_se_excite False\n",
            "179 block6c_project_conv False\n",
            "180 block6c_project_bn False\n",
            "181 block6c_add False\n",
            "182 block6d_expand_conv False\n",
            "183 block6d_expand_bn False\n",
            "184 block6d_expand_activation False\n",
            "185 block6d_dwconv2 False\n",
            "186 block6d_bn False\n",
            "187 block6d_activation False\n",
            "188 block6d_se_squeeze False\n",
            "189 block6d_se_reshape False\n",
            "190 block6d_se_reduce False\n",
            "191 block6d_se_expand False\n",
            "192 block6d_se_excite False\n",
            "193 block6d_project_conv False\n",
            "194 block6d_project_bn False\n",
            "195 block6d_add False\n",
            "196 block6e_expand_conv False\n",
            "197 block6e_expand_bn False\n",
            "198 block6e_expand_activation False\n",
            "199 block6e_dwconv2 False\n",
            "200 block6e_bn False\n",
            "201 block6e_activation False\n",
            "202 block6e_se_squeeze False\n",
            "203 block6e_se_reshape False\n",
            "204 block6e_se_reduce False\n",
            "205 block6e_se_expand False\n",
            "206 block6e_se_excite False\n",
            "207 block6e_project_conv False\n",
            "208 block6e_project_bn False\n",
            "209 block6e_add False\n",
            "210 block6f_expand_conv False\n",
            "211 block6f_expand_bn False\n",
            "212 block6f_expand_activation False\n",
            "213 block6f_dwconv2 False\n",
            "214 block6f_bn False\n",
            "215 block6f_activation False\n",
            "216 block6f_se_squeeze False\n",
            "217 block6f_se_reshape False\n",
            "218 block6f_se_reduce False\n",
            "219 block6f_se_expand False\n",
            "220 block6f_se_excite False\n",
            "221 block6f_project_conv False\n",
            "222 block6f_project_bn False\n",
            "223 block6f_add False\n",
            "224 block6g_expand_conv False\n",
            "225 block6g_expand_bn False\n",
            "226 block6g_expand_activation False\n",
            "227 block6g_dwconv2 False\n",
            "228 block6g_bn False\n",
            "229 block6g_activation False\n",
            "230 block6g_se_squeeze False\n",
            "231 block6g_se_reshape False\n",
            "232 block6g_se_reduce False\n",
            "233 block6g_se_expand False\n",
            "234 block6g_se_excite False\n",
            "235 block6g_project_conv False\n",
            "236 block6g_project_bn False\n",
            "237 block6g_add False\n",
            "238 block6h_expand_conv False\n",
            "239 block6h_expand_bn False\n",
            "240 block6h_expand_activation False\n",
            "241 block6h_dwconv2 False\n",
            "242 block6h_bn False\n",
            "243 block6h_activation False\n",
            "244 block6h_se_squeeze False\n",
            "245 block6h_se_reshape True\n",
            "246 block6h_se_reduce True\n",
            "247 block6h_se_expand True\n",
            "248 block6h_se_excite True\n",
            "249 block6h_project_conv True\n",
            "250 block6h_project_bn True\n",
            "251 block6h_add True\n",
            "252 top_conv True\n",
            "253 top_bn True\n",
            "254 top_activation True\n"
          ]
        }
      ]
    },
    {
      "cell_type": "code",
      "source": [
        "# Now we have unfrozen some of the layers closer to the top, how many trainable variable do we have\n",
        "print(len(model_2.trainable_variables))"
      ],
      "metadata": {
        "colab": {
          "base_uri": "https://localhost:8080/"
        },
        "id": "g7d4tC628Svu",
        "outputId": "68c15ef2-e999-42f1-8307-094d83f45e34"
      },
      "execution_count": 66,
      "outputs": [
        {
          "output_type": "stream",
          "name": "stdout",
          "text": [
            "12\n"
          ]
        }
      ]
    },
    {
      "cell_type": "code",
      "source": [
        "# Fine tune for another 5 epochs\n",
        "fine_tune_epochs = initial_epoch + 5\n",
        "\n",
        "# Refit the model (same as model_2 except with more trainable layers)\n",
        "history_fine_10_percent_data_aug = model_2.fit(train_data_10_percent,\n",
        "                                epochs=fine_tune_epochs,\n",
        "                                #steps_per_epoch= len(train_data_10_percent),\n",
        "                                validation_data = test_data,\n",
        "                                validation_steps = int(0.25 * len(test_data)),\n",
        "                                # Track model training logs\n",
        "                                initial_epoch = history_10_percent_data_aug.epoch[-1], # start from previous training\n",
        "                                callbacks=[create_tensorboard_callback(dir_name = \"transfer_learning\",\n",
        "                                                                       experiment_name =\"10_percent_fine_tune_data_aug\")\n",
        "                                           ]) "
      ],
      "metadata": {
        "id": "kOga13ej82q8",
        "colab": {
          "base_uri": "https://localhost:8080/"
        },
        "outputId": "36fe20e7-9b39-4e7a-c9c5-b2b432df6f0b"
      },
      "execution_count": 76,
      "outputs": [
        {
          "output_type": "stream",
          "name": "stdout",
          "text": [
            "Saving TensorBoard log files to: transfer_learning/10_percent_fine_tune_data_aug/20220723-193213\n",
            "Epoch 5/10\n",
            "24/24 [==============================] - 8s 295ms/step - loss: 0.3444 - accuracy: 0.9013 - val_loss: 0.4588 - val_accuracy: 0.8470\n",
            "Epoch 6/10\n",
            "24/24 [==============================] - 8s 296ms/step - loss: 0.3192 - accuracy: 0.9067 - val_loss: 0.4452 - val_accuracy: 0.8536\n",
            "Epoch 7/10\n",
            "24/24 [==============================] - 8s 309ms/step - loss: 0.3031 - accuracy: 0.9187 - val_loss: 0.4506 - val_accuracy: 0.8503\n",
            "Epoch 8/10\n",
            "24/24 [==============================] - 8s 332ms/step - loss: 0.3074 - accuracy: 0.9133 - val_loss: 0.4282 - val_accuracy: 0.8602\n",
            "Epoch 9/10\n",
            "24/24 [==============================] - 7s 296ms/step - loss: 0.2778 - accuracy: 0.9200 - val_loss: 0.4379 - val_accuracy: 0.8503\n",
            "Epoch 10/10\n",
            "24/24 [==============================] - 8s 318ms/step - loss: 0.2754 - accuracy: 0.9187 - val_loss: 0.4683 - val_accuracy: 0.8487\n"
          ]
        }
      ]
    },
    {
      "cell_type": "code",
      "source": [
        "# Evaluate the fine tune model (model-3 which is acually model_2 fine tuned for another 5 epochs)\n",
        "results_fine_tune_10_percent = model_2.evaluate(test_data)"
      ],
      "metadata": {
        "colab": {
          "base_uri": "https://localhost:8080/"
        },
        "id": "XAY9uMilfHfK",
        "outputId": "fb58c56d-d5f3-40c3-9a4d-6bd93dce8975"
      },
      "execution_count": 77,
      "outputs": [
        {
          "output_type": "stream",
          "name": "stdout",
          "text": [
            "79/79 [==============================] - 6s 69ms/step - loss: 0.4886 - accuracy: 0.8400\n"
          ]
        }
      ]
    },
    {
      "cell_type": "code",
      "source": [
        "results_10_percent_data_aug"
      ],
      "metadata": {
        "colab": {
          "base_uri": "https://localhost:8080/"
        },
        "id": "86OewbjpiFhF",
        "outputId": "d89cbc60-d5c3-457a-9402-55fa5296e534"
      },
      "execution_count": 78,
      "outputs": [
        {
          "output_type": "execute_result",
          "data": {
            "text/plain": [
              "[0.6279440522193909, 0.7943999767303467]"
            ]
          },
          "metadata": {},
          "execution_count": 78
        }
      ]
    },
    {
      "cell_type": "code",
      "source": [
        "# check out the loss curves of our fine tuned model\n",
        "plot_loss_curves(history_fine_10_percent_data_aug)"
      ],
      "metadata": {
        "colab": {
          "base_uri": "https://localhost:8080/",
          "height": 573
        },
        "id": "jMYaDtB3iSo7",
        "outputId": "71c4220d-e271-4b5d-ecfd-9c51048dad8b"
      },
      "execution_count": 79,
      "outputs": [
        {
          "output_type": "display_data",
          "data": {
            "text/plain": [
              "<Figure size 432x288 with 1 Axes>"
            ],
            "image/png": "[encoded data removed]"
          },
          "metadata": {
            "needs_background": "light"
          }
        },
        {
          "output_type": "display_data",
          "data": {
            "text/plain": [
              "<Figure size 432x288 with 1 Axes>"
            ],
            "image/png": "[encoded data removed]"
          },
          "metadata": {
            "needs_background": "light"
          }
        }
      ]
    },
    {
      "cell_type": "markdown",
      "source": [
        "The \"plot_loss_curves\" function works great with models which have only been fit once, however, we want something to compare one series of running \"fit()\" with another (e.g before and after fine-tunning)"
      ],
      "metadata": {
        "id": "Q3mzfdsAjrDT"
      }
    },
    {
      "cell_type": "code",
      "source": [
        "# lets create a function to comapre training histories\n",
        "def compare_historys(original_history, new_history, initial_epochs=5):\n",
        "  \"\"\"\n",
        "  Cmpare two tensorflow History objects,\n",
        "  \"\"\"\n",
        "  # Get original history measurements\n",
        "  acc = original_history.history[\"accuracy\"]\n",
        "  loss = original_history.history[\"loss\"]\n",
        "\n",
        "  val_acc = original_history.history[\"val_accuracy\"]\n",
        "  val_loss = original_history.history[\"val_loss\"]\n",
        "\n",
        "  # combine origianl history metrics with new_history metrics\n",
        "  total_acc =acc + new_history.history[\"accuracy\"]\n",
        "  total_loss = loss + new_history.history[\"loss\"]\n",
        "\n",
        "  total_val_acc = val_acc + new_history.history[\"val_accuracy\"]\n",
        "  total_val_loss = val_loss + new_history.history[\"val_loss\"]\n",
        "\n",
        "  # make plots for accuracy\n",
        "  plt.figure(figsize=(8, 8))\n",
        "  plt.subplot(2, 1, 1)\n",
        "  plt.plot(total_acc, label = \"Training Accuracy\")\n",
        "  plt.plot(total_val_acc, label = \"Val Accuracy\")\n",
        "  plt.plot([initial_epochs-1, initial_epochs-1], plt.ylim(), label=\"Start Fine Tuning\")\n",
        "  plt.legend(loc=\"lower right\")\n",
        "  plt.title(\"Training and Validation Accuracy\")\n",
        "\n",
        "  # make plots for loss\n",
        "  plt.figure(figsize=(8, 8))\n",
        "  plt.subplot(2, 1, 1)\n",
        "  plt.plot(total_loss, label = \"Training Loss\")\n",
        "  plt.plot(total_val_loss, label = \"Val Loss\")\n",
        "  plt.plot([initial_epochs-1, initial_epochs-1], plt.ylim(), label=\"Start Fine Tuning\")\n",
        "  plt.legend(loc=\"lower right\")\n",
        "  plt.title(\"Training and Validation Loss\")"
      ],
      "metadata": {
        "id": "yNdmVbLFiu5q"
      },
      "execution_count": 102,
      "outputs": []
    },
    {
      "cell_type": "code",
      "source": [
        "compare_historys(history_10_percent_data_aug,\n",
        "                 history_fine_10_percent_data_aug,\n",
        "                 initial_epochs=5)"
      ],
      "metadata": {
        "colab": {
          "base_uri": "https://localhost:8080/",
          "height": 507
        },
        "id": "JtKN8ZP1pSLx",
        "outputId": "ca2f69d8-c8b1-4083-ca24-d87ab5f0034b"
      },
      "execution_count": 103,
      "outputs": [
        {
          "output_type": "display_data",
          "data": {
            "text/plain": [
              "<Figure size 576x576 with 1 Axes>"
            ],
            "image/png": "[encoded data removed]"
          },
          "metadata": {
            "needs_background": "light"
          }
        },
        {
          "output_type": "display_data",
          "data": {
            "text/plain": [
              "<Figure size 576x576 with 1 Axes>"
            ],
            "image/png": "[encoded data removed]"
          },
          "metadata": {
            "needs_background": "light"
          }
        }
      ]
    },
    {
      "cell_type": "markdown",
      "source": [
        "## Model 4: Fine tuning  and exisiting model on all of the data"
      ],
      "metadata": {
        "id": "fSBsmin2pmWM"
      }
    },
    {
      "cell_type": "code",
      "source": [
        "# Download and unzip 10 classes of data with all images\n",
        "!wget https://storage.googleapis.com/ztm_tf_course/food_vision/10_food_classes_all_data.zip \n",
        "unzip_data(\"10_food_classes_all_data.zip\")\n",
        "\n",
        "# Setup data directories\n",
        "train_dir = \"10_food_classes_all_data/train/\"\n",
        "test_dir = \"10_food_classes_all_data/test/\""
      ],
      "metadata": {
        "colab": {
          "base_uri": "https://localhost:8080/"
        },
        "id": "Htx5yn_Asdpy",
        "outputId": "787d12bc-9289-477e-9ee5-6c76b354eaed"
      },
      "execution_count": 104,
      "outputs": [
        {
          "output_type": "stream",
          "name": "stdout",
          "text": [
            "--2022-07-23 21:44:56--  https://storage.googleapis.com/ztm_tf_course/food_vision/10_food_classes_all_data.zip\n",
            "Resolving storage.googleapis.com (storage.googleapis.com)... 216.58.203.240, 74.125.24.128, 172.217.194.128, ...\n",
            "Connecting to storage.googleapis.com (storage.googleapis.com)|216.58.203.240|:443... connected.\n",
            "HTTP request sent, awaiting response... 200 OK\n",
            "Length: 519183241 (495M) [application/zip]\n",
            "Saving to: ‘10_food_classes_all_data.zip.1’\n",
            "\n",
            "10_food_classes_all 100%[===================>] 495.13M  56.7MB/s    in 7.4s    \n",
            "\n",
            "2022-07-23 21:45:04 (66.6 MB/s) - ‘10_food_classes_all_data.zip.1’ saved [519183241/519183241]\n",
            "\n"
          ]
        }
      ]
    },
    {
      "cell_type": "code",
      "source": [
        "# How many images are we working with now?\n",
        "walk_through_dir(\"10_food_classes_all_data\")"
      ],
      "metadata": {
        "colab": {
          "base_uri": "https://localhost:8080/"
        },
        "id": "RLqvLI_Xs3dR",
        "outputId": "2e46f494-2b93-4fb9-b1bc-6e20886dd680"
      },
      "execution_count": 105,
      "outputs": [
        {
          "output_type": "stream",
          "name": "stdout",
          "text": [
            "There are 2 directories and 0 images in '10_food_classes_all_data'.\n",
            "There are 10 directories and 0 images in '10_food_classes_all_data/train'.\n",
            "There are 0 directories and 750 images in '10_food_classes_all_data/train/ice_cream'.\n",
            "There are 0 directories and 750 images in '10_food_classes_all_data/train/sushi'.\n",
            "There are 0 directories and 750 images in '10_food_classes_all_data/train/hamburger'.\n",
            "There are 0 directories and 750 images in '10_food_classes_all_data/train/ramen'.\n",
            "There are 0 directories and 750 images in '10_food_classes_all_data/train/chicken_curry'.\n",
            "There are 0 directories and 750 images in '10_food_classes_all_data/train/steak'.\n",
            "There are 0 directories and 750 images in '10_food_classes_all_data/train/pizza'.\n",
            "There are 0 directories and 750 images in '10_food_classes_all_data/train/chicken_wings'.\n",
            "There are 0 directories and 750 images in '10_food_classes_all_data/train/fried_rice'.\n",
            "There are 0 directories and 750 images in '10_food_classes_all_data/train/grilled_salmon'.\n",
            "There are 10 directories and 0 images in '10_food_classes_all_data/test'.\n",
            "There are 0 directories and 250 images in '10_food_classes_all_data/test/ice_cream'.\n",
            "There are 0 directories and 250 images in '10_food_classes_all_data/test/sushi'.\n",
            "There are 0 directories and 250 images in '10_food_classes_all_data/test/hamburger'.\n",
            "There are 0 directories and 250 images in '10_food_classes_all_data/test/ramen'.\n",
            "There are 0 directories and 250 images in '10_food_classes_all_data/test/chicken_curry'.\n",
            "There are 0 directories and 250 images in '10_food_classes_all_data/test/steak'.\n",
            "There are 0 directories and 250 images in '10_food_classes_all_data/test/pizza'.\n",
            "There are 0 directories and 250 images in '10_food_classes_all_data/test/chicken_wings'.\n",
            "There are 0 directories and 250 images in '10_food_classes_all_data/test/fried_rice'.\n",
            "There are 0 directories and 250 images in '10_food_classes_all_data/test/grilled_salmon'.\n"
          ]
        }
      ]
    },
    {
      "cell_type": "code",
      "source": [
        "# Setup data inputs\n",
        "import tensorflow as tf\n",
        "IMG_SIZE = (224, 224)\n",
        "train_data_10_classes_full = tf.keras.preprocessing.image_dataset_from_directory(train_dir,\n",
        "                                                                                 label_mode=\"categorical\",\n",
        "                                                                                 image_size=IMG_SIZE)\n",
        "\n",
        "# Note: this is the same test dataset we've been using for the previous modelling experiments\n",
        "test_data = tf.keras.preprocessing.image_dataset_from_directory(test_dir,\n",
        "                                                                label_mode=\"categorical\",\n",
        "                                                                image_size=IMG_SIZE)"
      ],
      "metadata": {
        "colab": {
          "base_uri": "https://localhost:8080/"
        },
        "id": "0G-Gcpjks8kO",
        "outputId": "48a74026-f03f-40d7-f06b-fa9b8335820d"
      },
      "execution_count": 106,
      "outputs": [
        {
          "output_type": "stream",
          "name": "stdout",
          "text": [
            "Found 7500 files belonging to 10 classes.\n",
            "Found 2500 files belonging to 10 classes.\n"
          ]
        }
      ]
    },
    {
      "cell_type": "markdown",
      "source": [
        "The test dataset we have loaded in is the same as what we have been using for previous experiments (all experiments have used the same test dataset).\n",
        "\n",
        "lets verify this\n"
      ],
      "metadata": {
        "id": "w75aXHqEudXo"
      }
    },
    {
      "cell_type": "code",
      "source": [
        "# Evaluate model 2 (this is the fine-tuned on 10 percent of data version)\n",
        "model_2.evaluate(test_data)"
      ],
      "metadata": {
        "colab": {
          "base_uri": "https://localhost:8080/"
        },
        "id": "QRH3ymSIuJd7",
        "outputId": "e1dca852-1924-4efd-c6a2-1f4aa9a6bed4"
      },
      "execution_count": 107,
      "outputs": [
        {
          "output_type": "stream",
          "name": "stdout",
          "text": [
            "79/79 [==============================] - 6s 70ms/step - loss: 0.3000 - accuracy: 0.8996\n"
          ]
        },
        {
          "output_type": "execute_result",
          "data": {
            "text/plain": [
              "[0.30000442266464233, 0.8996000289916992]"
            ]
          },
          "metadata": {},
          "execution_count": 107
        }
      ]
    },
    {
      "cell_type": "code",
      "source": [
        "results_fine_tune_10_percent"
      ],
      "metadata": {
        "colab": {
          "base_uri": "https://localhost:8080/"
        },
        "id": "Ci7duoqnvHih",
        "outputId": "5900e08b-b509-4c9d-d94b-c6ac77565078"
      },
      "execution_count": 108,
      "outputs": [
        {
          "output_type": "execute_result",
          "data": {
            "text/plain": [
              "[0.488629549741745, 0.8399999737739563]"
            ]
          },
          "metadata": {},
          "execution_count": 108
        }
      ]
    },
    {
      "cell_type": "markdown",
      "source": [
        "To train a fine-tuning model (model_4) we need to revert model_2 back to its feature extraction weights"
      ],
      "metadata": {
        "id": "rz5tETicvVWp"
      }
    },
    {
      "cell_type": "code",
      "source": [
        "## Load weigths from checkpoints, that way we can fine -tune from the same stage the 10 percent data model was fine tuned from\n",
        "\n",
        "model_2.load_weights(checkpoint_path)"
      ],
      "metadata": {
        "colab": {
          "base_uri": "https://localhost:8080/"
        },
        "id": "XkZTnpj1vNIY",
        "outputId": "e0bc0317-c296-4c89-d46e-7300fa061486"
      },
      "execution_count": 109,
      "outputs": [
        {
          "output_type": "execute_result",
          "data": {
            "text/plain": [
              "<tensorflow.python.training.tracking.util.CheckpointLoadStatus at 0x7f91c9e1aa50>"
            ]
          },
          "metadata": {},
          "execution_count": 109
        }
      ]
    },
    {
      "cell_type": "code",
      "source": [
        "#lets evaluate model_2 now\n",
        "model_2.evaluate(test_data)"
      ],
      "metadata": {
        "colab": {
          "base_uri": "https://localhost:8080/"
        },
        "id": "TFWyrVzmzK9T",
        "outputId": "b5c74712-65b0-4373-b93d-16aa6371bad2"
      },
      "execution_count": 110,
      "outputs": [
        {
          "output_type": "stream",
          "name": "stdout",
          "text": [
            "79/79 [==============================] - 6s 69ms/step - loss: 0.6279 - accuracy: 0.7944\n"
          ]
        },
        {
          "output_type": "execute_result",
          "data": {
            "text/plain": [
              "[0.6279440522193909, 0.7943999767303467]"
            ]
          },
          "metadata": {},
          "execution_count": 110
        }
      ]
    },
    {
      "cell_type": "code",
      "source": [
        "# check to se if our model_2 has been reverted back to feature extration results\n",
        "results_10_percent_data_aug"
      ],
      "metadata": {
        "colab": {
          "base_uri": "https://localhost:8080/"
        },
        "id": "m_UZoHTo2EgK",
        "outputId": "562852bc-22a7-48ea-d395-6a498a2ded0e"
      },
      "execution_count": 111,
      "outputs": [
        {
          "output_type": "execute_result",
          "data": {
            "text/plain": [
              "[0.6279440522193909, 0.7943999767303467]"
            ]
          },
          "metadata": {},
          "execution_count": 111
        }
      ]
    },
    {
      "cell_type": "markdown",
      "source": [
        "Alright, the previous steps might seem quite confusing but all we have done is:\n",
        "\n",
        "1. Trained a feature extraction transfer learning model for 5 epochs on 10% of the data with augmention (model_2) and we saved the model's weights using 'ModelCheckpoint' callback.fine_tune_epochs\n",
        "2. Fine-tuned the same model on the same 10% of the data for a further 5 epochs with the top 10 layers of the base model unfrozen (model_3)\n",
        "3. Saved the results and traininglogs each time.\n",
        "4. Reloaded the model from step 1 to do the same steps as step 2 expect this time we are going to se al the data(model_4)"
      ],
      "metadata": {
        "id": "Gu81xb532SE6"
      }
    },
    {
      "cell_type": "code",
      "source": [
        "# Check which layers are tuneable in the whole model\n",
        "for layer_number, layer in enumerate(model_2.layers):\n",
        "  print(layer_number, layer.name, layer.trainable)"
      ],
      "metadata": {
        "colab": {
          "base_uri": "https://localhost:8080/"
        },
        "id": "sRrboAZ569-M",
        "outputId": "aac47bf3-6303-4464-fafe-c2b9ad2eea0e"
      },
      "execution_count": 112,
      "outputs": [
        {
          "output_type": "stream",
          "name": "stdout",
          "text": [
            "0 input_layer True\n",
            "1 data_augmentation True\n",
            "2 efficientnetv2-b0 True\n",
            "3 global_average_pooling_2D True\n",
            "4 output_layer True\n"
          ]
        }
      ]
    },
    {
      "cell_type": "code",
      "source": [
        "## lets drill into our base_model (efficientnetB0) and se what layer are trainable\n",
        "for layer_number, layer in enumerate(model_2.layers[2].layers):\n",
        "  print(layer_number, layer.name, layer.trainable)"
      ],
      "metadata": {
        "colab": {
          "base_uri": "https://localhost:8080/"
        },
        "id": "URTmZ4yD7ISv",
        "outputId": "dbbac5b7-e34f-443c-e28a-05d9154e3071"
      },
      "execution_count": 113,
      "outputs": [
        {
          "output_type": "stream",
          "name": "stdout",
          "text": [
            "0 input_3 False\n",
            "1 rescaling_2 False\n",
            "2 normalization_2 False\n",
            "3 stem_conv False\n",
            "4 stem_bn False\n",
            "5 stem_activation False\n",
            "6 block1a_project_conv False\n",
            "7 block1a_project_bn False\n",
            "8 block1a_project_activation False\n",
            "9 block2a_expand_conv False\n",
            "10 block2a_expand_bn False\n",
            "11 block2a_expand_activation False\n",
            "12 block2a_project_conv False\n",
            "13 block2a_project_bn False\n",
            "14 block2b_expand_conv False\n",
            "15 block2b_expand_bn False\n",
            "16 block2b_expand_activation False\n",
            "17 block2b_project_conv False\n",
            "18 block2b_project_bn False\n",
            "19 block2b_add False\n",
            "20 block3a_expand_conv False\n",
            "21 block3a_expand_bn False\n",
            "22 block3a_expand_activation False\n",
            "23 block3a_project_conv False\n",
            "24 block3a_project_bn False\n",
            "25 block3b_expand_conv False\n",
            "26 block3b_expand_bn False\n",
            "27 block3b_expand_activation False\n",
            "28 block3b_project_conv False\n",
            "29 block3b_project_bn False\n",
            "30 block3b_add False\n",
            "31 block4a_expand_conv False\n",
            "32 block4a_expand_bn False\n",
            "33 block4a_expand_activation False\n",
            "34 block4a_dwconv2 False\n",
            "35 block4a_bn False\n",
            "36 block4a_activation False\n",
            "37 block4a_se_squeeze False\n",
            "38 block4a_se_reshape False\n",
            "39 block4a_se_reduce False\n",
            "40 block4a_se_expand False\n",
            "41 block4a_se_excite False\n",
            "42 block4a_project_conv False\n",
            "43 block4a_project_bn False\n",
            "44 block4b_expand_conv False\n",
            "45 block4b_expand_bn False\n",
            "46 block4b_expand_activation False\n",
            "47 block4b_dwconv2 False\n",
            "48 block4b_bn False\n",
            "49 block4b_activation False\n",
            "50 block4b_se_squeeze False\n",
            "51 block4b_se_reshape False\n",
            "52 block4b_se_reduce False\n",
            "53 block4b_se_expand False\n",
            "54 block4b_se_excite False\n",
            "55 block4b_project_conv False\n",
            "56 block4b_project_bn False\n",
            "57 block4b_add False\n",
            "58 block4c_expand_conv False\n",
            "59 block4c_expand_bn False\n",
            "60 block4c_expand_activation False\n",
            "61 block4c_dwconv2 False\n",
            "62 block4c_bn False\n",
            "63 block4c_activation False\n",
            "64 block4c_se_squeeze False\n",
            "65 block4c_se_reshape False\n",
            "66 block4c_se_reduce False\n",
            "67 block4c_se_expand False\n",
            "68 block4c_se_excite False\n",
            "69 block4c_project_conv False\n",
            "70 block4c_project_bn False\n",
            "71 block4c_add False\n",
            "72 block5a_expand_conv False\n",
            "73 block5a_expand_bn False\n",
            "74 block5a_expand_activation False\n",
            "75 block5a_dwconv2 False\n",
            "76 block5a_bn False\n",
            "77 block5a_activation False\n",
            "78 block5a_se_squeeze False\n",
            "79 block5a_se_reshape False\n",
            "80 block5a_se_reduce False\n",
            "81 block5a_se_expand False\n",
            "82 block5a_se_excite False\n",
            "83 block5a_project_conv False\n",
            "84 block5a_project_bn False\n",
            "85 block5b_expand_conv False\n",
            "86 block5b_expand_bn False\n",
            "87 block5b_expand_activation False\n",
            "88 block5b_dwconv2 False\n",
            "89 block5b_bn False\n",
            "90 block5b_activation False\n",
            "91 block5b_se_squeeze False\n",
            "92 block5b_se_reshape False\n",
            "93 block5b_se_reduce False\n",
            "94 block5b_se_expand False\n",
            "95 block5b_se_excite False\n",
            "96 block5b_project_conv False\n",
            "97 block5b_project_bn False\n",
            "98 block5b_add False\n",
            "99 block5c_expand_conv False\n",
            "100 block5c_expand_bn False\n",
            "101 block5c_expand_activation False\n",
            "102 block5c_dwconv2 False\n",
            "103 block5c_bn False\n",
            "104 block5c_activation False\n",
            "105 block5c_se_squeeze False\n",
            "106 block5c_se_reshape False\n",
            "107 block5c_se_reduce False\n",
            "108 block5c_se_expand False\n",
            "109 block5c_se_excite False\n",
            "110 block5c_project_conv False\n",
            "111 block5c_project_bn False\n",
            "112 block5c_add False\n",
            "113 block5d_expand_conv False\n",
            "114 block5d_expand_bn False\n",
            "115 block5d_expand_activation False\n",
            "116 block5d_dwconv2 False\n",
            "117 block5d_bn False\n",
            "118 block5d_activation False\n",
            "119 block5d_se_squeeze False\n",
            "120 block5d_se_reshape False\n",
            "121 block5d_se_reduce False\n",
            "122 block5d_se_expand False\n",
            "123 block5d_se_excite False\n",
            "124 block5d_project_conv False\n",
            "125 block5d_project_bn False\n",
            "126 block5d_add False\n",
            "127 block5e_expand_conv False\n",
            "128 block5e_expand_bn False\n",
            "129 block5e_expand_activation False\n",
            "130 block5e_dwconv2 False\n",
            "131 block5e_bn False\n",
            "132 block5e_activation False\n",
            "133 block5e_se_squeeze False\n",
            "134 block5e_se_reshape False\n",
            "135 block5e_se_reduce False\n",
            "136 block5e_se_expand False\n",
            "137 block5e_se_excite False\n",
            "138 block5e_project_conv False\n",
            "139 block5e_project_bn False\n",
            "140 block5e_add False\n",
            "141 block6a_expand_conv False\n",
            "142 block6a_expand_bn False\n",
            "143 block6a_expand_activation False\n",
            "144 block6a_dwconv2 False\n",
            "145 block6a_bn False\n",
            "146 block6a_activation False\n",
            "147 block6a_se_squeeze False\n",
            "148 block6a_se_reshape False\n",
            "149 block6a_se_reduce False\n",
            "150 block6a_se_expand False\n",
            "151 block6a_se_excite False\n",
            "152 block6a_project_conv False\n",
            "153 block6a_project_bn False\n",
            "154 block6b_expand_conv False\n",
            "155 block6b_expand_bn False\n",
            "156 block6b_expand_activation False\n",
            "157 block6b_dwconv2 False\n",
            "158 block6b_bn False\n",
            "159 block6b_activation False\n",
            "160 block6b_se_squeeze False\n",
            "161 block6b_se_reshape False\n",
            "162 block6b_se_reduce False\n",
            "163 block6b_se_expand False\n",
            "164 block6b_se_excite False\n",
            "165 block6b_project_conv False\n",
            "166 block6b_project_bn False\n",
            "167 block6b_add False\n",
            "168 block6c_expand_conv False\n",
            "169 block6c_expand_bn False\n",
            "170 block6c_expand_activation False\n",
            "171 block6c_dwconv2 False\n",
            "172 block6c_bn False\n",
            "173 block6c_activation False\n",
            "174 block6c_se_squeeze False\n",
            "175 block6c_se_reshape False\n",
            "176 block6c_se_reduce False\n",
            "177 block6c_se_expand False\n",
            "178 block6c_se_excite False\n",
            "179 block6c_project_conv False\n",
            "180 block6c_project_bn False\n",
            "181 block6c_add False\n",
            "182 block6d_expand_conv False\n",
            "183 block6d_expand_bn False\n",
            "184 block6d_expand_activation False\n",
            "185 block6d_dwconv2 False\n",
            "186 block6d_bn False\n",
            "187 block6d_activation False\n",
            "188 block6d_se_squeeze False\n",
            "189 block6d_se_reshape False\n",
            "190 block6d_se_reduce False\n",
            "191 block6d_se_expand False\n",
            "192 block6d_se_excite False\n",
            "193 block6d_project_conv False\n",
            "194 block6d_project_bn False\n",
            "195 block6d_add False\n",
            "196 block6e_expand_conv False\n",
            "197 block6e_expand_bn False\n",
            "198 block6e_expand_activation False\n",
            "199 block6e_dwconv2 False\n",
            "200 block6e_bn False\n",
            "201 block6e_activation False\n",
            "202 block6e_se_squeeze False\n",
            "203 block6e_se_reshape False\n",
            "204 block6e_se_reduce False\n",
            "205 block6e_se_expand False\n",
            "206 block6e_se_excite False\n",
            "207 block6e_project_conv False\n",
            "208 block6e_project_bn False\n",
            "209 block6e_add False\n",
            "210 block6f_expand_conv False\n",
            "211 block6f_expand_bn False\n",
            "212 block6f_expand_activation False\n",
            "213 block6f_dwconv2 False\n",
            "214 block6f_bn False\n",
            "215 block6f_activation False\n",
            "216 block6f_se_squeeze False\n",
            "217 block6f_se_reshape False\n",
            "218 block6f_se_reduce False\n",
            "219 block6f_se_expand False\n",
            "220 block6f_se_excite False\n",
            "221 block6f_project_conv False\n",
            "222 block6f_project_bn False\n",
            "223 block6f_add False\n",
            "224 block6g_expand_conv False\n",
            "225 block6g_expand_bn False\n",
            "226 block6g_expand_activation False\n",
            "227 block6g_dwconv2 False\n",
            "228 block6g_bn False\n",
            "229 block6g_activation False\n",
            "230 block6g_se_squeeze False\n",
            "231 block6g_se_reshape False\n",
            "232 block6g_se_reduce False\n",
            "233 block6g_se_expand False\n",
            "234 block6g_se_excite False\n",
            "235 block6g_project_conv False\n",
            "236 block6g_project_bn False\n",
            "237 block6g_add False\n",
            "238 block6h_expand_conv False\n",
            "239 block6h_expand_bn False\n",
            "240 block6h_expand_activation False\n",
            "241 block6h_dwconv2 False\n",
            "242 block6h_bn False\n",
            "243 block6h_activation False\n",
            "244 block6h_se_squeeze False\n",
            "245 block6h_se_reshape True\n",
            "246 block6h_se_reduce True\n",
            "247 block6h_se_expand True\n",
            "248 block6h_se_excite True\n",
            "249 block6h_project_conv True\n",
            "250 block6h_project_bn True\n",
            "251 block6h_add True\n",
            "252 top_conv True\n",
            "253 top_bn True\n",
            "254 top_activation True\n"
          ]
        }
      ]
    },
    {
      "cell_type": "code",
      "source": [
        "# Compile\n",
        "model_2.compile(loss=\"categorical_crossentropy\",\n",
        "                optimizer=tf.keras.optimizers.Adam(lr=0.0001), # divide learning rate by 10 for fine-tuning\n",
        "                metrics=[\"accuracy\"])"
      ],
      "metadata": {
        "colab": {
          "base_uri": "https://localhost:8080/"
        },
        "id": "238xhP5D9Io3",
        "outputId": "9ee1f601-2533-4260-ae3d-6686f5f482ee"
      },
      "execution_count": 114,
      "outputs": [
        {
          "output_type": "stream",
          "name": "stderr",
          "text": [
            "/usr/local/lib/python3.7/dist-packages/keras/optimizer_v2/adam.py:105: UserWarning: The `lr` argument is deprecated, use `learning_rate` instead.\n",
            "  super(Adam, self).__init__(name, **kwargs)\n"
          ]
        }
      ]
    },
    {
      "cell_type": "code",
      "source": [
        "# Continue to train and fine-tune the model to our data\n",
        "fine_tune_epochs = initial_epoch + 5\n",
        "\n",
        "history_fine_10_classes_full = model_2.fit(train_data_10_classes_full,\n",
        "                                           epochs=fine_tune_epochs,\n",
        "                                           initial_epoch=history_10_percent_data_aug.epoch[-1],\n",
        "                                           validation_data=test_data,\n",
        "                                           validation_steps=int(0.25 * len(test_data)),\n",
        "                                           callbacks=[create_tensorboard_callback(dir_name=\"transfer_learning\",experiment_name=\"full_10_classes_fine_tune_last_10\")])"
      ],
      "metadata": {
        "colab": {
          "base_uri": "https://localhost:8080/"
        },
        "id": "onWGU3tB9z6x",
        "outputId": "8b1074d2-d8ca-4d5f-fe98-0068d4ce182a"
      },
      "execution_count": 115,
      "outputs": [
        {
          "output_type": "stream",
          "name": "stdout",
          "text": [
            "Saving TensorBoard log files to: transfer_learning/full_10_classes_fine_tune_last_10/20220723-214529\n",
            "Epoch 5/10\n",
            "235/235 [==============================] - 39s 136ms/step - loss: 0.7536 - accuracy: 0.7547 - val_loss: 0.4183 - val_accuracy: 0.8487\n",
            "Epoch 6/10\n",
            "235/235 [==============================] - 30s 125ms/step - loss: 0.6414 - accuracy: 0.7907 - val_loss: 0.3696 - val_accuracy: 0.8832\n",
            "Epoch 7/10\n",
            "235/235 [==============================] - 30s 124ms/step - loss: 0.5816 - accuracy: 0.8120 - val_loss: 0.3154 - val_accuracy: 0.8898\n",
            "Epoch 8/10\n",
            "235/235 [==============================] - 30s 126ms/step - loss: 0.5428 - accuracy: 0.8252 - val_loss: 0.3299 - val_accuracy: 0.8865\n",
            "Epoch 9/10\n",
            "235/235 [==============================] - 28s 117ms/step - loss: 0.5055 - accuracy: 0.8328 - val_loss: 0.2894 - val_accuracy: 0.8964\n",
            "Epoch 10/10\n",
            "235/235 [==============================] - 29s 120ms/step - loss: 0.4876 - accuracy: 0.8412 - val_loss: 0.2699 - val_accuracy: 0.9178\n"
          ]
        }
      ]
    },
    {
      "cell_type": "code",
      "source": [
        "# lets evalaute on all of our data\n",
        "results_fine_tune_full_data = model_2.evaluate(test_data)\n",
        "results_fine_tune_full_data"
      ],
      "metadata": {
        "colab": {
          "base_uri": "https://localhost:8080/"
        },
        "id": "AIpiO4F-_HsF",
        "outputId": "b431daea-1b42-43d4-aad0-2386fec707a7"
      },
      "execution_count": 116,
      "outputs": [
        {
          "output_type": "stream",
          "name": "stdout",
          "text": [
            "79/79 [==============================] - 6s 69ms/step - loss: 0.2915 - accuracy: 0.9044\n"
          ]
        },
        {
          "output_type": "execute_result",
          "data": {
            "text/plain": [
              "[0.29152753949165344, 0.9043999910354614]"
            ]
          },
          "metadata": {},
          "execution_count": 116
        }
      ]
    },
    {
      "cell_type": "code",
      "source": [
        "# How did fine-tuning go with more data?\n",
        "compare_historys(original_history=history_10_percent_data_aug,\n",
        "                 new_history=history_fine_10_classes_full,\n",
        "                 initial_epochs=5)"
      ],
      "metadata": {
        "colab": {
          "base_uri": "https://localhost:8080/",
          "height": 507
        },
        "id": "B6H8WhnzA5Ps",
        "outputId": "7485cf02-ce37-4f03-9a6b-e1f85fc0f2e3"
      },
      "execution_count": 117,
      "outputs": [
        {
          "output_type": "display_data",
          "data": {
            "text/plain": [
              "<Figure size 576x576 with 1 Axes>"
            ],
            "image/png": "[encoded data removed]"
          },
          "metadata": {
            "needs_background": "light"
          }
        },
        {
          "output_type": "display_data",
          "data": {
            "text/plain": [
              "<Figure size 576x576 with 1 Axes>"
            ],
            "image/png": "[encoded data removed]"
          },
          "metadata": {
            "needs_background": "light"
          }
        }
      ]
    },
    {
      "cell_type": "markdown",
      "source": [
        "# viewing our experiments data on Tensorboard\n",
        "**NOTE** Anything you upload to TensorBoard.dev is going to be public. so if youhave private data, do not upload\n"
      ],
      "metadata": {
        "id": "8qJywCNRBVQA"
      }
    },
    {
      "cell_type": "code",
      "source": [
        "# View tensorboard logs of tansfer leaning modelling experiments (should -4 models)\n",
        "# upload Tensorboard dev records\n",
        "!tensorboard dev upload --logdir ./transfer_learning \\\n",
        "  --name \"Transfer learning Experiments with 10 Food101 Classes\" \\\n",
        "  --description \"A series of different transfer learing experiments with varyng amount of data and fine-tuning.\"\\\n",
        "  --one_shot # exits the uploader once its finished uploading"
      ],
      "metadata": {
        "id": "a4OR1moEDWgL"
      },
      "execution_count": null,
      "outputs": []
    },
    {
      "cell_type": "markdown",
      "source": [
        "My Tensorboard experiments are available at: https://tensorboard.dev/experiment/ZkJKgpuKQaS7RdVGlKAf5w/"
      ],
      "metadata": {
        "id": "aRwDgdXlE-Bx"
      }
    },
    {
      "cell_type": "code",
      "source": [
        "# view all of your uploaded Tensorboard experiments (public)\n",
        "#!tensorboard dev list"
      ],
      "metadata": {
        "colab": {
          "base_uri": "https://localhost:8080/"
        },
        "id": "QoGRdBQIEWX-",
        "outputId": "9fe89762-b406-4e0b-bb44-18a9bc8f3f56"
      },
      "execution_count": 123,
      "outputs": [
        {
          "output_type": "stream",
          "name": "stdout",
          "text": [
            "\n",
            "https://tensorboard.dev/experiment/ZkJKgpuKQaS7RdVGlKAf5w/\n",
            "\tName                 Transfer learning Experiments with 10 Food101 Classes\n",
            "\tDescription          A series of different transfer learing experiments with varyng amount of data and fine-tuning.\n",
            "\tId                   ZkJKgpuKQaS7RdVGlKAf5w\n",
            "\tCreated              2022-07-23 22:00:18 (7 minutes ago)\n",
            "\tUpdated              2022-07-23 22:00:36 (6 minutes ago)\n",
            "\tRuns                 18\n",
            "\tTags                 5\n",
            "\tScalars              300\n",
            "\tTensor bytes         0\n",
            "\tBinary object bytes  8586563\n",
            "Total: 1 experiment(s)\n"
          ]
        }
      ]
    },
    {
      "cell_type": "code",
      "source": [
        "# To delete an experiment\n",
        "#!tensorboard dev delte --experiment_id ZkJKgpuKQaS7RdVGlKAf5w"
      ],
      "metadata": {
        "id": "If6Xm9pMGW0a"
      },
      "execution_count": null,
      "outputs": []
    }
  ]
}