{
  "nbformat": 4,
  "nbformat_minor": 0,
  "metadata": {
    "colab": {
      "name": "03- introduction-to-computer-vision with-tensorflow-video.ipynb",
      "provenance": [],
      "collapsed_sections": [],
      "authorship_tag": "ABX9TyNjGer/kUV5n2ZztsYOS/Sq",
      "include_colab_link": true
    },
    "kernelspec": {
      "name": "python3",
      "display_name": "Python 3"
    },
    "language_info": {
      "name": "python"
    },
    "accelerator": "GPU",
    "gpuClass": "standard"
  },
  "cells": [
    {
      "cell_type": "markdown",
      "metadata": {
        "id": "view-in-github",
        "colab_type": "text"
      },
      "source": [
        "<a href=\"https://colab.research.google.com/github/Kennedy87670/Introduction-to-ML-DP/blob/main/03_introduction_to_computer_vision_with_tensorflow_video.ipynb\" target=\"_parent\"><img src=\"https://colab.research.google.com/assets/colab-badge.svg\" alt=\"Open In Colab\"/></a>"
      ]
    },
    {
      "cell_type": "markdown",
      "source": [
        "# Introduction to Convolution Neural Networks and Computer Vision with TensorFlow\n",
        "\n",
        "Computer vision is the pratice of writing algorithn which can discover patterns in visual data. such as the camera of a self-driving car regonizing the car in front"
      ],
      "metadata": {
        "id": "KoOK2ukurfZh"
      }
    },
    {
      "cell_type": "markdown",
      "source": [
        "Get the data\n",
        "The images we are working with are from FOOD101 dataset (101 different classes of food):https://www.kaggle.com/datasets/dansbecker/food-101\n",
        "\n",
        "However we have modified it to only use two classes (pizza & steak) using the image data modification notebook\n",
        "\n",
        "**Note** we start with a smaller dataset so we can experiment quickly and figure what works(or better what doesnt work before scaling up)"
      ],
      "metadata": {
        "id": "1RKX6iTWshZ9"
      }
    },
    {
      "cell_type": "code",
      "source": [
        "import zipfile\n",
        "\n",
        "!wget https://storage.googleapis.com/ztm_tf_course/food_vision/pizza_steak.zip\n",
        "\n",
        "# Unzip the downloaded file\n",
        "zip_ref = zipfile.ZipFile('pizza_steak.zip')\n",
        "zip_ref.extractall()\n",
        "zip_ref.close()"
      ],
      "metadata": {
        "colab": {
          "base_uri": "https://localhost:8080/"
        },
        "id": "T_IZ-VUZs800",
        "outputId": "6702bc90-fb5c-4eb7-857d-b1caf40ce52b"
      },
      "execution_count": 1,
      "outputs": [
        {
          "output_type": "stream",
          "name": "stdout",
          "text": [
            "--2022-07-13 14:21:12--  https://storage.googleapis.com/ztm_tf_course/food_vision/pizza_steak.zip\n",
            "Resolving storage.googleapis.com (storage.googleapis.com)... 74.125.200.128, 142.251.10.128, 142.251.12.128, ...\n",
            "Connecting to storage.googleapis.com (storage.googleapis.com)|74.125.200.128|:443... connected.\n",
            "HTTP request sent, awaiting response... 200 OK\n",
            "Length: 109540975 (104M) [application/zip]\n",
            "Saving to: ‘pizza_steak.zip’\n",
            "\n",
            "pizza_steak.zip     100%[===================>] 104.47M  40.4MB/s    in 2.6s    \n",
            "\n",
            "2022-07-13 14:21:15 (40.4 MB/s) - ‘pizza_steak.zip’ saved [109540975/109540975]\n",
            "\n"
          ]
        }
      ]
    },
    {
      "cell_type": "markdown",
      "source": [
        "## Inspect the data (become on with it)\n",
        "\n",
        "A very crucial step at the beginning of any machine learning project is becoming one with the DeprecationWarning\n",
        "\n",
        "And for a computer vision project.... this usually means visuallizing many samples of our data"
      ],
      "metadata": {
        "id": "tZ8C4Ua0uq3L"
      }
    },
    {
      "cell_type": "code",
      "source": [
        "!ls pizza_steak"
      ],
      "metadata": {
        "colab": {
          "base_uri": "https://localhost:8080/"
        },
        "id": "r5GwH4k-vSAe",
        "outputId": "e6dfb2e2-8fa1-42a3-ffaf-30522bd9daaa"
      },
      "execution_count": 2,
      "outputs": [
        {
          "output_type": "stream",
          "name": "stdout",
          "text": [
            "test  train\n"
          ]
        }
      ]
    },
    {
      "cell_type": "code",
      "source": [
        "!ls pizza_steak/train/"
      ],
      "metadata": {
        "colab": {
          "base_uri": "https://localhost:8080/"
        },
        "id": "fRElbeJvvWEa",
        "outputId": "68296ad1-7ca8-49d1-edf4-4dc8f153ed12"
      },
      "execution_count": 3,
      "outputs": [
        {
          "output_type": "stream",
          "name": "stdout",
          "text": [
            "pizza  steak\n"
          ]
        }
      ]
    },
    {
      "cell_type": "code",
      "source": [
        "!ls pizza_steak/train/steak"
      ],
      "metadata": {
        "colab": {
          "base_uri": "https://localhost:8080/"
        },
        "id": "IJnoypWZvde2",
        "outputId": "3b2d8d63-052d-4b83-fc10-b8f85f4fdecd"
      },
      "execution_count": 4,
      "outputs": [
        {
          "output_type": "stream",
          "name": "stdout",
          "text": [
            "1000205.jpg  1647351.jpg  2238681.jpg  2824680.jpg  3375959.jpg  417368.jpg\n",
            "100135.jpg   1650002.jpg  2238802.jpg  2825100.jpg  3381560.jpg  4176.jpg\n",
            "101312.jpg   165639.jpg   2254705.jpg  2826987.jpg  3382936.jpg  42125.jpg\n",
            "1021458.jpg  1658186.jpg  225990.jpg   2832499.jpg  3386119.jpg  421476.jpg\n",
            "1032846.jpg  1658443.jpg  2260231.jpg  2832960.jpg  3388717.jpg  421561.jpg\n",
            "10380.jpg    165964.jpg   2268692.jpg  285045.jpg   3389138.jpg  438871.jpg\n",
            "1049459.jpg  167069.jpg   2271133.jpg  285147.jpg   3393547.jpg  43924.jpg\n",
            "1053665.jpg  1675632.jpg  227576.jpg   2855315.jpg  3393688.jpg  440188.jpg\n",
            "1068516.jpg  1678108.jpg  2283057.jpg  2856066.jpg  3396589.jpg  442757.jpg\n",
            "1068975.jpg  168006.jpg   2286639.jpg  2859933.jpg  339891.jpg\t 443210.jpg\n",
            "1081258.jpg  1682496.jpg  2287136.jpg  286219.jpg   3417789.jpg  444064.jpg\n",
            "1090122.jpg  1684438.jpg  2291292.jpg  2862562.jpg  3425047.jpg  444709.jpg\n",
            "1093966.jpg  168775.jpg   229323.jpg   2865730.jpg  3434983.jpg  447557.jpg\n",
            "1098844.jpg  1697339.jpg  2300534.jpg  2878151.jpg  3435358.jpg  461187.jpg\n",
            "1100074.jpg  1710569.jpg  2300845.jpg  2880035.jpg  3438319.jpg  461689.jpg\n",
            "1105280.jpg  1714605.jpg  231296.jpg   2881783.jpg  3444407.jpg  465494.jpg\n",
            "1117936.jpg  1724387.jpg  2315295.jpg  2884233.jpg  345734.jpg\t 468384.jpg\n",
            "1126126.jpg  1724717.jpg  2323132.jpg  2890573.jpg  3460673.jpg  477486.jpg\n",
            "114601.jpg   172936.jpg   2324994.jpg  2893832.jpg  3465327.jpg  482022.jpg\n",
            "1147047.jpg  1736543.jpg  2327701.jpg  2893892.jpg  3466159.jpg  482465.jpg\n",
            "1147883.jpg  1736968.jpg  2331076.jpg  2907177.jpg  3469024.jpg  483788.jpg\n",
            "1155665.jpg  1746626.jpg  233964.jpg   290850.jpg   3470083.jpg  493029.jpg\n",
            "1163977.jpg  1752330.jpg  2344227.jpg  2909031.jpg  3476564.jpg  503589.jpg\n",
            "1190233.jpg  1761285.jpg  234626.jpg   2910418.jpg  3478318.jpg  510757.jpg\n",
            "1208405.jpg  176508.jpg   234704.jpg   2912290.jpg  3488748.jpg  513129.jpg\n",
            "1209120.jpg  1772039.jpg  2357281.jpg  2916448.jpg  3492328.jpg  513842.jpg\n",
            "1212161.jpg  1777107.jpg  2361812.jpg  2916967.jpg  3518960.jpg  523535.jpg\n",
            "1213988.jpg  1787505.jpg  2365287.jpg  2927833.jpg  3522209.jpg  525041.jpg\n",
            "1219039.jpg  179293.jpg   2374582.jpg  2928643.jpg  3524429.jpg  534560.jpg\n",
            "1225762.jpg  1816235.jpg  239025.jpg   2929179.jpg  3528458.jpg  534633.jpg\n",
            "1230968.jpg  1822407.jpg  2390628.jpg  2936477.jpg  3531805.jpg  536535.jpg\n",
            "1236155.jpg  1823263.jpg  2392910.jpg  2938012.jpg  3536023.jpg  541410.jpg\n",
            "1241193.jpg  1826066.jpg  2394465.jpg  2938151.jpg  3538682.jpg  543691.jpg\n",
            "1248337.jpg  1828502.jpg  2395127.jpg  2939678.jpg  3540750.jpg  560503.jpg\n",
            "1257104.jpg  1828969.jpg  2396291.jpg  2940544.jpg  354329.jpg\t 561972.jpg\n",
            "126345.jpg   1829045.jpg  2400975.jpg  2940621.jpg  3547166.jpg  56240.jpg\n",
            "1264050.jpg  1829088.jpg  2403776.jpg  2949079.jpg  3553911.jpg  56409.jpg\n",
            "1264154.jpg  1836332.jpg  2403907.jpg  295491.jpg   3556871.jpg  564530.jpg\n",
            "1264858.jpg  1839025.jpg  240435.jpg   296268.jpg   355715.jpg\t 568972.jpg\n",
            "127029.jpg   1839481.jpg  2404695.jpg  2964732.jpg  356234.jpg\t 576725.jpg\n",
            "1289900.jpg  183995.jpg   2404884.jpg  2965021.jpg  3571963.jpg  588739.jpg\n",
            "1290362.jpg  184110.jpg   2407770.jpg  2966859.jpg  3576078.jpg  590142.jpg\n",
            "1295457.jpg  184226.jpg   2412263.jpg  2977966.jpg  3577618.jpg  60633.jpg\n",
            "1312841.jpg  1846706.jpg  2425062.jpg  2979061.jpg  3577732.jpg  60655.jpg\n",
            "1313316.jpg  1849364.jpg  2425389.jpg  2983260.jpg  3578934.jpg  606820.jpg\n",
            "1324791.jpg  1849463.jpg  2435316.jpg  2984311.jpg  358042.jpg\t 612551.jpg\n",
            "1327567.jpg  1849542.jpg  2437268.jpg  2988960.jpg  358045.jpg\t 614975.jpg\n",
            "1327667.jpg  1853564.jpg  2437843.jpg  2989882.jpg  3591821.jpg  616809.jpg\n",
            "1333055.jpg  1869467.jpg  2440131.jpg  2995169.jpg  359330.jpg\t 628628.jpg\n",
            "1334054.jpg  1870942.jpg  2443168.jpg  2996324.jpg  3601483.jpg  632427.jpg\n",
            "1335556.jpg  187303.jpg   2446660.jpg  3000131.jpg  3606642.jpg  636594.jpg\n",
            "1337814.jpg  187521.jpg   2455944.jpg  3002350.jpg  3609394.jpg  637374.jpg\n",
            "1340977.jpg  1888450.jpg  2458401.jpg  3007772.jpg  361067.jpg\t 640539.jpg\n",
            "1343209.jpg  1889336.jpg  2487306.jpg  3008192.jpg  3613455.jpg  644777.jpg\n",
            "134369.jpg   1907039.jpg  248841.jpg   3009617.jpg  3621464.jpg  644867.jpg\n",
            "1344105.jpg  1925230.jpg  2489716.jpg  3011642.jpg  3621562.jpg  658189.jpg\n",
            "134598.jpg   1927984.jpg  2490489.jpg  3020591.jpg  3621565.jpg  660900.jpg\n",
            "1346387.jpg  1930577.jpg  2495884.jpg  3030578.jpg  3623556.jpg  663014.jpg\n",
            "1348047.jpg  1937872.jpg  2495903.jpg  3047807.jpg  3640915.jpg  664545.jpg\n",
            "1351372.jpg  1941807.jpg  2499364.jpg  3059843.jpg  3643951.jpg  667075.jpg\n",
            "1362989.jpg  1942333.jpg  2500292.jpg  3074367.jpg  3653129.jpg  669180.jpg\n",
            "1367035.jpg  1945132.jpg  2509017.jpg  3082120.jpg  3656752.jpg  669960.jpg\n",
            "1371177.jpg  1961025.jpg  250978.jpg   3094354.jpg  3663518.jpg  6709.jpg\n",
            "1375640.jpg  1966300.jpg  2514432.jpg  3095301.jpg  3663800.jpg  674001.jpg\n",
            "1382427.jpg  1966967.jpg  2526838.jpg  3099645.jpg  3664376.jpg  676189.jpg\n",
            "1392718.jpg  1969596.jpg  252858.jpg   3100476.jpg  3670607.jpg  681609.jpg\n",
            "1395906.jpg  1971757.jpg  2532239.jpg  3110387.jpg  3671021.jpg  6926.jpg\n",
            "1400760.jpg  1976160.jpg  2534567.jpg  3113772.jpg  3671877.jpg  703556.jpg\n",
            "1403005.jpg  1984271.jpg  2535431.jpg  3116018.jpg  368073.jpg\t 703909.jpg\n",
            "1404770.jpg  1987213.jpg  2535456.jpg  3128952.jpg  368162.jpg\t 704316.jpg\n",
            "140832.jpg   1987639.jpg  2538000.jpg  3130412.jpg  368170.jpg\t 714298.jpg\n",
            "141056.jpg   1995118.jpg  2543081.jpg  3136.jpg     3693649.jpg  720060.jpg\n",
            "141135.jpg   1995252.jpg  2544643.jpg  313851.jpg   3700079.jpg  726083.jpg\n",
            "1413972.jpg  199754.jpg   2547797.jpg  3140083.jpg  3704103.jpg  728020.jpg\n",
            "1421393.jpg  2002400.jpg  2548974.jpg  3140147.jpg  3707493.jpg  732986.jpg\n",
            "1428947.jpg  2011264.jpg  2549316.jpg  3142045.jpg  3716881.jpg  734445.jpg\n",
            "1433912.jpg  2012996.jpg  2561199.jpg  3142618.jpg  3724677.jpg  735441.jpg\n",
            "143490.jpg   2013535.jpg  2563233.jpg  3142674.jpg  3727036.jpg  740090.jpg\n",
            "1445352.jpg  2017387.jpg  256592.jpg   3143192.jpg  3727491.jpg  745189.jpg\n",
            "1446401.jpg  2018173.jpg  2568848.jpg  314359.jpg   3736065.jpg  752203.jpg\n",
            "1453991.jpg  2020613.jpg  2573392.jpg  3157832.jpg  37384.jpg\t 75537.jpg\n",
            "1456841.jpg  2032669.jpg  2592401.jpg  3159818.jpg  3743286.jpg  756655.jpg\n",
            "146833.jpg   203450.jpg   2599817.jpg  3162376.jpg  3745515.jpg  762210.jpg\n",
            "1476404.jpg  2034628.jpg  2603058.jpg  3168620.jpg  3750472.jpg  763690.jpg\n",
            "1485083.jpg  2036920.jpg  2606444.jpg  3171085.jpg  3752362.jpg  767442.jpg\n",
            "1487113.jpg  2038418.jpg  2614189.jpg  317206.jpg   3766099.jpg  786409.jpg\n",
            "148916.jpg   2042975.jpg  2614649.jpg  3173444.jpg  3770370.jpg  80215.jpg\n",
            "149087.jpg   2045647.jpg  2615718.jpg  3180182.jpg  377190.jpg\t 802348.jpg\n",
            "1493169.jpg  2050584.jpg  2619625.jpg  31881.jpg    3777020.jpg  804684.jpg\n",
            "149682.jpg   2052542.jpg  2622140.jpg  3191589.jpg  3777482.jpg  812163.jpg\n",
            "1508094.jpg  2056627.jpg  262321.jpg   3204977.jpg  3781152.jpg  813486.jpg\n",
            "1512226.jpg  2062248.jpg  2625330.jpg  320658.jpg   3787809.jpg  819027.jpg\n",
            "1512347.jpg  2081995.jpg  2628106.jpg  3209173.jpg  3788729.jpg  822550.jpg\n",
            "1524526.jpg  2087958.jpg  2629750.jpg  3223400.jpg  3790962.jpg  823766.jpg\n",
            "1530833.jpg  2088030.jpg  2643906.jpg  3223601.jpg  3792514.jpg  827764.jpg\n",
            "1539499.jpg  2088195.jpg  2644457.jpg  3241894.jpg  379737.jpg\t 830007.jpg\n",
            "1541672.jpg  2090493.jpg  2648423.jpg  3245533.jpg  3807440.jpg  838344.jpg\n",
            "1548239.jpg  2090504.jpg  2651300.jpg  3245622.jpg  381162.jpg\t 853327.jpg\n",
            "1550997.jpg  2125877.jpg  2653594.jpg  3247009.jpg  3812039.jpg  854150.jpg\n",
            "1552530.jpg  2129685.jpg  2661577.jpg  3253588.jpg  3829392.jpg  864997.jpg\n",
            "15580.jpg    2133717.jpg  2668916.jpg  3260624.jpg  3830872.jpg  885571.jpg\n",
            "1559052.jpg  2136662.jpg  268444.jpg   326587.jpg   38442.jpg\t 907107.jpg\n",
            "1563266.jpg  213765.jpg   2691461.jpg  32693.jpg    3855584.jpg  908261.jpg\n",
            "1567554.jpg  2138335.jpg  2706403.jpg  3271253.jpg  3857508.jpg  910672.jpg\n",
            "1575322.jpg  2140776.jpg  270687.jpg   3274423.jpg  386335.jpg\t 911803.jpg\n",
            "1588879.jpg  214320.jpg   2707522.jpg  3280453.jpg  3867460.jpg  91432.jpg\n",
            "1594719.jpg  2146963.jpg  2711806.jpg  3298495.jpg  3868959.jpg  914570.jpg\n",
            "1595869.jpg  215222.jpg   2716993.jpg  330182.jpg   3869679.jpg  922752.jpg\n",
            "1598345.jpg  2154126.jpg  2724554.jpg  3306627.jpg  388776.jpg\t 923772.jpg\n",
            "1598885.jpg  2154779.jpg  2738227.jpg  3315727.jpg  3890465.jpg  926414.jpg\n",
            "1600179.jpg  2159975.jpg  2748917.jpg  331860.jpg   3894222.jpg  931356.jpg\n",
            "1600794.jpg  2163079.jpg  2760475.jpg  332232.jpg   3895825.jpg  937133.jpg\n",
            "160552.jpg   217250.jpg   2761427.jpg  3322909.jpg  389739.jpg\t 945791.jpg\n",
            "1606596.jpg  2172600.jpg  2765887.jpg  332557.jpg   3916407.jpg  947877.jpg\n",
            "1615395.jpg  2173084.jpg  2768451.jpg  3326734.jpg  393349.jpg\t 952407.jpg\n",
            "1618011.jpg  217996.jpg   2771149.jpg  3330642.jpg  393494.jpg\t 952437.jpg\n",
            "1619357.jpg  2193684.jpg  2779040.jpg  3333128.jpg  398288.jpg\t 955466.jpg\n",
            "1621763.jpg  220341.jpg   2788312.jpg  3333735.jpg  40094.jpg\t 9555.jpg\n",
            "1623325.jpg  22080.jpg\t  2788759.jpg  3334973.jpg  401094.jpg\t 961341.jpg\n",
            "1624450.jpg  2216146.jpg  2796102.jpg  3335013.jpg  401144.jpg\t 97656.jpg\n",
            "1624747.jpg  2222018.jpg  280284.jpg   3335267.jpg  401651.jpg\t 979110.jpg\n",
            "1628861.jpg  2223787.jpg  2807888.jpg  3346787.jpg  405173.jpg\t 980247.jpg\n",
            "1632774.jpg  2230959.jpg  2815172.jpg  3364420.jpg  405794.jpg\t 982988.jpg\n",
            "1636831.jpg  2232310.jpg  2818805.jpg  336637.jpg   40762.jpg\t 987732.jpg\n",
            "1645470.jpg  2233395.jpg  2823872.jpg  3372616.jpg  413325.jpg\t 996684.jpg\n"
          ]
        }
      ]
    },
    {
      "cell_type": "code",
      "source": [
        "import os\n",
        "\n",
        "# Walk through pizza_steak directory and list number of files\n",
        "for dirpath, dirnames, filenames in os.walk('pizza_steak'):\n",
        "  print(f\"There are{len(dirnames)} dirctories and {len(filenames)} images in '{dirpath}'. \")"
      ],
      "metadata": {
        "colab": {
          "base_uri": "https://localhost:8080/"
        },
        "id": "GSiXg0-7vlW1",
        "outputId": "a83da5e9-9ec2-4a32-f1f6-5cfa9d98fd25"
      },
      "execution_count": 5,
      "outputs": [
        {
          "output_type": "stream",
          "name": "stdout",
          "text": [
            "There are2 dirctories and 0 images in 'pizza_steak'. \n",
            "There are2 dirctories and 0 images in 'pizza_steak/train'. \n",
            "There are0 dirctories and 750 images in 'pizza_steak/train/pizza'. \n",
            "There are0 dirctories and 750 images in 'pizza_steak/train/steak'. \n",
            "There are2 dirctories and 0 images in 'pizza_steak/test'. \n",
            "There are0 dirctories and 250 images in 'pizza_steak/test/pizza'. \n",
            "There are0 dirctories and 250 images in 'pizza_steak/test/steak'. \n"
          ]
        }
      ]
    },
    {
      "cell_type": "code",
      "source": [
        "# The extra file in our pizza_steak directory is \".DS_Store\"\n",
        "!ls -la pizza_steak"
      ],
      "metadata": {
        "colab": {
          "base_uri": "https://localhost:8080/"
        },
        "id": "Ir9WZgTLxkN_",
        "outputId": "37e655fb-11f6-49f7-8ea3-ebc0b6357851"
      },
      "execution_count": 6,
      "outputs": [
        {
          "output_type": "stream",
          "name": "stdout",
          "text": [
            "total 16\n",
            "drwxr-xr-x 4 root root 4096 Jul 13 14:21 .\n",
            "drwxr-xr-x 1 root root 4096 Jul 13 14:21 ..\n",
            "drwxr-xr-x 4 root root 4096 Jul 13 14:21 test\n",
            "drwxr-xr-x 4 root root 4096 Jul 13 14:21 train\n"
          ]
        }
      ]
    },
    {
      "cell_type": "code",
      "source": [
        "# ANOTHER way to find out how many omages are in a file\n",
        "num_steak_images_train = len(os.listdir('pizza_steak/train/steak'))\n",
        "\n",
        "num_steak_images_train"
      ],
      "metadata": {
        "colab": {
          "base_uri": "https://localhost:8080/"
        },
        "id": "6y8d4hf9yGIn",
        "outputId": "754d9643-fe8e-4995-d87f-c7ba6a0fba26"
      },
      "execution_count": 7,
      "outputs": [
        {
          "output_type": "execute_result",
          "data": {
            "text/plain": [
              "750"
            ]
          },
          "metadata": {},
          "execution_count": 7
        }
      ]
    },
    {
      "cell_type": "markdown",
      "source": [
        "To visualize our images, first lets get the class names programmatically"
      ],
      "metadata": {
        "id": "k_YE4rZQz1ci"
      }
    },
    {
      "cell_type": "code",
      "source": [
        "# Get the classnams programmatically\n",
        "import pathlib\n",
        "import numpy as np\n",
        "data_dir = pathlib.Path('pizza_steak/train')\n",
        "class_names = np.array(sorted([item.name for item in data_dir.glob(\"*\")])) # Created a list of class_names from the subdirectories\n",
        "print(class_names)"
      ],
      "metadata": {
        "colab": {
          "base_uri": "https://localhost:8080/"
        },
        "id": "opll4hnvzxww",
        "outputId": "1c21a18c-c5eb-4506-8fbc-e8157652a33c"
      },
      "execution_count": 8,
      "outputs": [
        {
          "output_type": "stream",
          "name": "stdout",
          "text": [
            "['pizza' 'steak']\n"
          ]
        }
      ]
    },
    {
      "cell_type": "code",
      "source": [
        "# lets visualize our images\n",
        "import matplotlib.pyplot as plt\n",
        "import matplotlib.image as mpimg\n",
        "import random\n",
        "\n",
        "\n",
        "def view_random_image(target_dir, target_class):\n",
        "  # setup the target directory(we will view images from here)\n",
        "  target_folder = target_dir+target_class\n",
        "\n",
        "  # Get a random image path\n",
        "  random_image = random.sample(os.listdir(target_folder), 1)\n",
        "  print(random_image)\n",
        "\n",
        "  # Read in the image and plot it using matplotlib\n",
        "  img = mpimg.imread(target_folder + \"/\" + random_image[0] )\n",
        "  plt.imshow(img)\n",
        "  plt.title(target_class)\n",
        "  plt.axis('off');\n",
        "\n",
        "  print(f\"Image shape: {img.shape} \") # show the shape of the image\n",
        "\n",
        "  return img"
      ],
      "metadata": {
        "id": "Eum_FO7903xj"
      },
      "execution_count": 9,
      "outputs": []
    },
    {
      "cell_type": "code",
      "source": [
        "# View  a random image from the training dataset\n",
        "img = view_random_image(target_dir='pizza_steak/train/',\n",
        "                        target_class='pizza')"
      ],
      "metadata": {
        "colab": {
          "base_uri": "https://localhost:8080/",
          "height": 299
        },
        "id": "cM6rn2ObCrTz",
        "outputId": "3ebde0e6-7b82-4587-bdc9-a1a7c7dd7d4e"
      },
      "execution_count": 10,
      "outputs": [
        {
          "output_type": "stream",
          "name": "stdout",
          "text": [
            "['839461.jpg']\n",
            "Image shape: (512, 307, 3) \n"
          ]
        },
        {
          "output_type": "display_data",
          "data": {
            "text/plain": [
              "<Figure size 432x288 with 1 Axes>"
            ],
            "image/png": "[encoded data removed]"
          },
          "metadata": {
            "needs_background": "light"
          }
        }
      ]
    },
    {
      "cell_type": "code",
      "source": [
        "import tensorflow as tf\n",
        "\n",
        "tf.constant(img)"
      ],
      "metadata": {
        "colab": {
          "base_uri": "https://localhost:8080/"
        },
        "id": "MFK4xBbJDC7U",
        "outputId": "68d97b9c-40ae-4108-ce8a-a700d838b020"
      },
      "execution_count": 11,
      "outputs": [
        {
          "output_type": "execute_result",
          "data": {
            "text/plain": [
              "<tf.Tensor: shape=(512, 307, 3), dtype=uint8, numpy=\n",
              "array([[[190, 148, 150],\n",
              "        [205, 163, 165],\n",
              "        [250, 208, 210],\n",
              "        ...,\n",
              "        [ 97,  86,  84],\n",
              "        [ 95,  84,  82],\n",
              "        [ 94,  83,  81]],\n",
              "\n",
              "       [[199, 160, 163],\n",
              "        [205, 166, 169],\n",
              "        [237, 201, 203],\n",
              "        ...,\n",
              "        [ 91,  81,  80],\n",
              "        [ 90,  80,  79],\n",
              "        [ 89,  79,  78]],\n",
              "\n",
              "       [[196, 166, 166],\n",
              "        [193, 163, 163],\n",
              "        [213, 183, 183],\n",
              "        ...,\n",
              "        [ 88,  79,  80],\n",
              "        [ 87,  78,  79],\n",
              "        [ 86,  77,  78]],\n",
              "\n",
              "       ...,\n",
              "\n",
              "       [[117, 122, 100],\n",
              "        [116, 121,  99],\n",
              "        [116, 121,  99],\n",
              "        ...,\n",
              "        [  0,  52,  65],\n",
              "        [  0,  52,  65],\n",
              "        [  0,  52,  65]],\n",
              "\n",
              "       [[116, 121,  99],\n",
              "        [116, 121,  99],\n",
              "        [117, 122, 100],\n",
              "        ...,\n",
              "        [  1,  53,  66],\n",
              "        [  1,  53,  66],\n",
              "        [  1,  53,  66]],\n",
              "\n",
              "       [[114, 119,  97],\n",
              "        [115, 120,  98],\n",
              "        [116, 121,  99],\n",
              "        ...,\n",
              "        [  1,  53,  66],\n",
              "        [  1,  53,  66],\n",
              "        [  1,  53,  66]]], dtype=uint8)>"
            ]
          },
          "metadata": {},
          "execution_count": 11
        }
      ]
    },
    {
      "cell_type": "code",
      "source": [
        "# view the image shape\n",
        "img.shape  # returns width, height, colour channels\n"
      ],
      "metadata": {
        "colab": {
          "base_uri": "https://localhost:8080/"
        },
        "id": "DlzAHA60Duxj",
        "outputId": "33ddca37-1f94-48a2-bef3-9c78eb05f208"
      },
      "execution_count": 12,
      "outputs": [
        {
          "output_type": "execute_result",
          "data": {
            "text/plain": [
              "(512, 307, 3)"
            ]
          },
          "metadata": {},
          "execution_count": 12
        }
      ]
    },
    {
      "cell_type": "code",
      "source": [
        "img.max()"
      ],
      "metadata": {
        "colab": {
          "base_uri": "https://localhost:8080/"
        },
        "id": "CpWu4bLM79bN",
        "outputId": "608b9b60-2b61-437e-d826-3031ee53500a"
      },
      "execution_count": 13,
      "outputs": [
        {
          "output_type": "execute_result",
          "data": {
            "text/plain": [
              "255"
            ]
          },
          "metadata": {},
          "execution_count": 13
        }
      ]
    },
    {
      "cell_type": "code",
      "source": [
        "img.min"
      ],
      "metadata": {
        "colab": {
          "base_uri": "https://localhost:8080/"
        },
        "id": "HKSFlA-98Uhi",
        "outputId": "31b6fc3b-251a-4a8e-f4c7-54aa2ca2eae3"
      },
      "execution_count": 14,
      "outputs": [
        {
          "output_type": "execute_result",
          "data": {
            "text/plain": [
              "<function ndarray.min>"
            ]
          },
          "metadata": {},
          "execution_count": 14
        }
      ]
    },
    {
      "cell_type": "markdown",
      "source": [
        "**Note** as we have discussed before many machine learning models, including neural networks prefer the values theywork with to be between 0 and 1. knowing this, one of the most common preprocessing steps for working with images is to scale (also reffered to as normalize) their pixel values by dividing the image array 255. (since 255 is the maximu pixel value)"
      ],
      "metadata": {
        "id": "xF1_vMejFSyC"
      }
    },
    {
      "cell_type": "code",
      "source": [
        "# Get all the pixe values between 0 and 1\n",
        "img/225."
      ],
      "metadata": {
        "colab": {
          "base_uri": "https://localhost:8080/"
        },
        "id": "Z43NPFQvEUNj",
        "outputId": "143cc05c-48da-4898-e7d4-7193bacc278e"
      },
      "execution_count": 15,
      "outputs": [
        {
          "output_type": "execute_result",
          "data": {
            "text/plain": [
              "array([[[0.84444444, 0.65777778, 0.66666667],\n",
              "        [0.91111111, 0.72444444, 0.73333333],\n",
              "        [1.11111111, 0.92444444, 0.93333333],\n",
              "        ...,\n",
              "        [0.43111111, 0.38222222, 0.37333333],\n",
              "        [0.42222222, 0.37333333, 0.36444444],\n",
              "        [0.41777778, 0.36888889, 0.36      ]],\n",
              "\n",
              "       [[0.88444444, 0.71111111, 0.72444444],\n",
              "        [0.91111111, 0.73777778, 0.75111111],\n",
              "        [1.05333333, 0.89333333, 0.90222222],\n",
              "        ...,\n",
              "        [0.40444444, 0.36      , 0.35555556],\n",
              "        [0.4       , 0.35555556, 0.35111111],\n",
              "        [0.39555556, 0.35111111, 0.34666667]],\n",
              "\n",
              "       [[0.87111111, 0.73777778, 0.73777778],\n",
              "        [0.85777778, 0.72444444, 0.72444444],\n",
              "        [0.94666667, 0.81333333, 0.81333333],\n",
              "        ...,\n",
              "        [0.39111111, 0.35111111, 0.35555556],\n",
              "        [0.38666667, 0.34666667, 0.35111111],\n",
              "        [0.38222222, 0.34222222, 0.34666667]],\n",
              "\n",
              "       ...,\n",
              "\n",
              "       [[0.52      , 0.54222222, 0.44444444],\n",
              "        [0.51555556, 0.53777778, 0.44      ],\n",
              "        [0.51555556, 0.53777778, 0.44      ],\n",
              "        ...,\n",
              "        [0.        , 0.23111111, 0.28888889],\n",
              "        [0.        , 0.23111111, 0.28888889],\n",
              "        [0.        , 0.23111111, 0.28888889]],\n",
              "\n",
              "       [[0.51555556, 0.53777778, 0.44      ],\n",
              "        [0.51555556, 0.53777778, 0.44      ],\n",
              "        [0.52      , 0.54222222, 0.44444444],\n",
              "        ...,\n",
              "        [0.00444444, 0.23555556, 0.29333333],\n",
              "        [0.00444444, 0.23555556, 0.29333333],\n",
              "        [0.00444444, 0.23555556, 0.29333333]],\n",
              "\n",
              "       [[0.50666667, 0.52888889, 0.43111111],\n",
              "        [0.51111111, 0.53333333, 0.43555556],\n",
              "        [0.51555556, 0.53777778, 0.44      ],\n",
              "        ...,\n",
              "        [0.00444444, 0.23555556, 0.29333333],\n",
              "        [0.00444444, 0.23555556, 0.29333333],\n",
              "        [0.00444444, 0.23555556, 0.29333333]]])"
            ]
          },
          "metadata": {},
          "execution_count": 15
        }
      ]
    },
    {
      "cell_type": "markdown",
      "source": [
        "## AN END-END EXAMPE\n",
        "lets build a Convolution neural network to find patterns in our images, more speciafially we need a way to:\n",
        "\n",
        "* Load our images\n",
        "* Preprocess our images\n",
        "* Build a CNN to find patterns in our mpimg.image\n",
        "* Compile our CNN\n",
        "* Fit the CNN to our training data"
      ],
      "metadata": {
        "id": "npvlWjWFE8nQ"
      }
    },
    {
      "cell_type": "code",
      "source": [
        "import tensorflow as tf\n",
        "from tensorflow.keras.preprocessing.image import  ImageDataGenerator\n",
        "\n",
        "# set the seed \n",
        "tf.random.set_seed(42)\n",
        "\n",
        "# preproces data (get all of the pixel values between 0 & 1, also called normilization/ scaling)\n",
        "train_datagen = ImageDataGenerator(rescale=1./255)\n",
        "valid_datagen = ImageDataGenerator(rescale=1./255)\n",
        "\n",
        "#set paths to our data directories\n",
        "train_dir = \"/content/pizza_steak/train\"\n",
        "test_dir = \"/content/pizza_steak/train\"\n",
        "\n",
        "# Import data from directories and turn it into batches\n",
        "train_data = train_datagen.flow_from_directory(directory = train_dir,\n",
        "                                               batch_size=32,\n",
        "                                               target_size=(224, 224),\n",
        "                                               class_mode='binary',\n",
        "                                               seed=42\n",
        "                                               )\n",
        "valid_data = valid_datagen.flow_from_directory(directory = test_dir,\n",
        "                                               batch_size=32,\n",
        "                                               target_size=(224, 224),\n",
        "                                               class_mode='binary',\n",
        "                                               seed=42\n",
        "                                               )\n",
        "# Build a CNN model ( same as the tiny VGG on the CNN explainer website)\n",
        "model_1 = tf.keras.models.Sequential([\n",
        "                                      tf.keras.layers.Conv2D(filters =10,\n",
        "                                                             kernel_size =3,\n",
        "                                                             activation = 'relu',\n",
        "                                                             input_shape = (224, 224, 3)),\n",
        "          tf.keras.layers.Conv2D(10, 3, activation='relu'),\n",
        "          tf.keras.layers.MaxPool2D(pool_size=2,\n",
        "                                    padding='valid'),\n",
        "          tf.keras.layers.Conv2D(10, 3, activation = 'relu'),\n",
        "          tf.keras.layers.Conv2D(10, 3, activation=\"relu\"),\n",
        "          tf.keras.layers.MaxPool2D(2),\n",
        "          tf.keras.layers.Flatten(),\n",
        "          tf.keras.layers.Dense(1, activation= 'sigmoid')\n",
        "\n",
        "])\n",
        "\n",
        "# compile our CNN\n",
        "model_1.compile(loss = 'binary_crossentropy',\n",
        "                optimizer=tf.keras.optimizers.Adam(),\n",
        "                metrics=[\"accuracy\"]\n",
        "                )\n",
        "\n",
        "# #fit the model \n",
        "history_1 = model_1.fit(train_data,\n",
        "                         epochs=5,\n",
        "                         steps_per_epoch=len(train_data),\n",
        "                        validation_data=valid_data,\n",
        "                        validation_steps=len(valid_data))"
      ],
      "metadata": {
        "colab": {
          "base_uri": "https://localhost:8080/"
        },
        "id": "4uBq9m6B8W6_",
        "outputId": "fe4c0bc3-a79e-4ec7-c344-b56815a3a9dc"
      },
      "execution_count": 16,
      "outputs": [
        {
          "output_type": "stream",
          "name": "stdout",
          "text": [
            "Found 1500 images belonging to 2 classes.\n",
            "Found 1500 images belonging to 2 classes.\n",
            "Epoch 1/5\n",
            "47/47 [==============================] - 29s 289ms/step - loss: 0.5478 - accuracy: 0.7207 - val_loss: 0.5193 - val_accuracy: 0.7233\n",
            "Epoch 2/5\n",
            "47/47 [==============================] - 13s 281ms/step - loss: 0.4339 - accuracy: 0.8027 - val_loss: 0.4018 - val_accuracy: 0.8240\n",
            "Epoch 3/5\n",
            "47/47 [==============================] - 14s 300ms/step - loss: 0.3874 - accuracy: 0.8340 - val_loss: 0.3428 - val_accuracy: 0.8607\n",
            "Epoch 4/5\n",
            "47/47 [==============================] - 13s 277ms/step - loss: 0.3638 - accuracy: 0.8393 - val_loss: 0.3479 - val_accuracy: 0.8567\n",
            "Epoch 5/5\n",
            "47/47 [==============================] - 13s 277ms/step - loss: 0.3247 - accuracy: 0.8600 - val_loss: 0.2948 - val_accuracy: 0.8867\n"
          ]
        }
      ]
    },
    {
      "cell_type": "markdown",
      "source": [
        "**Note** if the above cell is taking longer tahn -10 seconds per epoch make sure you are using GPU by going to Runtime-> Chabge Runtime -> Hardware Accelator -> Gpu (you may have to rerun the cells above)."
      ],
      "metadata": {
        "id": "vR4efAF9RNza"
      }
    },
    {
      "cell_type": "code",
      "source": [
        "len(train_data)"
      ],
      "metadata": {
        "colab": {
          "base_uri": "https://localhost:8080/"
        },
        "id": "MiC7ZzN5HQAF",
        "outputId": "04c12ce7-ba64-45c5-ef6f-7a42997ad634"
      },
      "execution_count": 17,
      "outputs": [
        {
          "output_type": "execute_result",
          "data": {
            "text/plain": [
              "47"
            ]
          },
          "metadata": {},
          "execution_count": 17
        }
      ]
    },
    {
      "cell_type": "code",
      "source": [
        "model_1.summary()"
      ],
      "metadata": {
        "colab": {
          "base_uri": "https://localhost:8080/"
        },
        "id": "_5OE6CiUHazn",
        "outputId": "76ba88d3-364c-43af-bffa-6af7d1b4b677"
      },
      "execution_count": 18,
      "outputs": [
        {
          "output_type": "stream",
          "name": "stdout",
          "text": [
            "Model: \"sequential\"\n",
            "_________________________________________________________________\n",
            " Layer (type)                Output Shape              Param #   \n",
            "=================================================================\n",
            " conv2d (Conv2D)             (None, 222, 222, 10)      280       \n",
            "                                                                 \n",
            " conv2d_1 (Conv2D)           (None, 220, 220, 10)      910       \n",
            "                                                                 \n",
            " max_pooling2d (MaxPooling2D  (None, 110, 110, 10)     0         \n",
            " )                                                               \n",
            "                                                                 \n",
            " conv2d_2 (Conv2D)           (None, 108, 108, 10)      910       \n",
            "                                                                 \n",
            " conv2d_3 (Conv2D)           (None, 106, 106, 10)      910       \n",
            "                                                                 \n",
            " max_pooling2d_1 (MaxPooling  (None, 53, 53, 10)       0         \n",
            " 2D)                                                             \n",
            "                                                                 \n",
            " flatten (Flatten)           (None, 28090)             0         \n",
            "                                                                 \n",
            " dense (Dense)               (None, 1)                 28091     \n",
            "                                                                 \n",
            "=================================================================\n",
            "Total params: 31,101\n",
            "Trainable params: 31,101\n",
            "Non-trainable params: 0\n",
            "_________________________________________________________________\n"
          ]
        }
      ]
    },
    {
      "cell_type": "markdown",
      "source": [
        "https://poloclub.github.io/cnn-explainer/\n",
        "\n",
        "\n",
        "CNN explainer"
      ],
      "metadata": {
        "id": "GWWhEMPLbC0r"
      }
    },
    {
      "cell_type": "markdown",
      "source": [
        "## Using the same model as before\n",
        "\n",
        "Lets replicate the model we have built in a previous section to see if it works with our image data.\n",
        "\n",
        "The model we are building is from TensorFlow playground:https://playground.tensorflow.org"
      ],
      "metadata": {
        "id": "4UKg9lqyWB0X"
      }
    },
    {
      "cell_type": "code",
      "source": [
        "# set random seed \n",
        "tf.random.set_seed(42)\n",
        "\n",
        "# Create a model to replicate the TensorFlow playground model\n",
        "model_2 = tf.keras.Sequential([\n",
        "      tf.keras.layers.Flatten(input_shape=(224,224,3)),\n",
        "      tf.keras.layers.Dense(4, activation='relu'),\n",
        "      tf.keras.layers.Dense(4, activation='relu'),\n",
        "      tf.keras.layers.Dense(1, activation = 'sigmoid')\n",
        "])\n",
        "\n",
        "# compile our CNN\n",
        "model_2.compile(loss = 'binary_crossentropy',\n",
        "                optimizer=tf.keras.optimizers.Adam(),\n",
        "                metrics=[\"accuracy\"]\n",
        "                )\n",
        "\n",
        "# #fit the model \n",
        "history_2 = model_2.fit(train_data,\n",
        "                         epochs=5,\n",
        "                         steps_per_epoch=len(train_data),\n",
        "                        validation_data=valid_data,\n",
        "                        validation_steps=len(valid_data))"
      ],
      "metadata": {
        "colab": {
          "base_uri": "https://localhost:8080/"
        },
        "id": "wbK5OfS-dvF_",
        "outputId": "eb4b2650-7fb9-41b5-a86b-25ce109193ed"
      },
      "execution_count": 19,
      "outputs": [
        {
          "output_type": "stream",
          "name": "stdout",
          "text": [
            "Epoch 1/5\n",
            "47/47 [==============================] - 13s 265ms/step - loss: 1.9140 - accuracy: 0.5120 - val_loss: 0.6932 - val_accuracy: 0.5000\n",
            "Epoch 2/5\n",
            "47/47 [==============================] - 13s 275ms/step - loss: 0.6932 - accuracy: 0.5000 - val_loss: 0.6932 - val_accuracy: 0.5000\n",
            "Epoch 3/5\n",
            "47/47 [==============================] - 12s 256ms/step - loss: 0.6932 - accuracy: 0.5000 - val_loss: 0.6932 - val_accuracy: 0.5000\n",
            "Epoch 4/5\n",
            "47/47 [==============================] - 12s 259ms/step - loss: 0.6932 - accuracy: 0.5000 - val_loss: 0.6932 - val_accuracy: 0.5000\n",
            "Epoch 5/5\n",
            "47/47 [==============================] - 12s 259ms/step - loss: 0.6932 - accuracy: 0.5000 - val_loss: 0.6931 - val_accuracy: 0.5000\n"
          ]
        }
      ]
    },
    {
      "cell_type": "code",
      "source": [
        "# get a summary of model_2\n",
        "model_2.summary()"
      ],
      "metadata": {
        "colab": {
          "base_uri": "https://localhost:8080/"
        },
        "id": "nAOd0mVigboW",
        "outputId": "e4923f83-af9d-42b6-ebb4-aa417f8df9be"
      },
      "execution_count": 20,
      "outputs": [
        {
          "output_type": "stream",
          "name": "stdout",
          "text": [
            "Model: \"sequential_1\"\n",
            "_________________________________________________________________\n",
            " Layer (type)                Output Shape              Param #   \n",
            "=================================================================\n",
            " flatten_1 (Flatten)         (None, 150528)            0         \n",
            "                                                                 \n",
            " dense_1 (Dense)             (None, 4)                 602116    \n",
            "                                                                 \n",
            " dense_2 (Dense)             (None, 4)                 20        \n",
            "                                                                 \n",
            " dense_3 (Dense)             (None, 1)                 5         \n",
            "                                                                 \n",
            "=================================================================\n",
            "Total params: 602,141\n",
            "Trainable params: 602,141\n",
            "Non-trainable params: 0\n",
            "_________________________________________________________________\n"
          ]
        }
      ]
    },
    {
      "cell_type": "markdown",
      "source": [
        "Despite having 20x more parameters than our CNN(model_1),\n",
        "model_2 performs terribly ....  lets try to improve "
      ],
      "metadata": {
        "id": "XnEAMYCljnvi"
      }
    },
    {
      "cell_type": "code",
      "source": [
        "# set random seed \n",
        "tf.random.set_seed(42)\n",
        "\n",
        "# Create a model to replicate the TensorFlow playground model\n",
        "model_3 = tf.keras.Sequential([\n",
        "      tf.keras.layers.Flatten(input_shape=(224,224,3)),\n",
        "      tf.keras.layers.Dense(100, activation='relu'),\n",
        "      tf.keras.layers.Dense(100, activation='relu'),\n",
        "      tf.keras.layers.Dense(100, activation='relu'),\n",
        "      tf.keras.layers.Dense(1, activation = 'sigmoid')\n",
        "])\n",
        "\n",
        "# compile our model\n",
        "model_3.compile(loss = 'binary_crossentropy',\n",
        "                optimizer=tf.keras.optimizers.Adam(),\n",
        "                metrics=[\"accuracy\"]\n",
        "                )\n",
        "\n",
        "# #fit the model \n",
        "history_3 = model_3.fit(train_data,\n",
        "                         epochs=5,\n",
        "                         steps_per_epoch=len(train_data),\n",
        "                        validation_data=valid_data,\n",
        "                        validation_steps=len(valid_data))"
      ],
      "metadata": {
        "colab": {
          "base_uri": "https://localhost:8080/"
        },
        "id": "I9Tsmm3ijaNj",
        "outputId": "130fa25d-2bc4-4cb5-b29a-b663b9d4a8b8"
      },
      "execution_count": 21,
      "outputs": [
        {
          "output_type": "stream",
          "name": "stdout",
          "text": [
            "Epoch 1/5\n",
            "47/47 [==============================] - 13s 264ms/step - loss: 3.0684 - accuracy: 0.6353 - val_loss: 0.9740 - val_accuracy: 0.6713\n",
            "Epoch 2/5\n",
            "47/47 [==============================] - 12s 257ms/step - loss: 0.8871 - accuracy: 0.7007 - val_loss: 0.8117 - val_accuracy: 0.6667\n",
            "Epoch 3/5\n",
            "47/47 [==============================] - 12s 257ms/step - loss: 0.6052 - accuracy: 0.7413 - val_loss: 0.6949 - val_accuracy: 0.6767\n",
            "Epoch 4/5\n",
            "47/47 [==============================] - 12s 258ms/step - loss: 0.6799 - accuracy: 0.7467 - val_loss: 0.4452 - val_accuracy: 0.8220\n",
            "Epoch 5/5\n",
            "47/47 [==============================] - 12s 259ms/step - loss: 0.5377 - accuracy: 0.7707 - val_loss: 0.3906 - val_accuracy: 0.8353\n"
          ]
        }
      ]
    },
    {
      "cell_type": "code",
      "source": [
        "# summary of model_3\n",
        "model_3.summary()"
      ],
      "metadata": {
        "colab": {
          "base_uri": "https://localhost:8080/"
        },
        "id": "VVsfIFbgkY7j",
        "outputId": "b7b2e159-2d57-4d72-ba6c-eb853481fb8a"
      },
      "execution_count": 22,
      "outputs": [
        {
          "output_type": "stream",
          "name": "stdout",
          "text": [
            "Model: \"sequential_2\"\n",
            "_________________________________________________________________\n",
            " Layer (type)                Output Shape              Param #   \n",
            "=================================================================\n",
            " flatten_2 (Flatten)         (None, 150528)            0         \n",
            "                                                                 \n",
            " dense_4 (Dense)             (None, 100)               15052900  \n",
            "                                                                 \n",
            " dense_5 (Dense)             (None, 100)               10100     \n",
            "                                                                 \n",
            " dense_6 (Dense)             (None, 100)               10100     \n",
            "                                                                 \n",
            " dense_7 (Dense)             (None, 1)                 101       \n",
            "                                                                 \n",
            "=================================================================\n",
            "Total params: 15,073,201\n",
            "Trainable params: 15,073,201\n",
            "Non-trainable params: 0\n",
            "_________________________________________________________________\n"
          ]
        }
      ]
    },
    {
      "cell_type": "markdown",
      "source": [
        "**Note** You can think of trainable parameters as patterns a model can learn from data. intuitively, you might think more is better. and in lots of cases, it is. but in this case, the difference here is the two different style of model we are using. where a series of dense layers has a number of different learnable parameters connected to each other and hence a higher number of possible learnable patterns, a convolutional neautral network seeks to sort out and learn the most important patterns in an image. So even though these are less learnable parameters in our convolutuional neaural network, these are often more helpful in dechipering between different features in an image"
      ],
      "metadata": {
        "id": "pHUAmrimlDnm"
      }
    },
    {
      "cell_type": "code",
      "source": [
        "model_1.summary()"
      ],
      "metadata": {
        "colab": {
          "base_uri": "https://localhost:8080/"
        },
        "id": "1vreh_6knocT",
        "outputId": "3223e86d-c222-44a9-f690-8d71e046006f"
      },
      "execution_count": 23,
      "outputs": [
        {
          "output_type": "stream",
          "name": "stdout",
          "text": [
            "Model: \"sequential\"\n",
            "_________________________________________________________________\n",
            " Layer (type)                Output Shape              Param #   \n",
            "=================================================================\n",
            " conv2d (Conv2D)             (None, 222, 222, 10)      280       \n",
            "                                                                 \n",
            " conv2d_1 (Conv2D)           (None, 220, 220, 10)      910       \n",
            "                                                                 \n",
            " max_pooling2d (MaxPooling2D  (None, 110, 110, 10)     0         \n",
            " )                                                               \n",
            "                                                                 \n",
            " conv2d_2 (Conv2D)           (None, 108, 108, 10)      910       \n",
            "                                                                 \n",
            " conv2d_3 (Conv2D)           (None, 106, 106, 10)      910       \n",
            "                                                                 \n",
            " max_pooling2d_1 (MaxPooling  (None, 53, 53, 10)       0         \n",
            " 2D)                                                             \n",
            "                                                                 \n",
            " flatten (Flatten)           (None, 28090)             0         \n",
            "                                                                 \n",
            " dense (Dense)               (None, 1)                 28091     \n",
            "                                                                 \n",
            "=================================================================\n",
            "Total params: 31,101\n",
            "Trainable params: 31,101\n",
            "Non-trainable params: 0\n",
            "_________________________________________________________________\n"
          ]
        }
      ]
    },
    {
      "cell_type": "markdown",
      "source": [
        "## Binary classification : lets break it out\n",
        "\n",
        "1. Become one with data (visualize, visualize, visualize)\n",
        "2. Preproces the data (prepare it for our model, the main step here was scaling/normalizing & turning our data into batches)\n",
        "3. Create a model (start with a baseline)\n",
        "4. Fit the model\n",
        "5. Evaluate the model\n",
        "6. Ajust different parameters and improve the model (try to beat our baseline)\n",
        "7. Repeat until satisfied (experiment, experiment, experiment)"
      ],
      "metadata": {
        "id": "V9fPeEw6nqtJ"
      }
    },
    {
      "cell_type": "markdown",
      "source": [
        "Become one with the data"
      ],
      "metadata": {
        "id": "1wfQqEmUonHJ"
      }
    },
    {
      "cell_type": "code",
      "source": [
        "# visualize data\n",
        "import matplotlib.pyplot as plt\n",
        "plt.figure()\n",
        "plt.subplot(1, 2, 1)\n",
        "steak_img = view_random_image(\"pizza_steak/train/\", \"steak\")\n",
        "plt.figure()\n",
        "plt.subplot(1, 2, 1)\n",
        "steak_img = view_random_image(\"pizza_steak/train/\", \"pizza\")\n"
      ],
      "metadata": {
        "colab": {
          "base_uri": "https://localhost:8080/",
          "height": 412
        },
        "id": "H2cdv2SlorJ2",
        "outputId": "98eede45-fee1-4a3b-f216-a80b6b6d65c7"
      },
      "execution_count": 24,
      "outputs": [
        {
          "output_type": "stream",
          "name": "stdout",
          "text": [
            "['2534567.jpg']\n",
            "Image shape: (512, 512, 3) \n",
            "['271592.jpg']\n",
            "Image shape: (384, 512, 3) \n"
          ]
        },
        {
          "output_type": "display_data",
          "data": {
            "text/plain": [
              "<Figure size 432x288 with 1 Axes>"
            ],
            "image/png": "[encoded data removed]"
          },
          "metadata": {
            "needs_background": "light"
          }
        },
        {
          "output_type": "display_data",
          "data": {
            "text/plain": [
              "<Figure size 432x288 with 1 Axes>"
            ],
            "image/png": "[encoded data removed]"
          },
          "metadata": {
            "needs_background": "light"
          }
        }
      ]
    },
    {
      "cell_type": "markdown",
      "source": [
        "## 2. preprocess the data(prepare it for a model)"
      ],
      "metadata": {
        "id": "5CGsLTpBpLzy"
      }
    },
    {
      "cell_type": "code",
      "source": [
        "## Define our diectory dataset paths\n",
        "train_dir = \"pizza_steak/train/\"\n",
        "test_dir = \"pizza_steak/test/\""
      ],
      "metadata": {
        "id": "ikoliERz3j_z"
      },
      "execution_count": 25,
      "outputs": []
    },
    {
      "cell_type": "markdown",
      "source": [
        "Our next step is to turn our data into batches\n",
        "\n",
        "A batch is a small subset of data. rather than look at all 10,000 images at once, a model might only look at 32 at a time\n",
        "\n",
        "It does this for a couple of reasons:\n",
        "1. 10,000 images (or more) might not fit into the memory of our processor (GPU)\n",
        "\n",
        "2. Try to learn the patterns in 10,000 images in one hit could result in model not being able to learn very well.\n",
        "\n",
        "why 32?? \n",
        "Because 32 is good "
      ],
      "metadata": {
        "id": "pLTmsRWq32YU"
      }
    },
    {
      "cell_type": "code",
      "source": [
        "!nvidia-smi"
      ],
      "metadata": {
        "colab": {
          "base_uri": "https://localhost:8080/"
        },
        "id": "v-mMpGrY308h",
        "outputId": "4d667437-f675-4a48-8d44-95cc5d98c72b"
      },
      "execution_count": 26,
      "outputs": [
        {
          "output_type": "stream",
          "name": "stdout",
          "text": [
            "Wed Jul 13 14:24:50 2022       \n",
            "+-----------------------------------------------------------------------------+\n",
            "| NVIDIA-SMI 460.32.03    Driver Version: 460.32.03    CUDA Version: 11.2     |\n",
            "|-------------------------------+----------------------+----------------------+\n",
            "| GPU  Name        Persistence-M| Bus-Id        Disp.A | Volatile Uncorr. ECC |\n",
            "| Fan  Temp  Perf  Pwr:Usage/Cap|         Memory-Usage | GPU-Util  Compute M. |\n",
            "|                               |                      |               MIG M. |\n",
            "|===============================+======================+======================|\n",
            "|   0  Tesla T4            Off  | 00000000:00:04.0 Off |                    0 |\n",
            "| N/A   48C    P0    27W /  70W |   2348MiB / 15109MiB |      0%      Default |\n",
            "|                               |                      |                  N/A |\n",
            "+-------------------------------+----------------------+----------------------+\n",
            "                                                                               \n",
            "+-----------------------------------------------------------------------------+\n",
            "| Processes:                                                                  |\n",
            "|  GPU   GI   CI        PID   Type   Process name                  GPU Memory |\n",
            "|        ID   ID                                                   Usage      |\n",
            "|=============================================================================|\n",
            "+-----------------------------------------------------------------------------+\n"
          ]
        }
      ]
    },
    {
      "cell_type": "code",
      "source": [
        "## Create train and test data generators and rescale the data\n",
        "from tensorflow.keras.preprocessing.image import ImageDataGenerator\n",
        "train_datagen = ImageDataGenerator(rescale=1/255.)\n",
        "test_datagen = ImageDataGenerator(rescale=1/255.)"
      ],
      "metadata": {
        "id": "HC3NwnDI4nh_"
      },
      "execution_count": 27,
      "outputs": []
    },
    {
      "cell_type": "code",
      "source": [
        "# load in our image data from directories and turn them into batches \n",
        "train_data = train_datagen.flow_from_directory(directory=train_dir, #target directory of image\n",
        "                                               target_size=(224,224),# target sie of mages (height, width)\n",
        "                                               class_mode='binary',# type of data you are working with\n",
        "                                               batch_size=32)# size of minbatches to load data into\n",
        "test_data = test_datagen.flow_from_directory(directory=test_dir,\n",
        "                                               target_size=(224,224),\n",
        "                                               class_mode='binary',\n",
        "                                               batch_size=32)"
      ],
      "metadata": {
        "colab": {
          "base_uri": "https://localhost:8080/"
        },
        "id": "y7Osihla9p4c",
        "outputId": "d49aea66-65d0-4511-c321-17db3c736077"
      },
      "execution_count": 28,
      "outputs": [
        {
          "output_type": "stream",
          "name": "stdout",
          "text": [
            "Found 1500 images belonging to 2 classes.\n",
            "Found 500 images belonging to 2 classes.\n"
          ]
        }
      ]
    },
    {
      "cell_type": "code",
      "source": [
        "# get a sample of a train data batch\n",
        "images, labels = train_data.next() #get the next batch of images/labels in tarin data\n",
        "len(images), len(labels)"
      ],
      "metadata": {
        "colab": {
          "base_uri": "https://localhost:8080/"
        },
        "id": "wTpEYiZtAgf-",
        "outputId": "c958d0a5-ef08-4a4f-bf3b-bf5be9ba43ed"
      },
      "execution_count": 29,
      "outputs": [
        {
          "output_type": "execute_result",
          "data": {
            "text/plain": [
              "(32, 32)"
            ]
          },
          "metadata": {},
          "execution_count": 29
        }
      ]
    },
    {
      "cell_type": "code",
      "source": [
        "# how many batches are there?\n",
        "len(train_data)"
      ],
      "metadata": {
        "colab": {
          "base_uri": "https://localhost:8080/"
        },
        "id": "Vxi0EmvkA5lx",
        "outputId": "f44729b5-67c0-467a-f5b1-64c48764ca49"
      },
      "execution_count": 30,
      "outputs": [
        {
          "output_type": "execute_result",
          "data": {
            "text/plain": [
              "47"
            ]
          },
          "metadata": {},
          "execution_count": 30
        }
      ]
    },
    {
      "cell_type": "code",
      "source": [
        "# Get the first two images\n",
        "images[:2], images[0].shape"
      ],
      "metadata": {
        "colab": {
          "base_uri": "https://localhost:8080/"
        },
        "id": "KuURBKcZBr7v",
        "outputId": "532ac423-61fa-4904-d33c-a5c1ba539e00"
      },
      "execution_count": 31,
      "outputs": [
        {
          "output_type": "execute_result",
          "data": {
            "text/plain": [
              "(array([[[[0.3647059 , 0.10980393, 0.02352941],\n",
              "          [0.37254903, 0.12941177, 0.03921569],\n",
              "          [0.37647063, 0.14117648, 0.04705883],\n",
              "          ...,\n",
              "          [0.7803922 , 0.58431375, 0.3921569 ],\n",
              "          [0.73333335, 0.54509807, 0.3529412 ],\n",
              "          [0.75294125, 0.5529412 , 0.3372549 ]],\n",
              " \n",
              "         [[0.3647059 , 0.12156864, 0.03921569],\n",
              "          [0.37254903, 0.12941177, 0.04705883],\n",
              "          [0.35686275, 0.11764707, 0.03529412],\n",
              "          ...,\n",
              "          [0.7490196 , 0.56078434, 0.37254903],\n",
              "          [0.7490196 , 0.5529412 , 0.3529412 ],\n",
              "          [0.7725491 , 0.5568628 , 0.33333334]],\n",
              " \n",
              "         [[0.37254903, 0.1254902 , 0.05490196],\n",
              "          [0.3647059 , 0.11764707, 0.04705883],\n",
              "          [0.37254903, 0.13333334, 0.05882353],\n",
              "          ...,\n",
              "          [0.7568628 , 0.57254905, 0.3921569 ],\n",
              "          [0.7372549 , 0.52156866, 0.30980393],\n",
              "          [0.78823537, 0.5372549 , 0.28627452]],\n",
              " \n",
              "         ...,\n",
              " \n",
              "         [[0.6156863 , 0.5882353 , 0.5254902 ],\n",
              "          [0.6039216 , 0.5686275 , 0.50980395],\n",
              "          [0.61960787, 0.5803922 , 0.53333336],\n",
              "          ...,\n",
              "          [0.7176471 , 0.7019608 , 0.654902  ],\n",
              "          [0.7058824 , 0.68235296, 0.61960787],\n",
              "          [0.7137255 , 0.69411767, 0.61960787]],\n",
              " \n",
              "         [[0.6       , 0.57254905, 0.5019608 ],\n",
              "          [0.6       , 0.5647059 , 0.5058824 ],\n",
              "          [0.60784316, 0.56078434, 0.5058824 ],\n",
              "          ...,\n",
              "          [0.69411767, 0.68235296, 0.60784316],\n",
              "          [0.6901961 , 0.6666667 , 0.5803922 ],\n",
              "          [0.70980394, 0.6784314 , 0.5882353 ]],\n",
              " \n",
              "         [[0.58431375, 0.5568628 , 0.48235297],\n",
              "          [0.5882353 , 0.5529412 , 0.48627454],\n",
              "          [0.5921569 , 0.54509807, 0.4901961 ],\n",
              "          ...,\n",
              "          [0.6862745 , 0.6666667 , 0.5803922 ],\n",
              "          [0.6862745 , 0.65882355, 0.54901963],\n",
              "          [0.69411767, 0.6666667 , 0.5529412 ]]],\n",
              " \n",
              " \n",
              "        [[[0.01568628, 0.01568628, 0.01568628],\n",
              "          [0.01176471, 0.01176471, 0.01176471],\n",
              "          [0.01176471, 0.01176471, 0.01176471],\n",
              "          ...,\n",
              "          [0.10196079, 0.07843138, 0.08627451],\n",
              "          [0.12941177, 0.09411766, 0.10588236],\n",
              "          [0.15294118, 0.11764707, 0.12156864]],\n",
              " \n",
              "         [[0.01568628, 0.01568628, 0.01568628],\n",
              "          [0.01176471, 0.01176471, 0.01176471],\n",
              "          [0.01176471, 0.01176471, 0.01176471],\n",
              "          ...,\n",
              "          [0.09019608, 0.07058824, 0.08627451],\n",
              "          [0.09019608, 0.06666667, 0.07450981],\n",
              "          [0.09411766, 0.07058824, 0.07843138]],\n",
              " \n",
              "         [[0.01568628, 0.01568628, 0.01568628],\n",
              "          [0.01176471, 0.01176471, 0.01176471],\n",
              "          [0.01176471, 0.01176471, 0.01176471],\n",
              "          ...,\n",
              "          [0.09019608, 0.08235294, 0.10196079],\n",
              "          [0.09411766, 0.07450981, 0.09019608],\n",
              "          [0.08235294, 0.0627451 , 0.07843138]],\n",
              " \n",
              "         ...,\n",
              " \n",
              "         [[0.06666667, 0.02745098, 0.        ],\n",
              "          [0.06666667, 0.02745098, 0.        ],\n",
              "          [0.07450981, 0.03529412, 0.        ],\n",
              "          ...,\n",
              "          [0.03921569, 0.02745098, 0.00784314],\n",
              "          [0.03137255, 0.01960784, 0.        ],\n",
              "          [0.03137255, 0.01960784, 0.        ]],\n",
              " \n",
              "         [[0.07843138, 0.04313726, 0.01568628],\n",
              "          [0.07450981, 0.03921569, 0.01176471],\n",
              "          [0.07058824, 0.03529412, 0.00784314],\n",
              "          ...,\n",
              "          [0.04313726, 0.03137255, 0.01176471],\n",
              "          [0.04313726, 0.03137255, 0.01176471],\n",
              "          [0.04313726, 0.03137255, 0.01176471]],\n",
              " \n",
              "         [[0.06666667, 0.03921569, 0.01568628],\n",
              "          [0.0627451 , 0.03529412, 0.01176471],\n",
              "          [0.0627451 , 0.02745098, 0.00784314],\n",
              "          ...,\n",
              "          [0.04705883, 0.03529412, 0.01568628],\n",
              "          [0.03921569, 0.02745098, 0.00784314],\n",
              "          [0.03921569, 0.02745098, 0.00784314]]]], dtype=float32),\n",
              " (224, 224, 3))"
            ]
          },
          "metadata": {},
          "execution_count": 31
        }
      ]
    },
    {
      "cell_type": "code",
      "source": [
        "# View the first batch of labels\n",
        "labels"
      ],
      "metadata": {
        "colab": {
          "base_uri": "https://localhost:8080/"
        },
        "id": "N3Ias2vJB8yX",
        "outputId": "5aaf4353-87b9-469a-c3f1-aad98e1e8574"
      },
      "execution_count": 32,
      "outputs": [
        {
          "output_type": "execute_result",
          "data": {
            "text/plain": [
              "array([1., 1., 1., 1., 1., 0., 1., 0., 1., 0., 0., 1., 0., 1., 0., 0., 0.,\n",
              "       1., 1., 1., 0., 0., 0., 1., 0., 1., 0., 1., 1., 0., 1., 1.],\n",
              "      dtype=float32)"
            ]
          },
          "metadata": {},
          "execution_count": 32
        }
      ]
    },
    {
      "cell_type": "markdown",
      "source": [
        "## 3. Create a CNN model (start with a baseline)\n",
        "\n",
        "A baseline is a relatively simple model or existing result that you setup when beginning a machine learning experimentand then as you keep experimenting, you try to beat the baseline\n",
        "\n",
        "**Note**: In deep learning, there is almost an infinite amount of architecture you could create. so one of the best ways to get started is to start with something simple and see if it works on your data and then introduce complexity as required (e.g. look at which current model is performing best in the field for your problem)"
      ],
      "metadata": {
        "id": "RJ4Q7wSkEDNh"
      }
    },
    {
      "cell_type": "code",
      "source": [
        "# Make the creating of our model a little easier\n",
        "from tensorflow.keras.optimizers import Adam\n",
        "from tensorflow.keras.layers import Dense, Flatten, Conv2D, MaxPool2D, Activation\n",
        "from tensorflow.keras import Sequential"
      ],
      "metadata": {
        "id": "GaYh7GLAQIp3"
      },
      "execution_count": 33,
      "outputs": []
    },
    {
      "cell_type": "code",
      "source": [
        "# Create the model (this will be our baseline, a layer convolution neural network)\n",
        "model_4 = Sequential([\n",
        "  Conv2D(filters =10, # its the number of sliding windows going across an input(higher= more complex model)\n",
        "         kernel_size=3, # the side of the sliding window going across an input\n",
        "         strides=1, # the size of steps the sliding window takes across an input\n",
        "         padding=\"valid\", # if same, output is same as input shape, if valid output shape gets compressed\n",
        "         activation=\"relu\",\n",
        "         input_shape=(224, 224, 3)), # input layer (specify input shape)\n",
        "  Conv2D(10, 3, activation=\"relu\"),\n",
        "  Conv2D(10, 3, activation=\"relu\"),\n",
        "  Flatten(),\n",
        "  Dense(1, activation=\"sigmoid\") # output layer (working with binary classification so only 1 output neauron)\n",
        "\n",
        "])"
      ],
      "metadata": {
        "id": "S8wfzc5mRwry"
      },
      "execution_count": 34,
      "outputs": []
    },
    {
      "cell_type": "code",
      "source": [
        "# compile the model\n",
        "model_4.compile(loss= \"binary_crossentropy\",\n",
        "                optimizer=Adam(),\n",
        "                metrics=['accuracy']\n",
        "\n",
        "\n",
        ")"
      ],
      "metadata": {
        "id": "nrVs0daRWTRR"
      },
      "execution_count": 35,
      "outputs": []
    },
    {
      "cell_type": "code",
      "source": [
        "# Get the summary of our model\n",
        "model_4.summary()"
      ],
      "metadata": {
        "colab": {
          "base_uri": "https://localhost:8080/"
        },
        "id": "6GWjQMIecAwS",
        "outputId": "b3194c46-a302-4d34-c62d-8c8fb095fcf4"
      },
      "execution_count": 36,
      "outputs": [
        {
          "output_type": "stream",
          "name": "stdout",
          "text": [
            "Model: \"sequential_3\"\n",
            "_________________________________________________________________\n",
            " Layer (type)                Output Shape              Param #   \n",
            "=================================================================\n",
            " conv2d_4 (Conv2D)           (None, 222, 222, 10)      280       \n",
            "                                                                 \n",
            " conv2d_5 (Conv2D)           (None, 220, 220, 10)      910       \n",
            "                                                                 \n",
            " conv2d_6 (Conv2D)           (None, 218, 218, 10)      910       \n",
            "                                                                 \n",
            " flatten_3 (Flatten)         (None, 475240)            0         \n",
            "                                                                 \n",
            " dense_8 (Dense)             (None, 1)                 475241    \n",
            "                                                                 \n",
            "=================================================================\n",
            "Total params: 477,341\n",
            "Trainable params: 477,341\n",
            "Non-trainable params: 0\n",
            "_________________________________________________________________\n"
          ]
        }
      ]
    },
    {
      "cell_type": "code",
      "source": [
        "## Fit the model\n",
        "# Check the lengths of training and test data generators\n",
        "len(train_data), len(test_data)"
      ],
      "metadata": {
        "colab": {
          "base_uri": "https://localhost:8080/"
        },
        "id": "gPt5l_w6bsYO",
        "outputId": "697ede16-7357-4995-ca10-69e47010beff"
      },
      "execution_count": 37,
      "outputs": [
        {
          "output_type": "execute_result",
          "data": {
            "text/plain": [
              "(47, 16)"
            ]
          },
          "metadata": {},
          "execution_count": 37
        }
      ]
    },
    {
      "cell_type": "code",
      "source": [
        "#fit the model\n",
        "history_4 =  model_4.fit(train_data, # this is a combination of labels and samples\n",
        "                       epochs=5,\n",
        "                       steps_per_epoch=len(train_data),\n",
        "                       validation_data=test_data,\n",
        "                       validation_steps=len(test_data)\n",
        "                       \n",
        "                       \n",
        "                       )"
      ],
      "metadata": {
        "colab": {
          "base_uri": "https://localhost:8080/"
        },
        "id": "BxDmpSGtccyp",
        "outputId": "eeb03568-ee1d-47ba-ad54-368bc90a095e"
      },
      "execution_count": 38,
      "outputs": [
        {
          "output_type": "stream",
          "name": "stdout",
          "text": [
            "Epoch 1/5\n",
            "47/47 [==============================] - 10s 202ms/step - loss: 1.9893 - accuracy: 0.6100 - val_loss: 0.4613 - val_accuracy: 0.7900\n",
            "Epoch 2/5\n",
            "47/47 [==============================] - 9s 188ms/step - loss: 0.4680 - accuracy: 0.7973 - val_loss: 0.3806 - val_accuracy: 0.8360\n",
            "Epoch 3/5\n",
            "47/47 [==============================] - 9s 190ms/step - loss: 0.3293 - accuracy: 0.8627 - val_loss: 0.3736 - val_accuracy: 0.8440\n",
            "Epoch 4/5\n",
            "47/47 [==============================] - 10s 205ms/step - loss: 0.1971 - accuracy: 0.9440 - val_loss: 0.5021 - val_accuracy: 0.7660\n",
            "Epoch 5/5\n",
            "47/47 [==============================] - 9s 190ms/step - loss: 0.0867 - accuracy: 0.9793 - val_loss: 0.5344 - val_accuracy: 0.8020\n"
          ]
        }
      ]
    },
    {
      "cell_type": "markdown",
      "source": [
        "## 5.  Evalaute our model\n",
        "it looks like our model is learning something, lets evalaute it"
      ],
      "metadata": {
        "id": "YXVk-XygeNSF"
      }
    },
    {
      "cell_type": "code",
      "source": [
        "# lets plot the training cuves\n",
        "import pandas as pd\n",
        "pd.DataFrame(history_4.history).plot(figsize=(10,7))"
      ],
      "metadata": {
        "colab": {
          "base_uri": "https://localhost:8080/",
          "height": 445
        },
        "id": "uvP3d3vIe1NR",
        "outputId": "fb8da9c1-d5bc-43d8-bf96-d0c634226799"
      },
      "execution_count": 39,
      "outputs": [
        {
          "output_type": "execute_result",
          "data": {
            "text/plain": [
              "<matplotlib.axes._subplots.AxesSubplot at 0x7f405762d750>"
            ]
          },
          "metadata": {},
          "execution_count": 39
        },
        {
          "output_type": "display_data",
          "data": {
            "text/plain": [
              "<Figure size 720x504 with 1 Axes>"
            ],
            "image/png": "[encoded data removed]"
          },
          "metadata": {
            "needs_background": "light"
          }
        }
      ]
    },
    {
      "cell_type": "code",
      "source": [
        "# plot the validation and training curves seperately\n",
        "def plot_loss_curves(history):\n",
        "  \"\"\"\n",
        "  Returns seperate loss curves for training and validation metrics.\n",
        "  \"\"\"\n",
        "  loss = history.history[\"loss\"]\n",
        "  val_loss= history.history[\"val_loss\"]\n",
        "  accuracy = history.history[\"accuracy\"]\n",
        "  val_accuracy = history.history[\"val_accuracy\"]\n",
        "  epochs = range(len(history.history[\"loss\"])) # how many epochs did we run for?\n",
        "\n",
        "  #plot loss\n",
        "  plt.plot(epochs, loss, label=\"training_loss\")\n",
        "  plt.plot(epochs, val_loss, label=\"val_loss\")\n",
        "  plt.title(\"loss\")\n",
        "  plt.xlabel(\"epochs\")\n",
        "  plt.legend()\n",
        "\n",
        "  #plot accuracy\n",
        "  plt.figure()\n",
        "  plt.plot(epochs, loss, label=\"training_accuracy\")\n",
        "  plt.plot(epochs, val_loss, label=\"val_accuracy\")\n",
        "  plt.title(\"accuracy\")\n",
        "  plt.xlabel(\"epochs\")\n",
        "  plt.legend()"
      ],
      "metadata": {
        "id": "0mkCVdWLfJw7"
      },
      "execution_count": 40,
      "outputs": []
    },
    {
      "cell_type": "markdown",
      "source": [
        "**Note** when a model\"s **validation loss** starts to incrase, its likely the model is over fitting the training data set. this means its learning the patterns in the training dataset *too well* and thus the models ablility to generalize to unsen data will be diminished"
      ],
      "metadata": {
        "id": "46sgf3IAl5QP"
      }
    },
    {
      "cell_type": "code",
      "source": [
        "# check out the loss and accuracy of model_4\n",
        "plot_loss_curves(history_4)"
      ],
      "metadata": {
        "colab": {
          "base_uri": "https://localhost:8080/",
          "height": 573
        },
        "id": "s4NgMFxZjM0b",
        "outputId": "64c79d29-c6fa-45ac-a46a-a437005aead8"
      },
      "execution_count": 41,
      "outputs": [
        {
          "output_type": "display_data",
          "data": {
            "text/plain": [
              "<Figure size 432x288 with 1 Axes>"
            ],
            "image/png": "[encoded data removed]"
          },
          "metadata": {
            "needs_background": "light"
          }
        },
        {
          "output_type": "display_data",
          "data": {
            "text/plain": [
              "<Figure size 432x288 with 1 Axes>"
            ],
            "image/png": "[encoded data removed]"
          },
          "metadata": {
            "needs_background": "light"
          }
        }
      ]
    },
    {
      "cell_type": "markdown",
      "source": [
        "### 6. adjust the model parameters\n",
        "Fitting a machine learning model comes in 3 steps:\n",
        "\n",
        "0. create a basline\n",
        "1. beat the baseline by overfitting a larger model\n",
        "2. Reduce over fitting\n",
        "\n",
        "ways to indulce overfitting\n",
        "* Increase the number of cov layers\n",
        "* Increase the number of cov filters\n",
        "* Add another dense layer to the output of our flattened layer\n",
        "\n",
        "Reduce overfitting\n",
        "* Add data augmentation\n",
        "* Add regulization layers (such as MaxPool2D)\n",
        "* Add more data.....\n",
        "\n",
        "**Note** Reducing overfitting is also known as regularization"
      ],
      "metadata": {
        "id": "mkzrxE9GjWGw"
      }
    },
    {
      "cell_type": "code",
      "source": [
        "# Create the model (this will be our baseline, a layer convolution neural network)\n",
        "model_5 = Sequential([\n",
        "  Conv2D(10, 3, activation=\"relu\", input_shape=(224, 224, 3)),\n",
        "  MaxPool2D(pool_size=2),\n",
        "  Conv2D(10, 3, activation=\"relu\"),\n",
        "  MaxPool2D(),\n",
        "  Conv2D(10, 3, activation=\"relu\"),\n",
        "  MaxPool2D(),\n",
        "  Flatten(),\n",
        "  Dense(1, activation=\"sigmoid\")\n",
        "])"
      ],
      "metadata": {
        "id": "PTu1ZxohqSoT"
      },
      "execution_count": 42,
      "outputs": []
    },
    {
      "cell_type": "code",
      "source": [
        "# compile the model\n",
        "model_5.compile(loss= \"binary_crossentropy\",\n",
        "                optimizer=Adam(),\n",
        "                metrics=['accuracy']\n",
        "\n",
        "\n",
        ")"
      ],
      "metadata": {
        "id": "t4Sqimn3rewd"
      },
      "execution_count": 43,
      "outputs": []
    },
    {
      "cell_type": "code",
      "source": [
        "#fit the model\n",
        "history_5 =  model_5.fit(train_data, # this is a combination of labels and samples\n",
        "                       epochs=5,\n",
        "                       steps_per_epoch=len(train_data),\n",
        "                       validation_data=test_data,\n",
        "                       validation_steps=len(test_data)\n",
        "                       \n",
        "                       \n",
        "                       )"
      ],
      "metadata": {
        "colab": {
          "base_uri": "https://localhost:8080/"
        },
        "id": "L0H_eyMYr_Ln",
        "outputId": "6182fd9a-cece-4c88-8f23-65110c61a662"
      },
      "execution_count": 44,
      "outputs": [
        {
          "output_type": "stream",
          "name": "stdout",
          "text": [
            "Epoch 1/5\n",
            "47/47 [==============================] - 9s 186ms/step - loss: 0.6220 - accuracy: 0.6433 - val_loss: 0.4937 - val_accuracy: 0.7620\n",
            "Epoch 2/5\n",
            "47/47 [==============================] - 8s 180ms/step - loss: 0.4796 - accuracy: 0.7873 - val_loss: 0.4733 - val_accuracy: 0.7740\n",
            "Epoch 3/5\n",
            "47/47 [==============================] - 8s 180ms/step - loss: 0.4329 - accuracy: 0.8100 - val_loss: 0.3515 - val_accuracy: 0.8520\n",
            "Epoch 4/5\n",
            "47/47 [==============================] - 8s 181ms/step - loss: 0.4306 - accuracy: 0.8107 - val_loss: 0.3516 - val_accuracy: 0.8660\n",
            "Epoch 5/5\n",
            "47/47 [==============================] - 8s 180ms/step - loss: 0.3950 - accuracy: 0.8327 - val_loss: 0.3336 - val_accuracy: 0.8600\n"
          ]
        }
      ]
    },
    {
      "cell_type": "code",
      "source": [
        "# Get a summary of our model with max pooling\n",
        "model_5.summary()"
      ],
      "metadata": {
        "colab": {
          "base_uri": "https://localhost:8080/"
        },
        "id": "Lpf4JtO7sGFy",
        "outputId": "bbcc7107-7370-435d-c075-d44567382d2c"
      },
      "execution_count": 45,
      "outputs": [
        {
          "output_type": "stream",
          "name": "stdout",
          "text": [
            "Model: \"sequential_4\"\n",
            "_________________________________________________________________\n",
            " Layer (type)                Output Shape              Param #   \n",
            "=================================================================\n",
            " conv2d_7 (Conv2D)           (None, 222, 222, 10)      280       \n",
            "                                                                 \n",
            " max_pooling2d_2 (MaxPooling  (None, 111, 111, 10)     0         \n",
            " 2D)                                                             \n",
            "                                                                 \n",
            " conv2d_8 (Conv2D)           (None, 109, 109, 10)      910       \n",
            "                                                                 \n",
            " max_pooling2d_3 (MaxPooling  (None, 54, 54, 10)       0         \n",
            " 2D)                                                             \n",
            "                                                                 \n",
            " conv2d_9 (Conv2D)           (None, 52, 52, 10)        910       \n",
            "                                                                 \n",
            " max_pooling2d_4 (MaxPooling  (None, 26, 26, 10)       0         \n",
            " 2D)                                                             \n",
            "                                                                 \n",
            " flatten_4 (Flatten)         (None, 6760)              0         \n",
            "                                                                 \n",
            " dense_9 (Dense)             (None, 1)                 6761      \n",
            "                                                                 \n",
            "=================================================================\n",
            "Total params: 8,861\n",
            "Trainable params: 8,861\n",
            "Non-trainable params: 0\n",
            "_________________________________________________________________\n"
          ]
        }
      ]
    },
    {
      "cell_type": "code",
      "source": [
        "#plot loss curves\n",
        "plot_loss_curves(history_5)"
      ],
      "metadata": {
        "colab": {
          "base_uri": "https://localhost:8080/",
          "height": 573
        },
        "id": "qZCJwgr-sihp",
        "outputId": "8a68eb3f-6121-4010-8346-f74faad95e12"
      },
      "execution_count": 46,
      "outputs": [
        {
          "output_type": "display_data",
          "data": {
            "text/plain": [
              "<Figure size 432x288 with 1 Axes>"
            ],
            "image/png": "[encoded data removed]"
          },
          "metadata": {
            "needs_background": "light"
          }
        },
        {
          "output_type": "display_data",
          "data": {
            "text/plain": [
              "<Figure size 432x288 with 1 Axes>"
            ],
            "image/png": "[encoded data removed]"
          },
          "metadata": {
            "needs_background": "light"
          }
        }
      ]
    },
    {
      "cell_type": "markdown",
      "source": [
        "## Opening our bag of tricks and finding data augmenatation"
      ],
      "metadata": {
        "id": "QohAoYmYs1mJ"
      }
    },
    {
      "cell_type": "code",
      "source": [
        "## Create ImageDataGenerator training instant with data arugumentation\n",
        "train_datagen_augmented = ImageDataGenerator(rescale=1/255.,\n",
        "                                             rotation_range=0.2,\n",
        "                                             shear_range = 0.2,\n",
        "                                             zoom_range= 0.2,\n",
        "                                             width_shift_range = 0.2,\n",
        "                                             height_shift_range =0.3,\n",
        "                                             horizontal_flip=True)\n",
        "\n",
        "# Create ImageDataGenerator without data augmentation\n",
        "train_datagen = ImageDataGenerator(rescale=1/255.)\n",
        "\n",
        "# create Imagedatagenerator without data augmentation for the test dataset\n",
        "test_datagen = ImageDataGenerator(rescale=1/255.)\n"
      ],
      "metadata": {
        "id": "fDdzBGt0va8m"
      },
      "execution_count": 47,
      "outputs": []
    },
    {
      "cell_type": "markdown",
      "source": [
        "**What is data augmentation?**\n",
        "\n",
        "Data augmentation is the process of altering our training data, leading it to have more diversity and in turn allowing our models to learn more generalizable (hopefully) patterns.\n",
        "Altering might mean adjusting the rotation of an image, flipping it, cropping it or aomething similar\n",
        "\n",
        "lets write some code to visualize data augmentataion"
      ],
      "metadata": {
        "id": "JKuI8yma4e-O"
      }
    },
    {
      "cell_type": "code",
      "source": [
        "# import data and augment it from training directory\n",
        "print('Agumented training data')\n",
        "train_data_augmented = train_datagen_augmented.flow_from_directory(train_dir,\n",
        "                                                                   target_size= (224, 224),\n",
        "                                                                   batch_size = 32,\n",
        "                                                                   class_mode = 'binary',\n",
        "                                                                   shuffle=False) # for demonstartion purpose only\n",
        "\n",
        "# Create non- augumented train data batches\n",
        "print(\"Non- augmented training data:\")\n",
        "train_data = train_datagen.flow_from_directory(train_dir,\n",
        "                                                                   target_size= (224, 224),\n",
        "                                                                   batch_size = 32,\n",
        "                                                                   class_mode = 'binary',\n",
        "                                                                   shuffle=False)           \n",
        "IMG_SIZE =(224 , 224)\n",
        "# create non-augmented test data batches\n",
        "print('Agumented test data')\n",
        "test_data = test_datagen.flow_from_directory(test_dir,\n",
        "                                                                   target_size= IMG_SIZE,\n",
        "                                                                   batch_size = 32,\n",
        "                                                                   class_mode = 'binary',\n",
        "                                                                   shuffle=False) # for demonstartion purpose only\n"
      ],
      "metadata": {
        "id": "CALIUgGk5BLf",
        "colab": {
          "base_uri": "https://localhost:8080/"
        },
        "outputId": "b092c81c-4726-44fa-f714-113e703401f0"
      },
      "execution_count": 51,
      "outputs": [
        {
          "output_type": "stream",
          "name": "stdout",
          "text": [
            "Agumented training data\n",
            "Found 1500 images belonging to 2 classes.\n",
            "Non- augmented training data:\n",
            "Found 1500 images belonging to 2 classes.\n",
            "Agumented test data\n",
            "Found 500 images belonging to 2 classes.\n"
          ]
        }
      ]
    },
    {
      "cell_type": "markdown",
      "source": [
        "**Note** Data augmentation is usually only performed on the training data using 'ImageDataGenerator' built in data augmentation parameters our images are left as they are in the directories but are modified as they are loaded in the model\n",
        "\n",
        "Finally lets visualize some  augumented data"
      ],
      "metadata": {
        "id": "ixGMBtUp_ebE"
      }
    },
    {
      "cell_type": "code",
      "source": [
        ""
      ],
      "metadata": {
        "id": "19QM7Anw_QbZ"
      },
      "execution_count": null,
      "outputs": []
    }
  ]
}