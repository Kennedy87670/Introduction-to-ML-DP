{
  "nbformat": 4,
  "nbformat_minor": 0,
  "metadata": {
    "colab": {
      "name": "03- introduction-to-computer-vision with-tensorflow-video.ipynb",
      "provenance": [],
      "collapsed_sections": [],
      "authorship_tag": "ABX9TyOSWthf5Ess+CbCoGBzyRUO",
      "include_colab_link": true
    },
    "kernelspec": {
      "name": "python3",
      "display_name": "Python 3"
    },
    "language_info": {
      "name": "python"
    },
    "accelerator": "GPU",
    "gpuClass": "standard"
  },
  "cells": [
    {
      "cell_type": "markdown",
      "metadata": {
        "id": "view-in-github",
        "colab_type": "text"
      },
      "source": [
        "<a href=\"https://colab.research.google.com/github/Kennedy87670/Introduction-to-ML-DP/blob/main/03_introduction_to_computer_vision_with_tensorflow_video.ipynb\" target=\"_parent\"><img src=\"https://colab.research.google.com/assets/colab-badge.svg\" alt=\"Open In Colab\"/></a>"
      ]
    },
    {
      "cell_type": "markdown",
      "source": [
        "# Introduction to Convolution Neural Networks and Computer Vision with TensorFlow\n",
        "\n",
        "Computer vision is the pratice of writing algorithn which can discover patterns in visual data. such as the camera of a self-driving car regonizing the car in front"
      ],
      "metadata": {
        "id": "KoOK2ukurfZh"
      }
    },
    {
      "cell_type": "markdown",
      "source": [
        "Get the data\n",
        "The images we are working with are from FOOD101 dataset (101 different classes of food):https://www.kaggle.com/datasets/dansbecker/food-101\n",
        "\n",
        "However we have modified it to only use two classes (pizza & steak) using the image data modification notebook\n",
        "\n",
        "**Note** we start with a smaller dataset so we can experiment quickly and figure what works(or better what doesnt work before scaling up)"
      ],
      "metadata": {
        "id": "1RKX6iTWshZ9"
      }
    },
    {
      "cell_type": "code",
      "source": [
        "import zipfile\n",
        "\n",
        "!wget https://storage.googleapis.com/ztm_tf_course/food_vision/pizza_steak.zip\n",
        "\n",
        "# Unzip the downloaded file\n",
        "zip_ref = zipfile.ZipFile('pizza_steak.zip')\n",
        "zip_ref.extractall()\n",
        "zip_ref.close()"
      ],
      "metadata": {
        "colab": {
          "base_uri": "https://localhost:8080/"
        },
        "id": "T_IZ-VUZs800",
        "outputId": "f452705e-5d19-41a6-914d-411164dacb42"
      },
      "execution_count": 3,
      "outputs": [
        {
          "output_type": "stream",
          "name": "stdout",
          "text": [
            "--2022-07-11 18:25:23--  https://storage.googleapis.com/ztm_tf_course/food_vision/pizza_steak.zip\n",
            "Resolving storage.googleapis.com (storage.googleapis.com)... 172.253.62.128, 172.253.115.128, 172.253.122.128, ...\n",
            "Connecting to storage.googleapis.com (storage.googleapis.com)|172.253.62.128|:443... connected.\n",
            "HTTP request sent, awaiting response... 200 OK\n",
            "Length: 109540975 (104M) [application/zip]\n",
            "Saving to: ‘pizza_steak.zip’\n",
            "\n",
            "pizza_steak.zip     100%[===================>] 104.47M   175MB/s    in 0.6s    \n",
            "\n",
            "2022-07-11 18:25:24 (175 MB/s) - ‘pizza_steak.zip’ saved [109540975/109540975]\n",
            "\n"
          ]
        }
      ]
    },
    {
      "cell_type": "markdown",
      "source": [
        "## Inspect the data (become on with it)\n",
        "\n",
        "A very crucial step at the beginning of any machine learning project is becoming one with the DeprecationWarning\n",
        "\n",
        "And for a computer vision project.... this usually means visuallizing many samples of our data"
      ],
      "metadata": {
        "id": "tZ8C4Ua0uq3L"
      }
    },
    {
      "cell_type": "code",
      "source": [
        "!ls pizza_steak"
      ],
      "metadata": {
        "colab": {
          "base_uri": "https://localhost:8080/"
        },
        "id": "r5GwH4k-vSAe",
        "outputId": "9b75bfae-a8d1-43ec-f45f-f8c05141cf5a"
      },
      "execution_count": 4,
      "outputs": [
        {
          "output_type": "stream",
          "name": "stdout",
          "text": [
            "test  train\n"
          ]
        }
      ]
    },
    {
      "cell_type": "code",
      "source": [
        "!ls pizza_steak/train/"
      ],
      "metadata": {
        "colab": {
          "base_uri": "https://localhost:8080/"
        },
        "id": "fRElbeJvvWEa",
        "outputId": "6c60bd22-a69e-47ab-8fb4-d30e835aeb1f"
      },
      "execution_count": 5,
      "outputs": [
        {
          "output_type": "stream",
          "name": "stdout",
          "text": [
            "pizza  steak\n"
          ]
        }
      ]
    },
    {
      "cell_type": "code",
      "source": [
        "!ls pizza_steak/train/steak"
      ],
      "metadata": {
        "colab": {
          "base_uri": "https://localhost:8080/"
        },
        "id": "IJnoypWZvde2",
        "outputId": "dba31d03-708e-4e96-d6e2-d868a39e3f71"
      },
      "execution_count": 6,
      "outputs": [
        {
          "output_type": "stream",
          "name": "stdout",
          "text": [
            "1000205.jpg  1647351.jpg  2238681.jpg  2824680.jpg  3375959.jpg  417368.jpg\n",
            "100135.jpg   1650002.jpg  2238802.jpg  2825100.jpg  3381560.jpg  4176.jpg\n",
            "101312.jpg   165639.jpg   2254705.jpg  2826987.jpg  3382936.jpg  42125.jpg\n",
            "1021458.jpg  1658186.jpg  225990.jpg   2832499.jpg  3386119.jpg  421476.jpg\n",
            "1032846.jpg  1658443.jpg  2260231.jpg  2832960.jpg  3388717.jpg  421561.jpg\n",
            "10380.jpg    165964.jpg   2268692.jpg  285045.jpg   3389138.jpg  438871.jpg\n",
            "1049459.jpg  167069.jpg   2271133.jpg  285147.jpg   3393547.jpg  43924.jpg\n",
            "1053665.jpg  1675632.jpg  227576.jpg   2855315.jpg  3393688.jpg  440188.jpg\n",
            "1068516.jpg  1678108.jpg  2283057.jpg  2856066.jpg  3396589.jpg  442757.jpg\n",
            "1068975.jpg  168006.jpg   2286639.jpg  2859933.jpg  339891.jpg\t 443210.jpg\n",
            "1081258.jpg  1682496.jpg  2287136.jpg  286219.jpg   3417789.jpg  444064.jpg\n",
            "1090122.jpg  1684438.jpg  2291292.jpg  2862562.jpg  3425047.jpg  444709.jpg\n",
            "1093966.jpg  168775.jpg   229323.jpg   2865730.jpg  3434983.jpg  447557.jpg\n",
            "1098844.jpg  1697339.jpg  2300534.jpg  2878151.jpg  3435358.jpg  461187.jpg\n",
            "1100074.jpg  1710569.jpg  2300845.jpg  2880035.jpg  3438319.jpg  461689.jpg\n",
            "1105280.jpg  1714605.jpg  231296.jpg   2881783.jpg  3444407.jpg  465494.jpg\n",
            "1117936.jpg  1724387.jpg  2315295.jpg  2884233.jpg  345734.jpg\t 468384.jpg\n",
            "1126126.jpg  1724717.jpg  2323132.jpg  2890573.jpg  3460673.jpg  477486.jpg\n",
            "114601.jpg   172936.jpg   2324994.jpg  2893832.jpg  3465327.jpg  482022.jpg\n",
            "1147047.jpg  1736543.jpg  2327701.jpg  2893892.jpg  3466159.jpg  482465.jpg\n",
            "1147883.jpg  1736968.jpg  2331076.jpg  2907177.jpg  3469024.jpg  483788.jpg\n",
            "1155665.jpg  1746626.jpg  233964.jpg   290850.jpg   3470083.jpg  493029.jpg\n",
            "1163977.jpg  1752330.jpg  2344227.jpg  2909031.jpg  3476564.jpg  503589.jpg\n",
            "1190233.jpg  1761285.jpg  234626.jpg   2910418.jpg  3478318.jpg  510757.jpg\n",
            "1208405.jpg  176508.jpg   234704.jpg   2912290.jpg  3488748.jpg  513129.jpg\n",
            "1209120.jpg  1772039.jpg  2357281.jpg  2916448.jpg  3492328.jpg  513842.jpg\n",
            "1212161.jpg  1777107.jpg  2361812.jpg  2916967.jpg  3518960.jpg  523535.jpg\n",
            "1213988.jpg  1787505.jpg  2365287.jpg  2927833.jpg  3522209.jpg  525041.jpg\n",
            "1219039.jpg  179293.jpg   2374582.jpg  2928643.jpg  3524429.jpg  534560.jpg\n",
            "1225762.jpg  1816235.jpg  239025.jpg   2929179.jpg  3528458.jpg  534633.jpg\n",
            "1230968.jpg  1822407.jpg  2390628.jpg  2936477.jpg  3531805.jpg  536535.jpg\n",
            "1236155.jpg  1823263.jpg  2392910.jpg  2938012.jpg  3536023.jpg  541410.jpg\n",
            "1241193.jpg  1826066.jpg  2394465.jpg  2938151.jpg  3538682.jpg  543691.jpg\n",
            "1248337.jpg  1828502.jpg  2395127.jpg  2939678.jpg  3540750.jpg  560503.jpg\n",
            "1257104.jpg  1828969.jpg  2396291.jpg  2940544.jpg  354329.jpg\t 561972.jpg\n",
            "126345.jpg   1829045.jpg  2400975.jpg  2940621.jpg  3547166.jpg  56240.jpg\n",
            "1264050.jpg  1829088.jpg  2403776.jpg  2949079.jpg  3553911.jpg  56409.jpg\n",
            "1264154.jpg  1836332.jpg  2403907.jpg  295491.jpg   3556871.jpg  564530.jpg\n",
            "1264858.jpg  1839025.jpg  240435.jpg   296268.jpg   355715.jpg\t 568972.jpg\n",
            "127029.jpg   1839481.jpg  2404695.jpg  2964732.jpg  356234.jpg\t 576725.jpg\n",
            "1289900.jpg  183995.jpg   2404884.jpg  2965021.jpg  3571963.jpg  588739.jpg\n",
            "1290362.jpg  184110.jpg   2407770.jpg  2966859.jpg  3576078.jpg  590142.jpg\n",
            "1295457.jpg  184226.jpg   2412263.jpg  2977966.jpg  3577618.jpg  60633.jpg\n",
            "1312841.jpg  1846706.jpg  2425062.jpg  2979061.jpg  3577732.jpg  60655.jpg\n",
            "1313316.jpg  1849364.jpg  2425389.jpg  2983260.jpg  3578934.jpg  606820.jpg\n",
            "1324791.jpg  1849463.jpg  2435316.jpg  2984311.jpg  358042.jpg\t 612551.jpg\n",
            "1327567.jpg  1849542.jpg  2437268.jpg  2988960.jpg  358045.jpg\t 614975.jpg\n",
            "1327667.jpg  1853564.jpg  2437843.jpg  2989882.jpg  3591821.jpg  616809.jpg\n",
            "1333055.jpg  1869467.jpg  2440131.jpg  2995169.jpg  359330.jpg\t 628628.jpg\n",
            "1334054.jpg  1870942.jpg  2443168.jpg  2996324.jpg  3601483.jpg  632427.jpg\n",
            "1335556.jpg  187303.jpg   2446660.jpg  3000131.jpg  3606642.jpg  636594.jpg\n",
            "1337814.jpg  187521.jpg   2455944.jpg  3002350.jpg  3609394.jpg  637374.jpg\n",
            "1340977.jpg  1888450.jpg  2458401.jpg  3007772.jpg  361067.jpg\t 640539.jpg\n",
            "1343209.jpg  1889336.jpg  2487306.jpg  3008192.jpg  3613455.jpg  644777.jpg\n",
            "134369.jpg   1907039.jpg  248841.jpg   3009617.jpg  3621464.jpg  644867.jpg\n",
            "1344105.jpg  1925230.jpg  2489716.jpg  3011642.jpg  3621562.jpg  658189.jpg\n",
            "134598.jpg   1927984.jpg  2490489.jpg  3020591.jpg  3621565.jpg  660900.jpg\n",
            "1346387.jpg  1930577.jpg  2495884.jpg  3030578.jpg  3623556.jpg  663014.jpg\n",
            "1348047.jpg  1937872.jpg  2495903.jpg  3047807.jpg  3640915.jpg  664545.jpg\n",
            "1351372.jpg  1941807.jpg  2499364.jpg  3059843.jpg  3643951.jpg  667075.jpg\n",
            "1362989.jpg  1942333.jpg  2500292.jpg  3074367.jpg  3653129.jpg  669180.jpg\n",
            "1367035.jpg  1945132.jpg  2509017.jpg  3082120.jpg  3656752.jpg  669960.jpg\n",
            "1371177.jpg  1961025.jpg  250978.jpg   3094354.jpg  3663518.jpg  6709.jpg\n",
            "1375640.jpg  1966300.jpg  2514432.jpg  3095301.jpg  3663800.jpg  674001.jpg\n",
            "1382427.jpg  1966967.jpg  2526838.jpg  3099645.jpg  3664376.jpg  676189.jpg\n",
            "1392718.jpg  1969596.jpg  252858.jpg   3100476.jpg  3670607.jpg  681609.jpg\n",
            "1395906.jpg  1971757.jpg  2532239.jpg  3110387.jpg  3671021.jpg  6926.jpg\n",
            "1400760.jpg  1976160.jpg  2534567.jpg  3113772.jpg  3671877.jpg  703556.jpg\n",
            "1403005.jpg  1984271.jpg  2535431.jpg  3116018.jpg  368073.jpg\t 703909.jpg\n",
            "1404770.jpg  1987213.jpg  2535456.jpg  3128952.jpg  368162.jpg\t 704316.jpg\n",
            "140832.jpg   1987639.jpg  2538000.jpg  3130412.jpg  368170.jpg\t 714298.jpg\n",
            "141056.jpg   1995118.jpg  2543081.jpg  3136.jpg     3693649.jpg  720060.jpg\n",
            "141135.jpg   1995252.jpg  2544643.jpg  313851.jpg   3700079.jpg  726083.jpg\n",
            "1413972.jpg  199754.jpg   2547797.jpg  3140083.jpg  3704103.jpg  728020.jpg\n",
            "1421393.jpg  2002400.jpg  2548974.jpg  3140147.jpg  3707493.jpg  732986.jpg\n",
            "1428947.jpg  2011264.jpg  2549316.jpg  3142045.jpg  3716881.jpg  734445.jpg\n",
            "1433912.jpg  2012996.jpg  2561199.jpg  3142618.jpg  3724677.jpg  735441.jpg\n",
            "143490.jpg   2013535.jpg  2563233.jpg  3142674.jpg  3727036.jpg  740090.jpg\n",
            "1445352.jpg  2017387.jpg  256592.jpg   3143192.jpg  3727491.jpg  745189.jpg\n",
            "1446401.jpg  2018173.jpg  2568848.jpg  314359.jpg   3736065.jpg  752203.jpg\n",
            "1453991.jpg  2020613.jpg  2573392.jpg  3157832.jpg  37384.jpg\t 75537.jpg\n",
            "1456841.jpg  2032669.jpg  2592401.jpg  3159818.jpg  3743286.jpg  756655.jpg\n",
            "146833.jpg   203450.jpg   2599817.jpg  3162376.jpg  3745515.jpg  762210.jpg\n",
            "1476404.jpg  2034628.jpg  2603058.jpg  3168620.jpg  3750472.jpg  763690.jpg\n",
            "1485083.jpg  2036920.jpg  2606444.jpg  3171085.jpg  3752362.jpg  767442.jpg\n",
            "1487113.jpg  2038418.jpg  2614189.jpg  317206.jpg   3766099.jpg  786409.jpg\n",
            "148916.jpg   2042975.jpg  2614649.jpg  3173444.jpg  3770370.jpg  80215.jpg\n",
            "149087.jpg   2045647.jpg  2615718.jpg  3180182.jpg  377190.jpg\t 802348.jpg\n",
            "1493169.jpg  2050584.jpg  2619625.jpg  31881.jpg    3777020.jpg  804684.jpg\n",
            "149682.jpg   2052542.jpg  2622140.jpg  3191589.jpg  3777482.jpg  812163.jpg\n",
            "1508094.jpg  2056627.jpg  262321.jpg   3204977.jpg  3781152.jpg  813486.jpg\n",
            "1512226.jpg  2062248.jpg  2625330.jpg  320658.jpg   3787809.jpg  819027.jpg\n",
            "1512347.jpg  2081995.jpg  2628106.jpg  3209173.jpg  3788729.jpg  822550.jpg\n",
            "1524526.jpg  2087958.jpg  2629750.jpg  3223400.jpg  3790962.jpg  823766.jpg\n",
            "1530833.jpg  2088030.jpg  2643906.jpg  3223601.jpg  3792514.jpg  827764.jpg\n",
            "1539499.jpg  2088195.jpg  2644457.jpg  3241894.jpg  379737.jpg\t 830007.jpg\n",
            "1541672.jpg  2090493.jpg  2648423.jpg  3245533.jpg  3807440.jpg  838344.jpg\n",
            "1548239.jpg  2090504.jpg  2651300.jpg  3245622.jpg  381162.jpg\t 853327.jpg\n",
            "1550997.jpg  2125877.jpg  2653594.jpg  3247009.jpg  3812039.jpg  854150.jpg\n",
            "1552530.jpg  2129685.jpg  2661577.jpg  3253588.jpg  3829392.jpg  864997.jpg\n",
            "15580.jpg    2133717.jpg  2668916.jpg  3260624.jpg  3830872.jpg  885571.jpg\n",
            "1559052.jpg  2136662.jpg  268444.jpg   326587.jpg   38442.jpg\t 907107.jpg\n",
            "1563266.jpg  213765.jpg   2691461.jpg  32693.jpg    3855584.jpg  908261.jpg\n",
            "1567554.jpg  2138335.jpg  2706403.jpg  3271253.jpg  3857508.jpg  910672.jpg\n",
            "1575322.jpg  2140776.jpg  270687.jpg   3274423.jpg  386335.jpg\t 911803.jpg\n",
            "1588879.jpg  214320.jpg   2707522.jpg  3280453.jpg  3867460.jpg  91432.jpg\n",
            "1594719.jpg  2146963.jpg  2711806.jpg  3298495.jpg  3868959.jpg  914570.jpg\n",
            "1595869.jpg  215222.jpg   2716993.jpg  330182.jpg   3869679.jpg  922752.jpg\n",
            "1598345.jpg  2154126.jpg  2724554.jpg  3306627.jpg  388776.jpg\t 923772.jpg\n",
            "1598885.jpg  2154779.jpg  2738227.jpg  3315727.jpg  3890465.jpg  926414.jpg\n",
            "1600179.jpg  2159975.jpg  2748917.jpg  331860.jpg   3894222.jpg  931356.jpg\n",
            "1600794.jpg  2163079.jpg  2760475.jpg  332232.jpg   3895825.jpg  937133.jpg\n",
            "160552.jpg   217250.jpg   2761427.jpg  3322909.jpg  389739.jpg\t 945791.jpg\n",
            "1606596.jpg  2172600.jpg  2765887.jpg  332557.jpg   3916407.jpg  947877.jpg\n",
            "1615395.jpg  2173084.jpg  2768451.jpg  3326734.jpg  393349.jpg\t 952407.jpg\n",
            "1618011.jpg  217996.jpg   2771149.jpg  3330642.jpg  393494.jpg\t 952437.jpg\n",
            "1619357.jpg  2193684.jpg  2779040.jpg  3333128.jpg  398288.jpg\t 955466.jpg\n",
            "1621763.jpg  220341.jpg   2788312.jpg  3333735.jpg  40094.jpg\t 9555.jpg\n",
            "1623325.jpg  22080.jpg\t  2788759.jpg  3334973.jpg  401094.jpg\t 961341.jpg\n",
            "1624450.jpg  2216146.jpg  2796102.jpg  3335013.jpg  401144.jpg\t 97656.jpg\n",
            "1624747.jpg  2222018.jpg  280284.jpg   3335267.jpg  401651.jpg\t 979110.jpg\n",
            "1628861.jpg  2223787.jpg  2807888.jpg  3346787.jpg  405173.jpg\t 980247.jpg\n",
            "1632774.jpg  2230959.jpg  2815172.jpg  3364420.jpg  405794.jpg\t 982988.jpg\n",
            "1636831.jpg  2232310.jpg  2818805.jpg  336637.jpg   40762.jpg\t 987732.jpg\n",
            "1645470.jpg  2233395.jpg  2823872.jpg  3372616.jpg  413325.jpg\t 996684.jpg\n"
          ]
        }
      ]
    },
    {
      "cell_type": "code",
      "source": [
        "import os\n",
        "\n",
        "# Walk through pizza_steak directory and list number of files\n",
        "for dirpath, dirnames, filenames in os.walk('pizza_steak'):\n",
        "  print(f\"There are{len(dirnames)} dirctories and {len(filenames)} images in '{dirpath}'. \")"
      ],
      "metadata": {
        "colab": {
          "base_uri": "https://localhost:8080/"
        },
        "id": "GSiXg0-7vlW1",
        "outputId": "418d8e5c-86ec-400e-f35b-8728889ed255"
      },
      "execution_count": 7,
      "outputs": [
        {
          "output_type": "stream",
          "name": "stdout",
          "text": [
            "There are2 dirctories and 0 images in 'pizza_steak'. \n",
            "There are2 dirctories and 0 images in 'pizza_steak/train'. \n",
            "There are0 dirctories and 750 images in 'pizza_steak/train/pizza'. \n",
            "There are0 dirctories and 750 images in 'pizza_steak/train/steak'. \n",
            "There are2 dirctories and 0 images in 'pizza_steak/test'. \n",
            "There are0 dirctories and 250 images in 'pizza_steak/test/pizza'. \n",
            "There are0 dirctories and 250 images in 'pizza_steak/test/steak'. \n"
          ]
        }
      ]
    },
    {
      "cell_type": "code",
      "source": [
        "# The extra file in our pizza_steak directory is \".DS_Store\"\n",
        "!ls -la pizza_steak"
      ],
      "metadata": {
        "colab": {
          "base_uri": "https://localhost:8080/"
        },
        "id": "Ir9WZgTLxkN_",
        "outputId": "8ac7479a-4b59-43a6-dffa-2a6a04a45680"
      },
      "execution_count": 8,
      "outputs": [
        {
          "output_type": "stream",
          "name": "stdout",
          "text": [
            "total 16\n",
            "drwxr-xr-x 4 root root 4096 Jul 11 18:25 .\n",
            "drwxr-xr-x 1 root root 4096 Jul 11 18:25 ..\n",
            "drwxr-xr-x 4 root root 4096 Jul 11 18:25 test\n",
            "drwxr-xr-x 4 root root 4096 Jul 11 18:25 train\n"
          ]
        }
      ]
    },
    {
      "cell_type": "code",
      "source": [
        "# ANOTHER way to find out how many omages are in a file\n",
        "num_steak_images_train = len(os.listdir('pizza_steak/train/steak'))\n",
        "\n",
        "num_steak_images_train"
      ],
      "metadata": {
        "colab": {
          "base_uri": "https://localhost:8080/"
        },
        "id": "6y8d4hf9yGIn",
        "outputId": "dcea7cc5-5f02-4057-bacb-6da063358643"
      },
      "execution_count": 9,
      "outputs": [
        {
          "output_type": "execute_result",
          "data": {
            "text/plain": [
              "750"
            ]
          },
          "metadata": {},
          "execution_count": 9
        }
      ]
    },
    {
      "cell_type": "markdown",
      "source": [
        "To visualize our images, first lets get the class names programmatically"
      ],
      "metadata": {
        "id": "k_YE4rZQz1ci"
      }
    },
    {
      "cell_type": "code",
      "source": [
        "# Get the classnams programmatically\n",
        "import pathlib\n",
        "import numpy as np\n",
        "data_dir = pathlib.Path('pizza_steak/train')\n",
        "class_names = np.array(sorted([item.name for item in data_dir.glob(\"*\")])) # Created a list of class_names from the subdirectories\n",
        "print(class_names)"
      ],
      "metadata": {
        "colab": {
          "base_uri": "https://localhost:8080/"
        },
        "id": "opll4hnvzxww",
        "outputId": "1d67d0a1-bd4b-43e5-f6d7-7d496a2ee36a"
      },
      "execution_count": 10,
      "outputs": [
        {
          "output_type": "stream",
          "name": "stdout",
          "text": [
            "['pizza' 'steak']\n"
          ]
        }
      ]
    },
    {
      "cell_type": "code",
      "source": [
        "# lets visualize our images\n",
        "import matplotlib.pyplot as plt\n",
        "import matplotlib.image as mpimg\n",
        "import random\n",
        "\n",
        "\n",
        "def view_random_image(target_dir, target_class):\n",
        "  # setup the target directory(we will view images from here)\n",
        "  target_folder = target_dir+target_class\n",
        "\n",
        "  # Get a random image path\n",
        "  random_image = random.sample(os.listdir(target_folder), 1)\n",
        "  print(random_image)\n",
        "\n",
        "  # Read in the image and plot it using matplotlib\n",
        "  img = mpimg.imread(target_folder + \"/\" + random_image[0] )\n",
        "  plt.imshow(img)\n",
        "  plt.title(target_class)\n",
        "  plt.axis('off');\n",
        "\n",
        "  print(f\"Image shape: {img.shape} \") # show the shape of the image\n",
        "\n",
        "  return img"
      ],
      "metadata": {
        "id": "Eum_FO7903xj"
      },
      "execution_count": 11,
      "outputs": []
    },
    {
      "cell_type": "code",
      "source": [
        "# View  a random image from the training dataset\n",
        "img = view_random_image(target_dir='pizza_steak/train/',\n",
        "                        target_class='pizza')"
      ],
      "metadata": {
        "colab": {
          "base_uri": "https://localhost:8080/",
          "height": 0
        },
        "id": "cM6rn2ObCrTz",
        "outputId": "467b3f71-ea2d-4f5e-f42f-43c193fb2d66"
      },
      "execution_count": 12,
      "outputs": [
        {
          "output_type": "stream",
          "name": "stdout",
          "text": [
            "['1670471.jpg']\n",
            "Image shape: (384, 512, 3) \n"
          ]
        },
        {
          "output_type": "display_data",
          "data": {
            "text/plain": [
              "<Figure size 432x288 with 1 Axes>"
            ],
            "image/png": "[encoded data removed]"
          },
          "metadata": {
            "needs_background": "light"
          }
        }
      ]
    },
    {
      "cell_type": "code",
      "source": [
        "import tensorflow as tf\n",
        "\n",
        "tf.constant(img)"
      ],
      "metadata": {
        "colab": {
          "base_uri": "https://localhost:8080/"
        },
        "id": "MFK4xBbJDC7U",
        "outputId": "973e914e-54eb-4629-f966-5f8527120bdf"
      },
      "execution_count": 13,
      "outputs": [
        {
          "output_type": "execute_result",
          "data": {
            "text/plain": [
              "<tf.Tensor: shape=(384, 512, 3), dtype=uint8, numpy=\n",
              "array([[[28, 10,  0],\n",
              "        [27,  9,  0],\n",
              "        [25,  8,  0],\n",
              "        ...,\n",
              "        [ 1,  1,  1],\n",
              "        [ 1,  1,  1],\n",
              "        [ 1,  1,  1]],\n",
              "\n",
              "       [[28,  8,  0],\n",
              "        [27,  9,  0],\n",
              "        [25,  8,  0],\n",
              "        ...,\n",
              "        [ 1,  1,  1],\n",
              "        [ 1,  1,  1],\n",
              "        [ 1,  1,  1]],\n",
              "\n",
              "       [[27,  7,  0],\n",
              "        [27,  7,  0],\n",
              "        [26,  7,  0],\n",
              "        ...,\n",
              "        [ 1,  1,  1],\n",
              "        [ 1,  1,  1],\n",
              "        [ 1,  1,  1]],\n",
              "\n",
              "       ...,\n",
              "\n",
              "       [[ 6,  8,  7],\n",
              "        [ 6,  8,  7],\n",
              "        [ 6,  8,  7],\n",
              "        ...,\n",
              "        [37, 39, 36],\n",
              "        [43, 45, 42],\n",
              "        [54, 56, 53]],\n",
              "\n",
              "       [[ 8, 10,  9],\n",
              "        [ 8, 10,  9],\n",
              "        [ 7,  9,  8],\n",
              "        ...,\n",
              "        [38, 40, 37],\n",
              "        [38, 40, 37],\n",
              "        [45, 47, 44]],\n",
              "\n",
              "       [[10, 12, 11],\n",
              "        [10, 12, 11],\n",
              "        [ 9, 11, 10],\n",
              "        ...,\n",
              "        [33, 35, 32],\n",
              "        [28, 30, 27],\n",
              "        [28, 30, 27]]], dtype=uint8)>"
            ]
          },
          "metadata": {},
          "execution_count": 13
        }
      ]
    },
    {
      "cell_type": "code",
      "source": [
        "# view the image shape\n",
        "img.shape  # returns width, height, colour channels\n"
      ],
      "metadata": {
        "colab": {
          "base_uri": "https://localhost:8080/"
        },
        "id": "DlzAHA60Duxj",
        "outputId": "b4c96296-e6d4-4b99-ec4e-04ddb76c2295"
      },
      "execution_count": 14,
      "outputs": [
        {
          "output_type": "execute_result",
          "data": {
            "text/plain": [
              "(384, 512, 3)"
            ]
          },
          "metadata": {},
          "execution_count": 14
        }
      ]
    },
    {
      "cell_type": "markdown",
      "source": [
        "**Note** as we have discussed before many machine learning models, including neural networks prefer the values theywork with to be between 0 and 1. knowing this, one of the most common preprocessing steps for working with images is to scale (also reffered to as normalize) their pixel values by dividing the image array 255. (since 255 is the maximu pixel value)"
      ],
      "metadata": {
        "id": "xF1_vMejFSyC"
      }
    },
    {
      "cell_type": "code",
      "source": [
        "# Get all the pixe values between 0 and 1\n",
        "img/225."
      ],
      "metadata": {
        "colab": {
          "base_uri": "https://localhost:8080/"
        },
        "id": "Z43NPFQvEUNj",
        "outputId": "eba10ba2-62e3-481e-9c5f-2ef6e2890e80"
      },
      "execution_count": 15,
      "outputs": [
        {
          "output_type": "execute_result",
          "data": {
            "text/plain": [
              "array([[[0.12444444, 0.04444444, 0.        ],\n",
              "        [0.12      , 0.04      , 0.        ],\n",
              "        [0.11111111, 0.03555556, 0.        ],\n",
              "        ...,\n",
              "        [0.00444444, 0.00444444, 0.00444444],\n",
              "        [0.00444444, 0.00444444, 0.00444444],\n",
              "        [0.00444444, 0.00444444, 0.00444444]],\n",
              "\n",
              "       [[0.12444444, 0.03555556, 0.        ],\n",
              "        [0.12      , 0.04      , 0.        ],\n",
              "        [0.11111111, 0.03555556, 0.        ],\n",
              "        ...,\n",
              "        [0.00444444, 0.00444444, 0.00444444],\n",
              "        [0.00444444, 0.00444444, 0.00444444],\n",
              "        [0.00444444, 0.00444444, 0.00444444]],\n",
              "\n",
              "       [[0.12      , 0.03111111, 0.        ],\n",
              "        [0.12      , 0.03111111, 0.        ],\n",
              "        [0.11555556, 0.03111111, 0.        ],\n",
              "        ...,\n",
              "        [0.00444444, 0.00444444, 0.00444444],\n",
              "        [0.00444444, 0.00444444, 0.00444444],\n",
              "        [0.00444444, 0.00444444, 0.00444444]],\n",
              "\n",
              "       ...,\n",
              "\n",
              "       [[0.02666667, 0.03555556, 0.03111111],\n",
              "        [0.02666667, 0.03555556, 0.03111111],\n",
              "        [0.02666667, 0.03555556, 0.03111111],\n",
              "        ...,\n",
              "        [0.16444444, 0.17333333, 0.16      ],\n",
              "        [0.19111111, 0.2       , 0.18666667],\n",
              "        [0.24      , 0.24888889, 0.23555556]],\n",
              "\n",
              "       [[0.03555556, 0.04444444, 0.04      ],\n",
              "        [0.03555556, 0.04444444, 0.04      ],\n",
              "        [0.03111111, 0.04      , 0.03555556],\n",
              "        ...,\n",
              "        [0.16888889, 0.17777778, 0.16444444],\n",
              "        [0.16888889, 0.17777778, 0.16444444],\n",
              "        [0.2       , 0.20888889, 0.19555556]],\n",
              "\n",
              "       [[0.04444444, 0.05333333, 0.04888889],\n",
              "        [0.04444444, 0.05333333, 0.04888889],\n",
              "        [0.04      , 0.04888889, 0.04444444],\n",
              "        ...,\n",
              "        [0.14666667, 0.15555556, 0.14222222],\n",
              "        [0.12444444, 0.13333333, 0.12      ],\n",
              "        [0.12444444, 0.13333333, 0.12      ]]])"
            ]
          },
          "metadata": {},
          "execution_count": 15
        }
      ]
    },
    {
      "cell_type": "markdown",
      "source": [
        "## AN END-END EXAMPE\n",
        "lets build a Convolution neural network to find patterns in our images, more speciafially we need a way to:\n",
        "\n",
        "* Load our images\n",
        "* Preprocess our images\n",
        "* Build a CNN to find patterns in our mpimg.image\n",
        "* Compile our CNN\n",
        "* Fit the CNN to our training data"
      ],
      "metadata": {
        "id": "npvlWjWFE8nQ"
      }
    },
    {
      "cell_type": "code",
      "source": [
        "import tensorflow as tf\n",
        "from tensorflow.keras.preprocessing.image import  ImageDataGenerator\n",
        "\n",
        "# set the seed \n",
        "tf.random.set_seed(42)\n",
        "\n",
        "# preproces data (get all of the pixel values between 0 & 1, also called normilization/ scaling)\n",
        "train_datagen = ImageDataGenerator(rescale=1./255)\n",
        "valid_datagen = ImageDataGenerator(rescale=1./255)\n",
        "\n",
        "#set paths to our data directories\n",
        "train_dir = \"/content/pizza_steak/train\"\n",
        "test_dir = \"/content/pizza_steak/train\"\n",
        "\n",
        "# Import data from directories and turn it into batches\n",
        "train_data = train_datagen.flow_from_directory(directory = train_dir,\n",
        "                                               batch_size=32,\n",
        "                                               target_size=(224, 224),\n",
        "                                               class_mode='binary',\n",
        "                                               seed=42\n",
        "                                               )\n",
        "valid_data = valid_datagen.flow_from_directory(directory = test_dir,\n",
        "                                               batch_size=32,\n",
        "                                               target_size=(224, 224),\n",
        "                                               class_mode='binary',\n",
        "                                               seed=42\n",
        "                                               )\n",
        "# Build a CNN model ( same as the tiny VGG on the CNN explainer website)\n",
        "model_1 = tf.keras.models.Sequential([\n",
        "                                      tf.keras.layers.Conv2D(filters =10,\n",
        "                                                             kernel_size =3,\n",
        "                                                             activation = 'relu',\n",
        "                                                             input_shape = (224, 224, 3)),\n",
        "          tf.keras.layers.Conv2D(10, 3, activation='relu'),\n",
        "          tf.keras.layers.MaxPool2D(pool_size=2,\n",
        "                                    padding='valid'),\n",
        "          tf.keras.layers.Conv2D(10, 3, activation = 'relu'),\n",
        "          tf.keras.layers.Conv2D(10, 3, activation=\"relu\"),\n",
        "          tf.keras.layers.MaxPool2D(2),\n",
        "          tf.keras.layers.Flatten(),\n",
        "          tf.keras.layers.Dense(1, activation= 'sigmoid')\n",
        "\n",
        "])\n",
        "\n",
        "# compile our CNN\n",
        "model_1.compile(loss = 'binary_crossentropy',\n",
        "                optimizer=tf.keras.optimizers.Adam(),\n",
        "                metrics=[\"accuracy\"]\n",
        "                )\n",
        "\n",
        "# #fit the model \n",
        "history_1 = model_1.fit(train_data,\n",
        "                         epochs=5,\n",
        "                         steps_per_epoch=len(train_data),\n",
        "                        validation_data=valid_data,\n",
        "                        validation_steps=len(valid_data))"
      ],
      "metadata": {
        "colab": {
          "base_uri": "https://localhost:8080/"
        },
        "id": "4uBq9m6B8W6_",
        "outputId": "d1054744-dfc9-4ddd-d72e-3299138ba9e9"
      },
      "execution_count": 16,
      "outputs": [
        {
          "output_type": "stream",
          "name": "stdout",
          "text": [
            "Found 1500 images belonging to 2 classes.\n",
            "Found 1500 images belonging to 2 classes.\n",
            "Epoch 1/5\n",
            "47/47 [==============================] - 26s 299ms/step - loss: 0.5565 - accuracy: 0.7060 - val_loss: 0.4273 - val_accuracy: 0.8173\n",
            "Epoch 2/5\n",
            "47/47 [==============================] - 14s 291ms/step - loss: 0.4336 - accuracy: 0.8000 - val_loss: 0.3829 - val_accuracy: 0.8327\n",
            "Epoch 3/5\n",
            "47/47 [==============================] - 13s 281ms/step - loss: 0.3920 - accuracy: 0.8253 - val_loss: 0.3501 - val_accuracy: 0.8513\n",
            "Epoch 4/5\n",
            "47/47 [==============================] - 13s 281ms/step - loss: 0.3507 - accuracy: 0.8540 - val_loss: 0.3111 - val_accuracy: 0.8693\n",
            "Epoch 5/5\n",
            "47/47 [==============================] - 14s 298ms/step - loss: 0.3233 - accuracy: 0.8720 - val_loss: 0.2766 - val_accuracy: 0.8873\n"
          ]
        }
      ]
    },
    {
      "cell_type": "markdown",
      "source": [
        "**Note** if the above cell is taking longer tahn -10 seconds per epoch make sure you are using GPU by going to Runtime-> Chabge Runtime -> Hardware Accelator -> Gpu (you may have to rerun the cells above)."
      ],
      "metadata": {
        "id": "vR4efAF9RNza"
      }
    },
    {
      "cell_type": "code",
      "source": [
        "len(train_data)"
      ],
      "metadata": {
        "colab": {
          "base_uri": "https://localhost:8080/"
        },
        "id": "MiC7ZzN5HQAF",
        "outputId": "667fc71e-a3dd-4b23-8caf-145ea0e84da1"
      },
      "execution_count": 17,
      "outputs": [
        {
          "output_type": "execute_result",
          "data": {
            "text/plain": [
              "47"
            ]
          },
          "metadata": {},
          "execution_count": 17
        }
      ]
    },
    {
      "cell_type": "code",
      "source": [
        "model_1.summary()"
      ],
      "metadata": {
        "colab": {
          "base_uri": "https://localhost:8080/"
        },
        "id": "_5OE6CiUHazn",
        "outputId": "fabb19db-a3b0-419f-e92d-86e0d2f27430"
      },
      "execution_count": 18,
      "outputs": [
        {
          "output_type": "stream",
          "name": "stdout",
          "text": [
            "Model: \"sequential\"\n",
            "_________________________________________________________________\n",
            " Layer (type)                Output Shape              Param #   \n",
            "=================================================================\n",
            " conv2d (Conv2D)             (None, 222, 222, 10)      280       \n",
            "                                                                 \n",
            " conv2d_1 (Conv2D)           (None, 220, 220, 10)      910       \n",
            "                                                                 \n",
            " max_pooling2d (MaxPooling2D  (None, 110, 110, 10)     0         \n",
            " )                                                               \n",
            "                                                                 \n",
            " conv2d_2 (Conv2D)           (None, 108, 108, 10)      910       \n",
            "                                                                 \n",
            " conv2d_3 (Conv2D)           (None, 106, 106, 10)      910       \n",
            "                                                                 \n",
            " max_pooling2d_1 (MaxPooling  (None, 53, 53, 10)       0         \n",
            " 2D)                                                             \n",
            "                                                                 \n",
            " flatten (Flatten)           (None, 28090)             0         \n",
            "                                                                 \n",
            " dense (Dense)               (None, 1)                 28091     \n",
            "                                                                 \n",
            "=================================================================\n",
            "Total params: 31,101\n",
            "Trainable params: 31,101\n",
            "Non-trainable params: 0\n",
            "_________________________________________________________________\n"
          ]
        }
      ]
    },
    {
      "cell_type": "markdown",
      "source": [
        "https://poloclub.github.io/cnn-explainer/\n",
        "\n",
        "\n",
        "CNN explainer"
      ],
      "metadata": {
        "id": "GWWhEMPLbC0r"
      }
    },
    {
      "cell_type": "markdown",
      "source": [
        "## Using the same model as before\n",
        "\n",
        "Lets replicate the model we have built in a previous section to see if it works with our image data.\n",
        "\n",
        "The model we are building is from TensorFlow playground:https://playground.tensorflow.org"
      ],
      "metadata": {
        "id": "4UKg9lqyWB0X"
      }
    },
    {
      "cell_type": "code",
      "source": [
        "# set random seed \n",
        "tf.random.set_seed(42)\n",
        "\n",
        "# Create a model to replicate the TensorFlow playground model\n",
        "model_2 = tf.keras.Sequential([\n",
        "      tf.keras.layers.Flatten(input_shape=(224,224,3)),\n",
        "      tf.keras.layers.Dense(4, activation='relu'),\n",
        "      tf.keras.layers.Dense(4, activation='relu'),\n",
        "      tf.keras.layers.Dense(1, activation = 'sigmoid')\n",
        "])\n",
        "\n",
        "# compile our CNN\n",
        "model_2.compile(loss = 'binary_crossentropy',\n",
        "                optimizer=tf.keras.optimizers.Adam(),\n",
        "                metrics=[\"accuracy\"]\n",
        "                )\n",
        "\n",
        "# #fit the model \n",
        "history_2 = model_2.fit(train_data,\n",
        "                         epochs=5,\n",
        "                         steps_per_epoch=len(train_data),\n",
        "                        validation_data=valid_data,\n",
        "                        validation_steps=len(valid_data))"
      ],
      "metadata": {
        "colab": {
          "base_uri": "https://localhost:8080/"
        },
        "id": "wbK5OfS-dvF_",
        "outputId": "77ea9343-e5b4-49c4-8ee6-51c9181f11a9"
      },
      "execution_count": 20,
      "outputs": [
        {
          "output_type": "stream",
          "name": "stdout",
          "text": [
            "Epoch 1/5\n",
            "47/47 [==============================] - 13s 269ms/step - loss: 1.8957 - accuracy: 0.5040 - val_loss: 0.6932 - val_accuracy: 0.5000\n",
            "Epoch 2/5\n",
            "47/47 [==============================] - 12s 264ms/step - loss: 0.6932 - accuracy: 0.5000 - val_loss: 0.6932 - val_accuracy: 0.5000\n",
            "Epoch 3/5\n",
            "47/47 [==============================] - 12s 265ms/step - loss: 0.6932 - accuracy: 0.5000 - val_loss: 0.6932 - val_accuracy: 0.5000\n",
            "Epoch 4/5\n",
            "47/47 [==============================] - 12s 262ms/step - loss: 0.6933 - accuracy: 0.5000 - val_loss: 0.6932 - val_accuracy: 0.5000\n",
            "Epoch 5/5\n",
            "47/47 [==============================] - 12s 264ms/step - loss: 0.6932 - accuracy: 0.5000 - val_loss: 0.6932 - val_accuracy: 0.5000\n"
          ]
        }
      ]
    },
    {
      "cell_type": "code",
      "source": [
        "# get a summary of model_2\n",
        "model_2.summary()"
      ],
      "metadata": {
        "colab": {
          "base_uri": "https://localhost:8080/"
        },
        "id": "nAOd0mVigboW",
        "outputId": "43c8f7a8-701c-44bd-ae19-c7d3730c30c9"
      },
      "execution_count": 21,
      "outputs": [
        {
          "output_type": "stream",
          "name": "stdout",
          "text": [
            "Model: \"sequential_2\"\n",
            "_________________________________________________________________\n",
            " Layer (type)                Output Shape              Param #   \n",
            "=================================================================\n",
            " flatten_2 (Flatten)         (None, 150528)            0         \n",
            "                                                                 \n",
            " dense_4 (Dense)             (None, 4)                 602116    \n",
            "                                                                 \n",
            " dense_5 (Dense)             (None, 4)                 20        \n",
            "                                                                 \n",
            " dense_6 (Dense)             (None, 1)                 5         \n",
            "                                                                 \n",
            "=================================================================\n",
            "Total params: 602,141\n",
            "Trainable params: 602,141\n",
            "Non-trainable params: 0\n",
            "_________________________________________________________________\n"
          ]
        }
      ]
    },
    {
      "cell_type": "markdown",
      "source": [
        "Despite having 20x more parameters than our CNN(model_1),\n",
        "model_2 performs terribly ....  lets try to improve "
      ],
      "metadata": {
        "id": "XnEAMYCljnvi"
      }
    },
    {
      "cell_type": "code",
      "source": [
        "# set random seed \n",
        "tf.random.set_seed(42)\n",
        "\n",
        "# Create a model to replicate the TensorFlow playground model\n",
        "model_3 = tf.keras.Sequential([\n",
        "      tf.keras.layers.Flatten(input_shape=(224,224,3)),\n",
        "      tf.keras.layers.Dense(100, activation='relu'),\n",
        "      tf.keras.layers.Dense(100, activation='relu'),\n",
        "      tf.keras.layers.Dense(100, activation='relu'),\n",
        "      tf.keras.layers.Dense(1, activation = 'sigmoid')\n",
        "])\n",
        "\n",
        "# compile our model\n",
        "model_3.compile(loss = 'binary_crossentropy',\n",
        "                optimizer=tf.keras.optimizers.Adam(),\n",
        "                metrics=[\"accuracy\"]\n",
        "                )\n",
        "\n",
        "# #fit the model \n",
        "history_3 = model_3.fit(train_data,\n",
        "                         epochs=5,\n",
        "                         steps_per_epoch=len(train_data),\n",
        "                        validation_data=valid_data,\n",
        "                        validation_steps=len(valid_data))"
      ],
      "metadata": {
        "colab": {
          "base_uri": "https://localhost:8080/"
        },
        "id": "I9Tsmm3ijaNj",
        "outputId": "e63c8143-436b-49fb-fce1-fb030b7e597a"
      },
      "execution_count": 22,
      "outputs": [
        {
          "output_type": "stream",
          "name": "stdout",
          "text": [
            "Epoch 1/5\n",
            "47/47 [==============================] - 13s 265ms/step - loss: 3.3008 - accuracy: 0.5973 - val_loss: 1.4829 - val_accuracy: 0.5853\n",
            "Epoch 2/5\n",
            "47/47 [==============================] - 12s 261ms/step - loss: 1.1349 - accuracy: 0.6767 - val_loss: 0.9371 - val_accuracy: 0.6667\n",
            "Epoch 3/5\n",
            "47/47 [==============================] - 12s 264ms/step - loss: 0.6076 - accuracy: 0.7433 - val_loss: 0.4072 - val_accuracy: 0.8347\n",
            "Epoch 4/5\n",
            "47/47 [==============================] - 12s 263ms/step - loss: 0.4872 - accuracy: 0.7887 - val_loss: 0.5618 - val_accuracy: 0.7420\n",
            "Epoch 5/5\n",
            "47/47 [==============================] - 13s 278ms/step - loss: 0.4873 - accuracy: 0.7900 - val_loss: 0.4107 - val_accuracy: 0.8300\n"
          ]
        }
      ]
    },
    {
      "cell_type": "code",
      "source": [
        "# summary of model_3\n",
        "model_3.summary()"
      ],
      "metadata": {
        "colab": {
          "base_uri": "https://localhost:8080/"
        },
        "id": "VVsfIFbgkY7j",
        "outputId": "c8099aa7-b7ce-4dd8-db7b-e701b51e8dca"
      },
      "execution_count": 23,
      "outputs": [
        {
          "output_type": "stream",
          "name": "stdout",
          "text": [
            "Model: \"sequential_3\"\n",
            "_________________________________________________________________\n",
            " Layer (type)                Output Shape              Param #   \n",
            "=================================================================\n",
            " flatten_3 (Flatten)         (None, 150528)            0         \n",
            "                                                                 \n",
            " dense_7 (Dense)             (None, 100)               15052900  \n",
            "                                                                 \n",
            " dense_8 (Dense)             (None, 100)               10100     \n",
            "                                                                 \n",
            " dense_9 (Dense)             (None, 100)               10100     \n",
            "                                                                 \n",
            " dense_10 (Dense)            (None, 1)                 101       \n",
            "                                                                 \n",
            "=================================================================\n",
            "Total params: 15,073,201\n",
            "Trainable params: 15,073,201\n",
            "Non-trainable params: 0\n",
            "_________________________________________________________________\n"
          ]
        }
      ]
    },
    {
      "cell_type": "code",
      "source": [
        ""
      ],
      "metadata": {
        "id": "pHUAmrimlDnm"
      },
      "execution_count": null,
      "outputs": []
    }
  ]
}