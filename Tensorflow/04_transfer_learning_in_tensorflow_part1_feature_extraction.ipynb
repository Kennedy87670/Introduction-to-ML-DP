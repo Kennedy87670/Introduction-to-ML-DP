{
  "nbformat": 4,
  "nbformat_minor": 0,
  "metadata": {
    "colab": {
      "name": "04-transfer-learning-in-tensorflow-part1-feature-extraction.ipynb",
      "provenance": [],
      "collapsed_sections": [],
      "authorship_tag": "ABX9TyOgrAZwwn2+swcnsE6DmOdX",
      "include_colab_link": true
    },
    "kernelspec": {
      "name": "python3",
      "display_name": "Python 3"
    },
    "language_info": {
      "name": "python"
    },
    "accelerator": "GPU",
    "gpuClass": "standard"
  },
  "cells": [
    {
      "cell_type": "markdown",
      "metadata": {
        "id": "view-in-github",
        "colab_type": "text"
      },
      "source": [
        "<a href=\"https://colab.research.google.com/github/Kennedy87670/Introduction-to-ML-DP/blob/main/04_transfer_learning_in_tensorflow_part1_feature_extraction.ipynb\" target=\"_parent\"><img src=\"https://colab.research.google.com/assets/colab-badge.svg\" alt=\"Open In Colab\"/></a>"
      ]
    },
    {
      "cell_type": "markdown",
      "source": [
        "# Transfer learning with TensorFlow part 1: Feature Extraction\n",
        "\n",
        "Transfer learning is leaveraging a working model's existing architecture and learned patterns for our own problem\n",
        "\n",
        "There are two main benefits:\n",
        "1. Can leverage an existing neaural network architecture proven towork on problems similar to our own\n",
        "2. Can leverage a working neural network architecture which has already learned patterns on similar data to our own then we can adapt those patterns to our own"
      ],
      "metadata": {
        "id": "LKUfx-UuTpgl"
      }
    },
    {
      "cell_type": "code",
      "execution_count": 1,
      "metadata": {
        "colab": {
          "base_uri": "https://localhost:8080/"
        },
        "id": "HALz9RBZTkBj",
        "outputId": "5fa94500-400f-4989-c4cc-a1d730921b8a"
      },
      "outputs": [
        {
          "output_type": "stream",
          "name": "stdout",
          "text": [
            "Mon Jul 18 20:29:10 2022       \n",
            "+-----------------------------------------------------------------------------+\n",
            "| NVIDIA-SMI 460.32.03    Driver Version: 460.32.03    CUDA Version: 11.2     |\n",
            "|-------------------------------+----------------------+----------------------+\n",
            "| GPU  Name        Persistence-M| Bus-Id        Disp.A | Volatile Uncorr. ECC |\n",
            "| Fan  Temp  Perf  Pwr:Usage/Cap|         Memory-Usage | GPU-Util  Compute M. |\n",
            "|                               |                      |               MIG M. |\n",
            "|===============================+======================+======================|\n",
            "|   0  Tesla T4            Off  | 00000000:00:04.0 Off |                    0 |\n",
            "| N/A   51C    P8     9W /  70W |      0MiB / 15109MiB |      0%      Default |\n",
            "|                               |                      |                  N/A |\n",
            "+-------------------------------+----------------------+----------------------+\n",
            "                                                                               \n",
            "+-----------------------------------------------------------------------------+\n",
            "| Processes:                                                                  |\n",
            "|  GPU   GI   CI        PID   Type   Process name                  GPU Memory |\n",
            "|        ID   ID                                                   Usage      |\n",
            "|=============================================================================|\n",
            "|  No running processes found                                                 |\n",
            "+-----------------------------------------------------------------------------+\n"
          ]
        }
      ],
      "source": [
        "# are we using a gpu\n",
        "!nvidia-smi"
      ]
    },
    {
      "cell_type": "markdown",
      "source": [
        "## Downloading and becoming one with the data"
      ],
      "metadata": {
        "id": "qOPWxj_gUFqz"
      }
    },
    {
      "cell_type": "code",
      "source": [
        "# get data (10% of food classes from food101)\n",
        "import zipfile\n",
        "\n",
        "# download the data\n",
        "!wget https://storage.googleapis.com/ztm_tf_course/food_vision/10_food_classes_10_percent.zip\n",
        "#unzip the download file\n",
        "zip_ref = zipfile.ZipFile(\"10_food_classes_10_percent.zip\")\n",
        "zip_ref.extractall()\n",
        "zip_ref.close()"
      ],
      "metadata": {
        "colab": {
          "base_uri": "https://localhost:8080/"
        },
        "id": "gkhsB-tOUX14",
        "outputId": "bdd53629-8ecd-4a75-cf02-4322a8f5bad3"
      },
      "execution_count": 2,
      "outputs": [
        {
          "output_type": "stream",
          "name": "stdout",
          "text": [
            "--2022-07-18 20:29:11--  https://storage.googleapis.com/ztm_tf_course/food_vision/10_food_classes_10_percent.zip\n",
            "Resolving storage.googleapis.com (storage.googleapis.com)... 142.250.159.128, 142.251.120.128, 142.251.161.128, ...\n",
            "Connecting to storage.googleapis.com (storage.googleapis.com)|142.250.159.128|:443... connected.\n",
            "HTTP request sent, awaiting response... 200 OK\n",
            "Length: 168546183 (161M) [application/zip]\n",
            "Saving to: ‘10_food_classes_10_percent.zip’\n",
            "\n",
            "10_food_classes_10_ 100%[===================>] 160.74M   238MB/s    in 0.7s    \n",
            "\n",
            "2022-07-18 20:29:11 (238 MB/s) - ‘10_food_classes_10_percent.zip’ saved [168546183/168546183]\n",
            "\n"
          ]
        }
      ]
    },
    {
      "cell_type": "code",
      "source": [
        "# how many images in each folder\n",
        "import os\n",
        "\n",
        "# walk through 10 percent data directory and list number of files\n",
        "for dirpath, dirnames, filenames in os.walk(\"10_food_classes_10_percent\"):\n",
        "  print(f\"There are {len(dirnames)} directories and {len(filenames)} images in '{dirpath}'. \")"
      ],
      "metadata": {
        "colab": {
          "base_uri": "https://localhost:8080/"
        },
        "id": "gaOeTI5qcMh7",
        "outputId": "c152b5de-85fc-44f4-fd5e-444f819c0d42"
      },
      "execution_count": 3,
      "outputs": [
        {
          "output_type": "stream",
          "name": "stdout",
          "text": [
            "There are 2 directories and 0 images in '10_food_classes_10_percent'. \n",
            "There are 10 directories and 0 images in '10_food_classes_10_percent/test'. \n",
            "There are 0 directories and 250 images in '10_food_classes_10_percent/test/sushi'. \n",
            "There are 0 directories and 250 images in '10_food_classes_10_percent/test/chicken_wings'. \n",
            "There are 0 directories and 250 images in '10_food_classes_10_percent/test/steak'. \n",
            "There are 0 directories and 250 images in '10_food_classes_10_percent/test/grilled_salmon'. \n",
            "There are 0 directories and 250 images in '10_food_classes_10_percent/test/chicken_curry'. \n",
            "There are 0 directories and 250 images in '10_food_classes_10_percent/test/hamburger'. \n",
            "There are 0 directories and 250 images in '10_food_classes_10_percent/test/pizza'. \n",
            "There are 0 directories and 250 images in '10_food_classes_10_percent/test/ramen'. \n",
            "There are 0 directories and 250 images in '10_food_classes_10_percent/test/ice_cream'. \n",
            "There are 0 directories and 250 images in '10_food_classes_10_percent/test/fried_rice'. \n",
            "There are 10 directories and 0 images in '10_food_classes_10_percent/train'. \n",
            "There are 0 directories and 75 images in '10_food_classes_10_percent/train/sushi'. \n",
            "There are 0 directories and 75 images in '10_food_classes_10_percent/train/chicken_wings'. \n",
            "There are 0 directories and 75 images in '10_food_classes_10_percent/train/steak'. \n",
            "There are 0 directories and 75 images in '10_food_classes_10_percent/train/grilled_salmon'. \n",
            "There are 0 directories and 75 images in '10_food_classes_10_percent/train/chicken_curry'. \n",
            "There are 0 directories and 75 images in '10_food_classes_10_percent/train/hamburger'. \n",
            "There are 0 directories and 75 images in '10_food_classes_10_percent/train/pizza'. \n",
            "There are 0 directories and 75 images in '10_food_classes_10_percent/train/ramen'. \n",
            "There are 0 directories and 75 images in '10_food_classes_10_percent/train/ice_cream'. \n",
            "There are 0 directories and 75 images in '10_food_classes_10_percent/train/fried_rice'. \n"
          ]
        }
      ]
    },
    {
      "cell_type": "markdown",
      "source": [
        "## Create data loaders( preparing the data)\n",
        "we will use the ImageDataGenerator class to load inour images in batches."
      ],
      "metadata": {
        "id": "IUS_wyAveXsU"
      }
    },
    {
      "cell_type": "code",
      "source": [
        "# setup data inputs\n",
        "from tensorflow.keras.preprocessing.image import ImageDataGenerator\n",
        "\n",
        "IMAGE_SHAPE = (224, 224)\n",
        "BATCH_SIZE = 32\n",
        "EPOCHS= 5\n",
        "\n",
        "train_dir = \"10_food_classes_10_percent/train/\"\n",
        "test_dir = \"10_food_classes_10_percent/test/\"\n",
        "\n",
        "train_datagen = ImageDataGenerator(rescale=1/255.)\n",
        "test_datagen =ImageDataGenerator(rescale=1/255.)\n",
        "\n",
        "print(\"Training images:\")\n",
        "train_data_10_percent =train_datagen.flow_from_directory(train_dir,\n",
        "                                                         target_size =IMAGE_SHAPE,\n",
        "                                                         batch_size =BATCH_SIZE,\n",
        "                                                         class_mode =\"categorical\"\n",
        ")\n",
        "\n",
        "print(\"Testing images:\")\n",
        "test_data= test_datagen.flow_from_directory(test_dir,\n",
        "                                            target_size =IMAGE_SHAPE,\n",
        "                                            batch_size = BATCH_SIZE,\n",
        "                                            class_mode = \"categorical\"\n",
        "                                            )"
      ],
      "metadata": {
        "colab": {
          "base_uri": "https://localhost:8080/"
        },
        "id": "a3I2qS9id7Z1",
        "outputId": "54e78ab0-cb6a-43f4-cbff-8dffc10c5fdb"
      },
      "execution_count": 4,
      "outputs": [
        {
          "output_type": "stream",
          "name": "stdout",
          "text": [
            "Training images:\n",
            "Found 750 images belonging to 10 classes.\n",
            "Testing images:\n",
            "Found 2500 images belonging to 10 classes.\n"
          ]
        }
      ]
    },
    {
      "cell_type": "markdown",
      "source": [
        "## setting up callbacks (things to run whilst our model trains)\n",
        "\n",
        "callsbacks are extra functionality you can add to your models to be performed during or after training. some of the most popular callbacks:\n",
        "\n",
        "* Tracking experiments with the TensorBoard callback\n",
        "* Model checkpoint with the modelcheckpoint callback\n",
        "* stopping a model from training (before it trains too long and overfits) with the earlystopping callback"
      ],
      "metadata": {
        "id": "e0WwJrEShYFt"
      }
    },
    {
      "cell_type": "code",
      "source": [
        "# create tensorboard classback ( functionized because we need to create a new one for each model )\n",
        "import datetime\n",
        "\n",
        "def create_tensorboard_callback(dir_name, experiment_name):\n",
        "  log_dir = dir_name + \"/\" + experiment_name + \"/\" + datetime.datetime.now().strftime(\"%Y%m%d-%H%M%S\")\n",
        "  tensorboard_callback = tf.keras.callbacks.TensorBoard(log_dir=log_dir)\n",
        "  print(f\"Saving Tensorboard log.files to:{log_dir}\")\n",
        "  return tensorboard_callback\n"
      ],
      "metadata": {
        "id": "ZiYWXmexg_V6"
      },
      "execution_count": 5,
      "outputs": []
    },
    {
      "cell_type": "markdown",
      "source": [
        "# creating models using tensorflow hub\n",
        "\n",
        "In the past we have used Tensorflow to create our own models layer by layer from scratch\n",
        "\n",
        "Now we are going to do a similar process, except the majority of our model\"s layers are going to come from tensorflow hub.\n",
        "\n",
        "We can access pretrained models on:https://tfhub.dev/\n",
        "\n",
        "BROWING THE tENSORFLOW hUB PAGE AND SORTING for images classification, we found the following feature vector model link: https://tfhub.dev/google/imagenet/resnet_v1_50/feature_vector/5"
      ],
      "metadata": {
        "id": "bULH6hmcnklQ"
      }
    },
    {
      "cell_type": "code",
      "source": [
        "# lets compare the following two models\n",
        "resnet_url = \"https://tfhub.dev/google/imagenet/resnet_v2_50/feature_vector/5\"\n",
        "\n",
        "efficientnet_url = \"https://tfhub.dev/tensorflow/efficientnet/b0/feature-vector/1\""
      ],
      "metadata": {
        "id": "W4U9DiOGou4c"
      },
      "execution_count": 6,
      "outputs": []
    },
    {
      "cell_type": "code",
      "source": [
        "# Import dependencies\n",
        "import tensorflow as tf\n",
        "import tensorflow_hub as hub\n",
        "from tensorflow.keras import layers"
      ],
      "metadata": {
        "id": "7bfXhTU0yAXD"
      },
      "execution_count": 7,
      "outputs": []
    },
    {
      "cell_type": "code",
      "source": [
        "# lets make a create model() function to create a model from a url\n",
        "def create_model(model_url, num_classes = 10):\n",
        "  \"\"\"\n",
        "  Takes a TensorFlow Hub url and creates a keras Sequential model with it.\n",
        "\n",
        "  Args:\n",
        "    model_url (str): A tensorflow Hub feature extraction URL\n",
        "    numb_classes(int): Number of output neurons in the output layer,\n",
        "             should be equal to number of target classes, default 10.\n",
        "  Returns: \n",
        "  An uncompiled Keras Sequential model with model_url as feature extractor\n",
        "  layer and dense output layer with num_classes output neurons.\n",
        "  \"\"\"\n",
        "  # download thepretarained model and save it as a keras layer\n",
        "  feature_extractor_layer = hub.KerasLayer(model_url,\n",
        "                                           trainable =False,# freeze the already learned patterns\n",
        "                                           name =\"feature_extraction_layer\",\n",
        "                                           input_shape = IMAGE_SHAPE+(3,))\n",
        "  \n",
        "  # Create our own model\n",
        "  model = tf.keras.Sequential([\n",
        "                               feature_extractor_layer,\n",
        "                               layers.Dense(num_classes, activation = \"softmax\", name = \"output_layer\")\n",
        "\n",
        "  ]\n",
        "  )\n",
        "\n",
        "  return model"
      ],
      "metadata": {
        "id": "gg1YIgfnyaI9"
      },
      "execution_count": 8,
      "outputs": []
    },
    {
      "cell_type": "markdown",
      "source": [
        "# Creating and testing ResNet TensorFlow Hub feature extraction model "
      ],
      "metadata": {
        "id": "3foI3O703WPK"
      }
    },
    {
      "cell_type": "code",
      "source": [
        "# create a ResNet model\n",
        "resnet_model = create_model(resnet_url, \n",
        "                            num_classes = train_data_10_percent.num_classes)"
      ],
      "metadata": {
        "id": "p2NX5Fk83wCi"
      },
      "execution_count": 9,
      "outputs": []
    },
    {
      "cell_type": "code",
      "source": [
        "# compile our resnet model\n",
        "resnet_model.compile(loss=\"categorical_crossentropy\",\n",
        "                     optimizer = tf.keras.optimizers.Adam(),\n",
        "                     metrics= [\"accuracy\"])"
      ],
      "metadata": {
        "id": "iyNRgou-5oYj"
      },
      "execution_count": 10,
      "outputs": []
    },
    {
      "cell_type": "code",
      "source": [
        "# fit our reset model to our data (10 percent of classes)\n",
        "resent_history = resnet_model.fit(train_data_10_percent,\n",
        "                                  epochs = 5 ,\n",
        "                                  steps_per_epoch = len(train_data_10_percent),\n",
        "                                  validation_data = test_data,\n",
        "                                  validation_steps= len(test_data),\n",
        "                                  callbacks = [create_tensorboard_callback(dir_name=\"tensorflow_hub\",\n",
        "                                                                            experiment_name = \"resnet50V2\" )]\n",
        "                                  )"
      ],
      "metadata": {
        "colab": {
          "base_uri": "https://localhost:8080/"
        },
        "id": "b-pRnsSs65Is",
        "outputId": "18f05f27-ef2c-45b9-b930-9889e7ec9ec3"
      },
      "execution_count": 11,
      "outputs": [
        {
          "output_type": "stream",
          "name": "stdout",
          "text": [
            "Saving Tensorboard log.files to:tensorflow_hub/resnet50V2/20220718-202927\n",
            "Epoch 1/5\n",
            "24/24 [==============================] - 32s 756ms/step - loss: 1.9568 - accuracy: 0.3507 - val_loss: 1.2290 - val_accuracy: 0.5992\n",
            "Epoch 2/5\n",
            "24/24 [==============================] - 16s 684ms/step - loss: 0.8874 - accuracy: 0.7547 - val_loss: 0.8482 - val_accuracy: 0.7236\n",
            "Epoch 3/5\n",
            "24/24 [==============================] - 24s 1s/step - loss: 0.6148 - accuracy: 0.8400 - val_loss: 0.7288 - val_accuracy: 0.7660\n",
            "Epoch 4/5\n",
            "24/24 [==============================] - 16s 674ms/step - loss: 0.4750 - accuracy: 0.8813 - val_loss: 0.7104 - val_accuracy: 0.7644\n",
            "Epoch 5/5\n",
            "24/24 [==============================] - 16s 676ms/step - loss: 0.3801 - accuracy: 0.9107 - val_loss: 0.6692 - val_accuracy: 0.7776\n"
          ]
        }
      ]
    },
    {
      "cell_type": "code",
      "source": [
        "resnet_model.summary()"
      ],
      "metadata": {
        "colab": {
          "base_uri": "https://localhost:8080/"
        },
        "id": "BeRDSZjI4MGf",
        "outputId": "25245cc3-a8be-4da6-a347-310f38ca8ae7"
      },
      "execution_count": 12,
      "outputs": [
        {
          "output_type": "stream",
          "name": "stdout",
          "text": [
            "Model: \"sequential\"\n",
            "_________________________________________________________________\n",
            " Layer (type)                Output Shape              Param #   \n",
            "=================================================================\n",
            " feature_extraction_layer (K  (None, 2048)             23564800  \n",
            " erasLayer)                                                      \n",
            "                                                                 \n",
            " output_layer (Dense)        (None, 10)                20490     \n",
            "                                                                 \n",
            "=================================================================\n",
            "Total params: 23,585,290\n",
            "Trainable params: 20,490\n",
            "Non-trainable params: 23,564,800\n",
            "_________________________________________________________________\n"
          ]
        }
      ]
    },
    {
      "cell_type": "markdown",
      "source": [
        "wow \n",
        "that is incredible. our transfer learning feature extractor model out performed all of the previous models we built by hand... (substantially) and in a quicker training time and with only 10% of the training examples"
      ],
      "metadata": {
        "id": "YDX9JIJIAQDY"
      }
    },
    {
      "cell_type": "code",
      "source": [
        "# lets create our function to plot our loss curves\n",
        "\n",
        "#Tibit: you could put a function like this into a script called \"helper.py\" and import it when you need it\n",
        "import matplotlib.pyplot as plt\n",
        "\n",
        "# plot the validation and training curves seperately\n",
        "def plot_loss_curves(history):\n",
        "  \"\"\"\n",
        "  Returns seperate loss curves for training and validation metrics.\n",
        "\n",
        "  Args:\n",
        "    history: Tensorflow history object\n",
        "\n",
        "  returns:\n",
        "     plots of training/validation loss and accuracy metrics\n",
        "  \"\"\"\n",
        "  loss = history.history[\"loss\"]\n",
        "  val_loss= history.history[\"val_loss\"]\n",
        "  accuracy = history.history[\"accuracy\"]\n",
        "  val_accuracy = history.history[\"val_accuracy\"]\n",
        "  epochs = range(len(history.history[\"loss\"])) # how many epochs did we run for?\n",
        "\n",
        "  #plot loss\n",
        "  plt.plot(epochs, loss, label=\"training_loss\")\n",
        "  plt.plot(epochs, val_loss, label=\"val_loss\")\n",
        "  plt.title(\"loss\")\n",
        "  plt.xlabel(\"epochs\")\n",
        "  plt.legend()\n",
        "\n",
        "  #plot accuracy\n",
        "  plt.figure()\n",
        "  plt.plot(epochs, accuracy, label=\"training_accuracy\")\n",
        "  plt.plot(epochs, val_accuracy, label=\"val_accuracy\")\n",
        "  plt.title(\"accuracy\")\n",
        "  plt.xlabel(\"epochs\")\n",
        "  plt.legend();"
      ],
      "metadata": {
        "id": "IlulNI4s5Pxh"
      },
      "execution_count": 13,
      "outputs": []
    },
    {
      "cell_type": "code",
      "source": [
        "plot_loss_curves(resent_history)"
      ],
      "metadata": {
        "colab": {
          "base_uri": "https://localhost:8080/",
          "height": 573
        },
        "id": "XzP6cVLxF6Pm",
        "outputId": "6eacddaf-3efd-49a6-bddb-c02370340e72"
      },
      "execution_count": 14,
      "outputs": [
        {
          "output_type": "display_data",
          "data": {
            "text/plain": [
              "<Figure size 432x288 with 1 Axes>"
            ],
            "image/png": "[encoded data removed]"
          },
          "metadata": {
            "needs_background": "light"
          }
        },
        {
          "output_type": "display_data",
          "data": {
            "text/plain": [
              "<Figure size 432x288 with 1 Axes>"
            ],
            "image/png": "[encoded data removed]"
          },
          "metadata": {
            "needs_background": "light"
          }
        }
      ]
    },
    {
      "cell_type": "markdown",
      "source": [
        "# Creating and testing EfficientNetBO TensorFlow Hub feature extraction model "
      ],
      "metadata": {
        "id": "bofLtFS6GnXy"
      }
    },
    {
      "cell_type": "code",
      "source": [
        "# create a efficient model\n",
        "efficientnet_model = create_model(efficientnet_url, \n",
        "                            num_classes = train_data_10_percent.num_classes)"
      ],
      "metadata": {
        "id": "Y09icJ52GALr"
      },
      "execution_count": 15,
      "outputs": []
    },
    {
      "cell_type": "code",
      "source": [
        "# compile our EfficientNet model\n",
        "efficientnet_model.compile(loss=\"categorical_crossentropy\",\n",
        "                     optimizer = tf.keras.optimizers.Adam(),\n",
        "                     metrics= [\"accuracy\"])"
      ],
      "metadata": {
        "id": "JVix1bppG_sl"
      },
      "execution_count": 16,
      "outputs": []
    },
    {
      "cell_type": "code",
      "source": [
        "# fit our reset model to our data (10 percent of classes)\n",
        "efficientnet_history = efficientnet_model.fit(train_data_10_percent,\n",
        "                                  epochs = 5 ,\n",
        "                                  steps_per_epoch = len(train_data_10_percent),\n",
        "                                  validation_data = test_data,\n",
        "                                  validation_steps= len(test_data),\n",
        "                                  callbacks = [create_tensorboard_callback(dir_name=\"tensorflow_hub\",\n",
        "                                                                            experiment_name = \"EfficientNetB0\" )])"
      ],
      "metadata": {
        "colab": {
          "base_uri": "https://localhost:8080/"
        },
        "id": "_aUJNmpoHLcg",
        "outputId": "4336a6ce-8833-477d-c67e-d6e38a97a3af"
      },
      "execution_count": 17,
      "outputs": [
        {
          "output_type": "stream",
          "name": "stdout",
          "text": [
            "Saving Tensorboard log.files to:tensorflow_hub/EfficientNetB0/20220718-203126\n",
            "Epoch 1/5\n",
            "24/24 [==============================] - 25s 712ms/step - loss: 1.8251 - accuracy: 0.4707 - val_loss: 1.2863 - val_accuracy: 0.7288\n",
            "Epoch 2/5\n",
            "24/24 [==============================] - 15s 650ms/step - loss: 1.0444 - accuracy: 0.7987 - val_loss: 0.8549 - val_accuracy: 0.8148\n",
            "Epoch 3/5\n",
            "24/24 [==============================] - 16s 674ms/step - loss: 0.7429 - accuracy: 0.8520 - val_loss: 0.6904 - val_accuracy: 0.8388\n",
            "Epoch 4/5\n",
            "24/24 [==============================] - 15s 648ms/step - loss: 0.5986 - accuracy: 0.8747 - val_loss: 0.6062 - val_accuracy: 0.8504\n",
            "Epoch 5/5\n",
            "24/24 [==============================] - 15s 640ms/step - loss: 0.5071 - accuracy: 0.8907 - val_loss: 0.5551 - val_accuracy: 0.8560\n"
          ]
        }
      ]
    },
    {
      "cell_type": "code",
      "source": [
        "efficientnet_model.summary()"
      ],
      "metadata": {
        "colab": {
          "base_uri": "https://localhost:8080/"
        },
        "id": "LG0zmnLPHgz0",
        "outputId": "cda147a0-8684-4690-ad0e-ef896e70c89e"
      },
      "execution_count": 18,
      "outputs": [
        {
          "output_type": "stream",
          "name": "stdout",
          "text": [
            "Model: \"sequential_1\"\n",
            "_________________________________________________________________\n",
            " Layer (type)                Output Shape              Param #   \n",
            "=================================================================\n",
            " feature_extraction_layer (K  (None, 1280)             4049564   \n",
            " erasLayer)                                                      \n",
            "                                                                 \n",
            " output_layer (Dense)        (None, 10)                12810     \n",
            "                                                                 \n",
            "=================================================================\n",
            "Total params: 4,062,374\n",
            "Trainable params: 12,810\n",
            "Non-trainable params: 4,049,564\n",
            "_________________________________________________________________\n"
          ]
        }
      ]
    },
    {
      "cell_type": "code",
      "source": [
        "plot_loss_curves(efficientnet_history)"
      ],
      "metadata": {
        "colab": {
          "base_uri": "https://localhost:8080/",
          "height": 573
        },
        "id": "_NISNAG9IlGW",
        "outputId": "2dd3858e-efe1-4857-f54c-1fde342fd7a3"
      },
      "execution_count": 19,
      "outputs": [
        {
          "output_type": "display_data",
          "data": {
            "text/plain": [
              "<Figure size 432x288 with 1 Axes>"
            ],
            "image/png": "[encoded data removed]"
          },
          "metadata": {
            "needs_background": "light"
          }
        },
        {
          "output_type": "display_data",
          "data": {
            "text/plain": [
              "<Figure size 432x288 with 1 Axes>"
            ],
            "image/png": "[encoded data removed]"
          },
          "metadata": {
            "needs_background": "light"
          }
        }
      ]
    },
    {
      "cell_type": "code",
      "source": [
        "# how many layers does our efficientnet b0 feature extractor have?\n",
        "len(efficientnet_model.layers[0].weights)"
      ],
      "metadata": {
        "colab": {
          "base_uri": "https://localhost:8080/"
        },
        "id": "zyAu_F4eLLHB",
        "outputId": "7e8a4fee-fff3-4161-a464-dd00e4146817"
      },
      "execution_count": 20,
      "outputs": [
        {
          "output_type": "execute_result",
          "data": {
            "text/plain": [
              "309"
            ]
          },
          "metadata": {},
          "execution_count": 20
        }
      ]
    },
    {
      "cell_type": "markdown",
      "source": [
        "## Different type of transfer learning\n",
        "\n",
        "* \"As is\" transfer learning - using an existing model with no changes whatsoever (e.g using ImageNet model on 1000 ImageNet classes, none of your own)\n",
        "* \"Feature extraction \" transfer learning- use the prelearned patterns of an existing model (eg. EfficientNetB0trained on ImageNet) and adjust the output layer for your own problem (rg. 1000 classes -> 10 classes of food)\n",
        "* \"Fine Tuning transfer learning - use the prelearned patterns of an existing model and \"fine-tune\" many or all of the underlying layers (including new output layers)"
      ],
      "metadata": {
        "id": "b8iUGPYOI_sq"
      }
    },
    {
      "cell_type": "markdown",
      "source": [
        "#comparing our models result using tensorbard\n"
      ],
      "metadata": {
        "id": "xX-A_LRWMWKj"
      }
    },
    {
      "cell_type": "code",
      "source": [
        "# upload Tensor board  dev records\n",
        "# !tensorboard dev upload --logdir ./tensorflow_hub/ \\\n",
        "#   --name \"EfficientNetB0 vs ResNet50V2\" \\\n",
        "#   --description \"comparing two differnt TF Hub featureextraction model archietecture using 10% of the training data\"\\\n",
        "#   --one_shot"
      ],
      "metadata": {
        "id": "YTRCv8QtMgcR"
      },
      "execution_count": null,
      "outputs": []
    },
    {
      "cell_type": "markdown",
      "source": [
        "Our TensorBoard experiment are uploaded publically here: https://tensorboard.dev/experiment/3mH7NOgdQxK9lVouK8y2LQ/"
      ],
      "metadata": {
        "id": "p_vSr0pkP9zb"
      }
    },
    {
      "cell_type": "code",
      "source": [
        "# check out what tensorboard experiments you have\n",
        "!tensorboard dev list"
      ],
      "metadata": {
        "id": "OmPzSM4sPO5M",
        "colab": {
          "base_uri": "https://localhost:8080/"
        },
        "outputId": "e847da0e-a730-4e67-df51-305a64c2b138"
      },
      "execution_count": 22,
      "outputs": [
        {
          "output_type": "stream",
          "name": "stdout",
          "text": [
            "https://tensorboard.dev/experiment/R2UNkfxwTJG6VQa70uLWmw/\n",
            "\tName                 EfficientNetB0 vs ResNet50V2\n",
            "\tDescription          comparing two differnt TF Hub featureextraction model archietecture using 10% of the training data\n",
            "\tId                   R2UNkfxwTJG6VQa70uLWmw\n",
            "\tCreated              2022-07-18 20:33:46 (14 seconds ago)\n",
            "\tUpdated              2022-07-18 20:33:48 (12 seconds ago)\n",
            "\tRuns                 4\n",
            "\tTags                 5\n",
            "\tScalars              60\n",
            "\tTensor bytes         0\n",
            "\tBinary object bytes  5794963\n",
            "https://tensorboard.dev/experiment/3mH7NOgdQxK9lVouK8y2LQ/\n",
            "\tName                 EfficientNetB0 vs ResNet50V2\n",
            "\tDescription          comparing two differnt TF Hub featureextraction model archietecture using 10% of the training data\n",
            "\tId                   3mH7NOgdQxK9lVouK8y2LQ\n",
            "\tCreated              2022-07-17 22:20:09 (22 hours ago)\n",
            "\tUpdated              2022-07-17 22:20:14 (22 hours ago)\n",
            "\tRuns                 4\n",
            "\tTags                 5\n",
            "\tScalars              60\n",
            "\tTensor bytes         0\n",
            "\tBinary object bytes  5798449\n",
            "Total: 2 experiment(s)\n"
          ]
        }
      ]
    },
    {
      "cell_type": "code",
      "source": [
        "# delete anexperiment\n",
        "# !tensorboard dev delete --experiment_id"
      ],
      "metadata": {
        "id": "Ru_jQsPfQw-4"
      },
      "execution_count": 23,
      "outputs": []
    }
  ]
}